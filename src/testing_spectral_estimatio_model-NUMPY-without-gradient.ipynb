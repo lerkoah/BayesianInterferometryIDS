{
 "cells": [
  {
   "cell_type": "code",
   "execution_count": 1,
   "metadata": {
    "collapsed": true
   },
   "outputs": [],
   "source": [
    "import numpy as np\n",
    "import scipy.io as sio\n",
    "\n",
    "import matplotlib.pyplot as plt\n",
    "# from modelfunctions import *\n",
    "%matplotlib inline"
   ]
  },
  {
   "cell_type": "markdown",
   "metadata": {},
   "source": [
    "# Obtaining Data"
   ]
  },
  {
   "cell_type": "code",
   "execution_count": 2,
   "metadata": {
    "collapsed": true
   },
   "outputs": [],
   "source": [
    "control = 0 # 0: sinthetic; 1: real\n",
    "mycmap = 'seismic'\n",
    "np.random.seed(51)"
   ]
  },
  {
   "cell_type": "code",
   "execution_count": 3,
   "metadata": {
    "collapsed": true
   },
   "outputs": [],
   "source": [
    "def show_fft_image(img_fft, shift = True, save = False , name = 'my_name.png'):\n",
    "    \n",
    "    img_fftabs = img_fft\n",
    "    if type(img_fft[0,0]) == np.complex128:\n",
    "        img_fftabs = np.abs(img_fft)\n",
    "    \n",
    "    if shift:\n",
    "        img_fftabs = np.fft.fftshift(img_fftabs)\n",
    "    plt.imshow(img_fftabs, cmap=mycmap)\n",
    "    plt.grid('off')\n",
    "    \n",
    "    if save:\n",
    "        plt.savefig(name, format= 'png')"
   ]
  },
  {
   "cell_type": "code",
   "execution_count": 4,
   "metadata": {
    "collapsed": true
   },
   "outputs": [],
   "source": [
    "def phi(U,a,b,c,e,f):\n",
    "    try:\n",
    "        u = U[:,0]\n",
    "        v = U[:,1]\n",
    "    except IndexError:\n",
    "        u = U[0]\n",
    "        v = U[1]\n",
    "    return np.exp(2*np.pi**2*(a*v**2 + b*u**2 - c*u*v)/(4.*a*b-c**2) -2*np.pi*1j*(f*v+e*u))\n",
    "\n",
    "def psi(x,y, a, b, c, e, f):\n",
    "    invSigma = np.array([[-2.0*a,-c],[-c, -2.0*b]]).reshape(2,2)\n",
    "#     print(invSigma)\n",
    "    \n",
    "    if not isinstance(x,np.ndarray):\n",
    "        xx = np.array([x-e,y-f])\n",
    "    else:\n",
    "        xx = np.stack([x-e,y-f], axis = 1).T\n",
    "    \n",
    "    return np.exp(-xx.T.dot(invSigma).dot(xx))"
   ]
  },
  {
   "cell_type": "code",
   "execution_count": 5,
   "metadata": {},
   "outputs": [
    {
     "data": {
      "image/png": "iVBORw0KGgoAAAANSUhEUgAAAWIAAAEYCAYAAABm5fzdAAAABHNCSVQICAgIfAhkiAAAAAlwSFlz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\ncyA2M6uZA7GZWc0ciM3MauZAbGZWs/8Pzg5Hzw+IsEIAAAAASUVORK5CYII=\n",
      "text/plain": [
<<<<<<< HEAD
       "<matplotlib.figure.Figure at 0x7f49ce2810f0>"
=======
       "<matplotlib.figure.Figure at 0x7faf452d3b38>"
>>>>>>> 4b93a6aa1c938018a65db675609718c14664bb75
      ]
     },
     "metadata": {},
     "output_type": "display_data"
    }
   ],
   "source": [
    "if control:\n",
    "    path = '/home/lerko/Dataset_ALMA'\n",
    "    fileName = 'Dataset_ALMA_11_07_17.mat'\n",
    "    fullPath = path +'/' + fileName\n",
    "    data = sio.loadmat(fullPath)\n",
    "    imageName = 'name_HLTau'\n",
    "    img = data['Dataset'][imageName][0,0]['size_128x128'][0,0]\n",
    "    IMAGE_SIZE_X, IMAGE_SIZE_Y = img.shape\n",
    "    x = np.arange(IMAGE_SIZE_X)\n",
    "    y = np.arange(IMAGE_SIZE_Y)\n",
    "    \n",
    "    print(data['Dataset'].dtype)\n",
    "elif not control:\n",
    "    x = np.arange(50)\n",
    "    y = np.arange(50)\n",
    "    \n",
    "    s1 = np.array([20,10])\n",
    "    s2 = np.array([20,10])\n",
    "    s12 = np.array([10,-5])\n",
    "\n",
    "    a = -0.5*s2/(s1*s2-s12**2)\n",
    "    b = -0.5*s1/(s1*s2-s12**2)\n",
    "    c = s12/(s1*s2-s12**2)\n",
    "#     invSigma = np.array([[-2.*a,-c],[-c, -2.*b]])\n",
    "#     print(np.linalg.inv(invSigma))\n",
    "\n",
    "    e = np.array([50,40])/2\n",
    "    f = np.array([40,60])/2\n",
    "    numberOfBasis = e.shape[0]\n",
    "    img = np.zeros((x.shape[0],y.shape[0]))\n",
    "\n",
    "    for i in range(x.shape[0]):\n",
    "        for j in range(y.shape[0]):\n",
    "            for k in range(numberOfBasis):\n",
    "                img[i,j] = img[i,j] + psi(x[i],y[j],a[k],b[k],c[k],e[k],f[k])\n",
    "    IMAGE_SIZE_X, IMAGE_SIZE_Y = img.shape\n",
    "\n",
    "plt.imshow(0.00058*img/np.max(img), cmap=mycmap)\n",
    "plt.colorbar()\n",
    "plt.tight_layout()\n",
    "# plt.savefig('{}.png'.format(imageName), format='png')"
   ]
  },
  {
   "cell_type": "code",
   "execution_count": 6,
   "metadata": {},
   "outputs": [
    {
     "data": {
      "text/plain": [
<<<<<<< HEAD
       "<matplotlib.colorbar.Colorbar at 0x7f49cc193e10>"
=======
       "<matplotlib.colorbar.Colorbar at 0x7faf3d355898>"
>>>>>>> 4b93a6aa1c938018a65db675609718c14664bb75
      ]
     },
     "execution_count": 6,
     "metadata": {},
     "output_type": "execute_result"
    },
    {
     "data": {
      "image/png": "iVBORw0KGgoAAAANSUhEUgAAATMAAAD8CAYAAAAbkUOLAAAABHNCSVQICAgIfAhkiAAAAAlwSFlz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\nRU5ErkJggg==\n",
      "text/plain": [
<<<<<<< HEAD
       "<matplotlib.figure.Figure at 0x7f49ce273b00>"
=======
       "<matplotlib.figure.Figure at 0x7faf452b5208>"
>>>>>>> 4b93a6aa1c938018a65db675609718c14664bb75
      ]
     },
     "metadata": {},
     "output_type": "display_data"
    }
   ],
   "source": [
    "# Calculate the spectrum\n",
    "img_fft= np.fft.fft2(img)\n",
    "FTgshift = np.fft.fftshift(img_fft)\n",
    "\n",
    "plt.imshow(np.log(np.abs(FTgshift)), cmap=mycmap)\n",
    "plt.colorbar()"
   ]
  },
  {
   "cell_type": "markdown",
   "metadata": {},
   "source": [
    "## Creating sampling mask"
   ]
  },
  {
   "cell_type": "markdown",
   "metadata": {},
   "source": [
    "For creating the sampling mask, we have made a u,v representations based on the antennas disposition. This is because, if the antennas disposition is random, the measures are not completely random. The Measurements positions are defined by the interferometry physics."
   ]
  },
  {
   "cell_type": "code",
   "execution_count": 7,
   "metadata": {},
   "outputs": [
    {
     "data": {
      "image/png": "iVBORw0KGgoAAAANSUhEUgAAAP4AAAD8CAYAAABXXhlaAAAABHNCSVQICAgIfAhkiAAAAAlwSFlz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\nnPhmFXLim1XIiW9WISe+WYX+H+yu5PE49A6bAAAAAElFTkSuQmCC\n",
      "text/plain": [
<<<<<<< HEAD
       "<matplotlib.figure.Figure at 0x7f49cbfeb5c0>"
=======
       "<matplotlib.figure.Figure at 0x7faf452b56d8>"
>>>>>>> 4b93a6aa1c938018a65db675609718c14664bb75
      ]
     },
     "metadata": {},
     "output_type": "display_data"
    }
   ],
   "source": [
    "from masking import *\n",
    "\n",
    "## Parameters\n",
    "B_max = 1\n",
    "antennas = 30\n",
    "typeArray = 'URA'\n",
    "sigma = B_max/6.0\n",
    "\n",
    "lambda_phy=3*10**(-6); #(km)\n",
    "H0=10; #(deg)\n",
    "delta0=-30; #(deg)\n",
    "Lat=34.05;  #(deg) Lat VLA\n",
    "\n",
    "## Masking function returns the mask\n",
    "mask = createSpectrumMasking(B_max,antennas,typeArray,sigma, lambda_phy, H0, delta0, Lat, N1 = IMAGE_SIZE_X, N2 = IMAGE_SIZE_Y)\n",
    "show_fft_image(mask)"
   ]
  },
  {
   "cell_type": "markdown",
   "metadata": {},
   "source": [
    "## Sampling"
   ]
  },
  {
   "cell_type": "markdown",
   "metadata": {},
   "source": [
    "Variable measurements are the 2D representation for the measurements. U are the positions in the u,v spaces, i.e., U[0] = u, U[1] = v. Finally, V is the visibility function."
   ]
  },
  {
   "cell_type": "code",
   "execution_count": 8,
   "metadata": {},
   "outputs": [
    {
     "name": "stdout",
     "output_type": "stream",
     "text": [
      "Percentage of measurements: 26.36\n"
     ]
    },
    {
     "data": {
      "image/png": "iVBORw0KGgoAAAANSUhEUgAAAP4AAAD8CAYAAABXXhlaAAAABHNCSVQICAgIfAhkiAAAAAlwSFlz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\n",
      "text/plain": [
<<<<<<< HEAD
       "<matplotlib.figure.Figure at 0x7f49cbfac438>"
=======
       "<matplotlib.figure.Figure at 0x7faf3d33b5f8>"
>>>>>>> 4b93a6aa1c938018a65db675609718c14664bb75
      ]
     },
     "metadata": {},
     "output_type": "display_data"
    }
   ],
   "source": [
    "measurements,Uobs,Vobs = UVCreator(img_fft,mask)\n",
    "\n",
    "measurements_abs = np.log(np.abs(measurements)+1e-12)\n",
    "show_fft_image(measurements_abs)\n",
    "\n",
<<<<<<< HEAD
    "percent = 100*Uobs.shape[0]/(measurements.shape[0]*measurements.shape[1]) \n",
    "print('Percentage of measurements: %s' % percent)"
=======
    "samplingPercent = 100*Uobs.shape[0]/(measurements.shape[0]*measurements.shape[1]) \n",
    "print('Percentage of measurements: %s' % p)"
>>>>>>> 4b93a6aa1c938018a65db675609718c14664bb75
   ]
  },
  {
   "cell_type": "code",
   "execution_count": 9,
   "metadata": {},
   "outputs": [
    {
     "name": "stdout",
     "output_type": "stream",
     "text": [
      "Getting indexes (u,v)->i..done.\n"
     ]
    }
   ],
   "source": [
    "print('Getting indexes (u,v)->i..', end='')\n",
    "mask_vect = mask.reshape(-1)\n",
    "mask_vect_index = np.where(mask_vect == 1)[0]\n",
    "mask_vect_index2 = np.concatenate([mask_vect_index, mask_vect_index])\n",
    "print('done.')"
   ]
  },
  {
   "cell_type": "code",
   "execution_count": 10,
   "metadata": {},
   "outputs": [
    {
     "name": "stdout",
     "output_type": "stream",
     "text": [
      "H shape: (2500, 659)\n",
      "Check sanity: True\n"
     ]
    }
   ],
   "source": [
    "# Sampling Matrix\n",
    "\n",
    "H = np.zeros((mask_vect_index.shape[0], IMAGE_SIZE_X*IMAGE_SIZE_Y))\n",
    "# print(mask_vect)\n",
    "\n",
    "p = 0\n",
    "for q in range(H.shape[1]):\n",
    "    if mask_vect[q] == 1:\n",
    "        H[p,q] = 1\n",
    "        p += 1\n",
    "#         print(p,q)\n",
    "# print(H)\n",
    "H = H.T\n",
    "print('H shape: {}'.format(H.shape))\n",
    "print('Check sanity: {}'.format((np.matmul(H.T,np.arange(2500)) - mask_vect_index).sum() == 0))"
   ]
  },
  {
   "cell_type": "markdown",
   "metadata": {},
   "source": [
    "# Model"
   ]
  },
  {
   "cell_type": "markdown",
   "metadata": {},
   "source": [
    "### Fourier Matrix"
   ]
  },
  {
   "cell_type": "code",
   "execution_count": 11,
   "metadata": {},
   "outputs": [
    {
     "name": "stdout",
     "output_type": "stream",
     "text": [
      "Krockener product shape: (2500, 2500)\n"
     ]
    }
   ],
   "source": [
    "import numpy as np\n",
    "def DFT_matrix(N):\n",
    "    i, j = np.meshgrid(np.arange(N), np.arange(N))\n",
    "    omega = np.exp( -2 * np.pi * 1J / N )\n",
    "    W = np.power( omega, i * j ) / np.sqrt(N)\n",
    "    return W\n",
    "\n",
    "Wizq = DFT_matrix(IMAGE_SIZE_X)\n",
    "Wder = DFT_matrix(IMAGE_SIZE_Y)\n",
    "W = np.kron(Wder.T,Wizq).T\n",
    "print('Krockener product shape: {}'.format(W.shape))"
   ]
  },
  {
   "cell_type": "code",
   "execution_count": 12,
   "metadata": {
    "collapsed": true
   },
   "outputs": [],
   "source": [
    "# plt.imshow(Kron.real)\n",
    "# plt.colorbar()"
   ]
  },
  {
   "cell_type": "code",
   "execution_count": 13,
   "metadata": {
    "collapsed": true
   },
   "outputs": [],
   "source": [
    "# plt.imshow(W.real*W.real.T)\n",
    "# plt.colorbar()"
   ]
  },
  {
   "cell_type": "code",
   "execution_count": 14,
   "metadata": {
    "collapsed": true
   },
   "outputs": [],
   "source": [
    "# plt.imshow(Kron.imag)\n",
    "# plt.colorbar()"
   ]
  },
  {
   "cell_type": "code",
   "execution_count": 15,
   "metadata": {
    "collapsed": true
   },
   "outputs": [],
   "source": [
    "# plt.imshow(np.abs(Kron))\n",
    "# plt.colorbar()"
   ]
  },
  {
   "cell_type": "code",
   "execution_count": 16,
   "metadata": {},
   "outputs": [
    {
     "name": "stdout",
     "output_type": "stream",
     "text": [
      "Separanting real and imaginary part...done.\n"
     ]
    }
   ],
   "source": [
    "print('Separanting real and imaginary part...', end='')\n",
    "Vrobs = Vobs[:,0]\n",
    "Viobs = Vobs[:,1]\n",
    "Vobs_concat = Vobs.reshape(-1, order='F')\n",
    "print('done.')"
   ]
  },
  {
   "cell_type": "code",
   "execution_count": 17,
   "metadata": {},
   "outputs": [
    {
     "name": "stdout",
     "output_type": "stream",
     "text": [
      "C shape: (2500, 5000)\n",
      "V concat shape: (5000, 1)\n"
     ]
    }
   ],
   "source": [
    "C = np.concatenate([np.eye(W.shape[0]), 1j*np.eye(W.shape[0])], axis=1)\n",
    "print('C shape: {}'.format(C.shape))\n",
    "V_concat = np.concatenate([img_fft.real.reshape(-1), img_fft.imag.reshape(-1)])[:,np.newaxis]\n",
    "print('V concat shape: {}'.format(V_concat.shape))\n",
    "W_new = np.matmul(W,C).real\n",
    "I_concat = np.matmul(W_new,V_concat)"
   ]
  },
  {
   "cell_type": "code",
   "execution_count": 18,
   "metadata": {},
   "outputs": [
    {
     "data": {
      "text/plain": [
<<<<<<< HEAD
       "<matplotlib.image.AxesImage at 0x7f49ad511160>"
=======
       "<matplotlib.image.AxesImage at 0x7faf4526a6d8>"
>>>>>>> 4b93a6aa1c938018a65db675609718c14664bb75
      ]
     },
     "execution_count": 18,
     "metadata": {},
     "output_type": "execute_result"
    },
    {
     "data": {
      "image/png": "iVBORw0KGgoAAAANSUhEUgAAAP4AAAD8CAYAAABXXhlaAAAABHNCSVQICAgIfAhkiAAAAAlwSFlz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\nHHyzAjn4ZgX6f7XQWAWNVttlAAAAAElFTkSuQmCC\n",
      "text/plain": [
<<<<<<< HEAD
       "<matplotlib.figure.Figure at 0x7f49cbf712b0>"
=======
       "<matplotlib.figure.Figure at 0x7faf3d326c18>"
>>>>>>> 4b93a6aa1c938018a65db675609718c14664bb75
      ]
     },
     "metadata": {},
     "output_type": "display_data"
    }
   ],
   "source": [
    "plt.imshow(I_concat.reshape(IMAGE_SIZE_Y, IMAGE_SIZE_X))"
   ]
  },
  {
   "cell_type": "code",
   "execution_count": 19,
   "metadata": {},
   "outputs": [
    {
     "data": {
      "text/plain": [
<<<<<<< HEAD
       "<matplotlib.image.AxesImage at 0x7f49ad4a96d8>"
=======
       "<matplotlib.image.AxesImage at 0x7faf3d43e320>"
>>>>>>> 4b93a6aa1c938018a65db675609718c14664bb75
      ]
     },
     "execution_count": 19,
     "metadata": {},
     "output_type": "execute_result"
    },
    {
     "data": {
      "image/png": "iVBORw0KGgoAAAANSUhEUgAAAP4AAAD8CAYAAABXXhlaAAAABHNCSVQICAgIfAhkiAAAAAlwSFlz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\nHHyzAjn4ZgX6f7XQWAWNVttlAAAAAElFTkSuQmCC\n",
      "text/plain": [
<<<<<<< HEAD
       "<matplotlib.figure.Figure at 0x7f49cbebc438>"
=======
       "<matplotlib.figure.Figure at 0x7faf3d3f4a20>"
>>>>>>> 4b93a6aa1c938018a65db675609718c14664bb75
      ]
     },
     "metadata": {},
     "output_type": "display_data"
    }
   ],
   "source": [
    "I = np.matmul(W,img_fft.reshape(-1))\n",
    "plt.imshow(I.real.reshape(IMAGE_SIZE_Y, IMAGE_SIZE_X))"
   ]
  },
  {
   "cell_type": "markdown",
   "metadata": {},
   "source": [
    "## Kernels"
   ]
  },
  {
   "cell_type": "code",
   "execution_count": 20,
   "metadata": {
    "collapsed": true
   },
   "outputs": [],
   "source": [
    "import scipy as sp"
   ]
  },
  {
   "cell_type": "code",
   "execution_count": 21,
   "metadata": {
    "collapsed": true
   },
   "outputs": [],
   "source": [
    "sigma = 1\n",
    "gamma = 1./2"
   ]
  },
  {
   "cell_type": "code",
   "execution_count": 22,
   "metadata": {
    "collapsed": true
   },
   "outputs": [],
   "source": [
    "def kernel(i,j, sigma=sigma, gamma=gamma):\n",
    "    return sigma**2*np.exp(-gamma*(i-j)**2)\n",
    "\n",
    "def kernel_handler(x):\n",
    "    return kernel()\n",
    "\n",
    "def covImagReal(i,j, W=W):\n",
    "    out = 0\n",
    "    for k in range(W.shape[0]):\n",
    "        for l in range(W.shape[1]):\n",
    "            out += W[k,i] * kernel(k,l) * W[l,j]"
   ]
  },
  {
   "cell_type": "code",
   "execution_count": 23,
   "metadata": {
    "collapsed": true
   },
   "outputs": [],
   "source": [
    "# \"suma\" externa\n",
    "def outersum(a,b):\n",
    "    return np.outer(a,np.ones_like(b))+np.outer(np.ones_like(a),b)"
   ]
  },
  {
   "cell_type": "code",
   "execution_count": 24,
<<<<<<< HEAD
   "metadata": {
    "collapsed": true
   },
=======
   "metadata": {},
>>>>>>> 4b93a6aa1c938018a65db675609718c14664bb75
   "outputs": [],
   "source": [
    "A = np.ones([5,5])\n",
    "b = np.asarray([1,2,3,4,5])[:,np.newaxis]"
   ]
  },
  {
   "cell_type": "code",
   "execution_count": 25,
   "metadata": {
    "collapsed": true
   },
   "outputs": [],
   "source": [
    "def SE(a,b,gamma=1./2,sigma=1): \n",
    "    #Square Exponential kernel\n",
    "\n",
    "    #returns the evaluation of the kernel\n",
    "    #k(a,b)=sigma**2*exp(-gamma*(a-b)**2), \n",
    "    #notice that in this definition gamma = 1 /(2*lengthscale**2), in order to simplify the derivatives\n",
    "    #for consistency with the generation of Gram matrices, this function returns\n",
    "    #a matrix of dimensions dim(a) x dim(b);  \n",
    "\n",
    "    #INPUTS\n",
    "    #a,b are column vectors of (possibly) different lenghts\n",
    "    u1 = a % IMAGE_SIZE_X\n",
    "    u2 = b % IMAGE_SIZE_X\n",
    "    \n",
    "    v1 = np.floor(a/IMAGE_SIZE_X)\n",
    "    v2 = np.floor(b/IMAGE_SIZE_X)\n",
    "    \n",
    "    sa=np.size(a); sb=np.size(b)\n",
    "\n",
    "    if sa==1: a=np.array([a])\n",
    "    if sb==1: b=np.array([b])\n",
    "    K=np.zeros([sa,sb])\n",
    "    #accelerate computation if a==b\n",
    "    if np.array_equal(a,b):\n",
    "        for va in range(sa):\n",
    "            K[va,va]=1;\n",
    "            for vb in range(va+1,sb):\n",
    "                K[va,vb]= np.exp(-((u1[va] - u2[vb])**2 + (v1[va] - v2[vb])**2)*gamma)\n",
    "                K[vb,va]= K[va,vb]\n",
    "    #a!=b\n",
    "    else:\n",
    "        for va in range(sa):\n",
    "            for vb in range(sb):\n",
    "                K[va,vb]=np.exp(-((u1[va] - u2[vb])**2 + (v1[va] - v2[vb])**2)*gamma)\n",
    "    if sa==1:\n",
    "        return sigma**2*np.reshape(K,b.shape)\n",
    "    elif sb==1:\n",
    "        return sigma**2*np.reshape(K,a.shape)\n",
    "    else:\n",
<<<<<<< HEAD
    "        return sigma**2*K"
   ]
  },
  {
   "cell_type": "code",
   "execution_count": 26,
   "metadata": {
    "collapsed": true
   },
   "outputs": [],
   "source": [
    "def SpectralMixture(a,b,sigma,mu):\n",
    "    \n",
    "    #INPUTS\n",
    "    #a,b are column vectors of (possibly) different lenghts\n",
    "    u1 = a % IMAGE_SIZE_X\n",
    "    u2 = b % IMAGE_SIZE_X\n",
    "    \n",
    "    v1 = np.floor(a/IMAGE_SIZE_X)\n",
    "    v2 = np.floor(b/IMAGE_SIZE_X)\n",
    "    sa=np.size(a); sb=np.size(b)\n",
    "\n",
    "    if sa==1: a=np.array([a])\n",
    "    if sb==1: b=np.array([b])\n",
    "    K=np.zeros([sa,sb])\n",
    "    #accelerate computation if a==b\n",
    "    if np.array_equal(a,b):\n",
    "        for va in range(sa):\n",
    "            K[va,va]=1;\n",
    "            for vb in range(va+1,sb):\n",
    "                tau = np.sqrt((u1[va] - u2[vb])**2 + (v1[va] - v2[vb])**2)\n",
    "                K[va,vb] = np.exp(-2.0*(np.pi**2)*(tau**2)*sigma**2)*np.cos(2*np.pi*(tau)*mu)\n",
    "                K[vb,va] = K[va,vb]\n",
    "    #a!=b\n",
    "    else:\n",
    "        for va in range(sa):\n",
    "            for vb in range(sb):\n",
    "                tau = np.sqrt((u1[va] - u2[vb])**2 + (v1[va] - v2[vb])**2)\n",
    "                K[va,vb] = np.exp(-2.0*(np.pi**2)*(tau**2)*sigma**2)*np.cos(2*np.pi*(tau)*mu)\n",
    "    if sa==1:\n",
    "        return np.reshape(K,b.shape)\n",
    "    elif sb==1:\n",
    "        return np.reshape(K,a.shape)\n",
    "    else:\n",
    "        return K"
   ]
  },
  {
   "cell_type": "code",
   "execution_count": 27,
   "metadata": {
    "collapsed": true
   },
   "outputs": [],
   "source": [
    "def LocallyPeriodic(a,b,sigma,p,l):\n",
    "    #INPUTS\n",
    "    u1 = a % IMAGE_SIZE_X\n",
    "    u2 = b % IMAGE_SIZE_X\n",
    "    \n",
    "    v1 = np.floor(a/IMAGE_SIZE_X)\n",
    "    v2 = np.floor(b/IMAGE_SIZE_X)\n",
    "    #a,b are column vectors of (possibly) different lenghts\n",
    "    sa=np.size(a); sb=np.size(b)\n",
    "\n",
    "    if sa==1: a=np.array([a])\n",
    "    if sb==1: b=np.array([b])\n",
    "    K=np.zeros([sa,sb])\n",
    "    #accelerate computation if a==b\n",
    "    if np.array_equal(a,b):\n",
    "        for va in range(sa):\n",
    "            K[va,va]=(sigma**2)\n",
    "            for vb in range(va+1,sb):\n",
    "                tau = np.sqrt((u1[va] - u2[vb])**2 + (v1[va] - v2[vb])**2)\n",
    "                K[va,vb] = (sigma**2)*np.exp(-(2*np.sin(np.pi*tau/p)**2)/(l**2))*np.exp(-(tau**2)/(2*l**2))\n",
    "                K[vb,va] = K[va,vb]\n",
    "    #a!=b\n",
    "    else:\n",
    "        for va in range(sa):\n",
    "            for vb in range(sb):\n",
    "                tau = np.sqrt((u1[va] - u2[vb])**2 + (v1[va] - v2[vb])**2)\n",
    "                K[va,vb] = (sigma**2)*np.exp(-(2*np.sin(np.pi*tau/p)**2)/(l**2))*np.exp(-(tau**2)/(2*l**2))\n",
    "    if sa==1:\n",
    "        return np.reshape(K,b.shape)\n",
    "    elif sb==1:\n",
    "        return np.reshape(K,a.shape)\n",
    "    else:\n",
    "        return K"
   ]
  },
  {
   "cell_type": "code",
   "execution_count": 28,
   "metadata": {
    "collapsed": true
   },
   "outputs": [],
   "source": [
    "#negative log-likelihood when using SE kernel\n",
    "def like_covImagenReal(X, y, t):\n",
=======
    "        return sigma**2*K\n",
    "\n",
    "all_index = np.arange(IMAGE_SIZE_X*IMAGE_SIZE_Y)\n",
    "\n",
    "#negative log-likelihood when using SE kernel\n",
    "def like_covImagenReal(X, y, t, t_obs): \n",
>>>>>>> 4b93a6aa1c938018a65db675609718c14664bb75
    "    #entrenamiento con respecto al logaritmo de los hyperparámetros, para no imponer restricciones de positividad\n",
    "    sigma_noise, gamma_1, sig_1 = np.exp(X)\n",
    "    print('sigma noise: {}\\ngamma: {}\\nsigma: {}'.format(sigma_noise, gamma_1, sig_1))\n",
    "    Gram= SE(t,t,gamma_1,sig_1) + sigma_noise**2*np.identity(len(t))\n",
    "#     sigma_noise, sigma_1, mu_1 = np.exp(X)\n",
    "#     print('sigma noise: {}\\nsigma: {}\\nmu: {}'.format(sigma_noise, sigma_1, mu_1))\n",
    "#     Gram = SpectralMixture(t,t, sigma_1, mu_1) + sigma_noise**2*np.identity(len(t))\n",
    "#     sigma_noise, sigma_1, p_1, l_1 = np.exp(X)\n",
    "#     print('sigma noise: {}\\nsigma: {}\\nl: {}\\np: {}'.format(sigma_noise, sigma_1, p_1, l_1))\n",
    "#     Gram = LocallyPeriodic(t,t, sigma_1, p_1,l_1) + sigma_noise**2*np.identity(len(t))\n",
    "    \n",
<<<<<<< HEAD
=======
    "#     W = np.identity(IMAGE_SIZE_X*IMAGE_SIZE_Y)\n",
    "    samplingW = np.matmul(W.real,H)\n",
    "    K = SE(t,t,gamma=gamma_1,sigma=sig_1)\n",
    "    \n",
    "    Gram= np.matmul(np.matmul(samplingW.T,K),samplingW)+sigma_noise**2*np.identity(len(t_obs))\n",
>>>>>>> 4b93a6aa1c938018a65db675609718c14664bb75
    "    cGg=np.linalg.cholesky(Gram)\n",
    "    invGram=np.dot(np.linalg.inv(cGg.T),np.linalg.inv(cGg))\n",
    "    \n",
    "    nll=np.dot(y,np.dot(invGram,y)) + 2*np.sum(np.log(np.diag(cGg)))\n",
<<<<<<< HEAD
    "    return 0.5*nll+0.5*len(y)*np.log(2*np.pi)"
=======
    "    return 0.5*nll+0.5*len(y)*np.log(2*np.pi)\n",
    "\n",
    "#derivative of negative log-likelihood when using SE kernel\n",
    "def like_covImagenReal_Df(X, y, t, t_obs):\n",
    "    sigma_noise, gamma_1, sig_1 = np.exp(X)\n",
    "    \n",
    "#     W = np.identity(IMAGE_SIZE_X*IMAGE_SIZE_Y)\n",
    "    samplingW = np.matmul(W.real,H)\n",
    "#     samplingW = np.eye(W.shape[0])\n",
    "    K = SE(t,t,gamma=gamma_1,sigma=sig_1)\n",
    "#     t_obs = np.matmul(H.T,t)\n",
    "    \n",
    "    Gram0 = np.matmul(np.matmul(samplingW.T,K),samplingW)\n",
    "    Gram=Gram0+sigma_noise**2*np.identity(len(t_obs))\n",
    "    cGg=np.linalg.cholesky(Gram)\n",
    "    invGram=np.dot(np.linalg.inv(cGg.T),np.linalg.inv(cGg))\n",
    "    \n",
    "    A=np.dot(invGram,y)\n",
    "    \n",
    "    \n",
    "    u_obs = t_obs % IMAGE_SIZE_X\n",
    "    v_obs = np.floor(t_obs/IMAGE_SIZE_X)\n",
    "    \n",
    "    outer_u=outersum(u_obs,-u_obs)\n",
    "    outer_v=outersum(v_obs,-v_obs)\n",
    "    outer_dist = outer_u**2 + outer_v**2\n",
    "#     print(outer_sub)\n",
    "\n",
    "    \n",
    "    D1 = 2*sigma_noise**2*np.identity(len(t_obs)) #sigma_noise\n",
    "    D2 = -Gram0*outer_dist*gamma_1 #gamma_1\n",
    "    D3 = 2*Gram0 #sig_1 \n",
    "\n",
    "    B=np.outer(A,A)-invGram\n",
    "    d1=  -np.trace(np.dot(B,D1))\n",
    "    d2=  -np.trace(np.dot(B,D2))\n",
    "    d3=  -np.trace(np.dot(B,D3))\n",
    "\n",
    "    print('- Paremeters:\\n  - sigma noise: {},\\n  - gamma: {},\\n  - sigma: {}'.format(sigma_noise, gamma_1, sig_1))\n",
    "    print('  - Derivatives: {}, {}, {}'.format(d1, d2, d3))\n",
    "    return np.asarray([0.5*d1, 0.5*d2, 0.5*d3])"
>>>>>>> 4b93a6aa1c938018a65db675609718c14664bb75
   ]
  },
  {
   "cell_type": "code",
<<<<<<< HEAD
   "execution_count": 29,
=======
   "execution_count": 27,
>>>>>>> 4b93a6aa1c938018a65db675609718c14664bb75
   "metadata": {},
   "outputs": [
    {
     "name": "stdout",
     "output_type": "stream",
     "text": [
<<<<<<< HEAD
      "Condicion inicial optimizador:  [1.00000000e-04 3.16227766e-01 1.00000000e+00]\n",
      "sigma noise: 0.00010000000000000009\n",
      "gamma: 0.316227766016838\n",
      "sigma: 1.0\n",
      "sigma noise: 0.00010000000100000018\n",
      "gamma: 0.316227766016838\n",
      "sigma: 1.0\n",
      "sigma noise: 0.00010000000000000009\n",
      "gamma: 0.3162277691791156\n",
      "sigma: 1.0\n",
      "sigma noise: 0.00010000000000000009\n",
      "gamma: 0.316227766016838\n",
      "sigma: 1.00000001\n",
      "sigma noise: 0.00010000008419997892\n",
      "gamma: 0.7874252553850216\n",
      "sigma: 1.506079318744269\n",
      "sigma noise: 0.00010000008519997985\n",
      "gamma: 0.7874252553850216\n",
      "sigma: 1.506079318744269\n",
      "sigma noise: 0.00010000008419997892\n",
      "gamma: 0.7874252632592742\n",
      "sigma: 1.506079318744269\n",
      "sigma noise: 0.00010000008419997892\n",
      "gamma: 0.7874252553850216\n",
      "sigma: 1.5060793338050622\n",
      "sigma noise: 0.0001000000842339379\n",
      "gamma: 0.7957669543164722\n",
      "sigma: 1.524125195174605\n",
      "sigma noise: 0.00010000008523393884\n",
      "gamma: 0.7957669543164722\n",
      "sigma: 1.524125195174605\n",
      "sigma noise: 0.0001000000842339379\n",
      "gamma: 0.7957669622741417\n",
      "sigma: 1.524125195174605\n",
      "sigma noise: 0.0001000000842339379\n",
      "gamma: 0.7957669543164722\n",
      "sigma: 1.5241252104158571\n",
      "sigma noise: 0.0001000000843697739\n",
      "gamma: 0.8300268506958935\n",
      "sigma: 1.5984970257363962\n",
      "sigma noise: 0.00010000008536977483\n",
      "gamma: 0.8300268506958935\n",
      "sigma: 1.5984970257363962\n",
      "sigma noise: 0.0001000000843697739\n",
      "gamma: 0.8300268589961621\n",
      "sigma: 1.5984970257363962\n",
      "sigma noise: 0.0001000000843697739\n",
      "gamma: 0.8300268506958935\n",
      "sigma: 1.5984970417213666\n",
      "sigma noise: 0.00010000008750284621\n",
      "gamma: 0.986370157239465\n",
      "sigma: 2.047003702443133\n",
      "sigma noise: 0.00010000008850284719\n",
      "gamma: 0.986370157239465\n",
      "sigma: 2.047003702443133\n",
      "sigma noise: 0.00010000008750284621\n",
      "gamma: 0.9863701671031666\n",
      "sigma: 2.047003702443133\n",
      "sigma noise: 0.00010000008750284621\n",
      "gamma: 0.986370157239465\n",
      "sigma: 2.0470037229131703\n",
      "sigma noise: 0.00010000008965838787\n",
      "gamma: 1.1011332682531925\n",
      "sigma: 2.5275600003065866\n",
      "sigma noise: 0.00010000009065838885\n",
      "gamma: 1.1011332682531925\n",
      "sigma: 2.5275600003065866\n",
      "sigma noise: 0.00010000008965838787\n",
      "gamma: 1.1011332792645252\n",
      "sigma: 2.5275600003065866\n",
      "sigma noise: 0.00010000008965838787\n",
      "gamma: 1.1011332682531925\n",
      "sigma: 2.527560025582187\n",
      "sigma noise: 0.00010000009328966089\n",
      "gamma: 1.2308585008739723\n",
      "sigma: 3.300318088782733\n",
      "sigma noise: 0.0001000000942896619\n",
      "gamma: 1.2308585008739723\n",
      "sigma: 3.300318088782733\n",
      "sigma noise: 0.00010000009328966089\n",
      "gamma: 1.2308585131825573\n",
      "sigma: 3.300318088782733\n",
      "sigma noise: 0.00010000009328966089\n",
      "gamma: 1.2308585008739723\n",
      "sigma: 3.300318121785914\n",
      "sigma noise: 0.00010000009747499003\n",
      "gamma: 1.3493914243956082\n",
      "sigma: 4.2959182132848905\n",
      "sigma noise: 0.00010000009847499109\n",
      "gamma: 1.3493914243956082\n",
      "sigma: 4.2959182132848905\n",
      "sigma noise: 0.00010000009747499003\n",
      "gamma: 1.3493914378895224\n",
      "sigma: 4.2959182132848905\n",
      "sigma noise: 0.00010000009747499003\n",
      "gamma: 1.3493914243956082\n",
      "sigma: 4.2959182562440725\n",
      "sigma noise: 0.00010000010190881807\n",
      "gamma: 1.4673927183806685\n",
      "sigma: 5.587741900510054\n",
      "sigma noise: 0.00010000010290881917\n",
      "gamma: 1.4673927183806685\n",
      "sigma: 5.587741900510054\n",
      "sigma noise: 0.00010000010190881807\n",
      "gamma: 1.4673927330545957\n",
      "sigma: 5.587741900510054\n",
      "sigma noise: 0.00010000010190881807\n",
      "gamma: 1.4673927183806685\n",
      "sigma: 5.5877419563874735\n",
      "sigma noise: 0.00010000010570880811\n",
      "gamma: 1.5879083259540945\n",
      "sigma: 7.0602018792701475\n",
      "sigma noise: 0.00010000010670880926\n",
      "gamma: 1.5879083259540945\n",
      "sigma: 7.0602018792701475\n",
      "sigma noise: 0.00010000010570880811\n",
      "gamma: 1.5879083418331779\n",
      "sigma: 7.0602018792701475\n",
      "sigma noise: 0.00010000010570880811\n",
      "gamma: 1.5879083259540945\n",
      "sigma: 7.060201949872166\n",
      "sigma noise: 0.00010000010798217835\n",
      "gamma: 1.7240046358233108\n",
      "sigma: 8.472549119715744\n",
      "sigma noise: 0.00010000010898217951\n",
      "gamma: 1.7240046358233108\n",
      "sigma: 8.472549119715744\n",
      "sigma noise: 0.00010000010798217835\n",
      "gamma: 1.7240046530633573\n",
      "sigma: 8.472549119715744\n",
      "sigma noise: 0.00010000010798217835\n",
      "gamma: 1.7240046358233108\n",
      "sigma: 8.472549204441236\n",
      "sigma noise: 0.0001000001079275903\n",
      "gamma: 1.8923024605622507\n",
      "sigma: 9.466470363437839\n",
      "sigma noise: 0.00010000010892759148\n",
      "gamma: 1.8923024605622507\n",
      "sigma: 9.466470363437839\n",
      "sigma noise: 0.0001000001079275903\n",
      "gamma: 1.8923024794852754\n",
      "sigma: 9.466470363437839\n",
      "sigma noise: 0.0001000001079275903\n",
      "gamma: 1.8923024605622507\n",
      "sigma: 9.466470458102542\n",
      "sigma noise: 0.00010000010525134742\n",
      "gamma: 2.1344179642940646\n",
      "sigma: 9.938414756376414\n",
      "sigma noise: 0.00010000010625134857\n",
      "gamma: 2.1344179642940646\n",
      "sigma: 9.938414756376414\n",
      "sigma noise: 0.00010000010525134742\n",
      "gamma: 2.1344179856382444\n",
      "sigma: 9.938414756376414\n",
      "sigma noise: 0.00010000010525134742\n",
      "gamma: 2.1344179642940646\n",
      "sigma: 9.938414855760561\n",
      "sigma noise: 0.00010000010112607877\n",
      "gamma: 2.7493419073100482\n",
      "sigma: 9.925062989037523\n",
      "sigma noise: 0.00010000010212607987\n",
      "gamma: 2.7493419073100482\n",
      "sigma: 9.925062989037523\n",
      "sigma noise: 0.00010000010112607877\n",
      "gamma: 2.7493419348034673\n",
      "sigma: 9.925062989037523\n",
      "sigma noise: 0.00010000010112607877\n",
      "gamma: 2.7493419073100482\n",
      "sigma: 9.925063088288153\n",
      "sigma noise: 0.00010000009539365718\n",
      "gamma: 4.644489408925563\n",
      "sigma: 8.76722843892082\n",
      "sigma noise: 0.00010000009639365822\n",
      "gamma: 4.644489408925563\n",
      "sigma: 8.76722843892082\n",
      "sigma noise: 0.00010000009539365718\n",
      "gamma: 4.644489455370457\n",
      "sigma: 8.76722843892082\n",
      "sigma noise: 0.00010000009539365718\n",
      "gamma: 4.644489408925563\n",
      "sigma: 8.767228526593106\n",
      "sigma noise: 0.00010000009295805188\n",
      "gamma: 5.682340647232375\n",
      "sigma: 8.428154508692687\n",
      "sigma noise: 0.00010000009395805289\n",
      "gamma: 5.682340647232375\n",
      "sigma: 8.428154508692687\n",
      "sigma noise: 0.00010000009295805188\n",
      "gamma: 5.682340704055782\n",
      "sigma: 8.428154508692687\n",
      "sigma noise: 0.00010000009295805188\n",
      "gamma: 5.682340647232375\n",
      "sigma: 8.428154592974233\n",
      "sigma noise: 0.00010000009129603049\n",
      "gamma: 6.294699211796673\n",
      "sigma: 8.42926343284185\n",
      "sigma noise: 0.00010000009229603149\n",
      "gamma: 6.294699211796673\n",
      "sigma: 8.42926343284185\n",
      "sigma noise: 0.00010000009129603049\n",
      "gamma: 6.294699274743666\n",
      "sigma: 8.42926343284185\n",
      "sigma noise: 0.00010000009129603049\n",
      "gamma: 6.294699211796673\n",
      "sigma: 8.429263517134485\n",
      "sigma noise: 0.00010000008825201578\n",
      "gamma: 7.270686933157048\n",
      "sigma: 8.60277154922001\n",
      "sigma noise: 0.00010000008925201675\n",
      "gamma: 7.270686933157048\n",
      "sigma: 8.60277154922001\n",
      "sigma noise: 0.00010000008825201578\n",
      "gamma: 7.270687005863917\n",
      "sigma: 8.60277154922001\n",
      "sigma noise: 0.00010000008825201578\n",
      "gamma: 7.270686933157048\n",
      "sigma: 8.602771635247727\n",
      "sigma noise: 0.0001000000868700626\n",
      "gamma: 7.901216294411187\n",
      "sigma: 8.581914595977015\n",
      "sigma noise: 0.00010000008787006355\n",
      "gamma: 7.901216294411187\n",
      "sigma: 8.581914595977015\n",
      "sigma noise: 0.0001000000868700626\n",
      "gamma: 7.90121637342335\n",
      "sigma: 8.581914595977015\n",
      "sigma noise: 0.0001000000868700626\n",
      "gamma: 7.901216294411187\n",
      "sigma: 8.58191468179616\n",
      "sigma noise: 0.00010000008495987997\n",
      "gamma: 8.868067484632345\n",
      "sigma: 8.550756598207794\n",
      "sigma noise: 0.0001000000859598809\n",
      "gamma: 8.868067484632345\n",
      "sigma: 8.550756598207794\n",
      "sigma noise: 0.00010000008495987997\n",
      "gamma: 8.86806757331302\n",
      "sigma: 8.550756598207794\n",
      "sigma noise: 0.00010000008495987997\n",
      "gamma: 8.868067484632345\n",
      "sigma: 8.55075668371536\n",
      "sigma noise: 0.0001000000835019829\n",
      "gamma: 9.646468154269954\n",
      "sigma: 8.547457536592104\n",
      "sigma noise: 0.00010000008450198381\n",
      "gamma: 9.646468154269954\n",
      "sigma: 8.547457536592104\n",
      "sigma noise: 0.0001000000835019829\n",
      "gamma: 9.646468250734635\n",
      "sigma: 8.547457536592104\n",
      "sigma noise: 0.0001000000835019829\n",
      "gamma: 9.646468154269954\n",
      "sigma: 8.547457622066679\n",
      "sigma noise: 0.00010000008197567028\n",
      "gamma: 10.494190973441388\n",
      "sigma: 8.55375125035082\n",
      "sigma noise: 0.00010000008297567119\n",
      "gamma: 10.494190973441388\n",
      "sigma: 8.55375125035082\n",
      "sigma noise: 0.00010000008197567028\n",
      "gamma: 10.494191078383297\n",
      "sigma: 8.55375125035082\n",
      "sigma noise: 0.00010000008197567028\n",
      "gamma: 10.494190973441388\n",
      "sigma: 8.553751335888332\n",
      "sigma noise: 0.00010000008065335486\n",
      "gamma: 11.291719108924728\n",
      "sigma: 8.551616724289913\n",
      "sigma noise: 0.00010000008165335575\n",
      "gamma: 11.291719108924728\n",
      "sigma: 8.551616724289913\n",
      "sigma noise: 0.00010000008065335486\n",
      "gamma: 11.291719221841918\n",
      "sigma: 8.551616724289913\n",
      "sigma noise: 0.00010000008065335486\n",
      "gamma: 11.291719108924728\n",
      "sigma: 8.551616809806081\n",
      "sigma noise: 0.00010000007942894895\n",
      "gamma: 12.108590130497921\n",
      "sigma: 8.553307412328694\n",
      "sigma noise: 0.00010000008042894983\n",
      "gamma: 12.108590130497921\n",
      "sigma: 8.553307412328694\n",
      "sigma noise: 0.00010000007942894895\n",
      "gamma: 12.108590251583824\n",
      "sigma: 8.553307412328694\n"
     ]
    },
    {
     "name": "stdout",
     "output_type": "stream",
     "text": [
      "sigma noise: 0.00010000007942894895\n",
      "gamma: 12.108590130497921\n",
      "sigma: 8.553307497861768\n",
      "sigma noise: 0.00010000007817550207\n",
      "gamma: 12.948706409832294\n",
      "sigma: 8.545820879486397\n",
      "sigma noise: 0.00010000007917550295\n",
      "gamma: 12.948706409832294\n",
      "sigma: 8.545820879486397\n",
      "sigma noise: 0.00010000007817550207\n",
      "gamma: 12.948706539319359\n",
      "sigma: 8.545820879486397\n",
      "sigma noise: 0.00010000007817550207\n",
      "gamma: 12.948706409832294\n",
      "sigma: 8.545820964944607\n",
      "sigma noise: 0.00010000007734777724\n",
      "gamma: 13.549647814234852\n",
      "sigma: 8.549447834814314\n",
      "sigma noise: 0.0001000000783477781\n",
      "gamma: 13.549647814234852\n",
      "sigma: 8.549447834814314\n",
      "sigma noise: 0.00010000007734777724\n",
      "gamma: 13.54964794973133\n",
      "sigma: 8.549447834814314\n",
      "sigma noise: 0.00010000007734777724\n",
      "gamma: 13.549647814234852\n",
      "sigma: 8.549447920308793\n",
      "sigma noise: 0.00010000007629202929\n",
      "gamma: 14.35236662339079\n",
      "sigma: 8.551627731720027\n",
      "sigma noise: 0.00010000007729203014\n",
      "gamma: 14.35236662339079\n",
      "sigma: 8.551627731720027\n",
      "sigma noise: 0.00010000007629202929\n",
      "gamma: 14.352366766914455\n",
      "sigma: 8.551627731720027\n",
      "sigma noise: 0.00010000007629202929\n",
      "gamma: 14.35236662339079\n",
      "sigma: 8.551627817236305\n",
      "sigma noise: 0.00010000007540225485\n",
      "gamma: 15.062213561452072\n",
      "sigma: 8.551742044186872\n",
      "sigma noise: 0.00010000007640225569\n",
      "gamma: 15.062213561452072\n",
      "sigma: 8.551742044186872\n",
      "sigma noise: 0.00010000007540225485\n",
      "gamma: 15.062213712074207\n",
      "sigma: 8.551742044186872\n",
      "sigma noise: 0.00010000007540225485\n",
      "gamma: 15.062213561452072\n",
      "sigma: 8.55174212970429\n",
      "sigma noise: 0.00010000007445292925\n",
      "gamma: 15.899781603734157\n",
      "sigma: 8.548200491015404\n",
      "sigma noise: 0.00010000007545293008\n",
      "gamma: 15.899781603734157\n",
      "sigma: 8.548200491015404\n",
      "sigma noise: 0.00010000007445292925\n",
      "gamma: 15.899781762731973\n",
      "sigma: 8.548200491015404\n",
      "sigma noise: 0.00010000007445292925\n",
      "gamma: 15.899781603734157\n",
      "sigma: 8.548200576497408\n",
      "sigma noise: 0.00010000007413593015\n",
      "gamma: 16.16198937527381\n",
      "sigma: 8.550671740818997\n",
      "sigma noise: 0.00010000007513593097\n",
      "gamma: 16.16198937527381\n",
      "sigma: 8.550671740818997\n",
      "sigma noise: 0.00010000007413593015\n",
      "gamma: 16.161989536893703\n",
      "sigma: 8.550671740818997\n",
      "sigma noise: 0.00010000007413593015\n",
      "gamma: 16.16198937527381\n",
      "sigma: 8.550671826325715\n",
      "sigma noise: 0.00010000007359106302\n",
      "gamma: 16.650389096157515\n",
      "sigma: 8.551386542125153\n",
      "sigma noise: 0.00010000007459106384\n",
      "gamma: 16.650389096157515\n",
      "sigma: 8.551386542125153\n",
      "sigma noise: 0.00010000007359106302\n",
      "gamma: 16.650389262661406\n",
      "sigma: 8.551386542125153\n",
      "sigma noise: 0.00010000007359106302\n",
      "gamma: 16.650389096157515\n",
      "sigma: 8.551386627639017\n",
      "sigma noise: 0.00010000007292282799\n",
      "gamma: 17.27561070104427\n",
      "sigma: 8.551513940225115\n",
      "sigma noise: 0.0001000000739228288\n",
      "gamma: 17.27561070104427\n",
      "sigma: 8.551513940225115\n",
      "sigma noise: 0.00010000007292282799\n",
      "gamma: 17.275610873800375\n",
      "sigma: 8.551513940225115\n",
      "sigma noise: 0.00010000007292282799\n",
      "gamma: 17.27561070104427\n",
      "sigma: 8.551514025740255\n",
      "sigma noise: 0.00010000007178263647\n",
      "gamma: 18.3997184110881\n",
      "sigma: 8.551385195962904\n",
      "sigma noise: 0.00010000007278263728\n",
      "gamma: 18.3997184110881\n",
      "sigma: 8.551385195962904\n",
      "sigma noise: 0.00010000007178263647\n",
      "gamma: 18.399718595085282\n",
      "sigma: 8.551385195962904\n",
      "sigma noise: 0.00010000007178263647\n",
      "gamma: 18.3997184110881\n",
      "sigma: 8.551385281476756\n",
      "sigma noise: 0.00010000007132421973\n",
      "gamma: 18.872373692565194\n",
      "sigma: 8.551282831714252\n",
      "sigma noise: 0.00010000007232422052\n",
      "gamma: 18.872373692565194\n",
      "sigma: 8.551282831714252\n",
      "sigma noise: 0.00010000007132421973\n",
      "gamma: 18.872373881288933\n",
      "sigma: 8.551282831714252\n",
      "sigma noise: 0.00010000007132421973\n",
      "gamma: 18.872373692565194\n",
      "sigma: 8.55128291722708\n",
      "Hiperparametros encontrados:  [1.00000071e-04 1.88723737e+01 8.55128283e+00]\n",
      "Negative log-likelihood para hiperámetros optimizados:  2349.346978923961\n"
=======
      "Condicion inicial optimizador:  [ 4.    1.    0.01]\n",
      "- Paremeters:\n",
      "  - sigma noise: 4.0,\n",
      "  - gamma: 1.0,\n",
      "  - sigma: 0.010000000000000004\n",
      "  - Derivatives: -4705.393619286133, 80.98612167435559, -0.10283664261437316\n",
      "- Paremeters:\n",
      "  - sigma noise: 10.871517313999602,\n",
      "  - gamma: 0.9829384358287262,\n",
      "  - sigma: 0.01000021852058736\n",
      "  - Derivatives: 502.55540263058003, 1.4834828671992615, -0.001192307941174343\n",
      "- Paremeters:\n",
      "  - sigma noise: 9.871642253590261,\n",
      "  - gamma: 0.9828428506820206,\n",
      "  - sigma: 0.010000218556039617\n",
      "  - Derivatives: 329.0017883389776, 2.1821455050521785, -0.0019705769339096067\n",
      "- Paremeters:\n",
      "  - sigma noise: 8.22157088823239,\n",
      "  - gamma: 0.9807482980046295,\n",
      "  - sigma: 0.01000023777616945\n",
      "  - Derivatives: -107.81620015386602, 4.535160417973866, -0.004755044460593903\n",
      "- Paremeters:\n",
      "  - sigma noise: 8.600995794866016,\n",
      "  - gamma: 0.9796412389586925,\n",
      "  - sigma: 0.01000025006670737\n",
      "  - Derivatives: 15.20522188294234, 3.7861908525320005, -0.0038592697511912353\n",
      "- Paremeters:\n",
      "  - sigma noise: 8.553397527856166,\n",
      "  - gamma: 0.9783819687092039,\n",
      "  - sigma: 0.01000026314223306\n",
      "  - Derivatives: 0.665325251914453, 3.8710239626785956, -0.003966969750650573\n",
      "- Paremeters:\n",
      "  - sigma noise: 8.548212597107181,\n",
      "  - gamma: 0.9767090090027111,\n",
      "  - sigma: 0.010000280672713403\n",
      "  - Derivatives: -0.933192216333282, 3.8802232815953377, -0.003986181155246984\n",
      "- Paremeters:\n",
      "  - sigma noise: 8.552257995107565,\n",
      "  - gamma: 0.9780141307741204,\n",
      "  - sigma: 0.010000266994129802\n",
      "  - Derivatives: 0.31425582325334744, 3.873043429418526, -0.00397118379111298\n",
      "- Paremeters:\n",
      "  - sigma noise: 8.549587817680685,\n",
      "  - gamma: 0.9771525548770675,\n",
      "  - sigma: 0.010000276021992877\n",
      "  - Derivatives: -0.5089274417492788, 3.8777806478667114, -0.003981076306977967\n",
      "- Paremeters:\n",
      "  - sigma noise: 8.551683714058617,\n",
      "  - gamma: 0.9778287883275953,\n",
      "  - sigma: 0.010000268935533933\n",
      "  - Derivatives: 0.1372770336121505, 3.8740616627371205, -0.003973309255408931\n",
      "- Paremeters:\n",
      "  - sigma noise: 8.550300364808596,\n",
      "  - gamma: 0.9773824217625492,\n",
      "  - sigma: 0.010000273612596276\n",
      "  - Derivatives: -0.2891823776227511, 3.8765157947111155, -0.00397843396827879\n",
      "- Paremeters:\n",
      "  - sigma noise: 8.551389486969073,\n",
      "  - gamma: 0.9777338387858299,\n",
      "  - sigma: 0.010000269930243371\n",
      "  - Derivatives: 0.046589926605349774, 3.874583473925356, -0.003974398669874948\n",
      "- Paremeters:\n",
      "  - sigma noise: 8.550670650778697,\n",
      "  - gamma: 0.9775018893766244,\n",
      "  - sigma: 0.010000272360596137\n",
      "  - Derivatives: -0.17501019766856984, 3.87585869813178, -0.003977061550767481\n",
      "- Paremeters:\n",
      "  - sigma noise: 8.551237474794746,\n",
      "  - gamma: 0.9776847855186838,\n",
      "  - sigma: 0.010000270444172604\n",
      "  - Derivatives: -0.00026715711476299475, 3.8748531016514454, -0.00397496163557219\n",
      "- Paremeters:\n",
      "  - sigma noise: 8.550863366728422,\n",
      "  - gamma: 0.9775640702257365,\n",
      "  - sigma: 0.010000271709012092\n",
      "  - Derivatives: -0.11559496472602859, 3.875516766210257, -0.003976347466924408\n",
      "- Paremeters:\n",
      "  - sigma noise: 8.551158598656475,\n",
      "  - gamma: 0.9776593333658508,\n",
      "  - sigma: 0.01000027071084401\n",
      "  - Derivatives: -0.024581364276798467, 3.874993015436994, -0.003975253779835803\n",
      "- Paremeters:\n",
      "  - sigma noise: 8.551237474794746,\n",
      "  - gamma: 0.9776847855186838,\n",
      "  - sigma: 0.010000270444172604\n",
      "  - Derivatives: -0.00026715711476299475, 3.8748531016514454, -0.00397496163557219\n",
      "- Paremeters:\n",
      "  - sigma noise: 8.514663009298483,\n",
      "  - gamma: 0.9547700793812222,\n",
      "  - sigma: 0.010000513674901113\n",
      "  - Derivatives: -11.347111036935956, 3.939017738518216, -0.004168583481409726\n",
      "- Paremeters:\n",
      "  - sigma noise: 8.544511009431872,\n",
      "  - gamma: 0.9734370412832887,\n",
      "  - sigma: 0.010000315098494365\n",
      "  - Derivatives: -2.076153749988066, 3.8865562111327097, -0.0040098887511195985\n",
      "- Paremeters:\n",
      "  - sigma noise: 8.549854359408334,\n",
      "  - gamma: 0.9768101141069049,\n",
      "  - sigma: 0.01000027962323852\n",
      "  - Derivatives: -0.4267169193501559, 3.877255960527127, -0.003982118734633314\n",
      "- Paremeters:\n",
      "  - sigma noise: 8.55094667474971,\n",
      "  - gamma: 0.9775008325805078,\n",
      "  - sigma: 0.010000272373947475\n",
      "  - Derivatives: -0.08991105202895255, 3.8753581495733345, -0.003976465356586336\n",
      "- Paremeters:\n",
      "  - sigma noise: 8.55117604893025,\n",
      "  - gamma: 0.9776459266689247,\n",
      "  - sigma: 0.010000270851794585\n",
      "  - Derivatives: -0.0192019279359954, 3.874959776426267, -0.003975279220490037\n",
      "- Paremeters:\n",
      "  - sigma noise: 8.551224504764924,\n",
      "  - gamma: 0.9776765803934072,\n",
      "  - sigma: 0.010000270530241462\n",
      "  - Derivatives: -0.004265187211842658, 3.874875625655069, -0.00397502869131894\n",
      "- Paremeters:\n",
      "  - sigma noise: 8.551234735613642,\n",
      "  - gamma: 0.9776830526479539,\n",
      "  - sigma: 0.010000270462349746\n",
      "  - Derivatives: -0.001111512061669373, 3.8748578585526037, -0.0039749757971913775\n",
      "- Paremeters:\n",
      "  - sigma noise: 8.55123689627321,\n",
      "  - gamma: 0.9776844195320706,\n",
      "  - sigma: 0.010000270448011654\n",
      "  - Derivatives: -0.000445486811486262, 3.8748541063196296, -0.0039749646265355406\n",
      "- Paremeters:\n",
      "  - sigma noise: 8.551237352608657,\n",
      "  - gamma: 0.9776847082208222,\n",
      "  - sigma: 0.010000270444983425\n",
      "  - Derivatives: -0.0003048210651854788, 3.8748533138414056, -0.00397496226727556\n",
      "- Paremeters:\n",
      "  - sigma noise: 8.55123744898854,\n",
      "  - gamma: 0.9776847691930562,\n",
      "  - sigma: 0.010000270444343849\n",
      "  - Derivatives: -0.00027511189625784027, 3.874853146466837, -0.003974961768990535\n",
      "- Paremeters:\n",
      "  - sigma noise: 8.55123746934429,\n",
      "  - gamma: 0.9776847820705941,\n",
      "  - sigma: 0.01000027044420877\n",
      "  - Derivatives: -0.00026883722122761355, 3.8748531111167788, -0.0039749616637511\n",
      "- Paremeters:\n",
      "  - sigma noise: 8.551237473643663,\n",
      "  - gamma: 0.9776847847904805,\n",
      "  - sigma: 0.010000270444180242\n",
      "  - Derivatives: -0.00026751193664154016, 3.874853103650431, -0.003974961641523303\n",
      "- Paremeters:\n",
      "  - sigma noise: 8.551237474551598,\n",
      "  - gamma: 0.9776847853648626,\n",
      "  - sigma: 0.010000270444174219\n",
      "  - Derivatives: -0.00026723206502765606, 3.8748531020737023, -0.003974961636829268\n",
      "- Paremeters:\n",
      "  - sigma noise: 8.551237474743468,\n",
      "  - gamma: 0.9776847854862437,\n",
      "  - sigma: 0.01000027044417294\n",
      "  - Derivatives: -0.00026717292087141686, 3.8748531017404924, -0.003974961635837295\n",
      "- Paremeters:\n",
      "  - sigma noise: 8.551237474616832,\n",
      "  - gamma: 0.9776847854061321,\n",
      "  - sigma: 0.010000270444173785\n",
      "  - Derivatives: -0.000267211956867186, 3.874853101960416, -0.003974961636492006\n",
      "- Paremeters:\n",
      "  - sigma noise: 8.55123747457378,\n",
      "  - gamma: 0.9776847853788942,\n",
      "  - sigma: 0.010000270444174068\n",
      "  - Derivatives: -0.0002672252275885967, 3.874853102035178, -0.003974961636714592\n",
      "- Paremeters:\n",
      "  - sigma noise: 8.55123747460784,\n",
      "  - gamma: 0.9776847854004416,\n",
      "  - sigma: 0.010000270444173846\n",
      "  - Derivatives: -0.00026721472872281993, 3.874853101976031, -0.003974961636538504\n",
      "- Paremeters:\n",
      "  - sigma noise: 8.551237474616832,\n",
      "  - gamma: 0.9776847854061321,\n",
      "  - sigma: 0.010000270444173785\n",
      "  - Derivatives: -0.000267211956867186, 3.874853101960416, -0.003974961636492006\n",
      "Hiperparametros encontrados:  [ 8.55123747  0.97768479  0.01000027]\n",
      "Negative log-likelihood para hiperámetros optimizados:  2349.34598171\n"
>>>>>>> 4b93a6aa1c938018a65db675609718c14664bb75
     ]
    }
   ],
   "source": [
    "import time\n",
    "from scipy.optimize import fmin_l_bfgs_b as fmin\n",
    "# from scipy.optimize import minimize\n",
    "\n",
    "#entrenamiento del GP, es decir, encontrar los parámetros del kernel y del ruido\n",
<<<<<<< HEAD
    "t_obs = mask_vect_index\n",
    "y_obs = Vrobs\n",
    "args=(y_obs,t_obs)\n",
    "time_SE=0\n",
    "params0=np.asarray([0.0001, np.sqrt(0.1),  1])\n",
    "# params0=np.asarray([0.0001, 1,  1, 0.5]) #Locally Periodic\n",
=======
    "args=(Vrobs,all_index, mask_vect_index)\n",
    "time_SE=0\n",
    "params0=np.asarray([0.01,  1,  .01])\n",
>>>>>>> 4b93a6aa1c938018a65db675609718c14664bb75
    "X0=np.log(params0);\n",
    "print('Condicion inicial optimizador: ',params0)\n",
    "time_GP=time.time()\n",
    "X_opt, f_GP, data = fmin(like_covImagenReal, X0, args=args, approx_grad=True)\n",
    "time_GP=time.time()-time_GP\n",
    "sigma_y_GP, gamma_1, sig_1 = np.exp(X_opt)\n",
    "# sigma_y_GP, sigma_1, p_1, l_1 = np.exp(X_opt)\n",
    "print('Hiperparametros encontrados: ', np.exp(X_opt))\n",
    "\n",
    "print('Negative log-likelihood para hiperámetros optimizados: ', f_GP)"
   ]
  },
  {
   "cell_type": "code",
<<<<<<< HEAD
   "execution_count": 31,
=======
   "execution_count": 28,
>>>>>>> 4b93a6aa1c938018a65db675609718c14664bb75
   "metadata": {},
   "outputs": [
    {
     "name": "stdout",
     "output_type": "stream",
     "text": [
<<<<<<< HEAD
      "Variance: [7.31244381e+01 9.99999372e-09 9.99999372e-09 ... 9.99999372e-09\n",
      " 7.31244381e+01 7.31244381e+01]\n"
=======
      "W H shape: (2500, 659)\n",
      "Variance: [ 0.00031545  0.00015563  0.00015381 ...,  0.0001516   0.00015464\n",
      "  0.00015649]\n"
>>>>>>> 4b93a6aa1c938018a65db675609718c14664bb75
     ]
    },
    {
     "data": {
      "text/plain": [
<<<<<<< HEAD
       "array([8.55128283e+00, 9.99999686e-05, 9.99999686e-05, ...,\n",
       "       9.99999686e-05, 8.55128283e+00, 8.55128283e+00])"
      ]
     },
     "execution_count": 31,
=======
       "array([ 0.01776096,  0.01247527,  0.012402  , ...,  0.01231242,\n",
       "        0.01243529,  0.01250964])"
      ]
     },
     "execution_count": 28,
>>>>>>> 4b93a6aa1c938018a65db675609718c14664bb75
     "metadata": {},
     "output_type": "execute_result"
    }
   ],
   "source": [
    "t = np.arange(IMAGE_SIZE_X*IMAGE_SIZE_Y)\n",
    "t_obs = mask_vect_index\n",
    "N_obs = t_obs.shape[0]\n",
    "K = SE(t,t,gamma=gamma_1,sigma=sig_1)\n",
    "# K = SpectralMixture(t,t, sigma_1, mu_1)\n",
    "# K = LocallyPeriodic(t,t, sigma_1, p_1,l_1)\n",
    "# W_s = np.matmul(W.real, H)\n",
    "# print('W H shape: {}'.format(W_s.shape))\n",
    "\n",
    "# cov = np.matmul(W.real.T,np.matmul(K,W.real))\n",
    "# cov_obs = np.matmul(W_s.T,np.matmul(K,W_s))\n",
    "# K_star = np.matmul(W.real.T,np.matmul(K,W_s))\n",
    "cov = K\n",
    "cov_obs = SE(t_obs,t_obs,gamma=gamma_1,sigma=sig_1)\n",
    "K_star = SE(t,t_obs,gamma=gamma_1,sigma=sig_1)\n",
    "\n",
    "cGg=np.linalg.cholesky(cov_obs+sigma_y_GP**2*np.identity(N_obs))\n",
    "invGramg=np.dot(np.linalg.inv(cGg.T),np.linalg.inv(cGg))\n",
    "temp=np.matmul(K_star,invGramg) \n",
    "y_model=np.matmul(temp,Vrobs)\n",
    "v_model=np.diag(cov-np.matmul(temp,K_star.T))\n",
    "\n",
    "print('Variance: {}'.format(v_model))\n",
    "std_dev= np.sqrt(v_model)\n",
    "std_dev"
   ]
  },
  {
   "cell_type": "code",
<<<<<<< HEAD
   "execution_count": 32,
=======
   "execution_count": 29,
>>>>>>> 4b93a6aa1c938018a65db675609718c14664bb75
   "metadata": {},
   "outputs": [
    {
     "name": "stdout",
     "output_type": "stream",
     "text": [
<<<<<<< HEAD
      "Variance sanity check: True\n",
      "(array([], dtype=int64),)\n"
=======
      "Variance: True\n",
      "(array([], dtype=int64),)\n",
      "0.000153809653826\n"
>>>>>>> 4b93a6aa1c938018a65db675609718c14664bb75
     ]
    }
   ],
   "source": [
    "print('Variance sanity check: {}'.format( (v_model>0).all() ))\n",
    "print(np.where(v_model<0))"
   ]
  },
  {
   "cell_type": "code",
<<<<<<< HEAD
   "execution_count": 33,
=======
   "execution_count": 30,
>>>>>>> 4b93a6aa1c938018a65db675609718c14664bb75
   "metadata": {},
   "outputs": [
    {
     "data": {
      "text/plain": [
<<<<<<< HEAD
       "<matplotlib.colorbar.Colorbar at 0x7f49a4cf65f8>"
      ]
     },
     "execution_count": 33,
=======
       "<matplotlib.image.AxesImage at 0x7faf3c13d208>"
      ]
     },
     "execution_count": 30,
>>>>>>> 4b93a6aa1c938018a65db675609718c14664bb75
     "metadata": {},
     "output_type": "execute_result"
    },
    {
     "data": {
<<<<<<< HEAD
      "image/png": "iVBORw0KGgoAAAANSUhEUgAAATcAAAD8CAYAAAASeuPxAAAABHNCSVQICAgIfAhkiAAAAAlwSFlz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\nAAAASUVORK5CYII=\n",
      "text/plain": [
       "<matplotlib.figure.Figure at 0x7f49ad4baba8>"
=======
      "image/png": "iVBORw0KGgoAAAANSUhEUgAAARQAAAD8CAYAAAC2EFsiAAAABHNCSVQICAgIfAhkiAAAAAlwSFlz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\nQTGzzDgoZpYZB8XMMuOgmFlm/h8iAcnBCIJl0gAAAABJRU5ErkJggg==\n",
      "text/plain": [
       "<matplotlib.figure.Figure at 0x7faf3d27c198>"
>>>>>>> 4b93a6aa1c938018a65db675609718c14664bb75
      ]
     },
     "metadata": {},
     "output_type": "display_data"
    }
   ],
   "source": [
    "plt.imshow(K, cmap='seismic')\n",
    "plt.colorbar()"
   ]
  },
  {
   "cell_type": "code",
<<<<<<< HEAD
   "execution_count": 34,
=======
   "execution_count": 31,
>>>>>>> 4b93a6aa1c938018a65db675609718c14664bb75
   "metadata": {},
   "outputs": [
    {
     "data": {
      "text/plain": [
       "array([ -6.18385797e+01,   1.94404339e+01,  -2.41491680e+01,\n",
       "         1.76989664e+01,  -7.87956577e+00,   1.56603456e+00,\n",
       "         7.79419000e-01,  -9.72707302e-01,  -1.88502142e-01,\n",
       "         3.77674665e-03,  -8.98435461e-04,   2.34219655e-05,\n",
       "         9.32604581e-05,  -8.98435461e-04,   3.77674665e-03,\n",
       "        -9.60607458e-03,   1.06711792e-02,   5.45255228e-01,\n",
       "        -9.72707302e-01,   7.79419000e-01,   1.56603456e+00,\n",
       "        -7.87956577e+00,  -2.41491680e+01,   1.94404339e+01,\n",
       "        -6.18385797e+01,  -7.14417517e+01,  -2.92276876e+01,\n",
       "         3.53002868e-01,  -1.43135674e+01,  -4.21750239e+00,\n",
       "         8.33114847e-01,   5.04401660e-01,  -6.14426863e-01,\n",
       "         3.41271629e-01,   6.12719797e-03,  -5.30900196e-03,\n",
       "         2.00759873e-03,  -4.59181443e-04,   4.58150730e-05,\n",
       "        -1.62733123e-03,   6.58528218e-03,  -3.16350787e-01,\n",
       "        -1.41989736e+00,   3.21998699e-01,   5.34732577e+00,\n",
       "        -1.68394022e+01,   2.76470716e+01,  -2.28501586e+01,\n",
       "         4.81480810e+01,   4.68571727e+01,  -4.48824644e+01,\n",
       "         4.09633459e-01,   6.47356383e+00,  -8.01274404e+00,\n",
       "        -2.80328517e+00,  -6.64153688e-02,   9.45469706e-03,\n",
       "         1.06914862e-02,   1.34564999e-01,  -5.99214610e-01,\n",
       "         1.26443506e+00,  -7.89482531e-01,  -3.74618506e+00,\n",
       "        -2.43553437e+01,   2.25257007e+01,  -1.44436664e+00,\n",
       "         2.21496039e+01,  -2.04475664e+01,   1.70764190e+01,\n",
       "        -1.08040431e+01,   2.83477478e+00,   3.19995994e+00,\n",
       "         3.92360670e+00,  -1.82586833e+00,   1.82743589e-01,\n",
       "        -2.17097073e-01,   1.12586720e-01,   4.83289871e-03,\n",
       "        -9.46602579e-05,   8.72999955e-06,   4.02358323e-07,\n",
       "        -4.47701022e-03,  -7.15640142e-02,   3.87266124e-01,\n",
       "         3.39169660e+00,   1.77233080e+01,  -1.58426866e+01,\n",
       "         3.17533240e+00,   3.68029728e+00,  -3.35384722e+00,\n",
       "         7.07817724e+00,  -1.22693593e+01,   1.34714918e+01,\n",
       "        -9.16645464e+00,   2.67448742e+00,   2.44683609e+00,\n",
       "        -1.09522147e+00,   2.13844572e-01,   5.75466299e-02,\n",
       "        -6.82089591e-08,  -3.54871239e-03,   8.82255422e-02,\n",
       "         3.45691220e-01,  -3.47133452e+00,   8.38545087e+00,\n",
       "        -1.11818800e+01,   7.97557171e+00,  -7.67986005e-01,\n",
       "        -5.79930380e+00,   3.61990644e+00,   9.99440350e+00,\n",
       "        -1.98021916e+00,  -6.05920359e-01,  -5.67157943e-02,\n",
       "        -3.29366945e-04,  -2.07996446e-03,   2.99691473e-01,\n",
       "        -2.99488897e-01,   3.20176846e+00,   6.40572823e+00,\n",
       "         1.91279974e+00,  -2.14243823e+00,   6.52530753e+00,\n",
       "        -7.01030360e+00,  -6.43220423e+00,   6.98995084e-01,\n",
       "        -1.09545456e+00,  -2.57512829e-02,  -6.49822575e-06,\n",
       "         5.33604995e-05,  -3.20977701e-02,   1.25184061e-01,\n",
       "        -2.72514208e-01,  -2.44742412e+00,   4.10064319e+00,\n",
       "         1.64417527e-01,   2.92235873e+00,  -2.26806314e+00,\n",
       "         7.86597888e-02,   5.74989076e+00,   1.97962657e+00,\n",
       "         1.79305342e+00,  -4.02886276e+00,  -2.31933476e+00,\n",
       "         3.71693912e-01,   2.53693774e-02,   3.27134475e-09,\n",
       "         1.12029905e-05,   3.71870661e-04,  -6.05648406e-04,\n",
       "        -3.46838807e-03,  -1.04876810e-01,   2.11119117e-01,\n",
       "        -1.52249843e-01,  -4.17539446e-01,   1.53217895e+00,\n",
       "        -2.38881772e+00,   2.97217009e-01,  -2.33613473e+00,\n",
       "        -2.80328517e+00,  -3.31511867e+00,   1.21696527e+00,\n",
       "        -1.80736845e-08,  -1.19373075e-05,   2.59440076e-03,\n",
       "        -2.12316386e-02,  -1.36584742e-01,   2.21140725e-01,\n",
       "        -8.93754534e-01,  -1.27010691e-01,  -1.72197668e+00,\n",
       "         5.04401661e-01,  -1.98087272e+00,   6.99115593e-01,\n",
       "        -7.65978813e-08,  -1.67867488e-03,   1.31222692e-02,\n",
       "        -5.11818252e-02,   3.36174881e-01,  -4.62058295e-01,\n",
       "         8.87150545e-01,   3.06054457e-01,   1.40864912e+00,\n",
       "         3.05113358e-01,  -6.05926021e-01,   5.24994332e-01,\n",
       "        -2.25888572e-08,   5.22269541e-07,   2.04563794e-02,\n",
       "        -3.38572870e-02,   2.26967840e-02,   1.73035787e-01,\n",
       "         6.76570274e-02,   8.50457146e-02,  -3.08475471e-01,\n",
       "        -1.89239286e-01,   3.41271630e-01,  -3.77444134e-01,\n",
       "         1.82586982e-01,   7.48966716e-01,  -5.59924039e-01,\n",
       "        -4.61126322e-04,   1.31222692e-02,  -1.03916125e-02,\n",
       "         3.46229951e-02,  -1.15611998e-01,  -2.17085962e-01,\n",
       "         1.01013616e-01,  -3.09706505e-01,   3.84650923e-08,\n",
       "        -3.24459722e-06,   1.79837859e-05,   1.93162517e-04,\n",
       "        -1.20936755e-03,  -4.32528467e-03,   2.59440072e-03,\n",
       "         2.68417981e-03,   1.09513834e-02,  -1.23314021e-02,\n",
       "         1.72753282e-02,  -2.38132977e-02,   1.58838524e-02,\n",
       "        -6.64204148e-02,   1.12586720e-01,   3.25653945e-03,\n",
       "        -2.21115227e-08,  -1.25494569e-07,  -8.16322577e-06,\n",
       "        -6.92679981e-05,   4.00002308e-04,  -6.70886818e-04,\n",
       "        -6.05648443e-04,   1.63493394e-03,  -4.47700958e-03,\n",
       "         2.43873458e-02,   1.03643921e-03,   1.08610975e-08,\n",
       "        -6.68936157e-07,   8.92687081e-06,   1.35663744e-04,\n",
       "         5.32820292e-04,  -2.69216522e-03,   6.53855746e-03,\n",
       "        -5.30846438e-03,   4.83290795e-03,   2.71806722e-02,\n",
       "         4.83291250e-03,   2.09041472e-09,  -4.55594467e-09,\n",
       "        -2.21022461e-08,   2.39682294e-07,  -1.04788554e-06,\n",
       "        -5.55304088e-06,   2.73198618e-05,  -2.61352138e-05,\n",
       "        -2.42816645e-05,   3.91365400e-05,   1.85482530e-05,\n",
       "        -1.24667066e-04,   1.32843562e-04,   3.02295357e-04,\n",
       "        -2.71343145e-03,   2.96265875e-07,  -6.68936171e-07,\n",
       "         1.24014836e-06,  -5.63715902e-06,   1.03146072e-05,\n",
       "         3.92569772e-06,   4.64735150e-06,  -7.25848652e-06,\n",
       "         4.39473646e-05,  -4.59178164e-04,  -3.30556278e-03,\n",
       "         1.07895275e-10,  -4.97432152e-10,  -7.15257753e-08,\n",
       "         1.49239576e-07,  -2.36400926e-07,   9.93336388e-07,\n",
       "         1.57075434e-06,  -4.96676929e-07,   1.39430317e-06,\n",
       "        -8.53175422e-06,  -2.16881512e-04,   4.47871334e-04,\n",
       "         3.04818140e-04,  -1.28161976e-03,  -4.18116439e-09,\n",
       "        -7.29261750e-11,   1.27928695e-10,   5.01493280e-10,\n",
       "         1.47460094e-08,   2.20942733e-08,  -1.49457232e-07,\n",
       "         2.34159795e-07,   5.55967292e-08,   1.32725481e-07,\n",
       "         3.21500036e-07,   1.56261372e-05,  -1.42298518e-05,\n",
       "         1.18182887e-04,   4.11917133e-09,  -6.81995649e-10,\n",
       "        -2.58239747e-11,   8.26074742e-10,  -2.60536005e-09,\n",
       "         4.62861152e-09,  -5.34796187e-09,   1.92023254e-08,\n",
       "        -6.24132701e-09,  -1.61201621e-08,   4.01144318e-07,\n",
       "        -2.71091122e-06,  -3.94178020e-11,   2.15997580e-11,\n",
       "         3.73655257e-11,  -2.13563827e-09,   2.86322500e-09,\n",
       "         2.05201149e-07,  -1.33194212e-06,  -2.71080825e-06,\n",
       "        -1.16642027e-10,   4.89284977e-10,  -3.55575206e-10,\n",
       "         8.56154765e-11,  -3.60254060e-09,   1.44368780e-08,\n",
       "        -2.53736843e-07,  -1.31494976e-05,  -2.91715629e-10,\n",
       "         1.14710883e-10,   6.75538253e-10,  -1.83256605e-09,\n",
       "         1.09229570e-10,  -1.86033311e-09,  -5.27397028e-10,\n",
       "         3.51794281e-09,   2.17405860e-09,  -1.02875652e-09,\n",
       "         7.95576011e-08,   2.87389982e-10,   4.42486797e-09,\n",
       "        -2.37502459e-08,   1.64009887e-08,   9.07175515e-09,\n",
       "         6.35899741e-09,   3.74851039e-10,  -1.24402080e-09,\n",
       "         2.33980199e-08,  -1.24671911e-07,   1.95291128e-07,\n",
       "        -1.24671913e-07,  -1.24391353e-09,  -2.98738978e-09,\n",
       "        -7.52358953e-10,  -3.13100491e-08,   4.71468459e-08,\n",
       "        -2.37502451e-08,   6.35899316e-09,   4.11916916e-09,\n",
       "        -1.24402172e-09,   2.01522354e-10,   1.59773614e-09,\n",
       "         2.18898024e-09,   3.24972898e-09,  -4.18119447e-09,\n",
       "         7.55536713e-10,   1.01358219e-09,   2.49973637e-07,\n",
       "        -2.98623376e-10,   5.58008112e-10,   6.75538217e-10,\n",
       "        -1.86005633e-09,  -6.04754600e-07,  -3.60254537e-09,\n",
       "         8.56159657e-11,  -3.84270722e-10,   1.36358926e-10,\n",
       "         1.14713715e-10,  -1.02883995e-09,  -4.65111895e-05,\n",
       "         2.75197164e-08,  -7.09957809e-09,   8.04480635e-10,\n",
       "        -6.99060819e-10,   4.62927972e-10,  -1.16603057e-10,\n",
       "        -6.46092211e-06,  -2.71091121e-06,   4.01144312e-07,\n",
       "         1.92023264e-08,  -5.34796239e-09,  -2.58239355e-11,\n",
       "         2.29503655e-11,  -4.03129978e-11,  -2.89623599e-05,\n",
       "        -5.09371488e-06,   6.97366644e-07,   5.55967283e-08,\n",
       "        -2.03081472e-07,   3.84653215e-08,   2.20942731e-08,\n",
       "         1.47460096e-08,  -4.27557873e-09,   5.01493040e-10,\n",
       "        -7.29256933e-11,  -4.18116492e-09,   2.33980204e-08,\n",
       "         3.04818140e-04,   2.81908253e-05,   1.39430316e-06,\n",
       "        -4.96676928e-07,   1.57075434e-06,   9.93336388e-07,\n",
       "        -2.36400926e-07,   1.49239576e-07,   1.91584685e-08,\n",
       "        -4.97431806e-10,   2.60553619e-10,  -3.94169506e-11,\n",
       "        -2.37502397e-08,  -3.30556278e-03,   7.26501489e-04,\n",
       "         9.86412118e-04,  -4.59178164e-04,  -8.98272374e-04,\n",
       "        -7.25848652e-06,   4.64735150e-06,  -1.04530346e-05,\n",
       "         1.03146072e-05,   1.24014836e-06,   6.08737733e-07,\n",
       "         2.96265875e-07,  -7.33317526e-08,  -8.02344835e-10,\n",
       "         5.96048292e-10,  -9.59770508e-03,   1.85482530e-05,\n",
       "         3.91365400e-05,  -2.61352138e-05,   5.96497606e-05,\n",
       "         2.73198618e-05,  -5.55304088e-06,  -2.52211248e-06,\n",
       "        -1.04788554e-06,   2.39682295e-07,  -5.30846438e-03,\n",
       "        -9.58735916e-03,   5.32820292e-04,   1.67189554e-05,\n",
       "         1.35663744e-04,  -2.66461413e-04,   1.24143020e-04,\n",
       "         1.45001062e-04,  -2.91245137e-04,   2.12249217e-05,\n",
       "         8.92687081e-06,  -6.68936157e-07,   5.69988906e-08,\n",
       "         1.08610973e-08,  -4.62170851e-09,   7.37601132e-10,\n",
       "         1.34891836e-02,   7.01045825e-02,   9.45562132e-03,\n",
       "         1.03852790e-02,  -4.47700958e-03,   1.93718121e-03,\n",
       "         1.63493394e-03,   2.33651600e-05,  -1.25494569e-07,\n",
       "         8.70188998e-09,   3.25653945e-03,   5.16325847e-02,\n",
       "        -1.23314021e-02,   2.68417981e-03,   2.59440072e-03,\n",
       "        -4.32528467e-03,   1.93162517e-04,   6.97629739e-05,\n",
       "        -3.24459722e-06,   3.84650923e-08,  -1.39821198e-08,\n",
       "         9.45536578e-03,   2.03569998e-01,  -1.15611998e-01,\n",
       "        -1.89239286e-01,   2.04288930e-02,  -4.32495144e-02,\n",
       "         4.99353053e-02,  -4.91141564e-02,   3.46229951e-02,\n",
       "        -8.39355285e-03,   1.31222692e-02,  -8.54737424e-03,\n",
       "        -4.61126322e-04,  -1.53933427e-04,   5.64271136e-06,\n",
       "        -3.78744134e-07,   1.92035002e-08,  -6.05932970e-01,\n",
       "         1.82586982e-01,  -3.77444134e-01,   5.45255228e-01,\n",
       "        -3.08475471e-01,   3.43442311e-02,   2.26967840e-02,\n",
       "         2.04563794e-02,   2.89158452e-04,  -1.09547328e+00,\n",
       "         1.40864912e+00,   3.06054457e-01,  -6.12803341e-01,\n",
       "        -4.62058295e-01,  -3.33276904e-02,   4.00497610e-01,\n",
       "         3.36174881e-01,   7.40477032e-02,  -4.17326051e-02,\n",
       "         1.31222692e-02,  -7.65978812e-08,  -2.72635884e-09,\n",
       "         1.11151317e+00,  -1.23320269e+00,   5.96935728e-01,\n",
       "         2.44925745e+00,   5.04401661e-01,   1.01962548e+00,\n",
       "         1.26443506e+00,  -1.27010691e-01,   2.21140725e-01,\n",
       "        -1.36584742e-01,   2.59440076e-03,   5.97483501e-04,\n",
       "        -1.80736846e-08,   1.21696527e+00,  -3.31511867e+00,\n",
       "        -2.33613473e+00,   1.81100740e+00,  -2.38881772e+00,\n",
       "        -1.52249843e-01,  -1.04876810e-01,  -3.46838807e-03,\n",
       "        -6.05648406e-04,  -8.41558996e-07,  -6.19483787e-10,\n",
       "         1.97962657e+00,  -5.14101477e+00,  -3.54203251e+00,\n",
       "        -2.26806314e+00,   1.64417527e-01,  -3.47133452e+00,\n",
       "        -2.44742412e+00,   6.19772727e-01,   2.13220821e-01,\n",
       "        -2.72514208e-01,   1.25184061e-01,  -3.20977701e-02,\n",
       "         4.33265046e-04,  -2.66461626e-04,   5.33604995e-05,\n",
       "         7.80517676e-07,  -5.77691759e-09,   5.58746754e-02,\n",
       "         6.98995084e-01,  -4.03006443e+00,  -6.43220423e+00,\n",
       "         2.67448742e+00,   3.01186467e+00,   6.52530753e+00,\n",
       "         2.58155087e+00,   1.91279974e+00,  -1.94821575e+00,\n",
       "        -2.53631123e+00,   6.40572823e+00,   3.20176846e+00,\n",
       "        -6.59607987e-01,  -1.18674442e-01,   2.54819268e-02,\n",
       "        -2.07996446e-03,  -8.58999088e-06,   9.76284889e-07,\n",
       "        -5.67157943e-02,  -1.98021916e+00,   1.21427882e+00,\n",
       "        -9.25059098e+00,  -5.79930380e+00,   3.68029728e+00,\n",
       "        -7.67986005e-01,   8.38545087e+00,   3.45691220e-01,\n",
       "        -3.12316933e-01,   8.82255422e-02,   1.18894066e-03,\n",
       "         1.67196390e-05,  -1.15429879e-01,  -1.09522147e+00,\n",
       "        -3.30633598e+00,   1.34714918e+01,   7.07817724e+00,\n",
       "        -2.08427044e+01,   1.21549864e+01,  -1.58426866e+01,\n",
       "         1.77233080e+01,  -1.09243036e+01,   3.39169660e+00,\n",
       "         2.97217008e-01,  -8.29253801e-01,  -1.45426827e-02,\n",
       "        -4.47701022e-03,  -3.49381808e-08,   1.12586720e-01,\n",
       "         3.70763783e-01,  -1.82586833e+00,   3.92360670e+00,\n",
       "         2.83477478e+00,  -1.08040431e+01,   1.70764190e+01,\n",
       "        -2.04475664e+01,   2.21496039e+01,   4.68571727e+01,\n",
       "         2.25257007e+01,  -2.43553437e+01,   1.39422251e+01,\n",
       "        -7.89482531e-01,   1.34564999e-01,   1.24350208e-02,\n",
       "        -2.76911409e-03,   2.03894256e-07,   2.08042997e-05,\n",
       "        -2.16881856e-04,   9.45469706e-03,   2.03569999e-01,\n",
       "        -3.77691861e-01,   3.08158981e-01,  -2.80328517e+00,\n",
       "         5.91942529e+00,   6.47356383e+00,   4.09633459e-01,\n",
       "        -1.29451179e+01,   2.97520738e+01,  -4.48824644e+01,\n",
       "        -7.14417517e+01,   4.81480810e+01,  -2.28501586e+01,\n",
       "         2.76470716e+01,  -1.68394022e+01,   3.21998699e-01,\n",
       "        -1.41989736e+00,   8.87150547e-01,  -3.16350787e-01,\n",
       "         5.09676828e-02,   6.58528218e-03,   1.70856071e-02,\n",
       "        -1.15499522e-01,  -4.21750239e+00,  -1.43135674e+01,\n",
       "         1.34186321e+01,   3.53002868e-01])"
      ]
     },
<<<<<<< HEAD
     "execution_count": 34,
=======
     "execution_count": 31,
>>>>>>> 4b93a6aa1c938018a65db675609718c14664bb75
     "metadata": {},
     "output_type": "execute_result"
    }
   ],
   "source": [
    "Vrobs"
   ]
  },
  {
   "cell_type": "code",
<<<<<<< HEAD
   "execution_count": 40,
=======
   "execution_count": 35,
>>>>>>> 4b93a6aa1c938018a65db675609718c14664bb75
   "metadata": {},
   "outputs": [
    {
     "data": {
      "text/plain": [
<<<<<<< HEAD
       "(25, 75)"
      ]
     },
     "execution_count": 40,
=======
       "Text(0.5,1,'Signal recovery using 26.3% of observations')"
      ]
     },
     "execution_count": 35,
>>>>>>> 4b93a6aa1c938018a65db675609718c14664bb75
     "metadata": {},
     "output_type": "execute_result"
    },
    {
     "data": {
<<<<<<< HEAD
      "image/png": "iVBORw0KGgoAAAANSUhEUgAABJ8AAAGaCAYAAACheOJlAAAABHNCSVQICAgIfAhkiAAAAAlwSFlz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\nsQAAAABJRU5ErkJggg==\n",
      "text/plain": [
       "<matplotlib.figure.Figure at 0x7f49a43624e0>"
=======
      "image/png": "iVBORw0KGgoAAAANSUhEUgAABLIAAAGaCAYAAAAb22oFAAAABHNCSVQICAgIfAhkiAAAAAlwSFlz\nAAALEgAACxIB0t1+/AAAADl0RVh0U29mdHdhcmUAbWF0cGxvdGxpYiB2ZXJzaW9uIDIuMS4wLCBo\ndHRwOi8vbWF0cGxvdGxpYi5vcmcvpW3flQAAIABJREFUeJzsnXmYLVdV9t+VObmZJxIJEAiEhOEj\n4GWIAcyACaCQOCAghkkmAQFRPgGBBDWICCYi8GlACEFRZhFRCCYkQhIIN0xC5pt0uPPtvkPPfcb1\n/bF3caqra97rTN3v73nOc7qrdq3aVadq195vrbW2qCoIIYQQQgghhBBCCBl19hl2BQghhBBCCCGE\nEEIIKQOFLEIIIYQQQgghhBAyFlDIIoQQQgghhBBCCCFjAYUsQgghhBBCCCGEEDIWUMgihBBCCCGE\nEEIIIWMBhSxCCCGEEEIIIYQQMhZQyCKEEDKSiMhLRURF5KXDrksZfF2vH3Y9yPAQkZP9dXDVsOtC\n+oOInCAinxSRzSLS8b/3kcb7uF5E1NLmaobnixBC1h4UsgghhAwEEdlXRF4pIjeIyG4RaYnIThH5\nsYh8TESeO+w6ErLaEMczReTvROSHIrJHRJZE5E4RuUJEHlCw/WNF5GoR2SQiDX/P3iAiL65Qh7eI\nyH+KyISIzInIjIj8r4j8jYiclFJ+HxF5k6/jrIh8V0SekWH70b5erytbn0CuAnAxgBsA/AWAdwNY\nGtC+1yQicpUXDE8edl0IIYSMBqLKFxiEEEL6i4jsC+A/ADwTwF4AXwWwGcDRAE4BcCaA76vqU2Pb\nHAHgRADbVHV64JWuiPcIuEFVzx52XchwEJH94a7naVXdNuz6AICIHARgEUATwP8A+BGAfQGcC+D/\nANgB4GmqenfKti8F8DEAC3D37wSAIwE8BsBWVX1ByTrcA2DO73sHgP0BPB7ALwOYAXC2qv4gVv4N\nAP4WwDcA/C+A58G1BetV9UexcvsCuAlOSDpb+9ypFZED4M7ltap6fh/3cz2AX1ZV6dc+xgnv4fgS\nAA9V1YmU9Q8GcIiq3jHgqhFCCBkS+w27AoQQQtYEL4QTsX4EN0BbJkyJyCEAnhxf5suMvIBFSISq\ntgCM2mC6A+AdAD6iqnuihSKyD4CPAHg1gL8B8Jz4RiLyFDgR6ycAnqmq2xPr969Qh8eo6gqvJRF5\nJYArAVwG4NmxVb8P4JuRWCQiHwJwj6/ra2Pl3gzgsQAe128Ry3MCXDTD1gHsi5REVX827DoQQggZ\nLAwtJIQQMgh+yX9fleZdpaoLqvrN+LK8HFkicoGI3Cgi8z5M8d9E5LS0EJR43iL/97+KyJQPr9og\nIr+WYv8IHw51nc+F0xSRSRH5dz/ADyJRp1NF5DM+ZKsrImfHyh0tIn8pIreLyKKITIvItSKS6Q0i\nIs/3ZXb7Y5wQkX8RkfWJcgeKyFt9aOeCD/f6loj8dqLcmb6uX8zZ5+0+vOvoxPILfEjZlF+/UUT+\nWlJyCvl6TojI4T7kbEJc+OmlIvJeX4fUcDYR+UW//itZdYyVzc29Jim5zkTkMBF5p4j8xJ+nWX8s\nnxGRX4yVS82RFb8uReTV4sLqlkRkh4hc6b0P0+pS+jrPQlVbqnpZXMTyy7sA/sz/e3bKpu+D89z6\n3aSIFdkt2nesbFbo3Wf99yMSyx8C4JbY9vcBmPLLAQAi8gi4sL53pnmTlUVEHiEudHKLv8+3+v8f\nkSg3AeB+/+9L/PkvnQ9NRM4Tka/F7su7/HWd+tv7bQ4Ukb8Qkfti988l4jzDkmWfJiJf8e1VQ0S2\ni8h3ROSSlLKHiMjbxIWazosL97xZRF6YUvZsf5yXisiTROSr/hjUX4t7xbVdqS/HReTvfdlfjS27\nSET+yZ+DaP+3isgbxAms8e0VzhsLAO6LnfeJWJnUHFniQlRfIyLf8/uY93//fnI/0b68rWP9fbnN\nn8ufisjLUsqLiLxERG4S93xYEheC+3UReX7a+SCEEGIDPbIIIYQMgl3++9RQQ36A8GkADbiB8DY4\noexmOI+vLKLB8b0APgUX1vh8AF8WkWckhLTT4bxE/gcuDHIPgAcDeC6AZ4nIc1T1a6HHAheG9l0A\ndwH4ZwAHw4VaQUQeAuB6ACcD+BaArwFYB+DXAHxNRF6tqh+NDImIAPgE3KBvCsAXAUwCOAnAOQDu\nBLDBlz0AwNfhQrvuAPBhAIcA+C0AnxGRM1T17QCgqjeLyJ0Afk1EjlHV6LeM9vskAKcB+IKq7o4t\nfxec0LAbLixtJ1wo2x8DeLaInKmqM4nzcQCA6+B+m2v8ubgPLh/RW+A8cq5OOY+v9t//kLIuCH9e\nv4beNfYxAG0AD4ITgL4F4NaS5t4H4AIAX4E7vnMAvBLAw+FC/eL7rXudV6Hpv9uJfZ8E4Glw18tP\nReQcAL8IQAH8EM5bqmuw/8gL7MeJ5T/z+4vq8xAAx8ILSf43+Ue/3eV1dy4iTwTw3wAOA/DvAG6D\nu5ZfBOBCETlPVTf44lfA3YtvhDv//+aX/7DEfl4N4P8BmAfwObh74WwAfwLgOSJylqruTdn0swCe\nCODzAFoALgRwKYD1IvLcyAtNRJ4J107N+OPYAncPnQ7nwfbuWF2OhLvHHg/g+wA+Dvdi+wIAnxaR\nR6vqO1LqciaAtwH4tt/mWL+/zwB4FYBnwV3X8eM+EMBvw4WTfj226r0AunBt3xYAR8Bd/3/rj/fi\nWNl3A7gIwOP8+ug8pZ2vJJ8C8DsANsHdtwrg1+E8EZ8K9zsnORLAjXD3xucBHATXLn5cRLqq+slY\n2cvgzsl9cL/VNFwI7BPhwmE/U6KOhBBC6qCq/PDDDz/88NPXD9ygqQk3ePkUgN8A8JCCbV4KN/B4\naWzZYXCiUgMunChe/r2+vAI4Obb85NjySxLbXOCX/2di+REAjk2p00lwYUW3p6xTANeXPB/xOr0n\no8z1/ny9ILH8SLjB8yKAB8SWv8rbuwXAEYlt9gVwYuz/t0XHDWC/2PLj4fIgKYBfSin/+pR6ftiv\ne05s2Tl+2U0Ajsz4XS9PLI/2+98A1qXs5z/8+scmlh8KYBZO/Ni3xLlfcV3l/Y5woWsK4EspZfcB\ncFTK73pVotxVfvnPADw4tnw/OLFUATwp5DqveV/+ibfzL4nlv+6XfxrAN2P7iz4/BvDwGvt7BZwQ\n8344YaPjf/dHJMq9ye/nv3zZCTix7fF+/R/4c/OogGMXALf7/bwose75fvkdAPYp+n0L9vMQX9cZ\nAKcl1n3E27sysfx6v/yuxPV1EJyQqQAuji3/gl/2uJT9H5v4P7oW/29i+UFwgm0XwBmx5WfHfvdX\np9g/06/7fMq65/l1H0gsPyXjXvqkL//kjDqnXu/R+Uose6Hf5vsADo0tXwcn0CqA30lsEx3nxxBr\nSwA8yl9/tyXK74LL9XhI0Xnnhx9++OHH9jP0CvDDDz/88LM2PnBv5rdh+YB4F4AvISaCxMq/FCuF\nrN/1yz6eUv5QuMF/lpA1gRShA87LY6rCcXzQ23twYnkdIWs7gANT1j/Or/9cxvYX+vWvjS37X7/s\n8SX2f7cfsJ6Wsu73kucYTsDrAPheouwB/jfcgeWC2Je8jUdn7P8HAHYmlk0gYzDu1/+qX/93ieWv\n9svfVfLcr7iu8n5H9ISsT1f4Xa9KLL/KL39FyjYvQ0IkrHOdV/3AeY0swAkspyTWRee07a/RXwdw\nOJwH4dV+3Z0ADqi4z+9g+f1/C1IEMThR44/9dToH4HsALoid41kAf+r//31/7XTghKkLS9blLF+H\nmzLWf8uvf3rR71uwnz9FhmAN4Ch//hcRawfQE7IuTtnmbL/um7FlkZB1akFdjvG/6fcy1kftzvtS\n9veDHLt3wol1RyeWR+Lz/yl5rp6AlHsZ9YSsb/htzk8pf55fd11iucJ5zR2ess0Nfv1hsWW74Lyx\nVrTh/PDDDz/89PfD0EJCCCEDQVU/KyJfgvPWeSqcl9ZT4cJGLhKRq+HEBc0x83j//e0U+3Mi8kOk\n5/sBgB+qaidl+SY4r4JliMhZcGFEZ8J5KiXz0jwQzsMmhB+paiNleVSfI0Tk0pT1x/nv031d18HN\nJLdDY7O/pSEih8GFsm3R9Fm+rvPf0bmGqm4WkWsB/IqIPEpVb/OrngMXwnS5qsbD086EC4V6nog8\nL2UfBwA4LiVUcQkrw8wi/gtu0HixiPyJqi745a+CEzE+lrFdKLfBecC90Ie4fRnu+tugqs3cLVey\nIWXZJv99VGxZyHVeiIicChcGtj+cx9/GRJF9Y9+vUNX/8P/PiMhL4K679QB+E8C/lN2vqj7F7/8Y\nONHiMgC3isjzNRaqqy5s8f3+k+SjcALXX4nIRXBeTf8PTsx5DYAviMgTVDXrOop4gv++LmP9dei1\nU/9T4vAq70dV94jIDwA8HS6kMRkyekOKvW/Be6fFlv0znJfrd0XkM3BedDeq6ubEtk+E+001o12J\nEvifnrLulpRlEZ+E+y1fAPd7QEQeAOfx+oPkb+F//7fAJfh/GJyXVJwH5uyrLE+AE+uvT1l3A1yb\n8fiUdXfrypBnoHefHgknpALuvP8BXPjt57zdm3UMZtklhJBxh0IWIYSQgaEuQfQ1/gMR2RduMPxx\nAC+G8+T5t0wDLuQPcB5AaWQtB7JzqrSRmPxERH4dLj/KEtyb/Y1wb+q7cALCLwM4MGdfZVmRRNtz\njP/+Ff/J4lD/HSVP31Jin9E53JaxPlqeTMh+la/LS+BC0oBeEuZPJsoeA9fHuKSgLoeilz8NcF5a\nqUKmqnZF5B/gQuueD+AT4hKtPwHAv6lqX2aSU9WOiJwL4F1wuXL+yq+aFZFPAnibqs6VNJd2DUYC\n4L6xZSHXeS7ikph/E06AfIGq/ntKsSgxfAMu/PTnqKqKyJfhhKwnoYKQFbOxC8A3ROR7cOF7V4vI\nQ1R1saDur4S7/56oqm0ReQvcbIav8/X6DoDz4by5UicGiFH3PqhKyH5W/M7+etwFJ65Hy74obtKK\nPwLwcviccSJyK9z1+Q1fNGpXnug/WRyasiyrrQKcl96fw7UHH/HLXgTXBixrG3yOru8BeCicOHY1\nXB69Ntw5eCNs2tYjAOxOE5v9tTOF2DmMkfecAJbfp38I92x4OYC3+k9bRP4TwB+p6j11K08IISQf\nzlpICCFkaKhqR1U/i17C5nPzysMnQgfwgIz1Wcur8udwOb3Wq+pFqvpHqvouVb0ULozGiizvs+iN\n/htVVXI+0Uxa0eCrjCdDZPuEjPUnJspFfAnu/P+uiOwrIsfBJXj+kaomPUmmAewpqLuo6v2J7fK8\n8QAneDbQS+5eJ8l7lKR8xcs8SZlNEXCeM6r6h6r6ILgZ9l4BJ8C8Hs4byJq+XOcicjqc18ixAJ6n\nql/IKBpd47OantQ9EroOrlOPCHUJzm+G8zB8dF5ZEXkggL8G8F5VjRKsnw7n8aPe3ryve64tT937\noCoh+1nxO3vx/xj0rhEAgKp+VVXPhfPsOw+uTX00gP8QkUcl9nF5wX15TkpdMu9N7/l1HYAnichp\nfvFL4LwyP50o/go4EevdqvpkVX2tqr7Dt62WydGnARwtIvsnV4ibYTFKVl8b//z6W1V9HNxv9Ztw\n7eRz4SbksBDkCCGEpEAhixBCyCgQhWpIQbkobO6pyRUiciiAM4zq83C4xL63J/axT9q++8B3/PfT\nyhT2A/ifAHiAiKSFy8TLzsJ5ETzQe+ckiQax309stwg3M9cvAHgGMjwuYvU/SkTKCAqlUdVJOE+5\nJ/vQzxfC5Ue6poKZSIR5UMq69SXqcI+q/iOcV94cXL4ya8yvcxF5LFyY1dEAflNVv5xT/MdwM18e\n60PEkjzGf09UrUcKkfjazi3lxMrNcCJznKRYcFDJ/Ubn+OyM9dHy72esL0vmfrxwegac5+ftyfVw\n11iSp8Hdd6khxKo6r6rXqeqbAbwHLoz3WX71LXBCbql2pSJX+e+XiMgZcDOU/pe/Z+M83H+niahp\nxwu4MEBguTdUET+AG+c8PWXd072t0N/256jqTlX9oqr+Npyodwp69wkhhBBjKGQRQgjpOyLyQhH5\nFS8EJdedAOCV/t+iXDRfhnvT/iIReVxi3TsQHgYUMQHgESLyC7F6Clyo3KOyNrJCVTfA5cL5DRF5\neVoZEXmsiMRDYz7ov/9BRI5IlN1HRE6MLfo4nGj4197DIyp3LIB3xsokucp/v9h/2nB5YpJEHnYf\njZ/D2H7WichT0o6rBJEH1GfgQqCuzPAaymID3GD+d0TkkFidjgbwvpS6PjRDkDsKTkTJDYeriel1\n7oWFb8LNhnhhLOdVKj7fWeTl9r74fesFsZfC/fafT+zntJhHTrTsISLysIx6vRouxG0T3GQFWfW/\nGMAzAbw8ESp2G4CnR9e738+jAPw07/g8N8J5bz1VRH4rsb/fghM77kJKnrKK/BOcZ9IfiMjDE+v+\nHC6J/j9l5Mp7p4j8PHeaiBwE4C/9v5+ILT9PRNK84yIRcgFwYgvc/bpeRN7pPZOWISKniMhDyx3a\nMr4I77EJd30AvfYizoT/Pjux38fDzY6aRhR+/OAK9Ynar79M3OeHwIUnA8A/VrC3DBE50J93SSzf\nH04sBvx5J4QQYg9zZBFCCBkET4bLfbJdRL4Nl7QbcCEmvwoXovRlJAbGSVR1RkReCzc4vElEPguX\nY+aX4GbcugHurX4VYSONywH8PYAfiMgX4AaiZ8ENkr8Cl+S83/wO3Jv9fxSRNwD4LlwI4Ulw3g6P\ngUuqvtOX/xicB8+LAdzt8xhNwnlQnQs3sLvUl30/nJfGhQB+5HO6HALgeXB5Y96nqmmJxm8UkXt8\nuf0BfMUPjpPlrhWRt8INuu/29u+DE54eAvcbfRtOnKiEr8OP4H7vFtIFt7ztt4nIPwO4GMAPReSr\ncGLCs+GE1KRH2+MAfMnnG/oJgK1woXAXwp2Dv4Ixlte5F0KuhRtcXwvgTBFZMbkBgCt8qF/Ee+BC\n1F4M4LEicj3ccf8mnNdTWg6gyKsoPrh/PIAvishNcMLQDrjQuKfAzQg5Bzc7X9pEDFHS8CvgwuGS\nCcffB9du3Cgi18AlPAdcCGIuPqfWS+By4H3G3y93AHgk3AQUswBeXFEkTdvPhIi8CcCHAXzf/5aT\ncL/fmX6ff5Kx+e1wicQ/D3etXwjn6fNVAJ+KlfsAgJP9bzQBFxb9i3D3/f0A/jVW9vVw4bF/Bjdx\nwrfhfpNfgAvVfCKcp+N9qICqLvqE578H4LVw4tNXU4peDZfo/QoROQcucf8jAPwanBj2/JRtrvXb\nfNSfizkAe1X1Qzn1+bSIXAg3W+5PReTf4MIjL4J77nxWVdNE+LIcDOC/AUyIyHfhzvNBcHkETwfw\n70mPXkIIIYboCEydyA8//PDDz+r+wIVxvQ4uf8idcG/um3CD8/+Ee4u/T2Kbl8INPF6aYu9ZAG6C\ne+O9B24wexp6070fGSt7sl92VUbdrkdi6vbY/n8Il+R9ytf9sXBikAI4O1FeAVxf8nzk1ilW7jAA\nbwdwK9zgbRFugPlVuNn61qVs8yI4oWMaLmTpPjgvjCckyh3kbf/E252FE5deWFCnd/i6K1yIWl7Z\np8KFI271v/ekP6d/A5d/LF52AsBEyfP3Rr//z9W8Hg+EEzs2+3rdA+cNsl/yd4QTDt8D58GzHS5H\n12a4WRSfVeZ3hfNMUQAnp9TlbL/u0pDrvMS1VvRJq9sh/nq/wx/3NNzg/VkZ+1Ik7iU4L5oPwIW1\n7YATZGbhZuh7P4AHFdT/83AC2MEZ618FFyrbhPPEem7Fa+GRcKLQNl+3bXAC4iPr3rcZ+zkfLgR2\njz+X98AJcSt+Q/g2yV+nfwF3DzcA3AvnFXpgovxvwyXdvxuunZiBu68vA3Bciv0D4AStm/xv2oCb\ngfVaAG8CcEyZ6zPjfo+up7/LKfcoAP8OJ8LPw7Vvr8g7vwDeDCfsNXyZieT5StlmHzhRbQPcPbTg\n9/U6JJ43sev3+ow6X4XYfQInYv9fuHbgZ3Bt7SRcWPVrABxQ9Rrhhx9++OGn/EdUi/KqEkIIIaOP\nD5G7F26Ql5VYmawCROQquGTSz1DVa4dcnYHC65wQQgghax3myCKEEDJWiMiR8ZwnfpnAeQo9GC48\nhaxSRORBAF4A551x3ZCr0zd4nRNCCCGEpMMcWYQQQsaNp8DltLkGLhztUL/sDLik0ZcOrWakb4jI\n7wA4FU7EOhDAO3V1u5XzOieEEEIISYGhhYQQQsYKP6PWX8AlXz8O7qXMZri8Qe9R1R1DrB7pEz6R\n9dPhRJzLVfWK4daov/A6J4QQQghJh0IWIYQQQgghhBBCCBkLmCOLEEIIIYQQQgghhIwFzJFVkWOP\nPVZPPvnkYVeDEEIIIYQQQgghZNVw6623TqnqcUXlKGRV5OSTT8aGDRuGXQ1CCCGEEEIIIYSQVYOI\n3F+mHEMLCSGEEEIIIYQQQshYQCGLEEIIIYQQQgghhIwFFLIIIYQQQgghhBBCyFhAIYsQQgghhBBC\nCCGEjAUUsgghhBBCCCGEEELIWEAhixBCCCGEEEIIIYSMBRSyCCGEEEIIIYQQQshYQCGLEEIIIYQQ\nQgghhIwFFLIIIYQQQgghhBBCyFhAIYsQQgghhBBCCCGEjAUUsgghhBBCCCGEEELIWEAhixBCCCGE\nEEIIIYSMBRSyCCGEEEIIIYQQQshYQCGLEEIIIYQQQgghhIwFFLLWKKrDrgEhhBBCCCGEEEJINShk\nEUIIIYQQQgghhJCxgELWGoUeWYQQQgghhBBCCBk3KGQRQgghhBBCCCGEkLGAQtYahR5ZhBBCCCGE\nEEIIGTcoZBFCCCGEEEIIIYSQsYBC1hqFHlmEEEIIIYQQQggZNyhkEUIIIYQQQgghhJCxgEIWIYQQ\nQgghhBBCCBkLKGStURhaSAghhBBCCCGEkHGDQhYhhBBCCCGEEEIIGQsoZK1R6JFFCCGEEEIIIYSQ\ncYNCFiGEEEIIIYQQQggZCyhkrVHokUUIIYQQQgghhJBxg0IWIYQQQgghhBBCCBkLKGStUeiRRQgh\nhBBCCCGEkHFjoEKWiJwkIh8Xka0i0hCRCRG5QkSOqmjnaL/dhLez1ds9KaP8X4nItSKySUQWRWS3\niPxARC4RkWNsjo4QQgghhBBCCCGE9JOBCVkicgqAWwG8DMAtAC4HcC+ANwK4uayg5Mvd7Lfb6O3c\n4u3eKiIPS9nsDwGsA/ANAH8L4J8BtAFcCuDHIvKg2gc2ptAjixBCCCGEEEIIIePGfgPc10cAHA/g\nDar6d9FCEfkbOKHpMgCvKWHnPQBOBXC5qr45ZucNcCLVRwA8M7HN4aq6lDQkIpcBeDuAtwF4baWj\nIYQQQgghhBBCCCEDZSAeWd5L6nwAEwA+nFh9CYB5ABeLyLoCO+sAXOzLX5JY/SFv/4KkV1aaiOX5\nrP9+RP4RrD7okUUIIYQQQgghhJBxY1Chhef672tUtRtfoaqzAG4EcAiApxTYORPAwQBu9NvF7XQB\nXOP/PadkvZ7jv39csjwhhBBCCCGEEEIIGRKDCi18pP++K2P93XAeW6cCuDbQDrydFYjIHwM4FMAR\nANYDeCqciPXenH0SQgghhBBCCCGEkBFgUELWEf57OmN9tPzIPtv5YwAPiP3/NQAvVdXJvJ2KyKsA\nvAoAHvzgBxdUcTxgaCEhhBBCCCGEEELGjYHNWliA+O9QeSXXjqqeoKoC4AQAvwHgYQB+ICJPyDOq\nqleq6npVXX/ccccFVpEQQgghhBBCCCGE1GFQQlbkKXVExvrDE+X6akdVd6jql+DCGY8BcHXBflcd\n9MgihBBCCCGEEELIuDEoIetO/52auwq9WQOzcl9Z2wEAqOr9AG4D8GgRObbMNoQQQgghhBBCCCFk\nOAxKyPqm/z5fRJbtU0QOA3AWgEUA3ymw8x1f7iy/XdzOPnAeVvH9leEX/HenwjZjDz2yCCGEEEII\nIYQQMm4MRMhS1Y0ArgFwMoDXJVa/G8A6AFer6ny0UEROE5HTEnbmAHzKl780Yef13v7XVfXehJ0T\nknUSkX1E5DIAxwO4SVX31Do4QgghhBBCCCGEEDIQBjVrIQC8FsBNAD4oIucBuB3AkwGcAxcK+KeJ\n8rf7b0ksfzuAswG8WUTOAHALgNMBXAhgJ1YKZc8E8Nci8j8ANgLYBTdz4S/DJXvfDuCVgcc2dtAj\nixBCCCGEEEIIIePGwIQsVd0oIusB/BmcuPRsANsAfBDAu1V1d0k7u0TkTACXALgIwNPgxKlPAHiX\nqm5ObPLfAK6EC198HIAjAczDiWefAvDBsvsmhBBCCCGEEEIIIcNDlK45lVi/fr1u2LBh2NUIZnoa\nOCJr7kdCCCGEEEIIIYSQASIit6rq+qJyg0r2TgghhBBCCCGEEEJIEBSy1ih0xCOEEEIIIYQQQsi4\nQSGLEEIIIYQQQgghhIwFFLIIIYQQQgghhBBCyFhAIWuNwtBCQgghhBBCCCGEjBsUsgghhBBCCCGE\nEELIWEAha41CjyxCCCGEEEIIIYSMGxSyCCGEEEIIIYQQQshYQCFrjUKPLEIIIYQQQgghhIwbFLII\nIYQQQgghhBBCyFhAIWuNMuoeWa3WsGtACCGEEEIIIYTY0ukMuwbjD4UsYsbSkp2tzZuBdtvOHiGE\nEEIIIYQQUoXFRaDbtbU5OWlna606gFDIWqO028DUlI2tmRlgxw4nPlmgCkxPA1u22NgDgJ07gUbD\nzh4hhBBCCCGEkNXN5CSwdaudvb17gV277Lyytm+3sTNuUMhao7Ra7iayYGbGiVjT00CzGW5vetrd\n2FNTTgG3YOtW4M477dT0RgPYvdvGFiGEEEIIIYSQcLZsAebm7Ozt3eucIiyEp3Yb2LjRRTLt2hVu\nr9u1sTOOUMhaw8zP29iJNxQzM+H24jejhdjWaLiGp9WyU9N373YNmmU4paUtQgghhBBCCBl1LJ0D\nWi3nQWVlc+dOZ1PVxsEiPra1EKBmZ+3DHscFCllrmHYbWFiwtRFqD1jeSFgIY/E6zc6G2wOct9j8\nPLBtm429ZhPYtMnGFiGEEEIIIYSMOp0OMDFh52AReU7t3m3jQRUfi1rUMW7PwonBYuw9rlDIWuNM\nT4dtPzOzfAbE0Jup210enjiKwxxPAAAgAElEQVQ/H64yx5XvxcXwRm1pqVfH6WkbFXzPHufZtnNn\nuK0ICxGQEEIIIYQQQgA3Btqxw87e7t1uLLlnj509wI33LESeuHgVOm4GlkcyJce9dbBKwzOOUMha\n44Re/MntFxeXC1tVWVhYvr1quFodb4BUw2Om48fc6dgIRpFb6JYtdrM1/uxna9fVlBBCCCGEEGLL\n7KyLSLEYY6j20r5YjKfm55cLQ6FC1sLC8nFZqEdWq7VyhsFQm1aebOMIhaw1TqiQlRSZut0wm2k3\nY4i9bnflbIXWDUZoI6naC3nsdm0a8rk5d9yW4YppjS8hhBBCCCFkNJmdtc3Du3eve5Fv5Z0UCUWL\ni+Ev85NjMgshK07auLIKaWPakHFpu20z0dq4QiFrjdNohCnqaTdkSGOZtm2IkJW2bah4l2zUQoWx\nxcXlv4GFkBXZmJqyCzHcsWNtx2ETQgghhBAyTuzZY5fTd3Gxl7LFQshKjlFCx1T9FrIA+3FpyLh5\nLYcVAhSy1jwhoXtZqvQoCVnW9tK2t24kLRLSx8MnrWbt2LPH3n01JAyVEEIIIYSQ1YRFgvI4kfhk\nEQoYH1NYjAmSY57QMVWyTktLo+WwYe1gsdZnvKeQRWrfBFk3nrWQZW0vxAut1Vrp9hrq1pk8j81m\neAhf/EFg8cZkcdHVa9s2m6liAXfeLJPbE0IIIYQQMs7cfXdY+FqcmRn3crvbDc8RDCwfUywthYlu\nqiuFqxBRJ8s5w1p4sh6XNpv1X+xTyCJrnro3QVYjW7fx7XTSY6ObzfrCU9ax1T1ma3tAeiMZ8kYi\n+WBpt8MfiPE3JpOTYbYidu1iqCIhhBBCCCERi4t2L3rjffbQiI9OxzYqZWlppYAT6p2UJgjVHaO1\nWulCnbWQFWLTSvAcVyhkkdo3waBEImB06phVj1EKf0zbNvQtTNxVNzkjSF327HEPQMu3CVYzPhJC\nCCGEEFKEZdqNKBQuykMVQnICKev8U0DYeCXNXqNh7500Ks4L7Xa2B5v1OHetQCGL1L55srbrduuF\nxuXVo24dswSXURHGOp30c2UtZI1aHq9utydiTUyE2Ypz//12tgghhBBCCMmi0QDuuccm/xQAbNni\nvpvNcG+bKKQwwjr/FGD/Il/VfoxmPc7NiiCqa69oXRaqa3vGQoBCFoG9SFTXpvUNnheSOCrhlP0I\nVUzbNuThlZbU38LDK3rjMj9vM+vG7KzdDI2EEEIIIYTk0Wg4UcPCg6rVWm4ntK+d3L7TCRM+0sYS\n/Zhxz9qDqh/eTqMyzl3rk2YNVMgSkZNE5OMislVEGiIyISJXiMhRFe0c7beb8Ha2ersnpZQ9RkRe\nISJfEpF7RGRRRKZF5Nsi8nsisubFvDxXxzz6cUMOyl7dhjyrHtbC2KjN/JhsKEPdk5PbW3QApqed\n6GaR3D6i0+FDghBCCCFkNWAxoVKcqH9t1Y+N049QwJAX24NIfA7Ye1CtZoeNtc7ARBwROQXArQBe\nBuAWAJcDuBfAGwHcLCLHlLRzDICb/XYbvZ1bvN1bReRhiU2eB+CjAJ4M4LsArgDwBQCPAfAxAJ8V\nEQk6uFVA1ZuhKHywzs1lfYP3I1Qxa7tWq55bcV54pqXYlhXCWIasB1eIwJN8OIeGKgI9b6yNG+0a\n923bbDs8hBBCCCFkOExPA5s22djqdFw/EbDpxyZtWKcFAeoLT1khf+12vTC7vLA4aw+qfjhsWI9z\nre2tFQbpjfQRAMcDeIOqXqSqb1XVc+GEqEcCuKyknfcAOBXA5ap6nrdzEZywdbzfT5y7ADwXwEmq\n+iJVfZuqvhzAaQA2AfhNAL8RenDjTtWboeiGq3NDWntQ5R1THeGpaJtRENvywinremVlxbBb5vGK\nhxrWIT6TiqqbETEUVWBqig8KQgghhJDVQKPhvKcsJgfas6cnkLTb4Ym3k6GAIf3sViv9RWxIBElW\nP73u+MfSXpFYNSpjtDrrLLdZbQxEyPJeUucDmADw4cTqSwDMA7hYRNYV2FkH4GJf/pLE6g95+xfE\nvbJU9TpV/YqqLhveq+p2AH/v/z27wuGsSqreDEU38Djc4FVtFpUfhUYybxvrmPO6D9i0nFvdru3M\nJ3v21LcVMTubPtUwIYQQQgjpP3U8afKIBBSLNBTJcMKQUMBWa+U4I62/XJZB5Z8CRn/8A1Qf83U6\n+deetYNFnYnSKGQNziPrXP99TYqgNAvgRgCHAHhKgZ0zARwM4Ea/XdxOF8A1/t9zStYrumQMdPnx\nZtgeWUUJ6/pxg1c9ZutGssjmKDwYgMFNZxviQp3cdnEx/G1bFKq4aZONyzjgjn33bhtbhBBCCCGr\nmYmJ8KTnEYuLPQErdHIgVdtQwKxtrfva/RCy6tgsCrOrGqUx6DFfVXuqxeNYa6eStcCghKxH+u+7\nMtbf7b9PHZAdiMh+AF7s//1aUfnVjrV3krW9ftgctkdWkTg3Kh5Z1gnprT28gPQOgOVsL9u3h9mK\n2Lkz3PWcEEIIIWQt0Gza9cF27OgJJKF9xIWFlak8LFNuhNrM6mt2OvVe9A4yv1MZ0aeKPcB+zFe1\nfq1WsTjXj7HzamdQQtYR/jvLkTNafuSA7ADAe+ESvv+nqn49r6CIvEpENojIhsnJyRKmxw/rm6dq\nI7QahKxhC2NF21hP7TpKQlbatiEu3qrLxbHZWbt8CnzwEEIIIYQU02w676nQEEPV5aGAobMXpvUx\n+yFkWUdT1LU5yNDCOjYHPUbrdquNC/oxzuVkVINN9p5HNGtg6ET3peyIyBsA/BGAO+BybuWiqleq\n6npVXX/ccccFVnE0GbYHlbW9YSjf1o2u9YOhjqtukTBWJ0G7tZClmm4zdIrh+LGphruhz8+7h970\ntF2oYmSXEEIIIWTYRLP4WbCw4PpNaWF8VZmfXymGWYcC1p3BD1h7Oa1G3TmgzP6r2BzGOHctMCgh\nK/KUOiJj/eGJcn2zIyKvA/C3AG4DcI6qMmMNXMNbZRa/MjdbFaW4TNlhCmNlylvbK0o0WNVm3lS3\nWRS5/lq6E9ftAGQJdNYdFKtQxXYbuP/+MFsRjQawdauNLUIIIYSQunS7rk9ildNq06be36FCVtr2\n/chpVfelbFbfuI5IZJ26pMheHVHFOhRw0KGFwHAjjxjd4RiUkHWn/87KXfUI/52V+8rEjoi8CW52\nw5/AiVhGUderg7I3RdmwwWEKT8MQsqoKT9Z1LOPmOgqzU1rn8crapt2u73ab1hGxzLnVaNh4Ze3a\nxWSPhBBCCBk+UR9zaircVqOxvN8U6n2e1oezjgQA6veLs5wJWq1qjgZl6tAP76Qq44syzhP9GKNZ\nO2xYj0uthbG1wKCErG/67/NFZNk+ReQwAGcBWATwnQI73/HlzvLbxe3sA+D8xP7i6/8EwOUAfggn\nYu2sehCrnbI3UFnlfdSFrCpvEMqKVKN+zMMOf2y388+jpZAF1O+kpG23tFS9MxEn2Qmzmvq52bSf\nnpoQQgghq5tu1zY8KeozWvVv4iwshNU1zYMqxHvKMn+stfA0aG+nqjatxytlo4qGnfLG0h6FLMdA\nhCxV3QjgGgAnA3hdYvW7AawDcLWq/nyoJyKnichpCTtzAD7ly1+asPN6b//rqnpvfIWIvBMuufut\nAM5TVYN3BauPsjdFWcFr1JXqKgnpyx7LMBty6wdNGZvDns62aBvL3AKq9Ts9rdbKay0051ar1cvl\ndccddp1Ry/wWhBBCCBlNZmftUh0AvdkF2+2wsD1gZR8ppA/WbKZHLNTN9ZpXD+sXssDw+9qjni/K\neow2rMijKg4WFLIc+w1wX68FcBOAD4rIeQBuB/BkAOfAhQL+aaL87f5bEsvfDuBsAG8WkTMA3ALg\ndAAXAtiJhFAmIi8B8GcAOgC+BeANIkmTmFDVq2oe16rBuiEoKxKplsuNFN3gK3+++vtuNoEDDihX\nrqy9sqxFj6x+CFl5HYA6HYpOJ/v6WVgA1q2rbjOt07O46K77/Wq2wnE3+aUlNyPi0UfXsxXR6biO\n6LHHAvvvH2aLEEIIIaNLq+VSFJx4InDggWG2ZmeXp0yYmwMOOaSeLdXsWQHr2MwS1VRdv/Ogg6rZ\nG/UZ/IrKVxlPAfbjlTLH048wu1F32Ij2XWZcyhkLHQMTslR1o4ishxOVngng2QC2AfgggHeXTbqu\nqrtE5EwAlwC4CMDTAOwC8AkA71LVzYlNHuq/9wXwpgyzNwC4qvzRrE6sG4J+iT9lHrbWjdWwGrVh\n2ivzRsJaGLN2yR7lUEXAda4OPzx9XRHJfA+7doULWXv2OPfsZpNCFiGEELKaifp4u3c7MSuE3YlR\n3NwccPzx9WwtLaWnTLDug0X7WmtCVtS/LyOYlN2/9Xglyvtb5mXvsMZy1g4b0b4tHSxWO4P0yIKq\nbgLwspJlM3ViL3q90X+K7FyKlWGIJAXrhsC6XFTWUsgaloq/WvKMDXtWkaKZE0dBGAOyO1Hz8/WF\nrOQbxtlZ9+DfJyBgPMprsWdPPc+zLDodYN997ewRQggha425OfdsLutJU0TUN5meDheyknmxQkIL\nsxK71xWyrD3387aJ+qVlRSJgODPuNRrl6zjMUMAyQtaoj/n65blFBpfsnYwBqyXGuKryPYxyw8wz\nVjb+uswbmKozNRbZ7HTK/3Zl7NWZ7aUfHllZNi2nflYNn1kxCgvYsWPl29W67NxpM0MjIYQQspaZ\nmgK2brWxNTvrXloBrj8RMmnM4uLKfm2jUd9mVt/I+mUiMB4eVMOeZXDUc1oNq1zZcW5Vhw3Lcqsd\nClnk5/QjFHAYN3g/kuUNU/Aqeyxlzk0/EtxbJ3gcpr2i8u12NaEtwlrIypqqOUTIWlxc3uncsaO+\nrTg7dtAFmhBCCAml1QImJ8NmUI6IP+NDX4RlbWsdClh3lua8fp317NtVbTabxf38quMuyxn8xkGs\nGZazQVmbw3RKWO1QyCI/p9MZ/elLrWc3HPXGdJj7Xi0zNVq/Gav6RrDVyu701O2U5YUq1iXZEV1Y\nqPemMlmfZpNCFiGEEBJK1J9IhvFVpdNZOStgSP/BOhTQ0oOq2cwf21Tt0w0zX5SVvX6UK1vHYc4Y\n349oGOvII2t7qx0KWWQZRTdHlbA9YDgq/rCnbC1zfsZhytZheZdZz3xi3Ump2okq2n8dV/l+CFlp\n3mGhneVo+92763do0wid1psQQgjpN1ZhgIDrG0X9j9Bn88zMyv7YqOS0KnrBV7XPVFS+agoK6xeo\nZcuulpfVw8wXVTYdyqg7WDCssAeFLLKMopujqjvjOHhkFR1PWU+1COs6jnpsuvVDeJihhWVydFkL\nY3U6ell16HTqe1GldWKTb2yrEm3fagETE2G24jatwh4JIYSQfrFjh5tR2IKf/azXFw3NO5n2bK8r\nZHW72X0Sy/5N2fV1ylu/QLW2V6XcWhOyqo5LV4ODBT2yelDIIssoujmqqsCj3mCUsdmP2UJG/cHQ\nj3LWD+GyNq3tjbJHVtG6LFTTtwvJmdHtLu8YLyyEJ6MHXPJ4PsQJIYSMMtFL0J07w201Gsu9sEJD\n9tOexa1WPU+PvD6Hdf8GsE8XUdWmtb1R72sPc7zSD++kMpFH1s4G9MjqHxSyyDKKbsh+iDrWHlTW\nYls/xLtheqENK5Z8HDyyhhGqWKejl2ez7hvQtPuq06k/S9DCwkqb0QxJdYnyelDIIoQQYol18uSo\nD7WwUP85GpH27KybSiDvuV6n/5C3TZ0JcorO1TgIWdYzhAPDy2k16uMVa+cFa2GsbJmIMkIa+8A9\nKGSRZQzaO6mqS2iZHFTWdRwF8c5in1XKttvlwylHPbFkmRlhqux72MnjixKXWndE63aW07azyuvR\nbNqFKgIuhxchhJC1y9IScP/9dvbiIYWhYfppz07LZ3OEdf8BsA8FtPaKr2qToYDZWI9X+iHqWI/5\niupX1cOrjE16ZPWgkEWWMejQwjqq8qCFJ2t1fhzyjFWxV1b0qpIwv8w5L9tJqPIQKWOz2612TRTZ\nrCK0AcWdMuucFHXzZqRt12iEvUmKDwZ27bIJVWw0bAcvhBBCxo9WC5iasnmuLC0B27f3/g8Rsrrd\ndPHJ8tkcMQ6hgO12+dmeoxdfRVj3T8vaHOYMfmXLDju/0zAcLIZpr4xNemT1oJBFlmF98xR5zfTj\nBh+22DbqObfKzNox7Dpa27N+g1a2XJnZcFSrdfTKvK2sGiKR1xG17iyHJKlNDjAsco9MTlYXJwkh\nhKwuomfA5GS4ramp5f+HiGPz8+nP9H4IWcNOzt7p2L7ILPvi2LrvB9gnKi9jr+ysfFVsDlvIGvUx\nX1Gk0CiMc1czFLLIMvrhQZVn09peVW+nMnUYdqNbxuNp2K61wxCehpngfljCWJmyVYUxIL+jWadj\n2+1m16FuOES7vbKe09PVZhRNI8o9YvEWnhBCyGCoO0NvFtHzf+/e8HxZyZxWnU69ZymQ/WzqdOr1\noS2Ts5cRnoYZtjfqic+rnJt+jAWKfrsqaUbK2ANGf7xiHSlkPc6t+pusdihkkWUU3SCjcIPnbTMK\nync/Gsm8OtSJvx70g2HYb4mG1ZkZhpAFVOuMFglfdTrLWcnjgfpCVtpb5G43zMNraal3bBMT9d9w\nJ9m5s/6ghRBCSDG7dgGbN9vYajaBHTvc36HPlcXF9GfmKOS0KvO8r9KfLNPXqNIfGZaQ1emUy7lq\n3VcbtghjPf4pGo90u9XGAmXqMOxjLtpmFMbNqxkKWWQFWTdJHcEEKPagqsogle86NovcTMdBvBv1\nhyvQHxfvsm85rDtRVTp6/eg4Fr19rtpZziu/uFjvbXdWZz5kwBHPW9LtAlu31rcV0ek4O9beAoQQ\nQnq0Wu6lgcXAbtu25QNsq+dKnFEIBSzz/LXuj4yDRxawOsLshm2vaJt+5EWuOgbqdAbrsGE9RmNY\n4XIoZJEVZN1AdW+eQQpPde1lPdirehKVqcc4PBiG/TAc9VBFaw+vKonry9i0fgNqOeuQaj1vpX7k\n3EpuOz0dPijas8e1GRSyCCGkf0R9t/jsgHXodlfOXGuZyzGijpDVauX3eas+S61fhJUpWyUHZdl9\nD8vbnUJWmM1+iER1XoyO+hjNepy7mqGQRVYQv0niqnXdm2fUQwvzPM3G4ZhXo5A1jA7FOLw1bDZt\nE5cC5TqOlh5ZQL0OfZbNxcX6+QLSvLz27q1nKyLKjTI1ZfvmjMIYqQNzaZBRYfv28NxTEfGcU8l8\nVFVJy7W4sFD/3skSsixf4ERUfclUpg7j0heytFfWZhV7ZUSWqs916752UR1HfbxiPUarG3k0Dse8\nWqGQRVYwSCGrbqhiVsNrXcdR8UIbpL06DXnRw9haGKs6y1yZDkWVOpYNQxyWQDXKHllA9Q59noeT\naj1hrNlMv4amp6vbiojnVllacnm3LJictJlJi6w9KGSRUWFqyoXwWbBpU++ZnZWTqixpbX5dz+FG\nIzu1RLdrLzxZP5ur2hyWB1XZPtMwPffL9KWtX/LWSYUy6vmd+uGdNOpjvn44WKxWKGSRFcRvknhY\nnXWDUfZBlCTvBq/rtZBVR2t7q1Xtt5y1BnAdPss8Y2VC8qzfjFUR28qGDJatY7tdPiTWumNbZtZE\n63CIOkl0s7aZmwt7Ex9v02Zm6if4jVB1ngz0yCJ1oJBFRoVWyyVUr5OuIU6zuTKcMCsvVRmytrV8\nrkRYezd3u9X6Q6Oc06pqn6mobNkE7hHWL1CBwb/ktR4P1Ol39EPUyRtH1mHUx3x5NilkLYdCFllB\nlkeW9Q0eEnYzqEZt1O3VtWnt1VYkxIyC2Dbo8Md+hFNahwyWtVllJqNxCVXM2qbbrS8+peVVCc3f\nMjvrrqX5eYoSpDqhogFZm5R5IVGFKMFytxseCpjWpmaF8xXRaGQ/2yyfKxH9CAUsa7Psb1pmAhjA\nPZcsJ8iper0Nug82CvmdiqIpRr2vPepjqrr2+uE9RSGrHBSyyArijbmFR1aWIh3SSUqryygp36Mu\nZI1DXrC868PaXpn1Vetg3SmrarPsG9Cy57JsZ7lMuXa72pvSQQpZQP1BUdp2oYO2aPtWC9i4McxW\nhKoLzSGrH4qfpA6tFnD33XZCaLy9scpDGMeyzY7oh5BV5SWOqq3HdFmBytpDvGxZ6z7TsPt0RTbr\n2BtkapW6YyrrvnvedqNiL+uesRayQsa5qxUKWWQF8YbSwiMLsL/B0+oySsp31rmqay/PpXkthlNa\ndyjKrK9ah2F7ZA3Lw6tsuSod+jJ5QqoO2PMGHHU8srJydbXbYeGF8fwtMzMrZ9eqw+RkuKcYGQ9U\n7RJsk7VDs+meD9u3h9uam1ve3szO1hdYm83050GeZ1VR3bJYWqp+7xQ9q6o898oKT9bP5mjfFmX6\nZa9M+WGntCiqw6i8hLYer+TN9j4qwlM/vJ0GIWTVnaVxNUMhi6wgrixbeGQB6Q3lqAtjecuLaLfT\nO2rWjVrWfspg/fCyPoeD9Miqk6/NuhM1DOFpWKGKVeyVLVtlgNBq5XdY6whPebMn1s3fsrS0stO6\nc2c9W0kbnU71MBcyfqjSK2stUMXDtQxRuzM5GX797Nix/P9ut74HVVr4dkQdD6q8tr5qwvdms/h3\nKCtOAfYC1TCFpzJ5O0fBgypvm1HwyMrbblReamfZrNPPLqpLyDGn1SXkmK3Hudb2VisUskgq0c0S\ndWCqPHzTGIRSPUqhilk2rRu1fnihWT8M+xGqOAodlEELWWVnSqyy/34kdbX2yCqbn8vSw6vdrn7d\n5g2ILAdt8/Nh7cjcXG/7iQk7kWPPHuZjGkXokbU22LPHRuQG3PUyNeX+7nTCZnLN2j5PkMojb7uq\nLyDKzCJo+VwBquUeG/WXR1VfhAy6zzTq/cRR8SayfqmdZdN6vJLn+VVE1vhu1D2ymB9rJRSySCpR\nIxQ1EqEqcNoDL8Smtb200L3QYx6EF5q1MJa1nxB7o+KRNejk8cPulJUp349ptodVznrAUfXtflHO\nrTpiQpYAFpJjJr7t/DywZUt9WxGtlhPF6kxXT/oLhay1QbMJbN5scw/u2LHcizSkvZmeTr/+RiGn\n1eJi8b1h/VwB7J9pZZOuDzO0sEz5YSd7L7JpPbHSWvPIGjXvpOT2dZPl59Vn1I55NUIhi6QSPfCs\nhCzrBiPt4WBdx1ETsgZhL+R3GZSQVWcKZCDfo6lOHYumdq6TnyHvuKraK5NQvYrNMm7hZcIHItaS\nkNXt1htgZg3aQjwkkttOTYWHJe3c6Y6xrpcF6R/dLoWsUcT6zXrUPifD+KqSZqNuaDSQ3VYtLFS/\nLlut/GeWZZsd0Q8hy1rwKlt2lHNa1el7FvU3RiEUMO+4RkXIyqrjKI1X0vqf1mO0kNDHrPqMmoPF\naoRCFkkleihGA//Qt3xpIlFIg5Hmnj1qQlayY1FXgMmrz6g/aEJsDurhGmIza7uqYYBl6jHs8Mcy\nIRFVOt6tVjnRy3pwULZslUFRmdmlqoa9tFrZHeC5uXrXV6uV3i6FJJBX7SVy3r7dTsxaXAyf3YzQ\nI2tU2bTJ9l6JxKbQEN+9e1cK2+12vfxTQLYIVkfcL2pDi3IfJrEWsobljQwUP5vLhujH7eW1G2W9\nwJI2s6ibxDovssDSXpWXdGVshqQuse7HZm07St5JaeOBURvzJbeves+lkWwDmNd0JRSySCrRwzt6\nUIXePMlBq8XNaH2DW9vrtzCWtawsaWLLWvRCC7E5yHBKayGr263eUSm63qpej5Z5OMp4oFWxWXUA\nU9SprypkFSUhrhOakzVwTpvOvixzc73OWrcL3HefTd6t++6jkGUBhazRZHHR9l6J2r5uN8xjM6st\nqCO6LS3ZTqpRpnwVwa1MG1/2hUuZlxkRZcpVFYqsn81FHlLW/ZG6fdlR79NlbRvyMj/NXlGEQB2b\nIeML6/EKsLKOozbmG4dx7mqEQhZJJXqzFd2UFnkX4jeg9Q1e5+1Qnr20/4dtbxDCk/WDJmvZKNkL\nsZl1vkZFyMr7PYft4QXYJ5Qt0041GuXaijIzUFXZr3XYSx0hK2ububn6neDkoLnV6nlo1WXv3p5H\nVugbzTjWM7uNAxSywlF1s/dZ0em49sXyXkkuq4NqtgdVHSGraJuqQtYohwKWfa4A/UmkXlTe+nk/\nCv2RvO1C8kWl/Y6j1I9N8w6zflEe4oEG9CcUcNTHaEkbozjOXY0MVMgSkZNE5OMislVEGiIyISJX\niMhRFe0c7beb8Ha2ersnZZT/LRH5OxH5lojMiIiKyD/ZHNXqZWHBNWSNhs0AIN4ZsBDG+mnPwmay\n0bEWA/vhtmr9oAlteAfxlqiKJ0+SQQljReuysH4DOmiPrKp5M4YhjJUtt7hY7V4oGuRZCllA/Tw4\nad4foYP++Ixpd95pMxvi/LyztdZQZec3lGYT+NnPbDwEVYG77+4N8qJrvS5p28/M1J9cIuteqyo6\nRfby6EdOq7I2y3jRxstalIko4w1tPSOg9fO+jj3rPKV524X0EwfR71ztok7SQ7GsZ2MeyX6WxYv3\neDs5iuPSeHvGyXTSGZiQJSKnALgVwMsA3ALgcgD3AngjgJtF5JiSdo4BcLPfbqO3c4u3e6uIPCxl\ns3cAeD2AMwAYzNG0NpiddQ+durPLJInfkHXzLfTTXqPRa2ir5lrIYq2Jd/1+uIbaHJSHl7WbfN23\nY9ZvQActZC0tVRuQlRWULO1VKVelnSoqW3Vg2enk17OOx0Vazi3A7afuPdBuLxfVGo3wBNaAEyKW\nlsLCrpKMg0C0FpO9z8zYevJF1/KmTeHncmpq+b27sGB3r0R0OvX6RHltQLtdvZ5FbVQVMamsh+yw\ncipW7TsN41lalUGGAta1Z+0Vn7VtiL1+hNn1+yW0tTeR9Xil2QwXxlTthSLrcWm8Thb2ViOD9Mj6\nCIDjAbxBVS9S1beq6rlwQtQjAVxW0s57AJwK4HJVPc/buQhO2Dre7yfJH/ptDgfw+4HHsWaYng7P\ntxAnEsTqdIjSiOdfqBKYG4cAACAASURBVPO2MI2oobC2l/zbwp61h5eFzVEXsgZhL8Smtb1BemSV\nSQZftQ7DzLkF2AtUZcuVEdKrJksu2rd16FBd75Xp6ZViweRkmGg0O9s7/nvvtWmLu13n4TXqebzG\nIbTQega/hQXgjjtsXkY1m8DERO/vkHxyQLooa3mvRAw7FLDdLn4eqNq3sWVfflgLWcMWnoo89K2f\n99Ze56PSZ8raNsReWpiddd/YYkIu6wgS6/HK4mLvPFqJOpGdpSUbz+9onJsUyeoSfwFp5VSy2hiI\nkOW9pM4HMAHgw4nVlwCYB3CxiKwrsLMOwMW+/CWJ1R/y9i9IemWp6jdV9W7VUe/OjRaLi+5GtOqo\nLy66Bt3yjfjsrGswrGb/iexY2YsanrwZyKoQbxgtxLa4PYs3HNYeXknX35AwQCDdvTmkQ5HVeazb\nycsKOahbx7zObR2beee/TvLSom2q1nEYHllVQnytB21V2oCiso1G9TYqr52s286neZi022HPjXge\nom4XuP/++rYiduxwv9PWrXbeP1beZ3H6IWRZTwG+ebPdwKTTcX2WZtP9NqFs2rS8zQsJBZybSz93\nda/tvO2qDnq63eI2ospvVLZtsm4TyyZdt56NcNgeWUXbWHpg13lplWezagqBOGne6iH1A9J/y5B+\nYto1GSpkWfe1kzasX7xbjFfiL++snA2sx3yLi64/MD9vI4wBrp3vdChkZTEoj6xz/fc1qrrsvaqq\nzgK4EcAhAJ5SYOdMAAcDuNFvF7fTBXCN//ec4BoTAPZhCdu22XbUJyfdIMUqxGPvXne8VuJd1DjW\nzT+TZGGhd6wWjVo8/5nFgyHKqRYR+jBMvrEdh3DKKklfy9jLWhZiL8Smpb2iQUdVm2WETmuPLEuv\nqH6VA8rd31XblLzydTtyWW3l7t3VbQHp7fnCQlib3O0CO3e6vxcXgY0b69uK27znHmDLFrvnRbfb\nSxFgRbO5fJa8UObn3fHefbeNzYmJ3rU+NRVmc2lp5bUzO1vfZtY1XPdeyRt8Vb2XFxaK+3pV+gjD\nbOus2+2i/D5VZiyMyCtfN/9pls26uUrzEp/XHRdk9W9CxhnJ3zKkflF94lgk2Y7Xsd0Of/kRvx+6\nXZuXC8mQZwt70e9gJcJEz0arZ+TMjDt/lp7VU1PhuQ/jTE66sfM4pDIYBoMSsh7pv+/KWH+3/z51\nQHbIkJiask1YNzvrcp9YsbjoOtRWoQ6tlgtFsJrxKBqYLC3ZvRWPHjBWbySih2HV0KcsrN8SWQtZ\n1gkorYWstOMLSbw5KGEMqPfb5G1TVWQs00GsOsAq08Huh0dWGZtV7HU6xaGmdQbTWSJB1OGsysxM\n+rUe0tHcu3d5Pefnw0POpqZ6A7qNG23C7zdt6j0jLZ4X7bZ7Ps7POzHLwt499/Smjt++Pcze3Nzy\nAYlq2KyAWddISChgGtb3ClB8fyYps/8yYldE2bakbFtn6UlbZ+Bf9FypKpzk2avbJ8n6vUP6OKOe\n3iFte4uXk/HfcxRz+sajPKrcl3lEY4D5eRvRJPIiWliw81qemlqeKiCUTsc9g6yEMcCJTqGz0cZp\nNu09tVcTgxKyjvDfWY7Q0fIjB2SnEiLyKhHZICIbJi3nYCYmWIdNWAk6EffdZ+cGC7jO/rZtdvai\nTrl1LrT425gQ4ufOOpwymgY9hH4LY6E2R93Dq2iAYGmvTh2Lzn2V38Y67KWsMNZul7vOqwymy5St\n2pbm2YxE/KpktWtRDsg6pHnWhHY049t3u84zK4TFxZ4Q02rZvPDZvLl3/c7MhHf+t21bGbYXMoBK\n+w3qevLlbVvnWRmlVsii6rVdpnyV+7nMs7UfOa3K2CvbfpW1af2CxDpM3/pZav0iLLQ/knxmWfeZ\nQu11u/aJyq37sYD9S+jIe9fSO2nbNtvxSqPhXqZYYj3mYxKjwTLIZO95iP8O/fmt7CxDVa9U1fWq\nuv64446zNE3WANaN2txcWOc8ye7dbpBj5YXWr/BMwMY9uZ/CWNr/VUl2mkLFNuuOaNa21m+Rq8xo\nVcYeYD+AqWOz6PpIhufmUXZgWSVfTdlzXsam9eC8jnCStU3diUw6nXSb8/P174HZ2ZX3+N69YV5U\nSVFnZias/Ww0Vj53QsS7Tmelx1OnU9+zLSuP2sJCvfM4N5ftRRDl5qxC0bVrGdYbYZlDL6LM863V\nKu+BkRQN0qh6Xw1ayKp73w/qWTpKL8LSvOFChSLrPhjQn36iZVoQoNdWWvW1Ox03FrD015idtZ8Q\nhUIRiTMoISvqXhyRsf7wRLl+2yGEeFRtH1ytlgtpsYoRj8Io5+dt3JPjs5NYdCiSXjGhnZ6kPWth\nLGtZiD1gdN4iWw84rAdFgxbGypYBqs20U+Y6ryKMAcX3Y1VhrNnMFzHqdLBnZrI70nVFmKwXE3XD\nE7rd9LqEtPOTkyuPe2amvsi+e3f6tVH3HO7Zk/271BEs866NTqd6u1wkZMUHumWwFLKazfLPVsv2\nJqKozatqr2jimjrPAesXJHnb1bWXNdttyPM+7dyH9kmS21sIWdahgNG9UyfsN41utxfmbuUBND1t\nO1EG4J45VknKCRkEgxKy7vTfWbmrHuG/s3JfWdshhPSRyUnbxIRbtti5J6v2BhUW4ZSqvU6PxeyU\nyTfUoZ2UNI+uEJtpneW63lNAdt4q68FBXZt556pOYv+ic1/1tykzWK1i0zL5cpVBwNJScRLtxcVq\nibb74eGV12bUEWHyvFfret7u3Zt+Xe7dW2+QoppdF2vxLiunWRF59ajTzhddG1WunTL3Qfw5UkSZ\neyUqV6Z9ss61V7UNs24TgcG+0BgVIStt2zqJ6PPsWSQWj/+e7Xa4vW63Z7PRsHnhGbUZlrPPbd/u\nZlK18ihSZe4kQgYlZH3Tf58vIsv2KSKHATgLwCKA7xTY+Y4vd5bfLm5nHwDnJ/ZHCFkF7Nljl8ML\ncDOOWSaMtBTGgOWDHutwyip5TrKwdOXP6mjXtZkVilm3Q58nVo2Ch5f1wLLMoDY+26mFPaD8dV7l\nbXZR2Xbb1rOmziQc8/PZ57LRqHeNZYk6dcMp88Ls6ghZrVb27x1/0VCWoqnJ5+aqCc6tVvF5r5p/\nqsz+y9osW66sh2UVIatMXr6qXslFdbR+AVHn2ZKVp6tMaGQWWROxhMy0mTy20FmUky/nLBKLx69f\nq3xR1rPZtVpObLcUiubne7PdEkJsGIiQpaobAVwD4GQAr0usfjeAdQCuVtWfN2kicpqInJawMwfg\nU778pQk7r/f2v66q9xpWnxCyypibA+4y9NvcvTvfa6Eq/cwLZtERtc5JYR2+kLZt2cToaWQNpCwH\nRHVtFh1X1UTJZQYWVQYfZa/fsjYthSyg2sBnaan4bX9VoaiofNXwxyIhqI7wlLdNnZDvomOueg6L\nclZ1u9Xa0TLXxNxc+fbE+h6wzn1VxV6Z2YgtQwvrCkVZNovCDqvaDPWeSl5D1s9SC6GoH/miot/A\nKswu6ntZ5o+97z77/E6EEFv2G+C+XgvgJgAfFJHzANwO4MkAzoELBfzTRPnb/bcklr8dwNkA3iwi\nZwC4BcDpAC4EsBMrhTKIyEUALvL/nuC/zxSRq/zfU6r6x7WOihCy5mk0gDvusPXw6nbzvTWqEO8s\nWnQck53Z0M7t/Dxw7LG9/6uKL0kWFoAjj1y5LMTeunXpy+vaO+CAlcvreMtF2xxySPr6qr9N5G21\nX07voB9JpK09t5rNctfQ7CxwwgnF5YByAsfMDHD88eXslbE5PQ2ceGJ5e9HMU3n7UwUk2bMqqEMe\nMzPAMcfY2qtCGeFrdhY4/PDiclHZIqJwprR2oY49wP4eKGOzSl68iIWF7PamSqL35Db7779yXd0X\nEFnHFPocOOKIlcvqEol0Bx9sYw+wfzYD7no76ij3t0X/QdXds0cfXT80OcnSEnD77bb5oggho8/A\nZi30XlnrAVwFJ2D9EYBTAHwQwJmqWiqtqS93pt/u4d7OkwF8AsAv+v0kOQPAS/znAr/sYbFlv1Xr\noAghxGPZgep0XF6wrVtt7C0s9AYXFuGP8YFUPD9FXazfIg/CwyvEZtZ21oO2onV1t6lis9Mp9qjo\ndMoLeIuL5TwqqoRpWXrWVJnRrkxoY1Uxu+j+7narDUYXF4sFwSptimrx/suE9sUpczzWnnyAvadV\nu13uXqnioVS07zr5Da3bm7zt6trLakutnwOjJjwlc0RZeHRH93fVtiOPbdvcx2q2bIAiFiFrkYEJ\nWQCgqptU9WWqeqKqHqCqD1HVN6rqCmdQVRVVTX1nqKq7/XYP8XZOVNWXq+rmjPKXRvYyPicbHyoh\nhASxc6fdNM2Am0VycdHGZnwAXjX/TBpJccLCw6vMshB7dTwPiupStyOed2x1bObZq+PBUXTNVf1t\nylzDZa/zyPOxDGU9dazDJKsMHst4M1URnsrYq1K/ssmTy9psNMrlJSs7K2BZTz6g3DVWVniNKLp2\nqt4rzWa+EFqnXczbpm47a90mZnm3Wj8HQp9VyWvI4vkc3bNVBeEsGg1nM2um0TosLdm9qCOErF0G\nKmQRQggZDtu22eYFi0ICLEIDkrN6hSZsTXo2lMnrkkea10LIACZrcGY9CKxrM2+bxcXqg5miOlQd\nvFkKWWXLVpkx0VqgKns/tFrlvHWq3F9lyrbb5a+zsvu2PodlZ9CsIspZ2ytjs47QYd0+5LUBddsw\n6zYRSD9XoTP2xkXTKp6kWcSvj3juqBAsn80R994LbNpkZ48QQiygkEUIIWsAVZt8WxGTk87La1ep\noPBioqSqrZZdXo/43yEJ7lVX1inkzXnWlON1jzsrPKjZrOc1Zj3wHbRHVtUBZhmxocrvPSwhq2y5\npaVyXkdVQolGvRxgLzyVCQWsem1be2QB+cddx15eLj9Lr9JQoShpc2kp/BloPRFLs9k7RqvE4tPT\nzqN7+3Ybe4D7Lay8sQghxAoKWYQQQirT6QD33x8+A2LEnj1ukDE1ZWMvHj5lkRcsOcANzRWSHASF\nDNrShLa0fZQlb4Bex+bSUr6nQdXBdNHMm3U8vIqu46qCSdGgr6z3FOAGu2XC56zzQFURgK3DLjud\ncqJIP465CkXlq7YTeaGIWfd5EVnbhLQ5accdIhSltTmhLzSs22xguVhs8VwB3EuhbtfupRDgvKfq\nhr4TQsi4QCGLEELI0Ol03MyP27bZ2JuZcTZVbUIs4gOYMkm6i0gOqkLf7qdtH2Iza9u6NrO2q5pD\nCCgWRKrWscyEBVVslhEcqg6qrROal52BsSxlxcAqwnfR8SwtVRusz8/nC4xlBcM4eddFMvF2qM06\n9wrgjjvtvFuH7YW2YdZtYjJHVGjIOuDEK8vnCuCErNtus018TgghawEKWYQQQkaCRsPOw6vbBTZv\ndsKYxZvp+fmeHYsQkOSgLXSQlTbotxayqiTCLluXul4SecdW57jz6lFVMCmyV2Z91fKNRrXfxloY\n63btvZOsz2GRwGh93ViLvnXtZQm1IR5KaXUJ9XiybhOBXlvd7drYi54rW7fahupXFVAJIYRQyCKE\nELJKmZqy8/ACXN4RwL1BD6XZXD64DBXHkt4moTNWpQ1KQwaqWdvWHZxn2asSvla2HnWO21qEKRqE\nVx2kF10fdbwOi46pah2LvLysf5c69vLE3br3S9Z21vdfiL206yNUyJqZ6bVhVrkSp6bcNbRrl12O\np6kp2/xThBBC6kEhixBCCCnBjh3A7beHhxVG7N7tvufmwsNKkom5Q/O3pIVZhQxUs2bkCvHIShM5\n6ib2zwt7q1PH+fnsMLA6IWztdr7wVKeOecJSHe+VvG2K6p9Gp5MvZoyCkJW3XV17WfdKiIdl8rcp\nm4Msj3gbs7AQ7vna6fQE/ahtDKXZdG325s029gghhIwOFLIIIYSQEqjaiViA8+zau9dukBUf/FkM\nBONeYqph4pjqyoH9/Hz98JysULa64UN5nlx1BAnVbOGhbh2ztlOtZzPv96xjL0uAqWsPyD73Cwv1\nrp0sgbHRqB/elXZsZWeGTMP6XgHctRg/7unp8DBu6/YGcB6009O2Hk+Li5xxjxBCViMUsgghhJAh\n0O0CGzfahNAALvlwo+EG+RYzdMWTGc/OhueESYZPhnqNpQkIIXlw0uoTIiBkHZ+1kJUnIOWRnF0x\n7lFT57fJE9TqHrP1OUwTiULsZW0bmo8pedyh94rq8vvPIlH50pKrl+Vss0tLwD332OafIoQQsjqh\nkEUIIYSsAlTdzI933WVjb36+54FmkRcs6QUSOphOCmONRlhesDSxIERASBMz6npPAU6ASfMsqVvH\nuJddp9MTw0LEO2shK6suIb+L9e/cbq/0vgvNebd3r+29AvTu4WYzXBiLuPde4Kc/rSekEkIIISFQ\nyCKEEEJWCe227aByYgK4/36bmRrb7V4I0uys874IYWlpeahn6GB/cXFleFnIcacJa7Oz9X+fLBEs\npI7RtnEhK+Q8Znm1heRPStpstcLyRSVFok4n3IMqHloXWj/A3SvR72BxrwDud7jvPic+Wc4OS+8p\nQgghw4BCFiGEEEJSWVy0CxsC3LT1u3cDmzbZ2Iu8TFRtvMbigsTCQpiHV9IeEC62JbdfWgqr4969\nToywErJarZWhe6HHnDyHoaJqu71cuNqzxyZfVHT+JidthKItW2zvFcDZswplJoQQQoYJhSxCCCGE\nDIRm03mFhApEEbt2OaFty5bwmR8BJ0JE4Xs7d4bb27WrJ2p0OjbhlHGPrl27wux1uz0RJvJMCj2P\n8TqphicCn51dXicLYXXHjt7fFr9zp+MEp927bewB9vcKIYQQspqgkEUIIYSQsUTVhT7GhYkQWi0X\nTrl1a7hIFNmLhJcdO8LDPrvdnudZt2sn6kQhqdu2hdvbvbsXShj/uy6qvXrt3Wszc+jsrBOe7r/f\nVlS97z7miyKEEEIGwX7DrgAhhBBCyKhgkVg7zqZNTnCyEky2bQNEwpKyx1la6oWvWXi1qTox8Mgj\nbYQxwJ2/+Xmb+kVYeU4RQgghZPBQyCKEEEII6ROqNl5EEd0usHmznT3AViACXIhiaAL1JAyxI4QQ\nQkgEQwsJIYQQQgghhBBCyFhAIYsQQgghhBBCCCGEjAUUsgghhBBCCCGEEELIWEAhixBCCCGEEEII\nIYSMBRSyCCGEEEIIIYQQQshYQCGLEEIIIYQQQgghhIwFFLIIIYQQQgghhBBCyFhAIYsQQgghhBBC\nCCGEjAUUsgghhBBCCCGEEELIWEAhixBCCCGEEEIIIYSMBRSyCCGEEEIIIYQQQshYMFAhS0ROEpGP\ni8hWEWmIyISIXCEiR1W0c7TfbsLb2ertntTvfRNCCCGEEEIIIYSQ4bDfoHYkIqcAuAnA8QC+DOAO\nAE8C8EYAzxSRs1R1Vwk7x3g7pwK4DsC/AjgNwMsA/KqInKmq9/Zj34QQQgghhBBCCCFkeAzSI+sj\ncELSG1T1IlV9q6qeC+ByAI8EcFlJO++BE7EuV9XzvJ2L4ESp4/1++rVvMiBmZoClpWHXghBCCCGE\nEELIWqXVsrWnCszN2dtca4gO4KhF5GEANgKYAHCKqnZj6w4DsA2AADheVedz7KwDMAmgC+BEVZ2N\nrdvH7+Nkv497LfcdsX79et2wYUOp4x5Vtm0Dzj8f+MlPgIsuAh7zGOD444F99ul9RIB9912+LPlZ\nWAB+9CNn56EPBU480S1/wANW3kwivb9VgW7Xfcf/7naBz30OuPnmXtkTTgBe/3pXv6h8FRYWgM9/\nHmg0gLvvBvbfH3jBC4DTTusdX7JO0f/xT7RsaQm44Qb39xOfCNx/P3DwwcCppwKHHZZ+zMnvJNu3\nA5s3A49+tPt/eho4/HDggAOqHSshhBBCCCGE9IO5OaDZBA491P0fH6vEx3ZZn253edmlJeCQQ9z4\nbNMm9/cDH+jGTFU/i4vA7bc7Ow94AHDvva6u554LHBVLJBSVj/6Of8fLzM05W+9/f2/58ccDb3mL\ns9ft9o6nLKrALbcAn/hEb9nppwOveQ1w4IEry+b9H53HqSngttvcmPS669w5HHdE5FZVXV9YbkBC\n1isAfBTAlar66pT1XwdwPoBnqOq1OXaeAeAbAK5R1QtS1v8DgFcBeIWq/qPlviPGWchqNJxw9bWv\nDbsmhBBCCCGEEEIIseDNbwY+8IFh1yKcskLWoEILH+m/78pYf7f/PrUPdqz2PfYceCCwZ8+wa0EI\nIYQQQgghhBArLr8cuOmmYddicAxKyDrCf09nrI+WH9kHO8H7FpFXicgGEdkwOTlZUMXR5gUvGHYN\nCCGEEEIIIYQQYsUBBwB33jnsWgyOgc1aWEAUmRoa51jHTuE2qnolgCsBF1pYr2qjwYteBFx6qcvD\nFOfMM4FOx8Xfpn1HccDxz8RE+j7WrXM5o/bd1/0fj15V7eXYAnr5uERcnX7605X2DjrI5eA66KDs\nPFNpy1st4Mc/Ti+/3jsrRrHN8XpE9uKfaNnu3S7+GgCOOKJ3Hh/0IOC445YfZ9p32t933ulirY85\nBmi33XECwH6jcncSQgghhBBC1ixLS27cdMghbvwyP+/GfHl5q6LxXvzvaMzVav1/9u48TIrq3B/4\n9+1lumdhhplh2GFElID7guCKKEYFr3EBjUKiicbEJGo0ydXEa66JNxdJor+YuETjjVEDXjDuJm5E\n2ZQbImA0RhRXVBQlCiIisp3fHzU1091T1V1V5+1lZr6f5+EZprvq7eqerqpTb73nHGdcK3fQ83/9\nC1i/3hm7OZHoPH5x5hhcXr9v3Ai8807n7R440Blz2eV3jZY72lIiASxf7v1ZDB/ujI0cy1MS5HVt\nunYt8OabnR9vbXWuA73G6vL73Rhn/Gf3WnTSJKdb4ciR/tvU3ZTqUtlNmzT4PF+fs5xmHK3X7hZa\nWoC77wYuv9zJ2l54oTOoXlTr1wM/+Ymzo7e2Aj//efbBIixjnLG8nn8e+Mc/gEMOcZJiNjZscAYl\n3LEjO1Fkwxj/pBoRERERERGVh9a1mjtjYSLhXFPW19vF/dvfgJ/+1Em8nX++M361xnbuv799jK6m\nVIkst8jNLyWxa9tPv3GsbOJovXa3MWGCkxx6/337WL17O/1x3Sy27Y4o4iSaRo/uqJqyVd+WqozF\n9KqcmMQiIiIiIiKqPFrXaslkx/8b/MpiQhgzBnjgAfs4mXrqdWmpxsia1/bzaBHJek0R6QXgEACf\nAvhrgTh/bVvukLb1MuPE4Mw+mPl6mq9NeWR2wSMiIiIiIiIiKoaSJLKMMa8CeAzATgC+nfP0TwDU\nArjdGPOJ+6CIjBSRrF6expiNAP7QtvyPc+Kc1xb/UWPMazavTURERERERERElaeUw0l/C8BiAL8W\nkQkAVgAYC+AION36/iNn+bYhtZFb53MpgPEAvisi+wD4G4BRAE4A8D46J6uivDYREREREREREVWY\nUnUtdCujRgO4FU4S6XsAhgP4NYCDjDEfBIzzAYCD2tbbpS3OWAC/B7B/2+sU5bWJiIiIiIiIiKh8\nSlmRBWPMWwC+GnBZ3xGXjDEfAvhO2z/11yYiIiIiIiIiospTsoosIiIiIiIiIiIiG0xkERERERER\nERFRl8BEFhERERERERERdQlMZBERERERERERUZfARBYREREREREREXUJTGQREREREREREVGXwEQW\nERERERERERF1CUxkERERERERERFRl8BEFhEREVEXEo8DsQpuwYkAiUS5t4KIiIi6qwpuBhERERGV\nViymmyTq1QvYZRegulonXl0dsPfeTkwNIkDfvkBLi977bm11trGxUSdeVRUwfLhePED/70xERESl\nw1M4ERERdVmpFJBM6sXbdVdgr72cuBqGDgUaGpyfGgYNcpJPvXoB9fX28Zqbne2rrQX69bOPV13t\nxAScbdUweDDQu7fzGWokn+JxYI89gFGjnM9SQyIBpNM6sYiIiCg/JrKIiIioZNJpveRBOg3svruT\nfNKI2dDgVDzF40D//jrx3ORGXR1QU2MXL5124rj69LGLBzjVWPG486+lxf5zzNymVMo+2ZZMOkks\nwEkWNTXZxQOc95xMOp+nm3SztfPOzncx8+9ji4kxIiIib0xkERERUUk0NzsX+xpJIsCpIBJxqoAa\nGuzjZSZhmprsq39yky62SZjc9RsanARUVNXVzj83kZVM2ieecrv/2XYHbGrKTq5pJJ4y/84aycDa\nWqdCDgAGDLCPB+jvK0RERN0JE1lERETkaeBAp5udVtc996K8b1/7JFEslp3YsU1wxOPZybBYzC45\nJtJ5fdukTu76sZhd4smN5yayvF4jjLq6zt+V3r3tqrxyt6euzm4g+bo6Z8wtV22tfTfSzO9efb3O\n/uImxNxkra1YzEmMtbbaxyIiIio3JrKIiIi6iX79dCpMACex0a+fc1Het699vNrajq5SiYR9BVV9\nfXYyrKHBLjlWX985YeB2aYuiV6/O1VJVVdEHfU+lvLua2XyO7vvLTGTZxPNaN5Fw/vZR+K2rvY22\n38XcZJvN9wZwkm1uck1jXwGc40I67fzUGv+tsdFJdhMREZUaE1lERERlUl2tO17U4MHAkCF2FSuu\nxsaOxJBGd67ci3vbi/3ci3sRu+okr2SBdrx8jxfity1R42Um1WKxjioim8ST37ZE/Ry137Pfujbx\nams772+2iafcfUNjtsbMfVhjnLFYzBl8f8CAjm6VGqJ+94iIqGdhIouIiKgMamuB3XbTHVMHcC4w\ntRNPyaT9BWbuxb3tWExe69vE9Fo3kYg+QLvftmgndaJuY+7fI7e6Laxk0r/aTPs9R02c+G1jXV30\naj6vbezVyy5BnRvTdl+pqsr+jtgmkQHnO+Im8LQGzG9pAUaO1Nk+IiLq3pjIIiIiCqCmBthlF/ux\nnVxudz2NmeKA7Is/2wtBkc7JApuLaa8Egk2SKJXKHufIFXUb02n/cY2ixHRnxPMSJWni9ffIFCWx\nk+99RXnP+bahg4jvLwAAIABJREFUtjbaoPTayTu/bYzFoidqvWLaxNPeV4DOn2NNjf04XplVYrbj\noLncY6JGV2bA2aZhw+wTgUREVHmYyCIiom4pkfBOdkQ1cKBThaAxBlXmQOCJhH3XnKqq7MRJ1MSB\nyyvZYnMxWFfn/XjU9+23XioV7QJdO0mUbx2R8EmOmpr8f8+wf5tCibFCrxdlG8J+jvmSi1HiFVon\nSrxYzP+7HXV/8dsOm2OEX9WYjcz143H7is3q6o5jmO2A/q6GBqcb5aBB9rFc2ucVIiKKhoksIiLq\nlnbeGdh1V51YiUTHxaDG+DJ1ddmJAo2BzzOJ+F9gB+G1bm1t9Go0v4vmqNtYysRTXV34apNC2xA2\nyVEoXthtLJSoKpTo8lLq96xdNRble1Nb6/+5R/1u+62nvT/bxKup6Zxosk2MZR4Dbce7c7ldHmtq\n/Cskw9I8rxARUXRMZBERUUUYPFhvoN902rmwSqd1LogyZ7TzGtw5rNyLPtuLQO0LVa91RaJ3b9K+\nOM+3XpSY+daJxcK/70J/z7B/70Lf4bBd2YLsE2H2G7+unpm0E2Nhk3dVVfln64uSqM33vcmX5IoS\nM+q+4lelWEmJMUD/mJibDNOY+THzvKI1wH0qBbS26sQiIupJmMgiIqJINLtX1NYC/frpTeWeedGi\nMXBwsRNP1dX2XQGDPBaUX1IkSsx43H8Q8EQifKVEVVX+717YbSzUhS1szEIJE8BJjAVNmgTtihgm\n8aSdyAqyPwT5nMPEDJtgLPQ3jNLlUzsBqr2vAP7baHPM8avYtJG7vm1iLDcxqXFDQ3McQteAAU53\ndc0B7tn1kYh6AiayiIgotLo6YI89/C+6wnIHDq6v1xkbJfOiRePOee5FlcZFVpDHgkgkvBMnNTXR\nKkLyXeBG2cZC64T9LAstH/YCPcjrh/kOBVk2TNfPoIPDB93GoNVbqVThhJwraJIg6DZWVwc7Dmj/\nXcJ8F4P8DcN+twv9XbT3v6jHHK/18iXhCvHaZ9Np3eS+RrWv9nlFpOPcp9FlHXCSxbvvnj0YPxFR\nd8REFhFRD1BbqzcTFNAx057GwOdAdgWV7Z3z3AvMdNouOeZVCWFzUVRd7Z2Y0LyoBJzXiHJhqX3h\nW+hiXrMKJswyLu0ER9AL3KDLBd0fgnaN69UreIJTO0FVrniAfsLSbz+OGg/QT4wB+vtzMulf8aN9\nDLM5zuaua5NoAzpX7AVNtuaTmaTW6qrY3OzEbGnRiefG5MyPRFRpmMgiIqpAyaTOdOaugQOdMag0\nqp2AjsSTxrgjuYki22qndLrzBabNBZFX96Co1U5+8YDo25iv+5J2BUe+i9io26BdkRU2ZpBl4/Hg\n3cSCXvBpLxd0gPYw+2yQ1/Ya+NsmXpjlgibvkslg3fLCjGsV5HsTdv/TrsgqlMzWPj5EHUNP+5jo\nt27U7QO8E5c28YDs71AioVPh7O7fuROKRCXitB2GDLGPlYndH4nIFhNZREQVaJdd9MaLSiQ6qjA0\nxuHInPEsyCDPhRRjbJQgj9nEE4l+0eG3LVEvirQvLLUvpgstH6YLUdCqiqDfoTDfX+1xoIIkgBKJ\ncH/DYox9VSixEyZeMln47xem22XQbpLa3S6BYNsYdlyrQq8dtttsoYR7lOOiduI833pRj4nJpPd+\nqH0esO2uqN1lPfP7G2XmUS9ud/90Wm/mx759gc99TvdmHRH1PExkERFZEgGGD9e5+wk4Fys1NR1T\nh9vKvBgtxnhR2oP8elVUheFXQaUZzyam33p+F19R4wHRKjgKXayEiRn0wlszeeDG0xxXKuiyYbvf\nFIoZNl6haqt0Ovi4V4Dztyv0mYetyiy0fG1tuGNpkM9I++8MBP8uhhkXTHNfCbKs3/h6+eQ73lRX\nh09O5LspoH2M1T4P2FZk5a6vES/z89cYFyzz+6vVvbBPH+cGglY87TYYEXUNJUtkicjBIvKQiHwo\nIptE5DkRuVBEQh92RGQ3EblTRN4Xkc0i8pKI/EREOp0KRSQpIt8Rkd+LyN9FZIuIGBH5ms47I6Ku\nJhbT6RLn6t3b+ac9XlQyad+wBbIvuGzv+AKdt8m2sZwbz6baySue32NBaV5kFXpvYWMWSn6FTQoG\n6TKpeSHt0k4KFGOmvyDVSdpJnbAVlKlU/kRklIrMfOskEuH3/0LvWTt5B4RLZAV5/VQqeNI5TPJV\nczkg2PFEs8IyyrE7X/Krqipad3i/9x0l0ZYvps15xeu92Z7vc/82Goks7fZDZlWmViKrsdE5Tmnd\n/AOcY0aUG0tEVDolSWSJyAkAFgIYB+BeANcDqALwSwCzQ8YaC+BpACcC+AuAXwHYAOA/AcwVkdx7\nS7UArgHwFQD9AayJ+j6IqDwSCd07bX37AsOG6cV0L6S0ps/OvOjSqKDKbBxXVdk3zrTvIntd+Ggn\nnpLJaBdE8bh/xUKUZFsqlT+xFDZmoc8p7IVlkAufMOODaV/Ea499FWb/KtTtLBYLf6GX70JOJNqF\nXr7jUJSZzPKt09AQPjFQV5d/XwybDKyuzt89NMzsi0CwirByVniF+Y4F3Z+DCpJYCps8KXR8inIu\n8IsZi4WvQAOc77hXgriqKno7wut92STavGLajrklkh1TOzGmNcC9e8zTaoOJOG3E/v114rkxmRgj\n0lX0RJaI1AO4GcB2AOONMWcbY/4dwD4A/g/AFBE5LWCsOIDfA6gBMMUYM9UYcwmAsQDuBnAIgIty\nVtsEYBKAgcaY/gBuUXhbRJSHdnn3kCHAoEF68RobnW3UuhvoNsaCdmcqJLPhqFGRpZl48mrQ28SL\nx70vQqM2wPMliqLE1KyeCrJO2JhBlg8TM8iFSpDuh2HiucsVuoALM+A6UPgiqbY2fHIzX5Klvj78\n/p9M+n9GDQ3RjqVNTd6Pp9PRvrPJpP9nGSUxlm+9qqpo21jo7xJGkLGFwlyAJ5PBkifaSd+g3Qa1\nK7y0j2FRjtuFuj+GpX1e8VvPL2EWVO77TiTsxrDMTazZJO5cmd8322EEXO6+E2ayhnxqa539Nurx\nzUv//sDOO+vFA9iVkqgUFVlTALQAmG2MWeo+aIzZDOCytl+/GTDW4QBGAVhojHkgI9YOABe3/Xqu\nSMdhzBizxRjzsDHmXYv3QNStaTQkXCLAyJE6d+4AZ9saG52LM40GSubgyRqJrMxZ3HLvXkaRe8fb\n9nP0aija3KX1umMcj0e/0+i3LZoXBzYx860T5e6+diJLu+JCs3tTmIGugwziXlcX7hiQObW9lyjd\ni/MdM7STOlG7yVRXe3+WNl2fW1o6P5ZMRj+G+r037c8QiPZ3LrRO2EqSQp9T0GQXEHzCg6D7cpgK\ny2IksrQrsgodl7XPA9rnqqiJLBHv9217vs+lOS6YRpsps5tvoVk6g3L31yCTUwTV1OSck7Rma6yq\nAnbfXbf9rhmLqBRK8ZU9su3nIx7PLYRTMXWwR5fAULGMMa8BWAmgFYByzpuocsRi0bpI+Umngd12\n05s9pq7Oiak9UHk8rpMcy4yhEa8Yg7VmKtQVrRCvRphNw8yvka3dmO8KiawoMQstH/bvrXlhmZmU\nLSTIvhO2m12h5aNU1uSLGaUbSk2N98ViPB69W4tXkr6qym4cv9zEUzxul8jq3bvz++7TJ/p5o7bW\n+3sZ9bzRq5f3dzdq5W2+v2V1dfjEfaFtCLuvBEmkBT2/hbn4D3IsCds9Tju5X8quikFeL+x6UeOl\n096fu3Yiyzaxo939UbsNBui3E6uqOtpOWj0Bmpud45BWd0oAGDFCr7sn4BxbWDVGxVSKRNbn2n6u\nzH3CGLMNwOsAEgiWfPKN1ebltp8jwmxgISLydRFZKiJL165dqxmaeoAo3U3y6d/f6WqnpU8f5wJF\n6+TlnqS1BlMvZuJJo6xdu1FWisSTdsPWJqbfelGrvCo9kaWdeAryGQW9sNQexD3sMaXQ8pqVNel0\n9O+sV/VPc3P0Y4nXxUj//nY3F5qbsxM7AwfaXVCIAIMHd/wejztjDdoYMCD799pau2OTV9VYlDG8\nAOdmkd/3Mcr3sNBEAdpJX6A4kzIEOTaFGZcvSFe1sMl97WN2oXWixPOrnooaL996Nl0VvWLaxEsm\nO/+9tdtM2sMxaE+4o9VbQbutXV3tbJvWpEWAc4zPPG/YEtGdqIm6vlIkstyv3Ec+z7uPB8kpa8YK\nzBjzW2PMaGPM6BavlhIFlkzqVf4AzglR++7BrrvqbaMIsNNO3g3sqJqanAspreSYezLUukvknrA1\nBhUHsk/62g0U29nxgM6NOu14fo8F5dcQjfod99uWqNuYb70oMbXjaV4UBR1wXrM6AgjefSPMxXR1\nte6A2IVeP52ONkizX6PXpmI0dwyqWAzo1y96PCB7UOH6evuLiVjMOfeIOAkn26QT4CTb3IuSoUPt\nK4N7987+LHMTW2G1tHTeJpu/s9+6US6k4vH83++w51/Niiwg2L4f5pwe9NgUNDEW5thd6PgZZZyn\nfK8fdcwtv3Ow9rnUpv1QihthNtvnFdO2DZZ7ntZud2oksjJn5dVOjGldCwDOMbSxUe+aqrHRGWdM\ns8pr+HDdXi41NXrdR13a8bqTQJfCIvKGiJgQ/2aG2Ab3623Cb35RY1ERDB2qm9Tp29eJqaV3b+cg\nrnUgr6nRLf2tqupoAGlMg5zZpUDrZKh9JyuzUaIxVoF2o0c7nnYiy2tdkegnxlImssJ+loUuePwG\nlvcT5IInzDZqXtwB+oM0hz0G5Fs+ytgimePX5Yo6dlIq1TlmLGaXKKquzk4kDB5s39CsqXESOakU\nsMsuOg3/Xr2cBJnmhUnfvk5FsN+A8mENG+bss3362N9pj8eB1taOzy6dtnvvTU2dEzfJZPRzr993\nOJkMf/zMt68AwRLNmYK8p2KMtad9TASCHXfCHJvyVU8B0aqH871+viRXPtrd/mMx7+NaJSXGvGJW\nWmIsN4bNjcTMeG6MVEonsePus0EniSgkne6owNO6vujd2/leal6j9e6tNxQK4LQHNGe7dJN35C1o\nTcerAF4K8e+djHXdKim/Jkp9znL5aMaiAtwBMzUOaIBzMGto0GsAA84BKJ22P3G5tO9IaM9mV8zq\npDADvvrJ7QJg2wBIJLIbiLYNAK8Eju13J3f/8Gv8BaWdyPLbf6PEzNegjxKv0AVA2JhBLgA07+y7\nrxl039a+aNO8sIzFwjc2NStMXH7JDJvzRu66/frZ34F1Z1Ht10/v5szAgcCoUbpVy7GYbjy3wktT\n//5OAkpD794d22c7061I5yoxm++hX2VC1H0l33phk21VVYXPW8XoqqhdfRo0Zpi2SZB2R9i2Tr7z\nUNSZC/3WicWiVcf7xUskoh8/vWLaxPNqk9jEAzr/LW3bdLkxbWemzI3n9XsU2tcX2vGAjmsq7aFQ\ntK753F5CmuOWNTU5n6XWtXh3E6j5bYyZYIwZGeLfxRmrv9T2s9O4VSKSADAMwDYArwXYFN9YbXZt\n++k3hhaF0NDgHLy1Ek/ujFM1NTp3DzKnYtc6qLkHXo1qp8x4Gl3YAP3y5MxtijIDW754Xr+HlXuy\nL3RnNEi83AapbZLIK4kRdRurqrzjRd1Gv3hRY+ZLFEVpPBb6foTdRu0LmCDLhmmUBn3tcoxpFWXa\n8nzH3ajVNV7r9eplt59mjl/V2GjfhQ1wPq9hw+y7FObSHhhXpPJnotK8Gw44+8+gQToXEy0t2YlK\nm0q+RMK7KivqduZbL0qbqFC7J8zxJuj4k9pJe+3u20GXDXt8KrR8JXSr146Xb72obSa/Nol21ZhN\nPK8bdpWWyMqtVq/E65XMGb21EmPa3TPdY2iUKls/2sm77qYUzZsn2n4e6/HcOAA1ABYbYz6ziSUi\nO8NJcK1CsKQYFeAOUq6Vqc5M6lTiYIzxeMeBJ+ysO34yTwba3ew0DpK5JyvbmNol3qWoTqqUaqd8\n8bS7GhR6Luo65W7MB1k+TMyg+2wxxrQqtJ2pVLjEYTqdP0kSpZHkV2kai0VPZNXWdr77bZt4SiSc\nKh0Rpyu6VoWSV9ezSiOiW5HVFdTX63btcJNXzc3257QBA7L/HjZtLK99xRVlf863Tth2W+YYPn4S\nieCVLkHbZGFuFgQV5G+uWZEV9DUzFWojRL1xFeW5KDEraVww7XaidjvWa33teMXoTmkr8/ijsX2Z\nMeNxnYon7Sq0zG6jWsm27qYUiay7APwLwGkiMtp9UETSAH7a9utvMlcQkRoRGSkiuaMfLQCwAsA4\nEflCxvIxAD9r+/VGYwzHyFJQW5td9WRLO/GkfVDLPNBqlP7mVjhpJ56iJjcyFftkqN1tzzam17pV\nVfoDn0c9IfrFizqmlXZDtNSJJ68ZjvIpR0VW0OXCNpQKHSOjVI1qdwUU8b74tZ2MIrMKeNAgnTuR\nAwY4sTQHde0KemIiSzu56I6zpjFbcDqd3Y1Sc19x1dRE+57nOwYUSoR7KXThFaYdGIvpJpS6W0VW\noXNLJVRk5euip50Ys63cL3a8Smtra8cD9McFy9wmjR4kuVVo2sUGlViw0R0VPZFljNkA4BwAcQDz\nReR/ROTnAP4O4CA4ia45OauNgZOwuj0n1nYAXwWwCcBdInKHiMwAsATAFABPAfhl7jaIyA9E5FYR\nuRXAiW0Pf9V9TES+pvNuuw+30RCLBW9AFJIZQzteMQYBr7Q7HLmNAI1kW+6JQPs9F2O8KJuTl9e6\nNgOfl6oiq9BzfrQbooW2Iew2aldQaV5whGkolXogdUA3kZVIRL/b51V5ZTuGUktLR0WHVmWNxsyC\nXVFPTGRpi8edma20un02N3ckmrT2lUxRqyGrqvyPodqJcyD8MSfIcTZoOyvMxB/aFVn5uvyHec0w\ny1dCRVYxKry0byb6jSemXeFl044txlivuevb3ijPHWpCe5wxQL97ZjGSd5UWrzsqycgJxpj7ABwO\nYCGAyQDOB7AVwHcBnBamgsoYswTAAQDuB3A0gIvgDP5+BYDP+3RRPBbAmW3/9m577OCMxw4N/666\nN/cg5jbcNJIw2tVJudl524Nkse9w2N490D4Zen1mxaig0k48FaMrYKXcDcz33rQbjslk+EqASu4K\nGHT8tKAXMGHuIAY5Poa9m1Zoec0xcGzGEspdt7nZ/s5hVZWTdNKcba+n0h7svacqxnTqmvtKJs39\n2RX1eJPvuxf2vQdJfGkPCh/mvBK0ElD7Bk6Q5Sv9RlgxhmOohHh+69rE8+pFYNOzwGt7bG7wesXz\ne8wmZqVVoeV+Zto9hTSuc7ujkhXZG2OeAjAp4LLzAfjuksaYFwCcEuK1xwddlhzuDuhe6FZa5Y9X\njFQK2LIlerzcbdQ+6Lp34Xbs0IkHVNZdonjcuztDKgV8/HG0mKVIjNnELFU8oDhjWqVSwKef6sUL\ns41BLxCCNgbCJp4KHSvCXBC5s2tu3eq/TJTqAxHA6zZPVVW075g7plXuMchmsO1k0kk4bdjgXOxq\nzT43aBCwbZtOrJ6MFVmVqblZb7bLQYOAjRudf+m0XXKsuRl4993Oj0dJZLlDU3zyiffz2lWqYavU\na2qAjwrMcR72vJLvHJAZsxD3ojVomzbIud7vfOIlkchfgVgpFVmlaoO5iaIoA9d4xXQ/3+3bw8fL\nV4W2eXP4eO66Xo99FmT06oDx0mmnnRBVsYsDNOJlHitsvjMur2SbzXVud1Thc9lQubg7j1ZFltf0\nuDZl+l5Jk0rL9pciCaN9xySRiD5eh3aDwm9bolQSAfnvMGk3eiphTKsg2xDmO+6XqMwUphw96Gtr\nLweUp4IqbNecfIMlR61U8hrTqrrafpZW94Lcq5uTjZ42nlUxdIVZC3sid/IBLe4xzbarYirV+fgS\ndcwtwP9YVVUVfiyz6ur83+Wwk/RodlUMs2wxzmlB2gdh2hCFlvXrgpdPvvcTpH2RK18bJ0o8IH+b\nLurYe5V+A9Vv3Uq6XvG6Zqy0AotSVKFpDEjf3bB5Q57cncVtNFRatzjt6iSvmF3hPVdSdZLfSUp7\n/KmoMbXvBhYq5Q4bs9TxwsYMsn+FSeBpN+a1Z6HSTGSlUtEa1X6JrKhj4ACduw4NHhw9VmbMXr04\nGGklYkVWz+COb+XOsGhj8ODs70wxuipGSZ4XmglR++YDUL7JQYBw4zkG7S4fVJBlw7ZJtMfYLPSe\nK6FqLF9CrVLa2n6FBZV0veL13my72eVuT9Tkp188v8eC8rppz0RWZ0xkkSd3Z3EPbl0hqWNzUPM6\nYNhUJwGlqaDSPjHYxCxlN7tKaKAUWifs31q7kafdEC1XBVXQsR/CXHAUuoARCV+Fmi9m1Fn3vNaL\nx+0TWe7nOXSo3jhUw4ezkVWJmMjqGWpqgBEjdP7W1dXZCe7GRrvt8jouRD0m5kuAhU1kVVUVvnAt\nZ0VW0HhBj7vaFV7aMyuWOzFWaJ2oNzyjPJdPKbtTRlWqaz7NccHcmJrxKikZ2F0xkUWeciuybDPV\nXgcH7SRMJSV1/MqQK+mOhPZdHe3PULsBUMp4gH6jLGx3xVJ3NQi7XNBGetBxT8JcxBQa98SdsTWM\nfJUCNhdtudvZ1GQ/m5BbJWEzNlYurRndSBcHe+8Z6ut1u+K6x9y6Ovtqd68qMc3kvivKzKuF1tE8\nrwCdZ3MrFK8cywH67Ycg7ZdKSGTl28ZKSIwBpWtrV9L1ite22HT3jMdLU4WmfY3GRFZnTGRRJ5lJ\nq8wdXfsgVOnxbGIW4w6H17o2M4uU6q5O1Mq2UnYtjJKoLfXdxbAxte+oVvKYVmGmUgcKJ8eidHtJ\nJv23IWrVUzyefaEViwH9+0eLlWnAgGjJOup6WJFFUbgXiAMG2Mdqack+v6ZS0dsZdXXeF6CxWLSx\nXPMlstxJPILKnZ3bi3YX+DDLaVdgh4kX5PxcCYks7XZnKSuytG9CR43nd11iUxBRqh4klZR40r7O\n7a7YjKVOMneUzAudSsrOe61rM4B8qaqTosbLN8B5pWxjKSuetO+0BXk+7DZoxwu6jCtIQzTMwPma\njeqws0sVWjbK2Ez51olyZx/wToDV1dlVSmSOMbPzzjoNmepqJxZ1f0xkURTJJDBwoE7X43g8+3hj\nM+aWiPc2ubO8hqU55laQdcKc94Im0spVkVXOCi9Av02XTOqOU1ponahjbvld52gnxqLehC5G8q7S\nr9H81tWOl+/v31MxkUWdZB7UMneYqIksv4NhMbrFRS0zrfSDpPaJoRgnQ+1tLGVFVpDnyx0vbEzt\nroCa43CkUuEuOgrdxda+4Ig6i5/Xek1N0WJlri/ixLYZGyuX7Uy01DWw6o6iSCR0qrFcmcdGjWNi\nLs3u265iJLLCHneDLB80oRS0W2PQm8LlrPAKsrx2vEqoyMq3TqUknnpiIsvvmqqShn/prtjEoU78\nKrIq5YBRjJilitddTzSF7hJ0x4qsQsuHqXYCdBNZ2rMHplLB30syWbgRrN2Y17zgsOn2knsxFY/b\nX7Qlk04Fg+04NdQz8e4tVQIRp/1TW2s/u2lDQ+fzW9REVizmX5UVZTsLVfOWM5EVdNkwsyUGvXkc\n5Jyq3WYKOxi4dpuuUMxYLHy1tvY4Y4ViVsL1Rb71Kj2ezaRhTGQFw0QWdZK5k2iMkeW3XtQSyXzr\naQ92WCnVSZV+V0f7zlihEu+w2xikb36YbQzagAv6twm6L4SpngragCvG7ETaXQELJdKidAX064pi\n05Umnc7+mw8erJNIGDQoendH6tlYkUWVIp0GhgyxjyPizLjqHr9jsehVtID/MV/zvOLSTmRVVYXb\nx8s1m7F25XfQNlOY9nGQ1y73EBTaN2QLrVMJibFS9iCplGu+fOsxkZWNTRzqpFQVWVFj5lun0rsW\nRo1ZynhRYpY6XtiY2vHK0R2vGK8b9LW1E1lRurX5rZNMRmts+Q0ObDN+S+b6LS3es3VFkUrpxaKe\nhYksqhTDhukl5BsaOmI1NNiNA+d1zM83eUc++Qadr6oKf2Oj0Lky7Lm5HBVeQPmGOtAekD7MdyJI\nsq3c3R9L3ZuiEuLlW69Ses3k2w4msrKxiUOdZO4kmY2D7prUyXcgL1QZFGU7KuE9V3oiS/vOmPb4\nU0Ffuxh3IYOUoms3RCu5K6DNhVFud5RkMnoXFVdzs/OTFVRUCTjQO1UK7Qsw98albfft6urO5yyb\nCi+/daOc96qrdSu8tCuygi5brjZTOWdW1E6MBVm+3PEKrVMJ8YoRs9LjdWdMZFEn2l0B81VJRdkh\ntePlW0ckWpVXKbexOyayelpFlnbDUXs2Ic1EVjIZbZ/yuwiwSTzlrtu3r/2Ff02NE5eNDSKi4kkm\nnXOdbRUtAPTvn/275nnFFSWRJZL/fNoVKrLCdH/UToyVs2shE1nFjxeLhb8uLXRdVwnvWXv7ujMm\nsihLoR08ygWodlfAUh4wgjyfq1BpqvY2RkkwlvpkGLayTfvOWJBltQcuLcZyQZcNO8V3oSovzcZy\n1IF+/SqcbGby69Wr43vZ0AD06xc9VqbWVs4KSERUTNXVTndFDU1N2QkxrfNKpqhVuvnWC3ueSSZ1\nz/flqvBiRVZp4mnfyI/Sy6XQNoR9z9rXfIXWqYTr5u6MiSzK0tWz89oHjCDPh10+7DYGqQoLG7PU\n7zlsZVs5KrLCLFeuMbKCLqs5plWYGQtd+RrLURvz1dWdE7bV1dEneACc9+UO9Dt4sF43rFQq/GxE\nREQUXJ8+9jMgZnIrqaqr7aoe4nHvqiztRFahai0/+dYJM1GMu3yh9kFXGDy+qirY+y7nkBZB2tHl\nTowFubFe6dcrlX6dy4qsbExkURbtg2ShmNqZ72JMZ6ud7S93N7tynAzDxizHGFnFWE47MRZk2SAV\nVrnyNR6jXij4NZZtxh7JbdDbjo2SGYONAyKinsttF7njHNrIjeF1IyYov3NmlJtM7rb4CXsTzN2O\nfMLEDNoNsSu01cpxQzZsxVOha4Fy34QOsny54xVaR/s6V4Q3SjMxkUVZipHUyXdQLcb4TmEPGpV+\nh0P7xBDrOBOUAAAgAElEQVTkRKedGAsbsxwl3mGWC/raQborhk08FWoURmmIFqMroNd6sZje4OyJ\nhDMzoK3GRicuZ3cjIuq5qqqc87XGDLGNjdntBJsbOKmUdztC89zs0q7wAsK3SQq1r0SCt9WCTpAT\ntE0XZla7INsYZmiQIPHKnXgqRyKr3Nd8iUTpr3N547UDm+6UpdIPGEHWKfdBslC8sIMTluuujma8\nMMsFbSgEvfMUpqEQtBIsbOm97WuGWV67IarZWK6rs0sYud0AYzFgl12i3+HOJAIMH24fh4iIuq6q\nKt3zSmtrx+82Y24BHee+TNrjTQLRboQVWke7jaPdBgu6TNhlyzVwfTkTT9o3tYPErPRrvng82vAc\nNq/ZkzCRRVlKfcAIm9QJckAod7JN+0AeJJ524ilMF81KPwlrN1DCNsq0K6ji8fx/b+1EVtQKKq87\n0LazS9XUOH/zVMqusiuXxoULERF1Xcmk7phb7rk9FrObBRHwPndGPQem0/7nvCjvP1/7QUS/zaSd\nGAP0251h2tDlnKmx0iuygtzYLndirBjJu2IMwt9dMZFFWUo9XlTQZcIsW+4DRqWfGMqVeCrHeFFh\n42knxoIsr30HNEpDNJHw/p7bjOvhdtNwxWJOdwtbzc28G0VERJXN7XLU1GTfdb2hIft8KmJ3M8dr\nXZFo7ZF8bY6wg8cD+jf/yjGzYldokwft1VDOHh/a15CAfgWV9nsuRsFGd8ZEFmXpaUmdoDNshDkR\nl6PrXjlPmuUqsw66bNhEVqG/tfZ4D9oVVFHiAd6NUdu7yJnr9+unM0Bl37661VhERETa3LGc+vfX\niTVgQMfvdXV2s+x6ndurq6PFrKryb0drj9kJFKciq5w3UMs1IH1PrPAqRsxyjBHMm7kdmMiiLIV2\nyDDjDQWJF3SZcsYLO0NEpR/UWJHlL8ggotp3AzUrstLp6Hd+vRJZXuNyhOGu37s3MHCgXSxXIpHd\noCciIqpEI0aET7z4aWnpaJ9onZsz2XSr9Fs3yo21UldkBZmUJ1O5KrJ64phbQbtxBr0uDToYvnax\nQbl7HnVnTGRRu3Lt4JV+kAyzXNCBysvZH79cJ7mg21jpXQE148Vi0Rq5fo1Dza4GGuN6NDQ4xxXN\ncUeIiIi6Au0LTrf9rTXeZCbtropAtERWoXaRdlV8V6jwAir/JjQQ7PpQe+bHMMsFvX6t9Iosdi3s\nwEQWtSvXDl7pFVlhlitG8ifonYZybWM5E5HFGJw93/JRBi7N1yiL2g3Qbz2bKb5zG6LNzfbjeiQS\nToObd4+IiIjsVFU55+ooldy5+vTJ/t0mkeXX9tBu48Ri4dsThSbIidJGLNQFUzuRFWaIk3LdoA+T\noCrXtVcxrnMrvatid8dEFrXrComLIMuG6f5YzkEWNeMFXVb7swnSFS9Tqe9kRWn05GsgRhm4NF/M\nqJVK8bj3e7epoEokOhqPyaTOuB6A06UwamOWiIiIHKkUMHiwTqy+fTvaEZnn/yi8xuyKxaIn3Pza\nRlHj5XtvYWMGafeGaXcG6a0QNh6HOLFbrpxdC7W7U3Z3TGRRO+0dPOjMD9o7eJiYlZ6gqvRqJ+2B\n8IMMtp4pkch/MI/SbS/fOlEbetqJLK91Uyn7sTjccTN22knvjk86za6FREREtgYNsqu8zhSPd3RR\ntB1zKx7vXNFVjDG3oiayCt2gDKvU3RXDxutpw7qUa7mg17naFVlhluvumMiidl2ha1q5yky1Xzfo\neFHlPNEEKRMu98m60DqaA6kD+mXymmNS2I6ZAQCNjc5Pli0TERF1b27b1j3328htg1TKmFuF1tNu\nJxa6weql0sfxqvREVqUPE5NIlK9raHdXskSWiBwsIg+JyIcisklEnhORC0UkdHGciOwmIneKyPsi\nsllEXhKRn4hIp0OViOwqIpeIyBMi8paIbBGR90TkfhE5QufddQ/lOrAE7VcdZkDzrpCUq/Q7JkGW\n145XCYmsfN0HozaivO4uxuP2pfwukc7jXURRW+s9CCwRERF1L1VVzr+GBvtYueNq2lSOJRLe7beu\nkMiK2u7MR7utHXYG+nLM1FjO5E8xqqLKOfRMd1aSRJaInABgIYBxAO4FcD2AKgC/BDA7ZKyxAJ4G\ncCKAvwD4FYANAP4TwFwRyd3d/gvADAD9ADwE4GoATwE4DsATInJBtHfV/VR6pVUxDhg9LZGlXZ6s\nfZdIuwGgXYYetVQ+ne58QrbtHlBT09EQGTJEZ/BXABg2zH6QdyIiIqps1dXOUAJRxv7MlUg4Y2K6\nbNs4XmN+Rm2DVVd7v8dEIvgN8kzaXRULtd+029raibGwMcuRGAuzXFeYgZ5dCx1Fv1wRkXoANwPY\nDmC8MeZsY8y/A9gHwP8BmCIipwWMFQfwewA1AKYYY6YaYy4BMBbA3QAOAXBRzmqPANjPGLO7MeYb\nxpgfGmNOBjABwFYAvxCRAfbvtOur9IHKyznwedCxoMqZeNI+MQSJWQldC0vVFTCRiH4HRKRzTNs7\noCJOQy+RAFpa7GJl0kqIERERUeVKp+0micnlJq9qa6MliDLljtuVTEa/ePcbeL5SKrwqva3d07oq\nBl22nLMRsiLLUYr77lMAtACYbYxZ6j5ojNkM4LK2X78ZMNbhAEYBWGiMeSAj1g4AF7f9eq5IR8rB\nGHOrMeaZ3EDGmAUA5sOpDDs48LvpxsIM4h4kAVTpiaww8UQKfz5Blgn7+mEPkppTAgdZPmy8QrO9\naJZ4i+jOcGMz3gPQuSugxpgUTU08mREREVH5ue0RjfZNQ0P2tYZtG8xr/ahtxETCv72vfUM27Ozg\nQbah3BVZ2jfyu8I1WrmSd91dKRJZR7b9fMTjuYUANgE42KNLYKhYxpjXAKwE0Apg54DbtrXt57aA\ny3dbPXEH1z6Qa8/gF/ZvEiSmdtdCzTtPIroNAK/ufEF5JbJsy+Qz129utr9bCTiDq2reTSUiIiKK\nwq2a0hizUwTo16/jd802mMtmZkW/qqwo7eJ4XDcxVlWVv2tc2JjJZP54YbrEAcGub4pxjaYZL+gy\nYZYtxhA63V0pElmfa/u5MvcJY8w2AK8DSCBY8sk3VpuX236OKBRIRFrhdC/cBCeh1qMVIzsfZocs\nR8llpQ98XlUVPhGT7+SkPZNKlHiA/0k+3yDr+fg1ALSnfrZNGLnr9+rljGmlQcSZjpuIiIio3EaN\nitY29NK/f0e7MLerYVhe62u3E7V7AgDR4+Vrv2tPrKQdD+gaVWiVXgDSE5QikeWOBPORz/Pu40Em\nj1eJ1Vb9NQtACsCPjTHrCiz/dRFZKiJL165dG2Azu56uUGYaJl6QuwPlnnFP+6BbaJ1KOHEB/idl\nmxn8vNa1aaDkjsWQTNqXtScSzh3B6mrdwdQ1BmklIiIisqU5CLXbrS6VsmsjAs52ZbYLYzG7mF5t\nwqg3ZIH8N3k140WNmW8d7euVKDFL3SMl6DLFiheL6SWMu7JAl1Mi8oaImBD/ZobYBneXN+E3P3ys\ntgHj/wBnYPg5AK4qFNQY81tjzGhjzOgWzVGVK4j2ASPojA9hXr8rVFCFUegzqoTEU75yZ+0ZAbUT\nWZpl6Bpl8oDTpZB3UYiIiIgKq6py2k4aMttyNTV2NwK9ElnaFV6Afls76jAepa7IKndxQHe4zu0J\ngvZofRXA5hBx38n4v1sl5TdHV33OcvlYxWpLYs0EcAqAOwF8yRijkUDr8rQz1doloVFiVlUBmzbp\nxssnaj/2zT57ViWcaNz1tm7t/HjUxJPfyVWzARCP28UDnC6A69Y5PzPHabDR3Ax89plOLCIiIqLu\nrLnZGQ9UQ58+wPvvO+1u2+EikkmnPZvZhte+IWsT06+tHWXYknzxAP3rlTCzyrtKfV0a9j2772n7\ndv9lomzjp5+GW6e7CZTIMsZMsHiNlwCMhjNu1bLMJ0QkAWAYnMHWXwsYC/AfA2vXtp+dxtBqe607\n4CSx7gBwhjEmz9epZyl3X2S3RNJvBw+b+Q6yDeWewc9dp1SJLJu7Ohs36sWrqvL+W9t03ctNWtmO\npZAZo29fvfJdm/ETiIiIiHoSrWoswGmD1dU57W6NdmJDQ3Yb3qYd6w47sWNH9uMcc8s+XpSY7gRe\nfuUuUaqhUqnSFlj0BKUYI+uJtp/Hejw3DkANgMXGmCB1Cr6xRGRnOAmuVchJiolIFYC74CSxbgfw\nZSaxslVCdVIpD2qVMCNgoXW0p/DVLk/WnO0llbKbxS+dzk42NTVFj5W5TbW10SvZiIiIiKhyVFU5\n/2yHnwCAxsaO/4vYtYu91k+lot9I9Zu5W/taANC/XonawyVfpVnY69xC14na44IVmhlSaxu6m1Ik\nsu4C8C8Ap4nIaPdBEUkD+Gnbr7/JXEFEakRkpIgMzYm1AMAKAONE5AsZy8cA/Kzt1xszuwu2Dex+\nL4ATAPwOwFeNMTn5btKeilV7B6+Egc9jMf+DWr7n8tGuoMq3HZonr0TCbkDP3ESWRoPCLROvr9cr\nQx84kCcKIiIiou6gutpp22morXWqsty4ttX7uW1hm66Kfj0Aol4LJJPe7y/qmFv5Zj6PEs+dGCDs\nc/mUssBCe/t6CosaiGCMMRtE5Bw4Ca35IjIbwIcAvgDgc22Pz8lZbQyAeXASV+MzYm0Xka/Cqcy6\nS0TuAvAmgAlwui8+BeCXObFuBDAJTjJtNYD/lM4p2/nGmPlWb7QLi1KdBFT++E6lHC9Ke1aRqqro\nM9ul0523MZWKHs/rRGo7g19tLZA5AahWV8D164Hhw+1jZcYkIiIioq5t8+bNWL9+DT766CO88cY2\n1dibNgHLlhVeLoz16/Vjrlrl/NNiDLB8uV48AFizxvmnpRjb+Oabzj8tn3xi97c2Rv+7oiWRSKCh\noQH9+/dHWnl8laInsgDAGHOfiBwO4D8ATAaQBvAKgO8C+HWYAdeNMUtE5AAAPwFwNIBecLoTXgFg\nhkcXxWFtP/sA+M88oecH3YbuJup0saUc36lSxotKpbzHi7JJjHmx2c/TaeDjj7Mfs7mr4zWmlUYi\nyxWLddzRstG7t3Pii5qwIyIiIqLuZ/PmzXjppZfQ0NCAIUOGIJFIwKOwgYgUGWOwbds2bNiwAStW\nrMDw4cNRr1glUJJEFgAYY56CUxkVZNn5AHyPLsaYF+CMdxUk1vggy/Vk2kkYoDJKON1udqWooLJJ\njHkNJqg984ntDH41NdnJMdvZXtJp52+zfbszI6DGYOrJJDBokH0cIiIiIuo+1qxZg4aGBjRrjh5P\nRHmJCJLJJJqbm2GMwdKlSzFmzBjUaYwpg9KMkUUVrlK6xRWrgirsa0WJZ1tBlavSElmZFVTxuH1F\nFuB026ur0xurANAZ5J2IiIiIuo+PPvpItRKEiMJpaGhAXV0dFixYoBaTiSyqmCSR34wTUQdSB/Qr\nqPzWq6TEU+667nTDNjLXb2yM1hU1V1MTByokIiIiouLatm0bEjbTYxORlUQigXg8jpdffhlbtmxR\niclEFqlXZEWN5zfzhXa1UzwefSY6r+ls/WYGCSo3kRWL2cXLXb+mRmcmFXdq4AED7GK56usBVngT\nERERUbFxTCyi8nH3P2MMPvnkE5WYTGRR5KSJXxdCm+okzaliixHPK2llMyMg0LmCqqbGvuIps4Kq\nd2+7WICTCOvVC+jbN3oS0ItGF0UiIiIiIiKqfDt27FCJw0RWDxeL2SUmtBNFXkkw7USW7XhRuduo\nOYMfYN8NEOgYjD0e16t66tvX7m9BREREREREZIuJrB5OO6nj91hQXokSm0RRKtW5W532e7YdOzIe\nz+5S2dhoFw9wtkkEGDUq+vhiuRoa7D87IiIiIiKiUlq1ahXq6+tx7rnnlntTSAkTWT2cbTVRbvVQ\nPG6XOCn2jHsa8dxqJ7/fbWJWV+skixKJ4gymzuEFiIiIiIjIxqRJkziTJFnh9A09nHZ1km28dNrp\n7uh2nU2lnKSMjepqYMMG5/+xmF3FGOAkxuJxYPt2Z3s1Kp4aG4GNG4Hhw+1juYYO1YtFRERERETU\nFQ0cOBBLly5l8qwbYSKrh7NN6uSub1udJOJ0YVu3zvldYzDwzG1satKpKqqpcRJP/fvbxwKcroDa\nFVQ2A9ATERERERF1B8lkEiNGjCj3ZpAiXur2YImE/eDdsVh2skkjyZ0ZT6PbXmNjR1WXVhK+sREY\nNEhvIHUAGDBALxYRERERERGQPUbUypUrcfrpp2Po0KHo378/jj76aDz++OOe63322Wf4f//v/+Gg\ngw5Cv379MGjQIBxzzDG45557PJd/6KGHcPzxx2PXXXdFnz59MGLECEycOBE333xz1nY8+eSTAID6\n+vr2f5MmTcqKtXr1anzve9/DXnvthT59+qC1tRVf/OIXsWzZsk6vO336dNTX12PRokW48847ccQR\nR2DAgAHYY489Or3/XGvWrMF3v/td7LHHHmhubsawYcMwbdo0PPPMM52WnTVrFurr6zFr1izMnTsX\nkyZNwuDBgwNVep177rmor6/HG2+8gZtuugkHHHAAWlpasMcee+Cqq66CMQYAcO+992L8+PHo378/\ndt55Z3zve9/D5s2bPWOuXLkS5557LkaNGoU+ffpg+PDhOOuss/Dyyy93Wvbll1/G5ZdfjsMPPxzD\nhg1Dnz59sPvuu+OCCy7A6tWrOy2/aNEi1NfXY/r06XjuuecwZcoUDBkyBP369cPEiROxZMmSgu+5\nmFiR1YP17atTndSvH/Daa06ySKOCqqbG6bqXSOgMfB6LdQxU3tBgHw8AWlqAbdt0YhERERERERXb\nqlWrcNRRR2HUqFE466yzsGbNGtxzzz2YPHkyfve732Hy5Mnty27ZsgUnnXQSnnzySYwYMQLnnHMO\nNm3ahPvvvx9f+cpX8I9//AOXX355+/K///3v8Z3vfKc90dHc3Iy1a9fi+eefx8yZM3HOOeegoaEB\nP/jBD3DHHXfgzTffxA9+8IP29VtbW9v///e//x0nnngi1q1bhwkTJuD444/HBx98gD//+c845phj\nMGvWLBxzzDGd3t+1116LefPmYeLEiRg3bhw2uOPL+HjjjTdwzDHH4N1338Xhhx+OKVOm4O2338Z9\n992HRx99FH/4wx8wceLETuvdd999+Mtf/oLPf/7zOOuss/Dmm28G/htcdtllWLRoESZOnIgjjzwS\nDz/8MK644gps2bIFjY2N+PGPf4zjjjsOBx98MObNm4ebb74ZO3bswC9/+cusOHPnzsWXvvQlbN26\nFRMnTsTOO++M1atX48EHH8Rjjz2GP/3pT9hnn33al3/wwQdxyy234LDDDsOYMWNQVVWFFStW4Lbb\nbsPDDz+MBQsWYODAgZ2295lnnsGvfvUrjBkzBmeccQbefvtt3H///Tj++OPx1FNPYddddw383jWJ\nm/mjYEaPHm2WLl1a7s2w9tZbTgKqqso+ljHA3//uJJ122kkn3scfA1u2AH362McDgM8+c94rBysn\nIiIiIuo5li1b5tmtrL5eoetHCW3Y8HHkdVetWoU999wTAHDBBRfgpz/9aftzy5cvx1FHHYW6ujo8\n//zz7dVFV199NX7yk5/g85//PObMmYNEWxeXtWvX4ogjjsCbb76JuXPnYuzYsQCAcePG4YUXXsCK\nFSvQ0tKS9foffPABmjO6skyaNAlPPvmkZ6Jp27Zt2H///fHOO+/g3nvvxaGHHtr+3Lvvvovx48dj\nx44deP7555FqG5dl+vTpmDFjBmpqavDoo49i77339nz/U6dOxY033tj++IknnognnngCP/rRj/Dv\n//7v7Y8vWbIExx57LOrr6/HPf/4TdW0znM2aNQvf/OY3ISK466678PnPfz7onwDnnnsu7rjjDgwd\nOhSPPfZYe9Jo/fr12GeffbB582ZUV1fjkUcewec+9zkATkXcoYceitdffz3rc123bh323ntvxGIx\nPPLIIxg5cmT766xYsQJHHnkkdtllFyxatKj98XfeeQfNzc3tn5nr8ccfx+TJk/HVr341K1m2aNEi\nHHfccQCA3/zmN5g2bVr7c7fccgsuvPBCnH322Z0SbH5WrlyJhQsX4owzzsj6LuQSkWXGmNGF4rFr\nYQ+VSOgksQAnOVRXBwwZohevvl63214qxSQWERERERH1XA0NDbjkkkuyHttvv/1w6qmnYv369Xjw\nwQfbH//DH/4AEcGVV17ZnsQCgJaWFlx88cUAgNtuuy0rViKRyFrWlS9xkevRRx/F66+/jm984xtZ\nSSwAGDBgAL7zne/gvffew/z58zut+5WvfKVTEsvP6tWr8cQTT2DIkCG48MILs54bO3YspkyZgnXr\n1uGBBx7otO5xxx0XKomV6eKLL86qfOrduzcmTZqETZs24eyzz25PYgFAKpXCySefjC1btuCll15q\nf/x///d/sX79elx66aVZSSwAGDVqFM4880w8++yzePHFF9sfHzhwYKckFgBMmDABo0aN8u1eeuCB\nB2YlsQDgy1/+MhKJBJYvXx7uzSti18IeSmOmvUzDh+sPLs7EExERERERkY69994bvTwGIT7ssMNw\nxx134LnnnsO0adPw8ccf47XXXsPAgQM9q9nGjRsHAHjuuefaHzv11FNx6aWXYuzYsTj55JNx6KGH\n4sADD0SfkF1s/va3vwEA3nrrLUyfPr3T86+++ioAp8Int3vh/vvvH/h13G0/6KCDkPS4OD788MMx\nZ84cPPfcc5g6dWrk18m17777dnqsf9sMYl7PuUmvzHGs3M/o+eef9/yMXnnlFQDASy+91J7oMsZg\nzpw5uOOOO/CPf/wD69evx/bt29vXqfKpcvHapmQyib59+2KdO0NbGTCRRSo4Qx4REREREVHlyu3y\n5+rbty8AtHf1c3/269fPc3k38fLRRx+1P3beeeehqakJ//M//4Mbb7wRN9xwA0QEhx56KP7rv/4L\n++23X6Bt/PDDDwE4g57ns3Hjxk6P+W2vF3fb+/tMQ+/GynyPUV4nl9fA8G4VW77ntmUM0OwmkG69\n9da8r5X5Gf3whz/EDTfcgP79+2PChAkYOHAg0m0zv7ljlnlp8BlkOpFIYMeOHXlfv5iYyOqhWO1E\nREREREQ9lc2YU13V2rVrPR9///33AXQkUtyf7uO51qxZk7Wca+rUqZg6dSrWr1+PJUuW4E9/+hP+\n8Ic/4KSTTsLSpUt9E2mZ3JizZ8/uNJNhIRLiItdN0Lz33nuez7uPeyWXwrxOMbjbtHjx4vaZGfNZ\nu3YtbrzxRuy2226YO3dup6q8u+66qyjbWUysoyEiIiIiIiLq5p599ll8/HHnBJ47KPhee+0FAOjV\nqxeGDRuGd955p72bmtfyfuNR9e7dG8cccwyuvfZaTJs2DevWrcPixYvbn4/H4wCQ1bXNdcABBwBA\n1vLF4L7Xv/71r1nVTq6FCxcC8H+P5RT2M3r99dexY8cOHHnkkZ2SWKtXr8Ybb7yhvYlFx0RWD8WK\nLCIiIiIiop7jo48+ws9+9rOsx5YvX44777wTDQ0NOP7449sf//KXvwxjDH70ox9lJZw++OAD/Pzn\nP29fxjV37lzPhJBbBVZdXd3+WFNTEwBnHKxcxx13HIYNG4abb74Zjz76qOf7WLJkCTZt2lTw/eYz\naNAgHHHEEVi1ahVuuOGGrOeefvpp/PGPf0Tv3r2zPpNKMW3aNPTu3RszZszA0qVLOz2/Y8eOrBkL\nW1tbAQD/93//l/W33LhxI84//3zPv1ulY9dCIiIiIiIiom7ukEMOwe23346lS5fiwAMPxJo1a3DP\nPfdgx44duOaaa7K60V1wwQWYO3cu/vznP+Pggw/G0UcfjU2bNuG+++7D2rVrceGFF+Kggw5qX/6s\ns85CKpXCQQcdhKFDh8IYg8WLF2P58uXYd999ccQRR7Qve/jhh+Pee+/Fl770JRx99NFIp9MYMmQI\nTj/9dCSTScyaNQsnnXQSTjnlFIwdOxZ77rknampq8Pbbb2P58uV444038PLLL6Ompsbq87jmmmtw\n9NFH47LLLsPjjz+O/fbbD2+//Tbuu+8+xGIx/OY3v/EcHL/cmpubcfvtt2PatGmYMGECxo8fj5Ej\nRyIWi+Htt9/G3/72N3z44YftScR+/fph8uTJuPvuu3HIIYfgyCOPxIYNGzBv3jykUinstddeWQP3\ndwVMZBERERERERF1c62trbjmmmtw+eWX45ZbbsFnn32GvffeG5dccgmOOuqorGWrqqpw//3347rr\nrsMf//hH3HTTTUgkEthjjz0wY8YMnHLKKVnL//jHP8bjjz+OZ599Fo899hhSqRSGDh2KK664Amef\nfXbWzIBnnnkm3nrrLdx999245pprsG3bNhx66KE4/fTTAQB77LEHFi9ejOuuuw6PPPIIZs2ahVgs\nhn79+mHvvffGpZdeiubmZuvPY9iwYViwYAF+8Ytf4LHHHsOTTz6JXr164aijjsL3v/99q9kJi238\n+PFYvHgxfv3rX+Pxxx/H4sWLUVVVhf79+2PcuHE44YQTspa//vrrMWzYMNx99924+eab0adPH0yc\nOBH/8R//kVVZ11WIMabc29CljB492niV73U169YBjY3l3goiIiIiIqLiWbZsGUaMGFHuzSirVatW\nYc8998TUqVNx4403lntzqAdauXIlFi5ciDPOOCNvElJElhljRheKxzGyiIiIiIiIiIioS2Aiq4fi\nYO9ERERERERE1NUwkUVERERERERERF0CB3vvoViRRURERERE1P21trZiw4YN5d4MIjWsyCIiIiIi\nIiIioi6BiaweihVZRERERERERNTVlCyRJSIHi8hDIvKhiGwSkedE5EIRiUeItZuI3Cki74vIZhF5\nSUR+IiLVHssOEZEbRGSJiKwRkc9E5B0RWSQiXxWRpM47JCIiIiIiIiKiYipJIktETgCwEMA4APcC\nuB5AFYBfApgdMtZYAE8DOBHAXwD8CsAGAP8JYK6IpHJWGQ5gGoCPANwH4GoADwJoBXALgMdEpMeN\nFf/yB7wAAB5LSURBVMaKLCIiIiIiIiLqaoqewBGRegA3A9gOYLwxZmnb4z8C8ASAKSJymjGmYEKr\nrXrr9wBqAJxgjHmg7fEYgDsBTAZwEYAZGastBtBojNmREysJ4DEA4wGc3LY+ERERERERERFVqFJU\nZE0B0AJgtpvEAgBjzGYAl7X9+s2AsQ4HMArAQjeJ1RZrB4CL2349V6Sj3sgYsyU3idX2+FY4FVoA\nsGvA1+82WJFFRERERERERF1NKRJZR7b9fMTjuYUANgE42KNLYKhYxpjXAKyE02Vw50KB2qq7JrX9\n+lyA1yYiIiIiIiIiojIqxdhQn2v7uTL3CWPMNhF5HcDucJJPK6LGavMygBFt/17NfEJE+gA4D4DA\nqRD7PIBdANwB4E8F30U3w4osIiIiIiIiIupqSpHIamj7+ZHP8+7jvYscqw+AyzN+NwCuAnCpMcbk\ne1ER+TqArwPA0KFDA2wmERERERERERFpC9S1UETeEBET4t/MENvg1gblTSbZxjLGvGiMETjJu1Y4\ng8J/HcBCEWnKF9QY81tjzGhjzOiWlhaFzSw/VmQRERERERERUVcTtCLrVQCbQ8R9J+P/bpVUg9eC\nAOpzlsvHOpYxZjuANwH8SkTeA/C/AK6A0+2QiIiIiIiIeohnninFsNHR7btvp3nLIjHGYObMmfj9\n73+PF198Edu3b8euu+6KadOm4etf/zri8XjW8qtWrcKee+7pG+/kk0/GrbfemvXYe++9hx/+8IeY\nP38+RARHHHEErrzySngVg1xxxRW4+eabsWTJEgwcODDSe1q5ciV++9vfYtGiRVi9ejU+/fRTNDc3\nY6+99sIXvvAFnHrqqUin0+3L19c76YINGzZEej2qHIESWcaYCRav8RKA0XDGrVqW+YSIJAAMA7AN\nwGsBY6Etlhd39kG/MbRyPdz2c3zA5bsNVmQRERERERH1DN/4xjcwe/ZstLS04OSTT0ZNTQ3mz5+P\nSy65BIsXL8btt98O8bhI3HPPPXHcccd1eny33XbL+n3Hjh049dRT8eKLL2Lq1Kn49NNPMWfOHLz2\n2mv4y1/+glisI2H47LPP4pprrsE111wTOYk1Y8YMzJgxAzt27MABBxyA008/HXV1dXj//fexaNEi\nnHfeefjd736HBQsWRIpPla0UY2Q9AWAagGPhVD9lGgegBsBCY8xnAWP9R1usKzOfEJGd4SS4ViFY\nUgwABrX93BZweSIiIiIiIqIu409/+hNmz56NnXbaCfPmzUNzczMAYOvWrTjzzDNx//3344477sC0\nadM6rbvnnnvi0ksvLfgay5YtwzPPPIMbb7wRU6dOBQC0trbiyiuvxPLlyzF69GgAwLZt2/Dtb38b\nhx12GM4444xI7+eqq67C9OnTMXjwYNx222044IADOi3z8MMP47rrrosUnypfKeoo7wLwLwCnicho\n90ERSQP4aduvv8lcQURqRGSkiOSOrL4AzsyG40TkCxnLxwD8rO3XGzMHbxeRsSJSk7tRIlIH4Fdt\nv/450jvrwliRRURERERE1P098MADAIDzzjuvPYkFAMlkEpdddhkA4KabbrJ6jbfeegsA2hNWALD/\n/vtnPQcAV199NV577TVce+21kV5n1apVuPLKK5FMJnHXXXd5JrEAYOLEibjnnnsivQZVvqJXZBlj\nNojIOXASWvNFZDaADwF8AcDn2h6fk7PaGADz4CSuxmfE2i4iX4VTmXWXiNwFZ7yrCXC6Lz4F4Jc5\nsX4IYLyILGhbdhOAIQAmwpndcDFyqruIiIiIiIiIuoP33nsPALDTTjt1es597O9//zvWr1+P3r17\nZz3/7rvv4pZbbsGHH36IpqYmjBkzBnvssUenOIMHDwYAPPPMMxgxYkT7/wFgyJAhAIAVK1bgF7/4\nBaZPn46hQ3NrVoKZOXMmtm7dismTJ3fq3pgrlUpFeg2qfKXoWghjzH0icjicboGTAaQBvALguwB+\nnVlBFSDWEhE5AMBPABwNoBec7oRXAJjh0UXxZgCfADgATlKsBsA6OON13QngFmNMj+tayIosIiIi\nIiKi7s+twlq1alWn59544432/69cuRJjxozJen7evHmYN29e1mOHHXYYbrzxxvYEFeBUX+2zzz64\n8MILsWTJkvYxsvbbbz/st99+2L59O771rW/hgAMOwDnnnBP5vfz1r38FAIwfPz5yDOr6SjZFgzHm\nKWPMJGNMozGm2hizpzHml22zCOYuO98YI8aY8T6xXjDGnGKM6WOMSRljRhhjLjfGfOqx7J+NMdPa\nlmkwxiSNMX2NMUcZY37bE5NYRERERERE1DMce+yxAIDrrrsOH374Yfvj27Ztw/Tp09t/X79+ffv/\na2pqcPHFF2PhwoV488038eabb+Lhhx/GuHHjsGjRIhx//PH45JNP2pePx+OYM2cOjjnmGNx77714\n9NFHccIJJ2DOnDmIxWK47rrr8MILL+Daa6/F+vXr8bWvfQ0DBw5ES0sLvvjFL+Kdd94J9F7WrFkD\nAJEHiafuoSQVWVR5WJFFRERERETU/U2ZMgVz5szB3LlzMWbMGEyaNAnV1dWYP38+Xn/9dQwfPhyv\nvvoq4vF4+zotLS3t42e5DjnkENx33304+uijsXTpUtx222341re+1f78gAEDcOutt3Z6/VdeeQXT\np0/HZZddhl122QWnn346nnzySVx11VWor6/H97//fUybNg1PPPGE58yJmdzOXIWWo+6tZBVZRERE\nRERERFRasVgMc+bMwX//93+jX79+mD17NmbOnImBAwfi0UcfRVNTEwAneVVIIpHAmWeeCQBYvHhx\nweWNMTjvvPOw++6749vf/jZeeeUV/PnPf8b555+PqVOn4t/+7d9w+eWXY9myZVi4cGHBeAMGDACA\nwBVc1D0xkdVDMYFNRERERETUMyQSCZx//vl46qmn8P7772P16tW49957MXLkSPzjH/9AdXU1Ro0a\nFShWnz59ACCra6Gfm266CUuXLsUNN9yAWCyGlStXAgD23nvv9mX23XdfAM5g8IUceOCBAID58+cH\n2lbqnpjIIiIiIiIiIuqBZs+ejc2bN+Okk05CMpkMtM7TTz8NwHsWxEyrVq3CFVdcgUsuuQQjR44E\n0NE1cMuWLe3Lbd68OfD2fulLX0IymcQDDzyAF198Me+yn32WOw8cdRdMZPVQrMgiIiIiIiLqGTZs\n2NDpsWXLluHyyy9HXV0dLrnkkqznnn766axkk2vBggW4/vrrAQCnnXZa3te84IILMHz4cFx00UXt\nj7kJrYcffrj9Mff/QSrCWltb8cMf/hBbtmzBKaecguXLl3suN3fuXEyePLlgPOqaONg7ERERERER\nUTd2wgkntHcf7NWrF1asWIHHHnsMqVQKM2fOxLBhw7KWv/zyy7FixQocdthh7TME/vOf/8SCBQsA\nAJdddhnGjh3r+3q33norFi1ahPnz5yOR6Eg7DB8+HMcffzxmzpyJTz75BL169cKsWbOw//77Y9y4\ncYHey/e//31s27YNM2bMwPjx4zF27Fjsu+++qKurw/vvv4+nnnoKr776anuXRep+mMjqoViRRURE\nRERE1DOceOKJuPvuu3HnnXfi008/xYABA3DmmWfioosuQmtra6flTzvtNDz44INYvnw55s6di61b\nt6Jv3744+eST8fWvfx0HH3yw72u98847+NGPfoSLLroIe+21V6fnr7/+etTV1eGhhx7C1q1bceyx\nx+Lqq68ONRPhD37wA5x00km4+eabsWjRIsyaNQubN29GU1MT9txzT1x00UX44he/GDgedS3i9lGl\nYEaPHm2WLl1a7s2wtn07kDG7KhERERERUbezbNkyjBgxotybQdSjrVy5EgsXLsQZZ5yB5uZm3+VE\nZJkxZnSheBwji4iIiIiIiIiIugQmsnoodi0kIiIiIiIioq6GiSwiIiIiIiIiIuoSmMjqoViRRURE\nRERERERdDRNZRERERERERETUJTCR1UOxIouIiIiIiIiIuhomsoiIiIiIiIiIqEtgIouIiIiIiIi6\nLWNMuTeBqMcqxv7HRBYRERERERF1S4lEAtu2bSv3ZhD1WNu2bcOOHTsgiuMbMZFFRERERERE3VJD\nQwM2bNhQ7s0g6rE2bNiAjRs3whiDRCKhEpOJLCIiIiIiIuqW+vfvj/Xr1+Nf//oXtm7dym6GRCVg\njMHWrVvxwQcfYO3atVi9ejVqa2vRq1cvlfg66TAiIiIiIiKiCpNOpzFy5EgsW7YMa9euRTweL/cm\nEfUIO3bswMaNG/Huu+/i3XffxYQJExCL6dRSMZFFRERERERE3VY6ncaYMWMwb948vPDCCzDGQERY\nnUVURO4+lkwmMX78eOy7775qsZnIIiIiIiIiom4tmUzi6KOPxrhx47Bu3Tps37693JtE1O0lk0n0\n6dNHvRKSiSwiIiIiIiLqEdLpNAYMGFDuzSAiCxzsnYiIiIiIiIiIugQmsoiIiIiIiIiIqEtgIouI\niIiIiIiIiLoEJrKIiIiIiIiIiKhLYCKLiIiIiIiIiIi6BCayiIiIiIiIiIioSxBjTLm3oUsRkbUA\nVpV7OxT0AfCvcm8EURfAfYUoGO4rRMFwXyEKhvsKUTDdaV9pNca0FFqIiaweSkSWGmNGl3s7iCod\n9xWiYLivEAXDfYUoGO4rRMH0xH2FXQuJiIiIiIiIiKhLYCKLiIiIiIiIiIi6BCayeq7flnsDiLoI\n7itEwXBfIQqG+wpRMNxXiILpcfsKx8giIiIiIiIiIqIugRVZRERERERERETUJTCRRURERERERERE\nXQITWT2IiAwWkVtE5B0R+UxE3hCRa0SksdzbRlQsbd9z4/Nvjc86B4vIQyLyoYhsEpHnRORCEYnn\neZ1/E5H5IvKRiGwUkSUicmbx3hlReCIyRUSuFZFFIrKhbT+YWWCdkuwPInKmiPytbfmP2tb/t6jv\nlchGmH1FRHbKc54xIjI7z+uE+t6LSLxt/3tORD5t2y8fEpGDNd43URgi0iwiXxORe0Xklbbv5Eci\n8qSInC0inteaPK9QTxN2X+F5pTCOkdVDiMhwAIsB9AVwP4AXAYwBcASAlwAcYoz5oHxbSFQcIvIG\ngN4ArvF4eqMx5qqc5U8AcDeAzQDmAPgQwPEAPgfgLmPMKR6vcR6AawF80LbOFgBTAAwGcLUx5vta\n74fIhoj8HcDeADYCeBvASACzjDFf8lm+JPuDiFwF4Htt23QXgCoApwFoAnC+Mea66O+aKLww+4qI\n7ATgdQDPArjPI9zzxpi7PNYL9b0XEQFwJ5z96SUAD7Yt+0UAaQCTjTH3h3+3RNGIyLkAfoP/3979\nB81V1Xccf3/ITxGIgSoRqIQAQQVDtdCQaH5aI4yNII1FZgoRkREVirY4IuVHKLbTX0mkRCe0jMQR\nK9jYFuMEUkzyhJgMSEqhCI0SkgeIBgIhAUzID+TbP87ZcLPsPs/ukye7zz77ec2cudlzz7l77s09\nz9n97r3nwiZgOfA0cCRwLjCMNH58MgpfOD2uWDuqt694XKlBRDi1QQKWAEE6gYv5c3L+/Ga30cnp\nQCSgE+issexhwGZgF3BaIX8oKRAcwKfK6owkfRjbAows5A8H1uU645p9HJycIgLSjxcnAgIm5/Pz\n9iplG9IfgPE5fx0wvGxbW/L2Ru7Pfjs51Zvq7Csj8/oFdWy/7vMeOD/XWQUMLeSfnvvpZuDQZh87\np/ZJwFRSEOqgsvwRpC/qQfoiXMr3uOLUlqkHfcXjSjfJtxa2AUmjgGmkL/TfLFt9PbAduEDSWxvc\nNLO+ZgbwduCOiFhTyoyIncA1+eXny+p8BhgCzIuIzkKdrcDf5JeXHqgGm9UjIpZHxBORP6V0o1H9\nofT6r3O5Up1O0pg1BLiohvaa9Zo6+0pP9OS8L/W3a3I/LNV5kHSVyttJ/dasISJiWUQsiojXy/Kf\nBebnl5MLqzyuWFvqQV/pibYaVxzIag9T8/K/KnSeV0gR2IOBMxrdMLMGGSLpTyVdLekKSVOqzMNQ\n6iv3VFh3H7ADGC9pSI117i4rY9ZKGtUf3IesvzhK0ufyWPM5SWO6KFvXeZ/72XhSv1tZSx2zJtuT\nl68V8jyumL1Zpb5S4nGlioHNboA1xEl5+csq658gXbE1GljakBaZNdYI4LtleRskXRQRKwp5VftK\nRLwmaQNwMjAK+L8a6myStB04RtLBEbFjf3bCrMEOeH/IVwIfTZqvblOFNjyRl6P3Yz/MGuUjOe0l\nqQOYGRFPF/J6ct6fAAwA1kdEpS877ivWZ0gaCFyYXxa/VHtcMSvooq+UeFypwldktYdheflSlfWl\n/Lc1oC1mjXYb8GFSMOutwPuAW0j3i98t6dRC2Z70lVrrDKuy3qyvakR/8Phk/cEO4Ebg90nz9gwH\nJpEm9J0MLC2bvuFA9i33FesL/hY4BVgcEUsK+R5XzPZVra94XOmGA1kGaSJTSBO9mfUrEXFDvi/9\nuYjYERE/j4hLSQ86eAswq47N9aSvuH9Zf9XI/uD+Y31WRGyOiOsi4qGI2JbTfaSr3R8g/er92Z5s\nuo6yHmusT5D0Z6Snpq0FLqi3el56XLF+r6u+4nGlew5ktYfurgg5rKycWTsoTaw4sZDXk75Sa52X\n62qdWfM1oj90V767XwvN+qx8q8at+WU9Y02l896f5azPk/RF4CbgcWBKRLxYVsTjihk19ZWKPK68\nwYGs9vCLvKx2f+uJeVltDi2z/mhzXhYvy63aV/I97MeRJmJcX2Odd+btb/T8WNaCDnh/iIjtwK+A\nQ/L6ch6frNU9n5d7x5oenvfrgN8Co3L/q6WOWcNI+hIwD/g56Yv5sxWKeVyxtldjX+mKxxUcyGoX\ny/NymqR9/s8lHQp8EHgVuL/RDTNronF5WfywtCwvz6xQfiLp6Z6rI2JXjXXOKitj1koa1R/ch6w/\nKz0Ren1Zfl3nfe5nq0n9bkItdcwaRdJXgbnAw6Qv5purFPW4Ym2tjr7SFY8rABHh1AYJWEK6v/Xy\nsvw5OX9+s9vo5NTbifTkm8Mr5B9LehJHAFcX8g8j/cqxCzitkD+U9Ic+gE+Vbes4YCewBRhZyB9O\n+qUjgHHNPhZOTuWJNFloALdXWd+Q/kB69HPk9cML+SPzdnYWt+Xk1OhUQ18ZCwyukD81n78BjC9b\nV/d5D5yf66wChhbyT8/9dDNwWLOPl1N7JeDafF6uqfSZq6ysxxWntk119hWPK90k5YZaPyfpeNIA\n8Q7gLtIjbccCU0iXC46PiC3Na6FZ75M0C7iKdFXiBuAV4HjgY6QPTYuBT0TE7kKdc4CFpD/2dwAv\nAh8nPf55IfAnUfaHU9LlwD+RBok7gd3ADOAYYHZEXHnAdtKsDvn8Pie/HAF8lPSL3sqc90LxfG1U\nf5A0G/hzYGPe7mDgPOAI0g8w8/Z3383qUU9fyY9CPxnoIJ3DAGNIXzgAro2Ir1d4j7rOe0kCfkDq\nT2uBRbnseaQx7Y8j4q792G2zukiaCSwg3Z50M5Xn0umMiAWFOh5XrO3U21c8rtSg2ZE0p8Yl4HeB\n24BNpAHgKdIkc11GhJ2cWjWRHlP7fdIf5m3AHtIvgfcCF0IK5leo90FSkGsr6bbbR4EvAwO6eK/p\nwApSsGw78CAws9nHwMmpmEhP6YwuUmeFOg3pD8DMXG57rrcC+KNmHzOn9kz19BXgYuDHQCfwG9Kv\n2E+TvnBP6OZ96jrvgYG5/z2a++PW3D/H98Z+OznVk2roJwF0VKjnccWprVK9fcXjSvfJV2SZmZmZ\nmZmZmVlL8GTvZmZmZmZmZmbWEhzIMjMzMzMzMzOzluBAlpmZmZmZmZmZtQQHsszMzMzMzMzMrCU4\nkGVmZmZmZmZmZi3BgSwzMzMzMzMzM2sJDmSZmZmZmZmZmVlLcCDLzMzM2oKkyZJC0qxmt6UWkmbl\n9pbS/Ga3qVEK+z55P7czr+wYzuqdFpqZmVmzDGx2A8zMzMx6g6SRwAbgOxHx6aY2pnd9B+gE1jS5\nHa1oMfACMBKY2dymmJmZWW9wIMvMzMzaxc+A95ACG61kQUR0NLsRrSgiFgOL85VdDmSZmZn1Aw5k\nmZmZWVuIiB3A2ma3w8zMzMx6znNkmZmZWcvLcx9tyC9nls2L9OlcpuIcWZI6cv4gSddJelLSTklr\nJV1SKHeppEclvSppo6QbJFX8LCVprKSFkp6VtFvSM5JukXRUL+7zkZL+UdIvJG2XtC3/e4GkUYVy\ngyVdJmmxpKck7ZL0oqSfSDqryrY7czpE0tzc/lclPSzpnFxmoKSrJT2Rj9eTki6rsK29x13SuPy+\nL0l6RdISSafVud/vzvv4TN6X5yT9q6ST6j2GZmZm1np8RZaZmZn1Bx3A24ArgEeA/yyse7jGbdwB\njCXNq7QHmAH8s6Q9wBjSrWk/BpYCHweuA3YAf1fciKSLgH8BdgE/Ap4BTgQ+C0yXdEZEPF33Hu77\nHgcDq4DjgXuBRYCAY4GzgYXA+lz8cOAmYHUu+zzwTmA66ba7SyLi1gpvMyiXPxy4CxgMnA/8UNI0\n4Auk43V33tdPAjdLej4i7qywvbHA14CfAN8ETgDOBSZKmhYRK2vY7zOBf89tWwSsA47J2/mYpCkR\n8VB32zEzM7PW5UCWmZmZtbyI6JDUSQpkPRwRs3qwmXcBp0TENgBJs0m3Is4FtgFjIuJXed0sUhDl\nSkmzI+K1nD8auIU0OfukUvm8biopMHQT8IketK/ow6Qg1jci4svFFZIGA0MKWVuBYyNiY1m5YaRg\n2N9L+l5EvFr2HkcBDwGTI2JXrvNd4D7g34An2fd4zSEdr6uASoGsM4HLI2JeoQ1nk4KO35Z0UkS8\nXm2HJQ0Hvk8KHk6MiMcL604GHgBuBT5QbRtmZmbW+nxroZmZmVlyVSkoAxAR64Gfkq70urEYlMrl\nFgG/Axxd2MbnSVcLXVEsn+ssI12hNV3Sob3U5vLgExGxOyJeKbzeVR7EyvkvAd8GhgOnV9n+l0pB\nrFxnJekWzuHAVyscr1XA+yQNqLCtdcC3ytpwF7CCdHXWhGo7mV1I+r+4vhjEytt5jHQV3Pslvbeb\n7ZiZmVkL8xVZZmZmZsmaCnm/zsv/rrCuFKg6Bngq/3tcXk6SVCk49A5gADC6yjZrtSK//1WSPkC6\nHXIV6Wq035YXzlcsfQWYSLqtcGhZkaPL6wDbIuLJCvm/Bo6j+jEZAIzgjeNTsrLKFVcdwCTg/Xm/\nqikd21PL5znLRufle4DHK6w3MzOzfsCBLDMzMzP2XqFU7rW87GrdoELeEXn5lW7e7pA6mvYmEfGy\npDOAG0jzdX00r3pB0reAr0fEHoBcbhnpc99S0lVhLwOvA79HmlNrCG9WaZ8h73c3x2tQhXXPVdne\ns3k5rMr6ktKxvaTLUvt5bM3MzKxvcyDLzMzMrPeUgjvDIuLlA/lG+XbBiyUJeC8wFfgiaRL6g4Br\nc9FrgLcAUyKio7gNSV8jBbIa4cgq+SPyslrgjLL1p0bE//ZOk8zMzKzVeI4sMzMz6y9Kt9RVmp+p\nUe7Py+7me+o1kTwWETcDH8nZ5xSKnAC8WB7EyiYd6PYVfEhSpc+ek/Pyf7qp3/Bja2ZmZn2PA1lm\nZmbWX2wFgvT0wWaZB+wB5uYnGO5D0mBJ+x2IkXSKpJEVVpWuetpRyOsEDpc0pmwbF/PGLYmNcCLw\nhbI2nE0Kpq0DVnZT/zbS0yOvl/QH5SslHSRpcu801czMzPoq31poZmZm/UJE/EbSA8AESd8Dfkm6\nSutHjboVLSLWSvoM6WmAj0m6J7djECnANgF4Hnj3fr7VHwJzJK0G1gKbSZPOn02a++ofCmW/QQpY\n/VTSD0i36J0GfAhYCMzYz7bU6h5gtqSzgEdIV4qdC+wELq4yEfxeEbFF0gzgP4D7JS0FHiPt77tI\nk8EfwZsnsjczM7N+xIEsMzMz608uAOYCZwLnAwI2Ag2bUykibpf0CPAXwBRgGrCd9LS/hcCdvfA2\nS0gBqomk4NVhwCbgXmBORKwutOceSdNJc2WdRwru/Sy3bRSNC2Q9APwVcCNwGen/ZhnwlxHxYC0b\niIil+cqyK0nBuQnAbtKxXQb88AC028zMzPoQRUSz22BmZmZmZSTNAq6nwiTtrSTf7rccuCEiZrVr\nG8zMzKx3eI4sMzMzs75tuaSQNL/ZDWk1kuZJClIQy8zMzPoB31poZmZm1jd1lL1e04xGtLjFwAuF\n1x1NaoeZmZn1EgeyzMzMzPqgfDthR5Ob0dIiYjEpmGVmZmb9hOfIMjMzMzMzMzOzluA5sszMzMzM\nzMzMrCU4kGVmZmZmZmZmZi3BgSwzMzMzMzMzM2sJDmSZmZmZmZmZmVlLcCDLzMzMzMzMzMxaggNZ\nZmZmZmZmZmbWEv4fzg/6Aw2pCOEAAAAASUVORK5CYII=\n",
      "text/plain": [
       "<matplotlib.figure.Figure at 0x7faf3c073908>"
>>>>>>> 4b93a6aa1c938018a65db675609718c14664bb75
      ]
     },
     "metadata": {},
     "output_type": "display_data"
    }
   ],
   "source": [
    "my_label_size = 20\n",
    "label_size = 20\n",
    "plt.rcParams['xtick.labelsize'] = label_size \n",
    "plt.rcParams['ytick.labelsize'] = label_size \n",
    "\n",
    "#plotear estimacion, observaciones y datos totales\n",
    "fig=plt.figure(3, figsize=(20,6))\n",
    "ax = plt.gca()\n",
    "plt.fill_between(t, y_model-2*std_dev, y_model+2*std_dev, facecolor='blue', alpha=0.2, label='95% CI')\n",
    "plt.plot(t,y_model, c='b', linestyle='none', marker='x',lw=4,label='posterior mean')\n",
    "plt.plot(t,img_fft.real.reshape(-1), c='black', marker='.', linestyle='none',label='true signal')\n",
    "plt.plot(mask_vect_index,Vrobs,'red',ms=8, linestyle='none', marker='.', label='observations')\n",
    "\n",
    "leg=plt.legend(ncol=1,frameon=True, shadow=True, loc=4, fontsize=my_label_size)\n",
    "frame  = leg.get_frame()\n",
    "frame.set_facecolor('0.95')\n",
    "plt.xlabel('time [sample]', fontsize=my_label_size)\n",
<<<<<<< HEAD
    "plt.title('Signal recovery using {}% of observations'.format(percent), fontsize=my_label_size)\n",
    "plt.xlim([25,75])"
=======
    "plt.title('Signal recovery using {}% of observations'.format(26.3), fontsize=my_label_size)\n",
    "# plt.xlim([0,1800])"
>>>>>>> 4b93a6aa1c938018a65db675609718c14664bb75
   ]
  },
  {
   "cell_type": "code",
   "execution_count": null,
   "metadata": {
    "collapsed": true
   },
   "outputs": [],
   "source": []
  },
  {
   "cell_type": "code",
<<<<<<< HEAD
   "execution_count": 52,
   "metadata": {},
   "outputs": [
    {
     "data": {
      "text/plain": [
       "<matplotlib.image.AxesImage at 0x7f4998b3fdd8>"
      ]
     },
     "execution_count": 52,
     "metadata": {},
     "output_type": "execute_result"
    },
    {
     "data": {
      "image/png": "iVBORw0KGgoAAAANSUhEUgAAA98AAAE8CAYAAADZvAK1AAAABHNCSVQICAgIfAhkiAAAAAlwSFlz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\nRK5CYII=\n",
      "text/plain": [
       "<matplotlib.figure.Figure at 0x7f49a238ce10>"
      ]
     },
     "metadata": {},
     "output_type": "display_data"
    }
   ],
=======
   "execution_count": null,
   "metadata": {},
   "outputs": [],
   "source": [
    "(np.where(mask)[1] == (mask_vect_index % IMAGE_SIZE_X)).all()"
   ]
  },
  {
   "cell_type": "code",
   "execution_count": null,
   "metadata": {},
   "outputs": [],
>>>>>>> 4b93a6aa1c938018a65db675609718c14664bb75
   "source": [
    "I_fft_mod_real = y_model.reshape((IMAGE_SIZE_Y,IMAGE_SIZE_X))\n",
    "# I_fft_mod_real = img_fft.real\n",
    "# I_fft_mod_real = measurements.real\n",
    "\n",
    "I_fft_mod_imag = np.zeros_like(I_fft_mod_real)\n",
    "I_fft_mod = I_fft_mod_real + 1j*I_fft_mod_imag\n",
    "I_mod = np.fft.ifft2(I_fft_mod)\n",
    "f, ax = plt.subplots(1,3, figsize=(17,5))\n",
    "\n",
    "ax[0].imshow(np.fft.fftshift(img_fft.real))\n",
    "ax[1].imshow(np.fft.fftshift(I_fft_mod_real))\n",
    "ax[2].imshow(np.fft.fftshift(v_model.reshape((IMAGE_SIZE_Y,IMAGE_SIZE_X))))\n"
   ]
  },
  {
   "cell_type": "code",
   "execution_count": null,
   "metadata": {
    "collapsed": true
   },
   "outputs": [],
   "source": [
    "invW = np.linalg.inv(W)"
   ]
  },
  {
   "cell_type": "code",
   "execution_count": null,
   "metadata": {
    "collapsed": true
   },
   "outputs": [],
   "source": [
    "plt.imshow(np.matmul(invW.real.T,np.matmul(K,invW.real)), cmap='seismic')\n",
    "plt.colorbar()"
   ]
  },
  {
   "cell_type": "code",
   "execution_count": null,
   "metadata": {
    "collapsed": true
   },
   "outputs": [],
   "source": [
    "plt.imshow(np.matmul(invW.imag.T,np.matmul(K,invW.imag)), cmap='seismic')\n",
    "plt.colorbar()"
   ]
  },
  {
   "cell_type": "code",
   "execution_count": null,
   "metadata": {
    "collapsed": true
   },
   "outputs": [],
   "source": []
  }
 ],
 "metadata": {
  "kernelspec": {
   "display_name": "Python 3",
   "language": "python",
   "name": "python3"
  },
  "language_info": {
   "codemirror_mode": {
    "name": "ipython",
    "version": 3
   },
   "file_extension": ".py",
   "mimetype": "text/x-python",
   "name": "python",
   "nbconvert_exporter": "python",
   "pygments_lexer": "ipython3",
   "version": "3.6.3"
  }
 },
 "nbformat": 4,
 "nbformat_minor": 2
}
