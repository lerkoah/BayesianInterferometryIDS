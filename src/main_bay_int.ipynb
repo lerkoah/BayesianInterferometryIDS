{
 "cells": [
  {
   "cell_type": "markdown",
   "metadata": {
    "deletable": true,
    "editable": true
   },
   "source": [
    "# IDS Bayesian Interferometry"
   ]
  },
  {
   "cell_type": "code",
   "execution_count": 1,
   "metadata": {
    "collapsed": false,
    "deletable": true,
    "editable": true
   },
   "outputs": [
    {
     "ename": "ModuleNotFoundError",
     "evalue": "No module named 'pymc3'",
     "output_type": "error",
     "traceback": [
      "\u001b[0;31m---------------------------------------------------------------------------\u001b[0m",
      "\u001b[0;31mModuleNotFoundError\u001b[0m                       Traceback (most recent call last)",
      "\u001b[0;32m<ipython-input-1-646c3618012e>\u001b[0m in \u001b[0;36m<module>\u001b[0;34m()\u001b[0m\n\u001b[0;32m----> 1\u001b[0;31m \u001b[0;32mfrom\u001b[0m \u001b[0mpymc3\u001b[0m \u001b[0;32mimport\u001b[0m \u001b[0;34m*\u001b[0m\u001b[0;34m\u001b[0m\u001b[0m\n\u001b[0m\u001b[1;32m      2\u001b[0m \u001b[0;32mimport\u001b[0m \u001b[0mnumpy\u001b[0m \u001b[0;32mas\u001b[0m \u001b[0mnp\u001b[0m\u001b[0;34m\u001b[0m\u001b[0m\n",
      "\u001b[0;31mModuleNotFoundError\u001b[0m: No module named 'pymc3'"
     ]
    }
   ],
   "source": [
    "from pymc3 import *\n",
    "import numpy as np"
   ]
  },
  {
   "cell_type": "code",
   "execution_count": null,
   "metadata": {
    "collapsed": true,
    "deletable": true,
    "editable": true
   },
   "outputs": [],
   "source": [
    "def show_fft_image(img_fft, shift = True):\n",
    "    \n",
    "    img_fftabs = img_fft\n",
    "    if type(img_fft[0,0]) == np.complex128:\n",
    "        img_fftabs = np.abs(img_fft)\n",
    "    \n",
    "    if shift:\n",
    "        img_fftabs = np.fft.fftshift(img_fftabs)\n",
    "    plt.imshow(img_fftabs)\n",
    "    plt.show()"
   ]
  },
  {
   "cell_type": "markdown",
   "metadata": {
    "deletable": true,
    "editable": true
   },
   "source": [
    "## Creating artificial data"
   ]
  },
  {
   "cell_type": "code",
   "execution_count": null,
   "metadata": {
    "collapsed": false,
    "deletable": true,
    "editable": true
   },
   "outputs": [],
   "source": [
    "size = 1\n",
    "MAX_VALUE = 255\n",
    "MIN_VALUE = 0\n",
    "IMAGE_SIZE_X = 50\n",
    "IMAGE_SIZE_Y = 50\n",
    "SIGMA = 20\n",
    "\n",
    "I = np.ceil((MAX_VALUE - MIN_VALUE) * np.random.rand(size) + MIN_VALUE)\n",
    "Cx = np.ceil((IMAGE_SIZE_X)/2 + SIGMA*np.random.randn(size)).astype('int')\n",
    "Cx = np.clip(Cx,0,IMAGE_SIZE_X)\n",
    "Cy = np.ceil((IMAGE_SIZE_Y)/2 +  SIGMA*np.random.randn(size)).astype('int')\n",
    "Cy = np.clip(Cy,0,IMAGE_SIZE_Y)\n",
    "\n",
    "minI = np.min(I)\n",
    "argminI = np.argmin(I)\n",
    "maxI = np.max(I)\n",
    "argmaxI = np.argmax(I)\n",
    "\n",
    "print 'min I: %s at (%s,%s)\\n' \\\n",
    "      'max I: %s at (%s,%s)\\n' % (minI, Cx[argminI], Cy[argminI],\n",
    "                                  maxI, Cx[argmaxI], Cy[argmaxI])"
   ]
  },
  {
   "cell_type": "code",
   "execution_count": null,
   "metadata": {
    "collapsed": false,
    "deletable": true,
    "editable": true
   },
   "outputs": [],
   "source": [
    "import matplotlib.pyplot as plt\n",
    "from modelfunctions import *\n",
    "\n",
    "Im_sinthc = sintheticImage(I,Cx,Cy, l=SIGMA, IMAGE_SIZE_X = IMAGE_SIZE_X, IMAGE_SIZE_Y = IMAGE_SIZE_Y)\n",
    "plt.imshow(Im_sinthc)\n",
    "plt.show()\n",
    "\n",
    "img = Im_sinthc #rename variable"
   ]
  },
  {
   "cell_type": "code",
   "execution_count": null,
   "metadata": {
    "collapsed": false,
    "deletable": true,
    "editable": true
   },
   "outputs": [],
   "source": [
    "# Calculate the spectrum\n",
    "img_fft, img_fftabs = spectrum(img)\n",
    "\n",
    "show_fft_image(np.log(img_fftabs+1e-12))"
   ]
  },
  {
   "cell_type": "code",
   "execution_count": null,
   "metadata": {
    "collapsed": false,
    "deletable": true,
    "editable": true
   },
   "outputs": [],
   "source": [
    "from mpl_toolkits.mplot3d import Axes3D\n",
    "from matplotlib import cm\n",
    "\n",
    "# 3D plotting\n",
    "fig = plt.figure(figsize=plt.figaspect(0.5))\n",
    "ax = fig.add_subplot(1, 3, 1, projection='3d')\n",
    "\n",
    "\n",
    "UU = np.arange(0,IMAGE_SIZE_X,1)\n",
    "VV = np.arange(0,IMAGE_SIZE_Y,1)\n",
    "UU, VV = np.meshgrid(UU, VV)\n",
    "WW = np.fft.fftshift(img_fft.real)\n",
    "\n",
    "\n",
    "## Plot the surface.\n",
    "surf = ax.plot_surface(UU, VV, WW, cmap=cm.viridis)\n",
    "# Add a color bar which maps values to colors.\n",
    "fig.colorbar(surf, shrink=0.5, aspect=5)\n",
    "ax.set_title(\"Real Part\")\n",
    "\n",
    "ax.view_init(elev=10., azim = 70)\n",
    "\n",
    "# 3D plotting\n",
    "ax = fig.add_subplot(1, 3, 2, projection='3d')\n",
    "\n",
    "\n",
    "UU = np.arange(0,IMAGE_SIZE_X,1)\n",
    "VV = np.arange(0,IMAGE_SIZE_Y,1)\n",
    "UU, VV = np.meshgrid(UU, VV)\n",
    "WW = np.fft.fftshift(img_fft.imag)\n",
    "\n",
    "\n",
    "## Plot the surface.\n",
    "surf = ax.plot_surface(UU, VV, WW, cmap=cm.viridis)\n",
    "# Add a color bar which maps values to colors.\n",
    "fig.colorbar(surf, shrink=0.5, aspect=5)\n",
    "ax.set_title(\"Imaginary Part\")\n",
    "\n",
    "ax.view_init(elev=20., azim = 70)\n",
    "\n",
    "# 3D plotting\n",
    "ax = fig.add_subplot(1, 3, 3, projection='3d')\n",
    "\n",
    "UU = np.arange(0,IMAGE_SIZE_X,1)\n",
    "VV = np.arange(0,IMAGE_SIZE_Y,1)\n",
    "UU, VV = np.meshgrid(UU, VV)\n",
    "WW = np.fft.fftshift(np.log(img_fftabs+0.001))\n",
    "\n",
    "\n",
    "## Plot the surface.\n",
    "surf = ax.plot_surface(UU, VV, WW, cmap=cm.viridis)\n",
    "# Add a color bar which maps values to colors.\n",
    "fig.colorbar(surf, shrink=0.5, aspect=5)\n",
    "ax.set_title(\"Log Abs\")\n",
    "\n",
    "ax.view_init(elev=50., azim = 70)\n",
    "\n",
    "fig.set_figheight(3.7)\n",
    "fig.set_figwidth(17)\n",
    "\n",
    "plt.show(fig)"
   ]
  },
  {
   "cell_type": "markdown",
   "metadata": {
    "deletable": true,
    "editable": true
   },
   "source": [
    "## Creating sampling mask\n"
   ]
  },
  {
   "cell_type": "markdown",
   "metadata": {
    "deletable": true,
    "editable": true
   },
   "source": [
    "For creating the sampling mask, we have made a u,v representations based on the antennas disposition. This is because, if the antennas disposition is random, the measures are not completely random. The Measurements positions are defined by the interferometry physics."
   ]
  },
  {
   "cell_type": "code",
   "execution_count": null,
   "metadata": {
    "collapsed": false,
    "deletable": true,
    "editable": true
   },
   "outputs": [],
   "source": [
    "from masking import *\n",
    "\n",
    "## Parameters\n",
    "B_max = 1\n",
    "antennas = 24\n",
    "typeArray = 'ALL'\n",
    "sigma = B_max/6\n",
    "\n",
    "lambda_phy=3*10**(-6); #(km)\n",
    "H0=10; #(deg)\n",
    "delta0=-30; #(deg)\n",
    "Lat=34.05;  #(deg) Lat VLA\n",
    "\n",
    "## Masking function returns the mask\n",
    "mask = createSpectrumMasking(B_max,antennas,typeArray,sigma, lambda_phy, H0, delta0, Lat, N1 = IMAGE_SIZE_X, N2 = IMAGE_SIZE_Y)\n",
    "show_fft_image(mask)"
   ]
  },
  {
   "cell_type": "markdown",
   "metadata": {
    "deletable": true,
    "editable": true
   },
   "source": [
    "## Sampling"
   ]
  },
  {
   "cell_type": "markdown",
   "metadata": {
    "deletable": true,
    "editable": true
   },
   "source": [
    "Variable `measurements` are the 2D representation for the measurements. `U` are the positions in the `u,v` spaces, i.e., `U[0] = u`, `U[1] = v`. Finally, `V` is the visibility function."
   ]
  },
  {
   "cell_type": "code",
   "execution_count": null,
   "metadata": {
    "collapsed": false,
    "deletable": true,
    "editable": true
   },
   "outputs": [],
   "source": [
    "measurements,U,V = UVCreator(np.fft.fftshift(img_fft),mask)\n",
    "\n",
    "measurements_abs = np.log(np.abs(measurements)+0.01)\n",
    "show_fft_image(measurements_abs, shift=False)\n"
   ]
  },
  {
   "cell_type": "markdown",
   "metadata": {
    "deletable": true,
    "editable": true
   },
   "source": [
    "## RBF Model\n",
    "### Priors and Model\n",
    "\n",
    "$$\n",
    "V_{obs}(u,v) = \\sum_{i=0}^{N_{b}-1}\\alpha_i\\phi_i(u,v)\n",
    "$$\n",
    "\n",
    "donde $\\alpha_i \\in \\mathbb{R}$ y:\n",
    "\n",
    "$$\\phi_i(u,v) = \\left[\\begin{array}{c}\n",
    "    \\exp\\big\\lbrace\\frac{-2\\pi^2(u^2+v^2)}{1/l^2} \\big\\rbrace \\cos \\big\\lbrace C_x^iu+C_y^iv\\big\\rbrace \\\\\n",
    "    \\exp\\big\\lbrace\\frac{-2\\pi^2(u^2+v^2)}{1/l^2} \\big\\rbrace \\sin \\big\\lbrace C_x^iu+C_y^iv\\big\\rbrace\n",
    "\\end{array}\\right]$$\n",
    "\n",
    "\n",
    "$$\n",
    "\\phi_i(u,v) = 2 \\pi \\sigma^2 \\exp \\left(-2 \\pi\\left(j C_x^i u+jC_y^i v+\\pi  \\sigma^2\\left(u^2+v^2\\right)\\right)\\right) \\vartheta _3\\left(\\pi  \\left(2 j \\pi  \\sigma^2 u-C_x^i \\right),e^{-2 \\pi^2 \\sigma^2}\\right) \\vartheta _3\\left(\\pi  \\left(2 j \\pi  \\sigma^2 v-C_y^i\\right),e^{-2 \\pi^2 \\sigma^2}\\right)\n",
    "$$\n",
    "\n",
    "\n",
    "where:\n",
    "\n",
    "$$\n",
    "\\vartheta_3 (q,z) = 1 + 2\\sum_{n = 1}^{\\infty} q^{n^2}\\cos(2nz)\n",
    "$$"
   ]
  },
  {
   "cell_type": "code",
   "execution_count": null,
   "metadata": {
    "collapsed": false,
    "deletable": true,
    "editable": true
   },
   "outputs": [],
   "source": [
    "import theano.tensor as tt\n",
    "\n",
    "PI = np.pi\n",
    "def Vobs_function(U,l,alpha,Cx,Cy, IMAGE_SIZE_X = 50, IMAGE_SIZE_Y = 50):\n",
    "    #print \"U shape: %s, U type: %s\\nl type: %s\\nCx and Cy type: %s\"%(U.shape, type(U), type(l), type(Cx))\n",
    "    \n",
    "    u = U[:,0] - IMAGE_SIZE_X/2  \n",
    "    u_aux = u[:,np.newaxis]\n",
    "    v = IMAGE_SIZE_Y/2 - U[:,1]\n",
    "    v_aux = v[:,np.newaxis]\n",
    "    \n",
    "    Cx_aux = Cx - IMAGE_SIZE_X/2\n",
    "    Cy_aux = Cy - IMAGE_SIZE_Y/2\n",
    "    \n",
    "    A = tt.exp(-2.0*PI*PI*(u_aux * u_aux + v_aux * v_aux) *l*l)\n",
    "#     A_aux = tt.extra_ops.repeat(A, numberOfBasis,axis=1)\n",
    "#     print 'Atenuation:'\n",
    "#     print A.eval()\n",
    "#     print 'max: %s, min: %s' % ( np.max(A.eval()), np.min(A.eval() ))\n",
    "    \n",
    "#     print \"Amplitude shape: %s, Amplitude type: %s\" %(A_aux.eval().shape, type(A))\n",
    "    # argument = 2.0 * PI * (np.outer(u,Cx) + np.outer(v,Cy))\n",
    "    argument = -2.0*PI*(u[:,None]*Cx_aux[None,:] + v[:,None]*Cy_aux[None,:])\n",
    "#     print \"argument shape: %s, argument type: %s\" %(argument.shape, type(argument))\n",
    "    \n",
    "    cosPart = tt.cos(argument)\n",
    "    sinPart = tt.sin(argument)\n",
    "    \n",
    "#     print \"Cosine:\"\n",
    "#     print cosPart.eval()\n",
    "#     print \"Sine:\"\n",
    "#     print sinPart.eval()\n",
    "    \n",
    "    #print \"cosPart shape: %s, cosPart type: %s\" %(cosPart.eval().shape, type(cosPart))\n",
    "\n",
    "    RePart = tt.mul(A,cosPart)\n",
    "    ImPart = tt.mul(A,sinPart)\n",
    "    \n",
    "#     print \"RePart shape: %s, RePart type: %s\" %(RePart.eval().shape, type(cosPart))\n",
    "    \n",
    "    alpha_aux = alpha\n",
    "#     print \"alpha shape: %s, alpha type: %s\" %(alpha.shape, type(alpha))\n",
    "    \n",
    "    return tt.sum(tt.mul(alpha_aux,RePart), axis = 1), tt.sum(tt.mul(alpha_aux,ImPart), axis = 1)"
   ]
  },
  {
   "cell_type": "code",
   "execution_count": null,
   "metadata": {
    "collapsed": false,
    "deletable": true,
    "editable": true,
    "scrolled": true
   },
   "outputs": [],
   "source": [
    "def myshift(x,size, axes = None):\n",
    "    tmp = np.asarray(x)\n",
    "    ndim = len(tmp.shape)\n",
    "    \n",
    "    if axes is None:\n",
    "        axes = list(range(ndim))\n",
    "    elif isinstance(axes, integer_types):\n",
    "        axes = (axes,)\n",
    "    y = tmp\n",
    "    for k in axes:\n",
    "        n = size[k]\n",
    "        center = (n+1)//2\n",
    "        for i in x\n",
    "        y = take(y, mylist, k)\n",
    "    return y\n",
    "\n",
    "\n",
    "numberOfSamplings = U.shape[0]\n",
    "numberOfBasis = size\n",
    "\n",
    "l = 1.0/SIGMA\n",
    "init_alpha = I*l*np.sqrt(2*PI)\n",
    "init_Cx = Cx\n",
    "init_Cy = Cy\n",
    "init_U = U\n",
    "\n",
    "PHI_Re, PHI_Im = Vobs_function(init_U,l,init_alpha,init_Cx,init_Cy, IMAGE_SIZE_X = 0, IMAGE_SIZE_Y = 0)\n",
    "np.set_printoptions(threshold=5)\n",
    "print 'Model:'\n",
    "print np.array([PHI_Re.eval(),PHI_Im.eval()]).T\n",
    "print 'Mesurements:'\n",
    "print V"
   ]
  },
  {
   "cell_type": "code",
   "execution_count": null,
   "metadata": {
    "collapsed": false,
    "deletable": true,
    "editable": true
   },
   "outputs": [],
   "source": [
    "u = U[:,0] - IMAGE_SIZE_X/2  \n",
    "v = IMAGE_SIZE_Y/2 - U[:,1]\n",
    "\n",
    "print(\"%s, %s\"% (u[0], v[0]))\n",
    "print(\"%s, %s\"% (u[0], v[-1]))\n",
    "print(\"%s, %s\"% (u[-1], v[0]))\n",
    "print(\"%s, %s\"% (u[-1], v[-1]))"
   ]
  },
  {
   "cell_type": "code",
   "execution_count": null,
   "metadata": {
    "collapsed": false,
    "deletable": true,
    "editable": true
   },
   "outputs": [],
   "source": [
    "numberOfSamplings = U.shape[0]\n",
    "numberOfBasis = size\n",
    "\n",
    "l = 0.01\n",
    "init_alpha = np.array([1,1])\n",
    "init_Cx = np.array([1,1])\n",
    "init_Cy = np.array([0,0])\n",
    "init_U = np.array([[0,1],[1,0], [1,1]])\n",
    "\n",
    "PHI_Re, PHI_Im = Vobs_function(init_U,l,init_alpha,init_Cx,init_Cy)\n",
    "print 'Model:'\n",
    "print np.array([PHI_Re.eval(),PHI_Im.eval()]).T"
   ]
  },
  {
   "cell_type": "code",
   "execution_count": null,
   "metadata": {
    "collapsed": false,
    "deletable": true,
    "editable": true
   },
   "outputs": [],
   "source": [
    "#from scipy import optimize\n",
    "\n",
    "numberOfSamplings = U.shape[0]\n",
    "numberOfBasis = size\n",
    "rbf_model = Model()\n",
    "\n",
    "l = SIGMA\n",
    "init_alpha = I*l*np.sqrt(2*PI)\n",
    "init_Cx = Cx+10\n",
    "init_Cy = Cy\n",
    "init_sigma = np.abs(10*np.random.randn(2,2))\n",
    "\n",
    "with rbf_model:\n",
    "    alpha_model = Normal('alpha', mu=init_alpha, sd=5, shape = numberOfBasis)\n",
    "    Cx_model = Normal('Cx', mu=init_Cx, sd=5, shape = numberOfBasis)\n",
    "    Cy_model = Normal('Cy', mu=init_Cy, sd=5, shape = numberOfBasis)\n",
    "    l_model = Lognormal('l', mu = l, sd=5, shape = 1)\n",
    "    sigma_model = Lognormal('sigma', init_sigma, np.ones(2), shape=(2,2), testval=init_sigma)\n",
    "\n",
    "    PHI_Re, PHI_Im = Vobs_function(U, l_model, alpha_model, Cx_model, Cy_model)\n",
    "    V_model = tt.stack([PHI_Re, PHI_Im], axis = 1)\n",
    "    \n",
    "    V_obs = MvNormal('V_obs', mu=V_model, cov=sigma_model, observed=V)\n",
    "    \n",
    "    n_samples = 1000\n",
    "    \n",
    "#     step = Metropolis()\n",
    "#     sample(n_samples, step)\n",
    "estimation = find_MAP(model = rbf_model)\n",
    "print estimation"
   ]
  },
  {
   "cell_type": "code",
   "execution_count": null,
   "metadata": {
    "collapsed": false,
    "deletable": true,
    "editable": true
   },
   "outputs": [],
   "source": [
    "print( (init_alpha - estimation['alpha'])/init_alpha )\n",
    "print( (Cx - estimation['Cx'])/Cx )\n",
    "print( (Cy - estimation['Cy'])/Cy )\n",
    "print( \"%s %s\" % (l,estimation['l_log_']))"
   ]
  },
  {
   "cell_type": "code",
   "execution_count": null,
   "metadata": {
    "collapsed": false,
    "deletable": true,
    "editable": true
   },
   "outputs": [],
   "source": [
    "l"
   ]
  }
 ],
 "metadata": {
  "kernelspec": {
   "display_name": "Python 3",
   "language": "python",
   "name": "python3"
  },
  "language_info": {
   "codemirror_mode": {
    "name": "ipython",
    "version": 3
   },
   "file_extension": ".py",
   "mimetype": "text/x-python",
   "name": "python",
   "nbconvert_exporter": "python",
   "pygments_lexer": "ipython3",
   "version": "3.6.0"
  }
 },
 "nbformat": 4,
 "nbformat_minor": 2
}
