{
 "cells": [
  {
   "cell_type": "code",
   "execution_count": 2,
   "metadata": {
    "collapsed": true
   },
   "outputs": [],
   "source": [
    "import numpy as np"
   ]
  },
  {
   "cell_type": "markdown",
   "metadata": {},
   "source": [
    "# Image"
   ]
  },
  {
   "cell_type": "code",
   "execution_count": 14,
   "metadata": {
    "collapsed": false
   },
   "outputs": [
    {
     "name": "stdout",
     "output_type": "stream",
     "text": [
      "min I: 100 at (8,-3)\n",
      "max I: 180 at (4,2)\n",
      "\n"
     ]
    }
   ],
   "source": [
    "size = 1\n",
    "MAX_VALUE = 255\n",
    "MIN_VALUE = 0\n",
    "IMAGE_SIZE_X = 50\n",
    "IMAGE_SIZE_Y = 50\n",
    "xCenter = IMAGE_SIZE_X/2\n",
    "yCenter = IMAGE_SIZE_Y/2\n",
    "l = 1\n",
    "\n",
    "#I = np.ceil((MAX_VALUE - MIN_VALUE) * np.random.rand(size) + MIN_VALUE)\n",
    "#Cx = np.ceil((IMAGE_SIZE_X)/2 + SIGMA*np.random.randn(size)).astype('int')\n",
    "#Cx = np.clip(Cx,0,IMAGE_SIZE_X)\n",
    "#Cy = np.ceil((IMAGE_SIZE_Y)/2 +  SIGMA*np.random.randn(size)).astype('int')\n",
    "#Cy = np.clip(Cy,0,IMAGE_SIZE_Y)\n",
    "\n",
    "I = np.array([180, 100, 100, 130])\n",
    "Cx = np.array([4, 8, 5, 2])\n",
    "Cy = np.array([2, -3, -8, -4])\n",
    "\n",
    "minI = np.min(I)\n",
    "argminI = np.argmin(I)\n",
    "maxI = np.max(I)\n",
    "argmaxI = np.argmax(I)\n",
    "\n",
    "print('min I: %s at (%s,%s)\\n' \\\n",
    "      'max I: %s at (%s,%s)\\n' % (minI, Cx[argminI], Cy[argminI],\n",
    "                                  maxI, Cx[argmaxI], Cy[argmaxI]))"
   ]
  },
  {
   "cell_type": "code",
   "execution_count": 15,
   "metadata": {
    "collapsed": true
   },
   "outputs": [],
   "source": [
    "# Basis function in pixel domain\n",
    "def psi(x, y, l, Cx, Cy):\n",
    "    return (1.0 / (np.sqrt(2.0 * np.pi) * l)) * np.exp(-(1.0 / 2) * ((x - Cx) * (x - Cx) + (y - Cy) * (y - Cy)) / (l * l))"
   ]
  },
  {
   "cell_type": "code",
   "execution_count": 16,
   "metadata": {
    "collapsed": false
   },
   "outputs": [],
   "source": [
    "G_SIZE_REAL =  500\n",
    "x = np.linspace(0,IMAGE_SIZE_X,G_SIZE_REAL) - xCenter\n",
    "y = np.linspace(0,IMAGE_SIZE_Y,G_SIZE_REAL) - yCenter\n",
    "G = np.zeros([G_SIZE_REAL, G_SIZE_REAL])\n",
    "\n",
    "N_BASIS = I.shape[0]\n",
    "\n",
    "for i in range(G_SIZE_REAL):\n",
    "    for j in range(G_SIZE_REAL):\n",
    "        for k in range(N_BASIS):\n",
    "            G[i,j] += I[k]*psi(x[i],y[j],l,Cx[k],Cy[k])\n",
    "        \n",
    "G_fft = np.fft.fft2(G)\n",
    "G_fft = np.fft.fftshift(G_fft)"
   ]
  },
  {
   "cell_type": "code",
   "execution_count": 17,
   "metadata": {
    "collapsed": false
   },
   "outputs": [
    {
     "data": {
      "image/png": "[encoded data removed]",
      "text/plain": [
       "<matplotlib.figure.Figure at 0x7f8551fe2128>"
      ]
     },
     "metadata": {},
     "output_type": "display_data"
    }
   ],
   "source": [
    "import matplotlib.pyplot as plt\n",
    "\n",
    "plt.imshow(G)\n",
    "plt.show()"
   ]
  },
  {
   "cell_type": "markdown",
   "metadata": {
    "collapsed": true
   },
   "source": [
    "# Model"
   ]
  },
  {
   "cell_type": "code",
   "execution_count": 18,
   "metadata": {
    "collapsed": false
   },
   "outputs": [
    {
     "name": "stderr",
     "output_type": "stream",
     "text": [
      "WARNING (theano.configdefaults): g++ not detected ! Theano will be unable to execute optimized C-implementations (for both CPU and GPU) and will default to Python implementations. Performance will be severely degraded. To remove this warning, set Theano flags cxx to an empty string.\n"
     ]
    }
   ],
   "source": [
    "import theano.tensor as tt\n",
    "import numpy as np\n",
    "\n",
    "# basis function\n",
    "def phi(u, v, l, Cx, Cy):\n",
    "    return np.exp(-2*np.pi**2*(u*u+v*v)*l**2)*np.exp(2*np.pi*1j*(Cx*u+Cy*v))\n",
    "\n",
    "def V_obs(u, v, alpha, l, Cx, Cy, IMAGE_SIZE_X = 50, IMAGE_SIZE_Y = 50):\n",
    "    \n",
    "    u_aux = u - IMAGE_SIZE_X/2\n",
    "    v_aux = v - IMAGE_SIZE_Y/2\n",
    "    \n",
    "#     print(u_aux)\n",
    "    \n",
    "    A_u = tt.exp(-2*np.pi**2*(u_aux*u_aux)*l**2)\n",
    "    A_v = tt.exp(-2*np.pi**2*(v_aux*v_aux)*l**2)\n",
    "    A   = tt.outer(A_u,A_v)\n",
    "    print(A.eval().shape)\n",
    "#     print(A.shape)\n",
    "    \n",
    "    imagExp_u = tt.exp(2*np.pi*1j*(Cx[:,np.newaxis]*u_aux))\n",
    "    imagExp_v = tt.exp(2*np.pi*1j*(Cy[:,np.newaxis]*v_aux))\n",
    "    print(imagExp_u.eval().shape)\n",
    "#     print(imagExp_u.shape)\n",
    "    imagExp   = imagExp_u.dimshuffle(0, 1, 'x') * imagExp_v.dimshuffle(0, 'x', 1)\n",
    "    print(imagExp.eval().shape)\n",
    "    \n",
    "#     print((alpha*A*imagExp).eval().shape)\n",
    "    out = tt.sum(alpha*A*imagExp, axis = 0)\n",
    "    \n",
    "#     print(imagExp.shape)\n",
    "\n",
    "#     print(cosPart.shape, sinPart.shape)    \n",
    "    return tt.real(out), tt.imag(out)"
   ]
  },
  {
   "cell_type": "code",
   "execution_count": 19,
   "metadata": {
    "collapsed": false
   },
   "outputs": [
    {
     "name": "stdout",
     "output_type": "stream",
     "text": [
      "(4, 3)\n",
      "(3,)\n",
      "[130 130 130]\n"
     ]
    }
   ],
   "source": [
    "# alpha = np.array([1,1])\n",
    "# V_obs_real, V_obs_imag = V_obs(x+25,y+25, alpha, l,Cx, Cy)\n",
    "# print(np.max(V_obs_imag.eval()))\n",
    "\n",
    "# u_ej = np.array([[1,1,1,1,1,1],[0.5,0.5,0.5,0.5,0.5,0.5]])\n",
    "# B_ej = 2*np.array([[1,1,1,1,1,1]])\n",
    "# print(u_ej)\n",
    "# print(B_ej)\n",
    "# print(B_ej[:,np.newaxis]*u_ej)\n",
    "\n",
    "# a = np.arange(10).reshape(2,5)\n",
    "# a_tt = theano.shared(a)\n",
    "# print(a)\n",
    "# b = 0.5*np.arange(10.).reshape(2,5)\n",
    "# b_tt = theano.shared(b)\n",
    "# print(b)\n",
    "# print('----------')\n",
    "# c = np.tensordot(a,b, axes=(1,1))\n",
    "# print(c)\n",
    "\n",
    "import theano\n",
    "a = theano.shared(np.asarray([[1,1,1],[2,2,2],[3,3,3],[4,4,4]]))\n",
    "b = theano.shared(np.asarray([13,13,13]))\n",
    "print(a.eval().shape)\n",
    "print(b.eval().shape)\n",
    "\n",
    "print(tt.sum((a*b), axis=0).eval())"
   ]
  },
  {
   "cell_type": "code",
   "execution_count": 20,
   "metadata": {
    "collapsed": false
   },
   "outputs": [],
   "source": [
    "G_SIZE_MODEL =  G_SIZE_REAL\n",
    "\n",
    "factor = (IMAGE_SIZE_X*IMAGE_SIZE_Y/G_SIZE_MODEL)\n",
    "#factor = 1\n",
    "\n",
    "G_fft_model = np.zeros((G_SIZE_MODEL,G_SIZE_MODEL),dtype=np.complex128)\n",
    "\n",
    "u = np.linspace(0,IMAGE_SIZE_X,G_SIZE_MODEL) - xCenter\n",
    "u = u/factor\n",
    "v = np.linspace(0,IMAGE_SIZE_Y,G_SIZE_MODEL) - yCenter\n",
    "v = v/factor\n",
    "\n",
    "for i in range(G_SIZE_MODEL):\n",
    "    for j in range(G_SIZE_MODEL):\n",
    "        for k in range(N_BASIS):\n",
    "            G_fft_model[i,j] += I[k]*l*np.sqrt(np.pi/2)*phi(u[i],v[j],l,Cx[k],Cy[k])"
   ]
  },
  {
   "cell_type": "markdown",
   "metadata": {},
   "source": [
    "** Definir una función, graficar ambas y calcular la anti transformada numérica. Para entender como funciona la FFT de numpy. **\n",
    "\n",
    "*Probar con cosine y exponential.*"
   ]
  },
  {
   "cell_type": "code",
   "execution_count": 22,
   "metadata": {
    "collapsed": false
   },
   "outputs": [
    {
     "data": {
      "image/png": "[encoded data removed]",
      "text/plain": [
       "<matplotlib.figure.Figure at 0x7f855200add8>"
      ]
     },
     "metadata": {},
     "output_type": "display_data"
    },
    {
     "data": {
      "image/png": "[encoded data removed]",
      "text/plain": [
       "<matplotlib.figure.Figure at 0x7f854c235780>"
      ]
     },
     "metadata": {},
     "output_type": "display_data"
    },
    {
     "data": {
      "image/png": "[encoded data removed]",
      "text/plain": [
       "<matplotlib.figure.Figure at 0x7f85425e3dd8>"
      ]
     },
     "metadata": {},
     "output_type": "display_data"
    },
    {
     "data": {
      "image/png": "[encoded data removed]",
      "text/plain": [
       "<matplotlib.figure.Figure at 0x7f85425e3e10>"
      ]
     },
     "metadata": {},
     "output_type": "display_data"
    }
   ],
   "source": [
    "from scipy import ndimage\n",
    "\n",
    "G_model = np.fft.ifft2(G_fft_model)\n",
    "G_model = np.fft.fftshift(G_model)\n",
    "G_model.real = ndimage.rotate(G_model.real, 90*2)\n",
    "G_model.imag = ndimage.rotate(G_model.imag, 90*2)\n",
    "plt.imshow(np.abs(G_model))\n",
    "plt.title('Reconstruction using model')\n",
    "plt.show()\n",
    "\n",
    "plt.imshow(G)\n",
    "plt.title('Original Image')\n",
    "plt.show()\n",
    "\n",
    "\n",
    "plt.imshow(G_model.real)\n",
    "plt.title('Reconstruction using model REAL PART')\n",
    "plt.show()\n",
    "\n",
    "plt.imshow(G_model.imag)\n",
    "plt.title('Reconstruction using model IMAGINARY PART')\n",
    "plt.show()"
   ]
  },
  {
   "cell_type": "code",
   "execution_count": null,
   "metadata": {
    "collapsed": false
   },
   "outputs": [],
   "source": [
    "xIndex = np.ceil( np.argmax(np.max(np.abs(G_model), axis = 0)) ).astype(int)\n",
    "yIndex = np.ceil( np.argmax(np.max(np.abs(G_model), axis = 1)) ).astype(int)\n",
    "xIndexOr = np.ceil( np.argmax(np.max(G, axis = 0)) ).astype(int)\n",
    "yIndexOr = np.ceil( np.argmax(np.max(G, axis = 1)) ).astype(int)\n",
    "\n",
    "print('-------------------------------------------------------------------')\n",
    "print('Reconstruction (x index, y index, Max Value): (%i, %i, %f)' % (xIndex, yIndex, np.max(np.abs(G_model)) ) )\n",
    "print('      Original (x index, y index, Max Value): (%i, %i, %f)' % (xIndexOr, yIndexOr, np.max(G) ) )\n",
    "print('-------------------------------------------------------------------')\n",
    "print('-------------------------------------------------------------------')\n",
    "print('Reconstruction Centers: (%f, %f)' % (u[xIndex]*factor, u[yIndex]*factor))\n",
    "print('      Original Centers: (%f, %f)' % (x[xIndexOr], y[yIndexOr]) )\n",
    "print('-------------------------------------------------------------------')"
   ]
  },
  {
   "cell_type": "code",
   "execution_count": null,
   "metadata": {
    "collapsed": false
   },
   "outputs": [],
   "source": [
    "coef = np.max(G)/np.max(np.abs(G_model))\n",
    "dx = x[1]-x[0]\n",
    "du = u[1]-u[0]\n",
    "print(coef)\n",
    "print(dx)\n",
    "print(du)\n",
    "print(dx/du)\n",
    "print(dx**2*coef)"
   ]
  },
  {
   "cell_type": "code",
   "execution_count": null,
   "metadata": {
    "collapsed": true
   },
   "outputs": [],
   "source": []
  }
 ],
 "metadata": {
  "kernelspec": {
   "display_name": "Python 3",
   "language": "python",
   "name": "python3"
  },
  "language_info": {
   "codemirror_mode": {
    "name": "ipython",
    "version": 3
   },
   "file_extension": ".py",
   "mimetype": "text/x-python",
   "name": "python",
   "nbconvert_exporter": "python",
   "pygments_lexer": "ipython3",
   "version": "3.6.0"
  }
 },
 "nbformat": 4,
 "nbformat_minor": 2
}
