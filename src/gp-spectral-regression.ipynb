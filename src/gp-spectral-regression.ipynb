{
 "cells": [
  {
   "cell_type": "code",
   "execution_count": 1,
   "metadata": {
    "collapsed": true
   },
   "outputs": [],
   "source": [
    "import numpy as np\n",
    "import torch\n",
    "import gpytorch\n",
    "from matplotlib import pyplot as plt\n",
    "%matplotlib inline"
   ]
  },
  {
   "cell_type": "code",
   "execution_count": 2,
   "metadata": {
    "collapsed": true
   },
   "outputs": [],
   "source": [
    "from torch.autograd import Variable\n",
    "# Training data is 11 points in [0,1] inclusive regularly spaced\n",
    "train_x = Variable(torch.linspace(0, 1, 11))\n",
    "# True function is sin(2*pi*x) with Gaussian noise N(0,0.04)\n",
    "train_y = Variable(torch.sin(train_x.data * (2 * np.pi)) + torch.randn(train_x.size()) * 0.2)"
   ]
  },
  {
   "cell_type": "code",
   "execution_count": 3,
   "metadata": {
    "collapsed": true
   },
   "outputs": [],
   "source": [
    "from torch import optim\n",
    "from gpytorch.kernels import RBFKernel\n",
    "from gpytorch.means import ConstantMean\n",
    "from gpytorch.likelihoods import GaussianLikelihood\n",
    "from gpytorch.random_variables import GaussianRandomVariable"
   ]
  },
  {
   "cell_type": "code",
   "execution_count": 4,
   "metadata": {
    "collapsed": true
   },
   "outputs": [],
   "source": [
    "# We will use the simplest form of GP model, exact inference\n",
    "class ExactGPModel(gpytorch.models.ExactGP):\n",
    "    def __init__(self, train_x, train_y, likelihood):\n",
    "        super(ExactGPModel, self).__init__(train_x, train_y, likelihood)\n",
    "        # Our mean function is constant in the interval [-1,1]\n",
    "        self.mean_module = ConstantMean(constant_bounds=(-1, 1))\n",
    "        # We use the RBF kernel as a universal approximator\n",
    "        self.covar_module = RBFKernel(log_lengthscale_bounds=(-5, 5))\n",
    "    \n",
    "    def forward(self, x):\n",
    "        mean_x = self.mean_module(x)\n",
    "        covar_x = self.covar_module(x)\n",
    "        # Return moddl output as GaussianRandomVariable\n",
    "        return GaussianRandomVariable(mean_x, covar_x)\n",
    "\n",
    "# initialize likelihood and model\n",
    "likelihood = GaussianLikelihood(log_noise_bounds=(-5, 5))\n",
    "model = ExactGPModel(train_x.data, train_y.data, likelihood)"
   ]
  },
  {
   "cell_type": "code",
   "execution_count": 5,
   "metadata": {},
   "outputs": [
    {
     "name": "stdout",
     "output_type": "stream",
     "text": [
      "Iter 1/50 - Loss: 1.184   log_lengthscale: 0.000   log_noise: 0.000\n",
      "Iter 2/50 - Loss: 1.188   log_lengthscale: 0.100   log_noise: -0.100\n",
      "Iter 3/50 - Loss: 1.150   log_lengthscale: 0.169   log_noise: -0.200\n",
      "Iter 4/50 - Loss: 1.187   log_lengthscale: 0.110   log_noise: -0.299\n",
      "Iter 5/50 - Loss: 1.074   log_lengthscale: 0.035   log_noise: -0.398\n",
      "Iter 6/50 - Loss: 1.207   log_lengthscale: -0.048   log_noise: -0.497\n",
      "Iter 7/50 - Loss: 1.054   log_lengthscale: -0.132   log_noise: -0.594\n",
      "Iter 8/50 - Loss: 0.960   log_lengthscale: -0.214   log_noise: -0.691\n",
      "Iter 9/50 - Loss: 0.976   log_lengthscale: -0.296   log_noise: -0.787\n",
      "Iter 10/50 - Loss: 0.945   log_lengthscale: -0.378   log_noise: -0.883\n",
      "Iter 11/50 - Loss: 0.909   log_lengthscale: -0.466   log_noise: -0.979\n",
      "Iter 12/50 - Loss: 0.902   log_lengthscale: -0.557   log_noise: -1.073\n",
      "Iter 13/50 - Loss: 1.012   log_lengthscale: -0.649   log_noise: -1.166\n",
      "Iter 14/50 - Loss: 0.844   log_lengthscale: -0.744   log_noise: -1.256\n",
      "Iter 15/50 - Loss: 0.929   log_lengthscale: -0.843   log_noise: -1.345\n",
      "Iter 16/50 - Loss: 1.028   log_lengthscale: -0.945   log_noise: -1.432\n",
      "Iter 17/50 - Loss: 0.767   log_lengthscale: -1.049   log_noise: -1.516\n",
      "Iter 18/50 - Loss: 0.778   log_lengthscale: -1.153   log_noise: -1.599\n",
      "Iter 19/50 - Loss: 0.772   log_lengthscale: -1.259   log_noise: -1.683\n",
      "Iter 20/50 - Loss: 0.705   log_lengthscale: -1.367   log_noise: -1.766\n",
      "Iter 21/50 - Loss: 0.735   log_lengthscale: -1.477   log_noise: -1.850\n",
      "Iter 22/50 - Loss: 0.672   log_lengthscale: -1.588   log_noise: -1.935\n",
      "Iter 23/50 - Loss: 0.622   log_lengthscale: -1.698   log_noise: -2.021\n",
      "Iter 24/50 - Loss: 0.592   log_lengthscale: -1.802   log_noise: -2.108\n",
      "Iter 25/50 - Loss: 0.520   log_lengthscale: -1.904   log_noise: -2.196\n",
      "Iter 26/50 - Loss: 0.595   log_lengthscale: -2.002   log_noise: -2.285\n",
      "Iter 27/50 - Loss: 0.605   log_lengthscale: -2.099   log_noise: -2.375\n",
      "Iter 28/50 - Loss: 0.531   log_lengthscale: -2.165   log_noise: -2.464\n",
      "Iter 29/50 - Loss: 0.593   log_lengthscale: -2.220   log_noise: -2.552\n",
      "Iter 30/50 - Loss: 0.475   log_lengthscale: -2.262   log_noise: -2.639\n",
      "Iter 31/50 - Loss: 0.477   log_lengthscale: -2.297   log_noise: -2.727\n",
      "Iter 32/50 - Loss: 0.512   log_lengthscale: -2.323   log_noise: -2.813\n",
      "Iter 33/50 - Loss: 0.657   log_lengthscale: -2.345   log_noise: -2.898\n",
      "Iter 34/50 - Loss: 0.713   log_lengthscale: -2.358   log_noise: -2.979\n",
      "Iter 35/50 - Loss: 0.540   log_lengthscale: -2.354   log_noise: -3.055\n",
      "Iter 36/50 - Loss: 0.760   log_lengthscale: -2.343   log_noise: -3.129\n",
      "Iter 37/50 - Loss: 0.332   log_lengthscale: -2.329   log_noise: -3.196\n",
      "Iter 38/50 - Loss: 0.498   log_lengthscale: -2.304   log_noise: -3.262\n",
      "Iter 39/50 - Loss: 0.470   log_lengthscale: -2.261   log_noise: -3.323\n",
      "Iter 40/50 - Loss: 0.611   log_lengthscale: -2.210   log_noise: -3.380\n",
      "Iter 41/50 - Loss: 0.453   log_lengthscale: -2.159   log_noise: -3.431\n",
      "Iter 42/50 - Loss: 0.576   log_lengthscale: -2.104   log_noise: -3.477\n",
      "Iter 43/50 - Loss: 0.511   log_lengthscale: -2.054   log_noise: -3.517\n",
      "Iter 44/50 - Loss: 0.602   log_lengthscale: -1.994   log_noise: -3.549\n",
      "Iter 45/50 - Loss: 0.506   log_lengthscale: -1.934   log_noise: -3.573\n",
      "Iter 46/50 - Loss: 0.533   log_lengthscale: -1.890   log_noise: -3.591\n",
      "Iter 47/50 - Loss: 0.600   log_lengthscale: -1.866   log_noise: -3.604\n",
      "Iter 48/50 - Loss: 0.585   log_lengthscale: -1.860   log_noise: -3.610\n",
      "Iter 49/50 - Loss: 0.556   log_lengthscale: -1.877   log_noise: -3.610\n",
      "Iter 50/50 - Loss: 0.469   log_lengthscale: -1.903   log_noise: -3.604\n"
     ]
    }
   ],
   "source": [
    "# Find optimal model hyperparameters\n",
    "model.train()\n",
    "likelihood.train()\n",
    "\n",
    "# Use the adam optimizer\n",
    "optimizer = torch.optim.Adam([\n",
    "    {'params': model.parameters()},  # Includes GaussianLikelihood parameters\n",
    "], lr=0.1)\n",
    "\n",
    "# \"Loss\" for GPs - the marginal log likelihood\n",
    "mll = gpytorch.mlls.ExactMarginalLogLikelihood(likelihood, model)\n",
    "\n",
    "training_iter = 50\n",
    "for i in range(training_iter):\n",
    "    # Zero gradients from previous iteration\n",
    "    optimizer.zero_grad()\n",
    "    # Output from model\n",
    "    output = model(train_x)\n",
    "    # Calc loss and backprop gradients\n",
    "    loss = -mll(output, train_y)\n",
    "    loss.backward()\n",
    "    print('Iter %d/%d - Loss: %.3f   log_lengthscale: %.3f   log_noise: %.3f' % (\n",
    "        i + 1, training_iter, loss.data[0],\n",
    "        model.covar_module.log_lengthscale.data[0, 0],\n",
    "        model.likelihood.log_noise.data[0]\n",
    "    ))\n",
    "    optimizer.step()"
   ]
  },
  {
   "cell_type": "code",
   "execution_count": 6,
   "metadata": {},
   "outputs": [
    {
     "data": {
      "image/png": "[encoded data removed]",
      "text/plain": [
       "<matplotlib.figure.Figure at 0x7fe9b8e47ef0>"
      ]
     },
     "metadata": {},
     "output_type": "display_data"
    }
   ],
   "source": [
    "# Put model and likelihood into eval mode\n",
    "model.eval()\n",
    "likelihood.eval()\n",
    "\n",
    "# Initialize plot\n",
    "f, observed_ax = plt.subplots(1, 1, figsize=(4, 3))\n",
    "# Test points are regularly spaced along [0,1] every 0.02\n",
    "test_x = Variable(torch.linspace(0, 1, 51))\n",
    "# Make predictions by feeding model through likelihood\n",
    "with gpytorch.fast_pred_var():\n",
    "    observed_pred = likelihood(model(test_x))\n",
    "\n",
    "# Define plotting function\n",
    "def ax_plot(ax, rand_var, title):\n",
    "    # Get upper and lower confidence bounds\n",
    "    lower, upper = rand_var.confidence_region()\n",
    "    # Plot training data as black stars\n",
    "    ax.plot(train_x.data.numpy(), train_y.data.numpy(), 'k*')\n",
    "    # Plot predictive means as blue line\n",
    "    ax.plot(test_x.data.numpy(), rand_var.mean().data.numpy(), 'b')\n",
    "    # Shade between the lower and upper confidence bounds\n",
    "    ax.fill_between(test_x.data.numpy(), lower.data.numpy(), upper.data.numpy(), alpha=0.5)\n",
    "    ax.set_ylim([-3, 3])\n",
    "    ax.legend(['Observed Data', 'Mean', 'Confidence'])\n",
    "    ax.set_title(title)\n",
    "# Plot the predictions\n",
    "ax_plot(observed_ax, observed_pred, 'Observed Values (Likelihood)')"
   ]
  },
  {
   "cell_type": "code",
   "execution_count": 7,
   "metadata": {},
   "outputs": [
    {
     "data": {
      "text/plain": [
       "True"
      ]
     },
     "execution_count": 7,
     "metadata": {},
     "output_type": "execute_result"
    }
   ],
   "source": [
    "torch.cuda.is_available()\n"
   ]
  },
  {
   "cell_type": "code",
   "execution_count": 9,
   "metadata": {},
   "outputs": [
    {
     "data": {
      "text/plain": [
       "[torch.cuda.FloatTensor with no dimension]"
      ]
     },
     "execution_count": 9,
     "metadata": {},
     "output_type": "execute_result"
    }
   ],
   "source": [
    "torch.Tensor().cuda()"
   ]
  },
  {
   "cell_type": "code",
   "execution_count": null,
   "metadata": {
    "collapsed": true
   },
   "outputs": [],
   "source": []
  }
 ],
 "metadata": {
  "kernelspec": {
   "display_name": "Python 3",
   "language": "python",
   "name": "python3"
  },
  "language_info": {
   "codemirror_mode": {
    "name": "ipython",
    "version": 3
   },
   "file_extension": ".py",
   "mimetype": "text/x-python",
   "name": "python",
   "nbconvert_exporter": "python",
   "pygments_lexer": "ipython3",
   "version": "3.6.1"
  }
 },
 "nbformat": 4,
 "nbformat_minor": 2
}
