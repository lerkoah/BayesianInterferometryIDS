{
 "cells": [
  {
   "cell_type": "code",
   "execution_count": 1,
   "metadata": {
    "collapsed": true
   },
   "outputs": [],
   "source": [
    "import numpy as np\n",
    "import scipy.io as sio\n",
    "\n",
    "import matplotlib.pyplot as plt\n",
    "# from modelfunctions import *\n",
    "%matplotlib inline"
   ]
  },
  {
   "cell_type": "markdown",
   "metadata": {},
   "source": [
    "# Obtaining Data"
   ]
  },
  {
   "cell_type": "code",
   "execution_count": 2,
   "metadata": {
    "collapsed": true
   },
   "outputs": [],
   "source": [
    "control = 0 # 0: sinthetic; 1: real\n",
    "mycmap = 'seismic'\n",
    "np.random.seed(51)"
   ]
  },
  {
   "cell_type": "code",
   "execution_count": 3,
   "metadata": {
    "collapsed": true
   },
   "outputs": [],
   "source": [
    "def show_fft_image(img_fft, shift = True, save = False , name = 'my_name.png'):\n",
    "    \n",
    "    img_fftabs = img_fft\n",
    "    if type(img_fft[0,0]) == np.complex128:\n",
    "        img_fftabs = np.abs(img_fft)\n",
    "    \n",
    "    if shift:\n",
    "        img_fftabs = np.fft.fftshift(img_fftabs)\n",
    "    plt.imshow(img_fftabs, cmap=mycmap)\n",
    "    plt.grid('off')\n",
    "    \n",
    "    if save:\n",
    "        plt.savefig(name, format= 'png')"
   ]
  },
  {
   "cell_type": "code",
   "execution_count": 4,
   "metadata": {
    "collapsed": true
   },
   "outputs": [],
   "source": [
    "def phi(U,a,b,c,e,f):\n",
    "    try:\n",
    "        u = U[:,0]\n",
    "        v = U[:,1]\n",
    "    except IndexError:\n",
    "        u = U[0]\n",
    "        v = U[1]\n",
    "    return np.exp(2*np.pi**2*(a*v**2 + b*u**2 - c*u*v)/(4.*a*b-c**2) -2*np.pi*1j*(f*v+e*u))\n",
    "\n",
    "def psi(x,y, a, b, c, e, f):\n",
    "    invSigma = np.array([[-2.0*a,-c],[-c, -2.0*b]]).reshape(2,2)\n",
    "#     print(invSigma)\n",
    "    \n",
    "    if not isinstance(x,np.ndarray):\n",
    "        xx = np.array([x-e,y-f])\n",
    "    else:\n",
    "        xx = np.stack([x-e,y-f], axis = 1).T\n",
    "    \n",
    "    return np.exp(-xx.T.dot(invSigma).dot(xx))"
   ]
  },
  {
   "cell_type": "code",
   "execution_count": 5,
   "metadata": {},
   "outputs": [
    {
     "data": {
      "image/png": "[encoded data removed]",
      "text/plain": [
       "<matplotlib.figure.Figure at 0x7faf452d3b38>"
      ]
     },
     "metadata": {},
     "output_type": "display_data"
    }
   ],
   "source": [
    "if control:\n",
    "    path = '/home/lerko/Dataset_ALMA'\n",
    "    fileName = 'Dataset_ALMA_11_07_17.mat'\n",
    "    fullPath = path +'/' + fileName\n",
    "    data = sio.loadmat(fullPath)\n",
    "    imageName = 'name_HLTau'\n",
    "    img = data['Dataset'][imageName][0,0]['size_128x128'][0,0]\n",
    "    IMAGE_SIZE_X, IMAGE_SIZE_Y = img.shape\n",
    "    x = np.arange(IMAGE_SIZE_X)\n",
    "    y = np.arange(IMAGE_SIZE_Y)\n",
    "    \n",
    "    print(data['Dataset'].dtype)\n",
    "elif not control:\n",
    "    x = np.arange(50)\n",
    "    y = np.arange(50)\n",
    "    \n",
    "    s1 = np.array([20,10])\n",
    "    s2 = np.array([20,10])\n",
    "    s12 = np.array([10,-5])\n",
    "\n",
    "    a = -0.5*s2/(s1*s2-s12**2)\n",
    "    b = -0.5*s1/(s1*s2-s12**2)\n",
    "    c = s12/(s1*s2-s12**2)\n",
    "#     invSigma = np.array([[-2.*a,-c],[-c, -2.*b]])\n",
    "#     print(np.linalg.inv(invSigma))\n",
    "\n",
    "    e = np.array([50,40])/2\n",
    "    f = np.array([40,60])/2\n",
    "    numberOfBasis = e.shape[0]\n",
    "    img = np.zeros((x.shape[0],y.shape[0]))\n",
    "\n",
    "    for i in range(x.shape[0]):\n",
    "        for j in range(y.shape[0]):\n",
    "            for k in range(numberOfBasis):\n",
    "                img[i,j] = img[i,j] + psi(x[i],y[j],a[k],b[k],c[k],e[k],f[k])\n",
    "    IMAGE_SIZE_X, IMAGE_SIZE_Y = img.shape\n",
    "\n",
    "plt.imshow(0.00058*img/np.max(img), cmap=mycmap)\n",
    "plt.colorbar()\n",
    "plt.tight_layout()\n",
    "# plt.savefig('{}.png'.format(imageName), format='png')"
   ]
  },
  {
   "cell_type": "code",
   "execution_count": 6,
   "metadata": {},
   "outputs": [
    {
     "data": {
      "text/plain": [
       "<matplotlib.colorbar.Colorbar at 0x7faf3d355898>"
      ]
     },
     "execution_count": 6,
     "metadata": {},
     "output_type": "execute_result"
    },
    {
     "data": {
      "image/png": "[encoded data removed]",
      "text/plain": [
       "<matplotlib.figure.Figure at 0x7faf452b5208>"
      ]
     },
     "metadata": {},
     "output_type": "display_data"
    }
   ],
   "source": [
    "# Calculate the spectrum\n",
    "img_fft= np.fft.fft2(img)\n",
    "FTgshift = np.fft.fftshift(img_fft)\n",
    "\n",
    "plt.imshow(np.log(np.abs(FTgshift)), cmap=mycmap)\n",
    "plt.colorbar()"
   ]
  },
  {
   "cell_type": "markdown",
   "metadata": {},
   "source": [
    "## Creating sampling mask"
   ]
  },
  {
   "cell_type": "markdown",
   "metadata": {},
   "source": [
    "For creating the sampling mask, we have made a u,v representations based on the antennas disposition. This is because, if the antennas disposition is random, the measures are not completely random. The Measurements positions are defined by the interferometry physics."
   ]
  },
  {
   "cell_type": "code",
   "execution_count": 7,
   "metadata": {},
   "outputs": [
    {
     "data": {
      "image/png": "[encoded data removed]",
      "text/plain": [
       "<matplotlib.figure.Figure at 0x7faf452b56d8>"
      ]
     },
     "metadata": {},
     "output_type": "display_data"
    }
   ],
   "source": [
    "from masking import *\n",
    "\n",
    "## Parameters\n",
    "B_max = 1\n",
    "antennas = 30\n",
    "typeArray = 'URA'\n",
    "sigma = B_max/6.0\n",
    "\n",
    "lambda_phy=3*10**(-6); #(km)\n",
    "H0=10; #(deg)\n",
    "delta0=-30; #(deg)\n",
    "Lat=34.05;  #(deg) Lat VLA\n",
    "\n",
    "## Masking function returns the mask\n",
    "mask = createSpectrumMasking(B_max,antennas,typeArray,sigma, lambda_phy, H0, delta0, Lat, N1 = IMAGE_SIZE_X, N2 = IMAGE_SIZE_Y)\n",
    "show_fft_image(mask)"
   ]
  },
  {
   "cell_type": "markdown",
   "metadata": {},
   "source": [
    "## Sampling"
   ]
  },
  {
   "cell_type": "markdown",
   "metadata": {},
   "source": [
    "Variable measurements are the 2D representation for the measurements. U are the positions in the u,v spaces, i.e., U[0] = u, U[1] = v. Finally, V is the visibility function."
   ]
  },
  {
   "cell_type": "code",
   "execution_count": 8,
   "metadata": {},
   "outputs": [
    {
     "name": "stdout",
     "output_type": "stream",
     "text": [
      "Percentage of measurements: 26.36\n"
     ]
    },
    {
     "data": {
      "image/png": "[encoded data removed]",
      "text/plain": [
       "<matplotlib.figure.Figure at 0x7faf3d33b5f8>"
      ]
     },
     "metadata": {},
     "output_type": "display_data"
    }
   ],
   "source": [
    "measurements,Uobs,Vobs = UVCreator(img_fft,mask)\n",
    "\n",
    "measurements_abs = np.log(np.abs(measurements)+1e-12)\n",
    "show_fft_image(measurements_abs)\n",
    "\n",
    "samplingPercent = 100*Uobs.shape[0]/(measurements.shape[0]*measurements.shape[1]) \n",
    "print('Percentage of measurements: %s' % p)"
   ]
  },
  {
   "cell_type": "code",
   "execution_count": 9,
   "metadata": {},
   "outputs": [
    {
     "name": "stdout",
     "output_type": "stream",
     "text": [
      "Getting indexes (u,v)->i..done.\n"
     ]
    }
   ],
   "source": [
    "print('Getting indexes (u,v)->i..', end='')\n",
    "mask_vect = mask.reshape(-1)\n",
    "mask_vect_index = np.where(mask_vect == 1)[0]\n",
    "mask_vect_index2 = np.concatenate([mask_vect_index, mask_vect_index])\n",
    "print('done.')"
   ]
  },
  {
   "cell_type": "code",
   "execution_count": 10,
   "metadata": {},
   "outputs": [
    {
     "name": "stdout",
     "output_type": "stream",
     "text": [
      "H shape: (2500, 659)\n",
      "Check sanity: True\n"
     ]
    }
   ],
   "source": [
    "# Sampling Matrix\n",
    "\n",
    "H = np.zeros((mask_vect_index.shape[0], IMAGE_SIZE_X*IMAGE_SIZE_Y))\n",
    "# print(mask_vect)\n",
    "\n",
    "p = 0\n",
    "for q in range(H.shape[1]):\n",
    "    if mask_vect[q] == 1:\n",
    "        H[p,q] = 1\n",
    "        p += 1\n",
    "#         print(p,q)\n",
    "# print(H)\n",
    "H = H.T\n",
    "print('H shape: {}'.format(H.shape))\n",
    "print('Check sanity: {}'.format((np.matmul(H.T,np.arange(2500)) - mask_vect_index).sum() == 0))"
   ]
  },
  {
   "cell_type": "markdown",
   "metadata": {},
   "source": [
    "# Model"
   ]
  },
  {
   "cell_type": "markdown",
   "metadata": {},
   "source": [
    "### Fourier Matrix"
   ]
  },
  {
   "cell_type": "code",
   "execution_count": 11,
   "metadata": {},
   "outputs": [
    {
     "name": "stdout",
     "output_type": "stream",
     "text": [
      "Krockener product shape: (2500, 2500)\n"
     ]
    }
   ],
   "source": [
    "import numpy as np\n",
    "def DFT_matrix(N):\n",
    "    i, j = np.meshgrid(np.arange(N), np.arange(N))\n",
    "    omega = np.exp( -2 * np.pi * 1J / N )\n",
    "    W = np.power( omega, i * j ) / np.sqrt(N)\n",
    "    return W\n",
    "\n",
    "Wizq = DFT_matrix(IMAGE_SIZE_X)\n",
    "Wder = DFT_matrix(IMAGE_SIZE_Y)\n",
    "W = np.kron(Wder.T,Wizq).T\n",
    "print('Krockener product shape: {}'.format(W.shape))"
   ]
  },
  {
   "cell_type": "code",
   "execution_count": 12,
   "metadata": {
    "collapsed": true
   },
   "outputs": [],
   "source": [
    "# plt.imshow(Kron.real)\n",
    "# plt.colorbar()"
   ]
  },
  {
   "cell_type": "code",
   "execution_count": 13,
   "metadata": {
    "collapsed": true
   },
   "outputs": [],
   "source": [
    "# plt.imshow(W.real*W.real.T)\n",
    "# plt.colorbar()"
   ]
  },
  {
   "cell_type": "code",
   "execution_count": 14,
   "metadata": {
    "collapsed": true
   },
   "outputs": [],
   "source": [
    "# plt.imshow(Kron.imag)\n",
    "# plt.colorbar()"
   ]
  },
  {
   "cell_type": "code",
   "execution_count": 15,
   "metadata": {
    "collapsed": true
   },
   "outputs": [],
   "source": [
    "# plt.imshow(np.abs(Kron))\n",
    "# plt.colorbar()"
   ]
  },
  {
   "cell_type": "code",
   "execution_count": 16,
   "metadata": {},
   "outputs": [
    {
     "name": "stdout",
     "output_type": "stream",
     "text": [
      "Separanting real and imaginary part...done.\n"
     ]
    }
   ],
   "source": [
    "print('Separanting real and imaginary part...', end='')\n",
    "Vrobs = Vobs[:,0]\n",
    "Viobs = Vobs[:,1]\n",
    "Vobs_concat = Vobs.reshape(-1, order='F')\n",
    "print('done.')"
   ]
  },
  {
   "cell_type": "code",
   "execution_count": 17,
   "metadata": {},
   "outputs": [
    {
     "name": "stdout",
     "output_type": "stream",
     "text": [
      "C shape: (2500, 5000)\n",
      "V concat shape: (5000, 1)\n"
     ]
    }
   ],
   "source": [
    "C = np.concatenate([np.eye(W.shape[0]), 1j*np.eye(W.shape[0])], axis=1)\n",
    "print('C shape: {}'.format(C.shape))\n",
    "V_concat = np.concatenate([img_fft.real.reshape(-1), img_fft.imag.reshape(-1)])[:,np.newaxis]\n",
    "print('V concat shape: {}'.format(V_concat.shape))\n",
    "W_new = np.matmul(W,C).real\n",
    "I_concat = np.matmul(W_new,V_concat)"
   ]
  },
  {
   "cell_type": "code",
   "execution_count": 18,
   "metadata": {},
   "outputs": [
    {
     "data": {
      "text/plain": [
       "<matplotlib.image.AxesImage at 0x7faf4526a6d8>"
      ]
     },
     "execution_count": 18,
     "metadata": {},
     "output_type": "execute_result"
    },
    {
     "data": {
      "image/png": "[encoded data removed]",
      "text/plain": [
       "<matplotlib.figure.Figure at 0x7faf3d326c18>"
      ]
     },
     "metadata": {},
     "output_type": "display_data"
    }
   ],
   "source": [
    "plt.imshow(I_concat.reshape(IMAGE_SIZE_Y, IMAGE_SIZE_X))"
   ]
  },
  {
   "cell_type": "code",
   "execution_count": 19,
   "metadata": {},
   "outputs": [
    {
     "data": {
      "text/plain": [
       "<matplotlib.image.AxesImage at 0x7faf3d43e320>"
      ]
     },
     "execution_count": 19,
     "metadata": {},
     "output_type": "execute_result"
    },
    {
     "data": {
      "image/png": "[encoded data removed]",
      "text/plain": [
       "<matplotlib.figure.Figure at 0x7faf3d3f4a20>"
      ]
     },
     "metadata": {},
     "output_type": "display_data"
    }
   ],
   "source": [
    "I = np.matmul(W,img_fft.reshape(-1))\n",
    "plt.imshow(I.real.reshape(IMAGE_SIZE_Y, IMAGE_SIZE_X))"
   ]
  },
  {
   "cell_type": "markdown",
   "metadata": {},
   "source": [
    "## Kernels"
   ]
  },
  {
   "cell_type": "code",
   "execution_count": 20,
   "metadata": {
    "collapsed": true
   },
   "outputs": [],
   "source": [
    "import scipy as sp"
   ]
  },
  {
   "cell_type": "code",
   "execution_count": 21,
   "metadata": {
    "collapsed": true
   },
   "outputs": [],
   "source": [
    "sigma = 1\n",
    "gamma = 1./2"
   ]
  },
  {
   "cell_type": "code",
   "execution_count": 22,
   "metadata": {
    "collapsed": true
   },
   "outputs": [],
   "source": [
    "def kernel(i,j, sigma=sigma, gamma=gamma):\n",
    "    return sigma**2*np.exp(-gamma*(i-j)**2)\n",
    "\n",
    "def kernel_handler(x):\n",
    "    return kernel()\n",
    "\n",
    "def covImagReal(i,j, W=W):\n",
    "    out = 0\n",
    "    for k in range(W.shape[0]):\n",
    "        for l in range(W.shape[1]):\n",
    "            out += W[k,i] * kernel(k,l) * W[l,j]"
   ]
  },
  {
   "cell_type": "code",
   "execution_count": 23,
   "metadata": {
    "collapsed": true
   },
   "outputs": [],
   "source": [
    "# \"suma\" externa\n",
    "def outersum(a,b):\n",
    "    return np.outer(a,np.ones_like(b))+np.outer(np.ones_like(a),b)"
   ]
  },
  {
   "cell_type": "code",
   "execution_count": 24,
   "metadata": {},
   "outputs": [],
   "source": [
    "A = np.ones([5,5])\n",
    "b = np.asarray([1,2,3,4,5])[:,np.newaxis]"
   ]
  },
  {
   "cell_type": "code",
   "execution_count": 25,
   "metadata": {
    "collapsed": true
   },
   "outputs": [],
   "source": [
    "def SE(a,b,gamma=1./2,sigma=1): \n",
    "    #Square Exponential kernel\n",
    "\n",
    "    #returns the evaluation of the kernel\n",
    "    #k(a,b)=sigma**2*exp(-gamma*(a-b)**2), \n",
    "    #notice that in this definition gamma = 1 /(2*lengthscale**2), in order to simplify the derivatives\n",
    "    #for consistency with the generation of Gram matrices, this function returns\n",
    "    #a matrix of dimensions dim(a) x dim(b);  \n",
    "\n",
    "    #INPUTS\n",
    "    #a,b are column vectors of (possibly) different lenghts\n",
    "    u1 = a % IMAGE_SIZE_X\n",
    "    u2 = b % IMAGE_SIZE_X\n",
    "    \n",
    "    v1 = np.floor(a/IMAGE_SIZE_X)\n",
    "    v2 = np.floor(b/IMAGE_SIZE_X)\n",
    "    \n",
    "    sa=np.size(a); sb=np.size(b)\n",
    "\n",
    "    if sa==1: a=np.array([a])\n",
    "    if sb==1: b=np.array([b])\n",
    "    K=np.zeros([sa,sb])\n",
    "    #accelerate computation if a==b\n",
    "    if np.array_equal(a,b):\n",
    "        for va in range(sa):\n",
    "            K[va,va]=1;\n",
    "            for vb in range(va+1,sb):\n",
    "                K[va,vb]=np.exp(-((u1[va] - u2[vb])**2 + (v1[va] - v2[vb])**2)*gamma)\n",
    "                K[vb,va]=K[va,vb]\n",
    "    #a!=b\n",
    "    else:\n",
    "        for va in range(sa):\n",
    "            for vb in range(sb):\n",
    "                K[va,vb]=np.exp(-((u1[va] - u2[vb])**2 + (v1[va] - v2[vb])**2)*gamma)\n",
    "    if sa==1:\n",
    "        return sigma**2*np.reshape(K,b.shape)\n",
    "    elif sb==1:\n",
    "        return sigma**2*np.reshape(K,a.shape)\n",
    "    else:\n",
    "        return sigma**2*K\n",
    "\n",
    "all_index = np.arange(IMAGE_SIZE_X*IMAGE_SIZE_Y)\n",
    "\n",
    "#negative log-likelihood when using SE kernel\n",
    "def like_covImagenReal(X, y, t, t_obs): \n",
    "    #entrenamiento con respecto al logaritmo de los hyperparámetros, para no imponer restricciones de positividad\n",
    "    sigma_noise, gamma_1, sig_1 = np.exp(X)\n",
    "    \n",
    "#     W = np.identity(IMAGE_SIZE_X*IMAGE_SIZE_Y)\n",
    "    samplingW = np.matmul(W.real,H)\n",
    "    K = SE(t,t,gamma=gamma_1,sigma=sig_1)\n",
    "    \n",
    "    Gram= np.matmul(np.matmul(samplingW.T,K),samplingW)+sigma_noise**2*np.identity(len(t_obs))\n",
    "    cGg=np.linalg.cholesky(Gram)\n",
    "    invGram=np.dot(np.linalg.inv(cGg.T),np.linalg.inv(cGg))\n",
    "    \n",
    "    nll=np.dot(y,np.dot(invGram,y)) + 2*np.sum(np.log(np.diag(cGg)))\n",
    "    return 0.5*nll+0.5*len(y)*np.log(2*np.pi)\n",
    "\n",
    "#derivative of negative log-likelihood when using SE kernel\n",
    "def like_covImagenReal_Df(X, y, t, t_obs):\n",
    "    sigma_noise, gamma_1, sig_1 = np.exp(X)\n",
    "    \n",
    "#     W = np.identity(IMAGE_SIZE_X*IMAGE_SIZE_Y)\n",
    "    samplingW = np.matmul(W.real,H)\n",
    "#     samplingW = np.eye(W.shape[0])\n",
    "    K = SE(t,t,gamma=gamma_1,sigma=sig_1)\n",
    "#     t_obs = np.matmul(H.T,t)\n",
    "    \n",
    "    Gram0 = np.matmul(np.matmul(samplingW.T,K),samplingW)\n",
    "    Gram=Gram0+sigma_noise**2*np.identity(len(t_obs))\n",
    "    cGg=np.linalg.cholesky(Gram)\n",
    "    invGram=np.dot(np.linalg.inv(cGg.T),np.linalg.inv(cGg))\n",
    "    \n",
    "    A=np.dot(invGram,y)\n",
    "    \n",
    "    \n",
    "    u_obs = t_obs % IMAGE_SIZE_X\n",
    "    v_obs = np.floor(t_obs/IMAGE_SIZE_X)\n",
    "    \n",
    "    outer_u=outersum(u_obs,-u_obs)\n",
    "    outer_v=outersum(v_obs,-v_obs)\n",
    "    outer_dist = outer_u**2 + outer_v**2\n",
    "#     print(outer_sub)\n",
    "\n",
    "    \n",
    "    D1 = 2*sigma_noise**2*np.identity(len(t_obs)) #sigma_noise\n",
    "    D2 = -Gram0*outer_dist*gamma_1 #gamma_1\n",
    "    D3 = 2*Gram0 #sig_1 \n",
    "\n",
    "    B=np.outer(A,A)-invGram\n",
    "    d1=  -np.trace(np.dot(B,D1))\n",
    "    d2=  -np.trace(np.dot(B,D2))\n",
    "    d3=  -np.trace(np.dot(B,D3))\n",
    "\n",
    "    print('- Paremeters:\\n  - sigma noise: {},\\n  - gamma: {},\\n  - sigma: {}'.format(sigma_noise, gamma_1, sig_1))\n",
    "    print('  - Derivatives: {}, {}, {}'.format(d1, d2, d3))\n",
    "    return np.asarray([0.5*d1, 0.5*d2, 0.5*d3])"
   ]
  },
  {
   "cell_type": "code",
   "execution_count": 27,
   "metadata": {},
   "outputs": [
    {
     "name": "stdout",
     "output_type": "stream",
     "text": [
      "Condicion inicial optimizador:  [ 4.    1.    0.01]\n",
      "- Paremeters:\n",
      "  - sigma noise: 4.0,\n",
      "  - gamma: 1.0,\n",
      "  - sigma: 0.010000000000000004\n",
      "  - Derivatives: -4705.393619286133, 80.98612167435559, -0.10283664261437316\n",
      "- Paremeters:\n",
      "  - sigma noise: 10.871517313999602,\n",
      "  - gamma: 0.9829384358287262,\n",
      "  - sigma: 0.01000021852058736\n",
      "  - Derivatives: 502.55540263058003, 1.4834828671992615, -0.001192307941174343\n",
      "- Paremeters:\n",
      "  - sigma noise: 9.871642253590261,\n",
      "  - gamma: 0.9828428506820206,\n",
      "  - sigma: 0.010000218556039617\n",
      "  - Derivatives: 329.0017883389776, 2.1821455050521785, -0.0019705769339096067\n",
      "- Paremeters:\n",
      "  - sigma noise: 8.22157088823239,\n",
      "  - gamma: 0.9807482980046295,\n",
      "  - sigma: 0.01000023777616945\n",
      "  - Derivatives: -107.81620015386602, 4.535160417973866, -0.004755044460593903\n",
      "- Paremeters:\n",
      "  - sigma noise: 8.600995794866016,\n",
      "  - gamma: 0.9796412389586925,\n",
      "  - sigma: 0.01000025006670737\n",
      "  - Derivatives: 15.20522188294234, 3.7861908525320005, -0.0038592697511912353\n",
      "- Paremeters:\n",
      "  - sigma noise: 8.553397527856166,\n",
      "  - gamma: 0.9783819687092039,\n",
      "  - sigma: 0.01000026314223306\n",
      "  - Derivatives: 0.665325251914453, 3.8710239626785956, -0.003966969750650573\n",
      "- Paremeters:\n",
      "  - sigma noise: 8.548212597107181,\n",
      "  - gamma: 0.9767090090027111,\n",
      "  - sigma: 0.010000280672713403\n",
      "  - Derivatives: -0.933192216333282, 3.8802232815953377, -0.003986181155246984\n",
      "- Paremeters:\n",
      "  - sigma noise: 8.552257995107565,\n",
      "  - gamma: 0.9780141307741204,\n",
      "  - sigma: 0.010000266994129802\n",
      "  - Derivatives: 0.31425582325334744, 3.873043429418526, -0.00397118379111298\n",
      "- Paremeters:\n",
      "  - sigma noise: 8.549587817680685,\n",
      "  - gamma: 0.9771525548770675,\n",
      "  - sigma: 0.010000276021992877\n",
      "  - Derivatives: -0.5089274417492788, 3.8777806478667114, -0.003981076306977967\n",
      "- Paremeters:\n",
      "  - sigma noise: 8.551683714058617,\n",
      "  - gamma: 0.9778287883275953,\n",
      "  - sigma: 0.010000268935533933\n",
      "  - Derivatives: 0.1372770336121505, 3.8740616627371205, -0.003973309255408931\n",
      "- Paremeters:\n",
      "  - sigma noise: 8.550300364808596,\n",
      "  - gamma: 0.9773824217625492,\n",
      "  - sigma: 0.010000273612596276\n",
      "  - Derivatives: -0.2891823776227511, 3.8765157947111155, -0.00397843396827879\n",
      "- Paremeters:\n",
      "  - sigma noise: 8.551389486969073,\n",
      "  - gamma: 0.9777338387858299,\n",
      "  - sigma: 0.010000269930243371\n",
      "  - Derivatives: 0.046589926605349774, 3.874583473925356, -0.003974398669874948\n",
      "- Paremeters:\n",
      "  - sigma noise: 8.550670650778697,\n",
      "  - gamma: 0.9775018893766244,\n",
      "  - sigma: 0.010000272360596137\n",
      "  - Derivatives: -0.17501019766856984, 3.87585869813178, -0.003977061550767481\n",
      "- Paremeters:\n",
      "  - sigma noise: 8.551237474794746,\n",
      "  - gamma: 0.9776847855186838,\n",
      "  - sigma: 0.010000270444172604\n",
      "  - Derivatives: -0.00026715711476299475, 3.8748531016514454, -0.00397496163557219\n",
      "- Paremeters:\n",
      "  - sigma noise: 8.550863366728422,\n",
      "  - gamma: 0.9775640702257365,\n",
      "  - sigma: 0.010000271709012092\n",
      "  - Derivatives: -0.11559496472602859, 3.875516766210257, -0.003976347466924408\n",
      "- Paremeters:\n",
      "  - sigma noise: 8.551158598656475,\n",
      "  - gamma: 0.9776593333658508,\n",
      "  - sigma: 0.01000027071084401\n",
      "  - Derivatives: -0.024581364276798467, 3.874993015436994, -0.003975253779835803\n",
      "- Paremeters:\n",
      "  - sigma noise: 8.551237474794746,\n",
      "  - gamma: 0.9776847855186838,\n",
      "  - sigma: 0.010000270444172604\n",
      "  - Derivatives: -0.00026715711476299475, 3.8748531016514454, -0.00397496163557219\n",
      "- Paremeters:\n",
      "  - sigma noise: 8.514663009298483,\n",
      "  - gamma: 0.9547700793812222,\n",
      "  - sigma: 0.010000513674901113\n",
      "  - Derivatives: -11.347111036935956, 3.939017738518216, -0.004168583481409726\n",
      "- Paremeters:\n",
      "  - sigma noise: 8.544511009431872,\n",
      "  - gamma: 0.9734370412832887,\n",
      "  - sigma: 0.010000315098494365\n",
      "  - Derivatives: -2.076153749988066, 3.8865562111327097, -0.0040098887511195985\n",
      "- Paremeters:\n",
      "  - sigma noise: 8.549854359408334,\n",
      "  - gamma: 0.9768101141069049,\n",
      "  - sigma: 0.01000027962323852\n",
      "  - Derivatives: -0.4267169193501559, 3.877255960527127, -0.003982118734633314\n",
      "- Paremeters:\n",
      "  - sigma noise: 8.55094667474971,\n",
      "  - gamma: 0.9775008325805078,\n",
      "  - sigma: 0.010000272373947475\n",
      "  - Derivatives: -0.08991105202895255, 3.8753581495733345, -0.003976465356586336\n",
      "- Paremeters:\n",
      "  - sigma noise: 8.55117604893025,\n",
      "  - gamma: 0.9776459266689247,\n",
      "  - sigma: 0.010000270851794585\n",
      "  - Derivatives: -0.0192019279359954, 3.874959776426267, -0.003975279220490037\n",
      "- Paremeters:\n",
      "  - sigma noise: 8.551224504764924,\n",
      "  - gamma: 0.9776765803934072,\n",
      "  - sigma: 0.010000270530241462\n",
      "  - Derivatives: -0.004265187211842658, 3.874875625655069, -0.00397502869131894\n",
      "- Paremeters:\n",
      "  - sigma noise: 8.551234735613642,\n",
      "  - gamma: 0.9776830526479539,\n",
      "  - sigma: 0.010000270462349746\n",
      "  - Derivatives: -0.001111512061669373, 3.8748578585526037, -0.0039749757971913775\n",
      "- Paremeters:\n",
      "  - sigma noise: 8.55123689627321,\n",
      "  - gamma: 0.9776844195320706,\n",
      "  - sigma: 0.010000270448011654\n",
      "  - Derivatives: -0.000445486811486262, 3.8748541063196296, -0.0039749646265355406\n",
      "- Paremeters:\n",
      "  - sigma noise: 8.551237352608657,\n",
      "  - gamma: 0.9776847082208222,\n",
      "  - sigma: 0.010000270444983425\n",
      "  - Derivatives: -0.0003048210651854788, 3.8748533138414056, -0.00397496226727556\n",
      "- Paremeters:\n",
      "  - sigma noise: 8.55123744898854,\n",
      "  - gamma: 0.9776847691930562,\n",
      "  - sigma: 0.010000270444343849\n",
      "  - Derivatives: -0.00027511189625784027, 3.874853146466837, -0.003974961768990535\n",
      "- Paremeters:\n",
      "  - sigma noise: 8.55123746934429,\n",
      "  - gamma: 0.9776847820705941,\n",
      "  - sigma: 0.01000027044420877\n",
      "  - Derivatives: -0.00026883722122761355, 3.8748531111167788, -0.0039749616637511\n",
      "- Paremeters:\n",
      "  - sigma noise: 8.551237473643663,\n",
      "  - gamma: 0.9776847847904805,\n",
      "  - sigma: 0.010000270444180242\n",
      "  - Derivatives: -0.00026751193664154016, 3.874853103650431, -0.003974961641523303\n",
      "- Paremeters:\n",
      "  - sigma noise: 8.551237474551598,\n",
      "  - gamma: 0.9776847853648626,\n",
      "  - sigma: 0.010000270444174219\n",
      "  - Derivatives: -0.00026723206502765606, 3.8748531020737023, -0.003974961636829268\n",
      "- Paremeters:\n",
      "  - sigma noise: 8.551237474743468,\n",
      "  - gamma: 0.9776847854862437,\n",
      "  - sigma: 0.01000027044417294\n",
      "  - Derivatives: -0.00026717292087141686, 3.8748531017404924, -0.003974961635837295\n",
      "- Paremeters:\n",
      "  - sigma noise: 8.551237474616832,\n",
      "  - gamma: 0.9776847854061321,\n",
      "  - sigma: 0.010000270444173785\n",
      "  - Derivatives: -0.000267211956867186, 3.874853101960416, -0.003974961636492006\n",
      "- Paremeters:\n",
      "  - sigma noise: 8.55123747457378,\n",
      "  - gamma: 0.9776847853788942,\n",
      "  - sigma: 0.010000270444174068\n",
      "  - Derivatives: -0.0002672252275885967, 3.874853102035178, -0.003974961636714592\n",
      "- Paremeters:\n",
      "  - sigma noise: 8.55123747460784,\n",
      "  - gamma: 0.9776847854004416,\n",
      "  - sigma: 0.010000270444173846\n",
      "  - Derivatives: -0.00026721472872281993, 3.874853101976031, -0.003974961636538504\n",
      "- Paremeters:\n",
      "  - sigma noise: 8.551237474616832,\n",
      "  - gamma: 0.9776847854061321,\n",
      "  - sigma: 0.010000270444173785\n",
      "  - Derivatives: -0.000267211956867186, 3.874853101960416, -0.003974961636492006\n",
      "Hiperparametros encontrados:  [ 8.55123747  0.97768479  0.01000027]\n",
      "Negative log-likelihood para hiperámetros optimizados:  2349.34598171\n"
     ]
    }
   ],
   "source": [
    "import time\n",
    "from scipy.optimize import fmin_l_bfgs_b as fmin\n",
    "\n",
    "#entrenamiento del GP, es decir, encontrar los parámetros del kernel y del ruido\n",
    "args=(Vrobs,all_index, mask_vect_index)\n",
    "time_SE=0\n",
    "params0=np.asarray([0.01,  1,  .01])\n",
    "X0=np.log(params0);\n",
    "print('Condicion inicial optimizador: ',params0)\n",
    "time_GP=time.time()\n",
    "X_opt, f_GP, data=fmin(like_covImagenReal,X0,like_covImagenReal_Df, args,disp=1,factr=0.000001/(2.22E-12),maxiter=50)\n",
    "time_GP=time.time()-time_GP\n",
    "sigma_y_GP, gamma_1, sig_1 = np.exp(X_opt)\n",
    "print('Hiperparametros encontrados: ', np.exp(X_opt))\n",
    "\n",
    "print('Negative log-likelihood para hiperámetros optimizados: ', f_GP)"
   ]
  },
  {
   "cell_type": "code",
   "execution_count": 28,
   "metadata": {},
   "outputs": [
    {
     "name": "stdout",
     "output_type": "stream",
     "text": [
      "W H shape: (2500, 659)\n",
      "Variance: [ 0.00031545  0.00015563  0.00015381 ...,  0.0001516   0.00015464\n",
      "  0.00015649]\n"
     ]
    },
    {
     "data": {
      "text/plain": [
       "array([ 0.01776096,  0.01247527,  0.012402  , ...,  0.01231242,\n",
       "        0.01243529,  0.01250964])"
      ]
     },
     "execution_count": 28,
     "metadata": {},
     "output_type": "execute_result"
    }
   ],
   "source": [
    "t = np.arange(IMAGE_SIZE_X*IMAGE_SIZE_Y)\n",
    "t_obs = mask_vect_index\n",
    "N_obs = t_obs.shape[0]\n",
    "K = SE(t,t,gamma=gamma_1,sigma=sig_1)\n",
    "samplingW = np.matmul(W.real, H)\n",
    "print('W H shape: {}'.format(samplingW.shape))\n",
    "\n",
    "cov = np.matmul(np.matmul(W.real.T,K),W.real)\n",
    "\n",
    "cov_obs = np.matmul(np.matmul(samplingW.T,K),samplingW)\n",
    "\n",
    "K_star = np.matmul(np.matmul(W.real.T,K),samplingW)\n",
    "\n",
    "cGg=np.linalg.cholesky(cov_obs+sigma_y_GP**2*np.identity(N_obs))\n",
    "invGramg=np.dot(np.linalg.inv(cGg.T),np.linalg.inv(cGg))\n",
    "temp=np.matmul(K_star,invGramg) \n",
    "y_model=np.matmul(temp,Vrobs)\n",
    "v_model=np.diag(cov-np.matmul(temp,K_star.T))\n",
    "\n",
    "print('Variance: {}'.format(v_model))\n",
    "std_dev= np.sqrt(v_model)\n",
    "std_dev"
   ]
  },
  {
   "cell_type": "code",
   "execution_count": 29,
   "metadata": {},
   "outputs": [
    {
     "name": "stdout",
     "output_type": "stream",
     "text": [
      "Variance: True\n",
      "(array([], dtype=int64),)\n",
      "0.000153809653826\n"
     ]
    }
   ],
   "source": [
    "print('Variance: {}'.format( (v_model>0).all() ))\n",
    "print(np.where(v_model<0))\n",
    "print(v_model[2400])"
   ]
  },
  {
   "cell_type": "code",
   "execution_count": 30,
   "metadata": {},
   "outputs": [
    {
     "data": {
      "text/plain": [
       "<matplotlib.image.AxesImage at 0x7faf3c13d208>"
      ]
     },
     "execution_count": 30,
     "metadata": {},
     "output_type": "execute_result"
    },
    {
     "data": {
      "image/png": "[encoded data removed]",
      "text/plain": [
       "<matplotlib.figure.Figure at 0x7faf3d27c198>"
      ]
     },
     "metadata": {},
     "output_type": "display_data"
    }
   ],
   "source": [
    "plt.imshow(K, cmap='seismic')"
   ]
  },
  {
   "cell_type": "code",
   "execution_count": 31,
   "metadata": {},
   "outputs": [
    {
     "data": {
      "text/plain": [
       "array([ -6.18385797e+01,   1.94404339e+01,  -2.41491680e+01,\n",
       "         1.76989664e+01,  -7.87956577e+00,   1.56603456e+00,\n",
       "         7.79419000e-01,  -9.72707302e-01,  -1.88502142e-01,\n",
       "         3.77674665e-03,  -8.98435461e-04,   2.34219655e-05,\n",
       "         9.32604581e-05,  -8.98435461e-04,   3.77674665e-03,\n",
       "        -9.60607458e-03,   1.06711792e-02,   5.45255228e-01,\n",
       "        -9.72707302e-01,   7.79419000e-01,   1.56603456e+00,\n",
       "        -7.87956577e+00,  -2.41491680e+01,   1.94404339e+01,\n",
       "        -6.18385797e+01,  -7.14417517e+01,  -2.92276876e+01,\n",
       "         3.53002868e-01,  -1.43135674e+01,  -4.21750239e+00,\n",
       "         8.33114847e-01,   5.04401660e-01,  -6.14426863e-01,\n",
       "         3.41271629e-01,   6.12719797e-03,  -5.30900196e-03,\n",
       "         2.00759873e-03,  -4.59181443e-04,   4.58150730e-05,\n",
       "        -1.62733123e-03,   6.58528218e-03,  -3.16350787e-01,\n",
       "        -1.41989736e+00,   3.21998699e-01,   5.34732577e+00,\n",
       "        -1.68394022e+01,   2.76470716e+01,  -2.28501586e+01,\n",
       "         4.81480810e+01,   4.68571727e+01,  -4.48824644e+01,\n",
       "         4.09633459e-01,   6.47356383e+00,  -8.01274404e+00,\n",
       "        -2.80328517e+00,  -6.64153688e-02,   9.45469706e-03,\n",
       "         1.06914862e-02,   1.34564999e-01,  -5.99214610e-01,\n",
       "         1.26443506e+00,  -7.89482531e-01,  -3.74618506e+00,\n",
       "        -2.43553437e+01,   2.25257007e+01,  -1.44436664e+00,\n",
       "         2.21496039e+01,  -2.04475664e+01,   1.70764190e+01,\n",
       "        -1.08040431e+01,   2.83477478e+00,   3.19995994e+00,\n",
       "         3.92360670e+00,  -1.82586833e+00,   1.82743589e-01,\n",
       "        -2.17097073e-01,   1.12586720e-01,   4.83289871e-03,\n",
       "        -9.46602579e-05,   8.72999955e-06,   4.02358323e-07,\n",
       "        -4.47701022e-03,  -7.15640142e-02,   3.87266124e-01,\n",
       "         3.39169660e+00,   1.77233080e+01,  -1.58426866e+01,\n",
       "         3.17533240e+00,   3.68029728e+00,  -3.35384722e+00,\n",
       "         7.07817724e+00,  -1.22693593e+01,   1.34714918e+01,\n",
       "        -9.16645464e+00,   2.67448742e+00,   2.44683609e+00,\n",
       "        -1.09522147e+00,   2.13844572e-01,   5.75466299e-02,\n",
       "        -6.82089591e-08,  -3.54871239e-03,   8.82255422e-02,\n",
       "         3.45691220e-01,  -3.47133452e+00,   8.38545087e+00,\n",
       "        -1.11818800e+01,   7.97557171e+00,  -7.67986005e-01,\n",
       "        -5.79930380e+00,   3.61990644e+00,   9.99440350e+00,\n",
       "        -1.98021916e+00,  -6.05920359e-01,  -5.67157943e-02,\n",
       "        -3.29366945e-04,  -2.07996446e-03,   2.99691473e-01,\n",
       "        -2.99488897e-01,   3.20176846e+00,   6.40572823e+00,\n",
       "         1.91279974e+00,  -2.14243823e+00,   6.52530753e+00,\n",
       "        -7.01030360e+00,  -6.43220423e+00,   6.98995084e-01,\n",
       "        -1.09545456e+00,  -2.57512829e-02,  -6.49822575e-06,\n",
       "         5.33604995e-05,  -3.20977701e-02,   1.25184061e-01,\n",
       "        -2.72514208e-01,  -2.44742412e+00,   4.10064319e+00,\n",
       "         1.64417527e-01,   2.92235873e+00,  -2.26806314e+00,\n",
       "         7.86597888e-02,   5.74989076e+00,   1.97962657e+00,\n",
       "         1.79305342e+00,  -4.02886276e+00,  -2.31933476e+00,\n",
       "         3.71693912e-01,   2.53693774e-02,   3.27134475e-09,\n",
       "         1.12029905e-05,   3.71870661e-04,  -6.05648406e-04,\n",
       "        -3.46838807e-03,  -1.04876810e-01,   2.11119117e-01,\n",
       "        -1.52249843e-01,  -4.17539446e-01,   1.53217895e+00,\n",
       "        -2.38881772e+00,   2.97217009e-01,  -2.33613473e+00,\n",
       "        -2.80328517e+00,  -3.31511867e+00,   1.21696527e+00,\n",
       "        -1.80736845e-08,  -1.19373075e-05,   2.59440076e-03,\n",
       "        -2.12316386e-02,  -1.36584742e-01,   2.21140725e-01,\n",
       "        -8.93754534e-01,  -1.27010691e-01,  -1.72197668e+00,\n",
       "         5.04401661e-01,  -1.98087272e+00,   6.99115593e-01,\n",
       "        -7.65978813e-08,  -1.67867488e-03,   1.31222692e-02,\n",
       "        -5.11818252e-02,   3.36174881e-01,  -4.62058295e-01,\n",
       "         8.87150545e-01,   3.06054457e-01,   1.40864912e+00,\n",
       "         3.05113358e-01,  -6.05926021e-01,   5.24994332e-01,\n",
       "        -2.25888572e-08,   5.22269541e-07,   2.04563794e-02,\n",
       "        -3.38572870e-02,   2.26967840e-02,   1.73035787e-01,\n",
       "         6.76570274e-02,   8.50457146e-02,  -3.08475471e-01,\n",
       "        -1.89239286e-01,   3.41271630e-01,  -3.77444134e-01,\n",
       "         1.82586982e-01,   7.48966716e-01,  -5.59924039e-01,\n",
       "        -4.61126322e-04,   1.31222692e-02,  -1.03916125e-02,\n",
       "         3.46229951e-02,  -1.15611998e-01,  -2.17085962e-01,\n",
       "         1.01013616e-01,  -3.09706505e-01,   3.84650923e-08,\n",
       "        -3.24459722e-06,   1.79837859e-05,   1.93162517e-04,\n",
       "        -1.20936755e-03,  -4.32528467e-03,   2.59440072e-03,\n",
       "         2.68417981e-03,   1.09513834e-02,  -1.23314021e-02,\n",
       "         1.72753282e-02,  -2.38132977e-02,   1.58838524e-02,\n",
       "        -6.64204148e-02,   1.12586720e-01,   3.25653945e-03,\n",
       "        -2.21115227e-08,  -1.25494569e-07,  -8.16322577e-06,\n",
       "        -6.92679981e-05,   4.00002308e-04,  -6.70886818e-04,\n",
       "        -6.05648443e-04,   1.63493394e-03,  -4.47700958e-03,\n",
       "         2.43873458e-02,   1.03643921e-03,   1.08610975e-08,\n",
       "        -6.68936157e-07,   8.92687081e-06,   1.35663744e-04,\n",
       "         5.32820292e-04,  -2.69216522e-03,   6.53855746e-03,\n",
       "        -5.30846438e-03,   4.83290795e-03,   2.71806722e-02,\n",
       "         4.83291250e-03,   2.09041472e-09,  -4.55594467e-09,\n",
       "        -2.21022461e-08,   2.39682294e-07,  -1.04788554e-06,\n",
       "        -5.55304088e-06,   2.73198618e-05,  -2.61352138e-05,\n",
       "        -2.42816645e-05,   3.91365400e-05,   1.85482530e-05,\n",
       "        -1.24667066e-04,   1.32843562e-04,   3.02295357e-04,\n",
       "        -2.71343145e-03,   2.96265875e-07,  -6.68936171e-07,\n",
       "         1.24014836e-06,  -5.63715902e-06,   1.03146072e-05,\n",
       "         3.92569772e-06,   4.64735150e-06,  -7.25848652e-06,\n",
       "         4.39473646e-05,  -4.59178164e-04,  -3.30556278e-03,\n",
       "         1.07895275e-10,  -4.97432152e-10,  -7.15257753e-08,\n",
       "         1.49239576e-07,  -2.36400926e-07,   9.93336388e-07,\n",
       "         1.57075434e-06,  -4.96676929e-07,   1.39430317e-06,\n",
       "        -8.53175422e-06,  -2.16881512e-04,   4.47871334e-04,\n",
       "         3.04818140e-04,  -1.28161976e-03,  -4.18116439e-09,\n",
       "        -7.29261750e-11,   1.27928695e-10,   5.01493280e-10,\n",
       "         1.47460094e-08,   2.20942733e-08,  -1.49457232e-07,\n",
       "         2.34159795e-07,   5.55967292e-08,   1.32725481e-07,\n",
       "         3.21500036e-07,   1.56261372e-05,  -1.42298518e-05,\n",
       "         1.18182887e-04,   4.11917133e-09,  -6.81995649e-10,\n",
       "        -2.58239747e-11,   8.26074742e-10,  -2.60536005e-09,\n",
       "         4.62861152e-09,  -5.34796187e-09,   1.92023254e-08,\n",
       "        -6.24132701e-09,  -1.61201621e-08,   4.01144318e-07,\n",
       "        -2.71091122e-06,  -3.94178020e-11,   2.15997580e-11,\n",
       "         3.73655257e-11,  -2.13563827e-09,   2.86322500e-09,\n",
       "         2.05201149e-07,  -1.33194212e-06,  -2.71080825e-06,\n",
       "        -1.16642027e-10,   4.89284977e-10,  -3.55575206e-10,\n",
       "         8.56154765e-11,  -3.60254060e-09,   1.44368780e-08,\n",
       "        -2.53736843e-07,  -1.31494976e-05,  -2.91715629e-10,\n",
       "         1.14710883e-10,   6.75538253e-10,  -1.83256605e-09,\n",
       "         1.09229570e-10,  -1.86033311e-09,  -5.27397028e-10,\n",
       "         3.51794281e-09,   2.17405860e-09,  -1.02875652e-09,\n",
       "         7.95576011e-08,   2.87389982e-10,   4.42486797e-09,\n",
       "        -2.37502459e-08,   1.64009887e-08,   9.07175515e-09,\n",
       "         6.35899741e-09,   3.74851039e-10,  -1.24402080e-09,\n",
       "         2.33980199e-08,  -1.24671911e-07,   1.95291128e-07,\n",
       "        -1.24671913e-07,  -1.24391353e-09,  -2.98738978e-09,\n",
       "        -7.52358953e-10,  -3.13100491e-08,   4.71468459e-08,\n",
       "        -2.37502451e-08,   6.35899316e-09,   4.11916916e-09,\n",
       "        -1.24402172e-09,   2.01522354e-10,   1.59773614e-09,\n",
       "         2.18898024e-09,   3.24972898e-09,  -4.18119447e-09,\n",
       "         7.55536713e-10,   1.01358219e-09,   2.49973637e-07,\n",
       "        -2.98623376e-10,   5.58008112e-10,   6.75538217e-10,\n",
       "        -1.86005633e-09,  -6.04754600e-07,  -3.60254537e-09,\n",
       "         8.56159657e-11,  -3.84270722e-10,   1.36358926e-10,\n",
       "         1.14713715e-10,  -1.02883995e-09,  -4.65111895e-05,\n",
       "         2.75197164e-08,  -7.09957809e-09,   8.04480635e-10,\n",
       "        -6.99060819e-10,   4.62927972e-10,  -1.16603057e-10,\n",
       "        -6.46092211e-06,  -2.71091121e-06,   4.01144312e-07,\n",
       "         1.92023264e-08,  -5.34796239e-09,  -2.58239355e-11,\n",
       "         2.29503655e-11,  -4.03129978e-11,  -2.89623599e-05,\n",
       "        -5.09371488e-06,   6.97366644e-07,   5.55967283e-08,\n",
       "        -2.03081472e-07,   3.84653215e-08,   2.20942731e-08,\n",
       "         1.47460096e-08,  -4.27557873e-09,   5.01493040e-10,\n",
       "        -7.29256933e-11,  -4.18116492e-09,   2.33980204e-08,\n",
       "         3.04818140e-04,   2.81908253e-05,   1.39430316e-06,\n",
       "        -4.96676928e-07,   1.57075434e-06,   9.93336388e-07,\n",
       "        -2.36400926e-07,   1.49239576e-07,   1.91584685e-08,\n",
       "        -4.97431806e-10,   2.60553619e-10,  -3.94169506e-11,\n",
       "        -2.37502397e-08,  -3.30556278e-03,   7.26501489e-04,\n",
       "         9.86412118e-04,  -4.59178164e-04,  -8.98272374e-04,\n",
       "        -7.25848652e-06,   4.64735150e-06,  -1.04530346e-05,\n",
       "         1.03146072e-05,   1.24014836e-06,   6.08737733e-07,\n",
       "         2.96265875e-07,  -7.33317526e-08,  -8.02344835e-10,\n",
       "         5.96048292e-10,  -9.59770508e-03,   1.85482530e-05,\n",
       "         3.91365400e-05,  -2.61352138e-05,   5.96497606e-05,\n",
       "         2.73198618e-05,  -5.55304088e-06,  -2.52211248e-06,\n",
       "        -1.04788554e-06,   2.39682295e-07,  -5.30846438e-03,\n",
       "        -9.58735916e-03,   5.32820292e-04,   1.67189554e-05,\n",
       "         1.35663744e-04,  -2.66461413e-04,   1.24143020e-04,\n",
       "         1.45001062e-04,  -2.91245137e-04,   2.12249217e-05,\n",
       "         8.92687081e-06,  -6.68936157e-07,   5.69988906e-08,\n",
       "         1.08610973e-08,  -4.62170851e-09,   7.37601132e-10,\n",
       "         1.34891836e-02,   7.01045825e-02,   9.45562132e-03,\n",
       "         1.03852790e-02,  -4.47700958e-03,   1.93718121e-03,\n",
       "         1.63493394e-03,   2.33651600e-05,  -1.25494569e-07,\n",
       "         8.70188998e-09,   3.25653945e-03,   5.16325847e-02,\n",
       "        -1.23314021e-02,   2.68417981e-03,   2.59440072e-03,\n",
       "        -4.32528467e-03,   1.93162517e-04,   6.97629739e-05,\n",
       "        -3.24459722e-06,   3.84650923e-08,  -1.39821198e-08,\n",
       "         9.45536578e-03,   2.03569998e-01,  -1.15611998e-01,\n",
       "        -1.89239286e-01,   2.04288930e-02,  -4.32495144e-02,\n",
       "         4.99353053e-02,  -4.91141564e-02,   3.46229951e-02,\n",
       "        -8.39355285e-03,   1.31222692e-02,  -8.54737424e-03,\n",
       "        -4.61126322e-04,  -1.53933427e-04,   5.64271136e-06,\n",
       "        -3.78744134e-07,   1.92035002e-08,  -6.05932970e-01,\n",
       "         1.82586982e-01,  -3.77444134e-01,   5.45255228e-01,\n",
       "        -3.08475471e-01,   3.43442311e-02,   2.26967840e-02,\n",
       "         2.04563794e-02,   2.89158452e-04,  -1.09547328e+00,\n",
       "         1.40864912e+00,   3.06054457e-01,  -6.12803341e-01,\n",
       "        -4.62058295e-01,  -3.33276904e-02,   4.00497610e-01,\n",
       "         3.36174881e-01,   7.40477032e-02,  -4.17326051e-02,\n",
       "         1.31222692e-02,  -7.65978812e-08,  -2.72635884e-09,\n",
       "         1.11151317e+00,  -1.23320269e+00,   5.96935728e-01,\n",
       "         2.44925745e+00,   5.04401661e-01,   1.01962548e+00,\n",
       "         1.26443506e+00,  -1.27010691e-01,   2.21140725e-01,\n",
       "        -1.36584742e-01,   2.59440076e-03,   5.97483501e-04,\n",
       "        -1.80736846e-08,   1.21696527e+00,  -3.31511867e+00,\n",
       "        -2.33613473e+00,   1.81100740e+00,  -2.38881772e+00,\n",
       "        -1.52249843e-01,  -1.04876810e-01,  -3.46838807e-03,\n",
       "        -6.05648406e-04,  -8.41558996e-07,  -6.19483787e-10,\n",
       "         1.97962657e+00,  -5.14101477e+00,  -3.54203251e+00,\n",
       "        -2.26806314e+00,   1.64417527e-01,  -3.47133452e+00,\n",
       "        -2.44742412e+00,   6.19772727e-01,   2.13220821e-01,\n",
       "        -2.72514208e-01,   1.25184061e-01,  -3.20977701e-02,\n",
       "         4.33265046e-04,  -2.66461626e-04,   5.33604995e-05,\n",
       "         7.80517676e-07,  -5.77691759e-09,   5.58746754e-02,\n",
       "         6.98995084e-01,  -4.03006443e+00,  -6.43220423e+00,\n",
       "         2.67448742e+00,   3.01186467e+00,   6.52530753e+00,\n",
       "         2.58155087e+00,   1.91279974e+00,  -1.94821575e+00,\n",
       "        -2.53631123e+00,   6.40572823e+00,   3.20176846e+00,\n",
       "        -6.59607987e-01,  -1.18674442e-01,   2.54819268e-02,\n",
       "        -2.07996446e-03,  -8.58999088e-06,   9.76284889e-07,\n",
       "        -5.67157943e-02,  -1.98021916e+00,   1.21427882e+00,\n",
       "        -9.25059098e+00,  -5.79930380e+00,   3.68029728e+00,\n",
       "        -7.67986005e-01,   8.38545087e+00,   3.45691220e-01,\n",
       "        -3.12316933e-01,   8.82255422e-02,   1.18894066e-03,\n",
       "         1.67196390e-05,  -1.15429879e-01,  -1.09522147e+00,\n",
       "        -3.30633598e+00,   1.34714918e+01,   7.07817724e+00,\n",
       "        -2.08427044e+01,   1.21549864e+01,  -1.58426866e+01,\n",
       "         1.77233080e+01,  -1.09243036e+01,   3.39169660e+00,\n",
       "         2.97217008e-01,  -8.29253801e-01,  -1.45426827e-02,\n",
       "        -4.47701022e-03,  -3.49381808e-08,   1.12586720e-01,\n",
       "         3.70763783e-01,  -1.82586833e+00,   3.92360670e+00,\n",
       "         2.83477478e+00,  -1.08040431e+01,   1.70764190e+01,\n",
       "        -2.04475664e+01,   2.21496039e+01,   4.68571727e+01,\n",
       "         2.25257007e+01,  -2.43553437e+01,   1.39422251e+01,\n",
       "        -7.89482531e-01,   1.34564999e-01,   1.24350208e-02,\n",
       "        -2.76911409e-03,   2.03894256e-07,   2.08042997e-05,\n",
       "        -2.16881856e-04,   9.45469706e-03,   2.03569999e-01,\n",
       "        -3.77691861e-01,   3.08158981e-01,  -2.80328517e+00,\n",
       "         5.91942529e+00,   6.47356383e+00,   4.09633459e-01,\n",
       "        -1.29451179e+01,   2.97520738e+01,  -4.48824644e+01,\n",
       "        -7.14417517e+01,   4.81480810e+01,  -2.28501586e+01,\n",
       "         2.76470716e+01,  -1.68394022e+01,   3.21998699e-01,\n",
       "        -1.41989736e+00,   8.87150547e-01,  -3.16350787e-01,\n",
       "         5.09676828e-02,   6.58528218e-03,   1.70856071e-02,\n",
       "        -1.15499522e-01,  -4.21750239e+00,  -1.43135674e+01,\n",
       "         1.34186321e+01,   3.53002868e-01])"
      ]
     },
     "execution_count": 31,
     "metadata": {},
     "output_type": "execute_result"
    }
   ],
   "source": [
    "Vrobs"
   ]
  },
  {
   "cell_type": "code",
   "execution_count": 35,
   "metadata": {},
   "outputs": [
    {
     "data": {
      "text/plain": [
       "Text(0.5,1,'Signal recovery using 26.3% of observations')"
      ]
     },
     "execution_count": 35,
     "metadata": {},
     "output_type": "execute_result"
    },
    {
     "data": {
      "image/png": "[encoded data removed]",
      "text/plain": [
       "<matplotlib.figure.Figure at 0x7faf3c073908>"
      ]
     },
     "metadata": {},
     "output_type": "display_data"
    }
   ],
   "source": [
    "my_label_size = 20\n",
    "label_size = 20\n",
    "plt.rcParams['xtick.labelsize'] = label_size \n",
    "plt.rcParams['ytick.labelsize'] = label_size \n",
    "\n",
    "#plotear estimacion, observaciones y datos totales\n",
    "fig=plt.figure(3, figsize=(20,6))\n",
    "ax = plt.gca()\n",
    "plt.fill_between(t, y_model-2*std_dev, y_model+2*std_dev, facecolor='blue', alpha=0.2, label='95% CI')\n",
    "# plt.plot(t,img_fft.real.reshape(-1), color='black',ls='--',label='true signal')\n",
    "# plt.plot(mask_vect_index,Vrobs,'red',ms=15, linestyle='none', marker='.', label='observations')\n",
    "plt.plot(t,y_model,c='b',lw=4,label='posterior mean')\n",
    "\n",
    "leg=plt.legend(ncol=1,frameon=True, shadow=True, loc=4, fontsize=my_label_size)\n",
    "frame  = leg.get_frame()\n",
    "frame.set_facecolor('0.95')\n",
    "plt.xlabel('time [sample]', fontsize=my_label_size)\n",
    "plt.title('Signal recovery using {}% of observations'.format(26.3), fontsize=my_label_size)\n",
    "# plt.xlim([0,1800])"
   ]
  },
  {
   "cell_type": "code",
   "execution_count": null,
   "metadata": {
    "collapsed": true
   },
   "outputs": [],
   "source": []
  },
  {
   "cell_type": "code",
   "execution_count": null,
   "metadata": {},
   "outputs": [],
   "source": [
    "(np.where(mask)[1] == (mask_vect_index % IMAGE_SIZE_X)).all()"
   ]
  },
  {
   "cell_type": "code",
   "execution_count": null,
   "metadata": {},
   "outputs": [],
   "source": [
    "(np.where(mask)[0] == (np.floor(mask_vect_index/IMAGE_SIZE_X))).all()"
   ]
  },
  {
   "cell_type": "code",
   "execution_count": null,
   "metadata": {
    "collapsed": true
   },
   "outputs": [],
   "source": []
  }
 ],
 "metadata": {
  "kernelspec": {
   "display_name": "Python 3",
   "language": "python",
   "name": "python3"
  },
  "language_info": {
   "codemirror_mode": {
    "name": "ipython",
    "version": 3
   },
   "file_extension": ".py",
   "mimetype": "text/x-python",
   "name": "python",
   "nbconvert_exporter": "python",
   "pygments_lexer": "ipython3",
   "version": "3.6.3"
  }
 },
 "nbformat": 4,
 "nbformat_minor": 2
}
