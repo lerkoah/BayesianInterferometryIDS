{
 "cells": [
  {
   "cell_type": "code",
   "execution_count": 1,
   "metadata": {
    "collapsed": true
   },
   "outputs": [],
   "source": [
    "import numpy as np\n",
    "import scipy.io as sio\n",
    "\n",
    "import matplotlib.pyplot as plt\n",
    "# from modelfunctions import *\n",
    "%matplotlib inline"
   ]
  },
  {
   "cell_type": "markdown",
   "metadata": {},
   "source": [
    "# Obtaining Data"
   ]
  },
  {
   "cell_type": "code",
   "execution_count": 2,
   "metadata": {
    "collapsed": true
   },
   "outputs": [],
   "source": [
    "control = 0 # 0: sinthetic; 1: real\n",
    "mycmap = 'seismic'\n",
    "np.random.seed(51)"
   ]
  },
  {
   "cell_type": "code",
   "execution_count": 3,
   "metadata": {
    "collapsed": true
   },
   "outputs": [],
   "source": [
    "def show_fft_image(img_fft, shift = True, save = False , name = 'my_name.png'):\n",
    "    \n",
    "    img_fftabs = img_fft\n",
    "    if type(img_fft[0,0]) == np.complex128:\n",
    "        img_fftabs = np.abs(img_fft)\n",
    "    \n",
    "    if shift:\n",
    "        img_fftabs = np.fft.fftshift(img_fftabs)\n",
    "    plt.imshow(img_fftabs, cmap=mycmap)\n",
    "    plt.grid('off')\n",
    "    \n",
    "    if save:\n",
    "        plt.savefig(name, format= 'png')"
   ]
  },
  {
   "cell_type": "code",
   "execution_count": 4,
   "metadata": {
    "collapsed": true
   },
   "outputs": [],
   "source": [
    "def phi(U,a,b,c,e,f):\n",
    "    try:\n",
    "        u = U[:,0]\n",
    "        v = U[:,1]\n",
    "    except IndexError:\n",
    "        u = U[0]\n",
    "        v = U[1]\n",
    "    return np.exp(2*np.pi**2*(a*v**2 + b*u**2 - c*u*v)/(4.*a*b-c**2) -2*np.pi*1j*(f*v+e*u))\n",
    "\n",
    "def psi(x,y, a, b, c, e, f):\n",
    "    invSigma = np.array([[-2.0*a,-c],[-c, -2.0*b]]).reshape(2,2)\n",
    "#     print(invSigma)\n",
    "    \n",
    "    if not isinstance(x,np.ndarray):\n",
    "        xx = np.array([x-e,y-f])\n",
    "    else:\n",
    "        xx = np.stack([x-e,y-f], axis = 1).T\n",
    "    \n",
    "    return np.exp(-xx.T.dot(invSigma).dot(xx))"
   ]
  },
  {
   "cell_type": "code",
   "execution_count": 5,
   "metadata": {},
   "outputs": [
    {
     "data": {
      "image/png": "[encoded data removed]",
      "text/plain": [
       "<matplotlib.figure.Figure at 0x7f73f81888d0>"
      ]
     },
     "metadata": {},
     "output_type": "display_data"
    }
   ],
   "source": [
    "if control:\n",
    "    path = '/home/lerko/Dataset_ALMA'\n",
    "    fileName = 'Dataset_ALMA_11_07_17.mat'\n",
    "    fullPath = path +'/' + fileName\n",
    "    data = sio.loadmat(fullPath)\n",
    "    imageName = 'name_HLTau'\n",
    "    img = data['Dataset'][imageName][0,0]['size_128x128'][0,0]\n",
    "    IMAGE_SIZE_X, IMAGE_SIZE_Y = img.shape\n",
    "    x = np.arange(IMAGE_SIZE_X)\n",
    "    y = np.arange(IMAGE_SIZE_Y)\n",
    "    \n",
    "    print(data['Dataset'].dtype)\n",
    "elif not control:\n",
    "    x = np.arange(50)\n",
    "    y = np.arange(50)\n",
    "    \n",
    "    s1 = np.array([20,10])\n",
    "    s2 = np.array([20,10])\n",
    "    s12 = np.array([10,-5])\n",
    "\n",
    "    a = -0.5*s2/(s1*s2-s12**2)\n",
    "    b = -0.5*s1/(s1*s2-s12**2)\n",
    "    c = s12/(s1*s2-s12**2)\n",
    "#     invSigma = np.array([[-2.*a,-c],[-c, -2.*b]])\n",
    "#     print(np.linalg.inv(invSigma))\n",
    "\n",
    "    e = np.array([50,40])/2\n",
    "    f = np.array([40,60])/2\n",
    "    numberOfBasis = e.shape[0]\n",
    "    img = np.zeros((x.shape[0],y.shape[0]))\n",
    "\n",
    "    for i in range(x.shape[0]):\n",
    "        for j in range(y.shape[0]):\n",
    "            for k in range(numberOfBasis):\n",
    "                img[i,j] = img[i,j] + psi(x[i],y[j],a[k],b[k],c[k],e[k],f[k])\n",
    "    IMAGE_SIZE_X, IMAGE_SIZE_Y = img.shape\n",
    "\n",
    "plt.imshow(0.00058*img/np.max(img), cmap=mycmap)\n",
    "plt.colorbar()\n",
    "plt.tight_layout()\n",
    "# plt.savefig('{}.png'.format(imageName), format='png')"
   ]
  },
  {
   "cell_type": "code",
   "execution_count": 6,
   "metadata": {},
   "outputs": [
    {
     "data": {
      "text/plain": [
       "<matplotlib.colorbar.Colorbar at 0x7f73f8420ef0>"
      ]
     },
     "execution_count": 6,
     "metadata": {},
     "output_type": "execute_result"
    },
    {
     "data": {
      "image/png": "[encoded data removed]",
      "text/plain": [
       "<matplotlib.figure.Figure at 0x7f73f81824e0>"
      ]
     },
     "metadata": {},
     "output_type": "display_data"
    }
   ],
   "source": [
    "# Calculate the spectrum\n",
    "img_fft= np.fft.fft2(img)\n",
    "FTgshift = np.fft.fftshift(img_fft)\n",
    "\n",
    "plt.imshow(np.log(np.abs(FTgshift)), cmap=mycmap)\n",
    "plt.colorbar()"
   ]
  },
  {
   "cell_type": "markdown",
   "metadata": {},
   "source": [
    "## Creating sampling mask"
   ]
  },
  {
   "cell_type": "markdown",
   "metadata": {},
   "source": [
    "For creating the sampling mask, we have made a u,v representations based on the antennas disposition. This is because, if the antennas disposition is random, the measures are not completely random. The Measurements positions are defined by the interferometry physics."
   ]
  },
  {
   "cell_type": "code",
   "execution_count": 7,
   "metadata": {},
   "outputs": [
    {
     "data": {
      "image/png": "[encoded data removed]",
      "text/plain": [
       "<matplotlib.figure.Figure at 0x7f73f5eec4a8>"
      ]
     },
     "metadata": {},
     "output_type": "display_data"
    }
   ],
   "source": [
    "from masking import *\n",
    "\n",
    "## Parameters\n",
    "B_max = 1\n",
    "antennas = 30\n",
    "typeArray = 'URA'\n",
    "sigma = B_max/6.0\n",
    "\n",
    "lambda_phy=3*10**(-6); #(km)\n",
    "H0=10; #(deg)\n",
    "delta0=-30; #(deg)\n",
    "Lat=34.05;  #(deg) Lat VLA\n",
    "\n",
    "## Masking function returns the mask\n",
    "mask = createSpectrumMasking(B_max,antennas,typeArray,sigma, lambda_phy, H0, delta0, Lat, N1 = IMAGE_SIZE_X, N2 = IMAGE_SIZE_Y)\n",
    "show_fft_image(mask)"
   ]
  },
  {
   "cell_type": "markdown",
   "metadata": {},
   "source": [
    "## Sampling"
   ]
  },
  {
   "cell_type": "markdown",
   "metadata": {},
   "source": [
    "Variable measurements are the 2D representation for the measurements. U are the positions in the u,v spaces, i.e., U[0] = u, U[1] = v. Finally, V is the visibility function."
   ]
  },
  {
   "cell_type": "code",
   "execution_count": 8,
   "metadata": {},
   "outputs": [
    {
     "name": "stdout",
     "output_type": "stream",
     "text": [
      "Percentage of measurements: 26.36\n"
     ]
    },
    {
     "data": {
      "image/png": "[encoded data removed]",
      "text/plain": [
       "<matplotlib.figure.Figure at 0x7f73f5fdd358>"
      ]
     },
     "metadata": {},
     "output_type": "display_data"
    }
   ],
   "source": [
    "measurements,Uobs,Vobs = UVCreator(img_fft,mask)\n",
    "\n",
    "measurements_abs = np.log(np.abs(measurements)+1e-12)\n",
    "show_fft_image(measurements_abs)\n",
    "\n",
    "percent = 100*Uobs.shape[0]/(measurements.shape[0]*measurements.shape[1]) \n",
    "print('Percentage of measurements: %s' % percent)"
   ]
  },
  {
   "cell_type": "code",
   "execution_count": 9,
   "metadata": {},
   "outputs": [
    {
     "name": "stdout",
     "output_type": "stream",
     "text": [
      "Getting indexes (u,v)->i..done.\n"
     ]
    }
   ],
   "source": [
    "print('Getting indexes (u,v)->i..', end='')\n",
    "mask_vect = mask.reshape(-1)\n",
    "mask_vect_index = np.where(mask_vect == 1)[0]\n",
    "mask_vect_index2 = np.concatenate([mask_vect_index, mask_vect_index])\n",
    "print('done.')"
   ]
  },
  {
   "cell_type": "code",
   "execution_count": 10,
   "metadata": {},
   "outputs": [
    {
     "name": "stdout",
     "output_type": "stream",
     "text": [
      "H shape: (2500, 659)\n",
      "Check sanity: True\n"
     ]
    }
   ],
   "source": [
    "# Sampling Matrix\n",
    "\n",
    "H = np.zeros((mask_vect_index.shape[0], IMAGE_SIZE_X*IMAGE_SIZE_Y))\n",
    "# print(mask_vect)\n",
    "\n",
    "p = 0\n",
    "for q in range(H.shape[1]):\n",
    "    if mask_vect[q] == 1:\n",
    "        H[p,q] = 1\n",
    "        p += 1\n",
    "#         print(p,q)\n",
    "# print(H)\n",
    "H = H.T\n",
    "print('H shape: {}'.format(H.shape))\n",
    "print('Check sanity: {}'.format((np.matmul(H.T,np.arange(2500)) - mask_vect_index).sum() == 0))"
   ]
  },
  {
   "cell_type": "markdown",
   "metadata": {},
   "source": [
    "# Model"
   ]
  },
  {
   "cell_type": "markdown",
   "metadata": {},
   "source": [
    "### Fourier Matrix"
   ]
  },
  {
   "cell_type": "code",
   "execution_count": 11,
   "metadata": {},
   "outputs": [
    {
     "name": "stdout",
     "output_type": "stream",
     "text": [
      "Krockener product shape: (2500, 2500)\n"
     ]
    }
   ],
   "source": [
    "import numpy as np\n",
    "def DFT_matrix(N):\n",
    "    i, j = np.meshgrid(np.arange(N), np.arange(N))\n",
    "    omega = np.exp( -2 * np.pi * 1J / N )\n",
    "    W = np.power( omega, i * j ) / np.sqrt(N)\n",
    "    return W\n",
    "\n",
    "Wizq = DFT_matrix(IMAGE_SIZE_X)\n",
    "Wder = DFT_matrix(IMAGE_SIZE_Y)\n",
    "W = np.kron(Wder.T,Wizq).T\n",
    "print('Krockener product shape: {}'.format(W.shape))"
   ]
  },
  {
   "cell_type": "code",
   "execution_count": 12,
   "metadata": {
    "collapsed": true
   },
   "outputs": [],
   "source": [
    "# plt.imshow(Kron.real)\n",
    "# plt.colorbar()"
   ]
  },
  {
   "cell_type": "code",
   "execution_count": 13,
   "metadata": {
    "collapsed": true
   },
   "outputs": [],
   "source": [
    "# plt.imshow(W.real*W.real.T)\n",
    "# plt.colorbar()"
   ]
  },
  {
   "cell_type": "code",
   "execution_count": 14,
   "metadata": {
    "collapsed": true
   },
   "outputs": [],
   "source": [
    "# plt.imshow(Kron.imag)\n",
    "# plt.colorbar()"
   ]
  },
  {
   "cell_type": "code",
   "execution_count": 15,
   "metadata": {
    "collapsed": true
   },
   "outputs": [],
   "source": [
    "# plt.imshow(np.abs(Kron))\n",
    "# plt.colorbar()"
   ]
  },
  {
   "cell_type": "code",
   "execution_count": 16,
   "metadata": {},
   "outputs": [
    {
     "name": "stdout",
     "output_type": "stream",
     "text": [
      "Separanting real and imaginary part...done.\n"
     ]
    }
   ],
   "source": [
    "print('Separanting real and imaginary part...', end='')\n",
    "Vrobs = Vobs[:,0]\n",
    "Viobs = Vobs[:,1]\n",
    "Vobs_concat = Vobs.reshape(-1, order='F')\n",
    "print('done.')"
   ]
  },
  {
   "cell_type": "code",
   "execution_count": 17,
   "metadata": {},
   "outputs": [
    {
     "name": "stdout",
     "output_type": "stream",
     "text": [
      "C shape: (2500, 5000)\n",
      "V concat shape: (5000, 1)\n"
     ]
    }
   ],
   "source": [
    "C = np.concatenate([np.eye(W.shape[0]), 1j*np.eye(W.shape[0])], axis=1)\n",
    "print('C shape: {}'.format(C.shape))\n",
    "V_concat = np.concatenate([img_fft.real.reshape(-1), img_fft.imag.reshape(-1)])[:,np.newaxis]\n",
    "print('V concat shape: {}'.format(V_concat.shape))\n",
    "W_new = np.matmul(W,C).real\n",
    "I_concat = np.matmul(W_new,V_concat)"
   ]
  },
  {
   "cell_type": "code",
   "execution_count": 18,
   "metadata": {},
   "outputs": [
    {
     "data": {
      "text/plain": [
       "<matplotlib.image.AxesImage at 0x7f73d7425320>"
      ]
     },
     "execution_count": 18,
     "metadata": {},
     "output_type": "execute_result"
    },
    {
     "data": {
      "image/png": "[encoded data removed]",
      "text/plain": [
       "<matplotlib.figure.Figure at 0x7f73f5e77240>"
      ]
     },
     "metadata": {},
     "output_type": "display_data"
    }
   ],
   "source": [
    "plt.imshow(I_concat.reshape(IMAGE_SIZE_Y, IMAGE_SIZE_X))"
   ]
  },
  {
   "cell_type": "code",
   "execution_count": 19,
   "metadata": {},
   "outputs": [
    {
     "data": {
      "text/plain": [
       "<matplotlib.image.AxesImage at 0x7f73d73b2eb8>"
      ]
     },
     "execution_count": 19,
     "metadata": {},
     "output_type": "execute_result"
    },
    {
     "data": {
      "image/png": "[encoded data removed]",
      "text/plain": [
       "<matplotlib.figure.Figure at 0x7f73f5dd60f0>"
      ]
     },
     "metadata": {},
     "output_type": "display_data"
    }
   ],
   "source": [
    "I = np.matmul(W,img_fft.reshape(-1))\n",
    "plt.imshow(I.real.reshape(IMAGE_SIZE_Y, IMAGE_SIZE_X))"
   ]
  },
  {
   "cell_type": "markdown",
   "metadata": {},
   "source": [
    "## Kernels"
   ]
  },
  {
   "cell_type": "code",
   "execution_count": 20,
   "metadata": {
    "collapsed": true
   },
   "outputs": [],
   "source": [
    "import scipy as sp"
   ]
  },
  {
   "cell_type": "code",
   "execution_count": 21,
   "metadata": {
    "collapsed": true
   },
   "outputs": [],
   "source": [
    "sigma = 1\n",
    "gamma = 1./2"
   ]
  },
  {
   "cell_type": "code",
   "execution_count": 22,
   "metadata": {
    "collapsed": true
   },
   "outputs": [],
   "source": [
    "def kernel(i,j, sigma=sigma, gamma=gamma):\n",
    "    return sigma**2*np.exp(-gamma*(i-j)**2)\n",
    "\n",
    "def kernel_handler(x):\n",
    "    return kernel()\n",
    "\n",
    "def covImagReal(i,j, W=W):\n",
    "    out = 0\n",
    "    for k in range(W.shape[0]):\n",
    "        for l in range(W.shape[1]):\n",
    "            out += W[k,i] * kernel(k,l) * W[l,j]"
   ]
  },
  {
   "cell_type": "code",
   "execution_count": 23,
   "metadata": {
    "collapsed": true
   },
   "outputs": [],
   "source": [
    "# \"suma\" externa\n",
    "def outersum(a,b):\n",
    "    return np.outer(a,np.ones_like(b))+np.outer(np.ones_like(a),b)"
   ]
  },
  {
   "cell_type": "code",
   "execution_count": 24,
   "metadata": {
    "collapsed": true
   },
   "outputs": [],
   "source": [
    "def SE(a,b,gamma=1./2,sigma=1): \n",
    "    #Square Exponential kernel\n",
    "\n",
    "    #returns the evaluation of the kernel\n",
    "    #k(a,b)=sigma**2*exp(-gamma*(a-b)**2), \n",
    "    #notice that in this definition gamma = 1 /(2*lengthscale**2), in order to simplify the derivatives\n",
    "    #for consistency with the generation of Gram matrices, this function returns\n",
    "    #a matrix of dimensions dim(a) x dim(b);  \n",
    "\n",
    "    #INPUTS\n",
    "    #a,b are column vectors of (possibly) different lenghts\n",
    "    u1 = a % IMAGE_SIZE_X\n",
    "    u2 = b % IMAGE_SIZE_X\n",
    "    \n",
    "    v1 = np.floor(a/IMAGE_SIZE_X)\n",
    "    v2 = np.floor(b/IMAGE_SIZE_X)\n",
    "    \n",
    "    sa=np.size(a); sb=np.size(b)\n",
    "\n",
    "    if sa==1: a=np.array([a])\n",
    "    if sb==1: b=np.array([b])\n",
    "    K=np.zeros([sa,sb])\n",
    "    #accelerate computation if a==b\n",
    "    if np.array_equal(a,b):\n",
    "        for va in range(sa):\n",
    "            K[va,va]=1;\n",
    "            for vb in range(va+1,sb):\n",
    "                K[va,vb]=np.exp(-((u1[va] - u2[vb])**2 + (v1[va] - v2[vb])**2)*gamma)\n",
    "                K[vb,va]=K[va,vb]\n",
    "    #a!=b\n",
    "    else:\n",
    "        for va in range(sa):\n",
    "            for vb in range(sb):\n",
    "                K[va,vb]=np.exp(-((u1[va] - u2[vb])**2 + (v1[va] - v2[vb])**2)*gamma)\n",
    "    if sa==1:\n",
    "        return sigma**2*np.reshape(K,b.shape)\n",
    "    elif sb==1:\n",
    "        return sigma**2*np.reshape(K,a.shape)\n",
    "    else:\n",
    "        return sigma**2*K\n"
   ]
  },
  {
   "cell_type": "code",
   "execution_count": 25,
   "metadata": {
    "collapsed": true
   },
   "outputs": [],
   "source": [
    "samplingW = np.matmul(W.real,H)\n",
    "\n",
    "#negative log-likelihood when using SE kernel\n",
    "def like_covImagenReal(X, y, t): \n",
    "    #entrenamiento con respecto al logaritmo de los hyperparámetros, para no imponer restricciones de positividad\n",
    "    sigma_noise, gamma_1, sig_1 = np.exp(X)\n",
    "#     print('sigma noise: {}\\ngamma: {}\\nsigma: {}'.format(sigma_noise, gamma_1, sig_1))\n",
    "#     print('------------')\n",
    "    \n",
    "    K = SE(t,t,gamma=gamma_1,sigma=sig_1)\n",
    "    \n",
    "#     Gram= np.matmul(np.matmul(samplingW.T,K),samplingW)+sigma_noise**2*np.identity(len(t))\n",
    "    Gram = K+sigma_noise**2*np.identity(len(t))\n",
    "    cGg=np.linalg.cholesky(Gram)\n",
    "    invGram=np.dot(np.linalg.inv(cGg.T),np.linalg.inv(cGg))\n",
    "    \n",
    "    nll=np.dot(y,np.dot(invGram,y)) + 2*np.sum(np.log(np.diag(cGg)))\n",
    "    return 0.5*nll+0.5*len(y)*np.log(2*np.pi)\n",
    "\n",
    "#derivative of negative log-likelihood when using SE kernel\n",
    "def like_covImagenReal_Df(X, y, t, samplingW=samplingW, H=H):\n",
    "    sigma_noise, gamma_1, sig_1 = np.exp(X)\n",
    "    \n",
    "#     W = np.identity(IMAGE_SIZE_X*IMAGE_SIZE_Y)\n",
    "#     samplingW = np.matmul(W.real,H)\n",
    "    \n",
    "    Gram0 = SE(t,t,gamma=gamma_1,sigma=sig_1)\n",
    "#     Gram = np.matmul(samplingW.T,np.matmul(Gram0, samplingW))+sigma_noise**2*np.identity(len(t))\n",
    "    Gram = Gram0+sigma_noise**2*np.identity(len(t))\n",
    "    cGg=np.linalg.cholesky(Gram)\n",
    "    invGram=np.dot(np.linalg.inv(cGg.T),np.linalg.inv(cGg))\n",
    "    \n",
    "    A=np.dot(invGram,y)\n",
    "    \n",
    "    \n",
    "    u_tmp = t % IMAGE_SIZE_X\n",
    "    v_tmp = np.floor(t/IMAGE_SIZE_X)\n",
    "    \n",
    "    outer_u=outersum(u_tmp,-u_tmp)\n",
    "    outer_v=outersum(v_tmp,-v_tmp)\n",
    "    outer_dist = outer_u**2 + outer_v**2\n",
    "#     print(outer_sub)\n",
    "\n",
    "    \n",
    "#     D1 = 2*sigma_noise**2*np.identity(len(t)) #sigma_noise\n",
    "#     D2 = -Gram0*outer_dist*gamma_1 #gamma_1\n",
    "#     D2 = np.matmul(samplingW.T, np.matmul(D2,samplingW))\n",
    "#     D3 = np.matmul(samplingW.T, np.matmul(2*Gram0,samplingW)) #sig_1 \n",
    "\n",
    "    D1 = 2*sigma_noise**2*np.identity(len(t)) #sigma_noise\n",
    "    D2 = -Gram0*outer_dist*gamma_1 #gamma_1\n",
    "    D3 = 2*Gram0 #sig_1 \n",
    "\n",
    "    B=np.outer(A,A)-invGram\n",
    "    d1=  -np.trace(np.dot(B,D1))\n",
    "    d2=  -np.trace(np.dot(B,D2))\n",
    "    d3=  -np.trace(np.dot(B,D3))\n",
    "\n",
    "    print('- Paremeters:\\n  - sigma noise: {},\\n  - gamma: {},\\n  - sigma: {}'.format(sigma_noise, gamma_1, sig_1))\n",
    "    print('  - Derivatives: {}, {}, {}'.format(d1, d2, d3))\n",
    "    return np.asarray([0.5*d1, 0.5*d2, 0.5*d3])"
   ]
  },
  {
   "cell_type": "code",
   "execution_count": 26,
   "metadata": {},
   "outputs": [
    {
     "name": "stdout",
     "output_type": "stream",
     "text": [
      "Condicion inicial optimizador:  [1.e-06 1.e-01 1.e+00]\n",
      "- Paremeters:\n",
      "  - sigma noise: 1.0000000000000004e-06,\n",
      "  - gamma: 0.10000000000000002,\n",
      "  - sigma: 1.0\n",
      "  - Derivatives: -25030.745906663447, -71266062968.9367, -14745402922.051876\n",
      "- Paremeters:\n",
      "  - sigma noise: 1.000000343944568e-06,\n",
      "  - gamma: 0.26624813077400894,\n",
      "  - sigma: 1.22460069911719\n",
      "  - Derivatives: -0.0028636447335595736, -19896398.001406714, -7771885.287179302\n",
      "- Paremeters:\n",
      "  - sigma noise: 1.0000003439445788e-06,\n",
      "  - gamma: 0.2663209523157218,\n",
      "  - sigma: 1.2247315398720298\n",
      "  - Derivatives: -0.0028536386090168868, -19860060.15596518, -7759352.733868281\n",
      "- Paremeters:\n",
      "  - sigma noise: 1.0000003439446213e-06,\n",
      "  - gamma: 0.266612437711298,\n",
      "  - sigma: 1.2252550427013063\n",
      "  - Derivatives: -0.002813979307359765, -19715426.089167114, -7709447.388529621\n",
      "- Paremeters:\n",
      "  - sigma noise: 1.0000003439447918e-06,\n",
      "  - gamma: 0.26778157306329625,\n",
      "  - sigma: 1.2273512926508914\n",
      "  - Derivatives: -0.002661031532320191, -19148198.531417187, -7513375.058877641\n",
      "- Paremeters:\n",
      "  - sigma noise: 1.000000343945474e-06,\n",
      "  - gamma: 0.27250960811497055,\n",
      "  - sigma: 1.235772217935254\n",
      "  - Derivatives: -0.0021312142477762476, -17049949.3766587, -6782879.831130559\n",
      "- Paremeters:\n",
      "  - sigma noise: 1.000000344318582e-06,\n",
      "  - gamma: 0.31330525008951454,\n",
      "  - sigma: 1.3141723086197954\n",
      "  - Derivatives: -0.0003844223926704695, -6935335.187063182, -3088790.443769589\n",
      "- Paremeters:\n",
      "  - sigma noise: 1.0000003449953367e-06,\n",
      "  - gamma: 0.34491003191441294,\n",
      "  - sigma: 1.3818229401095272\n",
      "  - Derivatives: -0.00012456523355647606, -3820777.5390476957, -1845219.8948759423\n",
      "- Paremeters:\n",
      "  - sigma noise: 1.0000003463967923e-06,\n",
      "  - gamma: 0.3883942327207368,\n",
      "  - sigma: 1.4855457146994369\n",
      "  - Derivatives: -3.2460813364032455e-05, -1866770.91664749, -1000353.3528991928\n",
      "- Paremeters:\n",
      "  - sigma noise: 1.000000348451686e-06,\n",
      "  - gamma: 0.43561251904023873,\n",
      "  - sigma: 1.6136261266482281\n",
      "  - Derivatives: -9.182574486077824e-06, -947937.352898167, -564279.8801783249\n",
      "- Paremeters:\n",
      "  - sigma noise: 1.0000003515000026e-06,\n",
      "  - gamma: 0.4912981614368834,\n",
      "  - sigma: 1.7885939832190685\n",
      "  - Derivatives: -2.4981489776000262e-06, -468653.3365747523, -313174.797865179\n",
      "- Paremeters:\n",
      "  - sigma noise: 1.000000355672009e-06,\n",
      "  - gamma: 0.5540955501499539,\n",
      "  - sigma: 2.023346474352548\n",
      "  - Derivatives: -6.818821725024088e-07, -230617.46773114344, -173978.53616005532\n",
      "- Paremeters:\n",
      "  - sigma noise: 1.0000003612340613e-06,\n",
      "  - gamma: 0.6246845651155057,\n",
      "  - sigma: 2.3469685678368366\n",
      "  - Derivatives: -1.829930209564918e-07, -111677.23695190904, -95522.8499001294\n",
      "- Paremeters:\n",
      "  - sigma noise: 1.0000003683346276e-06,\n",
      "  - gamma: 0.7018015960461964,\n",
      "  - sigma: 2.7954332186297783\n",
      "  - Derivatives: -4.8564002572100675e-08, -53420.667205717065, -51706.07659649904\n",
      "- Paremeters:\n",
      "  - sigma noise: 1.0000003770319547e-06,\n",
      "  - gamma: 0.7837503817132978,\n",
      "  - sigma: 3.4192337445182965\n",
      "  - Derivatives: -1.2739228393749101e-08, -25284.655016856108, -27403.141330220904\n",
      "- Paremeters:\n",
      "  - sigma noise: 1.000000385878414e-06,\n",
      "  - gamma: 0.86772858009547,\n",
      "  - sigma: 4.278488331558045\n",
      "  - Derivatives: -3.3302046278728423e-09, -11935.080988087568, -14143.548975410788\n",
      "- Paremeters:\n",
      "  - sigma noise: 1.0000003946423704e-06,\n",
      "  - gamma: 0.9516355159020774,\n",
      "  - sigma: 5.427178923624144\n",
      "  - Derivatives: -8.795875036307678e-10, -5681.111940108674, -7052.797042861982\n",
      "- Paremeters:\n",
      "  - sigma noise: 1.0000004030543383e-06,\n",
      "  - gamma: 1.0351538681944594,\n",
      "  - sigma: 6.8738450780859015\n",
      "  - Derivatives: -2.403748743577141e-10, -2773.71438976, -3342.1749133967005\n",
      "- Paremeters:\n",
      "  - sigma noise: 1.0000004108000086e-06,\n",
      "  - gamma: 1.1216144911733277,\n",
      "  - sigma: 8.504473069970484\n",
      "  - Derivatives: -7.045935082131877e-11, -1426.2743192417765, -1443.0392445514776\n",
      "- Paremeters:\n",
      "  - sigma noise: 1.0000004175288015e-06,\n",
      "  - gamma: 1.2200165538459156,\n",
      "  - sigma: 10.003331045302927\n",
      "  - Derivatives: -2.326772952259527e-11, -804.5645947909451, -500.7092838989459\n",
      "- Paremeters:\n",
      "  - sigma noise: 1.0000004230987394e-06,\n",
      "  - gamma: 1.349179617989741,\n",
      "  - sigma: 10.963573308157706\n",
      "  - Derivatives: -8.86763055067341e-12, -515.5101363971976, -52.77157919241648\n",
      "- Paremeters:\n",
      "  - sigma noise: 1.0000004285929513e-06,\n",
      "  - gamma: 1.5740411529548164,\n",
      "  - sigma: 11.265183209934516\n",
      "  - Derivatives: -2.9570035466088843e-12, -352.38885351717465, 178.47072861141118\n",
      "- Paremeters:\n",
      "  - sigma noise: 1.0000004384624227e-06,\n",
      "  - gamma: 2.3300125194143306,\n",
      "  - sigma: 10.580334212584507\n",
      "  - Derivatives: 9.90295027656961e-13, -196.71384664965382, 294.346993881932\n",
      "- Paremeters:\n",
      "  - sigma noise: 1.0000004525212098e-06,\n",
      "  - gamma: 5.423884426931614,\n",
      "  - sigma: 7.760365775023295\n",
      "  - Derivatives: -5.080515505066281e-12, -32.030945944169076, -294.1159343468499\n",
      "- Paremeters:\n",
      "  - sigma noise: 1.0000004535003896e-06,\n",
      "  - gamma: 4.981543306360597,\n",
      "  - sigma: 8.449889056933582\n",
      "  - Derivatives: -8.821035614733987e-13, -38.78611111276996, -47.33240621905111\n",
      "- Paremeters:\n",
      "  - sigma noise: 1.0000004558863133e-06,\n",
      "  - gamma: 5.33116040761798,\n",
      "  - sigma: 8.490653412222729\n",
      "  - Derivatives: -5.625016267769518e-13, -28.859712092219993, -29.68629329298693\n",
      "- Paremeters:\n",
      "  - sigma noise: 1.0000004625948682e-06,\n",
      "  - gamma: 6.509603067711742,\n",
      "  - sigma: 8.54762265059386\n",
      "  - Derivatives: -1.0480123490687726e-13, -10.628786886467523, -4.387859776232233\n",
      "- Paremeters:\n",
      "  - sigma noise: 1.0000004663992153e-06,\n",
      "  - gamma: 7.320981265941496,\n",
      "  - sigma: 8.551171402420785\n",
      "  - Derivatives: -3.999397520233289e-14, -5.297224383762684, -1.476628139269394\n",
      "- Paremeters:\n",
      "  - sigma noise: 1.0000004701698612e-06,\n",
      "  - gamma: 8.228559119407818,\n",
      "  - sigma: 8.550509907142528\n",
      "  - Derivatives: -1.9163086547293777e-14, -2.400908438716181, -0.8173673267541801\n",
      "- Paremeters:\n",
      "  - sigma noise: 1.0000004732969063e-06,\n",
      "  - gamma: 9.065339262337872,\n",
      "  - sigma: 8.55079711007938\n",
      "  - Derivatives: -8.898659096575596e-15, -1.1451650305972902, -0.3979668090496489\n",
      "- Paremeters:\n",
      "  - sigma noise: 1.000000476149012e-06,\n",
      "  - gamma: 9.902387003710462,\n",
      "  - sigma: 8.551110161980512\n",
      "  - Derivatives: -3.659185085093399e-15, -0.5415153616023016, -0.15819015088990795\n",
      "- Paremeters:\n",
      "  - sigma noise: 1.0000004786973125e-06,\n",
      "  - gamma: 10.718929163675883,\n",
      "  - sigma: 8.551134329818517\n",
      "  - Derivatives: -1.8878144934306103e-15, -0.2590455711526059, -0.08970544626396304\n",
      "- Paremeters:\n",
      "  - sigma noise: 1.0000004810568163e-06,\n",
      "  - gamma: 11.526712381398328,\n",
      "  - sigma: 8.551476668320214\n",
      "  - Derivatives: 2.8800141671628255e-16, -0.12418500803525076, 0.04260837254068406\n",
      "- Paremeters:\n",
      "  - sigma noise: 1.0000004830372776e-06,\n",
      "  - gamma: 12.327887818089835,\n",
      "  - sigma: 8.548818437831693\n",
      "  - Derivatives: -1.0603690477351073e-14, -0.05964467936930418, -0.7652648911306414\n",
      "- Paremeters:\n",
      "  - sigma noise: 1.0000004849061408e-06,\n",
      "  - gamma: 13.107715490579503,\n",
      "  - sigma: 8.55081544883738\n",
      "  - Derivatives: -2.0316700231425356e-15, -0.02906231825306508, -0.14411395515145387\n",
      "- Paremeters:\n",
      "  - sigma noise: 1.0000004874424724e-06,\n",
      "  - gamma: 14.236537119641874,\n",
      "  - sigma: 8.541044749177455\n",
      "  - Derivatives: -4.331913975320623e-14, -0.01023195227651117, -3.1586667176006813\n",
      "- Paremeters:\n",
      "  - sigma noise: 1.000000485951078e-06,\n",
      "  - gamma: 13.561509751934386,\n",
      "  - sigma: 8.546788686536084\n",
      "  - Derivatives: -1.8996898214156284e-14, -0.019117867422649988, -1.384856980324514\n",
      "- Paremeters:\n",
      "  - sigma noise: 1.0000004875346264e-06,\n",
      "  - gamma: 14.279650629433158,\n",
      "  - sigma: 8.550335428566173\n",
      "  - Derivatives: -3.972653064294969e-15, -0.00980851880551572, -0.2890595979771433\n",
      "- Paremeters:\n",
      "  - sigma noise: 1.0000004890909609e-06,\n",
      "  - gamma: 15.02241400760749,\n",
      "  - sigma: 8.551537073722612\n",
      "  - Derivatives: 1.1140305076270965e-15, -0.004908233261907499, 0.08212107406706082\n",
      "- Paremeters:\n",
      "  - sigma noise: 1.0000004905777792e-06,\n",
      "  - gamma: 15.76801853156198,\n",
      "  - sigma: 8.551536473781308\n",
      "  - Derivatives: 1.1208943226188186e-15, -0.0024442779232111576, 0.08227957932911067\n",
      "- Paremeters:\n",
      "  - sigma noise: 1.0000004920462711e-06,\n",
      "  - gamma: 16.544294444969758,\n",
      "  - sigma: 8.551314996188337\n",
      "  - Derivatives: 1.9194197176396808e-16, -0.0011800809487409946, 0.014178397757973471\n",
      "- Paremeters:\n",
      "  - sigma noise: 1.0000004934113257e-06,\n",
      "  - gamma: 17.30009045017145,\n",
      "  - sigma: 8.55123880375929\n",
      "  - Derivatives: -1.2717951609989527e-16, -0.0005795375722992204, -0.00923282749209875\n"
     ]
    },
    {
     "name": "stdout",
     "output_type": "stream",
     "text": [
      "- Paremeters:\n",
      "  - sigma noise: 1.0000004947258978e-06,\n",
      "  - gamma: 18.060526339123314,\n",
      "  - sigma: 8.551248892906889\n",
      "  - Derivatives: -8.367149504736376e-17, -0.0002828195826583388, -0.006087057352260672\n",
      "- Paremeters:\n",
      "  - sigma noise: 1.0000004959789814e-06,\n",
      "  - gamma: 18.816477122416135,\n",
      "  - sigma: 8.55126663305162\n",
      "  - Derivatives: -8.431998574846705e-18, -0.0001383599284603724, -0.000601875957613629\n",
      "- Paremeters:\n",
      "  - sigma noise: 1.0000004971787637e-06,\n",
      "  - gamma: 19.569911383840612,\n",
      "  - sigma: 8.551271402029235\n",
      "  - Derivatives: 1.1884735545425178e-17, -6.774044440056738e-05, 0.0008759843387338151\n",
      "- Paremeters:\n",
      "  - sigma noise: 1.0000004983295325e-06,\n",
      "  - gamma: 20.32089444647662,\n",
      "  - sigma: 8.551269948028702\n",
      "  - Derivatives: 5.855328509435993e-18, -3.3193599408325884e-05, 0.0004314328327836847\n",
      "- Paremeters:\n",
      "  - sigma noise: 1.0000004994352248e-06,\n",
      "  - gamma: 21.069594450236696,\n",
      "  - sigma: 8.551268539603223\n",
      "  - Derivatives: -3.4864663578467804e-20, -1.6278394416483474e-05, -1.0042454334779904e-06\n",
      "Hiperparametros encontrados:  [1.00000050e-06 2.10695945e+01 8.55126854e+00]\n",
      "Negative log-likelihood para hiperámetros optimizados:  2349.3469758317397\n"
     ]
    }
   ],
   "source": [
    "import time\n",
    "from scipy.optimize import fmin_l_bfgs_b as fmin\n",
    "\n",
    "#entrenamiento del GP, es decir, encontrar los parámetros del kernel y del ruido\n",
    "args=(Vrobs, mask_vect_index)\n",
    "time_SE=0\n",
    "params0=np.asarray([0.000001, 0.1,  1])\n",
    "X0=np.log(params0)\n",
    "print('Condicion inicial optimizador: ',params0)\n",
    "time_GP=time.time()\n",
    "X_opt, f_GP, data=fmin(like_covImagenReal,X0,like_covImagenReal_Df, args,disp=1,factr=0.000001/(2.22E-12),maxiter=50)\n",
    "# X_opt, f_GP, data = fmin(like_covImagenReal, X0, args=args, approx_grad=True)\n",
    "time_GP=time.time()-time_GP\n",
    "sigma_y_GP, gamma_1, sig_1 = np.exp(X_opt)\n",
    "print('Hiperparametros encontrados: ', np.exp(X_opt))\n",
    "\n",
    "print('Negative log-likelihood para hiperámetros optimizados: ', f_GP)"
   ]
  },
  {
   "cell_type": "code",
   "execution_count": 27,
   "metadata": {},
   "outputs": [
    {
     "name": "stdout",
     "output_type": "stream",
     "text": [
      "W H shape: (2500, 659)\n",
      "Variance: [7.31241936e+01 9.99998633e-05 9.99998633e-05 ... 9.99998633e-05\n",
      " 7.31241936e+01 7.31241936e+01]\n"
     ]
    },
    {
     "data": {
      "text/plain": [
       "array([8.55126854, 0.00999999, 0.00999999, ..., 0.00999999, 8.55126854,\n",
       "       8.55126854])"
      ]
     },
     "execution_count": 27,
     "metadata": {},
     "output_type": "execute_result"
    }
   ],
   "source": [
    "t = np.arange(IMAGE_SIZE_X*IMAGE_SIZE_Y)\n",
    "t_obs = mask_vect_index\n",
    "N_obs = t_obs.shape[0]\n",
    "# gamma_1 = 10\n",
    "# sig_1 = 100\n",
    "K = SE(t,t,gamma=gamma_1,sigma=sig_1)\n",
    "\n",
    "# II = np.identity(IMAGE_SIZE_X*IMAGE_SIZE_Y)\n",
    "# II = W.real\n",
    "\n",
    "# samplingW = np.matmul(II, H)\n",
    "print('W H shape: {}'.format(samplingW.shape))\n",
    "\n",
    "# cov = np.matmul(np.matmul(II,K),II)\n",
    "# cov_obs = np.matmul(np.matmul(samplingW.T,K),samplingW)\n",
    "# K_star = np.matmul(np.matmul(II,K),samplingW)\n",
    "\n",
    "cov = K\n",
    "cov_obs = SE(t_obs,t_obs, gamma=gamma_1, sigma=sig_1)\n",
    "K_star = SE(t,t_obs, gamma=gamma_1, sigma=sig_1)\n",
    "\n",
    "# cGg=np.linalg.cholesky(cov_obs+sigma_y_GP**2*np.identity(N_obs))\n",
    "cGg=np.linalg.cholesky(cov_obs+0.01**2*np.identity(N_obs))\n",
    "invGramg=np.dot(np.linalg.inv(cGg.T),np.linalg.inv(cGg))\n",
    "temp=np.matmul(K_star,invGramg) \n",
    "y_model=np.matmul(temp,Vrobs)\n",
    "v_model=np.diag(cov-np.matmul(temp,K_star.T))\n",
    "\n",
    "print('Variance: {}'.format(v_model))\n",
    "std_dev= np.sqrt(v_model)\n",
    "std_dev"
   ]
  },
  {
   "cell_type": "code",
   "execution_count": 28,
   "metadata": {
    "collapsed": true
   },
   "outputs": [],
   "source": [
    "# (K_star == SE(t,t_obs,gamma=0.0005,sigma=1)).all()"
   ]
  },
  {
   "cell_type": "code",
   "execution_count": 29,
   "metadata": {},
   "outputs": [
    {
     "name": "stdout",
     "output_type": "stream",
     "text": [
      "Variance sanity check: True\n",
      "(array([], dtype=int64),)\n",
      "9.999986326647559e-05\n"
     ]
    }
   ],
   "source": [
    "print('Variance sanity check: {}'.format( (v_model>0).all() ))\n",
    "print(np.where(v_model<0))\n",
    "print(v_model[2400])"
   ]
  },
  {
   "cell_type": "code",
   "execution_count": 30,
   "metadata": {},
   "outputs": [
    {
     "data": {
      "text/plain": [
       "<matplotlib.colorbar.Colorbar at 0x7f73cdfc1b38>"
      ]
     },
     "execution_count": 30,
     "metadata": {},
     "output_type": "execute_result"
    },
    {
     "data": {
      "image/png": "[encoded data removed]",
      "text/plain": [
       "<matplotlib.figure.Figure at 0x7f73f5dd6a58>"
      ]
     },
     "metadata": {},
     "output_type": "display_data"
    }
   ],
   "source": [
    "plt.imshow(K, cmap='seismic')\n",
    "plt.colorbar()"
   ]
  },
  {
   "cell_type": "code",
   "execution_count": 31,
   "metadata": {},
   "outputs": [
    {
     "data": {
      "text/plain": [
       "(100, 200)"
      ]
     },
     "execution_count": 31,
     "metadata": {},
     "output_type": "execute_result"
    },
    {
     "data": {
      "image/png": "[encoded data removed]",
      "text/plain": [
       "<matplotlib.figure.Figure at 0x7f73cdf7b4a8>"
      ]
     },
     "metadata": {},
     "output_type": "display_data"
    }
   ],
   "source": [
    "my_label_size = 20\n",
    "label_size = 20\n",
    "plt.rcParams['xtick.labelsize'] = label_size \n",
    "plt.rcParams['ytick.labelsize'] = label_size \n",
    "\n",
    "#plotear estimacion, observaciones y datos totales\n",
    "fig=plt.figure(3, figsize=(20,6))\n",
    "ax = plt.gca()\n",
    "plt.fill_between(t, y_model-2*std_dev, y_model+2*std_dev, facecolor='blue', alpha=0.5, label='95% CI')\n",
    "plt.plot(t,y_model, c='b', linestyle='-', marker='x',lw=1,label='posterior mean')\n",
    "plt.plot(t,img_fft.real.reshape(-1), c='black', marker='.', linestyle='none',label='true signal')\n",
    "plt.plot(mask_vect_index,Vrobs,'red',ms=8, linestyle='none', marker='.', label='observations')\n",
    "\n",
    "leg=plt.legend(ncol=1,frameon=True, shadow=True, loc=4, fontsize=my_label_size)\n",
    "frame  = leg.get_frame()\n",
    "frame.set_facecolor('0.95')\n",
    "plt.xlabel('time [sample]', fontsize=my_label_size)\n",
    "plt.title('Signal recovery using {}% of observations'.format(percent), fontsize=my_label_size)\n",
    "# plt.xlim([2400,2500])\n",
    "plt.xlim([100,200])"
   ]
  },
  {
   "cell_type": "code",
   "execution_count": 32,
   "metadata": {},
   "outputs": [
    {
     "data": {
      "text/plain": [
       "<matplotlib.image.AxesImage at 0x7f73f613a780>"
      ]
     },
     "execution_count": 32,
     "metadata": {},
     "output_type": "execute_result"
    },
    {
     "data": {
      "image/png": "[encoded data removed]",
      "text/plain": [
       "<matplotlib.figure.Figure at 0x7f73cdf6f4e0>"
      ]
     },
     "metadata": {},
     "output_type": "display_data"
    }
   ],
   "source": [
    "I_fft_mod_real = y_model.reshape((IMAGE_SIZE_Y,IMAGE_SIZE_X))\n",
    "# I_fft_mod_real = img_fft.real\n",
    "# I_fft_mod_real = measurements.real\n",
    "\n",
    "I_fft_mod_imag = np.zeros_like(I_fft_mod_real)\n",
    "I_fft_mod = I_fft_mod_real + 1j*I_fft_mod_imag\n",
    "I_mod = np.fft.ifft2(I_fft_mod)\n",
    "plt.imshow(np.abs(I_mod))"
   ]
  },
  {
   "cell_type": "code",
   "execution_count": null,
   "metadata": {
    "collapsed": true
   },
   "outputs": [],
   "source": []
  },
  {
   "cell_type": "code",
   "execution_count": null,
   "metadata": {
    "collapsed": true
   },
   "outputs": [],
   "source": []
  }
 ],
 "metadata": {
  "kernelspec": {
   "display_name": "Python 3",
   "language": "python",
   "name": "python3"
  },
  "language_info": {
   "codemirror_mode": {
    "name": "ipython",
    "version": 3
   },
   "file_extension": ".py",
   "mimetype": "text/x-python",
   "name": "python",
   "nbconvert_exporter": "python",
   "pygments_lexer": "ipython3",
   "version": "3.6.1"
  }
 },
 "nbformat": 4,
 "nbformat_minor": 2
}
