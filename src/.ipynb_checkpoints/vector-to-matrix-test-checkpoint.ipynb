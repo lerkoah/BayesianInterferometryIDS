{
 "cells": [
  {
   "cell_type": "markdown",
   "metadata": {},
   "source": [
    "# Vector2Matrix as Tensor Multiplication\n",
    "\n",
    "This is a implementation of matrixize in numpy. The linear transformation that given a  $v\\in\\mathbb{R}^{N\\cdot M}$ returns $M \\in \\mathbb{R}^{N\\times M}$ as follows:\n",
    "$$\n",
    "v = (v_1, \\cdots, v_{N\\cdot M})^T \\Rightarrow\n",
    "M = \\left( \\begin{array}{ccc}\n",
    "v_1 & \\cdots & v_M\\\\\n",
    "v_{N+1} & \\cdots & v_{2M}\\\\\n",
    "\\vdots & & \\vdots\\\\\n",
    "v_{(N-1)\\cdot M +1} &\\cdots & v_{N\\cdot M}\n",
    "\\end{array} \\right)\n",
    "$$\n",
    "\n",
    "We can write this transformations as tensor _dot product_:\n",
    "\n",
    "$$\n",
    "M = T\\cdot v\n",
    "$$\n",
    "\n",
    "where $T\\in  \\mathbb{R}^{N\\times\\ M \\times N\\cdot M}$ is given by:\n",
    "\n",
    "$$\n",
    "\\begin{array}{c}\n",
    "\\\\\n",
    "1^{\\text{st}} \\text{ Component}\\\\\n",
    "\\\\\n",
    "\\\\\n",
    "2^{\\text{nd}} \\text{ Component}\\\\\n",
    "\\\\\n",
    "\\vdots\\\\\n",
    "\\\\\n",
    "N^{\\text{th}} \\text{ Component}\n",
    "\\\\\n",
    "\\\\\n",
    "\\end{array} \\left( \\begin{array}{c}\\left( \\begin{array}{cccccccccc}\n",
    "1      & \\cdots & 0      & 0      & \\cdots & 0      & \\cdots & 0      & \\cdots & 0      \\\\\n",
    "\\vdots & \\ddots & \\vdots & \\vdots & \\ddots & \\vdots &        & \\vdots & \\ddots & \\vdots \\\\\n",
    "0      & \\cdots & 1      & 0      & \\cdots & 0      & \\cdots & 0      & \\cdots & 0      \\\\\n",
    "\\end{array}\\right)\\\\\n",
    "\\left( \\begin{array}{cccccccccc}\n",
    "0      & \\cdots & 0      & 1      & \\cdots & 0      & \\cdots & 0      & \\cdots & 0      \\\\\n",
    "\\vdots & \\ddots & \\vdots & \\vdots & \\ddots & \\vdots &        & \\vdots & \\ddots & \\vdots \\\\\n",
    "0      & \\cdots & 0      & 0      & \\cdots & 1      & \\cdots & 0      & \\cdots & 0      \\\\\n",
    "\\end{array}\\right)\\\\\n",
    "\\vdots\\\\\n",
    "\\left( \\begin{array}{cccccccccc}\n",
    "0      & \\cdots & 0      & 0      & \\cdots & 0      & \\cdots & 1      & \\cdots & 0      \\\\\n",
    "\\vdots & \\ddots & \\vdots & \\vdots & \\ddots & \\vdots &        & \\vdots & \\ddots & \\vdots \\\\\n",
    "0      & \\cdots & 0      & 0      & \\cdots & 0      & \\cdots & 0      & \\cdots & 1      \\\\\n",
    "\\end{array}\\right) \\end{array}\\right)\\\\\n",
    "\\begin{array}{c} \\end{array}\\begin{array}{cccccccccc}\n",
    "& & & & & & & 1^{\\text{st}} \\text{Block}& & 2^{\\text{nd}} \\text{Block}&  \\cdots & M^{\\text{th}}\\text{Block} & \\\\\n",
    "\\end{array}\n",
    "$$\n",
    "\n"
   ]
  },
  {
   "cell_type": "markdown",
   "metadata": {},
   "source": [
    "## Example"
   ]
  },
  {
   "cell_type": "code",
   "execution_count": 78,
   "metadata": {},
   "outputs": [],
   "source": [
    "import numpy as np"
   ]
  },
  {
   "cell_type": "code",
   "execution_count": 8,
   "metadata": {},
   "outputs": [
    {
     "data": {
      "text/plain": [
       "array([ 0,  1,  2,  3,  4,  5,  6,  7,  8,  9, 10, 11])"
      ]
     },
     "execution_count": 8,
     "metadata": {},
     "output_type": "execute_result"
    }
   ],
   "source": [
    "X = np.arange(12)\n",
    "X"
   ]
  },
  {
   "cell_type": "code",
   "execution_count": 19,
   "metadata": {},
   "outputs": [
    {
     "data": {
      "text/plain": [
       "array([[0., 0., 0., 0.],\n",
       "       [0., 0., 0., 0.],\n",
       "       [0., 0., 0., 0.],\n",
       "       [0., 0., 0., 0.],\n",
       "       [0., 0., 0., 0.],\n",
       "       [0., 0., 0., 0.],\n",
       "       [0., 0., 0., 0.],\n",
       "       [0., 0., 0., 0.],\n",
       "       [0., 0., 0., 0.],\n",
       "       [0., 0., 0., 0.],\n",
       "       [0., 0., 0., 0.],\n",
       "       [0., 0., 0., 0.]])"
      ]
     },
     "execution_count": 19,
     "metadata": {},
     "output_type": "execute_result"
    }
   ],
   "source": [
    "T1 = np.zeros((3*4,4))\n",
    "T2 = np.zeros((3*4,4))\n",
    "T3 = np.zeros((3*4,4))\n",
    "T1"
   ]
  },
  {
   "cell_type": "code",
   "execution_count": 41,
   "metadata": {},
   "outputs": [],
   "source": [
    "T1[0,0] = 1\n",
    "T1[1,1] = 1\n",
    "T1[2,2] = 1\n",
    "T1[3,3] = 1\n",
    "# print(T1)\n",
    "# print('')\n",
    "T2[4,0] = 1\n",
    "T2[5,1] = 1\n",
    "T2[6,2] = 1\n",
    "T2[7,3] = 1\n",
    "# print(T2)\n",
    "# print('')\n",
    "T3[8,0] = 1\n",
    "T3[9,1] = 1\n",
    "T3[10,2] = 1\n",
    "T3[11,3] = 1\n",
    "# print(T3)"
   ]
  },
  {
   "cell_type": "code",
   "execution_count": 25,
   "metadata": {},
   "outputs": [],
   "source": [
    "B = np.array([T1,T2,T3])"
   ]
  },
  {
   "cell_type": "code",
   "execution_count": 26,
   "metadata": {},
   "outputs": [
    {
     "data": {
      "text/plain": [
       "(3, 12, 4)"
      ]
     },
     "execution_count": 26,
     "metadata": {},
     "output_type": "execute_result"
    }
   ],
   "source": [
    "B.shape"
   ]
  },
  {
   "cell_type": "code",
   "execution_count": 39,
   "metadata": {},
   "outputs": [
    {
     "name": "stdout",
     "output_type": "stream",
     "text": [
      "[[[1. 0. 0. 0. 0. 0. 0. 0. 0. 0. 0. 0.]\n",
      "  [0. 1. 0. 0. 0. 0. 0. 0. 0. 0. 0. 0.]\n",
      "  [0. 0. 1. 0. 0. 0. 0. 0. 0. 0. 0. 0.]\n",
      "  [0. 0. 0. 1. 0. 0. 0. 0. 0. 0. 0. 0.]]\n",
      "\n",
      " [[0. 0. 0. 0. 1. 0. 0. 0. 0. 0. 0. 0.]\n",
      "  [0. 0. 0. 0. 0. 1. 0. 0. 0. 0. 0. 0.]\n",
      "  [0. 0. 0. 0. 0. 0. 1. 0. 0. 0. 0. 0.]\n",
      "  [0. 0. 0. 0. 0. 0. 0. 1. 0. 0. 0. 0.]]\n",
      "\n",
      " [[0. 0. 0. 0. 0. 0. 0. 0. 1. 0. 0. 0.]\n",
      "  [0. 0. 0. 0. 0. 0. 0. 0. 0. 1. 0. 0.]\n",
      "  [0. 0. 0. 0. 0. 0. 0. 0. 0. 0. 1. 0.]\n",
      "  [0. 0. 0. 0. 0. 0. 0. 0. 0. 0. 0. 1.]]]\n",
      "(3, 4, 12)\n"
     ]
    }
   ],
   "source": [
    "T = np.swapaxes(B,1,2)\n",
    "print(T)\n",
    "print(T.shape)"
   ]
  },
  {
   "cell_type": "code",
   "execution_count": 73,
   "metadata": {},
   "outputs": [],
   "source": [
    "A = np.tensordot(T,X, axes=1)"
   ]
  },
  {
   "cell_type": "code",
   "execution_count": 74,
   "metadata": {},
   "outputs": [
    {
     "data": {
      "text/plain": [
       "array([[ 0.,  1.,  2.,  3.],\n",
       "       [ 4.,  5.,  6.,  7.],\n",
       "       [ 8.,  9., 10., 11.]])"
      ]
     },
     "execution_count": 74,
     "metadata": {},
     "output_type": "execute_result"
    }
   ],
   "source": [
    "A"
   ]
  },
  {
   "cell_type": "code",
   "execution_count": 75,
   "metadata": {},
   "outputs": [],
   "source": [
    "Tinv = np.linalg.tensorinv(T, ind=2)"
   ]
  },
  {
   "cell_type": "code",
   "execution_count": 77,
   "metadata": {},
   "outputs": [
    {
     "data": {
      "text/plain": [
       "array([ 0.,  1.,  2.,  3.,  4.,  5.,  6.,  7.,  8.,  9., 10., 11.])"
      ]
     },
     "execution_count": 77,
     "metadata": {},
     "output_type": "execute_result"
    }
   ],
   "source": [
    "np.tensordot(Tinv,A)"
   ]
  },
  {
   "cell_type": "code",
   "execution_count": null,
   "metadata": {
    "collapsed": true
   },
   "outputs": [],
   "source": []
  }
 ],
 "metadata": {
  "kernelspec": {
   "display_name": "Python 3",
   "language": "python",
   "name": "python3"
  },
  "language_info": {
   "codemirror_mode": {
    "name": "ipython",
    "version": 3
   },
   "file_extension": ".py",
   "mimetype": "text/x-python",
   "name": "python",
   "nbconvert_exporter": "python",
   "pygments_lexer": "ipython3",
   "version": "3.6.1"
  }
 },
 "nbformat": 4,
 "nbformat_minor": 2
}
