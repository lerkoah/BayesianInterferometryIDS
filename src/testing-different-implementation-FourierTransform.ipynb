{
 "cells": [
  {
   "cell_type": "code",
   "execution_count": 1,
   "metadata": {
    "collapsed": false
   },
   "outputs": [
    {
     "name": "stderr",
     "output_type": "stream",
     "text": [
      "WARNING (theano.configdefaults): g++ not detected ! Theano will be unable to execute optimized C-implementations (for both CPU and GPU) and will default to Python implementations. Performance will be severely degraded. To remove this warning, set Theano flags cxx to an empty string.\n"
     ]
    }
   ],
   "source": [
    "import numpy as np\n",
    "import theano.tensor as tt"
   ]
  },
  {
   "cell_type": "code",
   "execution_count": 130,
   "metadata": {
    "collapsed": true
   },
   "outputs": [],
   "source": [
    "def Observed_Model_using_exp(U,l,alpha,Cx,Cy, factor = None, IMAGE_SIZE_X = 20, IMAGE_SIZE_Y = 20):\n",
    "    # We have implemented the model defined by:\n",
    "    # V_obs = sum_{i=0}^{N_BASIS} alpha_i phi_i(u,v)\n",
    "    # where phi_i(u,v) = exp(-2pi(u^2+v^2)l^2)exp(-j2pi(Cx^i u + Cv^i v))\n",
    "    \n",
    "    if factor == None:\n",
    "        factor = (IMAGE_SIZE_X*IMAGE_SIZE_Y/IMAGE_SIZE_X)\n",
    "    \n",
    "    # Rescale u,v space\n",
    "    u_aux = U[:,0] - IMAGE_SIZE_X/2\n",
    "    u_aux = u_aux/factor\n",
    "    v_aux = U[:,1] - IMAGE_SIZE_Y/2\n",
    "    v_aux = v_aux/factor\n",
    "\n",
    "    \n",
    "    # Amplitud (Mantle o carrier)\n",
    "    A = tt.exp(-2*np.pi**2*(u_aux*u_aux+v_aux*v_aux)*l**2)\n",
    "\n",
    "    imagExp = tt.exp(-2*np.pi*1j*(Cx[:,np.newaxis]*u_aux + Cy[:,np.newaxis]*v_aux))\n",
    "\n",
    "    out_real = tt.real(tt.sum(alpha*A*imagExp, axis = 0))\n",
    "    out_imag = tt.imag(tt.sum(alpha*A*imagExp, axis = 0))\n",
    "      \n",
    "    return out_real, out_imag"
   ]
  },
  {
   "cell_type": "code",
   "execution_count": 131,
   "metadata": {
    "collapsed": true
   },
   "outputs": [],
   "source": [
    "def Observed_Model_using_sin_cos(U,l,alpha,Cx,Cy, factor = None, IMAGE_SIZE_X = 20, IMAGE_SIZE_Y = 20):\n",
    "        # We have implemented the model defined by:\n",
    "    # V_obs = sum_{i=0}^{N_BASIS} alpha_i phi_i(u,v)\n",
    "    # where phi_i(u,v) = exp(-2pi(u^2+v^2)l^2)exp(-j2pi(Cx^i u + Cv^i v))\n",
    "    \n",
    "    if factor == None:\n",
    "        factor = (IMAGE_SIZE_X*IMAGE_SIZE_Y/IMAGE_SIZE_X)\n",
    "    \n",
    "    # Rescale u,v space\n",
    "    u_aux = U[:,0] - IMAGE_SIZE_X/2\n",
    "    u_aux = u_aux/factor\n",
    "    v_aux = U[:,1] - IMAGE_SIZE_Y/2\n",
    "    v_aux = v_aux/factor\n",
    "    \n",
    "    # Amplitud (Mantle o carrier)\n",
    "    A = tt.exp(-2*np.pi**2*(u_aux*u_aux+v_aux*v_aux)*l**2)\n",
    "\n",
    "    # Imaginary Exponential (Mudolator)\n",
    "    cosPart = tt.cos(-2*np.pi*(Cx[:,np.newaxis]*u_aux + Cy[:,np.newaxis]*v_aux))\n",
    "    sinPart = tt.sin(-2*np.pi*(Cx[:,np.newaxis]*u_aux + Cy[:,np.newaxis]*v_aux))\n",
    "\n",
    "    ## Finally, alpha_i * phi_i\n",
    "    out_real = tt.sum(alpha*A*cosPart, axis = 0)\n",
    "    out_imag = tt.sum(alpha*A*sinPart, axis = 0)\n",
    "\n",
    "    return out_real, out_imag"
   ]
  },
  {
   "cell_type": "code",
   "execution_count": 132,
   "metadata": {
    "collapsed": false
   },
   "outputs": [
    {
     "name": "stdout",
     "output_type": "stream",
     "text": [
      "min I: 180 at (8,-3)\n",
      "max I: 180 at (8,-3)\n",
      "\n"
     ]
    }
   ],
   "source": [
    "size = 1\n",
    "MAX_VALUE = 255\n",
    "MIN_VALUE = 0\n",
    "IMAGE_SIZE_X = 20\n",
    "IMAGE_SIZE_Y = 20\n",
    "xCenter = IMAGE_SIZE_X/2\n",
    "yCenter = IMAGE_SIZE_Y/2\n",
    "l = 4\n",
    "\n",
    "#I = np.ceil((MAX_VALUE - MIN_VALUE) * np.random.rand(size) + MIN_VALUE)\n",
    "#Cx = np.ceil((IMAGE_SIZE_X)/2 + SIGMA*np.random.randn(size)).astype('int')\n",
    "#Cx = np.clip(Cx,0,IMAGE_SIZE_X)\n",
    "#Cy = np.ceil((IMAGE_SIZE_Y)/2 +  SIGMA*np.random.randn(size)).astype('int')\n",
    "#Cy = np.clip(Cy,0,IMAGE_SIZE_Y)\n",
    "\n",
    "I = np.array([180])\n",
    "Cx = np.array([8])\n",
    "Cy = np.array([-3])\n",
    "\n",
    "minI = np.min(I)\n",
    "argminI = np.argmin(I)\n",
    "maxI = np.max(I)\n",
    "argmaxI = np.argmax(I)\n",
    "\n",
    "print('min I: %s at (%s,%s)\\n' \\\n",
    "      'max I: %s at (%s,%s)\\n' % (minI, Cx[argminI], Cy[argminI],\n",
    "                                  maxI, Cx[argmaxI], Cy[argmaxI]))"
   ]
  },
  {
   "cell_type": "code",
   "execution_count": 133,
   "metadata": {
    "collapsed": true
   },
   "outputs": [],
   "source": [
    "# Basis function in pixel domain\n",
    "def psi(x, y, l, Cx, Cy):\n",
    "    return (1.0 / (np.sqrt(2.0 * np.pi) * l)) * np.exp(-(1.0 / 2) * ((x - Cx) * (x - Cx) + (y - Cy) * (y - Cy)) / (l * l))"
   ]
  },
  {
   "cell_type": "code",
   "execution_count": 134,
   "metadata": {
    "collapsed": false
   },
   "outputs": [
    {
     "name": "stdout",
     "output_type": "stream",
     "text": [
      "(20,) (20,)\n"
     ]
    }
   ],
   "source": [
    "G_SIZE_REAL =  20\n",
    "x = np.arange((IMAGE_SIZE_X)) - xCenter\n",
    "y = np.arange((IMAGE_SIZE_Y)) - yCenter\n",
    "print(x.shape, y.shape)\n",
    "G = np.zeros([x.shape[0], y.shape[0]])\n",
    "\n",
    "N_BASIS = I.shape[0]\n",
    "\n",
    "for i in range(G_SIZE_REAL):\n",
    "    for j in range(G_SIZE_REAL):\n",
    "        for k in range(N_BASIS):\n",
    "            G[i,j] += I[k]*psi(x[j],y[i],l,Cx[k],Cy[k])\n",
    "        \n",
    "G_fft = np.fft.fft2(G)\n",
    "G_fft = np.fft.fftshift(G_fft)"
   ]
  },
  {
   "cell_type": "code",
   "execution_count": 135,
   "metadata": {
    "collapsed": false
   },
   "outputs": [
    {
     "data": {
      "image/png": "[encoded data removed]",
      "text/plain": [
       "<matplotlib.figure.Figure at 0x7f5d13e6c240>"
      ]
     },
     "metadata": {},
     "output_type": "display_data"
    }
   ],
   "source": [
    "import matplotlib.pyplot as plt\n",
    "\n",
    "plt.imshow(G)\n",
    "plt.show()"
   ]
  },
  {
   "cell_type": "code",
   "execution_count": 136,
   "metadata": {
    "collapsed": true
   },
   "outputs": [],
   "source": [
    "def matrix_points(U,V_real, V_imag, IMAGE_SIZE_X = 20, IMAGE_SIZE_Y = 20):\n",
    "#     print(U.shape)\n",
    "#     print(V_real.shape)\n",
    "#     print(V_imag.shape)\n",
    "    U = U.astype(int)\n",
    "    out_real = np.zeros([IMAGE_SIZE_X, IMAGE_SIZE_Y])\n",
    "    out_imag = np.zeros([IMAGE_SIZE_X, IMAGE_SIZE_Y])\n",
    "    for i in range(U.shape[0]):\n",
    "        out_real[U[i,0],U[i,1]] = V_real[i]\n",
    "        out_imag[U[i,0],U[i,1]] = V_imag[i]\n",
    "        \n",
    "    return out_real, out_imag"
   ]
  },
  {
   "cell_type": "code",
   "execution_count": 137,
   "metadata": {
    "collapsed": false
   },
   "outputs": [],
   "source": [
    "V = np.zeros((G_fft.shape[0]*G_fft.shape[1], 2))\n",
    "U = np.zeros((G_fft.shape[0]*G_fft.shape[1], 2))\n",
    "\n",
    "for i in range(G_fft.shape[0]):\n",
    "    for j in range(G_fft.shape[1]):\n",
    "        index = int(i*IMAGE_SIZE_X+j)\n",
    "#         print(vIndex)\n",
    "        V[index, 0] = G_fft.real[i,j]\n",
    "        V[index, 1] = G_fft.imag[i,j]\n",
    "#         print('Update: ', index, V[index,:])\n",
    "        U[index, 0] = x[i] + IMAGE_SIZE_X/2\n",
    "        U[index, 1] = y[j] + IMAGE_SIZE_Y/2"
   ]
  },
  {
   "cell_type": "code",
   "execution_count": 148,
   "metadata": {
    "collapsed": false
   },
   "outputs": [
    {
     "name": "stdout",
     "output_type": "stream",
     "text": [
      "True\n",
      "True\n"
     ]
    },
    {
     "data": {
      "image/png": "[encoded data removed]",
      "text/plain": [
       "<matplotlib.figure.Figure at 0x7f5d13712320>"
      ]
     },
     "metadata": {},
     "output_type": "display_data"
    }
   ],
   "source": [
    "alpha = I*np.sqrt(2*np.pi)*l\n",
    "PHI_Re, PHI_Im = Observed_Model_using_exp(U,l,alpha,Cx,Cy,\n",
    "                                          IMAGE_SIZE_X = 20, IMAGE_SIZE_Y= 20,\n",
    "                                          factor=IMAGE_SIZE_X*IMAGE_SIZE_Y/G_SIZE_REAL)\n",
    "Im_ind_real, Im_ind_imag = matrix_points(U,PHI_Re.eval(), PHI_Im.eval(),\n",
    "                                         IMAGE_SIZE_X=G_SIZE_REAL ,IMAGE_SIZE_Y=G_SIZE_REAL)\n",
    "Im_ind_fft = Im_ind_real + 1j*Im_ind_imag\n",
    "# print(Im_ind_fft.shape)\n",
    "Im_ind_exp = np.fft.ifft2(Im_ind_fft)\n",
    "#Im_ind = np.fft.fftshift(Im_ind)\n",
    "fig, ax = plt.subplots(2,3)\n",
    "fig.set_figheight(10)\n",
    "fig.set_figwidth(15)\n",
    "ax[0,0].imshow( Im_ind_exp.real )\n",
    "ax[0,0].set_title('Reconstruction using EXP')\n",
    "ax[1,0].imshow( Im_ind_exp.imag )\n",
    "\n",
    "\n",
    "\n",
    "PHI_Re, PHI_Im = Observed_Model_using_sin_cos(U,l,alpha,Cx,Cy,\n",
    "                                              IMAGE_SIZE_X = 20, IMAGE_SIZE_Y= 20,\n",
    "                                              factor=IMAGE_SIZE_X*IMAGE_SIZE_Y/G_SIZE_REAL)\n",
    "\n",
    "Im_ind_real, Im_ind_imag = matrix_points(U,PHI_Re.eval(), PHI_Im.eval(),\n",
    "                                         IMAGE_SIZE_X=G_SIZE_REAL ,IMAGE_SIZE_Y=G_SIZE_REAL)\n",
    "Im_ind_fft = Im_ind_real + 1j*Im_ind_imag\n",
    "# print(Im_ind_fft.shape)\n",
    "Im_ind_sin_cos = np.fft.ifft2(Im_ind_fft)\n",
    "#Im_ind = np.fft.fftshift(Im_ind)\n",
    "ax[0,1].imshow( Im_ind_sin_cos.real )\n",
    "ax[0,1].set_title('Reconstruction using SIN-COS')\n",
    "ax[1,1].imshow( Im_ind_sin_cos.imag )\n",
    "\n",
    "print(np.array_equal(Im_ind_exp.real, Im_ind_sin_cos.real))\n",
    "print(np.array_equal(Im_ind_exp.imag, Im_ind_sin_cos.imag))\n",
    "\n",
    "G_fft_ifft = np.fft.ifft2(G_fft)\n",
    "ax[0,2].imshow(G_fft_ifft.real)\n",
    "ax[0,2].set_title('FULL-DFFT')\n",
    "ax[1,2].imshow(G_fft_ifft.imag)\n",
    "plt.show()\n",
    "\n",
    "plt.show()"
   ]
  },
  {
   "cell_type": "code",
   "execution_count": null,
   "metadata": {
    "collapsed": true
   },
   "outputs": [],
   "source": []
  }
 ],
 "metadata": {
  "kernelspec": {
   "display_name": "Python 3",
   "language": "python",
   "name": "python3"
  },
  "language_info": {
   "codemirror_mode": {
    "name": "ipython",
    "version": 3
   },
   "file_extension": ".py",
   "mimetype": "text/x-python",
   "name": "python",
   "nbconvert_exporter": "python",
   "pygments_lexer": "ipython3",
   "version": "3.6.0"
  }
 },
 "nbformat": 4,
 "nbformat_minor": 2
}
