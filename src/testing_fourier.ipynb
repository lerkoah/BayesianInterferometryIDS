{
 "cells": [
  {
   "cell_type": "code",
   "execution_count": 1,
   "metadata": {
    "collapsed": true
   },
   "outputs": [],
   "source": [
    "import numpy as np"
   ]
  },
  {
   "cell_type": "markdown",
   "metadata": {},
   "source": [
    "# Image"
   ]
  },
  {
   "cell_type": "code",
   "execution_count": 16,
   "metadata": {
    "collapsed": false
   },
   "outputs": [
    {
     "name": "stdout",
     "output_type": "stream",
     "text": [
      "min I: 180 at (7,-4)\n",
      "max I: 180 at (7,-4)\n",
      "\n"
     ]
    }
   ],
   "source": [
    "size = 1\n",
    "MAX_VALUE = 255\n",
    "MIN_VALUE = 0\n",
    "IMAGE_SIZE_X = 20\n",
    "IMAGE_SIZE_Y = 20\n",
    "xCenter = IMAGE_SIZE_X/2\n",
    "yCenter = IMAGE_SIZE_Y/2\n",
    "l = 1\n",
    "\n",
    "#I = np.ceil((MAX_VALUE - MIN_VALUE) * np.random.rand(size) + MIN_VALUE)\n",
    "#Cx = np.ceil((IMAGE_SIZE_X)/2 + SIGMA*np.random.randn(size)).astype('int')\n",
    "#Cx = np.clip(Cx,0,IMAGE_SIZE_X)\n",
    "#Cy = np.ceil((IMAGE_SIZE_Y)/2 +  SIGMA*np.random.randn(size)).astype('int')\n",
    "#Cy = np.clip(Cy,0,IMAGE_SIZE_Y)\n",
    "\n",
    "I = np.array([180])\n",
    "Cx = np.array([7])\n",
    "Cy = np.array([-4])\n",
    "\n",
    "minI = np.min(I)\n",
    "argminI = np.argmin(I)\n",
    "maxI = np.max(I)\n",
    "argmaxI = np.argmax(I)\n",
    "\n",
    "print('min I: %s at (%s,%s)\\n' \\\n",
    "      'max I: %s at (%s,%s)\\n' % (minI, Cx[argminI], Cy[argminI],\n",
    "                                  maxI, Cx[argmaxI], Cy[argmaxI]))"
   ]
  },
  {
   "cell_type": "code",
   "execution_count": 17,
   "metadata": {
    "collapsed": false
   },
   "outputs": [],
   "source": [
    "def psi(x, y, l, Cx, Cy):\n",
    "    return (1.0 / (np.sqrt(2.0 * np.pi) * l)) * np.exp(-(1.0 / 2) * ((x - Cx) * (x - Cx) + (y - Cy) * (y - Cy)) / (l * l))\n",
    "\n",
    "G_SIZE_REAL =  500\n",
    "x = np.linspace(0,IMAGE_SIZE_X,G_SIZE_REAL) - xCenter\n",
    "y = np.linspace(0,IMAGE_SIZE_Y,G_SIZE_REAL) - yCenter\n",
    "G = np.zeros([G_SIZE_REAL, G_SIZE_REAL])\n",
    "\n",
    "for j in range(G_SIZE_REAL):\n",
    "    for i in range(G_SIZE_REAL):\n",
    "        G[j,i] = I*psi(x[i],y[j],l,Cx,Cy)\n",
    "        \n",
    "G_fft = np.fft.fft2(G)\n",
    "G_fft = np.fft.fftshift(G_fft)"
   ]
  },
  {
   "cell_type": "code",
   "execution_count": 18,
   "metadata": {
    "collapsed": false
   },
   "outputs": [
    {
     "data": {
      "image/png": "[encoded data removed]",
      "text/plain": [
       "<matplotlib.figure.Figure at 0x7fd020452d68>"
      ]
     },
     "metadata": {},
     "output_type": "display_data"
    }
   ],
   "source": [
    "import matplotlib.pyplot as plt\n",
    "\n",
    "plt.imshow(G)\n",
    "plt.show()"
   ]
  },
  {
   "cell_type": "code",
   "execution_count": null,
   "metadata": {
    "collapsed": false,
    "scrolled": true
   },
   "outputs": [],
   "source": [
    "from mpl_toolkits.mplot3d import Axes3D\n",
    "from matplotlib import cm\n",
    "\n",
    "# 3D plotting\n",
    "fig = plt.figure(figsize=plt.figaspect(0.5))\n",
    "ax = fig.add_subplot(4, 3, 1, projection='3d')\n",
    "\n",
    "X, Y = np.meshgrid(x, y)\n",
    "\n",
    "## Plot the surface.\n",
    "surf = ax.plot_surface(X, Y, G, cmap=cm.viridis)\n",
    "## Add a color bar which maps values to colors.\n",
    "fig.colorbar(surf, shrink=0.5, aspect=5)\n",
    "ax.set_title(\"Pixel Image\")\n",
    "\n",
    "####\n",
    "####\n",
    "\n",
    "# 3D plotting\n",
    "ax = fig.add_subplot(4, 3, 4, projection='3d')\n",
    "\n",
    "## Plot the surface.\n",
    "surf = ax.plot_surface(X, Y, G_fft.real, cmap=cm.viridis)\n",
    "## Add a color bar which maps values to colors.\n",
    "fig.colorbar(surf, shrink=0.5, aspect=5)\n",
    "ax.set_title(\"Real Part\")\n",
    "\n",
    "\n",
    "# 3D plotting\n",
    "ax = fig.add_subplot(4, 3, 5, projection='3d')\n",
    "## Plot the surface\n",
    "surf = ax.plot_surface(X, Y, G_fft.imag, cmap=cm.viridis)\n",
    "## Add a color bar which maps values to colors.\n",
    "fig.colorbar(surf, shrink=0.5, aspect=5)\n",
    "ax.set_title(\"Imaginary Part\")\n",
    "\n",
    "#####\n",
    "\n",
    "# 3D plotting\n",
    "ax = fig.add_subplot(4, 3, 7, projection='3d')\n",
    "\n",
    "G_real_abs_fft = np.sqrt(G_fft.real**2)\n",
    "\n",
    "## Plot the surface.\n",
    "surf = ax.plot_surface(X, Y, G_real_abs_fft, cmap=cm.viridis)\n",
    "## Add a color bar which maps values to colors.\n",
    "fig.colorbar(surf, shrink=0.5, aspect=5)\n",
    "ax.set_title(\"Abs Real Part\")\n",
    "\n",
    "\n",
    "# 3D plotting\n",
    "ax = fig.add_subplot(4, 3, 8, projection='3d')\n",
    "G_imag_abs_fft = np.sqrt(G_fft.imag**2)\n",
    "## Plot the surface\n",
    "surf = ax.plot_surface(X, Y, G_imag_abs_fft, cmap=cm.viridis)\n",
    "## Add a color bar which maps values to colors.\n",
    "fig.colorbar(surf, shrink=0.5, aspect=5)\n",
    "ax.set_title(\"Abs Imaginary Part\")\n",
    "\n",
    "\n",
    "# 3D plotting\n",
    "ax = fig.add_subplot(4, 3, 9, projection='3d')\n",
    "\n",
    "G_abs_fft = np.sqrt(G_fft.real**2+G_fft.imag**2)\n",
    "\n",
    "## Plot the surface.\n",
    "surf = ax.plot_surface(X, Y, G_abs_fft, cmap=cm.viridis)\n",
    "## Add a color bar which maps values to colors.\n",
    "fig.colorbar(surf, shrink=0.5, aspect=5)\n",
    "ax.set_title(\"Abs\")\n",
    "                    \n",
    "# 3D plotting\n",
    "ax = fig.add_subplot(4, 3, 10, projection='3d')\n",
    "\n",
    "G_real_log_fft = np.log(np.sqrt(G_fft.real**2)+10**(-80))\n",
    "\n",
    "## Plot the surface.\n",
    "surf = ax.plot_surface(X, Y, G_real_log_fft, cmap=cm.viridis)\n",
    "## Add a color bar which maps values to colors.\n",
    "fig.colorbar(surf, shrink=0.5, aspect=5)\n",
    "ax.set_title(\"Log Abs Real\")\n",
    "\n",
    "# 3D plotting\n",
    "ax = fig.add_subplot(4, 3, 11, projection='3d')\n",
    "\n",
    "G_real_log_fft = np.log(np.sqrt(G_fft.imag**2)+10**(-80))\n",
    "\n",
    "## Plot the surface.\n",
    "surf = ax.plot_surface(X, Y, G_real_log_fft, cmap=cm.viridis)\n",
    "## Add a color bar which maps values to colors.\n",
    "fig.colorbar(surf, shrink=0.5, aspect=5)\n",
    "ax.set_title(\"Log Abs Imag\")\n",
    "\n",
    "# 3D plotting\n",
    "ax = fig.add_subplot(4, 3, 12, projection='3d')\n",
    "\n",
    "G_log_abs_fft = np.log(np.sqrt(G_fft.real**2+G_fft.imag**2)+10**(-80))\n",
    "\n",
    "## Plot the surface.\n",
    "surf = ax.plot_surface(X, Y, G_log_abs_fft, cmap=cm.viridis)\n",
    "## Add a color bar which maps values to colors.\n",
    "fig.colorbar(surf, shrink=0.5, aspect=5)\n",
    "ax.set_title(\"Log Abs\")  \n",
    "\n",
    "fig.set_figheight(47)\n",
    "fig.set_figwidth(50)\n",
    "\n",
    "\n",
    "\n",
    "plt.savefig('Fourier_test.pdf', format='pdf')\n",
    "plt.show(fig)"
   ]
  },
  {
   "cell_type": "code",
   "execution_count": null,
   "metadata": {
    "collapsed": false,
    "scrolled": true
   },
   "outputs": [],
   "source": [
    "fig, ax = plt.subplots(1,3)\n",
    "\n",
    "my_countor = ax[0].contour(X,Y,G_fft.real,\n",
    "                           cmap=plt.cm.viridis)\n",
    "fig.colorbar(my_countor, ax=ax[0], shrink=0.9)\n",
    "#zc = my_countor.collections[6]\n",
    "#plt.setp(zc, linewidth=4)\n",
    "\n",
    "my_countor = ax[1].contour(X,Y,G_fft.imag,\n",
    "                           cmap=plt.cm.viridis)\n",
    "fig.colorbar(my_countor, ax=ax[1], shrink=0.9)\n",
    "#zc = my_countor.collections[6]\n",
    "#plt.setp(zc, linewidth=4)\n",
    "\n",
    "my_countor = ax[2].contour(X,Y,np.log(np.abs(G_fft)),\n",
    "                           cmap=plt.cm.viridis)\n",
    "fig.colorbar(my_countor, ax=ax[2], shrink=0.9)\n",
    "#zc = my_countor.collections[6]\n",
    "#plt.setp(zc, linewidth=4)\n",
    "\n",
    "fig.set_figheight(5)\n",
    "fig.set_figwidth(20)\n",
    "plt.tight_layout()\n",
    "\n",
    "plt.show(fig)"
   ]
  },
  {
   "cell_type": "markdown",
   "metadata": {
    "collapsed": true
   },
   "source": [
    "# Model"
   ]
  },
  {
   "cell_type": "code",
   "execution_count": null,
   "metadata": {
    "collapsed": false
   },
   "outputs": [],
   "source": [
    "from scipy.special import erf"
   ]
  },
  {
   "cell_type": "code",
   "execution_count": null,
   "metadata": {
    "collapsed": false
   },
   "outputs": [],
   "source": [
    "import theano.tensor as tt\n",
    "import numpy as np\n",
    "\n",
    "# basis function\n",
    "def phi(u, v, l, Cx, Cy):\n",
    "    return np.exp(-2*np.pi**2*(u*u+v*v)*l**2)*np.exp(2*np.pi*1j*(Cx*u+Cy*v))\n",
    "\n",
    "def V_obs(u, v, alpha, l, Cx, Cy, IMAGE_SIZE_X = 20, IMAGE_SIZE_Y = 20, factor = 0.4):\n",
    "    \n",
    "    u_aux = u - IMAGE_SIZE_X/2\n",
    "    u_aux = u_aux/factor\n",
    "    v_aux = v - IMAGE_SIZE_Y/2\n",
    "    v_aux = v_aux/factor\n",
    "    \n",
    "#     print(u_aux)\n",
    "    \n",
    "    A_u = tt.exp(-2*np.pi**2*(u_aux*u_aux)*l**2)\n",
    "    A_v = tt.exp(-2*np.pi**2*(v_aux*v_aux)*l**2)\n",
    "    A   = tt.outer(A_u,A_v)\n",
    "#     print(A.eval().shape)\n",
    "#     print(A.shape)\n",
    "    \n",
    "    imagExp_u = tt.exp(2*np.pi*1j*(Cx[:,np.newaxis]*u_aux))\n",
    "    imagExp_v = tt.exp(2*np.pi*1j*(Cy[:,np.newaxis]*v_aux))\n",
    "#     print(imagExp_u.eval().shape)\n",
    "#     print(imagExp_u.shape)\n",
    "    imagExp   = imagExp_u.dimshuffle(0, 1, 'x') * imagExp_v.dimshuffle(0, 'x', 1)\n",
    "#     print(imagExp.eval().shape)\n",
    "    \n",
    "#     print((alpha*A*imagExp).eval().shape)\n",
    "    out = tt.sum(alpha*A*imagExp, axis = 0)\n",
    "    \n",
    "#     print(imagExp.shape)\n",
    "\n",
    "#     print(cosPart.shape, sinPart.shape)    \n",
    "    return tt.real(out), tt.imag(out)"
   ]
  },
  {
   "cell_type": "code",
   "execution_count": null,
   "metadata": {
    "collapsed": true
   },
   "outputs": [],
   "source": []
  },
  {
   "cell_type": "code",
   "execution_count": null,
   "metadata": {
    "collapsed": false
   },
   "outputs": [],
   "source": [
    "G_SIZE_MODEL =  G_SIZE_REAL\n",
    "\n",
    "factor = (IMAGE_SIZE_X*IMAGE_SIZE_Y/G_SIZE_MODEL)\n",
    "#factor = 1\n",
    "\n",
    "G_fft_model = np.zeros((G_SIZE_MODEL,G_SIZE_MODEL),dtype=np.complex128)\n",
    "u = np.linspace(0,IMAGE_SIZE_X,G_SIZE)\n",
    "v = np.linspace(0,IMAGE_SIZE_Y,G_SIZE)\n",
    "\n",
    "\n",
    "Aux1, Aux2 = V_obs(u, v, I*l*np.sqrt(2*np.pi), l, Cx, Cy, factor=factor)\n",
    "G_fft_model.real = Aux1.eval()\n",
    "G_fft_model.imag = Aux2.eval()"
   ]
  },
  {
   "cell_type": "code",
   "execution_count": null,
   "metadata": {
    "collapsed": false
   },
   "outputs": [],
   "source": [
    "# 3D plotting\n",
    "fig = plt.figure(figsize=plt.figaspect(0.5))\n",
    "ax = fig.add_subplot(3, 3, 1, projection='3d')\n",
    "\n",
    "X, Y = np.meshgrid(x, y)\n",
    "\n",
    "## Plot the surface.\n",
    "surf = ax.plot_surface(X, Y, G_fft_model.real, cmap=cm.viridis)\n",
    "## Add a color bar which maps values to colors.\n",
    "fig.colorbar(surf, shrink=0.5, aspect=5)\n",
    "ax.set_title(\"Model Real part\")\n",
    "\n",
    "####\n",
    "####\n",
    "\n",
    "# 3D plotting\n",
    "ax = fig.add_subplot(3, 3, 2, projection='3d')\n",
    "\n",
    "X, Y = np.meshgrid(u, v)\n",
    "\n",
    "## Plot the surface.\n",
    "surf = ax.plot_surface(X, Y, G_fft_model.imag, cmap=cm.viridis)\n",
    "## Add a color bar which maps values to colors.\n",
    "fig.colorbar(surf, shrink=0.5, aspect=5)\n",
    "ax.set_title(\"Model Imag part\")\n",
    "\n",
    "####\n",
    "\n",
    "# 3D plotting\n",
    "ax = fig.add_subplot(3, 3, 4, projection='3d')\n",
    "\n",
    "X, Y = np.meshgrid(u, v)\n",
    "\n",
    "## Plot the surface.\n",
    "surf = ax.plot_surface(X, Y, np.abs(G_fft_model.real), cmap=cm.viridis)\n",
    "## Add a color bar which maps values to colors.\n",
    "fig.colorbar(surf, shrink=0.5, aspect=5)\n",
    "ax.set_title(\"Model Abs Real part\")\n",
    "\n",
    "# 3D plotting\n",
    "ax = fig.add_subplot(3, 3, 5, projection='3d')\n",
    "\n",
    "X, Y = np.meshgrid(u, v)\n",
    "\n",
    "## Plot the surface.\n",
    "surf = ax.plot_surface(X, Y, np.abs(G_fft_model.imag), cmap=cm.viridis)\n",
    "## Add a color bar which maps values to colors.\n",
    "fig.colorbar(surf, shrink=0.5, aspect=5)\n",
    "ax.set_title(\"Model Abs Imag part\")\n",
    "\n",
    "# 3D plotting\n",
    "ax = fig.add_subplot(3, 3, 6, projection='3d')\n",
    "\n",
    "X, Y = np.meshgrid(u, v)\n",
    "\n",
    "## Plot the surface.\n",
    "surf = ax.plot_surface(X, Y, np.abs(G_fft_model), cmap=cm.viridis)\n",
    "## Add a color bar which maps values to colors.\n",
    "fig.colorbar(surf, shrink=0.5, aspect=5)\n",
    "ax.set_title(\"Abs Model\")\n",
    "\n",
    "\n",
    "# 3D plotting\n",
    "ax = fig.add_subplot(3, 3, 7, projection='3d')\n",
    "\n",
    "X, Y = np.meshgrid(u, v)\n",
    "\n",
    "## Plot the surface.\n",
    "surf = ax.plot_surface(X, Y, np.log(np.abs(G_fft_model.real)+10**(-30)), cmap=cm.viridis)\n",
    "## Add a color bar which maps values to colors.\n",
    "fig.colorbar(surf, shrink=0.5, aspect=5)\n",
    "ax.set_title(\"Model Log Abs Real part\")\n",
    "\n",
    "# 3D plotting\n",
    "ax = fig.add_subplot(3, 3, 8, projection='3d')\n",
    "\n",
    "X, Y = np.meshgrid(u, v)\n",
    "\n",
    "## Plot the surface.\n",
    "surf = ax.plot_surface(X, Y, np.log(np.abs(G_fft_model.imag)+10**(-30)), cmap=cm.viridis)\n",
    "## Add a color bar which maps values to colors.\n",
    "fig.colorbar(surf, shrink=0.5, aspect=5)\n",
    "ax.set_title(\"Model Log Abs Imag part\")\n",
    "\n",
    "# 3D plotting\n",
    "ax = fig.add_subplot(3, 3, 9, projection='3d')\n",
    "\n",
    "X, Y = np.meshgrid(u, v)\n",
    "\n",
    "## Plot the surface.\n",
    "surf = ax.plot_surface(X, Y, np.log(np.abs(G_fft_model)+10**(-30)), cmap=cm.viridis)\n",
    "## Add a color bar which maps values to colors.\n",
    "fig.colorbar(surf, shrink=0.5, aspect=5)\n",
    "ax.set_title(\"Log Abs Model\")\n",
    "\n",
    "fig.set_figheight(40)\n",
    "fig.set_figwidth(50)\n",
    "\n",
    "plt.tight_layout()\n",
    "\n",
    "plt.savefig('Fourier_model_test.pdf', format='pdf')\n",
    "plt.show(fig)"
   ]
  },
  {
   "cell_type": "code",
   "execution_count": null,
   "metadata": {
    "collapsed": false
   },
   "outputs": [],
   "source": [
    "fig, ax = plt.subplots(1,3)\n",
    "\n",
    "my_countor = ax[0].contour(X,Y,G_fft_model.real,\n",
    "                           cmap=plt.cm.viridis)\n",
    "fig.colorbar(my_countor, ax=ax[0], shrink=0.9)\n",
    "#zc = my_countor.collections[6]\n",
    "#plt.setp(zc, linewidth=4)\n",
    "\n",
    "my_countor = ax[1].contour(X,Y,G_fft_model.imag,\n",
    "                           cmap=plt.cm.viridis)\n",
    "fig.colorbar(my_countor, ax=ax[1], shrink=0.9)\n",
    "#zc = my_countor.collections[6]\n",
    "#plt.setp(zc, linewidth=4)\n",
    "\n",
    "my_countor = ax[2].contour(X,Y,np.log(np.abs(G_fft_model)),\n",
    "                           cmap=plt.cm.viridis)\n",
    "fig.colorbar(my_countor, ax=ax[2], shrink=0.9)\n",
    "#zc = my_countor.collections[6]\n",
    "#plt.setp(zc, linewidth=4)\n",
    "\n",
    "fig.set_figheight(5)\n",
    "fig.set_figwidth(20)\n",
    "plt.tight_layout()\n",
    "\n",
    "plt.show(fig)"
   ]
  },
  {
   "cell_type": "code",
   "execution_count": null,
   "metadata": {
    "collapsed": false
   },
   "outputs": [],
   "source": [
    "from scipy import ndimage\n",
    "\n",
    "G_model = np.fft.ifft2(G_fft_model)\n",
    "G_model = np.fft.fftshift(G_model)\n",
    "G_model.real = ndimage.rotate(G_model.real, 90*2)\n",
    "G_model.imag = ndimage.rotate(G_model.imag, 90*2)\n",
    "plt.imshow(np.abs(G_model))\n",
    "plt.title('Reconstruction using model')\n",
    "plt.show()\n",
    "\n",
    "plt.imshow(G)\n",
    "plt.title('Original Image')\n",
    "plt.show()"
   ]
  },
  {
   "cell_type": "code",
   "execution_count": null,
   "metadata": {
    "collapsed": false
   },
   "outputs": [],
   "source": [
    "xIndex = np.ceil( np.argmax(np.max(np.abs(G_model), axis = 0)) ).astype(int)\n",
    "yIndex = np.ceil( np.argmax(np.max(np.abs(G_model), axis = 1)) ).astype(int)\n",
    "xIndexOr = np.ceil( np.argmax(np.max(G, axis = 0)) ).astype(int)\n",
    "yIndexOr = np.ceil( np.argmax(np.max(G, axis = 1)) ).astype(int)\n",
    "\n",
    "print('-------------------------------------------------------------------')\n",
    "print('Reconstruction (x index, y index, Max Value): (%i, %i, %f)' % (xIndex, yIndex, np.max(np.abs(G_model)) ) )\n",
    "print('      Original (x index, y index, Max Value): (%i, %i, %f)' % (xIndexOr, yIndexOr, np.max(G) ) )\n",
    "print('-------------------------------------------------------------------')\n",
    "print('-------------------------------------------------------------------')\n",
    "print('Reconstruction Centers: (%f, %f)' % (x[xIndex], y[yIndex]) )\n",
    "print('      Original Centers: (%f, %f)' % (x[xIndexOr], y[yIndexOr]) )\n",
    "print('-------------------------------------------------------------------')"
   ]
  },
  {
   "cell_type": "code",
   "execution_count": null,
   "metadata": {
    "collapsed": false
   },
   "outputs": [],
   "source": [
    "coef = np.max(G)/np.max(np.abs(G_model))\n",
    "dx = x[1]-x[0]\n",
    "print(coef)\n",
    "print(dx)\n",
    "print(dx**2*coef)"
   ]
  }
 ],
 "metadata": {
  "kernelspec": {
   "display_name": "Python 3",
   "language": "python",
   "name": "python3"
  },
  "language_info": {
   "codemirror_mode": {
    "name": "ipython",
    "version": 3
   },
   "file_extension": ".py",
   "mimetype": "text/x-python",
   "name": "python",
   "nbconvert_exporter": "python",
   "pygments_lexer": "ipython3",
   "version": "3.6.0"
  }
 },
 "nbformat": 4,
 "nbformat_minor": 2
}
