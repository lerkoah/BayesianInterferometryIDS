{
 "cells": [
  {
   "cell_type": "markdown",
   "metadata": {},
   "source": [
    "# IDS Bayesian Interferometry usign PYMC3"
   ]
  },
  {
   "cell_type": "code",
   "execution_count": 2,
   "metadata": {
    "collapsed": true
   },
   "outputs": [],
   "source": [
    "import numpy as np\n",
    "from pymc3 import *"
   ]
  },
  {
   "cell_type": "markdown",
   "metadata": {},
   "source": [
    "## Creating artificial data"
   ]
  },
  {
   "cell_type": "code",
   "execution_count": 28,
   "metadata": {
    "collapsed": false
   },
   "outputs": [
    {
     "name": "stdout",
     "output_type": "stream",
     "text": [
      "min Re(V): 4.0 at (178.0,25.0)\n",
      "max Re(V): 252.0 at (173.0,11.0)\n",
      "min Im(V): 0.0 at (11.0,136.0)\n",
      "max Im(V): 253.0 at (28.0,216.0)\n"
     ]
    }
   ],
   "source": [
    "size = 100\n",
    "MAX_VALUE = 255\n",
    "MIN_VALUE = 0\n",
    "IMAGE_SIZE_X = 256\n",
    "IMAGE_SIZE_Y = 256\n",
    "\n",
    "V = np.trunc((MAX_VALUE-MIN_VALUE)*np.random.rand(2,size)+MIN_VALUE)\n",
    "u = np.trunc(IMAGE_SIZE_X*np.random.rand(size))\n",
    "v = np.trunc(IMAGE_SIZE_Y*np.random.rand(size))\n",
    "\n",
    "minRe = np.min(V[0,:])\n",
    "argminRe = np.argmin(V[0,:])\n",
    "maxRe = np.max(V[0,:])\n",
    "argmaxRe = np.argmax(V[0,:])\n",
    "minIm = np.min(V[1,:])\n",
    "argminIm = np.argmin(V[1,:])\n",
    "maxIm = np.max(V[1,:])\n",
    "argmaxIm = np.argmax(V[1,:])\n",
    "\n",
    "print 'min Re(V): %s at (%s,%s)\\n' \\\n",
    "      'max Re(V): %s at (%s,%s)\\n' \\\n",
    "      'min Im(V): %s at (%s,%s)\\n' \\\n",
    "      'max Im(V): %s at (%s,%s)' %(minRe, u[argminRe], v[argminRe],\n",
    "                                   maxRe, u[argmaxRe], v[argmaxRe],\n",
    "                                   minIm, u[argminIm], v[argminIm],\n",
    "                                   maxIm, u[argmaxIm], v[argmaxIm])"
   ]
  },
  {
   "cell_type": "code",
   "execution_count": 29,
   "metadata": {
    "collapsed": false
   },
   "outputs": [
    {
     "data": {
      "text/plain": [
       "<matplotlib.collections.PathCollection at 0x7f352ea8c110>"
      ]
     },
     "execution_count": 29,
     "metadata": {},
     "output_type": "execute_result"
    },
    {
     "data": {
      "image/png": "[encoded data removed]",
      "text/plain": [
       "<matplotlib.figure.Figure at 0x7f352ed9b910>"
      ]
     },
     "metadata": {},
     "output_type": "display_data"
    }
   ],
   "source": [
    "import matplotlib.pyplot as plt\n",
    "\n",
    "fig, axes = plt.subplots(1, 1, sharex=True, figsize=(10,4))\n",
    "axes.scatter(V[0,:],V[1,:])"
   ]
  },
  {
   "cell_type": "code",
   "execution_count": null,
   "metadata": {
    "collapsed": true
   },
   "outputs": [],
   "source": []
  }
 ],
 "metadata": {
  "kernelspec": {
   "display_name": "Python 2",
   "language": "python",
   "name": "python2"
  },
  "language_info": {
   "codemirror_mode": {
    "name": "ipython",
    "version": 2
   },
   "file_extension": ".py",
   "mimetype": "text/x-python",
   "name": "python",
   "nbconvert_exporter": "python",
   "pygments_lexer": "ipython2",
   "version": "2.7.13"
  }
 },
 "nbformat": 4,
 "nbformat_minor": 2
}
