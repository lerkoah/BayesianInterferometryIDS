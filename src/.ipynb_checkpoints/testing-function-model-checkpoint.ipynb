{
 "cells": [
  {
   "cell_type": "markdown",
   "metadata": {},
   "source": [
    "# Bayesian Interferometry Model Pytorch implementation"
   ]
  },
  {
   "cell_type": "markdown",
   "metadata": {},
   "source": [
    "Image Model:\n",
    "\n",
    "$$I(x,y) =  \\sum_{i=0}^{N_{basis}-1} \\beta_i \\psi(x,y)$$\n",
    "where\n",
    "$$\n",
    "\\psi_i(x,y) = \\exp\\left\\{\\ \\left[\\begin{array}{c}x - C_x^i\\\\\n",
    "                                     y - C_y^i\\end{array}\\right]^T \\Sigma^{-1}\\left[\\begin{array}{c}x - C_x^i\\\\\n",
    "                                     y - C_y^i\\end{array}\\right]\\right\\}\n",
    "$$\n",
    "\n",
    "$$\n",
    "\\Sigma = \\left[\\begin{array}{cc}\\sigma_1^2   & \\sigma_{12} \\\\\n",
    "                                 \\sigma_{12} & \\sigma_2^2 \\end{array}\\right]\n",
    "$$\n",
    "Visibility Model:\n",
    "\n",
    "$$ V(u,v) = \\sum_{i=1}^{N_{B}} \\alpha_i \\phi(u,v) $$\n",
    "\n",
    "$$\\phi(u,v) = \\exp\\left\\{\\frac{av^2+bu^2-cuv}{4ab-c^2} + j(fv+eu)\\right\\}$$\n",
    "$$\\alpha_i = \\frac{\\beta_i}{\\sqrt{4ab-c^2}}$$\n",
    "$$ a = -\\frac{1}{2}\\frac{\\sigma_2^2}{\\sigma_1^2\\sigma_2^2 - \\sigma_{12}^2} ; b = -\\frac{1}{2}\\frac{\\sigma_1^2}{\\sigma_1^2\\sigma_2^2 - \\sigma_{12}^2}; c = \\frac{\\sigma_{12}}{\\sigma_1^2\\sigma_2^2 - \\sigma_{12}^2} $$\n",
    "$$e = C_x^i; f = C_y^i$$"
   ]
  },
  {
   "cell_type": "code",
   "execution_count": 1,
   "metadata": {
    "collapsed": true
   },
   "outputs": [],
   "source": [
    "import numpy as np\n",
    "import scipy as sp"
   ]
  },
  {
   "cell_type": "code",
   "execution_count": 2,
   "metadata": {
    "collapsed": true
   },
   "outputs": [],
   "source": [
    "def phi(u,v,a,b,c,e,f):\n",
    "    return np.exp((a*v**2 + b*u**2 - c*u*v)/(4.*a*b-c**2) + 1j*(f*v+e*u))\n",
    "\n",
    "def psi(x,y, a, b, c, e, f):\n",
    "    invSigma = np.array([[-2.0*a,-c],[-c, -2.0*b]])\n",
    "    if not isinstance(x,np.ndarray):\n",
    "        xx = np.array([x-e,y-f])\n",
    "    else:\n",
    "        xx = np.stack([x-e,y-f], axis = 1).T\n",
    "    \n",
    "    return np.exp(-1./2*xx.T.dot(invSigma).dot(xx))"
   ]
  },
  {
   "cell_type": "code",
   "execution_count": 3,
   "metadata": {
    "collapsed": true
   },
   "outputs": [],
   "source": [
    "x = np.arange(0,1.01,0.01)\n",
    "y = np.arange(0,1.01,0.01)\n",
    "u = np.arange(-10,10,0.1)/0.01\n",
    "v = np.arange(-10,10,0.1)/0.01"
   ]
  },
  {
   "cell_type": "code",
   "execution_count": 4,
   "metadata": {},
   "outputs": [
    {
     "name": "stdout",
     "output_type": "stream",
     "text": [
      "[[ 0.01  0.  ]\n",
      " [ 0.    0.03]]\n"
     ]
    }
   ],
   "source": [
    "s1 = 0.01\n",
    "s2 = 0.03\n",
    "s12 = 0\n",
    "\n",
    "a = -1./2*s2/(s1*s2-s12**2)\n",
    "b = -1./2*s1/(s1*s2-s12**2)\n",
    "c = s12/(s1*s2-s12**2)\n",
    "invSigma = np.array([[-2.*a,-c],[-c, -2.*b]])\n",
    "print(np.linalg.inv(invSigma))\n",
    "\n",
    "e = .5\n",
    "f = .5\n",
    "g = np.zeros((x.shape[0],y.shape[0]))\n",
    "\n",
    "for i in range(x.shape[0]):\n",
    "    for j in range(y.shape[0]):\n",
    "        g[i,j] = psi(x[i],y[j],a,b,c,e,f)\n",
    "#         print(g[i,j])"
   ]
  },
  {
   "cell_type": "code",
   "execution_count": 5,
   "metadata": {
    "collapsed": true
   },
   "outputs": [],
   "source": [
    "from mpl_toolkits.mplot3d import axes3d\n",
    "import matplotlib.pyplot as plt\n",
    "from matplotlib import cm\n",
    "%matplotlib inline"
   ]
  },
  {
   "cell_type": "code",
   "execution_count": 6,
   "metadata": {},
   "outputs": [
    {
     "data": {
      "text/plain": [
       "<matplotlib.image.AxesImage at 0x7f90e56664a8>"
      ]
     },
     "execution_count": 6,
     "metadata": {},
     "output_type": "execute_result"
    },
    {
     "data": {
      "image/png": "[encoded data removed]",
      "text/plain": [
       "<matplotlib.figure.Figure at 0x7f91080eb940>"
      ]
     },
     "metadata": {},
     "output_type": "display_data"
    }
   ],
   "source": [
    "plt.imshow(g)"
   ]
  },
  {
   "cell_type": "code",
   "execution_count": 7,
   "metadata": {
    "collapsed": true
   },
   "outputs": [],
   "source": [
    "FTg = np.zeros((u.shape[0],v.shape[0]), dtype=np.complex)\n",
    "for i in range(u.shape[0]):\n",
    "    for j in range(u.shape[0]):\n",
    "#         print(i,u[i],j,v[j])\n",
    "        FTg[i,j] = phi(u[i],v[j],a,b,c,e,f)"
   ]
  },
  {
   "cell_type": "code",
   "execution_count": 8,
   "metadata": {
    "scrolled": true
   },
   "outputs": [
    {
     "data": {
      "text/plain": [
       "<matplotlib.image.AxesImage at 0x7f90e5542ba8>"
      ]
     },
     "execution_count": 8,
     "metadata": {},
     "output_type": "execute_result"
    },
    {
     "data": {
      "image/png": "[encoded data removed]",
      "text/plain": [
       "<matplotlib.figure.Figure at 0x7f90e5624a20>"
      ]
     },
     "metadata": {},
     "output_type": "display_data"
    }
   ],
   "source": [
    "plt.imshow(np.log(np.abs(FTg)+10e-320))"
   ]
  },
  {
   "cell_type": "markdown",
   "metadata": {
    "collapsed": true
   },
   "source": [
    "# pytorch"
   ]
  },
  {
   "cell_type": "code",
   "execution_count": null,
   "metadata": {
    "collapsed": true
   },
   "outputs": [],
   "source": []
  }
 ],
 "metadata": {
  "kernelspec": {
   "display_name": "Python 3",
   "language": "python",
   "name": "python3"
  },
  "language_info": {
   "codemirror_mode": {
    "name": "ipython",
    "version": 3
   },
   "file_extension": ".py",
   "mimetype": "text/x-python",
   "name": "python",
   "nbconvert_exporter": "python",
   "pygments_lexer": "ipython3",
   "version": "3.6.1"
  }
 },
 "nbformat": 4,
 "nbformat_minor": 2
}
