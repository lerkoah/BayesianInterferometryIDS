{
 "cells": [
  {
   "cell_type": "code",
   "execution_count": 1,
   "metadata": {
    "collapsed": true
   },
   "outputs": [],
   "source": [
    "import numpy as np\n",
    "import scipy.io as sio\n",
    "\n",
    "import matplotlib.pyplot as plt\n",
    "# from modelfunctions import *\n",
    "%matplotlib inline"
   ]
  },
  {
   "cell_type": "markdown",
   "metadata": {},
   "source": [
    "# Obtaining Data"
   ]
  },
  {
   "cell_type": "code",
   "execution_count": 2,
   "metadata": {
    "collapsed": true
   },
   "outputs": [],
   "source": [
    "control = 0 # 0: sinthetic; 1: real\n",
    "mycmap = 'seismic'\n",
    "np.random.seed(51)"
   ]
  },
  {
   "cell_type": "code",
   "execution_count": 3,
   "metadata": {
    "collapsed": true
   },
   "outputs": [],
   "source": [
    "def show_fft_image(img_fft, shift = True, save = False , name = 'my_name.png'):\n",
    "    \n",
    "    img_fftabs = img_fft\n",
    "    if type(img_fft[0,0]) == np.complex128:\n",
    "        img_fftabs = np.abs(img_fft)\n",
    "    \n",
    "    if shift:\n",
    "        img_fftabs = np.fft.fftshift(img_fftabs)\n",
    "    plt.imshow(img_fftabs, cmap=mycmap)\n",
    "    plt.grid('off')\n",
    "    \n",
    "    if save:\n",
    "        plt.savefig(name, format= 'png')"
   ]
  },
  {
   "cell_type": "code",
   "execution_count": 4,
   "metadata": {
    "collapsed": true
   },
   "outputs": [],
   "source": [
    "def phi(U,a,b,c,e,f):\n",
    "    try:\n",
    "        u = U[:,0]\n",
    "        v = U[:,1]\n",
    "    except IndexError:\n",
    "        u = U[0]\n",
    "        v = U[1]\n",
    "    return np.exp(2*np.pi**2*(a*v**2 + b*u**2 - c*u*v)/(4.*a*b-c**2) -2*np.pi*1j*(f*v+e*u))\n",
    "\n",
    "def psi(x,y, a, b, c, e, f):\n",
    "    invSigma = np.array([[-2.0*a,-c],[-c, -2.0*b]]).reshape(2,2)\n",
    "#     print(invSigma)\n",
    "    \n",
    "    if not isinstance(x,np.ndarray):\n",
    "        xx = np.array([x-e,y-f])\n",
    "    else:\n",
    "        xx = np.stack([x-e,y-f], axis = 1).T\n",
    "    \n",
    "    return np.exp(-xx.T.dot(invSigma).dot(xx))"
   ]
  },
  {
   "cell_type": "code",
   "execution_count": 5,
   "metadata": {},
   "outputs": [
    {
     "data": {
      "image/png": "[encoded data removed]",
      "text/plain": [
       "<matplotlib.figure.Figure at 0x7fc14de5d940>"
      ]
     },
     "metadata": {},
     "output_type": "display_data"
    }
   ],
   "source": [
    "if control:\n",
    "    path = '/home/lerko/Dataset_ALMA'\n",
    "    fileName = 'Dataset_ALMA_11_07_17.mat'\n",
    "    fullPath = path +'/' + fileName\n",
    "    data = sio.loadmat(fullPath)\n",
    "    imageName = 'name_HLTau'\n",
    "    img = data['Dataset'][imageName][0,0]['size_128x128'][0,0]\n",
    "    IMAGE_SIZE_X, IMAGE_SIZE_Y = img.shape\n",
    "    x = np.arange(IMAGE_SIZE_X)\n",
    "    y = np.arange(IMAGE_SIZE_Y)\n",
    "    \n",
    "    print(data['Dataset'].dtype)\n",
    "elif not control:\n",
    "    x = np.arange(50)\n",
    "    y = np.arange(50)\n",
    "    \n",
    "    s1 = np.array([20,10])\n",
    "    s2 = np.array([20,10])\n",
    "    s12 = np.array([10,-5])\n",
    "\n",
    "    a = -0.5*s2/(s1*s2-s12**2)\n",
    "    b = -0.5*s1/(s1*s2-s12**2)\n",
    "    c = s12/(s1*s2-s12**2)\n",
    "#     invSigma = np.array([[-2.*a,-c],[-c, -2.*b]])\n",
    "#     print(np.linalg.inv(invSigma))\n",
    "\n",
    "    e = np.array([50,40])/2\n",
    "    f = np.array([40,60])/2\n",
    "    numberOfBasis = e.shape[0]\n",
    "    img = np.zeros((x.shape[0],y.shape[0]))\n",
    "\n",
    "    for i in range(x.shape[0]):\n",
    "        for j in range(y.shape[0]):\n",
    "            for k in range(numberOfBasis):\n",
    "                img[i,j] = img[i,j] + psi(x[i],y[j],a[k],b[k],c[k],e[k],f[k])\n",
    "    IMAGE_SIZE_X, IMAGE_SIZE_Y = img.shape\n",
    "\n",
    "plt.imshow(0.00058*img/np.max(img), cmap=mycmap)\n",
    "plt.colorbar()\n",
    "plt.tight_layout()\n",
    "# plt.savefig('{}.png'.format(imageName), format='png')"
   ]
  },
  {
   "cell_type": "code",
   "execution_count": 6,
   "metadata": {},
   "outputs": [
    {
     "data": {
      "text/plain": [
       "<matplotlib.colorbar.Colorbar at 0x7fc14de5d710>"
      ]
     },
     "execution_count": 6,
     "metadata": {},
     "output_type": "execute_result"
    },
    {
     "data": {
      "image/png": "[encoded data removed]",
      "text/plain": [
       "<matplotlib.figure.Figure at 0x7fc1814bc0f0>"
      ]
     },
     "metadata": {},
     "output_type": "display_data"
    }
   ],
   "source": [
    "# Calculate the spectrum\n",
    "img_fft= np.fft.fft2(img)\n",
    "FTgshift = np.fft.fftshift(img_fft)\n",
    "\n",
    "plt.imshow(np.log(np.abs(FTgshift)), cmap=mycmap)\n",
    "plt.colorbar()"
   ]
  },
  {
   "cell_type": "markdown",
   "metadata": {},
   "source": [
    "## Creating sampling mask"
   ]
  },
  {
   "cell_type": "markdown",
   "metadata": {},
   "source": [
    "For creating the sampling mask, we have made a u,v representations based on the antennas disposition. This is because, if the antennas disposition is random, the measures are not completely random. The Measurements positions are defined by the interferometry physics."
   ]
  },
  {
   "cell_type": "code",
   "execution_count": 7,
   "metadata": {},
   "outputs": [
    {
     "data": {
      "image/png": "[encoded data removed]",
      "text/plain": [
       "<matplotlib.figure.Figure at 0x7fc14b932320>"
      ]
     },
     "metadata": {},
     "output_type": "display_data"
    }
   ],
   "source": [
    "from masking import *\n",
    "\n",
    "## Parameters\n",
    "B_max = 1\n",
    "antennas = 30\n",
    "typeArray = 'URA'\n",
    "sigma = B_max/6.0\n",
    "\n",
    "lambda_phy=3*10**(-6); #(km)\n",
    "H0=10; #(deg)\n",
    "delta0=-30; #(deg)\n",
    "Lat=34.05;  #(deg) Lat VLA\n",
    "\n",
    "## Masking function returns the mask\n",
    "mask = createSpectrumMasking(B_max,antennas,typeArray,sigma, lambda_phy, H0, delta0, Lat, N1 = IMAGE_SIZE_X, N2 = IMAGE_SIZE_Y)\n",
    "show_fft_image(mask)"
   ]
  },
  {
   "cell_type": "markdown",
   "metadata": {},
   "source": [
    "## Sampling"
   ]
  },
  {
   "cell_type": "markdown",
   "metadata": {},
   "source": [
    "Variable measurements are the 2D representation for the measurements. U are the positions in the u,v spaces, i.e., U[0] = u, U[1] = v. Finally, V is the visibility function."
   ]
  },
  {
   "cell_type": "code",
   "execution_count": 8,
   "metadata": {},
   "outputs": [
    {
     "name": "stdout",
     "output_type": "stream",
     "text": [
      "Percentage of measurements: 26.36\n"
     ]
    },
    {
     "data": {
      "image/png": "[encoded data removed]",
      "text/plain": [
       "<matplotlib.figure.Figure at 0x7fc14b8d6a58>"
      ]
     },
     "metadata": {},
     "output_type": "display_data"
    }
   ],
   "source": [
    "measurements,Uobs,Vobs = UVCreator(img_fft,mask)\n",
    "\n",
    "measurements_abs = np.log(np.abs(measurements)+1e-12)\n",
    "show_fft_image(measurements_abs)\n",
    "\n",
    "p = 100*Uobs.shape[0]/(measurements.shape[0]*measurements.shape[1]) \n",
    "print('Percentage of measurements: %s' % p)"
   ]
  },
  {
   "cell_type": "code",
   "execution_count": 9,
   "metadata": {},
   "outputs": [
    {
     "name": "stdout",
     "output_type": "stream",
     "text": [
      "Getting indexes (u,v)->i..done.\n"
     ]
    }
   ],
   "source": [
    "print('Getting indexes (u,v)->i..', end='')\n",
    "mask_vect = mask.reshape(-1)\n",
    "mask_vect_index = np.where(mask_vect == 1)[0]\n",
    "mask_vect_index2 = np.concatenate([mask_vect_index, mask_vect_index])\n",
    "print('done.')"
   ]
  },
  {
   "cell_type": "code",
   "execution_count": 10,
   "metadata": {},
   "outputs": [
    {
     "name": "stdout",
     "output_type": "stream",
     "text": [
      "H shape: (2500, 659)\n",
      "Check sanity: True\n"
     ]
    }
   ],
   "source": [
    "# Sampling Matrix\n",
    "\n",
    "H = np.zeros((mask_vect_index.shape[0], IMAGE_SIZE_X*IMAGE_SIZE_Y))\n",
    "# print(mask_vect)\n",
    "\n",
    "p = 0\n",
    "for q in range(H.shape[1]):\n",
    "    if mask_vect[q] == 1:\n",
    "        H[p,q] = 1\n",
    "        p += 1\n",
    "#         print(p,q)\n",
    "# print(H)\n",
    "H = H.T\n",
    "print('H shape: {}'.format(H.shape))\n",
    "print('Check sanity: {}'.format((np.matmul(H.T,np.arange(2500)) - mask_vect_index).sum() == 0))"
   ]
  },
  {
   "cell_type": "markdown",
   "metadata": {},
   "source": [
    "# Model"
   ]
  },
  {
   "cell_type": "markdown",
   "metadata": {},
   "source": [
    "### Fourier Matrix"
   ]
  },
  {
   "cell_type": "code",
   "execution_count": 11,
   "metadata": {},
   "outputs": [
    {
     "name": "stdout",
     "output_type": "stream",
     "text": [
      "Krockener product shape: (2500, 2500)\n"
     ]
    }
   ],
   "source": [
    "import numpy as np\n",
    "def DFT_matrix(N):\n",
    "    i, j = np.meshgrid(np.arange(N), np.arange(N))\n",
    "    omega = np.exp( -2 * np.pi * 1J / N )\n",
    "    W = np.power( omega, i * j ) / np.sqrt(N)\n",
    "    return W\n",
    "\n",
    "Wizq = DFT_matrix(IMAGE_SIZE_X)\n",
    "Wder = DFT_matrix(IMAGE_SIZE_Y)\n",
    "W = np.kron(Wder.T,Wizq).T\n",
    "print('Krockener product shape: {}'.format(W.shape))"
   ]
  },
  {
   "cell_type": "code",
   "execution_count": 12,
   "metadata": {
    "collapsed": true
   },
   "outputs": [],
   "source": [
    "# plt.imshow(Kron.real)\n",
    "# plt.colorbar()"
   ]
  },
  {
   "cell_type": "code",
   "execution_count": 13,
   "metadata": {
    "collapsed": true
   },
   "outputs": [],
   "source": [
    "# plt.imshow(W.real*W.real.T)\n",
    "# plt.colorbar()"
   ]
  },
  {
   "cell_type": "code",
   "execution_count": 14,
   "metadata": {
    "collapsed": true
   },
   "outputs": [],
   "source": [
    "# plt.imshow(Kron.imag)\n",
    "# plt.colorbar()"
   ]
  },
  {
   "cell_type": "code",
   "execution_count": 15,
   "metadata": {
    "collapsed": true
   },
   "outputs": [],
   "source": [
    "# plt.imshow(np.abs(Kron))\n",
    "# plt.colorbar()"
   ]
  },
  {
   "cell_type": "code",
   "execution_count": 16,
   "metadata": {},
   "outputs": [
    {
     "name": "stdout",
     "output_type": "stream",
     "text": [
      "Separanting real and imaginary part...done.\n"
     ]
    }
   ],
   "source": [
    "print('Separanting real and imaginary part...', end='')\n",
    "Vrobs = Vobs[:,0]\n",
    "Viobs = Vobs[:,1]\n",
    "Vobs_concat = Vobs.reshape(-1, order='F')\n",
    "print('done.')"
   ]
  },
  {
   "cell_type": "code",
   "execution_count": 17,
   "metadata": {},
   "outputs": [
    {
     "name": "stdout",
     "output_type": "stream",
     "text": [
      "C shape: (2500, 5000)\n",
      "V concat shape: (5000, 1)\n"
     ]
    }
   ],
   "source": [
    "C = np.concatenate([np.eye(W.shape[0]), 1j*np.eye(W.shape[0])], axis=1)\n",
    "print('C shape: {}'.format(C.shape))\n",
    "V_concat = np.concatenate([img_fft.real.reshape(-1), img_fft.imag.reshape(-1)])[:,np.newaxis]\n",
    "print('V concat shape: {}'.format(V_concat.shape))\n",
    "W_new = np.matmul(W,C).real\n",
    "I_concat = np.matmul(W_new,V_concat)"
   ]
  },
  {
   "cell_type": "code",
   "execution_count": 18,
   "metadata": {},
   "outputs": [
    {
     "data": {
      "text/plain": [
       "<matplotlib.image.AxesImage at 0x7fc12ce59e48>"
      ]
     },
     "execution_count": 18,
     "metadata": {},
     "output_type": "execute_result"
    },
    {
     "data": {
      "image/png": "[encoded data removed]",
      "text/plain": [
       "<matplotlib.figure.Figure at 0x7fc14b83cf98>"
      ]
     },
     "metadata": {},
     "output_type": "display_data"
    }
   ],
   "source": [
    "plt.imshow(I_concat.reshape(IMAGE_SIZE_Y, IMAGE_SIZE_X))"
   ]
  },
  {
   "cell_type": "code",
   "execution_count": 19,
   "metadata": {},
   "outputs": [
    {
     "data": {
      "text/plain": [
       "<matplotlib.image.AxesImage at 0x7fc12cdefa58>"
      ]
     },
     "execution_count": 19,
     "metadata": {},
     "output_type": "execute_result"
    },
    {
     "data": {
      "image/png": "[encoded data removed]",
      "text/plain": [
       "<matplotlib.figure.Figure at 0x7fc14b80da20>"
      ]
     },
     "metadata": {},
     "output_type": "display_data"
    }
   ],
   "source": [
    "I = np.matmul(W,img_fft.reshape(-1))\n",
    "plt.imshow(I.real.reshape(IMAGE_SIZE_Y, IMAGE_SIZE_X))"
   ]
  },
  {
   "cell_type": "markdown",
   "metadata": {},
   "source": [
    "## Kernels"
   ]
  },
  {
   "cell_type": "code",
   "execution_count": 20,
   "metadata": {
    "collapsed": true
   },
   "outputs": [],
   "source": [
    "import scipy as sp"
   ]
  },
  {
   "cell_type": "code",
   "execution_count": 21,
   "metadata": {
    "collapsed": true
   },
   "outputs": [],
   "source": [
    "sigma = 1\n",
    "gamma = 1./2"
   ]
  },
  {
   "cell_type": "code",
   "execution_count": 22,
   "metadata": {
    "collapsed": true
   },
   "outputs": [],
   "source": [
    "def kernel(i,j, sigma=sigma, gamma=gamma):\n",
    "    return sigma**2*np.exp(-gamma*(i-j)**2)\n",
    "\n",
    "def kernel_handler(x):\n",
    "    return kernel()\n",
    "\n",
    "def covImagReal(i,j, W=W):\n",
    "    out = 0\n",
    "    for k in range(W.shape[0]):\n",
    "        for l in range(W.shape[1]):\n",
    "            out += W[k,i] * kernel(k,l) * W[l,j]"
   ]
  },
  {
   "cell_type": "code",
   "execution_count": 23,
   "metadata": {
    "collapsed": true
   },
   "outputs": [],
   "source": [
    "# \"suma\" externa\n",
    "def outersum(a,b):\n",
    "    return np.outer(a,np.ones_like(b))+np.outer(np.ones_like(a),b)"
   ]
  },
  {
   "cell_type": "code",
   "execution_count": null,
   "metadata": {
    "collapsed": true
   },
   "outputs": [],
   "source": [
    "def SE(a,b,gamma=1./2,sigma=1): \n",
    "    #Square Exponential kernel\n",
    "\n",
    "    #returns the evaluation of the kernel\n",
    "    #k(a,b)=sigma**2*exp(-gamma*(a-b)**2), \n",
    "    #notice that in this definition gamma = 1 /(2*lengthscale**2), in order to simplify the derivatives\n",
    "    #for consistency with the generation of Gram matrices, this function returns\n",
    "    #a matrix of dimensions dim(a) x dim(b);  \n",
    "\n",
    "    #INPUTS\n",
    "    #a,b are column vectors of (possibly) different lenghts\n",
    "    u1 = a % IMAGE_SIZE_X\n",
    "    u2 = b % IMAGE_SIZE_X\n",
    "    \n",
    "    v1 = np.floor(a/IMAGE_SIZE_X)\n",
    "    v2 = np.floor(b/IMAGE_SIZE_X)\n",
    "    \n",
    "    sa=np.size(a); sb=np.size(b)\n",
    "\n",
    "    if sa==1: a=np.array([a])\n",
    "    if sb==1: b=np.array([b])\n",
    "    K=np.zeros([sa,sb])\n",
    "    #accelerate computation if a==b\n",
    "    if np.array_equal(a,b):\n",
    "        for va in range(sa):\n",
    "            K[va,va]=1;\n",
    "            for vb in range(va+1,sb):\n",
    "                K[va,vb]=np.exp(-((u1[va] - u2[vb])**2 + (v1[va] - v2[vb])**2)*gamma)\n",
    "                K[vb,va]=K[va,vb]\n",
    "    #a!=b\n",
    "    else:\n",
    "        for va in range(sa):\n",
    "            for vb in range(sb):\n",
    "                K[va,vb]=np.exp(-((u1[va] - u2[vb])**2 + (v1[va] - v2[vb])**2)*gamma)\n",
    "    if sa==1:\n",
    "        return sigma**2*np.reshape(K,b.shape)\n",
    "    elif sb==1:\n",
    "        return sigma**2*np.reshape(K,a.shape)\n",
    "    else:\n",
    "        return sigma**2*K\n"
   ]
  },
  {
   "cell_type": "code",
   "execution_count": 226,
   "metadata": {
    "collapsed": true
   },
   "outputs": [],
   "source": [
    "#negative log-likelihood when using SE kernel\n",
    "def like_covImagenReal(X, y, t, t_obs): \n",
    "    #entrenamiento con respecto al logaritmo de los hyperparámetros, para no imponer restricciones de positividad\n",
    "    sigma_noise, gamma_1, sig_1 = np.exp(X)\n",
    "    \n",
    "    W = np.identity(IMAGE_SIZE_X*IMAGE_SIZE_Y)\n",
    "    samplingW = np.matmul(W,H)\n",
    "    K = SE(t,t,gamma=gamma_1,sigma=sig_1)\n",
    "    \n",
    "    Gram= np.matmul(np.matmul(samplingW.T,K),samplingW)+sigma_noise**2*np.identity(len(t_obs))\n",
    "    cGg=np.linalg.cholesky(Gram)\n",
    "    invGram=np.dot(np.linalg.inv(cGg.T),np.linalg.inv(cGg))\n",
    "    \n",
    "    nll=np.dot(y,np.dot(invGram,y)) + 2*np.sum(np.log(np.diag(cGg)))\n",
    "    return 0.5*nll+0.5*len(y)*np.log(2*np.pi)\n",
    "\n",
    "#derivative of negative log-likelihood when using SE kernel\n",
    "def like_covImagenReal_Df(X, y, t, t_obs):\n",
    "    sigma_noise, gamma_1, sig_1 = np.exp(X)\n",
    "    \n",
    "    W = np.identity(IMAGE_SIZE_X*IMAGE_SIZE_Y)\n",
    "    samplingW = np.matmul(W.real,H)\n",
    "#     samplingW = np.eye(W.shape[0])\n",
    "    K = SE(t,t,gamma=gamma_1,sigma=sig_1)\n",
    "#     t_obs = np.matmul(H.T,t)\n",
    "    \n",
    "    Gram0 = np.matmul(np.matmul(samplingW.T,K),samplingW)\n",
    "    Gram=Gram0+sigma_noise**2*np.identity(len(t_obs))\n",
    "    cGg=np.linalg.cholesky(Gram)\n",
    "    invGram=np.dot(np.linalg.inv(cGg.T),np.linalg.inv(cGg))\n",
    "    \n",
    "    A=np.dot(invGram,y)\n",
    "    \n",
    "    \n",
    "    u_obs = t_obs % IMAGE_SIZE_X\n",
    "    v_obs = np.floor(t_obs/IMAGE_SIZE_X)\n",
    "    \n",
    "    outer_u=outersum(u_obs,-u_obs)\n",
    "    outer_v=outersum(v_obs,-v_obs)\n",
    "    outer_dist = outer_u**2 + outer_v**2\n",
    "#     print(outer_sub)\n",
    "\n",
    "    \n",
    "    D1 = 2*sigma_noise**2*np.identity(len(t_obs)) #sigma_noise\n",
    "    D2 = -Gram0*outer_dist*gamma_1 #gamma_1\n",
    "    D3 = 2*Gram0 #sig_1 \n",
    "\n",
    "    B=np.outer(A,A)-invGram\n",
    "    d1=  -np.trace(np.dot(B,D1))\n",
    "    d2=  -np.trace(np.dot(B,D2))\n",
    "    d3=  -np.trace(np.dot(B,D3))\n",
    "\n",
    "    print('- Paremeters:\\n  - sigma noise: {},\\n  - gamma: {},\\n  - sigma: {}'.format(sigma_noise, gamma_1, sig_1))\n",
    "    print('  - Derivatives: {}, {}, {}'.format(d1, d2, d3))\n",
    "    return np.asarray([0.5*d1, 0.5*d2, 0.5*d3])"
   ]
  },
  {
   "cell_type": "code",
   "execution_count": 227,
   "metadata": {},
   "outputs": [
    {
     "name": "stdout",
     "output_type": "stream",
     "text": [
      "Condicion inicial optimizador:  [0.001 0.005 0.001]\n",
      "- Paremeters:\n",
      "  - sigma noise: 0.0010000000000000002,\n",
      "  - gamma: 0.005000000000000002,\n",
      "  - sigma: 0.0010000000000000002\n",
      "  - Derivatives: -92560990638.11227, -597802041.519914, -860388202.7923554\n",
      "- Paremeters:\n",
      "  - sigma noise: 0.0027181077236109823,\n",
      "  - gamma: 0.005032394754198769,\n",
      "  - sigma: 0.0010093381002422737\n",
      "  - Derivatives: -12759160596.605282, -32422862.96858886, -84069990.53619741\n",
      "- Paremeters:\n",
      "  - sigma noise: 0.0031893334438646984,\n",
      "  - gamma: 0.005033935652870187,\n",
      "  - sigma: 0.0010103320323114607\n",
      "  - Derivatives: -9290165857.617607, -19591343.18595457, -56997736.617467105\n",
      "- Paremeters:\n",
      "  - sigma noise: 0.004893811126530265,\n",
      "  - gamma: 0.005034636066707853,\n",
      "  - sigma: 0.0010122751859011655\n",
      "  - Derivatives: -3969355714.7768326, -4630496.920656332, -19095969.00964276\n",
      "- Paremeters:\n",
      "  - sigma noise: 0.006735446346343462,\n",
      "  - gamma: 0.005032513681366368,\n",
      "  - sigma: 0.0010129788080930277\n",
      "  - Derivatives: -2103325858.0895324, -1369363.3740201367, -7980053.509102139\n",
      "- Paremeters:\n",
      "  - sigma noise: 0.009654454914820587,\n",
      "  - gamma: 0.005028137220716623,\n",
      "  - sigma: 0.001012983416467034\n",
      "  - Derivatives: -1027206195.8444097, -281604.1005919709, -2806293.6156309377\n",
      "- Paremeters:\n",
      "  - sigma noise: 0.013613939558503766,\n",
      "  - gamma: 0.005022691687442435,\n",
      "  - sigma: 0.0010122654766614322\n",
      "  - Derivatives: -517856724.8810427, -48167.55735131761, -953911.653439104\n",
      "- Paremeters:\n",
      "  - sigma noise: 0.019307877450512812,\n",
      "  - gamma: 0.005016521065524844,\n",
      "  - sigma: 0.0010109019835307957\n",
      "  - Derivatives: -257907957.19438007, -5595.264408762285, -289289.3048560907\n",
      "- Paremeters:\n",
      "  - sigma noise: 0.027308342835595426,\n",
      "  - gamma: 0.005010159704292726,\n",
      "  - sigma: 0.0010090489178039147\n",
      "  - Derivatives: -129066366.47851036, -191.42219900865177, -81535.97803514644\n",
      "- Paremeters:\n",
      "  - sigma noise: 0.03864736333493961,\n",
      "  - gamma: 0.005003725090853833,\n",
      "  - sigma: 0.001006853061392448\n",
      "  - Derivatives: -64480817.196997076, 141.637116445052, -21679.330046539308\n",
      "- Paremeters:\n",
      "  - sigma noise: 0.05466388079980303,\n",
      "  - gamma: 0.004997296450835289,\n",
      "  - sigma: 0.0010044598468947712\n",
      "  - Derivatives: -32240803.900689982, 61.70052067684113, -5589.3193439329225\n",
      "- Paremeters:\n",
      "  - sigma noise: 0.07731879992750183,\n",
      "  - gamma: 0.0049908769111293525,\n",
      "  - sigma: 0.001001959106982017\n",
      "  - Derivatives: -16117368.971207164, 18.825093357864606, -1415.4134747186756\n",
      "- Paremeters:\n",
      "  - sigma noise: 0.10934861499817444,\n",
      "  - gamma: 0.004984470609471231,\n",
      "  - sigma: 0.0009994062784654163\n",
      "  - Derivatives: -8058245.925143956, 5.1251683876534395, -355.2763195204256\n",
      "- Paremeters:\n",
      "  - sigma noise: 0.15464119028080076,\n",
      "  - gamma: 0.004978075063514873,\n",
      "  - sigma: 0.00099683001794112\n",
      "  - Derivatives: -4028699.8998770793, 1.3299572835362006, -88.75577384605931\n",
      "- Paremeters:\n",
      "  - sigma noise: 0.21867821789147585,\n",
      "  - gamma: 0.004971690117337283,\n",
      "  - sigma: 0.0009942457412549684\n",
      "  - Derivatives: -2014057.16928802, 0.337626765240758, -22.12014843489998\n",
      "- Paremeters:\n",
      "  - sigma noise: 0.30920190107176354,\n",
      "  - gamma: 0.0049653157709382105,\n",
      "  - sigma: 0.0009916613234174504\n",
      "  - Derivatives: -1006744.4519153524, 0.08483435838316356, -5.505180488306786\n",
      "- Paremeters:\n",
      "  - sigma noise: 0.4371132084489326,\n",
      "  - gamma: 0.004958953471964508,\n",
      "  - sigma: 0.0009890813000900962\n",
      "  - Derivatives: -503095.0072749859, 0.021221541152615084, -1.368685615717046\n",
      "- Paremeters:\n",
      "  - sigma noise: 0.6177036924585153,\n",
      "  - gamma: 0.004952606459426267,\n",
      "  - sigma: 0.0009865089444857408\n",
      "  - Derivatives: -251271.28913471062, 0.005303052829753249, -0.3398607958258128\n",
      "- Paremeters:\n",
      "  - sigma noise: 0.8722420150394313,\n",
      "  - gamma: 0.004946281538961462,\n",
      "  - sigma: 0.0009839479720100837\n",
      "  - Derivatives: -125360.20827139942, 0.0013275250210734767, -0.08421831757353042\n",
      "- Paremeters:\n",
      "  - sigma noise: 1.2298104286610327,\n",
      "  - gamma: 0.004939992350673931,\n",
      "  - sigma: 0.0009814043506707493\n",
      "  - Derivatives: -62405.53620282032, 0.00033413132846706934, -0.020786147103922042\n",
      "- Paremeters:\n",
      "  - sigma noise: 1.7287727232977446,\n",
      "  - gamma: 0.004933765931056307,\n",
      "  - sigma: 0.0009788891815710316\n",
      "  - Derivatives: -30929.834341997943, 8.509080491548467e-05, -0.0050876608155528595\n",
      "- Paremeters:\n",
      "  - sigma noise: 2.4158651015779,\n",
      "  - gamma: 0.00492765514656359,\n",
      "  - sigma: 0.0009764238018926199\n",
      "  - Derivatives: -15195.193488064802, 2.218625674942746e-05, -0.00122238875898323\n",
      "- Paremeters:\n",
      "  - sigma noise: 3.3375270391696286,\n",
      "  - gamma: 0.004921761052516768,\n",
      "  - sigma: 0.0009740487871102611\n",
      "  - Derivatives: -7334.206589905761, 6.0571542007555094e-06, -0.0002805303289083686\n",
      "- Paremeters:\n",
      "  - sigma noise: 4.512026403213928,\n",
      "  - gamma: 0.004916268292617841,\n",
      "  - sigma: 0.0009718381123362555\n",
      "  - Derivatives: -3416.0541308814472, 1.803934784668489e-06, -5.5917513372897266e-05\n",
      "- Paremeters:\n",
      "  - sigma noise: 5.868648060067909,\n",
      "  - gamma: 0.004911484414783657,\n",
      "  - sigma: 0.0009699148122642274\n",
      "  - Derivatives: -1480.339232553969, 6.274482664630848e-07, -4.741912013576372e-06\n",
      "- Paremeters:\n",
      "  - sigma noise: 7.1754132868198255,\n",
      "  - gamma: 0.0049078290827219385,\n",
      "  - sigma: 0.000968446531616371\n",
      "  - Derivatives: -553.9000518007167, 2.797873386397185e-07, 5.832695207437089e-06\n",
      "- Paremeters:\n",
      "  - sigma noise: 8.091838278288872,\n",
      "  - gamma: 0.004905644929976356,\n",
      "  - sigma: 0.0009675697344320299\n",
      "  - Derivatives: -153.9128951699657, 1.7263181263842322e-07, 7.626363932459093e-06\n",
      "- Paremeters:\n",
      "  - sigma noise: 8.47488039313297,\n",
      "  - gamma: 0.004904804738615523,\n",
      "  - sigma: 0.0009672325567363979\n",
      "  - Derivatives: -23.86660350976956, 1.4335951312162677e-07, 7.850612833323304e-06\n",
      "- Paremeters:\n",
      "  - sigma noise: 8.547122121291544,\n",
      "  - gamma: 0.0049046505588016655,\n",
      "  - sigma: 0.0009671706866154842\n",
      "  - Derivatives: -1.2790966826396755, 1.385533955750063e-07, 7.871640476654862e-06\n",
      "- Paremeters:\n",
      "  - sigma noise: 8.551231436586141,\n",
      "  - gamma: 0.004904641827719037,\n",
      "  - sigma: 0.000967167180259904\n",
      "  - Derivatives: -0.011435733816824722, 1.382861036208205e-07, 7.872663435283085e-06\n",
      "- Paremeters:\n",
      "  - sigma noise: 8.551268516436973,\n",
      "  - gamma: 0.004904641748696883,\n",
      "  - sigma: 0.0009671671457412163\n",
      "  - Derivatives: -5.485611723088368e-06, 1.382836938509708e-07, 7.87267253612637e-06\n",
      "Hiperparametros encontrados:  [8.55126852e+00 4.90464175e-03 9.67167146e-04]\n",
      "Negative log-likelihood para hiperámetros optimizados:  2349.346977413608\n"
     ]
    }
   ],
   "source": [
    "import time\n",
    "from scipy.optimize import fmin_l_bfgs_b as fmin\n",
    "\n",
    "#entrenamiento del GP, es decir, encontrar los parámetros del kernel y del ruido\n",
    "args=(Vrobs,np.arange(IMAGE_SIZE_X*IMAGE_SIZE_Y), mask_vect_index)\n",
    "time_SE=0\n",
    "params0=np.asarray([0.001,  0.005,  0.001])\n",
    "X0=np.log(params0);\n",
    "print('Condicion inicial optimizador: ',params0)\n",
    "time_GP=time.time()\n",
    "X_opt, f_GP, data=fmin(like_covImagenReal,X0,like_covImagenReal_Df, args,disp=1,factr=0.000001/(2.22E-12),maxiter=50)\n",
    "time_GP=time.time()-time_GP\n",
    "sigma_y_GP, gamma_1, sig_1 = np.exp(X_opt)\n",
    "print('Hiperparametros encontrados: ', np.exp(X_opt))\n",
    "\n",
    "print('Negative log-likelihood para hiperámetros optimizados: ', f_GP)"
   ]
  },
  {
   "cell_type": "code",
   "execution_count": 214,
   "metadata": {},
   "outputs": [
    {
     "name": "stdout",
     "output_type": "stream",
     "text": [
      "W H shape: (2500, 659)\n",
      "Variance: [4.92391604e-03 9.72712473e-05 9.44133522e-05 ... 9.47898437e-05\n",
      " 1.91331344e-03 9.25395591e-03]\n"
     ]
    },
    {
     "data": {
      "text/plain": [
       "array([0.07017062, 0.00986262, 0.00971665, ..., 0.00973601, 0.04374144,\n",
       "       0.09619748])"
      ]
     },
     "execution_count": 214,
     "metadata": {},
     "output_type": "execute_result"
    }
   ],
   "source": [
    "t = np.arange(IMAGE_SIZE_X*IMAGE_SIZE_Y)\n",
    "t_obs = mask_vect_index\n",
    "N_obs = t_obs.shape[0]\n",
    "K = SE(t,t,gamma=0.1,sigma=1)\n",
    "\n",
    "II = np.identity(IMAGE_SIZE_X*IMAGE_SIZE_Y)\n",
    "\n",
    "samplingW = np.matmul(II, H)\n",
    "print('W H shape: {}'.format(samplingW.shape))\n",
    "\n",
    "cov = np.matmul(np.matmul(II,K),II)\n",
    "cov_obs = np.matmul(np.matmul(samplingW.T,K),samplingW)\n",
    "K_star = np.matmul(np.matmul(II,K),samplingW)\n",
    "\n",
    "# cGg=np.linalg.cholesky(cov_obs+sigma_y_GP**2*np.identity(N_obs))\n",
    "cGg=np.linalg.cholesky(cov_obs+0.01**2*np.identity(N_obs))\n",
    "invGramg=np.dot(np.linalg.inv(cGg.T),np.linalg.inv(cGg))\n",
    "temp=np.matmul(K_star,invGramg) \n",
    "y_model=np.matmul(temp,Vrobs)\n",
    "v_model=np.diag(cov-np.matmul(temp,K_star.T))\n",
    "\n",
    "print('Variance: {}'.format(v_model))\n",
    "std_dev= np.sqrt(v_model)\n",
    "std_dev"
   ]
  },
  {
   "cell_type": "code",
   "execution_count": 215,
   "metadata": {
    "collapsed": true
   },
   "outputs": [],
   "source": [
    "# (K_star == SE(t,t_obs,gamma=0.0005,sigma=1)).all()"
   ]
  },
  {
   "cell_type": "code",
   "execution_count": 216,
   "metadata": {},
   "outputs": [
    {
     "name": "stdout",
     "output_type": "stream",
     "text": [
      "Variance: True\n",
      "(array([], dtype=int64),)\n",
      "9.216379344190173e-05\n"
     ]
    }
   ],
   "source": [
    "print('Variance: {}'.format( (v_model>0).all() ))\n",
    "print(np.where(v_model<0))\n",
    "print(v_model[2400])"
   ]
  },
  {
   "cell_type": "code",
   "execution_count": 217,
   "metadata": {},
   "outputs": [
    {
     "data": {
      "text/plain": [
       "<matplotlib.image.AxesImage at 0x7fc120f87b38>"
      ]
     },
     "execution_count": 217,
     "metadata": {},
     "output_type": "execute_result"
    },
    {
     "data": {
      "image/png": "[encoded data removed]",
      "text/plain": [
       "<matplotlib.figure.Figure at 0x7fc1210fe4a8>"
      ]
     },
     "metadata": {},
     "output_type": "display_data"
    }
   ],
   "source": [
    "plt.imshow(K, cmap='seismic')"
   ]
  },
  {
   "cell_type": "code",
   "execution_count": 225,
   "metadata": {},
   "outputs": [
    {
     "data": {
      "text/plain": [
       "<matplotlib.text.Text at 0x7fc1208659e8>"
      ]
     },
     "execution_count": 225,
     "metadata": {},
     "output_type": "execute_result"
    },
    {
     "data": {
      "image/png": "[encoded data removed]",
      "text/plain": [
       "<matplotlib.figure.Figure at 0x7fc1209b52e8>"
      ]
     },
     "metadata": {},
     "output_type": "display_data"
    }
   ],
   "source": [
    "my_label_size = 20\n",
    "label_size = 20\n",
    "plt.rcParams['xtick.labelsize'] = label_size \n",
    "plt.rcParams['ytick.labelsize'] = label_size \n",
    "\n",
    "#plotear estimacion, observaciones y datos totales\n",
    "fig=plt.figure(3, figsize=(20,6))\n",
    "ax = plt.gca()\n",
    "plt.fill_between(t, y_model-2*std_dev, y_model+2*std_dev, facecolor='blue', alpha=0.2, label='95% CI')\n",
    "plt.plot(t,img_fft.real.reshape(-1), color='black',ls='--',label='true signal')\n",
    "plt.plot(mask_vect_index,Vrobs,'red',ms=15, linestyle='none', marker='.', label='observations')\n",
    "plt.plot(t,y_model, c='b', linestyle='none', marker='x',lw=4,label='posterior mean')\n",
    "\n",
    "leg=plt.legend(ncol=1,frameon=True, shadow=True, loc=4, fontsize=my_label_size)\n",
    "frame  = leg.get_frame()\n",
    "frame.set_facecolor('0.95')\n",
    "plt.xlabel('time [sample]', fontsize=my_label_size)\n",
    "plt.title('Signal recovery using {}% of observations'.format(p), fontsize=my_label_size)\n",
    "# plt.xlim([0,1800])"
   ]
  },
  {
   "cell_type": "code",
   "execution_count": null,
   "metadata": {
    "collapsed": true
   },
   "outputs": [],
   "source": []
  },
  {
   "cell_type": "code",
   "execution_count": null,
   "metadata": {
    "collapsed": true
   },
   "outputs": [],
   "source": []
  }
 ],
 "metadata": {
  "kernelspec": {
   "display_name": "Python 3",
   "language": "python",
   "name": "python3"
  },
  "language_info": {
   "codemirror_mode": {
    "name": "ipython",
    "version": 3
   },
   "file_extension": ".py",
   "mimetype": "text/x-python",
   "name": "python",
   "nbconvert_exporter": "python",
   "pygments_lexer": "ipython3",
   "version": "3.6.1"
  }
 },
 "nbformat": 4,
 "nbformat_minor": 2
}
