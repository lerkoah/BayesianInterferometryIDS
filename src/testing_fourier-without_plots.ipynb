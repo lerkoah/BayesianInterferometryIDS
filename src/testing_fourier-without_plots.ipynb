{
 "cells": [
  {
   "cell_type": "code",
   "execution_count": 1,
   "metadata": {
    "collapsed": true
   },
   "outputs": [],
   "source": [
    "import numpy as np"
   ]
  },
  {
   "cell_type": "markdown",
   "metadata": {},
   "source": [
    "# Image"
   ]
  },
  {
   "cell_type": "code",
   "execution_count": 140,
   "metadata": {
    "collapsed": false
   },
   "outputs": [
    {
     "name": "stdout",
     "output_type": "stream",
     "text": [
      "min I: 180 at (0,0)\n",
      "max I: 180 at (0,0)\n",
      "\n"
     ]
    }
   ],
   "source": [
    "size = 1\n",
    "MAX_VALUE = 255\n",
    "MIN_VALUE = 0\n",
    "IMAGE_SIZE_X = 20\n",
    "IMAGE_SIZE_Y = 20\n",
    "xCenter = IMAGE_SIZE_X/2\n",
    "yCenter = IMAGE_SIZE_Y/2\n",
    "l = 1\n",
    "\n",
    "#I = np.ceil((MAX_VALUE - MIN_VALUE) * np.random.rand(size) + MIN_VALUE)\n",
    "#Cx = np.ceil((IMAGE_SIZE_X)/2 + SIGMA*np.random.randn(size)).astype('int')\n",
    "#Cx = np.clip(Cx,0,IMAGE_SIZE_X)\n",
    "#Cy = np.ceil((IMAGE_SIZE_Y)/2 +  SIGMA*np.random.randn(size)).astype('int')\n",
    "#Cy = np.clip(Cy,0,IMAGE_SIZE_Y)\n",
    "\n",
    "I = np.array([180])\n",
    "Cx = np.array([0])\n",
    "Cy = np.array([0])\n",
    "\n",
    "minI = np.min(I)\n",
    "argminI = np.argmin(I)\n",
    "maxI = np.max(I)\n",
    "argmaxI = np.argmax(I)\n",
    "\n",
    "print('min I: %s at (%s,%s)\\n' \\\n",
    "      'max I: %s at (%s,%s)\\n' % (minI, Cx[argminI], Cy[argminI],\n",
    "                                  maxI, Cx[argmaxI], Cy[argmaxI]))"
   ]
  },
  {
   "cell_type": "code",
   "execution_count": 141,
   "metadata": {
    "collapsed": false
   },
   "outputs": [],
   "source": [
    "from modelfunctions import psi\n",
    "\n",
    "G_SIZE_REAL =  500\n",
    "x = np.linspace(0,IMAGE_SIZE_X,G_SIZE_REAL) - xCenter\n",
    "y = np.linspace(0,IMAGE_SIZE_Y,G_SIZE_REAL) - yCenter\n",
    "G = np.zeros([G_SIZE_REAL, G_SIZE_REAL])\n",
    "\n",
    "for i in range(G_SIZE_REAL):\n",
    "    for j in range(G_SIZE_REAL):\n",
    "        G[i,j] = I*psi(x[i],y[j],l,Cx,Cy)\n",
    "        \n",
    "G_fft = np.fft.fft2(G)\n",
    "G_fft = np.fft.fftshift(G_fft)"
   ]
  },
  {
   "cell_type": "code",
   "execution_count": 142,
   "metadata": {
    "collapsed": false
   },
   "outputs": [
    {
     "data": {
      "image/png": "[encoded data removed]",
      "text/plain": [
       "<matplotlib.figure.Figure at 0x7f73188f46d8>"
      ]
     },
     "metadata": {},
     "output_type": "display_data"
    }
   ],
   "source": [
    "import matplotlib.pyplot as plt\n",
    "\n",
    "plt.imshow(G)\n",
    "plt.show()"
   ]
  },
  {
   "cell_type": "markdown",
   "metadata": {
    "collapsed": true
   },
   "source": [
    "# Model"
   ]
  },
  {
   "cell_type": "code",
   "execution_count": 130,
   "metadata": {
    "collapsed": false
   },
   "outputs": [],
   "source": [
    "from scipy.special import erf"
   ]
  },
  {
   "cell_type": "code",
   "execution_count": 131,
   "metadata": {
    "collapsed": false
   },
   "outputs": [],
   "source": [
    "# basis function\n",
    "def phi(u, v, l, Cx, Cy):\n",
    "    return np.exp(-2*np.pi**2*(u*u+v*v)*l**2)*np.exp(2*np.pi*1j*(Cx*u+Cy*v))"
   ]
  },
  {
   "cell_type": "code",
   "execution_count": 143,
   "metadata": {
    "collapsed": false
   },
   "outputs": [],
   "source": [
    "G_SIZE_MODEL =  100\n",
    "\n",
    "factor = (400/G_SIZE_MODEL)\n",
    "#factor = 1\n",
    "\n",
    "G_fft_model = np.zeros((G_SIZE_MODEL,G_SIZE_MODEL),dtype=np.complex128)\n",
    "\n",
    "u = np.linspace(0,IMAGE_SIZE_X,G_SIZE_MODEL) - xCenter\n",
    "u = u/factor\n",
    "v = np.linspace(0,IMAGE_SIZE_Y,G_SIZE_MODEL) - yCenter\n",
    "v = v/factor\n",
    "\n",
    "for i in range(G_SIZE_MODEL):\n",
    "    for j in range(G_SIZE_MODEL):\n",
    "        G_fft_model[i,j] = I*l*np.sqrt(np.pi/2)*phi(u[i],v[j],l,Cx,Cy)"
   ]
  },
  {
   "cell_type": "markdown",
   "metadata": {},
   "source": [
    "** Definir una función, graficar ambas y calcular la anti transformada numérica. Para entender como funciona la FFT de numpy. **\n",
    "\n",
    "*Probar con cosine y exponential.*"
   ]
  },
  {
   "cell_type": "code",
   "execution_count": 144,
   "metadata": {
    "collapsed": false
   },
   "outputs": [
    {
     "data": {
      "image/png": "[encoded data removed]",
      "text/plain": [
       "<matplotlib.figure.Figure at 0x7f730a582048>"
      ]
     },
     "metadata": {},
     "output_type": "display_data"
    },
    {
     "data": {
      "image/png": "[encoded data removed]",
      "text/plain": [
       "<matplotlib.figure.Figure at 0x7f7312197550>"
      ]
     },
     "metadata": {},
     "output_type": "display_data"
    }
   ],
   "source": [
    "from scipy import ndimage\n",
    "\n",
    "G_model = np.fft.ifft2(G_fft_model)\n",
    "G_model = np.fft.fftshift(G_model)\n",
    "G_model.real = ndimage.rotate(G_model.real, 90*2)\n",
    "G_model.imag = ndimage.rotate(G_model.imag, 90*2)\n",
    "plt.imshow(np.abs(G_model))\n",
    "plt.title('Reconstruction using model')\n",
    "plt.show()\n",
    "\n",
    "plt.imshow(G)\n",
    "plt.title('Original Image')\n",
    "plt.show()"
   ]
  },
  {
   "cell_type": "code",
   "execution_count": 145,
   "metadata": {
    "collapsed": false
   },
   "outputs": [
    {
     "name": "stdout",
     "output_type": "stream",
     "text": [
      "-------------------------------------------------------------------\n",
      "Reconstruction (x index, y index, Max Value): (49, 49, 1.407612)\n",
      "      Original (x index, y index, Max Value): (249, 249, 71.780777)\n",
      "-------------------------------------------------------------------\n",
      "-------------------------------------------------------------------\n",
      "Reconstruction Centers: (-0.101010, -0.101010)\n",
      "      Original Centers: (-0.020040, -0.020040)\n",
      "-------------------------------------------------------------------\n"
     ]
    }
   ],
   "source": [
    "xIndex = np.ceil( np.argmax(np.max(np.abs(G_model), axis = 0)) ).astype(int)\n",
    "yIndex = np.ceil( np.argmax(np.max(np.abs(G_model), axis = 1)) ).astype(int)\n",
    "xIndexOr = np.ceil( np.argmax(np.max(G, axis = 0)) ).astype(int)\n",
    "yIndexOr = np.ceil( np.argmax(np.max(G, axis = 1)) ).astype(int)\n",
    "\n",
    "print('-------------------------------------------------------------------')\n",
    "print('Reconstruction (x index, y index, Max Value): (%i, %i, %f)' % (xIndex, yIndex, np.max(np.abs(G_model)) ) )\n",
    "print('      Original (x index, y index, Max Value): (%i, %i, %f)' % (xIndexOr, yIndexOr, np.max(G) ) )\n",
    "print('-------------------------------------------------------------------')\n",
    "print('-------------------------------------------------------------------')\n",
    "print('Reconstruction Centers: (%f, %f)' % (u[xIndex]*factor, u[yIndex]*factor))\n",
    "print('      Original Centers: (%f, %f)' % (x[xIndexOr], y[yIndexOr]) )\n",
    "print('-------------------------------------------------------------------')"
   ]
  },
  {
   "cell_type": "code",
   "execution_count": 107,
   "metadata": {
    "collapsed": false
   },
   "outputs": [
    {
     "name": "stdout",
     "output_type": "stream",
     "text": [
      "453.137737393\n",
      "0.0400801603206\n",
      "0.0501672240803\n",
      "0.798931195725\n",
      "0.727929184852\n"
     ]
    }
   ],
   "source": [
    "coef = np.max(G)/np.max(np.abs(G_model))\n",
    "dx = x[1]-x[0]\n",
    "du = u[1]-u[0]\n",
    "print(coef)\n",
    "print(dx)\n",
    "print(du)\n",
    "print(dx/du)\n",
    "print(dx**2*coef)"
   ]
  },
  {
   "cell_type": "code",
   "execution_count": null,
   "metadata": {
    "collapsed": true
   },
   "outputs": [],
   "source": []
  }
 ],
 "metadata": {
  "kernelspec": {
   "display_name": "Python 3",
   "language": "python",
   "name": "python3"
  },
  "language_info": {
   "codemirror_mode": {
    "name": "ipython",
    "version": 3
   },
   "file_extension": ".py",
   "mimetype": "text/x-python",
   "name": "python",
   "nbconvert_exporter": "python",
   "pygments_lexer": "ipython3",
   "version": "3.6.0"
  }
 },
 "nbformat": 4,
 "nbformat_minor": 2
}
