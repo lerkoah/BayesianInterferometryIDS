{
 "cells": [
  {
   "cell_type": "code",
   "execution_count": 1,
   "metadata": {
    "collapsed": true
   },
   "outputs": [],
   "source": [
    "import numpy as np"
   ]
  },
  {
   "cell_type": "markdown",
   "metadata": {},
   "source": [
    "# Image"
   ]
  },
  {
   "cell_type": "code",
   "execution_count": 2,
   "metadata": {
    "collapsed": false
   },
   "outputs": [
    {
     "name": "stdout",
     "output_type": "stream",
     "text": [
      "min I: 100 at (8,-3)\n",
      "max I: 180 at (4,2)\n",
      "\n"
     ]
    }
   ],
   "source": [
    "size = 1\n",
    "MAX_VALUE = 255\n",
    "MIN_VALUE = 0\n",
    "IMAGE_SIZE_X = 50\n",
    "IMAGE_SIZE_Y = 50\n",
    "xCenter = IMAGE_SIZE_X/2\n",
    "yCenter = IMAGE_SIZE_Y/2\n",
    "l = 1\n",
    "\n",
    "#I = np.ceil((MAX_VALUE - MIN_VALUE) * np.random.rand(size) + MIN_VALUE)\n",
    "#Cx = np.ceil((IMAGE_SIZE_X)/2 + SIGMA*np.random.randn(size)).astype('int')\n",
    "#Cx = np.clip(Cx,0,IMAGE_SIZE_X)\n",
    "#Cy = np.ceil((IMAGE_SIZE_Y)/2 +  SIGMA*np.random.randn(size)).astype('int')\n",
    "#Cy = np.clip(Cy,0,IMAGE_SIZE_Y)\n",
    "\n",
    "I = np.array([180, 100])\n",
    "Cx = np.array([4, 8])\n",
    "Cy = np.array([2, -3])\n",
    "\n",
    "minI = np.min(I)\n",
    "argminI = np.argmin(I)\n",
    "maxI = np.max(I)\n",
    "argmaxI = np.argmax(I)\n",
    "\n",
    "print('min I: %s at (%s,%s)\\n' \\\n",
    "      'max I: %s at (%s,%s)\\n' % (minI, Cx[argminI], Cy[argminI],\n",
    "                                  maxI, Cx[argmaxI], Cy[argmaxI]))"
   ]
  },
  {
   "cell_type": "code",
   "execution_count": 3,
   "metadata": {
    "collapsed": true
   },
   "outputs": [],
   "source": [
    "# Basis function in pixel domain\n",
    "def psi(x, y, l, Cx, Cy):\n",
    "    return (1.0 / (np.sqrt(2.0 * np.pi) * l)) * np.exp(-(1.0 / 2) * ((x - Cx) * (x - Cx) + (y - Cy) * (y - Cy)) / (l * l))"
   ]
  },
  {
   "cell_type": "code",
   "execution_count": 8,
   "metadata": {
    "collapsed": false
   },
   "outputs": [],
   "source": [
    "G_SIZE_REAL =  500\n",
    "x = np.linspace(0,IMAGE_SIZE_X,G_SIZE_REAL) - xCenter\n",
    "y = np.linspace(0,IMAGE_SIZE_Y,G_SIZE_REAL) - yCenter\n",
    "G = np.zeros([G_SIZE_REAL, G_SIZE_REAL])\n",
    "\n",
    "N_BASIS = I.shape[0]\n",
    "\n",
    "for i in range(G_SIZE_REAL):\n",
    "    for j in range(G_SIZE_REAL):\n",
    "        for k in range(N_BASIS):\n",
    "            G[i,j] += I[k]*psi(x[i],y[j],l,Cx[k],Cy[k])\n",
    "        \n",
    "G_fft = np.fft.fft2(G)\n",
    "G_fft = np.fft.fftshift(G_fft)"
   ]
  },
  {
   "cell_type": "code",
   "execution_count": 9,
   "metadata": {
    "collapsed": false
   },
   "outputs": [
    {
     "data": {
      "image/png": "[encoded data removed]",
      "text/plain": [
       "<matplotlib.figure.Figure at 0x7f39c80528d0>"
      ]
     },
     "metadata": {},
     "output_type": "display_data"
    }
   ],
   "source": [
    "import matplotlib.pyplot as plt\n",
    "\n",
    "plt.imshow(G)\n",
    "plt.show()"
   ]
  },
  {
   "cell_type": "markdown",
   "metadata": {
    "collapsed": true
   },
   "source": [
    "# Model"
   ]
  },
  {
   "cell_type": "code",
   "execution_count": 142,
   "metadata": {
    "collapsed": false
   },
   "outputs": [],
   "source": [
    "import theano.tensor as tt\n",
    "import numpy as np\n",
    "\n",
    "# basis function\n",
    "def phi(u, v, l, Cx, Cy):\n",
    "    return np.exp(-2*np.pi**2*(u*u+v*v)*l**2)*np.exp(2*np.pi*1j*(Cx*u+Cy*v))\n",
    "\n",
    "def V_obs(u, v, alpha, l, Cx, Cy, IMAGE_SIZE_X = 50, IMAGE_SIZE_Y = 50):\n",
    "    \n",
    "    u_aux = u - IMAGE_SIZE_X/2\n",
    "    v_aux = v - IMAGE_SIZE_Y/2\n",
    "    \n",
    "#     print(u_aux)\n",
    "    \n",
    "    A_u = tt.exp(-2*np.pi**2*(u_aux*u_aux)*l**2)\n",
    "    A_v = tt.exp(-2*np.pi**2*(v_aux*v_aux)*l**2)\n",
    "    A   = tt.outer(A_u,A_v)\n",
    "    print(A.eval().shape)\n",
    "#     print(A.shape)\n",
    "    \n",
    "    imagExp_u = tt.exp(2*np.pi*1j*(Cx[:,np.newaxis]*u_aux))\n",
    "    imagExp_v = tt.exp(2*np.pi*1j*(Cy[:,np.newaxis]*v_aux))\n",
    "    print(imagExp_u.eval().shape)\n",
    "#     print(imagExp_u.shape)\n",
    "    imagExp   = imagExp_u.dimshuffle(0, 1, 'x') * imagExp_v.dimshuffle(0, 'x', 1)\n",
    "    print(imagExp.eval().shape)\n",
    "    \n",
    "#     print((alpha*A*imagExp).eval().shape)\n",
    "    out = tt.sum(alpha*A*imagExp, axis = 0)\n",
    "    \n",
    "#     print(imagExp.shape)\n",
    "\n",
    "#     print(cosPart.shape, sinPart.shape)    \n",
    "    return tt.real(out), tt.imag(out)"
   ]
  },
  {
   "cell_type": "code",
   "execution_count": 153,
   "metadata": {
    "collapsed": false
   },
   "outputs": [
    {
     "name": "stdout",
     "output_type": "stream",
     "text": [
      "(4, 3)\n",
      "(3,)\n",
      "[130 130 130]\n"
     ]
    }
   ],
   "source": [
    "# alpha = np.array([1,1])\n",
    "# V_obs_real, V_obs_imag = V_obs(x+25,y+25, alpha, l,Cx, Cy)\n",
    "# print(np.max(V_obs_imag.eval()))\n",
    "\n",
    "# u_ej = np.array([[1,1,1,1,1,1],[0.5,0.5,0.5,0.5,0.5,0.5]])\n",
    "# B_ej = 2*np.array([[1,1,1,1,1,1]])\n",
    "# print(u_ej)\n",
    "# print(B_ej)\n",
    "# print(B_ej[:,np.newaxis]*u_ej)\n",
    "\n",
    "# a = np.arange(10).reshape(2,5)\n",
    "# a_tt = theano.shared(a)\n",
    "# print(a)\n",
    "# b = 0.5*np.arange(10.).reshape(2,5)\n",
    "# b_tt = theano.shared(b)\n",
    "# print(b)\n",
    "# print('----------')\n",
    "# c = np.tensordot(a,b, axes=(1,1))\n",
    "# print(c)\n",
    "\n",
    "import theano\n",
    "a = theano.shared(np.asarray([[1,1,1],[2,2,2],[3,3,3],[4,4,4]]))\n",
    "b = theano.shared(np.asarray([13,13,13]))\n",
    "print(a.eval().shape)\n",
    "print(b.eval().shape)\n",
    "\n",
    "print(tt.sum((a*b), axis=0).eval())"
   ]
  },
  {
   "cell_type": "code",
   "execution_count": 127,
   "metadata": {
    "collapsed": false
   },
   "outputs": [
    {
     "ename": "KeyboardInterrupt",
     "evalue": "",
     "output_type": "error",
     "traceback": [
      "\u001b[0;31m---------------------------------------------------------------------------\u001b[0m",
      "\u001b[0;31mKeyboardInterrupt\u001b[0m                         Traceback (most recent call last)",
      "\u001b[0;32m<ipython-input-127-a02c77195a8a>\u001b[0m in \u001b[0;36m<module>\u001b[0;34m()\u001b[0m\n\u001b[1;32m     14\u001b[0m     \u001b[0;32mfor\u001b[0m \u001b[0mj\u001b[0m \u001b[0;32min\u001b[0m \u001b[0mrange\u001b[0m\u001b[0;34m(\u001b[0m\u001b[0mG_SIZE_MODEL\u001b[0m\u001b[0;34m)\u001b[0m\u001b[0;34m:\u001b[0m\u001b[0;34m\u001b[0m\u001b[0m\n\u001b[1;32m     15\u001b[0m         \u001b[0;32mfor\u001b[0m \u001b[0mk\u001b[0m \u001b[0;32min\u001b[0m \u001b[0mrange\u001b[0m\u001b[0;34m(\u001b[0m\u001b[0mN_BASIS\u001b[0m\u001b[0;34m)\u001b[0m\u001b[0;34m:\u001b[0m\u001b[0;34m\u001b[0m\u001b[0m\n\u001b[0;32m---> 16\u001b[0;31m             \u001b[0mG_fft_model\u001b[0m\u001b[0;34m[\u001b[0m\u001b[0mi\u001b[0m\u001b[0;34m,\u001b[0m\u001b[0mj\u001b[0m\u001b[0;34m]\u001b[0m \u001b[0;34m+=\u001b[0m \u001b[0mI\u001b[0m\u001b[0;34m[\u001b[0m\u001b[0mk\u001b[0m\u001b[0;34m]\u001b[0m\u001b[0;34m*\u001b[0m\u001b[0ml\u001b[0m\u001b[0;34m*\u001b[0m\u001b[0mnp\u001b[0m\u001b[0;34m.\u001b[0m\u001b[0msqrt\u001b[0m\u001b[0;34m(\u001b[0m\u001b[0mnp\u001b[0m\u001b[0;34m.\u001b[0m\u001b[0mpi\u001b[0m\u001b[0;34m/\u001b[0m\u001b[0;36m2\u001b[0m\u001b[0;34m)\u001b[0m\u001b[0;34m*\u001b[0m\u001b[0mphi\u001b[0m\u001b[0;34m(\u001b[0m\u001b[0mu\u001b[0m\u001b[0;34m[\u001b[0m\u001b[0mi\u001b[0m\u001b[0;34m]\u001b[0m\u001b[0;34m,\u001b[0m\u001b[0mv\u001b[0m\u001b[0;34m[\u001b[0m\u001b[0mj\u001b[0m\u001b[0;34m]\u001b[0m\u001b[0;34m,\u001b[0m\u001b[0ml\u001b[0m\u001b[0;34m,\u001b[0m\u001b[0mCx\u001b[0m\u001b[0;34m[\u001b[0m\u001b[0mk\u001b[0m\u001b[0;34m]\u001b[0m\u001b[0;34m,\u001b[0m\u001b[0mCy\u001b[0m\u001b[0;34m[\u001b[0m\u001b[0mk\u001b[0m\u001b[0;34m]\u001b[0m\u001b[0;34m)\u001b[0m\u001b[0;34m\u001b[0m\u001b[0m\n\u001b[0m",
      "\u001b[0;31mKeyboardInterrupt\u001b[0m: "
     ]
    }
   ],
   "source": [
    "G_SIZE_MODEL =  G_SIZE_REAL\n",
    "\n",
    "factor = (IMAGE_SIZE_X*IMAGE_SIZE_Y/G_SIZE_MODEL)\n",
    "#factor = 1\n",
    "\n",
    "G_fft_model = np.zeros((G_SIZE_MODEL,G_SIZE_MODEL),dtype=np.complex128)\n",
    "\n",
    "u = np.linspace(0,IMAGE_SIZE_X,G_SIZE_MODEL) - xCenter\n",
    "u = u/factor\n",
    "v = np.linspace(0,IMAGE_SIZE_Y,G_SIZE_MODEL) - yCenter\n",
    "v = v/factor\n",
    "\n",
    "for i in range(G_SIZE_MODEL):\n",
    "    for j in range(G_SIZE_MODEL):\n",
    "        for k in range(N_BASIS):\n",
    "            G_fft_model[i,j] += I[k]*l*np.sqrt(np.pi/2)*phi(u[i],v[j],l,Cx[k],Cy[k])"
   ]
  },
  {
   "cell_type": "markdown",
   "metadata": {},
   "source": [
    "** Definir una función, graficar ambas y calcular la anti transformada numérica. Para entender como funciona la FFT de numpy. **\n",
    "\n",
    "*Probar con cosine y exponential.*"
   ]
  },
  {
   "cell_type": "code",
   "execution_count": 12,
   "metadata": {
    "collapsed": false
   },
   "outputs": [
    {
     "data": {
      "image/png": "[encoded data removed]",
      "text/plain": [
       "<matplotlib.figure.Figure at 0x7f39bc4d6898>"
      ]
     },
     "metadata": {},
     "output_type": "display_data"
    },
    {
     "data": {
      "image/png": "[encoded data removed]",
      "text/plain": [
       "<matplotlib.figure.Figure at 0x7f39bc4f9128>"
      ]
     },
     "metadata": {},
     "output_type": "display_data"
    }
   ],
   "source": [
    "from scipy import ndimage\n",
    "\n",
    "G_model = np.fft.ifft2(G_fft_model)\n",
    "G_model = np.fft.fftshift(G_model)\n",
    "G_model.real = ndimage.rotate(G_model.real, 90*2)\n",
    "G_model.imag = ndimage.rotate(G_model.imag, 90*2)\n",
    "plt.imshow(np.abs(G_model))\n",
    "plt.title('Reconstruction using model')\n",
    "plt.show()\n",
    "\n",
    "plt.imshow(G)\n",
    "plt.title('Original Image')\n",
    "plt.show()"
   ]
  },
  {
   "cell_type": "code",
   "execution_count": null,
   "metadata": {
    "collapsed": false
   },
   "outputs": [],
   "source": [
    "xIndex = np.ceil( np.argmax(np.max(np.abs(G_model), axis = 0)) ).astype(int)\n",
    "yIndex = np.ceil( np.argmax(np.max(np.abs(G_model), axis = 1)) ).astype(int)\n",
    "xIndexOr = np.ceil( np.argmax(np.max(G, axis = 0)) ).astype(int)\n",
    "yIndexOr = np.ceil( np.argmax(np.max(G, axis = 1)) ).astype(int)\n",
    "\n",
    "print('-------------------------------------------------------------------')\n",
    "print('Reconstruction (x index, y index, Max Value): (%i, %i, %f)' % (xIndex, yIndex, np.max(np.abs(G_model)) ) )\n",
    "print('      Original (x index, y index, Max Value): (%i, %i, %f)' % (xIndexOr, yIndexOr, np.max(G) ) )\n",
    "print('-------------------------------------------------------------------')\n",
    "print('-------------------------------------------------------------------')\n",
    "print('Reconstruction Centers: (%f, %f)' % (u[xIndex]*factor, u[yIndex]*factor))\n",
    "print('      Original Centers: (%f, %f)' % (x[xIndexOr], y[yIndexOr]) )\n",
    "print('-------------------------------------------------------------------')"
   ]
  },
  {
   "cell_type": "code",
   "execution_count": null,
   "metadata": {
    "collapsed": false
   },
   "outputs": [],
   "source": [
    "coef = np.max(G)/np.max(np.abs(G_model))\n",
    "dx = x[1]-x[0]\n",
    "du = u[1]-u[0]\n",
    "print(coef)\n",
    "print(dx)\n",
    "print(du)\n",
    "print(dx/du)\n",
    "print(dx**2*coef)"
   ]
  },
  {
   "cell_type": "code",
   "execution_count": null,
   "metadata": {
    "collapsed": true
   },
   "outputs": [],
   "source": []
  }
 ],
 "metadata": {
  "kernelspec": {
   "display_name": "Python 3",
   "language": "python",
   "name": "python3"
  },
  "language_info": {
   "codemirror_mode": {
    "name": "ipython",
    "version": 3
   },
   "file_extension": ".py",
   "mimetype": "text/x-python",
   "name": "python",
   "nbconvert_exporter": "python",
   "pygments_lexer": "ipython3",
   "version": "3.6.0"
  }
 },
 "nbformat": 4,
 "nbformat_minor": 2
}
