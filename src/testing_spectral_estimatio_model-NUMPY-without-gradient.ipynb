{
 "cells": [
  {
   "cell_type": "code",
   "execution_count": 1,
   "metadata": {
    "collapsed": true
   },
   "outputs": [],
   "source": [
    "import numpy as np\n",
    "import scipy.io as sio\n",
    "\n",
    "import matplotlib.pyplot as plt\n",
    "# from modelfunctions import *\n",
    "%matplotlib inline"
   ]
  },
  {
   "cell_type": "markdown",
   "metadata": {},
   "source": [
    "# Obtaining Data"
   ]
  },
  {
   "cell_type": "code",
   "execution_count": 2,
   "metadata": {
    "collapsed": true
   },
   "outputs": [],
   "source": [
    "control = 0 # 0: sinthetic; 1: real\n",
    "mycmap = 'seismic'\n",
    "np.random.seed(51)"
   ]
  },
  {
   "cell_type": "code",
   "execution_count": 3,
   "metadata": {
    "collapsed": true
   },
   "outputs": [],
   "source": [
    "def show_fft_image(img_fft, shift = True, save = False , name = 'my_name.png'):\n",
    "    \n",
    "    img_fftabs = img_fft\n",
    "    if type(img_fft[0,0]) == np.complex128:\n",
    "        img_fftabs = np.abs(img_fft)\n",
    "    \n",
    "    if shift:\n",
    "        img_fftabs = np.fft.fftshift(img_fftabs)\n",
    "    plt.imshow(img_fftabs, cmap=mycmap)\n",
    "    plt.grid('off')\n",
    "    \n",
    "    if save:\n",
    "        plt.savefig(name, format= 'png')"
   ]
  },
  {
   "cell_type": "code",
   "execution_count": 4,
   "metadata": {
    "collapsed": true
   },
   "outputs": [],
   "source": [
    "def phi(U,a,b,c,e,f):\n",
    "    try:\n",
    "        u = U[:,0]\n",
    "        v = U[:,1]\n",
    "    except IndexError:\n",
    "        u = U[0]\n",
    "        v = U[1]\n",
    "    return np.exp(2*np.pi**2*(a*v**2 + b*u**2 - c*u*v)/(4.*a*b-c**2) -2*np.pi*1j*(f*v+e*u))\n",
    "\n",
    "def psi(x,y, a, b, c, e, f):\n",
    "    invSigma = np.array([[-2.0*a,-c],[-c, -2.0*b]]).reshape(2,2)\n",
    "#     print(invSigma)\n",
    "    \n",
    "    if not isinstance(x,np.ndarray):\n",
    "        xx = np.array([x-e,y-f])\n",
    "    else:\n",
    "        xx = np.stack([x-e,y-f], axis = 1).T\n",
    "    \n",
    "    return np.exp(-xx.T.dot(invSigma).dot(xx))"
   ]
  },
  {
   "cell_type": "code",
   "execution_count": 5,
   "metadata": {},
   "outputs": [
    {
     "data": {
      "image/png": "[encoded data removed]",
      "text/plain": [
       "<matplotlib.figure.Figure at 0x7f49ce2810f0>"
      ]
     },
     "metadata": {},
     "output_type": "display_data"
    }
   ],
   "source": [
    "if control:\n",
    "    path = '/home/lerko/Dataset_ALMA'\n",
    "    fileName = 'Dataset_ALMA_11_07_17.mat'\n",
    "    fullPath = path +'/' + fileName\n",
    "    data = sio.loadmat(fullPath)\n",
    "    imageName = 'name_HLTau'\n",
    "    img = data['Dataset'][imageName][0,0]['size_128x128'][0,0]\n",
    "    IMAGE_SIZE_X, IMAGE_SIZE_Y = img.shape\n",
    "    x = np.arange(IMAGE_SIZE_X)\n",
    "    y = np.arange(IMAGE_SIZE_Y)\n",
    "    \n",
    "    print(data['Dataset'].dtype)\n",
    "elif not control:\n",
    "    x = np.arange(50)\n",
    "    y = np.arange(50)\n",
    "    \n",
    "    s1 = np.array([20,10])\n",
    "    s2 = np.array([20,10])\n",
    "    s12 = np.array([10,-5])\n",
    "\n",
    "    a = -0.5*s2/(s1*s2-s12**2)\n",
    "    b = -0.5*s1/(s1*s2-s12**2)\n",
    "    c = s12/(s1*s2-s12**2)\n",
    "#     invSigma = np.array([[-2.*a,-c],[-c, -2.*b]])\n",
    "#     print(np.linalg.inv(invSigma))\n",
    "\n",
    "    e = np.array([50,40])/2\n",
    "    f = np.array([40,60])/2\n",
    "    numberOfBasis = e.shape[0]\n",
    "    img = np.zeros((x.shape[0],y.shape[0]))\n",
    "\n",
    "    for i in range(x.shape[0]):\n",
    "        for j in range(y.shape[0]):\n",
    "            for k in range(numberOfBasis):\n",
    "                img[i,j] = img[i,j] + psi(x[i],y[j],a[k],b[k],c[k],e[k],f[k])\n",
    "    IMAGE_SIZE_X, IMAGE_SIZE_Y = img.shape\n",
    "\n",
    "plt.imshow(0.00058*img/np.max(img), cmap=mycmap)\n",
    "plt.colorbar()\n",
    "plt.tight_layout()\n",
    "# plt.savefig('{}.png'.format(imageName), format='png')"
   ]
  },
  {
   "cell_type": "code",
   "execution_count": 6,
   "metadata": {},
   "outputs": [
    {
     "data": {
      "text/plain": [
       "<matplotlib.colorbar.Colorbar at 0x7f49cc193e10>"
      ]
     },
     "execution_count": 6,
     "metadata": {},
     "output_type": "execute_result"
    },
    {
     "data": {
      "image/png": "[encoded data removed]",
      "text/plain": [
       "<matplotlib.figure.Figure at 0x7f49ce273b00>"
      ]
     },
     "metadata": {},
     "output_type": "display_data"
    }
   ],
   "source": [
    "# Calculate the spectrum\n",
    "img_fft= np.fft.fft2(img)\n",
    "FTgshift = np.fft.fftshift(img_fft)\n",
    "\n",
    "plt.imshow(np.log(np.abs(FTgshift)), cmap=mycmap)\n",
    "plt.colorbar()"
   ]
  },
  {
   "cell_type": "markdown",
   "metadata": {},
   "source": [
    "## Creating sampling mask"
   ]
  },
  {
   "cell_type": "markdown",
   "metadata": {},
   "source": [
    "For creating the sampling mask, we have made a u,v representations based on the antennas disposition. This is because, if the antennas disposition is random, the measures are not completely random. The Measurements positions are defined by the interferometry physics."
   ]
  },
  {
   "cell_type": "code",
   "execution_count": 7,
   "metadata": {},
   "outputs": [
    {
     "data": {
      "image/png": "[encoded data removed]",
      "text/plain": [
       "<matplotlib.figure.Figure at 0x7f49cbfeb5c0>"
      ]
     },
     "metadata": {},
     "output_type": "display_data"
    }
   ],
   "source": [
    "from masking import *\n",
    "\n",
    "## Parameters\n",
    "B_max = 1\n",
    "antennas = 30\n",
    "typeArray = 'URA'\n",
    "sigma = B_max/6.0\n",
    "\n",
    "lambda_phy=3*10**(-6); #(km)\n",
    "H0=10; #(deg)\n",
    "delta0=-30; #(deg)\n",
    "Lat=34.05;  #(deg) Lat VLA\n",
    "\n",
    "## Masking function returns the mask\n",
    "mask = createSpectrumMasking(B_max,antennas,typeArray,sigma, lambda_phy, H0, delta0, Lat, N1 = IMAGE_SIZE_X, N2 = IMAGE_SIZE_Y)\n",
    "show_fft_image(mask)"
   ]
  },
  {
   "cell_type": "markdown",
   "metadata": {},
   "source": [
    "## Sampling"
   ]
  },
  {
   "cell_type": "markdown",
   "metadata": {},
   "source": [
    "Variable measurements are the 2D representation for the measurements. U are the positions in the u,v spaces, i.e., U[0] = u, U[1] = v. Finally, V is the visibility function."
   ]
  },
  {
   "cell_type": "code",
   "execution_count": 8,
   "metadata": {},
   "outputs": [
    {
     "name": "stdout",
     "output_type": "stream",
     "text": [
      "Percentage of measurements: 26.36\n"
     ]
    },
    {
     "data": {
      "image/png": "[encoded data removed]",
      "text/plain": [
       "<matplotlib.figure.Figure at 0x7f49cbfac438>"
      ]
     },
     "metadata": {},
     "output_type": "display_data"
    }
   ],
   "source": [
    "measurements,Uobs,Vobs = UVCreator(img_fft,mask)\n",
    "\n",
    "measurements_abs = np.log(np.abs(measurements)+1e-12)\n",
    "show_fft_image(measurements_abs)\n",
    "\n",
    "percent = 100*Uobs.shape[0]/(measurements.shape[0]*measurements.shape[1]) \n",
    "print('Percentage of measurements: %s' % percent)"
   ]
  },
  {
   "cell_type": "code",
   "execution_count": 9,
   "metadata": {},
   "outputs": [
    {
     "name": "stdout",
     "output_type": "stream",
     "text": [
      "Getting indexes (u,v)->i..done.\n"
     ]
    }
   ],
   "source": [
    "print('Getting indexes (u,v)->i..', end='')\n",
    "mask_vect = mask.reshape(-1)\n",
    "mask_vect_index = np.where(mask_vect == 1)[0]\n",
    "mask_vect_index2 = np.concatenate([mask_vect_index, mask_vect_index])\n",
    "print('done.')"
   ]
  },
  {
   "cell_type": "code",
   "execution_count": 10,
   "metadata": {},
   "outputs": [
    {
     "name": "stdout",
     "output_type": "stream",
     "text": [
      "H shape: (2500, 659)\n",
      "Check sanity: True\n"
     ]
    }
   ],
   "source": [
    "# Sampling Matrix\n",
    "\n",
    "H = np.zeros((mask_vect_index.shape[0], IMAGE_SIZE_X*IMAGE_SIZE_Y))\n",
    "# print(mask_vect)\n",
    "\n",
    "p = 0\n",
    "for q in range(H.shape[1]):\n",
    "    if mask_vect[q] == 1:\n",
    "        H[p,q] = 1\n",
    "        p += 1\n",
    "#         print(p,q)\n",
    "# print(H)\n",
    "H = H.T\n",
    "print('H shape: {}'.format(H.shape))\n",
    "print('Check sanity: {}'.format((np.matmul(H.T,np.arange(2500)) - mask_vect_index).sum() == 0))"
   ]
  },
  {
   "cell_type": "markdown",
   "metadata": {},
   "source": [
    "# Model"
   ]
  },
  {
   "cell_type": "markdown",
   "metadata": {},
   "source": [
    "### Fourier Matrix"
   ]
  },
  {
   "cell_type": "code",
   "execution_count": 11,
   "metadata": {},
   "outputs": [
    {
     "name": "stdout",
     "output_type": "stream",
     "text": [
      "Krockener product shape: (2500, 2500)\n"
     ]
    }
   ],
   "source": [
    "import numpy as np\n",
    "def DFT_matrix(N):\n",
    "    i, j = np.meshgrid(np.arange(N), np.arange(N))\n",
    "    omega = np.exp( -2 * np.pi * 1J / N )\n",
    "    W = np.power( omega, i * j ) / np.sqrt(N)\n",
    "    return W\n",
    "\n",
    "Wizq = DFT_matrix(IMAGE_SIZE_X)\n",
    "Wder = DFT_matrix(IMAGE_SIZE_Y)\n",
    "W = np.kron(Wder.T,Wizq).T\n",
    "print('Krockener product shape: {}'.format(W.shape))"
   ]
  },
  {
   "cell_type": "code",
   "execution_count": 12,
   "metadata": {
    "collapsed": true
   },
   "outputs": [],
   "source": [
    "# plt.imshow(Kron.real)\n",
    "# plt.colorbar()"
   ]
  },
  {
   "cell_type": "code",
   "execution_count": 13,
   "metadata": {
    "collapsed": true
   },
   "outputs": [],
   "source": [
    "# plt.imshow(W.real*W.real.T)\n",
    "# plt.colorbar()"
   ]
  },
  {
   "cell_type": "code",
   "execution_count": 14,
   "metadata": {
    "collapsed": true
   },
   "outputs": [],
   "source": [
    "# plt.imshow(Kron.imag)\n",
    "# plt.colorbar()"
   ]
  },
  {
   "cell_type": "code",
   "execution_count": 15,
   "metadata": {
    "collapsed": true
   },
   "outputs": [],
   "source": [
    "# plt.imshow(np.abs(Kron))\n",
    "# plt.colorbar()"
   ]
  },
  {
   "cell_type": "code",
   "execution_count": 16,
   "metadata": {},
   "outputs": [
    {
     "name": "stdout",
     "output_type": "stream",
     "text": [
      "Separanting real and imaginary part...done.\n"
     ]
    }
   ],
   "source": [
    "print('Separanting real and imaginary part...', end='')\n",
    "Vrobs = Vobs[:,0]\n",
    "Viobs = Vobs[:,1]\n",
    "Vobs_concat = Vobs.reshape(-1, order='F')\n",
    "print('done.')"
   ]
  },
  {
   "cell_type": "code",
   "execution_count": 17,
   "metadata": {},
   "outputs": [
    {
     "name": "stdout",
     "output_type": "stream",
     "text": [
      "C shape: (2500, 5000)\n",
      "V concat shape: (5000, 1)\n"
     ]
    }
   ],
   "source": [
    "C = np.concatenate([np.eye(W.shape[0]), 1j*np.eye(W.shape[0])], axis=1)\n",
    "print('C shape: {}'.format(C.shape))\n",
    "V_concat = np.concatenate([img_fft.real.reshape(-1), img_fft.imag.reshape(-1)])[:,np.newaxis]\n",
    "print('V concat shape: {}'.format(V_concat.shape))\n",
    "W_new = np.matmul(W,C).real\n",
    "I_concat = np.matmul(W_new,V_concat)"
   ]
  },
  {
   "cell_type": "code",
   "execution_count": 18,
   "metadata": {},
   "outputs": [
    {
     "data": {
      "text/plain": [
       "<matplotlib.image.AxesImage at 0x7f49ad511160>"
      ]
     },
     "execution_count": 18,
     "metadata": {},
     "output_type": "execute_result"
    },
    {
     "data": {
      "image/png": "[encoded data removed]",
      "text/plain": [
       "<matplotlib.figure.Figure at 0x7f49cbf712b0>"
      ]
     },
     "metadata": {},
     "output_type": "display_data"
    }
   ],
   "source": [
    "plt.imshow(I_concat.reshape(IMAGE_SIZE_Y, IMAGE_SIZE_X))"
   ]
  },
  {
   "cell_type": "code",
   "execution_count": 19,
   "metadata": {},
   "outputs": [
    {
     "data": {
      "text/plain": [
       "<matplotlib.image.AxesImage at 0x7f49ad4a96d8>"
      ]
     },
     "execution_count": 19,
     "metadata": {},
     "output_type": "execute_result"
    },
    {
     "data": {
      "image/png": "[encoded data removed]",
      "text/plain": [
       "<matplotlib.figure.Figure at 0x7f49cbebc438>"
      ]
     },
     "metadata": {},
     "output_type": "display_data"
    }
   ],
   "source": [
    "I = np.matmul(W,img_fft.reshape(-1))\n",
    "plt.imshow(I.real.reshape(IMAGE_SIZE_Y, IMAGE_SIZE_X))"
   ]
  },
  {
   "cell_type": "markdown",
   "metadata": {},
   "source": [
    "## Kernels"
   ]
  },
  {
   "cell_type": "code",
   "execution_count": 20,
   "metadata": {
    "collapsed": true
   },
   "outputs": [],
   "source": [
    "import scipy as sp"
   ]
  },
  {
   "cell_type": "code",
   "execution_count": 21,
   "metadata": {
    "collapsed": true
   },
   "outputs": [],
   "source": [
    "sigma = 1\n",
    "gamma = 1./2"
   ]
  },
  {
   "cell_type": "code",
   "execution_count": 22,
   "metadata": {
    "collapsed": true
   },
   "outputs": [],
   "source": [
    "def kernel(i,j, sigma=sigma, gamma=gamma):\n",
    "    return sigma**2*np.exp(-gamma*(i-j)**2)\n",
    "\n",
    "def kernel_handler(x):\n",
    "    return kernel()\n",
    "\n",
    "def covImagReal(i,j, W=W):\n",
    "    out = 0\n",
    "    for k in range(W.shape[0]):\n",
    "        for l in range(W.shape[1]):\n",
    "            out += W[k,i] * kernel(k,l) * W[l,j]"
   ]
  },
  {
   "cell_type": "code",
   "execution_count": 23,
   "metadata": {
    "collapsed": true
   },
   "outputs": [],
   "source": [
    "# \"suma\" externa\n",
    "def outersum(a,b):\n",
    "    return np.outer(a,np.ones_like(b))+np.outer(np.ones_like(a),b)"
   ]
  },
  {
   "cell_type": "code",
   "execution_count": 24,
   "metadata": {
    "collapsed": true
   },
   "outputs": [],
   "source": [
    "A = np.ones([5,5])\n",
    "b = np.asarray([1,2,3,4,5])[:,np.newaxis]"
   ]
  },
  {
   "cell_type": "code",
   "execution_count": 25,
   "metadata": {
    "collapsed": true
   },
   "outputs": [],
   "source": [
    "def SE(a,b,gamma=1./2,sigma=1): \n",
    "    #Square Exponential kernel\n",
    "\n",
    "    #returns the evaluation of the kernel\n",
    "    #k(a,b)=sigma**2*exp(-gamma*(a-b)**2), \n",
    "    #notice that in this definition gamma = 1 /(2*lengthscale**2), in order to simplify the derivatives\n",
    "    #for consistency with the generation of Gram matrices, this function returns\n",
    "    #a matrix of dimensions dim(a) x dim(b);  \n",
    "\n",
    "    #INPUTS\n",
    "    #a,b are column vectors of (possibly) different lenghts\n",
    "    u1 = a % IMAGE_SIZE_X\n",
    "    u2 = b % IMAGE_SIZE_X\n",
    "    \n",
    "    v1 = np.floor(a/IMAGE_SIZE_X)\n",
    "    v2 = np.floor(b/IMAGE_SIZE_X)\n",
    "    \n",
    "    sa=np.size(a); sb=np.size(b)\n",
    "\n",
    "    if sa==1: a=np.array([a])\n",
    "    if sb==1: b=np.array([b])\n",
    "    K=np.zeros([sa,sb])\n",
    "    #accelerate computation if a==b\n",
    "    if np.array_equal(a,b):\n",
    "        for va in range(sa):\n",
    "            K[va,va]=1;\n",
    "            for vb in range(va+1,sb):\n",
    "                K[va,vb]= np.exp(-((u1[va] - u2[vb])**2 + (v1[va] - v2[vb])**2)*gamma)\n",
    "                K[vb,va]= K[va,vb]\n",
    "    #a!=b\n",
    "    else:\n",
    "        for va in range(sa):\n",
    "            for vb in range(sb):\n",
    "                K[va,vb]=np.exp(-((u1[va] - u2[vb])**2 + (v1[va] - v2[vb])**2)*gamma)\n",
    "    if sa==1:\n",
    "        return sigma**2*np.reshape(K,b.shape)\n",
    "    elif sb==1:\n",
    "        return sigma**2*np.reshape(K,a.shape)\n",
    "    else:\n",
    "        return sigma**2*K"
   ]
  },
  {
   "cell_type": "code",
   "execution_count": 26,
   "metadata": {
    "collapsed": true
   },
   "outputs": [],
   "source": [
    "def SpectralMixture(a,b,sigma,mu):\n",
    "    \n",
    "    #INPUTS\n",
    "    #a,b are column vectors of (possibly) different lenghts\n",
    "    u1 = a % IMAGE_SIZE_X\n",
    "    u2 = b % IMAGE_SIZE_X\n",
    "    \n",
    "    v1 = np.floor(a/IMAGE_SIZE_X)\n",
    "    v2 = np.floor(b/IMAGE_SIZE_X)\n",
    "    sa=np.size(a); sb=np.size(b)\n",
    "\n",
    "    if sa==1: a=np.array([a])\n",
    "    if sb==1: b=np.array([b])\n",
    "    K=np.zeros([sa,sb])\n",
    "    #accelerate computation if a==b\n",
    "    if np.array_equal(a,b):\n",
    "        for va in range(sa):\n",
    "            K[va,va]=1;\n",
    "            for vb in range(va+1,sb):\n",
    "                tau = np.sqrt((u1[va] - u2[vb])**2 + (v1[va] - v2[vb])**2)\n",
    "                K[va,vb] = np.exp(-2.0*(np.pi**2)*(tau**2)*sigma**2)*np.cos(2*np.pi*(tau)*mu)\n",
    "                K[vb,va] = K[va,vb]\n",
    "    #a!=b\n",
    "    else:\n",
    "        for va in range(sa):\n",
    "            for vb in range(sb):\n",
    "                tau = np.sqrt((u1[va] - u2[vb])**2 + (v1[va] - v2[vb])**2)\n",
    "                K[va,vb] = np.exp(-2.0*(np.pi**2)*(tau**2)*sigma**2)*np.cos(2*np.pi*(tau)*mu)\n",
    "    if sa==1:\n",
    "        return np.reshape(K,b.shape)\n",
    "    elif sb==1:\n",
    "        return np.reshape(K,a.shape)\n",
    "    else:\n",
    "        return K"
   ]
  },
  {
   "cell_type": "code",
   "execution_count": 27,
   "metadata": {
    "collapsed": true
   },
   "outputs": [],
   "source": [
    "def LocallyPeriodic(a,b,sigma,p,l):\n",
    "    #INPUTS\n",
    "    u1 = a % IMAGE_SIZE_X\n",
    "    u2 = b % IMAGE_SIZE_X\n",
    "    \n",
    "    v1 = np.floor(a/IMAGE_SIZE_X)\n",
    "    v2 = np.floor(b/IMAGE_SIZE_X)\n",
    "    #a,b are column vectors of (possibly) different lenghts\n",
    "    sa=np.size(a); sb=np.size(b)\n",
    "\n",
    "    if sa==1: a=np.array([a])\n",
    "    if sb==1: b=np.array([b])\n",
    "    K=np.zeros([sa,sb])\n",
    "    #accelerate computation if a==b\n",
    "    if np.array_equal(a,b):\n",
    "        for va in range(sa):\n",
    "            K[va,va]=(sigma**2)\n",
    "            for vb in range(va+1,sb):\n",
    "                tau = np.sqrt((u1[va] - u2[vb])**2 + (v1[va] - v2[vb])**2)\n",
    "                K[va,vb] = (sigma**2)*np.exp(-(2*np.sin(np.pi*tau/p)**2)/(l**2))*np.exp(-(tau**2)/(2*l**2))\n",
    "                K[vb,va] = K[va,vb]\n",
    "    #a!=b\n",
    "    else:\n",
    "        for va in range(sa):\n",
    "            for vb in range(sb):\n",
    "                tau = np.sqrt((u1[va] - u2[vb])**2 + (v1[va] - v2[vb])**2)\n",
    "                K[va,vb] = (sigma**2)*np.exp(-(2*np.sin(np.pi*tau/p)**2)/(l**2))*np.exp(-(tau**2)/(2*l**2))\n",
    "    if sa==1:\n",
    "        return np.reshape(K,b.shape)\n",
    "    elif sb==1:\n",
    "        return np.reshape(K,a.shape)\n",
    "    else:\n",
    "        return K"
   ]
  },
  {
   "cell_type": "code",
   "execution_count": 28,
   "metadata": {
    "collapsed": true
   },
   "outputs": [],
   "source": [
    "#negative log-likelihood when using SE kernel\n",
    "def like_covImagenReal(X, y, t):\n",
    "    #entrenamiento con respecto al logaritmo de los hyperparámetros, para no imponer restricciones de positividad\n",
    "    sigma_noise, gamma_1, sig_1 = np.exp(X)\n",
    "    print('sigma noise: {}\\ngamma: {}\\nsigma: {}'.format(sigma_noise, gamma_1, sig_1))\n",
    "    Gram= SE(t,t,gamma_1,sig_1) + sigma_noise**2*np.identity(len(t))\n",
    "#     sigma_noise, sigma_1, mu_1 = np.exp(X)\n",
    "#     print('sigma noise: {}\\nsigma: {}\\nmu: {}'.format(sigma_noise, sigma_1, mu_1))\n",
    "#     Gram = SpectralMixture(t,t, sigma_1, mu_1) + sigma_noise**2*np.identity(len(t))\n",
    "#     sigma_noise, sigma_1, p_1, l_1 = np.exp(X)\n",
    "#     print('sigma noise: {}\\nsigma: {}\\nl: {}\\np: {}'.format(sigma_noise, sigma_1, p_1, l_1))\n",
    "#     Gram = LocallyPeriodic(t,t, sigma_1, p_1,l_1) + sigma_noise**2*np.identity(len(t))\n",
    "    \n",
    "    cGg=np.linalg.cholesky(Gram)\n",
    "    invGram=np.dot(np.linalg.inv(cGg.T),np.linalg.inv(cGg))\n",
    "    \n",
    "    nll=np.dot(y,np.dot(invGram,y)) + 2*np.sum(np.log(np.diag(cGg)))\n",
    "    return 0.5*nll+0.5*len(y)*np.log(2*np.pi)"
   ]
  },
  {
   "cell_type": "code",
   "execution_count": 29,
   "metadata": {},
   "outputs": [
    {
     "name": "stdout",
     "output_type": "stream",
     "text": [
      "Condicion inicial optimizador:  [1.00000000e-04 3.16227766e-01 1.00000000e+00]\n",
      "sigma noise: 0.00010000000000000009\n",
      "gamma: 0.316227766016838\n",
      "sigma: 1.0\n",
      "sigma noise: 0.00010000000100000018\n",
      "gamma: 0.316227766016838\n",
      "sigma: 1.0\n",
      "sigma noise: 0.00010000000000000009\n",
      "gamma: 0.3162277691791156\n",
      "sigma: 1.0\n",
      "sigma noise: 0.00010000000000000009\n",
      "gamma: 0.316227766016838\n",
      "sigma: 1.00000001\n",
      "sigma noise: 0.00010000008419997892\n",
      "gamma: 0.7874252553850216\n",
      "sigma: 1.506079318744269\n",
      "sigma noise: 0.00010000008519997985\n",
      "gamma: 0.7874252553850216\n",
      "sigma: 1.506079318744269\n",
      "sigma noise: 0.00010000008419997892\n",
      "gamma: 0.7874252632592742\n",
      "sigma: 1.506079318744269\n",
      "sigma noise: 0.00010000008419997892\n",
      "gamma: 0.7874252553850216\n",
      "sigma: 1.5060793338050622\n",
      "sigma noise: 0.0001000000842339379\n",
      "gamma: 0.7957669543164722\n",
      "sigma: 1.524125195174605\n",
      "sigma noise: 0.00010000008523393884\n",
      "gamma: 0.7957669543164722\n",
      "sigma: 1.524125195174605\n",
      "sigma noise: 0.0001000000842339379\n",
      "gamma: 0.7957669622741417\n",
      "sigma: 1.524125195174605\n",
      "sigma noise: 0.0001000000842339379\n",
      "gamma: 0.7957669543164722\n",
      "sigma: 1.5241252104158571\n",
      "sigma noise: 0.0001000000843697739\n",
      "gamma: 0.8300268506958935\n",
      "sigma: 1.5984970257363962\n",
      "sigma noise: 0.00010000008536977483\n",
      "gamma: 0.8300268506958935\n",
      "sigma: 1.5984970257363962\n",
      "sigma noise: 0.0001000000843697739\n",
      "gamma: 0.8300268589961621\n",
      "sigma: 1.5984970257363962\n",
      "sigma noise: 0.0001000000843697739\n",
      "gamma: 0.8300268506958935\n",
      "sigma: 1.5984970417213666\n",
      "sigma noise: 0.00010000008750284621\n",
      "gamma: 0.986370157239465\n",
      "sigma: 2.047003702443133\n",
      "sigma noise: 0.00010000008850284719\n",
      "gamma: 0.986370157239465\n",
      "sigma: 2.047003702443133\n",
      "sigma noise: 0.00010000008750284621\n",
      "gamma: 0.9863701671031666\n",
      "sigma: 2.047003702443133\n",
      "sigma noise: 0.00010000008750284621\n",
      "gamma: 0.986370157239465\n",
      "sigma: 2.0470037229131703\n",
      "sigma noise: 0.00010000008965838787\n",
      "gamma: 1.1011332682531925\n",
      "sigma: 2.5275600003065866\n",
      "sigma noise: 0.00010000009065838885\n",
      "gamma: 1.1011332682531925\n",
      "sigma: 2.5275600003065866\n",
      "sigma noise: 0.00010000008965838787\n",
      "gamma: 1.1011332792645252\n",
      "sigma: 2.5275600003065866\n",
      "sigma noise: 0.00010000008965838787\n",
      "gamma: 1.1011332682531925\n",
      "sigma: 2.527560025582187\n",
      "sigma noise: 0.00010000009328966089\n",
      "gamma: 1.2308585008739723\n",
      "sigma: 3.300318088782733\n",
      "sigma noise: 0.0001000000942896619\n",
      "gamma: 1.2308585008739723\n",
      "sigma: 3.300318088782733\n",
      "sigma noise: 0.00010000009328966089\n",
      "gamma: 1.2308585131825573\n",
      "sigma: 3.300318088782733\n",
      "sigma noise: 0.00010000009328966089\n",
      "gamma: 1.2308585008739723\n",
      "sigma: 3.300318121785914\n",
      "sigma noise: 0.00010000009747499003\n",
      "gamma: 1.3493914243956082\n",
      "sigma: 4.2959182132848905\n",
      "sigma noise: 0.00010000009847499109\n",
      "gamma: 1.3493914243956082\n",
      "sigma: 4.2959182132848905\n",
      "sigma noise: 0.00010000009747499003\n",
      "gamma: 1.3493914378895224\n",
      "sigma: 4.2959182132848905\n",
      "sigma noise: 0.00010000009747499003\n",
      "gamma: 1.3493914243956082\n",
      "sigma: 4.2959182562440725\n",
      "sigma noise: 0.00010000010190881807\n",
      "gamma: 1.4673927183806685\n",
      "sigma: 5.587741900510054\n",
      "sigma noise: 0.00010000010290881917\n",
      "gamma: 1.4673927183806685\n",
      "sigma: 5.587741900510054\n",
      "sigma noise: 0.00010000010190881807\n",
      "gamma: 1.4673927330545957\n",
      "sigma: 5.587741900510054\n",
      "sigma noise: 0.00010000010190881807\n",
      "gamma: 1.4673927183806685\n",
      "sigma: 5.5877419563874735\n",
      "sigma noise: 0.00010000010570880811\n",
      "gamma: 1.5879083259540945\n",
      "sigma: 7.0602018792701475\n",
      "sigma noise: 0.00010000010670880926\n",
      "gamma: 1.5879083259540945\n",
      "sigma: 7.0602018792701475\n",
      "sigma noise: 0.00010000010570880811\n",
      "gamma: 1.5879083418331779\n",
      "sigma: 7.0602018792701475\n",
      "sigma noise: 0.00010000010570880811\n",
      "gamma: 1.5879083259540945\n",
      "sigma: 7.060201949872166\n",
      "sigma noise: 0.00010000010798217835\n",
      "gamma: 1.7240046358233108\n",
      "sigma: 8.472549119715744\n",
      "sigma noise: 0.00010000010898217951\n",
      "gamma: 1.7240046358233108\n",
      "sigma: 8.472549119715744\n",
      "sigma noise: 0.00010000010798217835\n",
      "gamma: 1.7240046530633573\n",
      "sigma: 8.472549119715744\n",
      "sigma noise: 0.00010000010798217835\n",
      "gamma: 1.7240046358233108\n",
      "sigma: 8.472549204441236\n",
      "sigma noise: 0.0001000001079275903\n",
      "gamma: 1.8923024605622507\n",
      "sigma: 9.466470363437839\n",
      "sigma noise: 0.00010000010892759148\n",
      "gamma: 1.8923024605622507\n",
      "sigma: 9.466470363437839\n",
      "sigma noise: 0.0001000001079275903\n",
      "gamma: 1.8923024794852754\n",
      "sigma: 9.466470363437839\n",
      "sigma noise: 0.0001000001079275903\n",
      "gamma: 1.8923024605622507\n",
      "sigma: 9.466470458102542\n",
      "sigma noise: 0.00010000010525134742\n",
      "gamma: 2.1344179642940646\n",
      "sigma: 9.938414756376414\n",
      "sigma noise: 0.00010000010625134857\n",
      "gamma: 2.1344179642940646\n",
      "sigma: 9.938414756376414\n",
      "sigma noise: 0.00010000010525134742\n",
      "gamma: 2.1344179856382444\n",
      "sigma: 9.938414756376414\n",
      "sigma noise: 0.00010000010525134742\n",
      "gamma: 2.1344179642940646\n",
      "sigma: 9.938414855760561\n",
      "sigma noise: 0.00010000010112607877\n",
      "gamma: 2.7493419073100482\n",
      "sigma: 9.925062989037523\n",
      "sigma noise: 0.00010000010212607987\n",
      "gamma: 2.7493419073100482\n",
      "sigma: 9.925062989037523\n",
      "sigma noise: 0.00010000010112607877\n",
      "gamma: 2.7493419348034673\n",
      "sigma: 9.925062989037523\n",
      "sigma noise: 0.00010000010112607877\n",
      "gamma: 2.7493419073100482\n",
      "sigma: 9.925063088288153\n",
      "sigma noise: 0.00010000009539365718\n",
      "gamma: 4.644489408925563\n",
      "sigma: 8.76722843892082\n",
      "sigma noise: 0.00010000009639365822\n",
      "gamma: 4.644489408925563\n",
      "sigma: 8.76722843892082\n",
      "sigma noise: 0.00010000009539365718\n",
      "gamma: 4.644489455370457\n",
      "sigma: 8.76722843892082\n",
      "sigma noise: 0.00010000009539365718\n",
      "gamma: 4.644489408925563\n",
      "sigma: 8.767228526593106\n",
      "sigma noise: 0.00010000009295805188\n",
      "gamma: 5.682340647232375\n",
      "sigma: 8.428154508692687\n",
      "sigma noise: 0.00010000009395805289\n",
      "gamma: 5.682340647232375\n",
      "sigma: 8.428154508692687\n",
      "sigma noise: 0.00010000009295805188\n",
      "gamma: 5.682340704055782\n",
      "sigma: 8.428154508692687\n",
      "sigma noise: 0.00010000009295805188\n",
      "gamma: 5.682340647232375\n",
      "sigma: 8.428154592974233\n",
      "sigma noise: 0.00010000009129603049\n",
      "gamma: 6.294699211796673\n",
      "sigma: 8.42926343284185\n",
      "sigma noise: 0.00010000009229603149\n",
      "gamma: 6.294699211796673\n",
      "sigma: 8.42926343284185\n",
      "sigma noise: 0.00010000009129603049\n",
      "gamma: 6.294699274743666\n",
      "sigma: 8.42926343284185\n",
      "sigma noise: 0.00010000009129603049\n",
      "gamma: 6.294699211796673\n",
      "sigma: 8.429263517134485\n",
      "sigma noise: 0.00010000008825201578\n",
      "gamma: 7.270686933157048\n",
      "sigma: 8.60277154922001\n",
      "sigma noise: 0.00010000008925201675\n",
      "gamma: 7.270686933157048\n",
      "sigma: 8.60277154922001\n",
      "sigma noise: 0.00010000008825201578\n",
      "gamma: 7.270687005863917\n",
      "sigma: 8.60277154922001\n",
      "sigma noise: 0.00010000008825201578\n",
      "gamma: 7.270686933157048\n",
      "sigma: 8.602771635247727\n",
      "sigma noise: 0.0001000000868700626\n",
      "gamma: 7.901216294411187\n",
      "sigma: 8.581914595977015\n",
      "sigma noise: 0.00010000008787006355\n",
      "gamma: 7.901216294411187\n",
      "sigma: 8.581914595977015\n",
      "sigma noise: 0.0001000000868700626\n",
      "gamma: 7.90121637342335\n",
      "sigma: 8.581914595977015\n",
      "sigma noise: 0.0001000000868700626\n",
      "gamma: 7.901216294411187\n",
      "sigma: 8.58191468179616\n",
      "sigma noise: 0.00010000008495987997\n",
      "gamma: 8.868067484632345\n",
      "sigma: 8.550756598207794\n",
      "sigma noise: 0.0001000000859598809\n",
      "gamma: 8.868067484632345\n",
      "sigma: 8.550756598207794\n",
      "sigma noise: 0.00010000008495987997\n",
      "gamma: 8.86806757331302\n",
      "sigma: 8.550756598207794\n",
      "sigma noise: 0.00010000008495987997\n",
      "gamma: 8.868067484632345\n",
      "sigma: 8.55075668371536\n",
      "sigma noise: 0.0001000000835019829\n",
      "gamma: 9.646468154269954\n",
      "sigma: 8.547457536592104\n",
      "sigma noise: 0.00010000008450198381\n",
      "gamma: 9.646468154269954\n",
      "sigma: 8.547457536592104\n",
      "sigma noise: 0.0001000000835019829\n",
      "gamma: 9.646468250734635\n",
      "sigma: 8.547457536592104\n",
      "sigma noise: 0.0001000000835019829\n",
      "gamma: 9.646468154269954\n",
      "sigma: 8.547457622066679\n",
      "sigma noise: 0.00010000008197567028\n",
      "gamma: 10.494190973441388\n",
      "sigma: 8.55375125035082\n",
      "sigma noise: 0.00010000008297567119\n",
      "gamma: 10.494190973441388\n",
      "sigma: 8.55375125035082\n",
      "sigma noise: 0.00010000008197567028\n",
      "gamma: 10.494191078383297\n",
      "sigma: 8.55375125035082\n",
      "sigma noise: 0.00010000008197567028\n",
      "gamma: 10.494190973441388\n",
      "sigma: 8.553751335888332\n",
      "sigma noise: 0.00010000008065335486\n",
      "gamma: 11.291719108924728\n",
      "sigma: 8.551616724289913\n",
      "sigma noise: 0.00010000008165335575\n",
      "gamma: 11.291719108924728\n",
      "sigma: 8.551616724289913\n",
      "sigma noise: 0.00010000008065335486\n",
      "gamma: 11.291719221841918\n",
      "sigma: 8.551616724289913\n",
      "sigma noise: 0.00010000008065335486\n",
      "gamma: 11.291719108924728\n",
      "sigma: 8.551616809806081\n",
      "sigma noise: 0.00010000007942894895\n",
      "gamma: 12.108590130497921\n",
      "sigma: 8.553307412328694\n",
      "sigma noise: 0.00010000008042894983\n",
      "gamma: 12.108590130497921\n",
      "sigma: 8.553307412328694\n",
      "sigma noise: 0.00010000007942894895\n",
      "gamma: 12.108590251583824\n",
      "sigma: 8.553307412328694\n"
     ]
    },
    {
     "name": "stdout",
     "output_type": "stream",
     "text": [
      "sigma noise: 0.00010000007942894895\n",
      "gamma: 12.108590130497921\n",
      "sigma: 8.553307497861768\n",
      "sigma noise: 0.00010000007817550207\n",
      "gamma: 12.948706409832294\n",
      "sigma: 8.545820879486397\n",
      "sigma noise: 0.00010000007917550295\n",
      "gamma: 12.948706409832294\n",
      "sigma: 8.545820879486397\n",
      "sigma noise: 0.00010000007817550207\n",
      "gamma: 12.948706539319359\n",
      "sigma: 8.545820879486397\n",
      "sigma noise: 0.00010000007817550207\n",
      "gamma: 12.948706409832294\n",
      "sigma: 8.545820964944607\n",
      "sigma noise: 0.00010000007734777724\n",
      "gamma: 13.549647814234852\n",
      "sigma: 8.549447834814314\n",
      "sigma noise: 0.0001000000783477781\n",
      "gamma: 13.549647814234852\n",
      "sigma: 8.549447834814314\n",
      "sigma noise: 0.00010000007734777724\n",
      "gamma: 13.54964794973133\n",
      "sigma: 8.549447834814314\n",
      "sigma noise: 0.00010000007734777724\n",
      "gamma: 13.549647814234852\n",
      "sigma: 8.549447920308793\n",
      "sigma noise: 0.00010000007629202929\n",
      "gamma: 14.35236662339079\n",
      "sigma: 8.551627731720027\n",
      "sigma noise: 0.00010000007729203014\n",
      "gamma: 14.35236662339079\n",
      "sigma: 8.551627731720027\n",
      "sigma noise: 0.00010000007629202929\n",
      "gamma: 14.352366766914455\n",
      "sigma: 8.551627731720027\n",
      "sigma noise: 0.00010000007629202929\n",
      "gamma: 14.35236662339079\n",
      "sigma: 8.551627817236305\n",
      "sigma noise: 0.00010000007540225485\n",
      "gamma: 15.062213561452072\n",
      "sigma: 8.551742044186872\n",
      "sigma noise: 0.00010000007640225569\n",
      "gamma: 15.062213561452072\n",
      "sigma: 8.551742044186872\n",
      "sigma noise: 0.00010000007540225485\n",
      "gamma: 15.062213712074207\n",
      "sigma: 8.551742044186872\n",
      "sigma noise: 0.00010000007540225485\n",
      "gamma: 15.062213561452072\n",
      "sigma: 8.55174212970429\n",
      "sigma noise: 0.00010000007445292925\n",
      "gamma: 15.899781603734157\n",
      "sigma: 8.548200491015404\n",
      "sigma noise: 0.00010000007545293008\n",
      "gamma: 15.899781603734157\n",
      "sigma: 8.548200491015404\n",
      "sigma noise: 0.00010000007445292925\n",
      "gamma: 15.899781762731973\n",
      "sigma: 8.548200491015404\n",
      "sigma noise: 0.00010000007445292925\n",
      "gamma: 15.899781603734157\n",
      "sigma: 8.548200576497408\n",
      "sigma noise: 0.00010000007413593015\n",
      "gamma: 16.16198937527381\n",
      "sigma: 8.550671740818997\n",
      "sigma noise: 0.00010000007513593097\n",
      "gamma: 16.16198937527381\n",
      "sigma: 8.550671740818997\n",
      "sigma noise: 0.00010000007413593015\n",
      "gamma: 16.161989536893703\n",
      "sigma: 8.550671740818997\n",
      "sigma noise: 0.00010000007413593015\n",
      "gamma: 16.16198937527381\n",
      "sigma: 8.550671826325715\n",
      "sigma noise: 0.00010000007359106302\n",
      "gamma: 16.650389096157515\n",
      "sigma: 8.551386542125153\n",
      "sigma noise: 0.00010000007459106384\n",
      "gamma: 16.650389096157515\n",
      "sigma: 8.551386542125153\n",
      "sigma noise: 0.00010000007359106302\n",
      "gamma: 16.650389262661406\n",
      "sigma: 8.551386542125153\n",
      "sigma noise: 0.00010000007359106302\n",
      "gamma: 16.650389096157515\n",
      "sigma: 8.551386627639017\n",
      "sigma noise: 0.00010000007292282799\n",
      "gamma: 17.27561070104427\n",
      "sigma: 8.551513940225115\n",
      "sigma noise: 0.0001000000739228288\n",
      "gamma: 17.27561070104427\n",
      "sigma: 8.551513940225115\n",
      "sigma noise: 0.00010000007292282799\n",
      "gamma: 17.275610873800375\n",
      "sigma: 8.551513940225115\n",
      "sigma noise: 0.00010000007292282799\n",
      "gamma: 17.27561070104427\n",
      "sigma: 8.551514025740255\n",
      "sigma noise: 0.00010000007178263647\n",
      "gamma: 18.3997184110881\n",
      "sigma: 8.551385195962904\n",
      "sigma noise: 0.00010000007278263728\n",
      "gamma: 18.3997184110881\n",
      "sigma: 8.551385195962904\n",
      "sigma noise: 0.00010000007178263647\n",
      "gamma: 18.399718595085282\n",
      "sigma: 8.551385195962904\n",
      "sigma noise: 0.00010000007178263647\n",
      "gamma: 18.3997184110881\n",
      "sigma: 8.551385281476756\n",
      "sigma noise: 0.00010000007132421973\n",
      "gamma: 18.872373692565194\n",
      "sigma: 8.551282831714252\n",
      "sigma noise: 0.00010000007232422052\n",
      "gamma: 18.872373692565194\n",
      "sigma: 8.551282831714252\n",
      "sigma noise: 0.00010000007132421973\n",
      "gamma: 18.872373881288933\n",
      "sigma: 8.551282831714252\n",
      "sigma noise: 0.00010000007132421973\n",
      "gamma: 18.872373692565194\n",
      "sigma: 8.55128291722708\n",
      "Hiperparametros encontrados:  [1.00000071e-04 1.88723737e+01 8.55128283e+00]\n",
      "Negative log-likelihood para hiperámetros optimizados:  2349.346978923961\n"
     ]
    }
   ],
   "source": [
    "import time\n",
    "from scipy.optimize import fmin_l_bfgs_b as fmin\n",
    "# from scipy.optimize import minimize\n",
    "\n",
    "#entrenamiento del GP, es decir, encontrar los parámetros del kernel y del ruido\n",
    "t_obs = mask_vect_index\n",
    "y_obs = Vrobs\n",
    "args=(y_obs,t_obs)\n",
    "time_SE=0\n",
    "params0=np.asarray([0.0001, np.sqrt(0.1),  1])\n",
    "# params0=np.asarray([0.0001, 1,  1, 0.5]) #Locally Periodic\n",
    "X0=np.log(params0);\n",
    "print('Condicion inicial optimizador: ',params0)\n",
    "time_GP=time.time()\n",
    "X_opt, f_GP, data = fmin(like_covImagenReal, X0, args=args, approx_grad=True)\n",
    "time_GP=time.time()-time_GP\n",
    "sigma_y_GP, gamma_1, sig_1 = np.exp(X_opt)\n",
    "# sigma_y_GP, sigma_1, p_1, l_1 = np.exp(X_opt)\n",
    "print('Hiperparametros encontrados: ', np.exp(X_opt))\n",
    "\n",
    "print('Negative log-likelihood para hiperámetros optimizados: ', f_GP)"
   ]
  },
  {
   "cell_type": "code",
   "execution_count": 31,
   "metadata": {},
   "outputs": [
    {
     "name": "stdout",
     "output_type": "stream",
     "text": [
      "Variance: [7.31244381e+01 9.99999372e-09 9.99999372e-09 ... 9.99999372e-09\n",
      " 7.31244381e+01 7.31244381e+01]\n"
     ]
    },
    {
     "data": {
      "text/plain": [
       "array([8.55128283e+00, 9.99999686e-05, 9.99999686e-05, ...,\n",
       "       9.99999686e-05, 8.55128283e+00, 8.55128283e+00])"
      ]
     },
     "execution_count": 31,
     "metadata": {},
     "output_type": "execute_result"
    }
   ],
   "source": [
    "t = np.arange(IMAGE_SIZE_X*IMAGE_SIZE_Y)\n",
    "t_obs = mask_vect_index\n",
    "N_obs = t_obs.shape[0]\n",
    "K = SE(t,t,gamma=gamma_1,sigma=sig_1)\n",
    "# K = SpectralMixture(t,t, sigma_1, mu_1)\n",
    "# K = LocallyPeriodic(t,t, sigma_1, p_1,l_1)\n",
    "# W_s = np.matmul(W.real, H)\n",
    "# print('W H shape: {}'.format(W_s.shape))\n",
    "\n",
    "# cov = np.matmul(W.real.T,np.matmul(K,W.real))\n",
    "# cov_obs = np.matmul(W_s.T,np.matmul(K,W_s))\n",
    "# K_star = np.matmul(W.real.T,np.matmul(K,W_s))\n",
    "cov = K\n",
    "cov_obs = SE(t_obs,t_obs,gamma=gamma_1,sigma=sig_1)\n",
    "K_star = SE(t,t_obs,gamma=gamma_1,sigma=sig_1)\n",
    "\n",
    "cGg=np.linalg.cholesky(cov_obs+sigma_y_GP**2*np.identity(N_obs))\n",
    "invGramg=np.dot(np.linalg.inv(cGg.T),np.linalg.inv(cGg))\n",
    "temp=np.matmul(K_star,invGramg) \n",
    "y_model=np.matmul(temp,Vrobs)\n",
    "v_model=np.diag(cov-np.matmul(temp,K_star.T))\n",
    "\n",
    "print('Variance: {}'.format(v_model))\n",
    "std_dev= np.sqrt(v_model)\n",
    "std_dev"
   ]
  },
  {
   "cell_type": "code",
   "execution_count": 32,
   "metadata": {},
   "outputs": [
    {
     "name": "stdout",
     "output_type": "stream",
     "text": [
      "Variance sanity check: True\n",
      "(array([], dtype=int64),)\n"
     ]
    }
   ],
   "source": [
    "print('Variance sanity check: {}'.format( (v_model>0).all() ))\n",
    "print(np.where(v_model<0))"
   ]
  },
  {
   "cell_type": "code",
   "execution_count": 33,
   "metadata": {},
   "outputs": [
    {
     "data": {
      "text/plain": [
       "<matplotlib.colorbar.Colorbar at 0x7f49a4cf65f8>"
      ]
     },
     "execution_count": 33,
     "metadata": {},
     "output_type": "execute_result"
    },
    {
     "data": {
      "image/png": "[encoded data removed]",
      "text/plain": [
       "<matplotlib.figure.Figure at 0x7f49ad4baba8>"
      ]
     },
     "metadata": {},
     "output_type": "display_data"
    }
   ],
   "source": [
    "plt.imshow(K, cmap='seismic')\n",
    "plt.colorbar()"
   ]
  },
  {
   "cell_type": "code",
   "execution_count": 34,
   "metadata": {},
   "outputs": [
    {
     "data": {
      "text/plain": [
       "array([-6.18385797e+01,  1.94404339e+01, -2.41491680e+01,  1.76989664e+01,\n",
       "       -7.87956577e+00,  1.56603456e+00,  7.79419000e-01, -9.72707302e-01,\n",
       "       -1.88502142e-01,  3.77674665e-03, -8.98435461e-04,  2.34219655e-05,\n",
       "        9.32604580e-05, -8.98435461e-04,  3.77674665e-03, -9.60607458e-03,\n",
       "        1.06711792e-02,  5.45255228e-01, -9.72707302e-01,  7.79419000e-01,\n",
       "        1.56603456e+00, -7.87956577e+00, -2.41491680e+01,  1.94404339e+01,\n",
       "       -6.18385797e+01, -7.14417517e+01, -2.92276876e+01,  3.53002868e-01,\n",
       "       -1.43135674e+01, -4.21750239e+00,  8.33114847e-01,  5.04401660e-01,\n",
       "       -6.14426863e-01,  3.41271629e-01,  6.12719797e-03, -5.30900196e-03,\n",
       "        2.00759873e-03, -4.59181443e-04,  4.58150730e-05, -1.62733123e-03,\n",
       "        6.58528218e-03, -3.16350787e-01, -1.41989736e+00,  3.21998699e-01,\n",
       "        5.34732577e+00, -1.68394022e+01,  2.76470716e+01, -2.28501586e+01,\n",
       "        4.81480810e+01,  4.68571727e+01, -4.48824644e+01,  4.09633459e-01,\n",
       "        6.47356383e+00, -8.01274404e+00, -2.80328517e+00, -6.64153688e-02,\n",
       "        9.45469706e-03,  1.06914862e-02,  1.34564999e-01, -5.99214610e-01,\n",
       "        1.26443506e+00, -7.89482531e-01, -3.74618506e+00, -2.43553437e+01,\n",
       "        2.25257007e+01, -1.44436664e+00,  2.21496039e+01, -2.04475664e+01,\n",
       "        1.70764190e+01, -1.08040431e+01,  2.83477478e+00,  3.19995994e+00,\n",
       "        3.92360670e+00, -1.82586833e+00,  1.82743589e-01, -2.17097073e-01,\n",
       "        1.12586720e-01,  4.83289871e-03, -9.46602579e-05,  8.72999955e-06,\n",
       "        4.02358323e-07, -4.47701022e-03, -7.15640142e-02,  3.87266124e-01,\n",
       "        3.39169660e+00,  1.77233080e+01, -1.58426866e+01,  3.17533240e+00,\n",
       "        3.68029728e+00, -3.35384722e+00,  7.07817724e+00, -1.22693593e+01,\n",
       "        1.34714918e+01, -9.16645464e+00,  2.67448742e+00,  2.44683609e+00,\n",
       "       -1.09522147e+00,  2.13844572e-01,  5.75466299e-02, -6.82089590e-08,\n",
       "       -3.54871239e-03,  8.82255422e-02,  3.45691220e-01, -3.47133452e+00,\n",
       "        8.38545087e+00, -1.11818800e+01,  7.97557171e+00, -7.67986005e-01,\n",
       "       -5.79930380e+00,  3.61990644e+00,  9.99440350e+00, -1.98021916e+00,\n",
       "       -6.05920359e-01, -5.67157943e-02, -3.29366945e-04, -2.07996446e-03,\n",
       "        2.99691473e-01, -2.99488897e-01,  3.20176846e+00,  6.40572823e+00,\n",
       "        1.91279974e+00, -2.14243823e+00,  6.52530753e+00, -7.01030360e+00,\n",
       "       -6.43220423e+00,  6.98995084e-01, -1.09545456e+00, -2.57512829e-02,\n",
       "       -6.49822575e-06,  5.33604995e-05, -3.20977701e-02,  1.25184061e-01,\n",
       "       -2.72514208e-01, -2.44742412e+00,  4.10064319e+00,  1.64417527e-01,\n",
       "        2.92235873e+00, -2.26806314e+00,  7.86597888e-02,  5.74989076e+00,\n",
       "        1.97962657e+00,  1.79305342e+00, -4.02886276e+00, -2.31933476e+00,\n",
       "        3.71693912e-01,  2.53693774e-02,  3.27134479e-09,  1.12029905e-05,\n",
       "        3.71870661e-04, -6.05648406e-04, -3.46838807e-03, -1.04876810e-01,\n",
       "        2.11119117e-01, -1.52249843e-01, -4.17539446e-01,  1.53217895e+00,\n",
       "       -2.38881772e+00,  2.97217009e-01, -2.33613473e+00, -2.80328517e+00,\n",
       "       -3.31511867e+00,  1.21696527e+00, -1.80736847e-08, -1.19373075e-05,\n",
       "        2.59440076e-03, -2.12316386e-02, -1.36584742e-01,  2.21140725e-01,\n",
       "       -8.93754534e-01, -1.27010691e-01, -1.72197668e+00,  5.04401661e-01,\n",
       "       -1.98087272e+00,  6.99115593e-01, -7.65978812e-08, -1.67867488e-03,\n",
       "        1.31222692e-02, -5.11818252e-02,  3.36174881e-01, -4.62058295e-01,\n",
       "        8.87150545e-01,  3.06054457e-01,  1.40864912e+00,  3.05113358e-01,\n",
       "       -6.05926021e-01,  5.24994332e-01, -2.25888576e-08,  5.22269541e-07,\n",
       "        2.04563794e-02, -3.38572870e-02,  2.26967840e-02,  1.73035787e-01,\n",
       "        6.76570274e-02,  8.50457146e-02, -3.08475471e-01, -1.89239286e-01,\n",
       "        3.41271630e-01, -3.77444134e-01,  1.82586982e-01,  7.48966716e-01,\n",
       "       -5.59924039e-01, -4.61126322e-04,  1.31222692e-02, -1.03916125e-02,\n",
       "        3.46229951e-02, -1.15611998e-01, -2.17085962e-01,  1.01013616e-01,\n",
       "       -3.09706505e-01,  3.84650926e-08, -3.24459722e-06,  1.79837859e-05,\n",
       "        1.93162517e-04, -1.20936755e-03, -4.32528467e-03,  2.59440072e-03,\n",
       "        2.68417981e-03,  1.09513834e-02, -1.23314021e-02,  1.72753282e-02,\n",
       "       -2.38132977e-02,  1.58838524e-02, -6.64204148e-02,  1.12586720e-01,\n",
       "        3.25653945e-03, -2.21115230e-08, -1.25494568e-07, -8.16322577e-06,\n",
       "       -6.92679981e-05,  4.00002308e-04, -6.70886818e-04, -6.05648443e-04,\n",
       "        1.63493394e-03, -4.47700958e-03,  2.43873458e-02,  1.03643921e-03,\n",
       "        1.08610978e-08, -6.68936157e-07,  8.92687081e-06,  1.35663744e-04,\n",
       "        5.32820292e-04, -2.69216522e-03,  6.53855746e-03, -5.30846438e-03,\n",
       "        4.83290795e-03,  2.71806722e-02,  4.83291250e-03,  2.09041458e-09,\n",
       "       -4.55594485e-09, -2.21022461e-08,  2.39682295e-07, -1.04788554e-06,\n",
       "       -5.55304088e-06,  2.73198618e-05, -2.61352138e-05, -2.42816645e-05,\n",
       "        3.91365400e-05,  1.85482530e-05, -1.24667066e-04,  1.32843562e-04,\n",
       "        3.02295357e-04, -2.71343145e-03,  2.96265875e-07, -6.68936172e-07,\n",
       "        1.24014836e-06, -5.63715902e-06,  1.03146072e-05,  3.92569772e-06,\n",
       "        4.64735150e-06, -7.25848652e-06,  4.39473646e-05, -4.59178164e-04,\n",
       "       -3.30556278e-03,  1.07895649e-10, -4.97432149e-10, -7.15257749e-08,\n",
       "        1.49239576e-07, -2.36400927e-07,  9.93336388e-07,  1.57075434e-06,\n",
       "       -4.96676930e-07,  1.39430317e-06, -8.53175422e-06, -2.16881512e-04,\n",
       "        4.47871334e-04,  3.04818140e-04, -1.28161976e-03, -4.18116390e-09,\n",
       "       -7.29261664e-11,  1.27928619e-10,  5.01493679e-10,  1.47460090e-08,\n",
       "        2.20942734e-08, -1.49457231e-07,  2.34159796e-07,  5.55967297e-08,\n",
       "        1.32725481e-07,  3.21500036e-07,  1.56261372e-05, -1.42298518e-05,\n",
       "        1.18182887e-04,  4.11917157e-09, -6.81995755e-10, -2.58238964e-11,\n",
       "        8.26074464e-10, -2.60535972e-09,  4.62861147e-09, -5.34796274e-09,\n",
       "        1.92023253e-08, -6.24132723e-09, -1.61201621e-08,  4.01144319e-07,\n",
       "       -2.71091122e-06, -3.94178154e-11,  2.15997856e-11,  3.73657679e-11,\n",
       "       -2.13563788e-09,  2.86322599e-09,  2.05201152e-07, -1.33194212e-06,\n",
       "       -2.71080825e-06, -1.16641752e-10,  4.89285118e-10, -3.55574787e-10,\n",
       "        8.56155875e-11, -3.60254115e-09,  1.44368784e-08, -2.53736842e-07,\n",
       "       -1.31494976e-05, -2.91714914e-10,  1.14710635e-10,  6.75538846e-10,\n",
       "       -1.83256625e-09,  1.09230014e-10, -1.86033311e-09, -5.27397088e-10,\n",
       "        3.51794296e-09,  2.17405882e-09, -1.02875675e-09,  7.95576015e-08,\n",
       "        2.87389985e-10,  4.42486730e-09, -2.37502458e-08,  1.64009888e-08,\n",
       "        9.07175506e-09,  6.35899713e-09,  3.74850040e-10, -1.24402095e-09,\n",
       "        2.33980197e-08, -1.24671911e-07,  1.95291128e-07, -1.24671913e-07,\n",
       "       -1.24391364e-09, -2.98739045e-09, -7.52358759e-10, -3.13100494e-08,\n",
       "        4.71468461e-08, -2.37502449e-08,  6.35899326e-09,  4.11916846e-09,\n",
       "       -1.24402140e-09,  2.01523243e-10,  1.59773580e-09,  2.18898024e-09,\n",
       "        3.24972888e-09, -4.18119455e-09,  7.55536054e-10,  1.01358184e-09,\n",
       "        2.49973637e-07, -2.98623570e-10,  5.58008140e-10,  6.75538440e-10,\n",
       "       -1.86005658e-09, -6.04754600e-07, -3.60254360e-09,  8.56159865e-11,\n",
       "       -3.84270847e-10,  1.36358781e-10,  1.14713190e-10, -1.02884006e-09,\n",
       "       -4.65111895e-05,  2.75197162e-08, -7.09957770e-09,  8.04480871e-10,\n",
       "       -6.99061054e-10,  4.62927799e-10, -1.16603631e-10, -6.46092211e-06,\n",
       "       -2.71091122e-06,  4.01144311e-07,  1.92023268e-08, -5.34796271e-09,\n",
       "       -2.58233668e-11,  2.29511311e-11, -4.03131617e-11, -2.89623599e-05,\n",
       "       -5.09371488e-06,  6.97366644e-07,  5.55967287e-08, -2.03081471e-07,\n",
       "        3.84653217e-08,  2.20942734e-08,  1.47460089e-08, -4.27557837e-09,\n",
       "        5.01492827e-10, -7.29262551e-11, -4.18116506e-09,  2.33980204e-08,\n",
       "        3.04818140e-04,  2.81908253e-05,  1.39430316e-06, -4.96676928e-07,\n",
       "        1.57075434e-06,  9.93336388e-07, -2.36400927e-07,  1.49239576e-07,\n",
       "        1.91584685e-08, -4.97431762e-10,  2.60553871e-10, -3.94170954e-11,\n",
       "       -2.37502397e-08, -3.30556278e-03,  7.26501489e-04,  9.86412118e-04,\n",
       "       -4.59178164e-04, -8.98272374e-04, -7.25848652e-06,  4.64735150e-06,\n",
       "       -1.04530346e-05,  1.03146072e-05,  1.24014836e-06,  6.08737733e-07,\n",
       "        2.96265875e-07, -7.33317529e-08, -8.02344723e-10,  5.96048083e-10,\n",
       "       -9.59770508e-03,  1.85482530e-05,  3.91365400e-05, -2.61352138e-05,\n",
       "        5.96497606e-05,  2.73198618e-05, -5.55304087e-06, -2.52211248e-06,\n",
       "       -1.04788554e-06,  2.39682295e-07, -5.30846438e-03, -9.58735916e-03,\n",
       "        5.32820292e-04,  1.67189554e-05,  1.35663744e-04, -2.66461413e-04,\n",
       "        1.24143020e-04,  1.45001062e-04, -2.91245137e-04,  2.12249217e-05,\n",
       "        8.92687081e-06, -6.68936157e-07,  5.69988904e-08,  1.08610979e-08,\n",
       "       -4.62170770e-09,  7.37601165e-10,  1.34891836e-02,  7.01045825e-02,\n",
       "        9.45562132e-03,  1.03852790e-02, -4.47700958e-03,  1.93718121e-03,\n",
       "        1.63493394e-03,  2.33651600e-05, -1.25494569e-07,  8.70188898e-09,\n",
       "        3.25653945e-03,  5.16325847e-02, -1.23314021e-02,  2.68417981e-03,\n",
       "        2.59440072e-03, -4.32528467e-03,  1.93162517e-04,  6.97629739e-05,\n",
       "       -3.24459722e-06,  3.84650930e-08, -1.39821188e-08,  9.45536578e-03,\n",
       "        2.03569998e-01, -1.15611998e-01, -1.89239286e-01,  2.04288930e-02,\n",
       "       -4.32495144e-02,  4.99353053e-02, -4.91141564e-02,  3.46229951e-02,\n",
       "       -8.39355285e-03,  1.31222692e-02, -8.54737424e-03, -4.61126322e-04,\n",
       "       -1.53933427e-04,  5.64271136e-06, -3.78744134e-07,  1.92034994e-08,\n",
       "       -6.05932970e-01,  1.82586982e-01, -3.77444134e-01,  5.45255228e-01,\n",
       "       -3.08475471e-01,  3.43442311e-02,  2.26967840e-02,  2.04563794e-02,\n",
       "        2.89158452e-04, -1.09547328e+00,  1.40864912e+00,  3.06054457e-01,\n",
       "       -6.12803341e-01, -4.62058295e-01, -3.33276904e-02,  4.00497610e-01,\n",
       "        3.36174881e-01,  7.40477032e-02, -4.17326051e-02,  1.31222692e-02,\n",
       "       -7.65978809e-08, -2.72635879e-09,  1.11151317e+00, -1.23320269e+00,\n",
       "        5.96935728e-01,  2.44925745e+00,  5.04401661e-01,  1.01962548e+00,\n",
       "        1.26443506e+00, -1.27010691e-01,  2.21140725e-01, -1.36584742e-01,\n",
       "        2.59440076e-03,  5.97483501e-04, -1.80736849e-08,  1.21696527e+00,\n",
       "       -3.31511867e+00, -2.33613473e+00,  1.81100740e+00, -2.38881772e+00,\n",
       "       -1.52249843e-01, -1.04876810e-01, -3.46838807e-03, -6.05648406e-04,\n",
       "       -8.41558996e-07, -6.19483583e-10,  1.97962657e+00, -5.14101477e+00,\n",
       "       -3.54203251e+00, -2.26806314e+00,  1.64417527e-01, -3.47133452e+00,\n",
       "       -2.44742412e+00,  6.19772727e-01,  2.13220821e-01, -2.72514208e-01,\n",
       "        1.25184061e-01, -3.20977701e-02,  4.33265046e-04, -2.66461626e-04,\n",
       "        5.33604995e-05,  7.80517676e-07, -5.77691772e-09,  5.58746754e-02,\n",
       "        6.98995084e-01, -4.03006443e+00, -6.43220423e+00,  2.67448742e+00,\n",
       "        3.01186467e+00,  6.52530753e+00,  2.58155087e+00,  1.91279974e+00,\n",
       "       -1.94821575e+00, -2.53631123e+00,  6.40572823e+00,  3.20176846e+00,\n",
       "       -6.59607987e-01, -1.18674442e-01,  2.54819268e-02, -2.07996446e-03,\n",
       "       -8.58999088e-06,  9.76284889e-07, -5.67157943e-02, -1.98021916e+00,\n",
       "        1.21427882e+00, -9.25059098e+00, -5.79930380e+00,  3.68029728e+00,\n",
       "       -7.67986005e-01,  8.38545087e+00,  3.45691220e-01, -3.12316933e-01,\n",
       "        8.82255422e-02,  1.18894066e-03,  1.67196390e-05, -1.15429879e-01,\n",
       "       -1.09522147e+00, -3.30633598e+00,  1.34714918e+01,  7.07817724e+00,\n",
       "       -2.08427044e+01,  1.21549864e+01, -1.58426866e+01,  1.77233080e+01,\n",
       "       -1.09243036e+01,  3.39169660e+00,  2.97217008e-01, -8.29253801e-01,\n",
       "       -1.45426827e-02, -4.47701022e-03, -3.49381800e-08,  1.12586720e-01,\n",
       "        3.70763783e-01, -1.82586833e+00,  3.92360670e+00,  2.83477478e+00,\n",
       "       -1.08040431e+01,  1.70764190e+01, -2.04475664e+01,  2.21496039e+01,\n",
       "        4.68571727e+01,  2.25257007e+01, -2.43553437e+01,  1.39422251e+01,\n",
       "       -7.89482531e-01,  1.34564999e-01,  1.24350208e-02, -2.76911409e-03,\n",
       "        2.03894256e-07,  2.08042997e-05, -2.16881856e-04,  9.45469706e-03,\n",
       "        2.03569999e-01, -3.77691861e-01,  3.08158981e-01, -2.80328517e+00,\n",
       "        5.91942529e+00,  6.47356383e+00,  4.09633459e-01, -1.29451179e+01,\n",
       "        2.97520738e+01, -4.48824644e+01, -7.14417517e+01,  4.81480810e+01,\n",
       "       -2.28501586e+01,  2.76470716e+01, -1.68394022e+01,  3.21998699e-01,\n",
       "       -1.41989736e+00,  8.87150547e-01, -3.16350787e-01,  5.09676828e-02,\n",
       "        6.58528218e-03,  1.70856071e-02, -1.15499522e-01, -4.21750239e+00,\n",
       "       -1.43135674e+01,  1.34186321e+01,  3.53002868e-01])"
      ]
     },
     "execution_count": 34,
     "metadata": {},
     "output_type": "execute_result"
    }
   ],
   "source": [
    "Vrobs"
   ]
  },
  {
   "cell_type": "code",
   "execution_count": 40,
   "metadata": {},
   "outputs": [
    {
     "data": {
      "text/plain": [
       "(25, 75)"
      ]
     },
     "execution_count": 40,
     "metadata": {},
     "output_type": "execute_result"
    },
    {
     "data": {
      "image/png": "[encoded data removed]",
      "text/plain": [
       "<matplotlib.figure.Figure at 0x7f49a43624e0>"
      ]
     },
     "metadata": {},
     "output_type": "display_data"
    }
   ],
   "source": [
    "my_label_size = 20\n",
    "label_size = 20\n",
    "plt.rcParams['xtick.labelsize'] = label_size \n",
    "plt.rcParams['ytick.labelsize'] = label_size \n",
    "\n",
    "#plotear estimacion, observaciones y datos totales\n",
    "fig=plt.figure(3, figsize=(20,6))\n",
    "ax = plt.gca()\n",
    "plt.fill_between(t, y_model-2*std_dev, y_model+2*std_dev, facecolor='blue', alpha=0.2, label='95% CI')\n",
    "plt.plot(t,y_model, c='b', linestyle='none', marker='x',lw=4,label='posterior mean')\n",
    "plt.plot(t,img_fft.real.reshape(-1), c='black', marker='.', linestyle='none',label='true signal')\n",
    "plt.plot(mask_vect_index,Vrobs,'red',ms=8, linestyle='none', marker='.', label='observations')\n",
    "\n",
    "leg=plt.legend(ncol=1,frameon=True, shadow=True, loc=4, fontsize=my_label_size)\n",
    "frame  = leg.get_frame()\n",
    "frame.set_facecolor('0.95')\n",
    "plt.xlabel('time [sample]', fontsize=my_label_size)\n",
    "plt.title('Signal recovery using {}% of observations'.format(percent), fontsize=my_label_size)\n",
    "plt.xlim([25,75])"
   ]
  },
  {
   "cell_type": "code",
   "execution_count": null,
   "metadata": {
    "collapsed": true
   },
   "outputs": [],
   "source": []
  },
  {
   "cell_type": "code",
   "execution_count": 52,
   "metadata": {},
   "outputs": [
    {
     "data": {
      "text/plain": [
       "<matplotlib.image.AxesImage at 0x7f4998b3fdd8>"
      ]
     },
     "execution_count": 52,
     "metadata": {},
     "output_type": "execute_result"
    },
    {
     "data": {
      "image/png": "[encoded data removed]",
      "text/plain": [
       "<matplotlib.figure.Figure at 0x7f49a238ce10>"
      ]
     },
     "metadata": {},
     "output_type": "display_data"
    }
   ],
   "source": [
    "I_fft_mod_real = y_model.reshape((IMAGE_SIZE_Y,IMAGE_SIZE_X))\n",
    "# I_fft_mod_real = img_fft.real\n",
    "# I_fft_mod_real = measurements.real\n",
    "\n",
    "I_fft_mod_imag = np.zeros_like(I_fft_mod_real)\n",
    "I_fft_mod = I_fft_mod_real + 1j*I_fft_mod_imag\n",
    "I_mod = np.fft.ifft2(I_fft_mod)\n",
    "f, ax = plt.subplots(1,3, figsize=(17,5))\n",
    "\n",
    "ax[0].imshow(np.fft.fftshift(img_fft.real))\n",
    "ax[1].imshow(np.fft.fftshift(I_fft_mod_real))\n",
    "ax[2].imshow(np.fft.fftshift(v_model.reshape((IMAGE_SIZE_Y,IMAGE_SIZE_X))))\n"
   ]
  },
  {
   "cell_type": "code",
   "execution_count": null,
   "metadata": {
    "collapsed": true
   },
   "outputs": [],
   "source": [
    "invW = np.linalg.inv(W)"
   ]
  },
  {
   "cell_type": "code",
   "execution_count": null,
   "metadata": {
    "collapsed": true
   },
   "outputs": [],
   "source": [
    "plt.imshow(np.matmul(invW.real.T,np.matmul(K,invW.real)), cmap='seismic')\n",
    "plt.colorbar()"
   ]
  },
  {
   "cell_type": "code",
   "execution_count": null,
   "metadata": {
    "collapsed": true
   },
   "outputs": [],
   "source": [
    "plt.imshow(np.matmul(invW.imag.T,np.matmul(K,invW.imag)), cmap='seismic')\n",
    "plt.colorbar()"
   ]
  },
  {
   "cell_type": "code",
   "execution_count": null,
   "metadata": {
    "collapsed": true
   },
   "outputs": [],
   "source": []
  }
 ],
 "metadata": {
  "kernelspec": {
   "display_name": "Python 3",
   "language": "python",
   "name": "python3"
  },
  "language_info": {
   "codemirror_mode": {
    "name": "ipython",
    "version": 3
   },
   "file_extension": ".py",
   "mimetype": "text/x-python",
   "name": "python",
   "nbconvert_exporter": "python",
   "pygments_lexer": "ipython3",
   "version": "3.6.1"
  }
 },
 "nbformat": 4,
 "nbformat_minor": 2
}
