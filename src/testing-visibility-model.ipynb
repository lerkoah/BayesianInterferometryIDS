{
 "cells": [
  {
   "cell_type": "code",
   "execution_count": 1,
   "metadata": {
    "collapsed": true
   },
   "outputs": [],
   "source": [
    "import edward as ed\n",
    "import matplotlib.pyplot as plt\n",
    "import numpy as np\n",
    "import tensorflow as tf\n",
    "%matplotlib inline"
   ]
  },
  {
   "cell_type": "markdown",
   "metadata": {},
   "source": [
    "Image Model:\n",
    "\n",
    "$$I(x,y) =  \\sum_{i=0}^{N_{basis}-1} \\beta_i \\psi(x,y)$$\n",
    "where\n",
    "$$\n",
    "\\psi_i(x,y) = \\exp\\left\\{\\ \\left[\\begin{array}{c}x - C_x^i\\\\\n",
    "                                     y - C_y^i\\end{array}\\right]^T \\Sigma^{-1}\\left[\\begin{array}{c}x - C_x^i\\\\\n",
    "                                     y - C_y^i\\end{array}\\right]\\right\\}\n",
    "$$\n",
    "\n",
    "$$\n",
    "\\Sigma = \\left[\\begin{array}{cc}\\sigma_1^2   & \\sigma_{12} \\\\\n",
    "                                 \\sigma_{12} & \\sigma_2^2 \\end{array}\\right]\n",
    "$$\n",
    "Visibility Model:\n",
    "\n",
    "$$ V(u,v) = \\sum_{i=1}^{N_{B}} \\alpha_i \\phi(u,v) $$\n",
    "\n",
    "$$\\phi(u,v) = \\exp\\left\\{\\frac{av^2+bu^2-cuv}{4ab-c^2} + j(fv+eu)\\right\\}$$\n",
    "$$\\alpha_i = \\frac{\\beta_i}{\\sqrt{4ab-c^2}}$$\n",
    "$$ a = -\\frac{1}{2}\\frac{\\sigma_2^2}{\\sigma_1^2\\sigma_2^2 - \\sigma_{12}^2} ; b = -\\frac{1}{2}\\frac{\\sigma_1^2}{\\sigma_1^2\\sigma_2^2 - \\sigma_{12}^2}; c = \\frac{\\sigma_{12}}{\\sigma_1^2\\sigma_2^2 - \\sigma_{12}^2} $$\n",
    "$$e = C_x^i; f = C_y^i$$"
   ]
  },
  {
   "cell_type": "markdown",
   "metadata": {},
   "source": [
    "```\n",
    "FourierTransform[exp( (a*(x-e)^2+b*(y-f)^2+c*(x-e)*(y-f))),{x,y},{u,v}]\n",
    "```"
   ]
  },
  {
   "cell_type": "code",
   "execution_count": 2,
   "metadata": {},
   "outputs": [
    {
     "data": {
      "text/plain": [
       "array([4, 9], dtype=int32)"
      ]
     },
     "execution_count": 2,
     "metadata": {},
     "output_type": "execute_result"
    }
   ],
   "source": [
    "def test():\n",
    "    sess = tf.test.TestCase()\n",
    "    with sess.test_session():\n",
    "        x = tf.square([2, 3])\n",
    "        sess.assertAllEqual(x.eval(), [4, 9])\n",
    "        return x.eval()\n",
    "test()"
   ]
  },
  {
   "cell_type": "code",
   "execution_count": 25,
   "metadata": {
    "collapsed": true
   },
   "outputs": [],
   "source": [
    "def tf_phi(U,a,b,c,e,f):\n",
    "    u = U[:,0]\n",
    "    v = U[:,1]\n",
    "    \n",
    "    A = tf.exp(tf.divide(a*v**2 + b*u**2 - c*u*v, 4.*tf.multiply(a,b)-tf.multiply(c,c)))\n",
    "    sinPart = tf.sin(f*v+e*u)\n",
    "    cosPart = tf.cos(f*v+e*u)\n",
    "    return A*cosPart, A*sinPart"
   ]
  },
  {
   "cell_type": "code",
   "execution_count": 26,
   "metadata": {
    "collapsed": true
   },
   "outputs": [],
   "source": [
    "def visibility_model(U,alpha,a,b,c,e,f, factor = None, IMAGE_SIZE_X = 128, IMAGE_SIZE_Y = 128):\n",
    "    \n",
    "    realPart, imagPart = tf_phi(U,a,b,c,e,f)\n",
    "    \n",
    "    return tf.reduce_sum(tf.multiply(alpha,realPart), axis=1), tf.reduce_sum(tf.multiply(alpha,imagPart), axis=1)"
   ]
  },
  {
   "cell_type": "code",
   "execution_count": 30,
   "metadata": {},
   "outputs": [
    {
     "name": "stdout",
     "output_type": "stream",
     "text": [
      "[-80.51797266 +9.86060775e-15j -80.51797266 +9.86060775e-15j\n",
      " -80.51797266 +9.86060775e-15j -80.51797266 +9.86060775e-15j\n",
      " -80.51797266 +9.86060775e-15j]\n"
     ]
    }
   ],
   "source": [
    "u = np.pi*np.ones([5,1])\n",
    "v = 0.*np.ones([5,1])\n",
    "U = np.stack([u,v],axis=1)\n",
    "\n",
    "a = np.array([1,1,1]).astype('float64')\n",
    "b = np.array([1,1,1]).astype('float64')\n",
    "c = np.array([1,1,1]).astype('float64')\n",
    "e = np.array([1,1,1]).astype('float64')\n",
    "f = np.array([1,1,1]).astype('float64')\n",
    "alpha = np.array([1,1,1], dtype=np.float64)\n",
    "\n",
    "a_tf = tf.constant(a)\n",
    "b_tf = tf.constant(b)\n",
    "c_tf = tf.constant(c)\n",
    "e_tf = tf.constant(e)\n",
    "f_tf = tf.constant(f)\n",
    "alpha_tf = tf.constant(alpha)\n",
    "\n",
    "with tf.Session() as sess:\n",
    "    realPart, imagPart = visibility_model(U,alpha,a,b,c,e,f)\n",
    "    print(realPart.eval() + 1j*imagPart.eval())"
   ]
  },
  {
   "cell_type": "code",
   "execution_count": 31,
   "metadata": {
    "collapsed": true
   },
   "outputs": [],
   "source": [
    "def phi(u,v,a,b,c,e,f):\n",
    "    return np.exp((a*v**2 + b*u**2 - c*u*v)/(4.*a*b-c**2) + 1j*(f*v+e*u))"
   ]
  },
  {
   "cell_type": "code",
   "execution_count": 32,
   "metadata": {},
   "outputs": [
    {
     "data": {
      "text/plain": [
       "array([-80.51797266 +9.86060775e-15j, -80.51797266 +9.86060775e-15j,\n",
       "       -80.51797266 +9.86060775e-15j, -80.51797266 +9.86060775e-15j,\n",
       "       -80.51797266 +9.86060775e-15j])"
      ]
     },
     "execution_count": 32,
     "metadata": {},
     "output_type": "execute_result"
    }
   ],
   "source": [
    "np.sum(alpha*phi(u,v,a,b,c,e,f), axis = 1)"
   ]
  },
  {
   "cell_type": "code",
   "execution_count": null,
   "metadata": {
    "collapsed": true
   },
   "outputs": [],
   "source": []
  }
 ],
 "metadata": {
  "kernelspec": {
   "display_name": "Python 3",
   "language": "python",
   "name": "python3"
  },
  "language_info": {
   "codemirror_mode": {
    "name": "ipython",
    "version": 3
   },
   "file_extension": ".py",
   "mimetype": "text/x-python",
   "name": "python",
   "nbconvert_exporter": "python",
   "pygments_lexer": "ipython3",
   "version": "3.6.1"
  }
 },
 "nbformat": 4,
 "nbformat_minor": 2
}
