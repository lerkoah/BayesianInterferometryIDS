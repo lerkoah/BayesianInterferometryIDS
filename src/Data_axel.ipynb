{
 "cells": [
  {
   "cell_type": "code",
   "execution_count": 1,
   "metadata": {
    "collapsed": true
   },
   "outputs": [],
   "source": [
    "import scipy.io as sio"
   ]
  },
  {
   "cell_type": "code",
   "execution_count": 4,
   "metadata": {},
   "outputs": [],
   "source": [
    "matDir = '/home/lerko/Downloads/Big_ALMA'\n",
    "matName = 'datos_HD142_case1_26_05_17.mat'\n",
    "matPath = matDir + '/' + matName\n",
    "data = sio.loadmat(matPath)"
   ]
  },
  {
   "cell_type": "code",
   "execution_count": 21,
   "metadata": {},
   "outputs": [
    {
     "data": {
      "text/plain": [
       "array([[-89.25614945],\n",
       "       [ 96.72599905],\n",
       "       [ 16.92283594],\n",
       "       ..., \n",
       "       [ 73.60519342],\n",
       "       [-15.65565119],\n",
       "       [-15.65565119]])"
      ]
     },
     "execution_count": 21,
     "metadata": {},
     "output_type": "execute_result"
    }
   ],
   "source": [
    "data['u']"
   ]
  },
  {
   "cell_type": "code",
   "execution_count": 22,
   "metadata": {},
   "outputs": [
    {
     "data": {
      "text/plain": [
       "array([[  -9.20034046],\n",
       "       [-150.78514468],\n",
       "       [ 110.47764495],\n",
       "       ..., \n",
       "       [ 144.59521689],\n",
       "       [ 135.61943794],\n",
       "       [ 135.61943794]])"
      ]
     },
     "execution_count": 22,
     "metadata": {},
     "output_type": "execute_result"
    }
   ],
   "source": [
    "data['v']"
   ]
  },
  {
   "cell_type": "code",
   "execution_count": 23,
   "metadata": {},
   "outputs": [
    {
     "data": {
      "text/plain": [
       "array([[ 2.93224263+1.37341523j],\n",
       "       [ 0.41253150+0.2329147j ],\n",
       "       [ 0.33869323+0.87139463j],\n",
       "       ..., \n",
       "       [-0.13525458-0.9314155j ],\n",
       "       [-0.89354992+0.64388025j],\n",
       "       [-0.37686577+0.47750184j]])"
      ]
     },
     "execution_count": 23,
     "metadata": {},
     "output_type": "execute_result"
    }
   ],
   "source": [
    "data['visib']"
   ]
  },
  {
   "cell_type": "code",
   "execution_count": null,
   "metadata": {
    "collapsed": true
   },
   "outputs": [],
   "source": []
  }
 ],
 "metadata": {
  "kernelspec": {
   "display_name": "Python 3",
   "language": "python",
   "name": "python3"
  },
  "language_info": {
   "codemirror_mode": {
    "name": "ipython",
    "version": 3
   },
   "file_extension": ".py",
   "mimetype": "text/x-python",
   "name": "python",
   "nbconvert_exporter": "python",
   "pygments_lexer": "ipython3",
   "version": "3.6.1"
  }
 },
 "nbformat": 4,
 "nbformat_minor": 2
}
