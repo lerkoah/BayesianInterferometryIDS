{
 "cells": [
  {
   "cell_type": "code",
   "execution_count": 1,
   "metadata": {
    "collapsed": true
   },
   "outputs": [],
   "source": [
    "import numpy as np\n",
    "import scipy.io as sio\n",
    "\n",
    "import matplotlib.pyplot as plt\n",
    "# from modelfunctions import *\n",
    "%matplotlib inline"
   ]
  },
  {
   "cell_type": "markdown",
   "metadata": {},
   "source": [
    "# Obtaining Data"
   ]
  },
  {
   "cell_type": "code",
   "execution_count": 2,
   "metadata": {
    "collapsed": true
   },
   "outputs": [],
   "source": [
    "control = 0 # 0: sinthetic; 1: real\n",
    "mycmap = 'seismic'\n",
    "np.random.seed(51)"
   ]
  },
  {
   "cell_type": "code",
   "execution_count": 3,
   "metadata": {
    "collapsed": true
   },
   "outputs": [],
   "source": [
    "def show_fft_image(img_fft, shift = True, save = False , name = 'my_name.png'):\n",
    "    \n",
    "    img_fftabs = img_fft\n",
    "    if type(img_fft[0,0]) == np.complex128:\n",
    "        img_fftabs = np.abs(img_fft)\n",
    "    \n",
    "    if shift:\n",
    "        img_fftabs = np.fft.fftshift(img_fftabs)\n",
    "    plt.imshow(img_fftabs, cmap=mycmap)\n",
    "    plt.grid('off')\n",
    "    \n",
    "    if save:\n",
    "        plt.savefig(name, format= 'png')"
   ]
  },
  {
   "cell_type": "code",
   "execution_count": 4,
   "metadata": {
    "collapsed": true
   },
   "outputs": [],
   "source": [
    "def phi(U,a,b,c,e,f):\n",
    "    try:\n",
    "        u = U[:,0]\n",
    "        v = U[:,1]\n",
    "    except IndexError:\n",
    "        u = U[0]\n",
    "        v = U[1]\n",
    "    return np.exp(2*np.pi**2*(a*v**2 + b*u**2 - c*u*v)/(4.*a*b-c**2) -2*np.pi*1j*(f*v+e*u))\n",
    "\n",
    "def psi(x,y, a, b, c, e, f):\n",
    "    invSigma = np.array([[-2.0*a,-c],[-c, -2.0*b]]).reshape(2,2)\n",
    "#     print(invSigma)\n",
    "    \n",
    "    if not isinstance(x,np.ndarray):\n",
    "        xx = np.array([x-e,y-f])\n",
    "    else:\n",
    "        xx = np.stack([x-e,y-f], axis = 1).T\n",
    "    \n",
    "    return np.exp(-xx.T.dot(invSigma).dot(xx))"
   ]
  },
  {
   "cell_type": "code",
   "execution_count": 5,
   "metadata": {},
   "outputs": [
    {
     "data": {
      "image/png": "iVBORw0KGgoAAAANSUhEUgAAAWIAAAEYCAYAAABm5fzdAAAABHNCSVQICAgIfAhkiAAAAAlwSFlz\nAAALEgAACxIB0t1+/AAAADl0RVh0U29mdHdhcmUAbWF0cGxvdGxpYiB2ZXJzaW9uIDIuMS4wLCBo\ndHRwOi8vbWF0cGxvdGxpYi5vcmcvpW3flQAAHAlJREFUeJzt3X+MXtV95/H3xzYGsllwMCQBm117\nZacb0x9k6ziR0qwQJMVJaUyJU4YmEUGuvFthlTahiV2pidYtUtFWgeyKbGVhE5bQDpbzg6nF1k0w\niGbVGJuSpNislykmYRYX6mAcSIphzHf/uMfw+LnnmefOzDNz78zzeUmPmHuec88913G+c3zO/Z6r\niMDMzOozp+4OmJn1OwdiM7OaORCbmdXMgdjMrGYOxGZmNXMgNjOrmQOxmVnNHIjNzGo2qUAsabWk\ng5KGJW3sVafMzPqJJppZJ2ku8H+BDwIjwF7gmog40Pmc+QFvmtD1zKypjh2JiPN61doyKX42jvqH\nYVdErO7V9eswbxLnrgKGI+JJAEmDwBqgYyAugvD7J3FJM2uenT/sZWv/AvzOOOp/Hs7t5fXrMJmp\niUXA0y3HI6nsFJLWS9onaR+8MonLmVm/mDOOz2wwmRGxMmWleY6I2AJsAZAWeIchMxuTmD0BtqrJ\nBOIR4MKW48XAM5PrjplZ/wXiydzvXmC5pKWS5gMDwFBvumVm/cxTExVFxKikDcAuYC6wLSL296xn\nZtaXPDUxThFxH3Bfj/piZgY4EJuZ1cojYjOzBnAgNjOrWe7Z2NnMgdjMGkUUq//9xIHYzBrHUxNm\nZjXyYp2ZWQM4EJuZ1cyB2MysRp6aMDNrAAdiM7MaCT9HbGZWOz9HbGZWI88Rm5k1gAOxmVmNRP8F\npn67XzObATwiNjOrkeeIzcwawI+vmZnVzI+vmZnVyFMTZmYN4EBsZlYjj4jNzBqg3wJxv92vmc0A\nc8bxqULSakkHJQ1L2pj5/nRJ96Tv90ha0vLdplR+UNLl3dqU9BVJhyR9L30u7tY/j4jNrFF6PTUh\naS5wG/BBYATYK2koIg60VFsHHI2IZZIGgJuBqyWtAAaAi4ALgG9Lekc6Z6w2/yAidlTto0fEZtY4\nGsenglXAcEQ8GRGvAIPAmrY6a4A70887gMskKZUPRsTxiDgEDKf2qrRZmQOxmTWKKJ4jrvoBzpW0\nr+Wzvq3JRcDTLccjqSxbJyJGgWPAwjHO7dbmTZJ+IOkWSad3u2dPTZhZ44xzhHgkIlaO8X1u4BwV\n63Qqz3XxZJubgH8C5gNbgM8Bm8fon0fEZtY8PV6sGwEubDleDDzTqY6kecDZwPNjnNuxzYg4HIXj\nwB0U0xhjciA2s0Y5uVjXw0C8F1guaamk+RSLb0NtdYaAa9PPa4HdERGpfCA9VbEUWA48PFabks5P\n/xVwJfBYtw56asLMGqeXI8SIGJW0AdhFMa28LSL2S9oM7IuIIWArcJekYYqR8EA6d7+k7cABYBS4\nPiJOAOTaTJe8W9J5FL9Tvgf85259VBH0p4e0IOD903Y9M5sOOx/pMkc7LhdJ8RfjqH8x9PT6dfCI\n2Mwap9/mTB2IzaxxvB+xmVmNTj5H3E8ciM2scTw1YWZWI2+DaWbWAA7EZmY1cyA2M6uR6L/A1PUX\nj6Rtkp6T9FhL2TmSviXpifTft0xtN82sn/R4G8zGq/IvgK8Aq9vKNgL3R8Ry4P50bGY2aRPYBnPG\n6xqII+IhitzrVq2bKN9JsbGFmVlP9PpVSU030amYt0XEYSi2fJP01h72ycz6mB9fmwJpt/y0Y/6Z\nU305M5sF+i0QT/R+n23Zc/N84LlOFSNiS0SsLHZHmj/By5lZv5iC/Ygbb6L30bqJ8rXAvb3pjplZ\n/wXirlMTkv4SuITiBX0jwBeAPwW2S1oH/Aj42FR20sz6h+eIMyLimg5fXdbjvpiZAQ7EZma1cyA2\nM6uRpybMzBrAgdjMrEYeEZuZNYADsZlZzaRx7KsWMXUdmSYOxGbWLBLMG0doevXVqevLNHEgtlmu\n1xslnuhxe5blQGxmVqPxjohngf66WzNrPgdiM7OaORCbmdXMgdhsJsntb31ahTpVvZIpyy0M5erZ\npDgQm5nVyCNiM7OazZkDZ5xRdy+mlQOxmTVLH46I+y2l28xmgnnzqn8qkLRa0kFJw5I2Zr4/XdI9\n6fs9kpa0fLcplR+UdPk42vzvkl6qdLuV7sJ6pNdZXjmzIfMr9+eU+6fqWZmyt1Sok/OTTNnRivVy\nf+az4X+HmvR4RCxpLnAb8EFgBNgraSgiDrRUWwccjYhlkgaAm4GrJa0ABoCLgAuAb0t6RzqnY5uS\nVgILqvbRI2Iza5aTgbh3I+JVwHBEPBkRrwCDwJq2OmuAO9PPO4DLVOw8tAYYjIjjEXEIGE7tdWwz\nBf7/Cny26i17RGxmzTL+EfG5kva1HG+JiC0tx4uAp1uOR4D3tLXxep2IGJV0DFiYyr/bdu6i9HOn\nNjcAQxFxuOoucg7EZtYs4w/ERyJi5VgtZsra987sVKdTeW42ISRdQPFW+0vG6E+JA7GZNU9vn5oY\nAS5sOV4MPNOhzoikecDZwPNdzs2VvwtYBgyn0fCbJA1HxLKxOuhA3BNVF+Fy9XK/WKu2l1sQaj+3\n6qJRXYtLuXvNLbCdnylbUaGsffEO8otwByqWvVyxzCas94+v7QWWS1oK/D+KxbffaqszBFwL/B2w\nFtgdESFpCPgLSV+kWKxbDjxMMVIutRkR+4G3v3EreqlbEAYHYjNrmh4H4jTnuwHYRfGbf1tE7Je0\nGdgXEUPAVuAuScMUI+GBdO5+SdspfiuPAtdHxImim+U2J9pHB2Iza5YpSOiIiPuA+9rKPt/y88sU\nc7u5c28CbqrSZqbOm6v0z4HYzJqlDzPr+utuzaz5HIitd9q3Y4T8loxVtnKE/KJWboGtfZvG3BaN\nVbdt7PUCXtWFuZ/LlP1qqeTd7353qewTn+jei69+tVy2d2+u5kim7HD3C9jkORCbmdXII2Izs5o5\nEJuZ1cyB2MysZg7E1l1uwSlXlluE+1eZstxiVa6s6rvX2hficts25sp+minLZYxV3fJxMgtzV5dK\nvvSlcnLS7y68u3zq17526vFHP1qu84mPl4r27s1l4FltHIjNzGrkEbGZWc0ciM3MauZAbBOT20Et\nN6dbdVexCzJlCzNlZ2bK/qXt+MeZOu07AEI+UaHqq4Jy88G5pJTcvZYTNbLzwQ9eVSrb/Y1vZNo7\n1aW5wkvKc8TV7zWXDOPXIvWUA7GZWQM4EJuZ1WjOHDgj97LY2cuB2MyaxVMTZmY1cyAuk3Qh8D8p\nXv/xGsUbUr8k6RzgHmAJ8BTwmxGRW/HoA1UXq3KLdbmFuZ/PlJVfC7R0afdXKh06lFtIyr0C6LFM\n2ROZstyiXi4ZJJe8Ur6H3A5quUSN3MLcQ5kr/Mf2gkxCx1e/lDkx+2eS++vcvrudTYk+C8S55f52\no8BnIuKdwHuB6yWtADYC90fEcuD+dGxmNjknR8RVP7NA17uIiMOkYVBEvCjpcWARsIY3Xhl9J/Ag\n8Lkp6aWZ9Q9PTYxN0hKK10XvAd6WgjQRcVjSWzucsx5YXxzlnns1M2vhQNyZpDcDXwN+LyJ+IqnS\neRGxBdhStLEgJtJJM+sjDsR5kk6jCMJ3R8TXU/Gzks5Po+HzgeemqpMzU9Ud2XIZc+VFreuuK7d3\nxRXlM5csOfX4qafK5+3c+QulsjvuKF+zmPpv9/1M2bOZstzCZPm6n/pUplr7DmodlBbmgEt/4zdO\nOf5vP87ttJZ7L1Jusa5qZp31VB8G4q6LdSqGvluBxyPiiy1fDQHXpp+vBe7tfffMrC95sa7kfcAn\ngX+Q9L1U9ofAnwLbJa0DfgR8bGq6aGZ9pQ9HxFWemvgO0GlC+LLedsfM+p4DsZlZzRyIbWKqvj4o\np/xIXy5jLrcwd9WSvy8XfvObpxz+h8wVr9pwZab9cs0bbyxvUXnoUC5jLpeVl9u0JbcNZkYmGy67\nnWWmXvvi3A03DGdO/JtMWS5jMPeqKJtyDsRmZg3gQGxmViOPiM3MauZAbGZWMwdi6y63CJfLostt\nl5jLymp/x1xee8YcUFqYA/jZH//xKce5t9Nd0FYH4Ko/+qPyNXdsLpUNDLyvVPbEE7k9RI5kysr3\nv2NHptracjbcaOY9c7ntLMtZc7mFuYOZslwWnd9FVwsHYjOzBuizQFxlP2Izs+kzBfsRS1ot6aCk\nYUmlvdMlnS7pnvT9nrTT5MnvNqXyg5Iu79ampK2Svi/pB5J2pA3TxuRAbGbN0uNALGkucBvwIYod\nta5JL7dotQ44GhHLgFuAm9O5K4AB4CJgNfBlSXO7tPn7EfFLEfGLFNs/bOjWRwdiM2uW3o+IVwHD\nEfFkRLwCDFK82KLVGooXXADsAC5LG56tAQYj4nhEHAKGU3sd24yInxS3IVFkbHXd/re/JmKmTG5R\nJ7cwl1sQ+nGpJPeeudx2lrmsufbFue9k6uT8SmYBL9f+rbeWF/A+9alyzX/+59x2meXstQceKGev\nPfBALisvt8tqbuvK9rJcxpwX5hqt94t1i4CnW45HgPd0qhMRo5KOUexRuwj4btu5i9LPHduUdAfw\nYYq/kJ/p1kGPiM2secY3Ij5X0r6Wz/q21nKblrWPUjvVGW958UPEdRRvBn4cuLrDXb7OI2Iza5Y5\nc+CM3L+KOjoSESvH+H4EuLDleDHlfzyerDMiaR5wNvB8l3PHbDMiTki6B/gD4I6xbsAjYjNrlt7P\nEe8FlktaKmk+xeLbUFud1hddrAV2R0Sk8oH0VMVSYDnwcKc2VVhW3IYE/Drwf7p10CNiM2uWHs8R\npznfDcAuiuyrbRGxX9JmYF9EDFG8heguScMUI+GBdO5+Sdsp5npHgesj4kTRzWybc4A7JZ1FMX3x\nfeB3ut5yEfSnR/Hy0PdP2/WmTy6z7rRM2VsyZT+XKStvP3nddeX3vW3bUN4G82e//MunHG/PtP5U\npmxJpuw3M2Vv2rOnVPbpwVWlsltuKS9CFgOJdrlFuFxWXq69XL32hbjcVpZemOutnY90mRoYl5Ur\nV8bDD++rXH/uXPX0+nXwiNjMGiUCRkfr7sX0ciA2s0ZxIDYzq5kDsZlZzRyIbYKqLv78NFOWy/wq\nvwPujjvaU+Pz75lr384ylzFXVW4LzWWZrTc/8IHyYt3tty8slb34Yu4qufsfyZTlsuFyf565jEab\naRyIzcxq5BGxmVnNHIjNzGrmQGxmVjMHYuuh3AJeLssrlzH2RKbs/lLJjTeWM/Da3zOX28oy9866\n7LvtMmW51NO3v71cLVf24ou5d9tV3UI0924/Z8jNVg7EZmY18ojYzKxmDsRmZjVzIDYzq5kDsU2x\n3OLSS5myXGZZecvLQ4fKi19r1566zeif/Vn5HXNXPXJlqSyXMZd1Zfncp54qV8v/Hym3Xej8ivWs\nnzgQm5nVyCNiM7OaORCbmdXMgdjMrGYOxDbFqmaC5bZ8/GGlMw8dOjUD7aMfvaxU57rryvl2uS01\nlywpt59bmNu5M9eP3L1OJjsut4D3asVzbaZxIDYzq9Frr8HLud0AZjEHYjNrFE9NmJnVzIE4Q9IZ\nwEPA6an+joj4gqSlwCBwDkW2wScjwu+pMbNJcSDOOw5cGhEvSToN+I6k/wV8GrglIgYl/TmwDvgf\nU9jXWarqdplHK57b/ruwvM3mHXf8fKas/E68pUurZbjlF+YOZMpyW37mfnd7e8t+12+BeE63ClE4\nmYd7WvoEcCmwI5XfCZRzX83MxunkiLjqZzaoNEcsaS7wCLAMuA34R+CFiDj5xzACLOpw7npgfXGU\n2xjczOwNnproICJOABdLWgB8A3hnrlqHc7cAWwCkBdk6ZmYnORB3EREvSHoQeC+wQNK8NCpeTP5t\nO2Zm4+JAnCHpPODVFITPBD4A3Aw8AKyleHLiWuDeqexof6m6gJer155tlsvSy/3OfKxUcujQwky9\n3PRSLmMutzCXu26uf7mMOS/g9RMH4rLzgTvTPPEcYHtE7JR0ABiU9CfAo8DWKeynmfUJj4gzIuIH\nwLsy5U8Cq6aiU2bWvxyIzcxq5kBsDTbRndtyCRO5ednDmbKzMmW5VxvlVL1urix37msVr2szXT8G\n4q4JHWZm063XCR2SVks6KGlY0sbM96dLuid9v0fSkpbvNqXyg5Iu79ampLtT+WOStqWM5DE5EJtZ\no/Q6sy49aHAb8CFgBXCNpPac/nXA0YhYBtxC8WQYqd4AcBGwGviypLld2rwb+PfAL1A8ZvTb3fro\nQGxmjTIFKc6rgOGIeDJtTDYIrGmrs4ZiqwYotm64TJJS+WBEHI+IQ8Bwaq9jmxFxX9oaIoCHKfIs\nxuRAbGaNMoFAfK6kfS2f9W1NLgKebjnObcnwep2UpHYMWDjGuV3bTFMSnwT+uts9e7FuRsst4LWX\nVdmhDeCnmbJcUkZuuiu3S1uVZJNOfam6I5uTPGajCSzWHYmIlWN8r9xlKtbpVJ4bxLa3+WXgoYj4\n2zH6BjgQm1kD9fipiRHgwpbj3JYMJ+uMSJoHnA083+Xcjm1K+gJwHvCfqnTQUxNm1ihTMEe8F1gu\naamk+RSLb0NtdYYotmqAYuuG3WmOdwgYSE9VLAWWU8z7dmxT0m8DlwPXRESl5y49IjazRun1c8QR\nMSppA7CLYh5tW0Tsl7QZ2BcRQxRbNNwlaZhiJDyQzt0vaTvFmw5GgevTbpTk2kyX/HOK167/XbHe\nx9cjYvNYfXQgNrNGmYqEjoi4D7ivrezzLT+/DHysw7k3ATdVaTOVjzuuOhDPelUXtHILabkd33Kz\nWdVeqZTvS+5fbl6E62f9mFnnQGxmjRIBL+fGALOYA7GZNYpHxGZmNXMgNjOrmQOx9Ymqi2G5ermF\nudxC32R4sa6fORCbmTWAA7GZWY08IjYzq5kDsZlZzRyIzbryQppNLQdiM7MGcCA2M6uRR8RmZjVz\nIDYzq5kDsZlZzRyIzcwawIHYzKxGHhGbmTVAxXduzhoOxGbWMEG/JQ45EJtZAzkQm5nVyCNiM7MG\n8ByxmVmNPCI2M6uZA7GZWQM4EJuZ1Sjo/Qtpm82B2MwaxlMTZmY1679APKdqRUlzJT0qaWc6Xipp\nj6QnJN0jaf7UddPM+suJcXxmvsqBGLgBeLzl+GbglohYDhwF1vWyY2bWr06OiB2ITyFpMfBrwO3p\nWMClwI5U5U7gyqnooJn1o9fG8Zn5qs4R3wp8FvjX6Xgh8EJEnNysbgRYlDtR0npgfXF05kT7aWZ9\nw3PEJZKuAJ6LiEdaizNVI3d+RGyJiJURsRI8jWxmVfR2akLSakkHJQ1L2pj5/vS01jWc1r6WtHy3\nKZUflHR5tzYlbUhlIencKv2rMiJ+H/ARSR8GzgDOohghL5A0L42KFwPPVLmgmdnYejsiljQXuA34\nIMW/3vdKGoqIAy3V1gFHI2KZpAGKNbCrJa0ABoCLgAuAb0t6RzqnU5v/G9gJPFi1j11HxBGxKSIW\nR8SS1KHdEfFx4AFgbap2LXBv1YuamXXW88W6VcBwRDwZEa8Ag8CatjprKNa6oFj7uiytha0BBiPi\neEQcAoZTex3bjIhHI+Kp8dzxeJ6aaPc54NOShinmjLdOoi0zsxbjWqw7V9K+ls/6tsYWAU+3HOfW\ntF6vk/6Vf4wirnU6t0qblY0roSMiHiQNtyPiSYrfCmZmPTTuqYkjxRpUR1XWtDrV6VSeG8Rm18mq\ncGadmTVQT5+aGAEubDnOrWmdrDMiaR5wNvB8l3O7tVnZZKYmzMymQM/niPcCy1M28HyKta6htjpD\nFGtdUKx97Y6ISOUD6amKpcBy4OGKbVbmQGxmDdS7QJzmfDcAuyiyg7dHxH5JmyV9JFXbCixMa16f\nBjamc/cD24EDwF8D10fEiU5tAkj6XUkjFKPkH0i6vVsfVQT96SEtCHj/tF3PzKbDzke6zNGOi/SO\nKJ4Mq+pXe3r9OniO2MwaqL8y6xyIzaxh+i/F2YHYzBrGgdjMrAFmx65qVTkQm1nDeERsZtYADsRm\nZjXyiNjMrAEciM3MavQa8GrdnZhWDsRm1kAeEZuZ1chzxGZmDeBAbGZWo8AJHWZmtfOI2MysRp4j\nNjOrmQOxmVkDOBCbmdXII2IzswbwUxNmZjXyiNjMrAEciM3MauQRsZlZA3iO2MysRh4Rm5nVzIHY\nzKwBHIjNzGrkEbGZWQN4sc7MrEYeEZuZNYADsZlZjTwiNjOrmQOxmVnNAni17k5MKwdiM2ug/hoR\nz6m7A2Zmpzo5NVH1052k1ZIOShqWtDHz/emS7knf75G0pOW7Tan8oKTLu7UpaWlq44nU5vxu/XMg\nNrOG6W0gljQXuA34ELACuEbSirZq64CjEbEMuAW4OZ27AhgALgJWA1+WNLdLmzcDt0TEcuBoantM\nDsRm1kCvjePT1SpgOCKejIhXgEFgTVudNcCd6ecdwGWSlMoHI+J4RBwChlN72TbTOZemNkhtXtmt\ng9M8R3zsCOz8IXAucGR6r91zs+EeYHbch++hXv+2t80d2wV/de44TjhD0r6W4y0RsaXleBHwdMvx\nCPCetjZerxMRo5KOAQtT+Xfbzl2Ufs61uRB4ISJGM/U7mtZAHBHnAUjaFxErp/PavTYb7gFmx334\nHmaXiFjd4yaVu0zFOp3Kc7MJY9Ufk6cmzGy2GwEubDleDDzTqY6kecDZwPNjnNup/AiwILXR6Vol\nDsRmNtvtBZanpxnmUyy+DbXVGQKuTT+vBXZHRKTygfRUxVJgOfBwpzbTOQ+kNkht3tutg3U9R7yl\ne5XGmw33ALPjPnwP1lGa890A7ALmAtsiYr+kzcC+iBgCtgJ3SRqmGAkPpHP3S9oOHABGgesj4gRA\nrs10yc8Bg5L+BHg0tT0mFQHczMzq4qkJM7OaORCbmdVs2gNxt1TDJpK0TdJzkh5rKTtH0rdSGuO3\nJL2lzj52I+lCSQ9IelzSfkk3pPIZcx+SzpD0sKTvp3v4L6l83CmldUvZWY9K2pmOZ9w9WO9MayCu\nmGrYRF+hSG9stRG4P6Ux3p+Om2wU+ExEvBN4L3B9+rOfSfdxHLg0In4JuBhYLem9TCCltAFuAB5v\nOZ6J92A9Mt0j4iqpho0TEQ9RrKS2ak2JrJTGWKeIOBwRf59+fpEiCCxiBt1HFF5Kh6elTzCBlNI6\nSVoM/BpwezqeUFqszR7THYhzqYZd0/8a6m0RcRiKIAe8teb+VJZ2lnoXsIcZdh/pn/TfA54DvgX8\nIxNIKa3ZrcBneWOjhAmlxdrsMd2BeELpf9Y7kt4MfA34vYj4Sd39Ga+IOBERF1NkLK0C3pmrNr29\nqk7SFcBzEfFIa3GmamPvwXpvuhM6qqQazhTPSjo/Ig5LOp9ihNZokk6jCMJ3R8TXU/GMuw+AiHhB\n0oMU890LJM1LI8qm/516H/ARSR8GzgDOohghz6R7sB6b7hFxlVTDmaI1JbJSGmOd0jzkVuDxiPhi\ny1cz5j4knSdpQfr5TOADFHPd404prUtEbIqIxRGxhOLv/+6I+Dgz6B6s96Y9sy6NBG7ljbTAm6a1\nAxMg6S+BSyi2KnwW+ALwTWA78G+AHwEfi4j2Bb3GkPQrwN8C/8Abc5N/SDFPPCPuQ9IvUixkzaUY\nRGyPiM2S/h3Fwu85FCmln4iI4/X1tBpJlwA3RsQVM/UerDec4mxmVjNn1pmZ1cyB2MysZg7EZmY1\ncyA2M6uZA7GZWc0ciM3MauZAbGZWs/8Pzg5Hzw+IsEIAAAAASUVORK5CYII=\n",
      "text/plain": [
<<<<<<< HEAD
       "<matplotlib.figure.Figure at 0x7f73f81888d0>"
=======
       "<matplotlib.figure.Figure at 0x7f3b28fcda58>"
>>>>>>> 4b93a6aa1c938018a65db675609718c14664bb75
      ]
     },
     "metadata": {},
     "output_type": "display_data"
    }
   ],
   "source": [
    "if control:\n",
    "    path = '/home/lerko/Dataset_ALMA'\n",
    "    fileName = 'Dataset_ALMA_11_07_17.mat'\n",
    "    fullPath = path +'/' + fileName\n",
    "    data = sio.loadmat(fullPath)\n",
    "    imageName = 'name_HLTau'\n",
    "    img = data['Dataset'][imageName][0,0]['size_128x128'][0,0]\n",
    "    IMAGE_SIZE_X, IMAGE_SIZE_Y = img.shape\n",
    "    x = np.arange(IMAGE_SIZE_X)\n",
    "    y = np.arange(IMAGE_SIZE_Y)\n",
    "    \n",
    "    print(data['Dataset'].dtype)\n",
    "elif not control:\n",
    "    x = np.arange(50)\n",
    "    y = np.arange(50)\n",
    "    \n",
    "    s1 = np.array([20,10])\n",
    "    s2 = np.array([20,10])\n",
    "    s12 = np.array([10,-5])\n",
    "\n",
    "    a = -0.5*s2/(s1*s2-s12**2)\n",
    "    b = -0.5*s1/(s1*s2-s12**2)\n",
    "    c = s12/(s1*s2-s12**2)\n",
    "#     invSigma = np.array([[-2.*a,-c],[-c, -2.*b]])\n",
    "#     print(np.linalg.inv(invSigma))\n",
    "\n",
    "    e = np.array([50,40])/2\n",
    "    f = np.array([40,60])/2\n",
    "    numberOfBasis = e.shape[0]\n",
    "    img = np.zeros((x.shape[0],y.shape[0]))\n",
    "\n",
    "    for i in range(x.shape[0]):\n",
    "        for j in range(y.shape[0]):\n",
    "            for k in range(numberOfBasis):\n",
    "                img[i,j] = img[i,j] + psi(x[i],y[j],a[k],b[k],c[k],e[k],f[k])\n",
    "    IMAGE_SIZE_X, IMAGE_SIZE_Y = img.shape\n",
    "\n",
    "plt.imshow(0.00058*img/np.max(img), cmap=mycmap)\n",
    "plt.colorbar()\n",
    "plt.tight_layout()\n",
    "# plt.savefig('{}.png'.format(imageName), format='png')"
   ]
  },
  {
   "cell_type": "code",
   "execution_count": 6,
   "metadata": {},
   "outputs": [
    {
     "data": {
      "text/plain": [
<<<<<<< HEAD
       "<matplotlib.colorbar.Colorbar at 0x7f73f8420ef0>"
=======
       "<matplotlib.colorbar.Colorbar at 0x7f3b2105a908>"
>>>>>>> 4b93a6aa1c938018a65db675609718c14664bb75
      ]
     },
     "execution_count": 6,
     "metadata": {},
     "output_type": "execute_result"
    },
    {
     "data": {
      "image/png": "iVBORw0KGgoAAAANSUhEUgAAATMAAAD8CAYAAAAbkUOLAAAABHNCSVQICAgIfAhkiAAAAAlwSFlz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\nRU5ErkJggg==\n",
      "text/plain": [
<<<<<<< HEAD
       "<matplotlib.figure.Figure at 0x7f73f81824e0>"
=======
       "<matplotlib.figure.Figure at 0x7f3b4d7df668>"
>>>>>>> 4b93a6aa1c938018a65db675609718c14664bb75
      ]
     },
     "metadata": {},
     "output_type": "display_data"
    }
   ],
   "source": [
    "# Calculate the spectrum\n",
    "img_fft= np.fft.fft2(img)\n",
    "FTgshift = np.fft.fftshift(img_fft)\n",
    "\n",
    "plt.imshow(np.log(np.abs(FTgshift)), cmap=mycmap)\n",
    "plt.colorbar()"
   ]
  },
  {
   "cell_type": "markdown",
   "metadata": {},
   "source": [
    "## Creating sampling mask"
   ]
  },
  {
   "cell_type": "markdown",
   "metadata": {},
   "source": [
    "For creating the sampling mask, we have made a u,v representations based on the antennas disposition. This is because, if the antennas disposition is random, the measures are not completely random. The Measurements positions are defined by the interferometry physics."
   ]
  },
  {
   "cell_type": "code",
   "execution_count": 7,
   "metadata": {},
   "outputs": [
    {
     "data": {
      "image/png": "iVBORw0KGgoAAAANSUhEUgAAAP4AAAD8CAYAAABXXhlaAAAABHNCSVQICAgIfAhkiAAAAAlwSFlz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\nnPhmFXLim1XIiW9WISe+WYX+H+yu5PE49A6bAAAAAElFTkSuQmCC\n",
      "text/plain": [
<<<<<<< HEAD
       "<matplotlib.figure.Figure at 0x7f73f5eec4a8>"
=======
       "<matplotlib.figure.Figure at 0x7f3b21155710>"
>>>>>>> 4b93a6aa1c938018a65db675609718c14664bb75
      ]
     },
     "metadata": {},
     "output_type": "display_data"
    }
   ],
   "source": [
    "from masking import *\n",
    "\n",
    "## Parameters\n",
    "B_max = 1\n",
    "antennas = 30\n",
    "typeArray = 'URA'\n",
    "sigma = B_max/6.0\n",
    "\n",
    "lambda_phy=3*10**(-6); #(km)\n",
    "H0=10; #(deg)\n",
    "delta0=-30; #(deg)\n",
    "Lat=34.05;  #(deg) Lat VLA\n",
    "\n",
    "## Masking function returns the mask\n",
    "mask = createSpectrumMasking(B_max,antennas,typeArray,sigma, lambda_phy, H0, delta0, Lat, N1 = IMAGE_SIZE_X, N2 = IMAGE_SIZE_Y)\n",
    "show_fft_image(mask)"
   ]
  },
  {
   "cell_type": "markdown",
   "metadata": {},
   "source": [
    "## Sampling"
   ]
  },
  {
   "cell_type": "markdown",
   "metadata": {},
   "source": [
    "Variable measurements are the 2D representation for the measurements. U are the positions in the u,v spaces, i.e., U[0] = u, U[1] = v. Finally, V is the visibility function."
   ]
  },
  {
   "cell_type": "code",
   "execution_count": 8,
   "metadata": {},
   "outputs": [
    {
     "name": "stdout",
     "output_type": "stream",
     "text": [
      "Percentage of measurements: 26.36\n"
     ]
    },
    {
     "data": {
      "image/png": "iVBORw0KGgoAAAANSUhEUgAAAP4AAAD8CAYAAABXXhlaAAAABHNCSVQICAgIfAhkiAAAAAlwSFlz\nAAALEgAACxIB0t1+/AAAADl0RVh0U29mdHdhcmUAbWF0cGxvdGxpYiB2ZXJzaW9uIDIuMS4wLCBo\ndHRwOi8vbWF0cGxvdGxpYi5vcmcvpW3flQAAGoVJREFUeJztnX+QVNWVx78n4whEUBAGIUABq5QY\ncQdqB8VyqYkaSiIa4hIquu4uSYhEy2SNIT9gdWOMWpKyiEm5rkaChs1SYAgaDCRaLAHCVoCAAUQC\nBhBZMCOMCoikQCRn/+iHmXvu7Xlverp7uud+P1VTM+e+++PQ3YfX57xzzxVVBSEkLj7U0QoQQsoP\nDZ+QCKHhExIhNHxCIoSGT0iE0PAJiRAaPiERQsMnJELaZfgiMl5EXhGRXSIyo1hKEUJKixSauSci\nNQD+CGAcgP0ANgC4SVX/kH/MmQp8uEXL0ECvPQXpk0Zd3QWO3Ny8y5H793evA0BT0y6vrb185CP+\nOvYtKMW62bHvSWneD1Iq/gzV9ySt1xntWOFSALtU9VUAEJGFACYCyGv4OaMf20L+r0Cff2mHSvmZ\nNOkXjvz449c78he+4F4HgPvuu95ray+33+6vc/x46dfNjn1PSvN+kFKxJlOv9nzVHwBgXwt5f9JG\nCKlw2nPHD32d8PwGEZkGYFpO6taO5QghxaI9Pv7lAL6tqtck8kwAUNUH848ZpcCvW7Twa2SlU1vr\nuiYnT4bckMeMfFvJ9Enjhhtcfbt2da8vWFAaN2r8eHfdY8f8Pu++68qbNpVClzVQPZzq47fnq/4G\nAMNEZKiInAngRgDPtWM+QkiZKPirvqq+LyJfAvACgBoAT6rqtqJpRggpGe3x8aGqvwTwyyLpQggp\nE8zcIyRCCg7uFbSYNKjIxg9k1Y58Xt25WLbMzw+YMKFSXt+HA213tnvWXr38f3P37q68b1/7X4Ph\nw/11duxofd6QbocOFaLLfxj5Syn9Sx/cI4RUKTR8QiKEhk9IhJTZx++pbq4+Ia1xv5FNNg6+ViY9\nFgXaJpdp7Sw80+LvMVB9kT4+IcSHhk9IhNDwCYmQdmXukbajq7/utUnjQx2gSTaWLHGfR0+cWJzc\ngB493HmPHg3N+56R7y7K2m3n1UCbjT+USje7zsBAn39o8ffuTLPyjk9IhNDwCYkQGj4hEULDJyRC\nmMBDHE6dcoNuNTWl2egzbpy7zq5AYeE9e+za8418c1F1+it2Y0ygnA6+WaK1v2zkR9o4npt0CCF5\noOETEiE0fEIihD4+aTd797r++muvudcbGzuuIMiVV7q62cNLAGDt2lLo9/lA234j9wr0ebqd69LH\nJ4TkgYZPSITQ8AmJEBo+IRFS1uBe374NOmnSX6vs2hNrSeHoLf29NpnTVPx1tjzgr1N/lyMfO9Z6\nsA8ALr647e/9rFnuvLW1fp/p01ufd+ZMv/rtm2+68pw57hyjRvlj7L/p0KF3TI9QcpEN+D0Z1LE1\n0qv3MrhHCMkDDZ+QCKHhExIhTOCpUnSM65jKuj5+n0+ccvv8qsa9HogLoI87jzy4te26vTLbnePC\n6aljtm3zfVcbB9iyxe9jqa93x6xe7Y45fNgfY6sKPfCAO+auu/y4gU0MWrkybUMRANidSKHKPvMC\nba3T8oju3/62AUeObKSPTwjxoeETEiE0fEIihD5+mdG69V6bNF/WAZpkQz9X58jyVHNx5j3i+sBy\njv/cW99y/V3pPaXVOQAAXd3TdqTLJEd+/fX05/g2TvDoo6HTcl35kUey5CU8YeRpGcYsNPKNKf35\nHJ8QkgcaPiERkmr4IvKkiBwUkZdbtJ0rIstFZGfyO7SxmBBSoWS54/8YwHjTNgPAClUdBmBFIhNC\nqoTUI7RU9TciMsQ0TwTwseTveQBWoXRlRzsVlRzIAwAd7iaZyFMlWujdd911V9zpdfGCeUtvdTus\nW+ePucatSuttKjrjoDem34i+rWmK4cNbvdwGsgTzLGnBvMIo1Mc/T1WbACD53forRwipKEp+aKaI\nTMMH/9V1K/VyhJAMFHrHPyAi/QEg+e1/f0pQ1SdUtUFVG4AzC1yOEFJMMiXwJD7+UlUdkcgPAXhL\nVWeJyAwA56rqN9LniS+B5xiWOvJZuM7r85bp0zvQpxScNOsCQK1Z2yYcZYlR6GTzza5fP7/TiBGu\n3BxIDDpxovWFunTxmuRu3+93dAvEEjDQPXo6y6aiZcvcpJ7Nm93rgfCD19bcvCcw87+mrt06RUrg\nEZEFANYCuFBE9ovIVACzAIwTkZ0AxiUyIaRKyBLVvynPpauLrAshpEwwc4+QCOEmnVbQfhsdWd5o\n6CBN0tkT8NeHlilWoIO2uA09e7YuA5A157hz3OBXzpRnT7Zbt0IopJDI3Lmuzz91qr9pZ/hwt8+O\nHaUoNstNOoSQPNDwCYkQGj4hEULDJyRCSp6yW83YYJ5NeLHJLh1JIYG83YGAoM2tHJRhXtlX7zbs\nc0XtsTowqtGdIxDI84KGproOzjrL12XzQK/NmfPrF/mNgwe7c2QI5tlKPgMGuIG60Ik9q1alTls2\neMcnJEJo+IRECA2fkAihj98GKsmnt6wN+OuXG303mD72fFcAGGXG7DRjhgVeg0Omj40TvHPUX+eo\nGRP6IMo+d61TZsyHevTwxugQ96gcec1sBtq/31/Ixg4yYA4c8k7saWxMP32nI+Edn5AIoeETEiE0\nfEIihJt0qpQVAZ/ecnVKTGJNYA7ra1t/PVRD6ZISxT6aUmIHoYIlWvuCI8vJa1LX0dsGuWMe25en\nZzXATTqEkDzQ8AmJEBo+IRFCwyckQhjcqwBWmyDW++a6lQHgmgwBtWVm3gkZxtigYVqAEAA2mTG2\npm6o9nq9mXdLINBo+1gOBMZ0N/KHTZKPHG1EOZg920/WmT7dJvX8PDDyU+1cmcE9QkgeaPiERAgN\nn5AIoY/fSVicIaFnUgGJNlniBDYu8GFz3W4WyordVDTazFNIZWEd9orfaE71KVV137FjXb9/zRpW\n2SWElBEaPiERQsMnJELo43di5qf4/TcH/OFFZszkDP552hgbJwiRJccgzecH/I09/e3pv7aAJ+D7\n+L+qSdXFsmWL67/X12fx3xcF2ia3eW0X+viEkDzQ8AmJEBo+IRFCwyckQlhltx0U62jqtCSZpwPr\nfMb0mRfo816bNUkfE1rHBvN+Yvq8G5jH6v9sYF5b+9bqtjUw5i9GPmb62Mq9AKAjTrny/WPcDmP9\ngLQ0PuTIBRTqxaBB/qB9ZSr+wzs+IRFCwyckQlINX0QGichKEdkuIttE5I6k/VwRWS4iO5PfvUqv\nLiGkGKQm8IhIfwD9VfX3ItIDwIvIVQv4LIC3VXWWiMwA0EtVv9n6XNWdwPOW8RdDVV4Lwfr4x831\nQjbXAMAcM+8tGeaxY7IU1bD62rtJyP39nNHFJgGFxl2fQf/XzTzn2jnr6rwx0nxZ6rwWPTDXkQ9o\nX0fu168UG3CyUKQEHlVtUtXfJ38fBbAdwAAAEwHMS7rNQ/tLhxBCykSbfHwRGQJgFID1AM5T1SYg\n958DgL75RxJCKonMj/NEpDuAxQC+oqrviKR+mzg9bhqAaTmpW9s1JIQUnUx3fBGpRc7o56vqM0nz\ngcT/Px0HCLl/UNUnVLVBVRvC57AQQspN6h1fcrf2uQC2q+r3Wlx6DsAUALOS30tKomEFYYN5+wIB\nqUEpAajQ0Ve2km2WajpZsMkslh8E1rEBwKdMn6mBf9/Dps+dGYJwNhEotAtwScrr8GKGI8C62Xmb\n/Xl07BG3YeRIR5RH9nhj5LyprepW6WT5qn8FgH8GsFVENidt/4acwf9URKYC+D+0fz8hIaRMpBq+\nqv4vgHwO/dXFVYcQUg6YuUdIhLACTzuwySIAMCDFv10ZGPNnIxeSwGMTbwDfx7cn8th1Q2PsV0Jb\nQRcAbjP6fTfleGvAP/GmZ6CPTeCx8rgMr4t2/R9HluMf9/tcstfts3Vw6rylYvJkt5LPokVtTQRi\nBR5CSB5o+IRECA2fkAjplIU4dMWdfuPLLzui3LG8zfOeNL5rbcDH3G36vGOuh4pS2MIbtijFgoD/\nfpMZE3pmb/9Xt292aIwtdmHl6QVsGAqtY+MNoef4hZzcu9OMedsGTAJYn94+15c156RPUgCLF/sn\n6k6aVJ7NPbzjExIhNHxCIoSGT0iE0PAJiZBOGdyTqx8uybw2mHckEHSzwbxRBQTDbshQZdeSJYA2\nwsiNGXS7x6z9QECXu8w8WT5UaRuIAD/xxwb7QpV9bCwvlKSUSrPdyVOa4F65AnkheMcnJEJo+IRE\nCA2fkAiJdpOOzr7SbTAJPgCAXbtceccOR3zP8wWBLil+c6h4hE3qsX5qKAflsJGnFFAgw14H/BjF\nPWbMvYExZxs5yzrWf7ebdgB/407aph3Aj1vYhJ5hBcRcvEIdAHDBBY4oT7mfBX3hy94QueaRNq/d\ndrhJhxCSBxo+IRFCwyckQuL18f/7RkeWf1ro97mh1m3Yvt0ds8P187IQOuH1EuN32ufVoUIW+438\ndqBP2v6U0IYb+5zebtK5NzDmITPmUnM9lC/wmBlji3kAfv6CLQISKgpi22z84eIsxTtqX3Abzj/f\n73TRRa48fLgjyoNbU9cpDfTxCSF5oOETEiE0fEIihIZPSIREG9wrBtpvo9cmbzS0OsYmlADAm0bO\nsrHEJvCEKvHONmvZTTuhzTQ24Hdfhg1C/54SMMtSATgUwLRHadvKRHYzU6E0m3lt4lCo0lLlwuAe\nISQPNHxCIoSGT0iEdMpCHKtX+9VLGxtLUPSgrs5ve6P1IaGNJfZNyFJNdlEG37sY/6tb/92ekgP4\nCTw2iSZLBeAs2HmWBXSxFYs3mD6hzUA2Scn69NpjtTdGjjbmUzMvuvhzbsMIWxoFkAunt3neQuAd\nn5AIoeETEiE0fEIipFM8x7/1Vtenf/zxjitiqHXrHVmaL3PkAwG/9LwUn35JYEyWYh22wIf1ZUPY\nIhpPpZwMFMLGLEKBpLRTfgD/Ob4l5OPbGIr16S/LED+xRVTP4XN8QkhngIZPSISkGr6IdBWR34nI\nFhHZJiL3Ju1DRWS9iOwUkadFJJR1SQipQLLc8U8AuEpV6wGMBDBeRMYA+C6Ah1V1GIBDAKaWTk1C\nSDFJTeDRXPTvdJyoNvlRAFcB+MekfR6AbwN4rPgqptNRwTwdd8Jv3Nz6mFAgb4s92tlcvzIwxibw\nhKrs2sDc7RmCVHPNGBtgC224ucX0+aHp88XAumnrFIpNflqbIdHJYjczdUYy+fgiUiMimwEcBLAc\nwG4Ah1X19Gu0H8CA0qhICCk2mQxfVU+p6kgAA5ErqXZRqFtorIhME5GNIrIx2wMlQkipaVNUX1UP\nA1gFYAyAniJy2lUYCOBPecY8oaoNqtoQ3nVNCCk3qT6+iNQBOKmqh0WkG4CPIxfYWwng0wAWApgC\nYEkpFS01emS+37jZddil8SFXXt4lMJObsHPM+Ji2gAaQzae32DduccCXtcU5fpJSmAPw7wQ2lhD6\nzmZjCVn89VLtDrMVii8vIHbQ24w5GXhtq6s4h0+W178/gHkiUoPc5+KnqrpURP4AYKGI3A9gE4C5\nJdSTEFJEskT1XwIwKtD+KvwS6oSQKoCZe4RECA2fkAjplBV4unb1K/AcP56S5PO+H+qywTy9d7Tb\nYd06fx5z3Lbsc4NATRmOjLZVY+wuO8DfjReqcmOx1WNDO/omm6CVDRreHAhqLUhJkpkfuG7vOPa4\nLAD4jFnL7lK01XYAYGUBCTsWW3W32gN5IXjHJyRCaPiERAgNn5AI6ZQ+/ujRftuaNe2fV+7ZYFpq\nvD46zK0Bc8r4izUBf3GP6TM6pVIskC3JZ40ZZ9/sUHLLr8yYT2RYJ1Q5uC3XgfBJQJaJGfpkeV3S\nqOuEPr2Fd3xCIoSGT0iE0PAJiZBOUWU3C7Nnu8/2p08vTfEOHbnfbdi92xGznMBiff6hGYp31Bfg\nl24KxA7sSb1XmHntJhgg28k/llCFXEvoOT1Jg1V2CSF5oOETEiE0fEIihIZPSIR0ygSe8eP9TTo2\nmLdundtnzJjiBPtk80DT4spa+4I35s8nTzpyaPOMxQbzbEAQ8IOCb2XY/JP2gQgF8myi0NgCkn6y\nBAjTEpIAf8PT3zFAGIR3fEIihIZPSITQ8AmJkGgSeMqF3tTDkWXB0fQxPVa7Y0ySz4mA/24Lb3Qr\nkS+7M0OVXdtmS5rYTUchQife2LtSliOuCRN4CCF5oOETEiE0fEIipFM+xw8xc6b73P7BB93n9q+/\n7j/7/8gZBx1ZzstwEvhA89z+JnfTTtDnP/98d8yxV9zrxwd5Q2RfvTum30Z/3mPHXNnkC/zluJ8x\nYJ/tn2P86n0BX3yQ6bPd9NkWGHOxGdPd6wFcQp++ZPCOT0iE0PAJiRAaPiERQsMnJEKiCe69+aYr\nz53rBvMGDPA36Zw65Qf8Uhk82JW72u0om7whdmOPXm/yLwKn/GhDrTvHsw2pquklex25ZuvgPD3z\nYwN5gH/yjE3oGZAhSFfJgbxQ4FTeSH+9Kxne8QmJEBo+IRFCwyckQqLx8d94w5WnTnV9+mXLfH++\npqb14hz6ymyvTS6c3nbl7By/sBun/BN7ADcZR3/o6ypfNP+m4cPdMX1M4AMAmprcOXZckE/NDyjG\nyTM2TlCseYtByJ/XK93kKFl5VrnUKQq84xMSITR8QiIks+GLSI2IbBKRpYk8VETWi8hOEXlaRGy5\nM0JIhZK5EIeIfBVAA4CzVfU6EfkpgGdUdaGIPA5gi6o+1voc5SrE8XOvZdQo109uMG7byJH+LMYl\nxtVXpxfk1ANz3QYTXJD6u9LnWHqr23DqlN+pu9nWYpUFgOefd+XXXmtVNwCQOU1em6Pb8F3+GBMH\nSCssUkrSTie2ugHl1a/0FLEQh4gMBDABwI8SWQBcBeBnSZd5AD5VmKKEkHKT9av+9wF8A3+t+NQb\nwGFVPZ1Sth/AgNBAEZkmIhtFZGO4cBMhpNykGr6IXAfgoKq+2LI50DXoM6jqE6raoKoNftVzQkhH\nkOU5/hUAPiki1yJ3DsLZyH0D6CkiZyR3/YEA/lQ6NQkhxaRNVXZF5GMAvpYE9xYBWNwiuPeSqv5n\n6+Orq8ruo4+6CTBDhrjXJ0zwg322kk+fPu71MwPujnSZ5Mj61rxU3aT3FHfMkfl+px073DGX3Zc6\nbyFUezJL56L0VXa/CeCrIrILOZ9/bkp/QkiF0KaUXVVdBWBV8verAC4tvkqEkFLDzD1CIqQKN+nc\nG2i7J8M46wPfnDpi82ZXPnw4fZWNpmZDz56u3Njo+vMAsGWLGxd4yS3Mi/p6P5awbZs7Rs7x++iJ\nxa1oWhg68xKvTR7cWvR1ioWOcTciybo+eXrGBe/4hEQIDZ+QCKHhExIhFXdabq9eru966FD6xhif\nzwfabEEJW2jS9/lHjXJ12bTJ1eWWW/ziHXPmuH0eeMDt49XeBDB9ujtm1qz0Ip8zZqQXEgnlGbQk\nlC9g8wOyoD8Y5zaYYIjcs8Efc0t/t09gc1AhJw8TnpZLCMkDDZ+QCKHhExIhNHxCIqRDg3s2eAb4\nATTAFvW5rcDVbcDvSSM/ERjT15Hq6twqPs3NfvDs8stbD+atXJkerBw71p0jcJAO1q5te9Bz9erW\nNx0BwODB7ry2olCmo8ILQO8f47XJ3etKslbnhsE9QkgeaPiERAgNn5AIqbgEnuLw6UBboFKtw7Ol\nUAShir8+HVOndPFiP8YywFROHDOmkAQq0nHQxyeE5IGGT0iE0PAJiRAaPiER0kmCe1828iMlWAMA\nvmvkk4E+d5dg3W8F2r7jSD16+IG6C8yGRD85qjjs3euubZOASDlhcI8QkgcaPiERQsMnJEKqoMru\n/Rn6lMKvBoBFKdcnl2hdy3cCbe7rcvSo71dv2vRM0TWxpwsBle3Tl2uTUbXBOz4hEULDJyRCaPiE\nREgFPsd/2Mh3lkqdNjN8uOvf7thRLt82FGs4ZuTPlkEPUvnwOT4hJA80fEIihIZPSITQ8AmJkA5O\n4LEVdIG0KrqhzSih5JU0xo9353n++fQ5Ro925R072rxsJl2OmbjdmjXFCiLONXLlJLPMnu2/r/Zo\nMVI8eMcnJEJo+IRECA2fkAgpcwKPNAPYC6APgDfLtnD7qCZdgerSt5p0BapD38GqWpfWqayG/8Gi\nIhtVtaHsCxdANekKVJe+1aQrUH36tga/6hMSITR8QiKkoww/dDRtpVJNugLVpW816QpUn7556RAf\nnxDSsfCrPiERUlbDF5HxIvKKiOwSkRnlXDsLIvKkiBwUkZdbtJ0rIstFZGfyu1dH6ngaERkkIitF\nZLuIbBORO5L2StW3q4j8TkS2JPrem7QPFZH1ib5Pi8iZHa3raUSkRkQ2icjSRK5YXdtK2QxfRGoA\nPArgEwA+CuAmEfloudbPyI8BjDdtMwCsUNVhAFYkciXwPoDpqnoRgDEAbk9ez0rV9wSAq1S1HsBI\nAONFZAxyp5Q8nOh7CJW0gQC4A8D2FnIl69omynnHvxTALlV9VVXfA7AQwMQyrp+Kqv4GwNumeSKA\necnf89BRZ1obVLVJVX+f/H0UuQ/oAFSuvqqq7yZibfKjAK4C8LOkvWL0FZGBACYA+FEiCypU10Io\np+EPALCvhbw/aat0zlPVJiBnbAD6drA+HiIyBMAoAOtRwfomX503AzgIYDmA3QAOq+r7SZdK+kx8\nH8A3APwlkXujcnVtM+U0/FAdMD5SaCci0h3AYgBfUdV3Olqf1lDVU6o6EsBA5L4BXhTqVl6tfETk\nOgAHVfXFls2Brh2ua6GUcz/+fgCDWsgDAfypjOsXygER6a+qTSLSH7m7VUUgIrXIGf18VT19ekbF\n6nsaVT0sIquQi030FJEzkjtppXwmrgDwSRG5FkBXAGcj9w2gEnUtiHLe8TcAGJZERs8EcCOA58q4\nfqE8B2BK8vcUAEs6UJcPSHzOuQC2q+r3WlyqVH3rRKRn8nc3AB9HLi6xEsCnk24Voa+qzlTVgao6\nBLnP6a9V9WZUoK4Fo6pl+wFwLYA/Iufb3VXOtTPqtwBAE3LnX+9HLmrbG7no+M7k97kdrWei698j\n91XzJQCbk59rK1jfvwWwKdH3ZQDfStr/BsDvAOxCro54l47W1ej9MQBLq0HXtvwwc4+QCGHmHiER\nQsMnJEJo+IRECA2fkAih4RMSITR8QiKEhk9IhNDwCYmQ/wf4wiKSaKXS9gAAAABJRU5ErkJggg==\n",
      "text/plain": [
<<<<<<< HEAD
       "<matplotlib.figure.Figure at 0x7f73f5fdd358>"
=======
       "<matplotlib.figure.Figure at 0x7f3b20fba1d0>"
>>>>>>> 4b93a6aa1c938018a65db675609718c14664bb75
      ]
     },
     "metadata": {},
     "output_type": "display_data"
    }
   ],
   "source": [
    "measurements,Uobs,Vobs = UVCreator(img_fft,mask)\n",
    "\n",
    "measurements_abs = np.log(np.abs(measurements)+1e-12)\n",
    "show_fft_image(measurements_abs)\n",
    "\n",
    "percent = 100*Uobs.shape[0]/(measurements.shape[0]*measurements.shape[1]) \n",
    "print('Percentage of measurements: %s' % percent)"
   ]
  },
  {
   "cell_type": "code",
   "execution_count": 9,
   "metadata": {},
   "outputs": [
    {
     "name": "stdout",
     "output_type": "stream",
     "text": [
      "Getting indexes (u,v)->i..done.\n"
     ]
    }
   ],
   "source": [
    "print('Getting indexes (u,v)->i..', end='')\n",
    "mask_vect = mask.reshape(-1)\n",
    "mask_vect_index = np.where(mask_vect == 1)[0]\n",
    "mask_vect_index2 = np.concatenate([mask_vect_index, mask_vect_index])\n",
    "print('done.')"
   ]
  },
  {
   "cell_type": "code",
   "execution_count": 10,
   "metadata": {},
   "outputs": [
    {
     "name": "stdout",
     "output_type": "stream",
     "text": [
      "H shape: (2500, 659)\n",
      "Check sanity: True\n"
     ]
    }
   ],
   "source": [
    "# Sampling Matrix\n",
    "\n",
    "H = np.zeros((mask_vect_index.shape[0], IMAGE_SIZE_X*IMAGE_SIZE_Y))\n",
    "# print(mask_vect)\n",
    "\n",
    "p = 0\n",
    "for q in range(H.shape[1]):\n",
    "    if mask_vect[q] == 1:\n",
    "        H[p,q] = 1\n",
    "        p += 1\n",
    "#         print(p,q)\n",
    "# print(H)\n",
    "H = H.T\n",
    "print('H shape: {}'.format(H.shape))\n",
    "print('Check sanity: {}'.format((np.matmul(H.T,np.arange(2500)) - mask_vect_index).sum() == 0))"
   ]
  },
  {
   "cell_type": "markdown",
   "metadata": {},
   "source": [
    "# Model"
   ]
  },
  {
   "cell_type": "markdown",
   "metadata": {},
   "source": [
    "### Fourier Matrix"
   ]
  },
  {
   "cell_type": "code",
   "execution_count": 11,
   "metadata": {},
   "outputs": [
    {
     "name": "stdout",
     "output_type": "stream",
     "text": [
      "Krockener product shape: (2500, 2500)\n"
     ]
    }
   ],
   "source": [
    "import numpy as np\n",
    "def DFT_matrix(N):\n",
    "    i, j = np.meshgrid(np.arange(N), np.arange(N))\n",
    "    omega = np.exp( -2 * np.pi * 1J / N )\n",
    "    W = np.power( omega, i * j ) / np.sqrt(N)\n",
    "    return W\n",
    "\n",
    "Wizq = DFT_matrix(IMAGE_SIZE_X)\n",
    "Wder = DFT_matrix(IMAGE_SIZE_Y)\n",
    "W = np.kron(Wder.T,Wizq).T\n",
    "print('Krockener product shape: {}'.format(W.shape))"
   ]
  },
  {
   "cell_type": "code",
   "execution_count": 12,
   "metadata": {
    "collapsed": true
   },
   "outputs": [],
   "source": [
    "# plt.imshow(Kron.real)\n",
    "# plt.colorbar()"
   ]
  },
  {
   "cell_type": "code",
   "execution_count": 13,
   "metadata": {
    "collapsed": true
   },
   "outputs": [],
   "source": [
    "# plt.imshow(W.real*W.real.T)\n",
    "# plt.colorbar()"
   ]
  },
  {
   "cell_type": "code",
   "execution_count": 14,
   "metadata": {
    "collapsed": true
   },
   "outputs": [],
   "source": [
    "# plt.imshow(Kron.imag)\n",
    "# plt.colorbar()"
   ]
  },
  {
   "cell_type": "code",
   "execution_count": 15,
   "metadata": {
    "collapsed": true
   },
   "outputs": [],
   "source": [
    "# plt.imshow(np.abs(Kron))\n",
    "# plt.colorbar()"
   ]
  },
  {
   "cell_type": "code",
   "execution_count": 16,
   "metadata": {},
   "outputs": [
    {
     "name": "stdout",
     "output_type": "stream",
     "text": [
      "Separanting real and imaginary part...done.\n"
     ]
    }
   ],
   "source": [
    "print('Separanting real and imaginary part...', end='')\n",
    "Vrobs = Vobs[:,0]\n",
    "Viobs = Vobs[:,1]\n",
    "Vobs_concat = Vobs.reshape(-1, order='F')\n",
    "print('done.')"
   ]
  },
  {
   "cell_type": "code",
   "execution_count": 17,
   "metadata": {},
   "outputs": [
    {
     "name": "stdout",
     "output_type": "stream",
     "text": [
      "C shape: (2500, 5000)\n",
      "V concat shape: (5000, 1)\n"
     ]
    }
   ],
   "source": [
    "C = np.concatenate([np.eye(W.shape[0]), 1j*np.eye(W.shape[0])], axis=1)\n",
    "print('C shape: {}'.format(C.shape))\n",
    "V_concat = np.concatenate([img_fft.real.reshape(-1), img_fft.imag.reshape(-1)])[:,np.newaxis]\n",
    "print('V concat shape: {}'.format(V_concat.shape))\n",
    "W_new = np.matmul(W,C).real\n",
    "I_concat = np.matmul(W_new,V_concat)"
   ]
  },
  {
   "cell_type": "code",
   "execution_count": 18,
   "metadata": {},
   "outputs": [
    {
     "data": {
      "text/plain": [
<<<<<<< HEAD
       "<matplotlib.image.AxesImage at 0x7f73d7425320>"
=======
       "<matplotlib.image.AxesImage at 0x7f3b210b0128>"
>>>>>>> 4b93a6aa1c938018a65db675609718c14664bb75
      ]
     },
     "execution_count": 18,
     "metadata": {},
     "output_type": "execute_result"
    },
    {
     "data": {
      "image/png": "iVBORw0KGgoAAAANSUhEUgAAAP4AAAD8CAYAAABXXhlaAAAABHNCSVQICAgIfAhkiAAAAAlwSFlz\nAAALEgAACxIB0t1+/AAAADl0RVh0U29mdHdhcmUAbWF0cGxvdGxpYiB2ZXJzaW9uIDIuMS4wLCBo\ndHRwOi8vbWF0cGxvdGxpYi5vcmcvpW3flQAAERJJREFUeJzt3VuIXdd9x/Hvb24a3XyRZLtCcmw3\nVYsDrW0qXIMLLXJCVSfYfnDBbigqCPTSgkMDidJCaWgf7Jc4L6UgYhMVQuw0CbUxKUEodkKhyJav\ntSMSyQbHQqpkW5at22hmNP8+nC0ze60tnaOZc86cmfX7wDCz9uxz9sKen/ZZa6+LIgIzK8vQQlfA\nzPrPwTcrkINvViAH36xADr5ZgRx8swI5+GYFcvDNCjSv4EvaKulXkg5J2tmtSplZb2muI/ckDQO/\nBr4AHAZeAh6OiF9e6jVjWhbjrJzT9cysvQnOMBnn1e68kXlc407gUES8AyDpKeB+4JLBH2clf6R7\n5nFJM7ucfbG3o/Pm81F/A/DerPLh6piZDbj53PGbPk5k7QZJO4AdAOOsmMflzKxb5nPHPwzcOKu8\nETiSnhQRuyJic0RsHmXZPC5nZt0yn+C/BGySdIukMeAh4NnuVMvMemnOH/UjYlrS3wI/BYaBJyPi\nra7VzMx6Zj5tfCLiJ8BPulQXM+sTj9wzK5CDb1YgB9+sQA6+WYEcfLMCOfhmBXLwzQrk4JsVyME3\nK5CDb1YgB9+sQA6+WYEcfLMCOfhmBXLwzQrk4JsVyME3K5CDb1YgB9+sQA6+WYEcfLMCOfhmBXLw\nzQrk4JsVyME3K5CDb1YgB9+sQA6+WYEcfLMCOfhmBXLwzQrk4JsVyME3K5CDb1agtsGX9KSk45Le\nnHVsjaQ9kg5W36/tbTXNrJs6ueN/F9iaHNsJ7I2ITcDeqmxmi0Tb4EfEL4ATyeH7gd3Vz7uBB7pc\nLzProbm28W+IiKMA1ffru1clM+u1kV5fQNIOYAfAOCt6fTkz68Bc7/jHJK0HqL4fv9SJEbErIjZH\nxOZRls3xcmbWTXMN/rPAturnbcAz3amOmfVDJ4/zvg/8D/B7kg5L2g48CnxB0kHgC1XZzBaJtm38\niHj4Er+6p8t1MbM+8cg9swI5+GYFcvDNCuTgmxXIwTcrkINvViAH36xADr5ZgRx8swI5+GYFcvDN\nCuTgmxXIwTcrkINvVqCeL71lA0zqzftG9OZ9rWt8xzcrkINvViAH36xADr5Zgdy5t5S167xT/u++\nhtT2nEzMJMW47O+b38Mdgv3kO75ZgRx8swI5+GYFchu/IBoerh9Iyx2co4Z+g0ja57pwof77pAxA\nJ+e43d8zvuObFcjBNyuQg29WILfxl4qmZ/bpM/i0vT42lr9k2VhSTrY2H2p49p8emEme658/n70m\nzk/WD0xO5udMTScHkvEA7gOYM9/xzQrk4JsVyME3K5CDb1Ygd+4tYemEm3RwTtqRB6BVK2vlWLm8\nVp5ZPpq9Jkbq9w9N1zvhhs5NZa8ZOnOu/h6nz+TvezY5J+kA9KCfufMd36xADr5ZgdoGX9KNkp6X\ndEDSW5IeqY6vkbRH0sHq+7W9r66ZdUMnbfxp4KsR8Yqk1cDLkvYAfw3sjYhHJe0EdgJf711V7Yq1\nG8CTDs4hb9NPrVtRK5+/Nm/jTy2//P1j9Fy+EMeyj+rvO/rB8uycoZOnauWZT+plJhoGBk0n/Qlu\n8zdqe8ePiKMR8Ur18yngALABuB/YXZ22G3igV5U0s+66oja+pJuBO4B9wA0RcRRa/zgA13e7cmbW\nGx0HX9Iq4EfAVyLikyt43Q5J+yXtnyL/aGZm/ddR8CWN0gr99yLix9XhY5LWV79fDxxvem1E7IqI\nzRGxeZS8TWlm/de2c0+tJVeeAA5ExLdm/epZYBvwaPX9mZ7U0LomWz2nYaZdOkAn7cw7vT5ftWdi\nTf19L4zXO9SGJ/I/s/ET9fdZdTTvNFxxuH5sOKlvfJx/8Jypj/lxZ98ldNKrfzfwV8D/SnqtOvb3\ntAL/A0nbgd8Af9GbKppZt7UNfkT8Nw1Triv3dLc6ZtYPHrlnViBP0lnK2u1gk+6aQz7hJh2ck7bn\nAc7dVG9Hr1h7tm3VPvqwPoBnYk3exr96+apa+aqkbk1/vErb8MngIU/safEd36xADr5ZgRx8swK5\njV+QfMebhj6AdKfbpEmfPqOHvE3/J595u1a+afzD7DXvTqytlX++9rPZOSfGr0qvVCtdPZ3XfzhZ\n4Xcm3bGnYWIP0dDuX+J8xzcrkINvViAH36xADr5Zgdy5t1Skq+0AGqn/79Vwck7Dtltph9/wZDLh\nZrLhOsnbpJ15961+PXsNqy//GoB/585a+eOJq2vl0XP1zj6AVcmKvkq270q38AaIyfK25vId36xA\nDr5ZgRx8swK5jb8YNLXFR+qTWjSer26kFfWVa7V8vFaO5e1XRBo5U2//jp3MF+L4OJlw8+6N9cE5\naXse4NaxpH3e0A/w7mfq7/NfH/5+rXz6RP7nm67eO3amvjOQ0u25AdJBPmk/wBJs8/uOb1YgB9+s\nQA6+WYHcxh9ESZt+qGHHG61OGs7rrsnOmV5Tb99OL6+3z4cu5G3XofP19u3o6elaeeWxvI0/+Zt6\nf8PP19Qn3DQ9o29q06fS16WTgSbW1J/rQ744aLpDj5p25U124U3b/EuR7/hmBXLwzQrk4JsVyME3\nK5A79wZBm868oXXJgBhg6qbrauWPP5tvM332hmTgT1Icfz/v3Fv9Xr2ja+xkfZLLiiP5a2ZG6gOD\nTozVV85JJ9tAPjink1V6Uk2rAaWrAqc7Aw03dZSerW+/E+mEpyW4Qo/v+GYFcvDNCuTgmxXIbfx+\na5hw065NP/G7v5W95vgf1l9z9rZz2TnXr63vJnv8w2TV2jfyfoFVR5L+hjP1Nv7Qx/kuOavTgUBR\nf990AQ3IJ9x0svvO2WQy0PKJpi0d63VJdwZq2iGY4fqgJCU7DEU0XGeRT9zxHd+sQA6+WYEcfLMC\nuY3fZ+kCGpBPuEmf0afteYBVW47Vyv/8Oz9te+3H+LNa+TR5G3/kTH1Sjj6pT2qJ8/lONKOT9QUu\nr55qvyhmuohG04Sb9Dl92qYfP5G3s0eT3XHVsNtOSkm/S/YcHz/HN7MlwME3K1Db4Esal/SipNcl\nvSXpm9XxWyTtk3RQ0tOSxnpfXTPrhk7u+OeBLRFxG3A7sFXSXcBjwOMRsQn4CNjeu2qaWTe17dyL\n1t7Kp6viaPUVwBbgL6vju4F/Av6t+1Vc5IaSwSENq+Gmq+ekE26aBueknXkPrDydnfOfZ1bVyukA\nnnX/19A59mHSmXeq/r7ZajUASefe8HS9Myzd3Qby1XDTlXMgn3CTDs5JO/Ja71u/1lB67Zn8Nen2\n4SXoqI0vaVjSa8BxYA/wNnAyIi52AR8GNvSmimbWbR0FPyIuRMTtwEbgTuDWptOaXitph6T9kvZP\nkT8KMrP+u6Je/Yg4CbwA3AVcI+liU2EjcOQSr9kVEZsjYvMo7TdwMLPea9vGl3QdMBURJyUtBz5P\nq2PveeBB4ClgG/BMLyu6WCmdADI+np2TroabLqCRTrZpkrbnAR47VB+ws+L1et/B1W83TIz54GSt\nOHNuolbOdpkBNJ0M+knOSXeshXyHm3Q1XMgX0Ugn3DQNzknb9DqTLLLRUJdsVd1oP+hnsetk5N56\nYLekYVqfEH4QEc9J+iXwlKR/AV4FnuhhPc2sizrp1X8DuKPh+DvQsKaSmQ08j9wzK5CDb1Ygz87r\ntmSml4aTDqll+cjmC8vybalmy1bOIZ9p13RO2pl3/cv1jq3Rd9/PXjNz6lStHNPJAJiGwS7pCjWR\ndAimnX+Qb1fdtLVVtiJu0+o5qWSATtqZFw3bZKcdljGz9Af0+I5vViAH36xADr5ZgdzGHwDDydbU\nK44lbczX88Et6eo569LXkA/QSdv0Mx/ku9fMpANcOpnAkp6T7DwTkw0DYtJ2dcPkn3SHm2w13IYV\ni7MJN+l1mrbAbjeAZwlO4vEd36xADr5ZgRx8swK5jd9nTc+RR07Un2Gn682uOpw/50/7BdL3APIJ\nN8kz+qw9D71pzzY9+0/b1Q1t73S122yHm2w13KZrJ8/1m57RFzApJ+U7vlmBHHyzAjn4ZgVy8M0K\n5M69HosLScfRxER2jpJOuNFTycCbpvdNOgmj4X1jIpmg0sGEm77paGBQMvgm2666S1tbLcEBOu34\njm9WIAffrEAOvlmB3MbvtqS9mA1UmWgYNDNVb3vHqfyU7DJJ30Hj5JOZJba9c4Ft8V7xHd+sQA6+\nWYEcfLMCuY3fazPps+iG3VrztSjbc3vX5sF3fLMCOfhmBXLwzQrk4JsVyJ17/eZOORsAvuObFcjB\nNyuQg29WIAffrEAOvlmBHHyzAnUcfEnDkl6V9FxVvkXSPkkHJT0taax31TSzbrqSO/4jwIFZ5ceA\nxyNiE/ARsL2bFTOz3uko+JI2Al8EvlOVBWwBflidsht4oBcVNLPu6/SO/23ga8DFOaVrgZMRn04o\nPQxsaHqhpB2S9kvaP0XDslNm1ndtgy/pS8DxiHh59uGGUxvHokbErojYHBGbR1k2x2qaWTd1Mlb/\nbuA+SfcC48BVtD4BXCNppLrrbwSO9K6aZtZNbe/4EfGNiNgYETcDDwE/i4gvA88DD1anbQOe6Vkt\nzayr5vMc/+vA30k6RKvN/0R3qmRmvXZF03Ij4gXghernd4A7u18lM+s1j9wzK5CDb1YgB9+sQA6+\nWYEcfLMCOfhmBXLwzQrk4JsVyME3K5CDb1YgB9+sQA6+WYEcfLMCOfhmBXLwzQrk4JsVyME3K5CD\nb1YgB9+sQA6+WYEcfLMCOfhmBXLwzQrk4JsVyME3K5CDb1YgB9+sQA6+WYEcfLMCOfhmBXLwzQrk\n4JsVyME3K5CDb1YgB9+sQA6+WYEUEf27mPQ+8C6wDvigbxeen8VUV1hc9V1MdYXFUd+bIuK6dif1\nNfifXlTaHxGb+37hOVhMdYXFVd/FVFdYfPW9HH/UNyuQg29WoIUK/q4Fuu5cLKa6wuKq72KqKyy+\n+l7SgrTxzWxh+aO+WYH6GnxJWyX9StIhSTv7ee1OSHpS0nFJb846tkbSHkkHq+/XLmQdL5J0o6Tn\nJR2Q9JakR6rjg1rfcUkvSnq9qu83q+O3SNpX1fdpSWMLXdeLJA1LelXSc1V5YOt6pfoWfEnDwL8C\nfw58DnhY0uf6df0OfRfYmhzbCeyNiE3A3qo8CKaBr0bErcBdwN9U/z0Htb7ngS0RcRtwO7BV0l3A\nY8DjVX0/ArYvYB1TjwAHZpUHua5XpJ93/DuBQxHxTkRMAk8B9/fx+m1FxC+AE8nh+4Hd1c+7gQf6\nWqlLiIijEfFK9fMpWn+gGxjc+kZEnK6Ko9VXAFuAH1bHB6a+kjYCXwS+U5XFgNZ1LvoZ/A3Ae7PK\nh6tjg+6GiDgKrbAB1y9wfTKSbgbuAPYxwPWtPjq/BhwH9gBvAycjYro6ZZD+Jr4NfA2YqcprGdy6\nXrF+Bl8Nx/xIYZ4krQJ+BHwlIj5Z6PpcTkRciIjbgY20PgHe2nRaf2uVk/Ql4HhEvDz7cMOpC17X\nuRrp47UOAzfOKm8EjvTx+nN1TNL6iDgqaT2tu9VAkDRKK/Tfi4gfV4cHtr4XRcRJSS/Q6pu4RtJI\ndScdlL+Ju4H7JN0LjANX0foEMIh1nZN+3vFfAjZVPaNjwEPAs328/lw9C2yrft4GPLOAdflU1eZ8\nAjgQEd+a9atBre91kq6pfl4OfJ5Wv8TzwIPVaQNR34j4RkRsjIibaf2d/iwivswA1nXOIqJvX8C9\nwK9pte3+oZ/X7rB+3weOAlO0PqFsp9W22wscrL6vWeh6VnX9Y1ofNd8AXqu+7h3g+v4B8GpV3zeB\nf6yO/zbwInAI+A9g2ULXNan3nwLPLYa6XsmXR+6ZFcgj98wK5OCbFcjBNyuQg29WIAffrEAOvlmB\nHHyzAjn4ZgX6f7XQWAWNVttlAAAAAElFTkSuQmCC\n",
      "text/plain": [
<<<<<<< HEAD
       "<matplotlib.figure.Figure at 0x7f73f5e77240>"
=======
       "<matplotlib.figure.Figure at 0x7f3b20fba320>"
>>>>>>> 4b93a6aa1c938018a65db675609718c14664bb75
      ]
     },
     "metadata": {},
     "output_type": "display_data"
    }
   ],
   "source": [
    "plt.imshow(I_concat.reshape(IMAGE_SIZE_Y, IMAGE_SIZE_X))"
   ]
  },
  {
   "cell_type": "code",
   "execution_count": 19,
   "metadata": {},
   "outputs": [
    {
     "data": {
      "text/plain": [
<<<<<<< HEAD
       "<matplotlib.image.AxesImage at 0x7f73d73b2eb8>"
=======
       "<matplotlib.image.AxesImage at 0x7f3b20f7b3c8>"
>>>>>>> 4b93a6aa1c938018a65db675609718c14664bb75
      ]
     },
     "execution_count": 19,
     "metadata": {},
     "output_type": "execute_result"
    },
    {
     "data": {
      "image/png": "iVBORw0KGgoAAAANSUhEUgAAAP4AAAD8CAYAAABXXhlaAAAABHNCSVQICAgIfAhkiAAAAAlwSFlz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\nHHyzAjn4ZgX6f7XQWAWNVttlAAAAAElFTkSuQmCC\n",
      "text/plain": [
<<<<<<< HEAD
       "<matplotlib.figure.Figure at 0x7f73f5dd60f0>"
=======
       "<matplotlib.figure.Figure at 0x7f3b21168e10>"
>>>>>>> 4b93a6aa1c938018a65db675609718c14664bb75
      ]
     },
     "metadata": {},
     "output_type": "display_data"
    }
   ],
   "source": [
    "I = np.matmul(W,img_fft.reshape(-1))\n",
    "plt.imshow(I.real.reshape(IMAGE_SIZE_Y, IMAGE_SIZE_X))"
   ]
  },
  {
   "cell_type": "markdown",
   "metadata": {},
   "source": [
    "## Kernels"
   ]
  },
  {
   "cell_type": "code",
   "execution_count": 20,
   "metadata": {
    "collapsed": true
   },
   "outputs": [],
   "source": [
    "import scipy as sp"
   ]
  },
  {
   "cell_type": "code",
   "execution_count": 21,
   "metadata": {
    "collapsed": true
   },
   "outputs": [],
   "source": [
    "sigma = 1\n",
    "gamma = 1./2"
   ]
  },
  {
   "cell_type": "code",
   "execution_count": 22,
   "metadata": {
    "collapsed": true
   },
   "outputs": [],
   "source": [
    "def kernel(i,j, sigma=sigma, gamma=gamma):\n",
    "    return sigma**2*np.exp(-gamma*(i-j)**2)\n",
    "\n",
    "def kernel_handler(x):\n",
    "    return kernel()\n",
    "\n",
    "def covImagReal(i,j, W=W):\n",
    "    out = 0\n",
    "    for k in range(W.shape[0]):\n",
    "        for l in range(W.shape[1]):\n",
    "            out += W[k,i] * kernel(k,l) * W[l,j]"
   ]
  },
  {
   "cell_type": "code",
   "execution_count": 23,
   "metadata": {
    "collapsed": true
   },
   "outputs": [],
   "source": [
    "# \"suma\" externa\n",
    "def outersum(a,b):\n",
    "    return np.outer(a,np.ones_like(b))+np.outer(np.ones_like(a),b)"
   ]
  },
  {
   "cell_type": "code",
   "execution_count": 24,
   "metadata": {
    "collapsed": true
   },
   "outputs": [],
   "source": [
    "def SE(a,b,gamma=1./2,sigma=1): \n",
    "    #Square Exponential kernel\n",
    "\n",
    "    #returns the evaluation of the kernel\n",
    "    #k(a,b)=sigma**2*exp(-gamma*(a-b)**2), \n",
    "    #notice that in this definition gamma = 1 /(2*lengthscale**2), in order to simplify the derivatives\n",
    "    #for consistency with the generation of Gram matrices, this function returns\n",
    "    #a matrix of dimensions dim(a) x dim(b);  \n",
    "\n",
    "    #INPUTS\n",
    "    #a,b are column vectors of (possibly) different lenghts\n",
    "    u1 = a % IMAGE_SIZE_X\n",
    "    u2 = b % IMAGE_SIZE_X\n",
    "    \n",
    "    v1 = np.floor(a/IMAGE_SIZE_X)\n",
    "    v2 = np.floor(b/IMAGE_SIZE_X)\n",
    "    \n",
    "    sa=np.size(a); sb=np.size(b)\n",
    "\n",
    "    if sa==1: a=np.array([a])\n",
    "    if sb==1: b=np.array([b])\n",
    "    K=np.zeros([sa,sb])\n",
    "    #accelerate computation if a==b\n",
    "    if np.array_equal(a,b):\n",
    "        for va in range(sa):\n",
    "            K[va,va]=1;\n",
    "            for vb in range(va+1,sb):\n",
    "                K[va,vb]=np.exp(-((u1[va] - u2[vb])**2 + (v1[va] - v2[vb])**2)*gamma)\n",
    "                K[vb,va]=K[va,vb]\n",
    "    #a!=b\n",
    "    else:\n",
    "        for va in range(sa):\n",
    "            for vb in range(sb):\n",
    "                K[va,vb]=np.exp(-((u1[va] - u2[vb])**2 + (v1[va] - v2[vb])**2)*gamma)\n",
    "    if sa==1:\n",
    "        return sigma**2*np.reshape(K,b.shape)\n",
    "    elif sb==1:\n",
    "        return sigma**2*np.reshape(K,a.shape)\n",
    "    else:\n",
    "        return sigma**2*K\n"
   ]
  },
  {
   "cell_type": "code",
   "execution_count": 25,
   "metadata": {
    "collapsed": true
   },
   "outputs": [],
   "source": [
    "samplingW = np.matmul(W.real,H)\n",
    "\n",
    "#negative log-likelihood when using SE kernel\n",
    "def like_covImagenReal(X, y, t): \n",
    "    #entrenamiento con respecto al logaritmo de los hyperparámetros, para no imponer restricciones de positividad\n",
    "    sigma_noise, gamma_1, sig_1 = np.exp(X)\n",
    "#     print('sigma noise: {}\\ngamma: {}\\nsigma: {}'.format(sigma_noise, gamma_1, sig_1))\n",
    "#     print('------------')\n",
    "    \n",
    "    K = SE(t,t,gamma=gamma_1,sigma=sig_1)\n",
    "    \n",
    "#     Gram= np.matmul(np.matmul(samplingW.T,K),samplingW)+sigma_noise**2*np.identity(len(t))\n",
    "    Gram = K+sigma_noise**2*np.identity(len(t))\n",
    "    cGg=np.linalg.cholesky(Gram)\n",
    "    invGram=np.dot(np.linalg.inv(cGg.T),np.linalg.inv(cGg))\n",
    "    \n",
    "    nll=np.dot(y,np.dot(invGram,y)) + 2*np.sum(np.log(np.diag(cGg)))\n",
    "    return 0.5*nll+0.5*len(y)*np.log(2*np.pi)\n",
    "\n",
    "#derivative of negative log-likelihood when using SE kernel\n",
    "def like_covImagenReal_Df(X, y, t, samplingW=samplingW, H=H):\n",
    "    sigma_noise, gamma_1, sig_1 = np.exp(X)\n",
    "    \n",
    "#     W = np.identity(IMAGE_SIZE_X*IMAGE_SIZE_Y)\n",
    "#     samplingW = np.matmul(W.real,H)\n",
    "    \n",
    "    Gram0 = SE(t,t,gamma=gamma_1,sigma=sig_1)\n",
    "#     Gram = np.matmul(samplingW.T,np.matmul(Gram0, samplingW))+sigma_noise**2*np.identity(len(t))\n",
    "    Gram = Gram0+sigma_noise**2*np.identity(len(t))\n",
    "    cGg=np.linalg.cholesky(Gram)\n",
    "    invGram=np.dot(np.linalg.inv(cGg.T),np.linalg.inv(cGg))\n",
    "    \n",
    "    A=np.dot(invGram,y)\n",
    "    \n",
    "    \n",
    "    u_tmp = t % IMAGE_SIZE_X\n",
    "    v_tmp = np.floor(t/IMAGE_SIZE_X)\n",
    "    \n",
    "    outer_u=outersum(u_tmp,-u_tmp)\n",
    "    outer_v=outersum(v_tmp,-v_tmp)\n",
    "    outer_dist = outer_u**2 + outer_v**2\n",
    "#     print(outer_sub)\n",
    "\n",
    "    \n",
    "#     D1 = 2*sigma_noise**2*np.identity(len(t)) #sigma_noise\n",
    "#     D2 = -Gram0*outer_dist*gamma_1 #gamma_1\n",
    "#     D2 = np.matmul(samplingW.T, np.matmul(D2,samplingW))\n",
    "#     D3 = np.matmul(samplingW.T, np.matmul(2*Gram0,samplingW)) #sig_1 \n",
    "\n",
    "    D1 = 2*sigma_noise**2*np.identity(len(t)) #sigma_noise\n",
    "    D2 = -Gram0*outer_dist*gamma_1 #gamma_1\n",
    "    D3 = 2*Gram0 #sig_1 \n",
    "\n",
    "    B=np.outer(A,A)-invGram\n",
    "    d1=  -np.trace(np.dot(B,D1))\n",
    "    d2=  -np.trace(np.dot(B,D2))\n",
    "    d3=  -np.trace(np.dot(B,D3))\n",
    "\n",
    "    print('- Paremeters:\\n  - sigma noise: {},\\n  - gamma: {},\\n  - sigma: {}'.format(sigma_noise, gamma_1, sig_1))\n",
    "    print('  - Derivatives: {}, {}, {}'.format(d1, d2, d3))\n",
    "    return np.asarray([0.5*d1, 0.5*d2, 0.5*d3])"
   ]
  },
  {
   "cell_type": "code",
   "execution_count": 26,
   "metadata": {},
   "outputs": [
    {
     "name": "stdout",
     "output_type": "stream",
     "text": [
<<<<<<< HEAD
      "Condicion inicial optimizador:  [1.e-06 1.e-01 1.e+00]\n",
      "- Paremeters:\n",
      "  - sigma noise: 1.0000000000000004e-06,\n",
      "  - gamma: 0.10000000000000002,\n",
      "  - sigma: 1.0\n",
      "  - Derivatives: -25030.745906663447, -71266062968.9367, -14745402922.051876\n",
      "- Paremeters:\n",
      "  - sigma noise: 1.000000343944568e-06,\n",
      "  - gamma: 0.26624813077400894,\n",
      "  - sigma: 1.22460069911719\n",
      "  - Derivatives: -0.0028636447335595736, -19896398.001406714, -7771885.287179302\n",
      "- Paremeters:\n",
      "  - sigma noise: 1.0000003439445788e-06,\n",
      "  - gamma: 0.2663209523157218,\n",
      "  - sigma: 1.2247315398720298\n",
      "  - Derivatives: -0.0028536386090168868, -19860060.15596518, -7759352.733868281\n",
      "- Paremeters:\n",
      "  - sigma noise: 1.0000003439446213e-06,\n",
      "  - gamma: 0.266612437711298,\n",
      "  - sigma: 1.2252550427013063\n",
      "  - Derivatives: -0.002813979307359765, -19715426.089167114, -7709447.388529621\n",
      "- Paremeters:\n",
      "  - sigma noise: 1.0000003439447918e-06,\n",
      "  - gamma: 0.26778157306329625,\n",
      "  - sigma: 1.2273512926508914\n",
      "  - Derivatives: -0.002661031532320191, -19148198.531417187, -7513375.058877641\n",
      "- Paremeters:\n",
      "  - sigma noise: 1.000000343945474e-06,\n",
      "  - gamma: 0.27250960811497055,\n",
      "  - sigma: 1.235772217935254\n",
      "  - Derivatives: -0.0021312142477762476, -17049949.3766587, -6782879.831130559\n",
      "- Paremeters:\n",
      "  - sigma noise: 1.000000344318582e-06,\n",
      "  - gamma: 0.31330525008951454,\n",
      "  - sigma: 1.3141723086197954\n",
      "  - Derivatives: -0.0003844223926704695, -6935335.187063182, -3088790.443769589\n",
      "- Paremeters:\n",
      "  - sigma noise: 1.0000003449953367e-06,\n",
      "  - gamma: 0.34491003191441294,\n",
      "  - sigma: 1.3818229401095272\n",
      "  - Derivatives: -0.00012456523355647606, -3820777.5390476957, -1845219.8948759423\n",
      "- Paremeters:\n",
      "  - sigma noise: 1.0000003463967923e-06,\n",
      "  - gamma: 0.3883942327207368,\n",
      "  - sigma: 1.4855457146994369\n",
      "  - Derivatives: -3.2460813364032455e-05, -1866770.91664749, -1000353.3528991928\n",
      "- Paremeters:\n",
      "  - sigma noise: 1.000000348451686e-06,\n",
      "  - gamma: 0.43561251904023873,\n",
      "  - sigma: 1.6136261266482281\n",
      "  - Derivatives: -9.182574486077824e-06, -947937.352898167, -564279.8801783249\n",
      "- Paremeters:\n",
      "  - sigma noise: 1.0000003515000026e-06,\n",
      "  - gamma: 0.4912981614368834,\n",
      "  - sigma: 1.7885939832190685\n",
      "  - Derivatives: -2.4981489776000262e-06, -468653.3365747523, -313174.797865179\n",
      "- Paremeters:\n",
      "  - sigma noise: 1.000000355672009e-06,\n",
      "  - gamma: 0.5540955501499539,\n",
      "  - sigma: 2.023346474352548\n",
      "  - Derivatives: -6.818821725024088e-07, -230617.46773114344, -173978.53616005532\n",
      "- Paremeters:\n",
      "  - sigma noise: 1.0000003612340613e-06,\n",
      "  - gamma: 0.6246845651155057,\n",
      "  - sigma: 2.3469685678368366\n",
      "  - Derivatives: -1.829930209564918e-07, -111677.23695190904, -95522.8499001294\n",
      "- Paremeters:\n",
      "  - sigma noise: 1.0000003683346276e-06,\n",
      "  - gamma: 0.7018015960461964,\n",
      "  - sigma: 2.7954332186297783\n",
      "  - Derivatives: -4.8564002572100675e-08, -53420.667205717065, -51706.07659649904\n",
      "- Paremeters:\n",
      "  - sigma noise: 1.0000003770319547e-06,\n",
      "  - gamma: 0.7837503817132978,\n",
      "  - sigma: 3.4192337445182965\n",
      "  - Derivatives: -1.2739228393749101e-08, -25284.655016856108, -27403.141330220904\n",
      "- Paremeters:\n",
      "  - sigma noise: 1.000000385878414e-06,\n",
      "  - gamma: 0.86772858009547,\n",
      "  - sigma: 4.278488331558045\n",
      "  - Derivatives: -3.3302046278728423e-09, -11935.080988087568, -14143.548975410788\n",
      "- Paremeters:\n",
      "  - sigma noise: 1.0000003946423704e-06,\n",
      "  - gamma: 0.9516355159020774,\n",
      "  - sigma: 5.427178923624144\n",
      "  - Derivatives: -8.795875036307678e-10, -5681.111940108674, -7052.797042861982\n",
      "- Paremeters:\n",
      "  - sigma noise: 1.0000004030543383e-06,\n",
      "  - gamma: 1.0351538681944594,\n",
      "  - sigma: 6.8738450780859015\n",
      "  - Derivatives: -2.403748743577141e-10, -2773.71438976, -3342.1749133967005\n",
      "- Paremeters:\n",
      "  - sigma noise: 1.0000004108000086e-06,\n",
      "  - gamma: 1.1216144911733277,\n",
      "  - sigma: 8.504473069970484\n",
      "  - Derivatives: -7.045935082131877e-11, -1426.2743192417765, -1443.0392445514776\n",
      "- Paremeters:\n",
      "  - sigma noise: 1.0000004175288015e-06,\n",
      "  - gamma: 1.2200165538459156,\n",
      "  - sigma: 10.003331045302927\n",
      "  - Derivatives: -2.326772952259527e-11, -804.5645947909451, -500.7092838989459\n",
      "- Paremeters:\n",
      "  - sigma noise: 1.0000004230987394e-06,\n",
      "  - gamma: 1.349179617989741,\n",
      "  - sigma: 10.963573308157706\n",
      "  - Derivatives: -8.86763055067341e-12, -515.5101363971976, -52.77157919241648\n",
      "- Paremeters:\n",
      "  - sigma noise: 1.0000004285929513e-06,\n",
      "  - gamma: 1.5740411529548164,\n",
      "  - sigma: 11.265183209934516\n",
      "  - Derivatives: -2.9570035466088843e-12, -352.38885351717465, 178.47072861141118\n",
      "- Paremeters:\n",
      "  - sigma noise: 1.0000004384624227e-06,\n",
      "  - gamma: 2.3300125194143306,\n",
      "  - sigma: 10.580334212584507\n",
      "  - Derivatives: 9.90295027656961e-13, -196.71384664965382, 294.346993881932\n",
      "- Paremeters:\n",
      "  - sigma noise: 1.0000004525212098e-06,\n",
      "  - gamma: 5.423884426931614,\n",
      "  - sigma: 7.760365775023295\n",
      "  - Derivatives: -5.080515505066281e-12, -32.030945944169076, -294.1159343468499\n",
      "- Paremeters:\n",
      "  - sigma noise: 1.0000004535003896e-06,\n",
      "  - gamma: 4.981543306360597,\n",
      "  - sigma: 8.449889056933582\n",
      "  - Derivatives: -8.821035614733987e-13, -38.78611111276996, -47.33240621905111\n",
      "- Paremeters:\n",
      "  - sigma noise: 1.0000004558863133e-06,\n",
      "  - gamma: 5.33116040761798,\n",
      "  - sigma: 8.490653412222729\n",
      "  - Derivatives: -5.625016267769518e-13, -28.859712092219993, -29.68629329298693\n",
      "- Paremeters:\n",
      "  - sigma noise: 1.0000004625948682e-06,\n",
      "  - gamma: 6.509603067711742,\n",
      "  - sigma: 8.54762265059386\n",
      "  - Derivatives: -1.0480123490687726e-13, -10.628786886467523, -4.387859776232233\n",
      "- Paremeters:\n",
      "  - sigma noise: 1.0000004663992153e-06,\n",
      "  - gamma: 7.320981265941496,\n",
      "  - sigma: 8.551171402420785\n",
      "  - Derivatives: -3.999397520233289e-14, -5.297224383762684, -1.476628139269394\n",
      "- Paremeters:\n",
      "  - sigma noise: 1.0000004701698612e-06,\n",
      "  - gamma: 8.228559119407818,\n",
      "  - sigma: 8.550509907142528\n",
      "  - Derivatives: -1.9163086547293777e-14, -2.400908438716181, -0.8173673267541801\n",
      "- Paremeters:\n",
      "  - sigma noise: 1.0000004732969063e-06,\n",
      "  - gamma: 9.065339262337872,\n",
      "  - sigma: 8.55079711007938\n",
      "  - Derivatives: -8.898659096575596e-15, -1.1451650305972902, -0.3979668090496489\n",
      "- Paremeters:\n",
      "  - sigma noise: 1.000000476149012e-06,\n",
      "  - gamma: 9.902387003710462,\n",
      "  - sigma: 8.551110161980512\n",
      "  - Derivatives: -3.659185085093399e-15, -0.5415153616023016, -0.15819015088990795\n",
      "- Paremeters:\n",
      "  - sigma noise: 1.0000004786973125e-06,\n",
      "  - gamma: 10.718929163675883,\n",
      "  - sigma: 8.551134329818517\n",
      "  - Derivatives: -1.8878144934306103e-15, -0.2590455711526059, -0.08970544626396304\n",
      "- Paremeters:\n",
      "  - sigma noise: 1.0000004810568163e-06,\n",
      "  - gamma: 11.526712381398328,\n",
      "  - sigma: 8.551476668320214\n",
      "  - Derivatives: 2.8800141671628255e-16, -0.12418500803525076, 0.04260837254068406\n",
      "- Paremeters:\n",
      "  - sigma noise: 1.0000004830372776e-06,\n",
      "  - gamma: 12.327887818089835,\n",
      "  - sigma: 8.548818437831693\n",
      "  - Derivatives: -1.0603690477351073e-14, -0.05964467936930418, -0.7652648911306414\n",
      "- Paremeters:\n",
      "  - sigma noise: 1.0000004849061408e-06,\n",
      "  - gamma: 13.107715490579503,\n",
      "  - sigma: 8.55081544883738\n",
      "  - Derivatives: -2.0316700231425356e-15, -0.02906231825306508, -0.14411395515145387\n",
      "- Paremeters:\n",
      "  - sigma noise: 1.0000004874424724e-06,\n",
      "  - gamma: 14.236537119641874,\n",
      "  - sigma: 8.541044749177455\n",
      "  - Derivatives: -4.331913975320623e-14, -0.01023195227651117, -3.1586667176006813\n",
      "- Paremeters:\n",
      "  - sigma noise: 1.000000485951078e-06,\n",
      "  - gamma: 13.561509751934386,\n",
      "  - sigma: 8.546788686536084\n",
      "  - Derivatives: -1.8996898214156284e-14, -0.019117867422649988, -1.384856980324514\n",
      "- Paremeters:\n",
      "  - sigma noise: 1.0000004875346264e-06,\n",
      "  - gamma: 14.279650629433158,\n",
      "  - sigma: 8.550335428566173\n",
      "  - Derivatives: -3.972653064294969e-15, -0.00980851880551572, -0.2890595979771433\n",
      "- Paremeters:\n",
      "  - sigma noise: 1.0000004890909609e-06,\n",
      "  - gamma: 15.02241400760749,\n",
      "  - sigma: 8.551537073722612\n",
      "  - Derivatives: 1.1140305076270965e-15, -0.004908233261907499, 0.08212107406706082\n",
      "- Paremeters:\n",
      "  - sigma noise: 1.0000004905777792e-06,\n",
      "  - gamma: 15.76801853156198,\n",
      "  - sigma: 8.551536473781308\n",
      "  - Derivatives: 1.1208943226188186e-15, -0.0024442779232111576, 0.08227957932911067\n",
      "- Paremeters:\n",
      "  - sigma noise: 1.0000004920462711e-06,\n",
      "  - gamma: 16.544294444969758,\n",
      "  - sigma: 8.551314996188337\n",
      "  - Derivatives: 1.9194197176396808e-16, -0.0011800809487409946, 0.014178397757973471\n",
      "- Paremeters:\n",
      "  - sigma noise: 1.0000004934113257e-06,\n",
      "  - gamma: 17.30009045017145,\n",
      "  - sigma: 8.55123880375929\n",
      "  - Derivatives: -1.2717951609989527e-16, -0.0005795375722992204, -0.00923282749209875\n"
     ]
    },
    {
     "name": "stdout",
     "output_type": "stream",
     "text": [
      "- Paremeters:\n",
      "  - sigma noise: 1.0000004947258978e-06,\n",
      "  - gamma: 18.060526339123314,\n",
      "  - sigma: 8.551248892906889\n",
      "  - Derivatives: -8.367149504736376e-17, -0.0002828195826583388, -0.006087057352260672\n",
      "- Paremeters:\n",
      "  - sigma noise: 1.0000004959789814e-06,\n",
      "  - gamma: 18.816477122416135,\n",
      "  - sigma: 8.55126663305162\n",
      "  - Derivatives: -8.431998574846705e-18, -0.0001383599284603724, -0.000601875957613629\n",
      "- Paremeters:\n",
      "  - sigma noise: 1.0000004971787637e-06,\n",
      "  - gamma: 19.569911383840612,\n",
      "  - sigma: 8.551271402029235\n",
      "  - Derivatives: 1.1884735545425178e-17, -6.774044440056738e-05, 0.0008759843387338151\n",
      "- Paremeters:\n",
      "  - sigma noise: 1.0000004983295325e-06,\n",
      "  - gamma: 20.32089444647662,\n",
      "  - sigma: 8.551269948028702\n",
      "  - Derivatives: 5.855328509435993e-18, -3.3193599408325884e-05, 0.0004314328327836847\n",
      "- Paremeters:\n",
      "  - sigma noise: 1.0000004994352248e-06,\n",
      "  - gamma: 21.069594450236696,\n",
      "  - sigma: 8.551268539603223\n",
      "  - Derivatives: -3.4864663578467804e-20, -1.6278394416483474e-05, -1.0042454334779904e-06\n",
      "Hiperparametros encontrados:  [1.00000050e-06 2.10695945e+01 8.55126854e+00]\n",
      "Negative log-likelihood para hiperámetros optimizados:  2349.3469758317397\n"
=======
      "Condicion inicial optimizador:  [ 0.001  0.005  0.001]\n",
      "- Paremeters:\n",
      "  - sigma noise: 0.0010000000000000002,\n",
      "  - gamma: 0.005000000000000002,\n",
      "  - sigma: 0.0010000000000000002\n",
      "  - Derivatives: -92560990638.11226, -597802041.519914, -860388202.7923553\n",
      "- Paremeters:\n",
      "  - sigma noise: 0.0027181077236109823,\n",
      "  - gamma: 0.005032394754198769,\n",
      "  - sigma: 0.0010093381002422737\n",
      "  - Derivatives: -12759160596.605282, -32422862.96858886, -84069990.53619756\n",
      "- Paremeters:\n",
      "  - sigma noise: 0.003189333443864701,\n",
      "  - gamma: 0.005033935652870187,\n",
      "  - sigma: 0.0010103320323114607\n",
      "  - Derivatives: -9290165857.617594, -19591343.18595452, -56997736.61746695\n",
      "- Paremeters:\n",
      "  - sigma noise: 0.004893811126530269,\n",
      "  - gamma: 0.005034636066707853,\n",
      "  - sigma: 0.0010122751859011655\n",
      "  - Derivatives: -3969355714.776827, -4630496.920656323, -19095969.0096428\n",
      "- Paremeters:\n",
      "  - sigma noise: 0.006735446346343468,\n",
      "  - gamma: 0.005032513681366368,\n",
      "  - sigma: 0.0010129788080930277\n",
      "  - Derivatives: -2103325858.0895283, -1369363.3740201297, -7980053.509102097\n",
      "- Paremeters:\n",
      "  - sigma noise: 0.009654454914820587,\n",
      "  - gamma: 0.005028137220716623,\n",
      "  - sigma: 0.0010129834164670332\n",
      "  - Derivatives: -1027206195.8444095, -281604.1005919705, -2806293.6156309326\n",
      "- Paremeters:\n",
      "  - sigma noise: 0.013613939558503766,\n",
      "  - gamma: 0.005022691687442435,\n",
      "  - sigma: 0.0010122654766614304\n",
      "  - Derivatives: -517856724.8810427, -48167.557351317366, -953911.6534391028\n",
      "- Paremeters:\n",
      "  - sigma noise: 0.019307877450512823,\n",
      "  - gamma: 0.005016521065524844,\n",
      "  - sigma: 0.001010901983530793\n",
      "  - Derivatives: -257907957.19437975, -5595.26440876218, -289289.30485608894\n",
      "- Paremeters:\n",
      "  - sigma noise: 0.027308342835595426,\n",
      "  - gamma: 0.005010159704292726,\n",
      "  - sigma: 0.0010090489178039112\n",
      "  - Derivatives: -129066366.47851041, -191.42219900864075, -81535.97803514602\n",
      "- Paremeters:\n",
      "  - sigma noise: 0.03864736333493963,\n",
      "  - gamma: 0.005003725090853833,\n",
      "  - sigma: 0.0010068530613924435\n",
      "  - Derivatives: -64480817.196997, 141.63711644505108, -21679.330046539035\n",
      "- Paremeters:\n",
      "  - sigma noise: 0.054663880799803,\n",
      "  - gamma: 0.004997296450835289,\n",
      "  - sigma: 0.0010044598468947658\n",
      "  - Derivatives: -32240803.900690027, 61.70052067684099, -5589.319343932874\n",
      "- Paremeters:\n",
      "  - sigma noise: 0.07731879992750186,\n",
      "  - gamma: 0.0049908769111293525,\n",
      "  - sigma: 0.0010019591069820107\n",
      "  - Derivatives: -16117368.971207155, 18.82509335786437, -1415.4134747186545\n",
      "- Paremeters:\n",
      "  - sigma noise: 0.10934861499817444,\n",
      "  - gamma: 0.004984470609471231,\n",
      "  - sigma: 0.0009994062784654094\n",
      "  - Derivatives: -8058245.925143955, 5.12516838765339, -355.27631952042077\n",
      "- Paremeters:\n",
      "  - sigma noise: 0.15464119028080076,\n",
      "  - gamma: 0.004978075063514873,\n",
      "  - sigma: 0.000996830017941112\n",
      "  - Derivatives: -4028699.899877078, 1.3299572835361801, -88.75577384605788\n",
      "- Paremeters:\n",
      "  - sigma noise: 0.21867821789147576,\n",
      "  - gamma: 0.004971690117337283,\n",
      "  - sigma: 0.0009942457412549597\n",
      "  - Derivatives: -2014057.169288021, 0.33762676524075175, -22.120148434899576\n",
      "- Paremeters:\n",
      "  - sigma noise: 0.30920190107176343,\n",
      "  - gamma: 0.0049653157709382105,\n",
      "  - sigma: 0.0009916613234174406\n",
      "  - Derivatives: -1006744.4519153532, 0.08483435838316208, -5.505180488306684\n",
      "- Paremeters:\n",
      "  - sigma noise: 0.43711320844893237,\n",
      "  - gamma: 0.004958953471964508,\n",
      "  - sigma: 0.0009890813000900858\n",
      "  - Derivatives: -503095.0072749866, 0.021221541152614716, -1.3686856157170209\n",
      "- Paremeters:\n",
      "  - sigma noise: 0.6177036924585153,\n",
      "  - gamma: 0.004952606459426267,\n",
      "  - sigma: 0.0009865089444857295\n",
      "  - Derivatives: -251271.2891347107, 0.005303052829753146, -0.3398607958258055\n",
      "- Paremeters:\n",
      "  - sigma noise: 0.8722420150394308,\n",
      "  - gamma: 0.004946281538961462,\n",
      "  - sigma: 0.0009839479720100716\n",
      "  - Derivatives: -125360.20827139958, 0.0013275250210734483, -0.08421831757352863\n",
      "- Paremeters:\n",
      "  - sigma noise: 1.2298104286610316,\n",
      "  - gamma: 0.004939992350673931,\n",
      "  - sigma: 0.0009814043506707363\n",
      "  - Derivatives: -62405.536202820396, 0.0003341313284670618, -0.02078614710392156\n",
      "- Paremeters:\n",
      "  - sigma noise: 1.7287727232977421,\n",
      "  - gamma: 0.004933765931056307,\n",
      "  - sigma: 0.0009788891815710177\n",
      "  - Derivatives: -30929.83434199803, 8.509080491548276e-05, -0.00508766081555275\n",
      "- Paremeters:\n",
      "  - sigma noise: 2.4158651015778982,\n",
      "  - gamma: 0.00492765514656359,\n",
      "  - sigma: 0.0009764238018926052\n",
      "  - Derivatives: -15195.19348806483, 2.2186256749426926e-05, -0.0012223887589831969\n",
      "- Paremeters:\n",
      "  - sigma noise: 3.337527039169625,\n",
      "  - gamma: 0.004921761052516768,\n",
      "  - sigma: 0.0009740487871102455\n",
      "  - Derivatives: -7334.206589905778, 6.057154200755358e-06, -0.0002805303289083608\n",
      "- Paremeters:\n",
      "  - sigma noise: 4.512026403213923,\n",
      "  - gamma: 0.004916268292617841,\n",
      "  - sigma: 0.0009718381123362391\n",
      "  - Derivatives: -3416.0541308814572, 1.8039347846684367e-06, -5.591751337289577e-05\n",
      "- Paremeters:\n",
      "  - sigma noise: 5.8686480600679065,\n",
      "  - gamma: 0.004911484414783657,\n",
      "  - sigma: 0.0009699148122642102\n",
      "  - Derivatives: -1480.339232553973, 6.274482664630639e-07, -4.741912013576328e-06\n",
      "- Paremeters:\n",
      "  - sigma noise: 7.1754132868198255,\n",
      "  - gamma: 0.0049078290827219385,\n",
      "  - sigma: 0.0009684465316163529\n",
      "  - Derivatives: -553.9000518007172, 2.7978733863970906e-07, 5.832695207436875e-06\n",
      "- Paremeters:\n",
      "  - sigma noise: 8.091838278288868,\n",
      "  - gamma: 0.004905644929976356,\n",
      "  - sigma: 0.000967569734432011\n",
      "  - Derivatives: -153.91289516996778, 1.7263181263841753e-07, 7.626363932458778e-06\n",
      "- Paremeters:\n",
      "  - sigma noise: 8.47488039313297,\n",
      "  - gamma: 0.004904804738615523,\n",
      "  - sigma: 0.0009672325567363791\n",
      "  - Derivatives: -23.866603509770016, 1.4335951312162172e-07, 7.850612833322979e-06\n",
      "- Paremeters:\n",
      "  - sigma noise: 8.547122121291544,\n",
      "  - gamma: 0.0049046505588016655,\n",
      "  - sigma: 0.0009671706866154654\n",
      "  - Derivatives: -1.2790966826408976, 1.3855339557500108e-07, 7.871640476654535e-06\n",
      "- Paremeters:\n",
      "  - sigma noise: 8.551231436586145,\n",
      "  - gamma: 0.004904641827719037,\n",
      "  - sigma: 0.0009671671802598851\n",
      "  - Derivatives: -0.011435733816767879, 1.3828610362081528e-07, 7.872663435282766e-06\n",
      "- Paremeters:\n",
      "  - sigma noise: 8.551268516436973,\n",
      "  - gamma: 0.004904641748696883,\n",
      "  - sigma: 0.0009671671457411974\n",
      "  - Derivatives: -5.485612518896232e-06, 1.3828369385096635e-07, 7.872672536126033e-06\n",
      "Hiperparametros encontrados:  [  8.55126852e+00   4.90464175e-03   9.67167146e-04]\n",
      "Negative log-likelihood para hiperámetros optimizados:  2349.34697741\n"
>>>>>>> 4b93a6aa1c938018a65db675609718c14664bb75
     ]
    }
   ],
   "source": [
    "import time\n",
    "from scipy.optimize import fmin_l_bfgs_b as fmin\n",
    "\n",
    "#entrenamiento del GP, es decir, encontrar los parámetros del kernel y del ruido\n",
    "args=(Vrobs, mask_vect_index)\n",
    "time_SE=0\n",
    "params0=np.asarray([0.000001, 0.1,  1])\n",
    "X0=np.log(params0)\n",
    "print('Condicion inicial optimizador: ',params0)\n",
    "time_GP=time.time()\n",
    "X_opt, f_GP, data=fmin(like_covImagenReal,X0,like_covImagenReal_Df, args,disp=1,factr=0.000001/(2.22E-12),maxiter=50)\n",
    "# X_opt, f_GP, data = fmin(like_covImagenReal, X0, args=args, approx_grad=True)\n",
    "time_GP=time.time()-time_GP\n",
    "sigma_y_GP, gamma_1, sig_1 = np.exp(X_opt)\n",
    "print('Hiperparametros encontrados: ', np.exp(X_opt))\n",
    "\n",
    "print('Negative log-likelihood para hiperámetros optimizados: ', f_GP)"
   ]
  },
  {
   "cell_type": "code",
   "execution_count": 27,
   "metadata": {},
   "outputs": [
    {
     "name": "stdout",
     "output_type": "stream",
     "text": [
      "W H shape: (2500, 659)\n",
<<<<<<< HEAD
      "Variance: [7.31241936e+01 9.99998633e-05 9.99998633e-05 ... 9.99998633e-05\n",
      " 7.31241936e+01 7.31241936e+01]\n"
=======
      "Variance: [  4.92391604e-03   9.72712455e-05   9.44133514e-05 ...,   9.47898440e-05\n",
      "   1.91331344e-03   9.25395591e-03]\n"
>>>>>>> 4b93a6aa1c938018a65db675609718c14664bb75
     ]
    },
    {
     "data": {
      "text/plain": [
<<<<<<< HEAD
       "array([8.55126854, 0.00999999, 0.00999999, ..., 0.00999999, 8.55126854,\n",
       "       8.55126854])"
=======
       "array([ 0.07017062,  0.00986262,  0.00971665, ...,  0.00973601,\n",
       "        0.04374144,  0.09619748])"
>>>>>>> 4b93a6aa1c938018a65db675609718c14664bb75
      ]
     },
     "execution_count": 27,
     "metadata": {},
     "output_type": "execute_result"
    }
   ],
   "source": [
    "t = np.arange(IMAGE_SIZE_X*IMAGE_SIZE_Y)\n",
    "t_obs = mask_vect_index\n",
    "N_obs = t_obs.shape[0]\n",
    "# gamma_1 = 10\n",
    "# sig_1 = 100\n",
    "K = SE(t,t,gamma=gamma_1,sigma=sig_1)\n",
    "\n",
    "# II = np.identity(IMAGE_SIZE_X*IMAGE_SIZE_Y)\n",
    "# II = W.real\n",
    "\n",
    "# samplingW = np.matmul(II, H)\n",
    "print('W H shape: {}'.format(samplingW.shape))\n",
    "\n",
    "# cov = np.matmul(np.matmul(II,K),II)\n",
    "# cov_obs = np.matmul(np.matmul(samplingW.T,K),samplingW)\n",
    "# K_star = np.matmul(np.matmul(II,K),samplingW)\n",
    "\n",
    "cov = K\n",
    "cov_obs = SE(t_obs,t_obs, gamma=gamma_1, sigma=sig_1)\n",
    "K_star = SE(t,t_obs, gamma=gamma_1, sigma=sig_1)\n",
    "\n",
    "# cGg=np.linalg.cholesky(cov_obs+sigma_y_GP**2*np.identity(N_obs))\n",
    "cGg=np.linalg.cholesky(cov_obs+0.01**2*np.identity(N_obs))\n",
    "invGramg=np.dot(np.linalg.inv(cGg.T),np.linalg.inv(cGg))\n",
    "temp=np.matmul(K_star,invGramg) \n",
    "y_model=np.matmul(temp,Vrobs)\n",
    "v_model=np.diag(cov-np.matmul(temp,K_star.T))\n",
    "\n",
    "print('Variance: {}'.format(v_model))\n",
    "std_dev= np.sqrt(v_model)\n",
    "std_dev"
   ]
  },
  {
   "cell_type": "code",
   "execution_count": 28,
   "metadata": {
    "collapsed": true
   },
   "outputs": [],
   "source": [
    "# (K_star == SE(t,t_obs,gamma=0.0005,sigma=1)).all()"
   ]
  },
  {
   "cell_type": "code",
   "execution_count": 29,
   "metadata": {},
   "outputs": [
    {
     "name": "stdout",
     "output_type": "stream",
     "text": [
      "Variance sanity check: True\n",
      "(array([], dtype=int64),)\n",
<<<<<<< HEAD
      "9.999986326647559e-05\n"
=======
      "9.21637957823e-05\n"
>>>>>>> 4b93a6aa1c938018a65db675609718c14664bb75
     ]
    }
   ],
   "source": [
    "print('Variance sanity check: {}'.format( (v_model>0).all() ))\n",
    "print(np.where(v_model<0))\n",
    "print(v_model[2400])"
   ]
  },
  {
   "cell_type": "code",
   "execution_count": 30,
   "metadata": {},
   "outputs": [
    {
     "data": {
      "text/plain": [
<<<<<<< HEAD
       "<matplotlib.colorbar.Colorbar at 0x7f73cdfc1b38>"
=======
       "<matplotlib.image.AxesImage at 0x7f3b1e778a58>"
>>>>>>> 4b93a6aa1c938018a65db675609718c14664bb75
      ]
     },
     "execution_count": 30,
     "metadata": {},
     "output_type": "execute_result"
    },
    {
     "data": {
<<<<<<< HEAD
      "image/png": "iVBORw0KGgoAAAANSUhEUgAAATcAAAD8CAYAAAASeuPxAAAABHNCSVQICAgIfAhkiAAAAAlwSFlz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\nAAAASUVORK5CYII=\n",
      "text/plain": [
       "<matplotlib.figure.Figure at 0x7f73f5dd6a58>"
=======
      "image/png": "iVBORw0KGgoAAAANSUhEUgAAARQAAAD8CAYAAAC2EFsiAAAABHNCSVQICAgIfAhkiAAAAAlwSFlz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\n",
      "text/plain": [
       "<matplotlib.figure.Figure at 0x7f3b2111b550>"
>>>>>>> 4b93a6aa1c938018a65db675609718c14664bb75
      ]
     },
     "metadata": {},
     "output_type": "display_data"
    }
   ],
   "source": [
    "plt.imshow(K, cmap='seismic')\n",
    "plt.colorbar()"
   ]
  },
  {
   "cell_type": "code",
<<<<<<< HEAD
   "execution_count": 31,
=======
   "execution_count": 38,
>>>>>>> 4b93a6aa1c938018a65db675609718c14664bb75
   "metadata": {},
   "outputs": [
    {
     "data": {
      "text/plain": [
<<<<<<< HEAD
       "(100, 200)"
      ]
     },
     "execution_count": 31,
=======
       "Text(0.5,1,'Signal recovery using 659% of observations')"
      ]
     },
     "execution_count": 38,
>>>>>>> 4b93a6aa1c938018a65db675609718c14664bb75
     "metadata": {},
     "output_type": "execute_result"
    },
    {
     "data": {
<<<<<<< HEAD
      "image/png": "iVBORw0KGgoAAAANSUhEUgAABK4AAAGaCAYAAAAmSQtjAAAABHNCSVQICAgIfAhkiAAAAAlwSFlz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\nuJIkSZIkSVJFMnAlSZIkSZKkivT/AJ4ENqSKlULLAAAAAElFTkSuQmCC\n",
      "text/plain": [
       "<matplotlib.figure.Figure at 0x7f73cdf7b4a8>"
=======
      "image/png": "iVBORw0KGgoAAAANSUhEUgAABKwAAAGaCAYAAAAivNteAAAABHNCSVQICAgIfAhkiAAAAAlwSFlz\nAAALEgAACxIB0t1+/AAAADl0RVh0U29mdHdhcmUAbWF0cGxvdGxpYiB2ZXJzaW9uIDIuMS4wLCBo\ndHRwOi8vbWF0cGxvdGxpYi5vcmcvpW3flQAAIABJREFUeJzs3Xl8FPX5B/DPk4OEhAZBtHgg2lbE\ntt7ggVdWxKNixaoxWlDrgab1J3iAF0FBqw0SFbVFq1XwaCW2gjeK7mJbxRq09lAUL9paraCCEMKV\n5Pn98cw3O9lskj0mZLP5vF+vfW0yO/Pd7+7Ozs4883yfEVUFERERERERERFRpsjp6g4QERERERER\nERH5MWBFREREREREREQZhQErIiIiIiIiIiLKKAxYERERERERERFRRmHAioiIiIiIiIiIMgoDVkRE\nRERERERElFEYsCIioowgIueIiIrIOV3dl0R4fV3c1f2griMiu3rrwZyu7gulR0SGicgiEfnC+0zf\n6oTn4DYjCXy/iIiIASsiIuoUIpIrIheIyMsi8pWIbBGRlSLydxG5T0R+2NV9JMpmIjJARG4RkXdF\nZIOIrBGRv4pIVZx5F3sBgrZuhXGWyReRy0XkLRGpF5F1IvKqiIxtoz8lIvIrEflERL4UkadE5Ntt\nzHuBt83YN/13on0iUgLgGQAHAngUwDQAd3f28/Z0IrJCRFZ0dT+IiChz5XV1B4iIKPuISC6ApwEc\nB2AN7GDwEwD9AXwbwJkAhgJ40rfYfACvAfhsq3aWKHX/BbAngK+7uiOxRGQ/AM8D2BbACwAWACgE\n8C0AZQCubGPRaW1Mb4hpvxeA5wAcBWAFgDneQz8A8JCI7K+ql8W0MQfADwE8DKAewDkAXhKR76pq\nva/tnQDcAuAXqhp4plMcBwLYHsC1qnrTVng+SsyesPWEiIh6KAasiIioM5wBC1b9DcCRqtrigF5E\nigAc5J/mzZNxB/5EbVHVLQDe7ep+xBKRfgCeAtALwKGq+lrM4/ltLauq1yf4ND+FBauWABilquu9\ntosBhAFcKiJPqupib/o3AZwM4DpVne5N+wssiDUaQI2v7XtgAe4bEuxLunb07j/dSs9HCVDVjPtu\nERHR1sUhgURE1BlGePdzYoNVAKCq9aoa8U9rr4aViBwrIq+IyHpveOECERkqInO8ZXb1zdtcV8j7\n+1GvLs1GEVkqIqPjtN9XRCaJSNgbrrRZRFaJyJMicnC6b0ZMn4aIyDxveGSTiJT65usvIjeLyDJv\nCNfXIvKSiBzTTtune/N85b3GFSLyOxEZFjNfgYhc5Q3JrBeRtSLyJxEpi5nvEK+vj7fznMtEZJOI\n9I+ZfqyIPOu935tE5ENvSNo2cdpY4d1KRORW7+8tInK9iPzC68NZbTz/Ad7jT7XVR9+87dZGkzh1\nckTkGyJSKSL/9N6ndd5rmSciB/jmi1vDyr9eisiFIvIP77P5XER+LSJ92+hLwut5By4FsBMsY+i1\n2Ae9QFu6fuTd/9wFq7y21yMaaPo/3/yDvfvXfdNej3kMIjIOFuw+V1U3p9o5ERkpIgt934vl3nrV\n1zfPriKiAOZ6kx6Q6BDIcxJ4jhwRuUhEakWkzvvcakWkQkTa3McWkR1F5CFvG7BBRN4QkTPjzCci\ncrbYMMtV3uv4j4g8LyKnx5l/ZxG5S0Q+8r5/X4ptw4bHmfd673WWisiZIvIX7zWsSGUbICK9RORi\n7/v/L++xr0TkRRE5PmbZUu99HwxgsLQcejrHN1/cGlZi2+ubReQ97z1Z7b0nR8eZt9Rr53oR2VdE\nnhEbGlsvNlx9RJxlEvr+ExFR52OGFRERdYYvvfsh6TbkHZj9FsAmWBbGZ7CA2BJYBldbBsMOiD8C\n8BBsOOLpAJ4QkaNjAmZ7Avg5gD/Chi+uBrALbPjS8SJyoqouTPe1wIZD/gXAcgCPAOgNYK33OgcD\nWAxgVwB/ArAQQDEs+2ShiFyoqve6hkREADwA4GwAXwB4HMAqADsDCAF4D8BSb95esOFhR8Iygn4J\noAjAqQDmici+qnoNAKjqEhF5D8BoEdlWVd1n6Z73QNhwzj+o6le+6VNhw8m+gg0HXQlgbwBXAPiB\niByiqmtj3o9esGyc/rBha2sBfAzgZQCTAFwI4ME47+OF3v09cR5Li/e+LkR0HbsPNhxuEIBS2Gfz\nRoLNzQBwLCzb6QXY53IBgO/AspP8z5vqeh7PmQAaYUPzvgtgJOzz/hDAQlWta2tBrx+7AdgMYBmA\nsKpuijPrQO/+oziPuWkjfdP+7d0fAHt/AcAFVf/lPfc3AdwO4DZV9Qe2kiIiFwKYDWA9gMdg62Ip\nbBjkiSJyqKqugQ1XngZgXwAnAXgCgBuCmMhQxIdg7/V/YOuJwrLIfgXgMAA/jrNMPwCves/9AIBt\nYEM0HxGRnVT1Ft+8PwdwNew7UQPLQN0BwHAApwGY53vN+8PWsf6w7/rjAAYAGAPgzyJysqo+G6c/\nlwMYBVtHIwD6prgN6A9glvfaFsG2RTsAOBHAsyJygare5827Ava+T/T+v93XfLvvu1jw+xUA3wVQ\n6y07APYeviAiFaoab7swDMBkRL/TuwA4BTYkdV9Vfc9rP8jvPxERpUtVeeONN9544y3QG4D9YAe8\nTbCDuh8BGNzBMufADvjO8U37Bix4tAnAPjHz/8KbXwHs6pu+q2/6dTHLHOtNfzZmel8AA+L0aWfY\nMKFlcR5TAIsTfD/8fbqpjXkWe+9Xecz0bWAHcRsAfNM3fbzX3uuwg0z/MrkAdvD9f7V73QDyfNO3\nhx08KoARcea/OE4/f+k9dqJvWsib9iqAbdr4XG+Lme6e90UAxXGe52nv8b1ipvcBsA4WAMlN4L1v\ntV619zkC2MubNj/OvDkA+sX5XOfEzDfHm/5vALv4pufBgqIK4MB01vN2Xm8/b973ANzqrVPqu30B\n4AdtrH8a5/Y5gFPjzP+q93i8tkb7lh/om74Atl24HxbUWQ8LVhV7j/8eFsztncj3qo3XP9h7H9cC\nGBrz2K+8Pv06mXWkjec5w1vmTQB9fNOLYYFiBXBmnHVNYcGnHN/03WCB3s0AvuWb/iVsaGRRnOcf\n4Ps7D8AHADbChmD759sRVmvtMwAFvunXe31ZD2C/OO0nuw0oALBznHn7Avin9/p6xzy2AsCKdt7j\nVttYWJBavXvxTd8dFtDbhJa/B6W+9/2cmLYu9Kb/KpXvP2+88cYbb51/45BAIiIKnKr+FcBY2MHu\nWAB/ALDCG6IyX0ROTLCpk2ABm0dUNTbL5EZYlkJb/uXN4+/X87AgwoEx079W1S/ivI5PYAfRQ0Vk\nlwT73J7PEaeotYjsA8t++oOqPhrThzUAroMVzD7F95AbbnWhxgy7VNVGVfUXrz8XdhB2mao2+OZb\niejwrfN98z8EC3ScHdPPXgDKYRkrz/keusS7v8Drr78vc2ABt3jZJgBwufqGlPnM9u7Hx0z/MSxo\ndZ+qNrbRZhA2xE5Q1SZVXZ1EG9NV1WUWwXvvH/D+9a+D6aznsbb37r8NW0euhGVD7QDLWusL4A8i\nsmfMck/AsmF2hmX+DQVws9evebHDumABRQC4RkR6u4li9emu9c3Xz/f32bBg3nGw9WgxgKNVdb2I\nnAoLbJ8HoElE7vSGlG0Wu4LhdxN8/WNhmXt3aesaSNfCgp3jRKQgwfbacq53f5X6Mta8ddkVtD+/\n1VKW+Xalqjb5lvkYwB0A8gGMi5l/i7dMCzHbqxNgn/edqvpyzHyfwjL9BqJlxpvza297HSupbYCq\nbvK2l7H9/BoWoOwHywxLmVjttbEA6gBcrarqe573Ye9hLwDxhhK/4m2L/O6HZU8d2Hr2QL7/RESU\nJg4JJCKiTqGqNSIyH5Z9cxgs6+ow2BCVMSLyIOyMt7bTzH7e/Z/jtF8nIm/BzqDH81YbAY3/ADgk\ndqKIHApggvfY9rADH7+dEB3WlKq/afzhVa4/fUXk+jiPb+fd7+n1tRjA9wF83sbBZjMR+QZsCNp/\n4xzAAzYkD4i+11DVT0TkJQCjxK7g9o730ImwoT+3+QNfXv+3ADhNRE6L8xy9AGwXZ3jRRgB/b6Pr\nz8GGQo0TkSs1ehW58bAD+PvaWC5d78ACbGd4wzSfgK1/SzX5mkpL40z7j3fvD+Sks57HyvXdV2vL\nIWYzRWQHAJfBhmO5oZVQ1dti2nkPFoz6FMCdAG5CyyDlLFgA9VAAb4vIswAEdpXAb8AyE3eEL9ji\nBS9iA5AQkW1hWTu/VNU/icjt3nyTYBlXt8CGxQ5R1Y0dvP79vftw7AOqulpE/grgCFhALtmhlrHP\n0wQLusV6Gfa694vz2L+9AFWsxbDAtH+ZR2BBx7dF5DGv3SWxAWpEtx+D29h+7O7d7wnLsvSLO/Qy\nhW0AROR7sM/sCFiAtDCm2Z3iPVcShsKGtr6ivuHIPmEAUxD/fW/1XVTVLSLyOVp+F4P8/hMRUZoY\nsCIiok6jVtz5Be8GEcmFHeTeDzsLPh82TKgtrkDy52083tZ0oO2slAbEXHRERE6GZVJthNVf+RA2\nVKYJFig4EjbkJV3/a2P6tt79KO/Wlj7evSti/t8EntO9h5+18bibHlsYfY7Xl7MRzRhx2RZzY+bd\nFrZPcV0HfemDaH0zAFjZVsBSVZtE5B7YkLjTYQWxD4AFChZ4mSOBU9VGETkKwFRYja8q76F1IjIX\nltnRZg2oGPHWQXeQn+ubls56HsufATI/zuPzYQGreFkl8dwH4DYA+4rIN1R1HWCZRCJyBICrYPWU\nLoB9Z16CDSf7k7f8qgSe4w4A9QCu9oKxFQAeUtU7AEBE1sOGUp4J23a0J9X1PVl9AXwVL4ihqg0i\n8gWi2W5+bX2WbtvgL8h/KWxbdC7sfb4KQIMXHLxcVT/w5nPbj3jBYr8+caa1tU0CktgGiF2cIgzb\nDrwE4EnYsMwmRGuEpbsNTeezbe/3oPm7GPD3n4iI0sQhgUREtNV4Q9VqYAfAQEzh6Thcke5vtvF4\nW9OTdQOsfswwVR2jqper6lRVvR6WaRKUtrLJXMbEBFWVdm4/8eZzB1+JZCy4tge28fgOMfM582Hv\n/1gRyRWR7QAcD8sSi81M+RrA6g76Lqr6r5jl2suuAyw4sQnRTKBUiq27oVetTtJJnKsXApaJo6qX\nquogWHbK+bBi9RcjOlQxSIGt595QUNdevIN0F9DqHeexeO1thA2jA6w+k/+x9apaqapDVbVAVfur\n6mmw7KKBAD7oaAiV2FU7z4QNJ62DDW3rBasN5bgi199LoMupru/J+hpAf2+YWgsikgcrBB57kQGg\n7c/S9be5X972cpaq7uMtdwrse/lDWMZZQcwyJ3Xw/Ws1HBntfweT2QZMga1Tx6jq8ao60bcN/Us7\nz5GMrfLZdsH3n4iI2sCAFRERdQV3ACwdzOeGux0W+4CI9IGduQ/CdwC8o6rLYp4jJ95zd4LXvPvD\nE5nZq5PzTwDfFJF4w1/8866DZWnsJCK7x5kl5N37AwRQ1Q2w4tA7AjgaVjsqD62zq1z/+3lDggKj\nqqtgmW8HeUM2z4AVan4hiWZcwGRQnMeGxZkW24cPVPU3sCy7OlimSNCCXs/dcLjvx3nMTVuRSEMi\nsgdsyNQ6WMH2RFzg3T/SQdt9AdwNq0f2opvs3fuzcWKHlrXHvZelcZ5vG9h7uRF2BcR0/BW2H31E\nnMeOgGXtvBnnsV1EZNc400t97baiqitV9XFVLYN9vt9G9LNMavuRqCS3Ad+BZZwtjvPYkW08RSNa\nZhp25D1YJt6+ItIvzuNxt2Xp2ErffyIiagMDVkREFDgROUNERnkBn9jHBiJ6QPvHDpp6Ana2/Mde\nYXK/KUh/WI+zAsDuIrKjr58CG+KWaLHnlKnqUtgQqh+JyLnx5hGRvUTEP8ToDu/+Hu/A3z9vjler\nyLkfFgi4xRuW6eYbAKDSN0+sOd79Wd6tAfGDEC5j7l7/e+h7nmJvyFAqXEbDPNiQpl+rr2B1ApbC\nsqzO9AqCuz71hxWjju3rbm0E3vrBgiitijEHIOj1/JduWX8Wmfe3+7wf9U3/loi0ytbz1g9XJP7R\nODWLSuIs8wMAl8OGq87qoJ+3evdX+KZ9AMt2HO2b5i7S8HYH7QHAw7B6av8nIt+JeewGACUAHm6j\nllwy3Pfl5pj1qgg2jBUAfhNnuVwAVf5to4jsBrtwQYPXf4hIgYiM9LZD8M2bD6shBVjwBrD150MA\nP/Pe/1ZE5BB/P5Mwx7vvaBuwApZxtnfM854HuzprPF/Catslmu232XvuPgCmxzzPt2Hv4RZYwfiU\ndNH3n4iI2sAaVkRE1BkOghUw/5+I/BlWPBuwy7efABs68gQse6ZNqrpWRH4KO4h7VURqYHVKRgDY\nB1aE+EhEh32l6jZYpsdfReQPsIOeQ2HBqqcQPWDuTGfCMid+IyKXwIbRrIFdtW1vWDbFIbCrcwFW\nW+gw2EHk+yLyBKxe0I6woZb3wy5dDwAzYUN5TgLwN68GThGs5s32AGaoaryC36+IyAfefPkAnlK7\nsmDsfC+JyFWwq8q977X/MezAcjDsM/oz7OpwSfH68DfY570FHdcwil3+MxF5BHb1tbdE5BlY0OIH\nsIBpbIbaPgDmi8gbsCy2T2FF70+CvQdVCFjQ67mqvigid8IKdv9TRJ7yHhoNW58WAHjQt8gRAO4T\nkZdhgY+vAOwCe4/6woJ+k+M81bsi8nfYcKlNsIy1o2Dr4YntDQcUkVGw2kyj/UXEvdpYvwRwqYgs\nhAWwfgIrVv/bBF77ChGZCAvavem9l6tg798hXl+vbKeJhKjqb0XkJABlsKLoC2DD68bAtnM1qhov\nsPN32PbxDRF5Afb+ng4LSk5W1Q+9+XoDeBF2ddW/wK56WgirKbUngCddRqhXPPxHAJ4H8IyIvAor\nHF4PyywcDuBbsCFzLsiV6OtMaBsA4HZYYOrP3nv+NWx9OAy2nT81zjIveX1bKCJ/hK1Df1PVp+LM\n61wFyyS7WESGA4jAhl+WwYr9X9xGUftEbfXvPxERtUNVeeONN9544y3QG+wg6WewGijvweqgbIYd\nhD8LuzR5Tswy58AO+M6J097xAF6FHWythgW7hgJ42ltmG9+8u3rT5rTRt8X289dq+jmwg7z1sKFP\n8wHsBQv6KIDSmPkVwOIE3492++Sb7xsAroHV7KmDnc3/GMAzsKumFcdZ5sewgMbXsKFOH8OyEPaP\nma/Qa/ufXrvrYEGkMzro0xSv7wrglA7mPQw2hOhT7/Ne5b2nt8Lqg/nnXQFgRYLv3wTv+R9LcX0s\ngF1p7hOvXx/ACoPnxX6OsIDOTQBegRWk3uQt9xyA4xP5XGFZKQpg1zh9KfUeuz6d9TzB130WbLiY\nW5f+Cgti5cbMt5fX53/Asl62wIJWf/Lm79VG+7d4y6z12n8PFhzdroN+9fE+/4fa+bxu99afjbBA\n7neTfO3HwIaOrvY+ww9gGXWt3kO0s+3p4DlyAPwUFtCr925vwLZ9OXHmV9j2Z0dYcHKl9/reBHBm\nzLz5sCDhc7Crk2703o/XAFwU7zOBBZ9/AfuO13uf+/uwgNFYAHm+ea9HnO1aOtsAWED0Ndi2ZY33\n/h/R1vsLq4k2G/b9akDMdwltbGNhwb0q77Vt8p5rEax+VsLfN+/xFfBth5DE95833njjjbfOv4lq\nR/VOiYiIMo83tO0jAAWq2lYRXsoCIjIHdnWyo1X1pS7uzlbF9ZyIiIh6KtawIiKijCYi28TWXvHq\nukyBDVt6vEs6RluFiAwCUA4rkh3uYPZui+s5ERERUUusYUVERJnuYADzvHovK2DDiQ6GXe3rP4jW\naaIsIiJnAhgCC1YVAKjU7E4L53pORERE5MMhgURElNG8K2jdCCuCvh3sZMsnsLo+N6nq513YPeok\nIrIYVv/mPwBuU9Xbu7ZHnYvrOREREVFLDFgREREREREREVFGYQ0rIiIiIiIiIiLKKKxhFceAAQN0\n11137epuEBEREREREVEn+/RT4LPPgB12AHbcsat7k93eeOONL1R1u0TmZcAqjl133RVLly7t6m4Q\nERERERERUSeKRICyMqCyEpg9G7jlFiAU6upeZS8R+Vei83JIIBERERERERH1OC5YNW8eMH06UFNj\n/0ciXd0zAhiwoiwxY0brjUokYtOJiIiIiIiIYtXWWpDKZVSFQvZ/bW3X9osMA1aUFYYPbxkJd5Hy\n4cO7tl9ERERERESUmSZPbj38LxSy6dT1WMOKsoKLhJeVARUVNvbYHyknIiIiIiIiou6DGVaUNUIh\nC1bdcIPdM1hFRERERERE1D1ttYCViJwqIneKyJ9EZK2IqIg83MEyI0TkWRH5SkTqReTvIjJRRHLb\nWWa0iCwWka9FpE5E/iIiZwf/iijTRCKWWeWu7sBCeURERERERNQRka7uAcWzNYcETgGwD4A6AJ8A\nGNrezCJyEoA/ANgIYB6ArwCcCOA2AIcCOC3OMhcDuBPAlwAeBrAZwKkA5ojIXqp6RVAvhjKL/+oO\nRx1l2VVlZRwWSERERERERNQdbc0hgZcCGAKgBEBFezOKSAmAewE0AihV1fNUdRKAfQEsAXCqiJTH\nLLMrgJmwwNYwVf2Zql4KYG8AHwK4XEQOCfQVUcZwV3c46ij7n1d3ICIiIiIiokSpdnUPKNZWC1ip\nakRV31dNaDU4FcB2AB5V1aW+NjbCMrWA1kGvcwEUALhLVVf4llkN4Cbv34tS7D5lOF7dgYiIiIiI\niCh7ZGrRdS9PBgvjPPZHAPUARohIQYLLPBczDxERERERERERZahMDVjt4d0vj31AVRsAfAyrv/Wt\nBJf5DMB6ADuLSFGwXaVMwjROIiIiIiIiou4vUwNWfb37r9t43E3fJoVl+sZ7UETGi8hSEVm6atWq\nhDtKmYVXdyAiIiIiIiLq/jI1YNURF5ZIJp+m3WVU9deqOkxVh2233XZpdY6IiIiIiIiIug8mP2Se\nTA1YtZsNBbvSoH++ZJZZm0a/iIiIiIiIiIiok2VqwOo9735I7AMikgdgNwANAD5KcJkdABQD+ERV\n64PtKmUS1rAiIiIiIiIi6v4yNWAV9u6Pi/PYEQCKALyqqpsSXOb4mHkoSzGNk4iIiIiIiJLF5IfM\nk6kBq98D+AJAuYgMcxNFpBDAjd6/s2OWeQDAJgAXi8iuvmX6AbjG+/fuTuovEREREREREREFJG9r\nPZGIjAEwxvt3oHd/iIjM8f7+QlWvAABVXSsiF8ACV4tF5FEAXwH4IYA9vOnz/O2r6sciMgnAHQCW\nisg8AJsBnApgZwDVqrqks14fEREREREREREFY6sFrADsC+DsmGnf8m4A8C8AV7gHVHWBiBwJ4FoA\npwAoBPABgMsA3KHaOmFPVe8UkRVeO2fBMsjeATBFVecG+mooI6lyWCARERERERFRdydx4j493rBh\nw3Tp0qVd3Q0iIiIiIiIioqwhIm+o6rCO58zcGlZERERERERERNRDMWBFREREREREREQZhQEryioc\n4UpERERERETU/TFgRUREREREREQ9GpMfMg8DVkRERERERERElFEYsCIiIiIiIiIioozCgBURERER\nERER9WgiXd0DisWAFWUVbmSIiIiIiIiIuj8GrLLYmjVr8Omnn3Z1N7qlGTOASKTltEjEphMRERER\nERFR52LAKotVVlZir7326upudEvDhwNlZdGgVSRi/w8f3rX9IiIiIiIiIuoJ8rq6A9S5lNfmTEko\nBNTUWJCqogKYPdv+D4W6umdERERERERE2Y8ZVllMRBiwSkMoZMGqG26wewariIiIiIiIshMPnTMP\nA1ZZjAGr9EQilllVWWn3sTWtiIiIiIiIiKhzMGCVxXpSwCroIumuZlVNDTB9enR4IINWRERERERE\n2YdXnM88DFhlsTFjxuCmm27q6m5sFUEXSa+tbVmzytW0qq0Npr9ERERERERE1DbpKRk4yRg2bJgu\nXbq0q7tBSXJBKhZJJyIiIiIiIso8IvKGqg5LZF5mWGWxlStXYvny5V3dja2mM4qkM55LRERERERE\ntPUxYJXFqqqqsP/++3d1N7aaziiSznHMRERERERERFsfA1ZZTHpQtIVF0omIiIiIiIiyBwNWWa6n\n1ChjkXQiIiIiIiJKVQ85dO5W8rq6A9R5RKTHBKwmT249LRRi0XUiIiIiIiLqWA8aoNRtMMMqi/Wk\ngBURERERERERZQ9mWGWxU045BUOHDu3qbhARERERERERJYUBqyx20EEH4aCDDurqbhARERERERER\nJYVDArPYJ598gqVLl3Z1N4iIiIiIiIgyzowZra8sH4nYdOp6DFhlsV/+8pcYMWJEV3eDiIiIiIiI\nKOMMHw6UlUWDVpGI/T98eNf2iwyHBGYx4WUOiIiIiIiIiOIKhYCaGgtSVVQAs2fb/7zafGZghlWW\n41UCiYiIiIiIiOILhSxYdcMNds9gVeZgwCqLiUjgAauBAwfi7LPPDrTNIDE+R0RERERERImKRCyz\nqrLS7mNrWlHXYcAqi3VGwOrzzz9HhN9gIiIiIiIi6uZczaqaGmD69OjwQB7yZgYGrLJYWVkZHnnk\nkUDbHDx4MI466qhA2wwSy3YRERERERFRImprW9ascjWtamu7tl9+mzdvxrnnnovnnnuuq7uy1Qlr\nHLU2bNgwXbp0aVd3IyOJCI488kgsXry4q7tCRERERERElNXWr1+PPn36YMaMGZg0aVJXdydtIvKG\nqg5LZF5mWGWxjz76COFwOPB2X3755cDbJCIiIiIiIqKWmpqaAFjySE+T0QErEVkhItrG7X9tLDNC\nRJ4Vka9EpF5E/i4iE0Ukd2v3v6vNnTsXI0eO7OpuEBEREREREVEK3Ki4nhiwyuvqDiTgawC3x5le\nFztBRE4C8AcAGwHMA/AVgBMB3AbgUACndV43M49boVU1sJV7jz32wD777BNIW0RERERERETUNgas\nMtsaVb2+o5lEpATAvQAaAZSq6lJveiWAMIBTRaRcVR/tzM5mks5YoTvjyoNEREREREREFF/fvn1R\nWFjY1d3Y6rpDwCpRpwLYDsCDLlgFAKq6UUSmAHgJQAWAHhOwcoLMsHr33Xfx7rvvBtIWERERERER\nEbWtb9++WLNmTVd3o0tkdA1r4CX0AAAgAElEQVQrT4GIjBWRa0RkgoiE2qhHdZR3vzDOY38EUA9g\nhIgUdFpPM4x/SGCQ9thjj/Qbee014IwzgAMOsPvXXku/TSIiIiIiIqKuxGPdwHSHgNVAAA8B+Dms\nllUYwPsicmTMfC6Ksjy2AVVtAPAxLKPsW53X1cxyxhln4Omnnw50aODAgQNxxBFHpNfIddcBI0cC\njz4KvPmm3R92GHDeecF0koiIiIiIKEEzZgCRSMtpkYhNpx4gyACTO9adN8+OdWtq7P/rrku5ybVr\n1+K0007DwoXxcnOyW6YHrB4AMBIWtCoGsBeAewDsCuA5EfFX/+7r3X/dRltu+jbxHhSR8SKyVESW\nrlq1Kt1+Z4Tdd98dJ5xwAnJygvuY//e//+Gdd95JvYHXXgNmzsSM+p8hgtLo9MZGRO7/CDOGP5Z2\nH4mIiIiIiBI1fDhQVgaEw/Z/JGL/Dx/etf2irSDIAJN3rIv6esCNcmpqsv9nzkwoEBYvePrSS034\n/e93wwcffJB8n7q5jA5Yqeo0VQ2r6ueqWq+q/1TViwDcCqA3gOuTaM6lGcUdH6eqv1bVYao6bLvt\ntkuv4xli+fLleOKJJ9DU1BRou6+88krqC8+aBdTXYzhqUYaa5qBVBKUoQw2Gv3kPUyaJiIiIiGir\nCYUsTlFWBkydavc1NTadslgAAaYWZs3CjPqLWyZmwI51Z2y42I6FO+CCpy5oFYkAF1xQAqC2R14l\nMKMDVu2427v3j01zGVR9EV9JzHxZ77HHHsOYMWPQ0NDQ1V2JWr4cMzAJAFCDMpShBlMxDSdjPn6E\nxxFqeimhLzIREREREVFQQiHgtNOAG24AKioYrOoRZs0CNmyI/9jGjckfly5fjuF4PX5ihr4OvP9+\nh034g6eVlXZ/zz1rACxmwKobWendF/umvefdD4mdWUTyAOwGoAHAR53btczRGUXX99tvP5x44omp\nNzBkSHN2FQBUYDZuwFRsRj7K3QUcE/giExERERERBSUSsUDBZZcBs2e3HpZFWWj58mhmVaympuSP\nS4cMQSjnjy0SM8pQgxqUIZTzR2BIq1BFXKGQBU1vvNHuDz10MwAEWuqnu+iur/gQ794ffPJGHOO4\nOPMfAaAIwKuquqkzO5ZJOiMCu2HDBmzcuDH1BiZMQCj3T6hBGcZgPqpxOXpjPXphiz0ukvAXmYiI\niIiIep6gi6RfeCEwZgzw0EPAJZdY4GrMGJtOWWzIEKCtIFBOTvLHpRMmAIWFCGFxc2JGBWYjhMVA\nYaGtXAmIRCxoeu21dv/KK72w8847o0+fPsn1JwtkbMBKRL4nIv3jTB8M4C7v34d9D/0ewBcAykVk\nmG/+QgA3ev/O7qTuZrQgM6zeffddLFq0KPUGDj4YOPtsAEAD8lGPYlyBaszHyZY62evYhL/IRERE\nRETU88Sr85NukXR3rj83t+X/lMW8AFNcSQSYmh18MHDFFYgUHIfZqEAlpmM2KhApOA644gp7vANu\nXa6pAa6/3u4vuqg/HnzwPxg7dmxy/ckCGRuwAnAagE9F5DkR+ZWIVInI7wG8C+A7AJ4FMNPNrKpr\nAVwAIBfAYhG5T0RmAHgLlpH1ewDztvaL6EqdMSQQAIYNG9bxTO35zW/w6B7XIQ9bMMX7EgOCmoKz\nUHvYpQl9kYmIiIiIqGcKukj6PfcA8+cDZ51lZYvKyuz/e+4Jtt+UYQ4+GDMOmY8X80ah0U3LyUGk\n4DjMOGR+SselkdJpKOv9JMajDCfiOjxaOhtlvZ9EpHRaQsvX1kbXZdXoul5bm3RXskImB6wiAObD\nak+dCeAyAEcC+DOAswGMVtXN/gVUdYE3zx8BnALg/wBs8ZYt16AjNxnuxz/+MV5++WX06tUrsDb7\n9euHg9MMKEUiwONflmLCqb/FnrgOs0ouQFnBAqC6GpNfPCagnhIRERERUbYKhSzAFFSR9FAIOP98\nuzgci673HMOvPQan9pqPqSjFykGDEDnyepT1fhLDr03tuLS2Fqh5PB9vn9QXBwI4bOGVqHk8P+GA\n0+TJrde9739/FSKR4/H888+n1KfuLK+rO9AWVX0ZwMspLPcKgB8E36PuZ9CgQRg0aFCgba5evRqv\nv/56Wm24qHGvXvvgsN8Dt1QehpoDSlBb+13wd4GIiIiIiDoSiQBz5tiV1GbPtoP8dIJMkQhw333A\nNdcE0x51D6EQMOO2T3HhhTX44JCvEA7vgZrHU//sJ0+2+9dfPwRPPPEEmpqa0l6XNmzYgIULF+K0\n005LvZFuKmMDVpS+d955B2+++SbKy8uRlxfcR51uwMp9iYFDWwxX5A8CEREREWWqGTOsRpJ/nzUS\nsZOx0f1b2hpcnZ877wTOPNM+k3SGBbr25s4FjjkGOPro9IcZUvex995fAvgdamqmorIymM985cqV\nAICmpqa023JtdMZF1TJdJg8JpDQ988wzGDduXHpX9etEGzduxJo1awKvsUVEREREFKQZM4C8vJaF\nvm+9FTjxxPQKfVNq3IiNESPs/3Tr/Lj2jjgimPaoe7njjn8AqEAo9GfMnt36CpSpKi4uRnFxcdrt\nuONlBqwoq3RG0fURI0Zg5MiRgbR15513ol+/frj22msDaY+IiIiIqDMMHw7cfDNw9dXAaadZ7aQr\nrgCmT2cGTleIV+cnFEo9083fnosJpNPejBnAhRe2DHxEIjZtxozU2qTOEYkACxacAaAMxx77SnMx\n/yCCVkEFmBiwoqzUGQGrlStXYu3atYG05VIbV61aFUh7RERERESdwWXc3HwzsP32wEMPAWPHApdd\nlnqbM2a0PiiORBjQyAbDhwOPPgqcfLJ9ppEIMGYMMG8eM/IyTW0t8JOfLASwGEcccURg2XULFy5E\nXV0d6urq0u5jfn4+9txzT2yzzTZpt9XdMGCVxTojAvvBBx+gNqDc2M4Yi8vRhURERETUGUIh4Pjj\ngWXLgMMPB557Lr0sjOHDW2ZyuDpKDGh0f6EQsGCBHZscfzxwwgmWuTV/PjPyMs3kycA++3wFABg8\neDCA9LLrnPfeew8AsGnTppTbcIfJgwYNwjvvvIOTTjopvU51QwxY9QBB14gKBbSV7YyAVQ/MkiQi\nIiKireDWW4GHH7YhgcuW2fDAdIYOuUyO004Dpk5lke9sEwoBEyYAmzYBGzYAl1zCzzZTrVmzBgDw\n+eefB9amO8ZNpeg6sy+jGLDKYmPHjsWbb76JPn36BNZmcXEx9ttvv0Da6slXOyAiIiKi7iMSASor\ngZkzgbvvjg4PvPrq9IYOhULAuHHADTcAFRUMaGSTSASYNQvo3dtud9wRXDFvCtagQYMAAG+++WZg\nbZ599tkAkg9YxbvAQ2XlVzj66A3IyXkjsP51FwxYZbHtt98e++23H3JzcwNrc/369QiHw4G0VVpa\nCgDYa6+9AmmPiIiIiKgz1NYCTz8NXHwxUFAQzY5qaEhv6FAkAjz4oAXDgrw6WbZzGSj+896pZqDE\nZrOIpJ/N4mpWiQC/+x3wzDM2PNDVtKLMMmzYMABAYWFh+o299hpwxhm4edEiPAIgN8mItv8CD2ee\naRd4+PnP+6Gp6RrstNPy9PvXzTBglcX+8Y9/4O67705r3Gw8b731ViDtHH744VBV/OxnPwukPSIi\nIiKizuCuIrdlC5Cfb9PSvYrcrbdaFsXs2Xa1wauvBk48kQGNjvgzUF591abdequ9d6nU//LXEnPB\nqnRridXWAuXlVrPq8MOjNa1OPz39Yt4UPDcksLGxMb2GrrsOGDkSmDcP2/373zgdQP+yMpueIP8F\nHoYOtQs8nHji1wBu75Ejk/K6ugPUecLhMCZOnIiysjIUFBR0dXeiXnsNmDULDcuWYdPgwdg4fjz6\n/+AHPfILSEREREQ9z/DhwOjRNhTwkEMsSHLzzRa4qq3l0MD2uADT1Vdbxttzz1ltsZkzU3vfXICg\nrAw491zg/vvTryXmD2R+9VX0efi5ZqbZs2cDABoaGlJv5LXXbCWsr2+elAtYAbOf/xwYNAg4//yE\nmnIXeHjoIQt4/ulPfQCUIien5+UbMWCVxVwAKMii60cffTTqfV/CpF13nX2RN2xAnirkb38DnnwS\n7552GvasqQmsn0REREREQQvq/GooZEMMy8qA//zHAi4suJ4Yf4Bp993toH7cOOCyy9Jrs6LCAojX\nXhvc59DUBARYnYU6icusSisgNGuWBafiPwFw0UX2ZZ82rcOm3AUexo4FFi4Ezj9/FW65pQZvv/12\n6v3rpnpeiK4H6YyA1UcffYRVq1altrA/6uz1KRdAMYDdn3jCHs9SvNIDZYqg10Wu20RERKlxQZLb\nb2fB9WS5DJS//MUyUJ57Lr2hlJGIDc288krgnnuCG5a5aZPVPKPMtu222wIAjj322NQbWb68+Rg3\nrsZGOxbu4JjXf4GHOXMsOHvffdtj0KBH8NlnO6Xev26KAass1hlD7D766CO8//77qS3cTtQ5Z8sW\nezxL+cfGA8GMjafuI5OCOkGvi1y3iYiIUuMPkmRzwfXO2A9yGSinnw4sW2bDA/37I8lw+y41NcDU\nqVYkPdW2YjU2Aj1wFBeA7nWSND8/H4WFhdhhhx1Sb2TIkI4/7I0bOzzmdRd4uPRSay4UAv7wh1xc\nfPFE/PrXu6fev26qh359epYgM6wA4KSTTkptwXaizjmqQKqBMKD5agw44AC7z7BsLX/q8tSp0R9F\nnknrGTIpqONfFysr018XuW4TEVFPE8Q54dggybx5wQVJMk3Q+0H+DJT77wd++9voVdVSKWheW9ty\n38Xt27A4enq600nStWvXYp+NG7HuxBNTP56cMAHo6CqDTU0dHvO6CzyoRrc16VzgodtTVd5ibgcc\ncIBmg9WrV+vy5ct1y5YtgbWZl5enV199dWoLl5er5uSo2vevxa0BUD3jjNTanTpVtaioZZu5uarn\nnptae52ostK6V1nZ1T2htlRVqYbDLaeFwzY9HeGw6oAB9tkPGND6Oba2oNdFrttERJTN3P7B+vWq\nmzfbtHT2D/z7Gxs3WptB7G9kKrcfdNVV6e8H+d8793kE9d6tX6/a2Jh+O866daqbNgXXXncT9P5v\np+xPL1miq3feWRsAbXLHkjk5dnw5dWpybU2dqpqbG20n9paTk/Axr389XLZsme69994a7uoDiIAA\nWKoJxma6PDiUibdsCVh1BgC65557prbwkiWtA0vebWNurj0eYJsKZFTQKtMCFhSf+5zc5xP7f7L8\nO1Xnnmur5bhxXbtD6l7TNdcEu/MQVHtERESZxv3WPftsNEAS1G/ehg2qAZ5fzlidcXKrri4aQAxC\nZwSsguxfd5TRJ0mnTlUtKGg7wFRUlPwx6r336pYA2vOvh2+88YYC0AULFiTXlwyVTMCKQwKz2PIH\nH8SyffdF4377pT9MzhtyVwtgyrJlqbV18MHAFVcARUVocgXhRbAewIpTT7XHkzVrVotLh7Yyd25G\nDA/0p31PmxYdQpWNad/dnX+I21VXpT/EzaUv33or8NhjdhWbhx8G8rroGq3+dfH669NfF/3tXXcd\n120iIspOoRDwox8B5eX2++l++4D0a+h0QtnZjOPqdV10UWbX69IAK6nMmAH88Y8tp/W0C9O4z72y\nMpjPPdD23AXBNm1Cm1/BBGpOtXL++bh/4ECsB9DopuXkAEVFdiycwjGveitmZ9SozniJRrZ60i0r\nMqymTtXNvXrZULt00hq9trSoSFVEm4fvpdqWquqSJfrKLrvoGzk5+vEhh+hBgD711FOptbX//m1n\nV7lbeXlqbQfIn2XjouXZnPadDYI8e1NdbV+fww+3s7HV1V2XieRfF93Z3KCGNLiUd67bRESUjcJh\n1d69o/sHQWVZbdyo2tAQTB8zkf99euedYLPTgs6wqqsLJsOqqsr297bdVvWFF2xadbVqcXHPyUQP\netRC0O1peXnz8W27txRiAwD0IEAfAfRf22+v9WPGJJ2p1dio2tRkf9fW1ioAffLJJ5PuSyYChwT2\n8IBVe8PkCgqS+7K011YqKZKeUaNGKYDm2/XXX59SO1pe3ikbGV2yxNref3+7T/F1xuM2PJSZqqpU\nTzhBtaREdcyYaIBp/Pj0gjrjxtnqOGWKTevqoE5TU7Ap76pMeScioszRGTUpw2HbP+jd2259+wYT\nfMj2gNXxx9u+VEOD6vLlNq262qano7HRhlMGtf9RVaX6zDMt949SXWdcMOWmm+x+3DiLjVRXB9PX\n7iDo72Cr9pYs0XBoulbteHtqx2uJJD4kUXPKz3+cC0B/9atfJd2Gfz18/fXXFYA+/fTTSbeTiZIJ\nWHFIYDaaNQvYsCH+Y5s2AeefH0xbqaRIehYtWtTi//79+6fUDiZMAHJz259nyJDk2rzuOmDkSLtc\ny5tvWr73yJE2nbJeXh7wzDN2GeI997Qrzlx+OfDII6lfheTDD4EnngAuuSSYdOjOvKwvERFRNvjw\nQ+Dkk1teUezkk216KtwQ+HnzgMsus93jzZvT66P7PfeP8snG3/NJk+wqfs88A2yzjb3Gm2+26enY\nsgXIz7e/g9g3Gj4cOOusYK5C50pMVFcDQ4cCDz0EjB1r605P4a5255fO1e5atOcdr4UWX4fJn05M\n7XhtyJCOx+MWFtoOfJJ69erV4n+L0aTuG9/4BkaOHIkBAwak1U53xIBVNlq+HDP0CkRQ2mJyBKWY\ngUlAMjWoli9vezB3ApflTFRTU1NqCx58MHD22e3P07t34u25scz19dHX3dRk/8+cmRH1sKhzNTTY\nzkVurt1PmQIUFwM//nFqdawiEeDRR+338OijgbvuAsaMsZ3mTLysLxERUTYoL7dduZNPBq65xu5V\nbXoqamujNavuucdq6PTqZb/xqXK/5z/9qf2W+3/Psylw5YI3P/mJ7U6nWx/UaWyMnrcOYt8oFAIe\nfNDWkalT0+9nKAQccwzw5z8Dhx0GPPdc5tbu6kxpxmpat7ckoOO1oqL2O1dYmHLNqRNOOCHpZdoz\ndOhQvPjiizjooIMCbbdbSDQVqyfduv2QwPJyDaNUB2ClhlGqCrT6P+G6TuXl2pSTE2iKpGrrNMnR\no0en1E6z0aPbTuVMZuhie2OZc3ICqYeVyUMCOyN9vrtyNazSrWPl3tNw2OoYXHKJDSEYPz69/qV7\neWgOCSQiomwXDqsWFtpvee/ewV0Vd9Gilv+n064bZlhUZPdunyHddjNxn27SpPT3q/zq6uze7X8E\ncUXuujrVa68Npp+uhum4cV1fw7QrBb2/WbXPIxpGqMVxWhilWoVJiR+vtVP2pglQ3W23tErC7Lzz\nzi2Ode+6666k2wj6fcsk4JDAHm7CBITkZdSgDGWowVRMQxlqUIMyhLDY5kk0M2rCBGzOaWM1STFF\nEgDOjxmWuDndnOo+fdBmjlYyQxc7yih7/vmszrJi5o6JRGyVKSy0BL077kj9jJhLXw6FgPPOs7Yu\nucTOzqbKnXEtLwd+8QugoqLl9EQEfbYL6BlXOSIiou7F/TYF8RtVW2tX+i0ttf9d5lBtbepthkLA\nxRdbckhDQ8ur76aTgZRp+3SRCPDAA8CVV3beVQJDIdsnuuEGu0/l/Xv55WgGXTr9jESsjZtusqyt\n3/3OhkFefXV66wvQ/UpDBLp/+NprGP7hoyjDvObRRBGUogw1GI7axEcAeWVvZmBSq1FJYZRixv/G\n2TwpHvd98sknKS0Xjy55DV8eeyz+UVCAlUcfndXHonElGtnqSbdun2Glqvq976kCWolpdoYA01LO\njDpr4K36DEqbrzjYAGi44DitGvl8yt2bMmVKi6hzebqZSx0VzUv0My0vt/envbbSuUKiZnaGlWow\nZ6e6M3ems6REtaZGdeFC+zvdwqouw+rSS5N7X+OdIa2utjPGxcWqP/uZ9c2dlU1UY2PwZ27cVQeJ\niIi6Wjgc/X286qpgfstVrch3kAXS3X7XlCktr0AYZNtdvU/n+vHss6pr1wZ3lUCXYeW/6vGAAZYh\nlUr7bl8tiAw6t/+2fr3939AQXIbb+PEt12W3rqebvZ/x3JXrfaOHKjGt5SiiRI9zvWPHdkcl5eSk\nfNyXn5/ffJx76KGH6j//+c+k22hsjL7mJm8EUKNI2seimQC8SiADVrpkib6YNyr+FzmJIXJVVapn\nnrlU87BSr0Gpvg7omZioxYUNaf3ITJgwQQ844ABdvHixAtCXXnop9cZUVcvLmwNqaQ1dbO+qiAFd\nITHTA1aqttMU5A5TZ6qqsh9o//oYDqd+VT/XntupWrkyvfZcfwYMsCvPfPppcjtA8S7hW1Jiwari\nYhtimMpOuP9SuUFhwIqIiDLF+PH2+7hggWp9ffT3M92D+g0b7D6Ikz7uN/7551VffNF+y4O8+qCq\n6jXXdP0+nT94s3atTQsieOMPWPn3l1xwKNlgU5BXCYztY7pBTv8JTP++4FFHpXbistuJc4wWNzEj\n0WM0X5JCm8GvNI77Bg8e3Byweuutt1J6yY2vtHNcmsaxaCZgwIoBKw2HVbfptaY5M6o5WlxwXFIR\nWYvYb1ZgogIrFZirQKOee+4/0urfMcccowMGDNDbbrtdAWgkEkmrvbHf+Y7WBRVcmjpVm3r31sb2\nAlYp1rOqqlJ96SW1/pSXq+6/v12O9Wcrkm6rs2TK2bhEuR9tt3MX+3+q6ustoPPRR+n30e1k1NWp\nfvZZtN+J7gDFfiYHHmhZVhdfHN0JTfby0E1NmRuwysS6G0RE2aCnbF/9J7O+/DIasErnZJZ73zZu\ntPtFi9J73/x9fOGFaI2j886z6UHsg2XaPp0/YBUEf8DK/366gFMqn3ldXbD7R0EFrMJhO6Sprrb/\nq6ujhyX5+V3/2XYk7W1PTJ3hNoNM556bWHsxAbC4wa8Ujvvc6/SPJCotnaZTp9Yl+EKjmk7v/NrK\nXYUBKwastKpKddKkZ/UgQJ8uKdGqnWZp9b5zWwRGEt1IzJ37b83L+0qBl73vyFy10aSp23vvvVt8\nka+88sq02gMm6Vko1TpvyKIC+pIcpVX516aUMrlm4UL9oqMsqxTWk3BYdUBRnQUORZo3tuNz79Pw\nuPtbzZvqjlCqPwpux+bFF1v+n+k/gi5IVVAQzJnJqiobCqiq+sEH0edIdyfXBaxSacuf9eYf5jBh\nQmoBus4IWAU1RCJeVll3WA+JiDJdT9m+utc1frzq/Pn2m+5eZyq/wf73aePG4IqtuzZuvll15kz7\n/4UXoo+nExBz7fvb6+rPOuiA1bp1dh87JNAN3EjlNfsDVkEEeIMKWKm2LOJeUmKBKsD2fzP9O5z2\ntsdX/qXtYXyh5AJL4+5XLSrSRd7y4zBXi7GudYZVAsd9/ossDRigCpR6t7sVWKmXXDI/wRca1RRU\nyZsMxIAVA1aqqnr//ff7gkKlOmBAU0obiUgk4gWp1AtardRvf/v8tPrmD1YB0KlpjsMdMeJaBVbq\nUJTqI4D+CqU6oOBrDd/1dkrtff755/qIF/yqwqRWG66wHKVV+zySeIP33qu6yy6qBQUaRqjVGYHx\nuFtLsLq5v+mmrbs0eH/gKZH23MbWH8gIhy1zJ5PPyFZV2Y+3+4hcUCfdIXzhsOr776e3k+dP99+8\nWfWxx5JvK/YMaXV1tM7WxImppYJncsBKNfPOChMRbW3HHx/NpnCSzab1iz2gqqzM7ro3bt+nd+9g\nrr7nlr366pZXCky3j65+letXUFfcdZ+3v71E9406KxOvswJWxx0X/a6493TUqNQyj/wBqyACvEEG\nrFSj+7u5uXY/dmxw9dk6W/iut3VAwddaOfDXyR+n+YbwxT02c1cJTPA43h0rVV/ysZZgpU7HRC3B\nah2NJ1sPC0ygvIx/3QiHVUXWKFCnwGoFSpO6SmDz8djpLYctVmFSUn3KZAxYMWClqqoPPPCALyg0\nSW+8sb7VQW9VVcc7RMOGPaxAo+68c9gbFjhR8/K+SmujGBuwmjJlSuqNqerJJ5+sQKnm569RYJoC\nK/XJJ9el3N5///tfPQjQem8DUYR1Wo2JqkBzcKn6ko+bf7jb/RE/4ogWG9R4aadhlGpfrNaS3Dqt\nrEzuh6e9otx9+lhmbLI/ZLGBDH8acmNjdKPs1qGu5s445eXZjmlxcfo/3O5sbEVFMGdRi4psJ6N/\n/5Y7PolmvfkLgLrP4vLLUw/QdUbAKugi7ldfHX19REQ9jftt8w8B8v+fLP8B1emn2/a1d+/0M5Iz\n+YRWZWX0dQZxAsS1V1kZXADC/dZNmWK/y+kMr3efh/9zeeGFltMT0RmZeFVV0fqg/udJZ11xAatb\nbmn53Tj6aHtPR41Kvs3YIYHpnkALMmDl+tKvn72+o4+2vqZ7orsz/fvf/9Yvv/xSq0Y+r+GC43QK\npnvHQNOTu4hXInWGkwjiuNEKBQWqffsuUEG9FnnZVS441BwkSrC8jH9dEdnidWuaAtA777wz4fW9\necTLHW+rFhW1yijTVEreZBgGrBiwUlXVOXPmtMiw2nbbxuao/Lhx0Y2u2wG66SbV1atb7hCFw6q5\nuRvUaljBS220oFVbX7hEimD7g1UHAfridttZqmd5eUpfPtfWwQe/0Dxscfny5S2eP5kfxMbGRq2f\nPFk3AdoEaDUmqqBRx2GulmC15uds0aKilmfr4gZv7r231ca0rTHXYZRqb9Q3b4Pa/UFcskSr9nlE\nw4PO0vD2p+uA3C81HJqu4bvebq57UF1tG+GE2osRL5Dh1osRI6Ltp7rzEuRZ4/HjLUDlAlXl5faa\nUx3P73bqNm2K7piOG5f+zrfr1ymn2P+J7vy5/vh3YN33adttLWiVyufgD1gFdcARZMAqHLbXN3Jk\n6+yxdHZwM/3giojIz/327r13esEqZ/x42yfIz48OoU/n5FNnBDaC4vpy+eXBXH3PtXfVVcFnWLnf\nukWLWtZfSnXoYnW1fc7upJvbZ0v0s66qii4Te6I7Va5vTz/d8v909tX8QwIrKuwz/v73o8GqVANM\nsfvB/kBlslwf0w1Yjb5ANNwAACAASURBVB9vJ6MrKmx9Li21bcLBBycfkGyXq7O7xx42OmSPPVI+\nPlO1Y7RQ794aLjjOTs5jtVZimpZgtfbFaiuTkujFwHabrS+hVJviZValEMQJh6PbBqBeC7A6vfrP\nS5Zo5W4PWewMmzUfGzTHy7D6v/97PKmM1ubg1+ERHYCVush/FUReJZC3bAlYbd68WX/3u981B3Ou\nu25N84YtdqfH7RDtvnvLx6qqVI888vqYjKhSBSbpsmXLmpdv78oV7v++fS0VVMvL9ZOBA/URQO8F\nWtSd8n8J/UEN174/qOHfMA8ZMsQXTLPC8JMnf9Y8n79QtV+bQZIlS7QpugVTBXScNyzycPmTFhU2\nqIgF8dsN3uyyS9xgVbxLp4blKO2ds7HjM57e5U1bLOtlaPVGnRbmbm4ONhYW2lMXFCRx1sVXEN79\nQLn3352RPfzw9IYRuEKRFRWqy5dH17+KiuR/bMePt7ToceNUf/pTa7dXL1vPUwmAufVlxgy7/8EP\n0j9IcMGXceOitQeS3Yny7+i4Pi5YoPrFF6nt9PkDVv7l/Rl0ibbn1o/YPqZ7APTss9GApH84Rzpn\nEf0Zav7nypRsQSLqvjorIP7d70Z/e9PlL9TsLtiRzm9cVZXqCSfYdtkf2EjnyrpB8P+OLViQ/tX3\n/O2tXx9MYM618fzz0WwPV84hnfbdsqNG2ec8cmTyJxpdG8cf3/pEdzqefdb2h9LNdnP9e+YZ+3/R\nIvt/t92iQSv/fImeHFSNBqz8mWqxwzaTEVSG1fjxtj8vonrDDaqPPx49MZ1uILvZ1KlalX+tjsfd\nLbJ5wgjp+Nz7Es+G8lRVqcIr1xJGSEuwWouxTkdiUXPwKixHJVZ3askSDRccp0VYpyfgyebjnwFY\nqTMxUcfn3Jt0//wBq169ttgoIqzUkzFN+8kqDYemJx5MG/m8VstlWoLVWoQ6LcI6LUS95mOj5qFO\ne/XanHT5Dle/dgDm6iOAvg7oqlGjNHzX291+n5UBKwasmvXu3bs5yNS/f4OOHWuf+o47RrNu3MZ4\n222jO0T+HaxTTz211RA+AJqbm9v8PC7qX12teu210bMcLtOluFh1/H6v25N6Vzto8LKX4qZ0FhVp\n9SUfq4idyTrnnGjwxQVj/Aet3/xmuResKlUAOshlRPV/qnmMtH+nbN26+Dtp7r248XtzmyPZrsZU\nX6zWXfGh/XAPfrm59t9ee7Ucs9xiJy0m6NXWmGs3zLCkeItedFE7NYmWLNGq/GtbBbzGYa7mY5P1\nLedhLSneovn59naPGmWvs7i4nYNyF6QaONCiP+6KFF4AMTzufi0psSGGO+0UDQqluqNRVaX6wx82\nf9QqYv8XF6fWptsBz8uLrm/+s8bJHkS49kaNUt1mm+TPTMY+j3+n6qSTojt/yfBnL7nX8+WXFrDq\n6PX4xatTNn686ujR1s9zzkn+tTanLgdUrN/10V3VqW9fW0/cGeh0hntWVdn2ScQOstywz1TXPcos\nzKCjruRqosSewEslwO7W5RNOsN+Mffe17dbo0emt0y7DqrAw/Qwrl4VTUmL7BO53s7Cw6+vp+Ot1\nbbutDYtz+2iJ/j75T5y6v6urVY891qbdcktyJ8ZiRyC49++88+zvCy6InuxNp0C8ajQjaK+9ovv2\nyf4uu/3kQw8NJrtP1YJ9V10VDZimw322Lvjlz7Dy9zeR99C/31JXZ0XbY4N8LoiVag2rILLQ3fe3\nd+9gMiT9qn62QsMFx2kYpVqC1VqIeq3AXc3HKH2xWqvzJyd1ZfNwWDUv7yudV3i8VmGSVmOi9kad\nff6YllzdKe8qgdWYqECjFmCDlWjxak/1zVuX1OcSvuttLcmv0765a3XiLnM1P+drtXpTlqAwevQb\niTe2ZIlW505SoFEPxisaRmlzP3Ox2Y5RchuS65+3rn3/+5sUaFQ32mnWrL9n7PDPZDBgxYCVqqrW\n1tYqMKk5I6qycrUOGGA7Pa5Q33e/q3r33dH4xDe+EQ0iuA3gjTfeGCdgZe06/mweN67afxXO3gUN\ntpHzF4tr51YlkzUcmt68o/bNb0bjJ+PGWVCisDD6gxF9ndBTMEkXoVTHehuckVik1bmTtGrk883t\n9e/fMvjlr0U1YJvNOjN3khZhnVbgruazAUVYp8VYp/tjqQKNWljYXAdPR4yIySRzG6SYDCv/rQnQ\n4/G0noAndags0+L8TXrWWaplZapDh9prPPDAmB/a8nINI9SippbL/MrHJv0OlmsJVutB/d9tDioV\nFtoObnFxy/esmZex1d7nES44Tgt7NWh+vrXZq1fqGVH+NPMddrCn2Gab6OeRCvtBjK5/LsDhPovY\nHQz///EOcMePV/32t629446zadXVLYMa7R0Yx8sOvOkm+zz79bN1ONkASeyOTlWVnTX+8svWz9/R\nexV7BZ2SEls3Ro6MBtNSCVq5Ol2x73WqO1Lu0uHhcPRKOMkOb22rn/vtF92ZT3VddhgkyRxBBgxU\nExviTltXpn7f3G+b+/2prGzndzcBblvlsq4nTYr+n2qA3W3/Fyyw9jrM6E6wPRcocPuWqb7mdMX7\n7T3hBEsY37y55W9+IuvL6NH2+1BVpTprlr3vgGVepxK4cBnDffuq/vrXtqx/HXnxxehn7GpTtvcc\nbW2fRo+230w3ZMw/RC7ZE1Enn9xyvyCVz9X/nX3uOWsnlf2geK64wvo3cqS91pkzLbCUSuage82T\nJrW/j5js9sYNCQyqbIILRgKWgaOq+vHHH6fdbjg03a5cjru1GhO1EPUKNGk+Nmkx1kWLkYemJ9Xu\nZdue2lwKxQW+WpRFSbTulO+Kee7YJw+btDfqokMLEx26OHWqjs+9z5ZDqTYCugilWoh1KqhXYJr2\n7bs58fWzvFyrMEkrcFdzCZkBWKk/xHwFmmz/NXdjwu3599XnzPmXAuu8oNVcLS7e0uUnBILQ4wNW\nAHYGcD+ATwFsArACwO0A+iWyfLYErB566CF1w+RcsGrmzOhwPXcA6O7d3/7p1dWqTzzxhMYOB3Tt\n+g8KXJpqvJhHnmzRQtQ3B1nUyzaqxsQWQSx/kbsBeV+1SF2Pbdu/U+KCVfcC+hJKtdhLw6zENM3H\nRgUa9QR5Sqsv+bh5h6pPn5ZBiOpq1eO/856G84/RAVipo7BQgSbdCf9uDlaVYLUehFc0D5s1XzZr\nXl50By0np/WZjqpT/tIqrXY87taheFvH426d6UXfc9CgeXnuMqjRLKHRo2OG3u2/v1Zhkh6EV1TQ\n6PWxUfOwWYEm3QUfazHWaYFsbE4FB2wbH3cIn5ex1Tr117K+3GdThUla8e2Fze1NnhzdQW1vZyBe\n8c/Ro23nbPBgb93wAk3+nYNkdxBcmrRLBf/e9+z1jh4dba+tIQuxZ1v9gcfYIXz+YaXuwLiiInoV\nRXdgHK9QrjvI+M1vos+Tn2/L+7U1TNXt6MSeNV6wIPmzxu6H0J/e7j7PwYOjAZxkd07PPDO6Y+ue\nxz/8zv/8iezsbdoUnd8FxF02nl9FhZVYSJR7rS5QuvPOLV9rsvXUgg6S9CRBBx9cRl5JieqECeln\n5MWeiIh7YoLaFfRnnKlBSbe9q6iInswC0guGH3igtekCJ+4g/8ADU2vPBXSeeCJ6YJ5Oe6rR37s9\n94y+5nQLuafTF/cb9Nhj0QDTuedaFlMqV+h1+8Ru/8wFfoqLk69h5faVe/WydcTtN194oa0jL75o\n67LLoOloO+PaKy5WnTevZZBzzz2jGXkilsDi1sdEuADsttvaPl86Q+fdPoc7WVlVlX4tVNeuy7By\n+1P+7PFUaqO6IViVlV7GUWi6Vu14u4ZD07Xp1SVJBz2rqqIZ9q1qk8UpwZHIa3ZXvszLUy0ubNDH\n9pmotYCuGDEi7lCxhLfBffo0Z1cVoU57eXV1XWDIBXeq+kxPfJu5ZInWIXqxqSLUtS6LkmgNK+8q\ngW65w/FyNHDnXcQqkfpOLpPMP+rFHfcUol6Px5Na3aeP3nrrXxNf7+ME0/bCWypo1Hxs1HGYq32w\nWvv2bWrel2ivTf9oiL///e/ece4GBVQLCpLL1MpUPTpgBeDbAD73AiwLAPwCQNj7/10A23bURjYE\nrKqqVEOh5QqU6tkDTtMiqdPdsVzzsUnPP+ydFgeA7myY28HKyVEt7NWoQ4tW6ABZpS/mHq3rcnK0\nCqWah5UK3K1DUaoh3K0lOWt1yvd+r4W9GlrsrLS+NWkh6ps3dopoIXMXxGpR3yknR8NH3dAimOa/\n5eRYFtL4kz7TcGi6boOVWoVSXYRSHYq3FWjUYqzzBayaNBebNAcNrdqqqLB6R0CTVuTerQroSCxS\nQHUgPrGdL9RpHjbrLvhY87FRc7BFBQ06IH91c8AKsOFy/jNG4bBqgWzUYqzTl7yNYYF3xqIXNmoY\npb7oe1OLfpWWRgOLzTvio0Y1/5iI91r6YZUCjVqIei1EvfbCRi1EveagQQWNze25s3WjR/t+wMvL\nNYzS/2fvy+Okqs60n3tr7SqoZukGA3QrMWCjWRSkbY186bbB2IGQmEyQGPGbZLTGHr8YxohxoTGg\nUUsoZ5whESXj9zkjk0gWEuICIoUxMW0EM5kYNJpJwCWiHbFZml6r6vn+OPecu1RVd22tTXOf3+/+\numu5b71nuee85znv+x560McguhnFBi7EVhV3XYP9XIitXIStrMGrDASEPrpuJn7MlQOMS5cyMSPK\nqsBh1p18jEFfH28/fSMj+hF6MJBRXuuu7GAeUbl+44pPH1CkECAmdGnAyAWOJMdmzzaNvMT6vWJX\nyXOQy0I/ZBA9rPR18YrFbzGRIM85x7xHhjE2NYkJzBoC4dxJF0Z8mudXvUgNKZ425nXGr9nH3/3O\nfEbPO0/cf+ut4r3BSMBs+aZ++lPTcJGEZL5GhDWBqJQ5b554T3od5bszafWakySfPE66ocG+uJQn\nWOazuOzvN93fJQEhx4QpU8jf/tass8WL8zMepUEvyU05Dk6bJhY0Ut5Qi0yrwbpwoWj/UIj80Ieo\niGxZxvfTI2cke6PIerGSQfJ1KeSD7GOA3Vu4WMgFgjVJdSnG4khtk+GAdbOgmDEgG6SXytix4jmV\nm3CFymtpEbrJkLbKSiGvrq64kDZruLGc0zwe+7xWSmiXnItKTRoeiYj5Lx4nt241y15KWOCMGVQb\nUPIAFLlhNNh95fRelM+VHMOlZ77UqZj2lJuZ1vb84AepSLFCcxLJPmK1e+bMMVM2yETukjQZivhz\n9jm/30yNcMUVZjiptFGGCn+3tom0C26/XaQKKGRTLBvk3Ctzv6rfWb+XsY9tImfPFuRQnuFmUr8t\nW4Tea//PPpECZEZU2IZF5PiRMm9Y9jqr9HcYx3JWoYOLsJWV6OQ643V85r2sHDOQ15gjSbVoVJz4\nlmhaw4n6QW6behkTvgsZw/XmwmYIosX5/MYueJSasd6JYzmvxAZWoYM/jHyGaQsJZp1npZyMedaI\n04xhhSJcgDS96FP2+jI8KNZrejMjFi+fnBs57e1kbS13Gqetz8YekbPKRhLdV9ApgYnARaINsJwB\ndBvpUMQa03a6X+CinH0peuoOk3zDCi7EVoZxlPVoZxzLWYlOXoStvHjO9zOiK3LCOFnJSab50Kf6\n0c1Yzoh+mIs+sIdV4/Lz3kqlZMRUI2GEUrqE1Si4AGw3yKmvOt6/23h/w1AyRgNhlUiQFRV99KGb\n67BchccBaZ6DZxjFBlbhbeM9K4kjBqUZ+INim2WOpDCO8gk08jKDdLkK6xkyHh7d8PDJJF7E/1Px\nGqPYwHq0q9Mh5IBTiU42Y4dyQ5VXa/CBrKSGKTfNsOX40SC66UE/vehnGEfVgDsVrxFIK4LHrmPa\nIHXSDOOIiteOoFMNgl702u7zo9eos+zlbT11GxMzoqwf+yKjVT9i3H8DNaQyBtYwjjKAHgLprESa\nvPx+Y5fow68y4RHn9Mq4aPnbPvQpoqkOL9jKJ66kMmIActZJB1nve17tLrRivfqeeU+KJ+PP6rUg\nwQaM3zXDMmedcow1gQM8TfuDagvpnSX/D+GokrkA24zyZm/b2sm9rPQcYa32KjUkGcEhhnFUeKXp\nGxn1P8AW7TE14QlPvWtZiUOcFDqi5n2rzI+fcZBnRF61tZkk+GR8vgj1FH0/ig28EhvoQx8DviQ/\n+EHTIBS53tKqDCYpmFYegwk0ciG2qt2p6fgjr8QGVuIQm2te4pVXikWRdVdakmkNZxxmYvbXGfPd\nzFZ8m6fhJcYqVnHn5KXKnS+hN7PSc4TTP9CtytrcLBYIkiz5YvMBxmvupg+99KGXUWxQFSIn1JXG\ncxiteJDxL7QzFEhyjOcYAfKscX/kabXH2NAgSKf6U95ibMwaxnEt69HOmHa9qmjZH6+q3szkho2c\nMeYvBMhpwQ569SS92gAD6OHJgb+Iug+Si847yNiH7herTp9P/F2wQBhNRlzxnVjBBsObcO3Uu/mt\nD/wLF3seMdvQK/K2zZpFRsIDjI77fvaHyHLF9G9wcVB4T06e0GvrL7KNFy8WdmN9PYXBNXduRqeS\nOR3iY1Yxoh9mUDeNOqlfw5R93LZNGDsePcX6sS+Kcno8mZ1UWCGi7HLbXdfZ4t/BupOEt6n0OIvH\nybqTj7Fl4rNDh/PqzWIjYPznyNNOY6JpDUPBpJ2MbG8Xfa5ildAvi8wYVjChXcAW7THGx60mN25U\nC/BBd7E3bhQrR1lmv58MBMTppoHDov6MsOsKrZvhYHLwpKRyR7q2VugZCJCTJzM2/g4mPPOZ0C6w\njLUkkKJP62N86jqxKGpvNz3y2tvFmeDjx5uyAgGytpax2d9jNPwQo56NjIYf4rKGl1V1RCL2xXg8\nLvpK7Or99t3yjRvN13PnssW/g3HvCtb7fsOwv487/3UvF35gD8NaF31aH+tPP6Lm70WLyJZz3zX1\nGzvW/GvoGtNvEEb5uG+xfsIrjF+zj4mE6UVj3ZxIJBz6zZ0r2qWiQsidMEH8X1tLLlsmdNWuFc/m\nKaeQkycz7l3BFu92UQEej7gmTBj0BCm5kAmHxTO67OSfU24oJTzzRVkmTxaXPLpOjgXt7TztNIdH\nSHs7F095jpryLCYDWh8jOMR48CbGpv2LuHf2bFF38n9Dv9NOE+NZNGoSB7pOBnxJw0ZIG+N7v5A3\naa297NZ62rjR/gw1rbFsyJg2QVDrYVz/OiPoZNT7b6aMyZNFOwziXSEX0BfP6xBhJt7/FM9zxafE\nwGdtQ9kuPp+Qm8Njob5edPNQIMmIfoQJz3y24tv0oVckP3a6s3u9ZCjEFu92LqxqF4fn0Oz7NZN7\nVL2FtG6unXa3mvMXYWtOw6be9zy92gDDwST/1/8iN28WP6VpKUan/ExlkxaLyutp2x20Xh4POXYs\n6yMvMhxMcts26/BqztErT/+hWScbN5r5K5zXhAnkxo1qkS+JQusl83Rdcf6LJjM21NxTcQvjX2hn\nJJJpy17l28iYfyV3jv8cd477nBE+tYaV6GTU813RnnPn2ubL2Iz7Gb9mn0ivML7bJjN+zT7G/mEf\ndSQ5p+L3ovxTNor8sFjOFjxiTnrGXMPJkxmd96Ly8F/wsbcYP/NBhrVj9Gn9jH7mLSa+/ghjY9bk\nLKNMc5HQm5WOrRcfEONjzCRfm5oMz3i9l3H8o4q4iKBTRSAk0MQW/XHWR15k68UHbKk7Fi0Sw04i\nQXZ0kIllD7AKHVyIrWoNEUA3F2Krei+BRka1+xgd931Gq34k5rvx49VYI5+1L3/0Oe7Um9UcvxBb\n6UW/Yf+mOQN/YBhHlV2V0JsZ890sxgTLc2zdmHj0UTIS6GYAPYpYudKQ74xuiGEFW7RHGfddb9Mv\nHhdljkZFqopIeIBPeOYzjuX0o5ce9CvZdxp2qLRHE2hUtuAlE59g0J9iJGKQXlfvZ2zyOqXHQmyl\nsPOtdnpajY+z8ALr0c56tDOEo6zQelgRSJqkt5xnjJy4Ow17M47lKtWK/Cvfb8GjXKg/yujUn6n6\ns5HXFk+0ljE/51X6BmU3eNFv5BdOq/XfYmwR49mYTzMx5zrGpvyzrW2ild+nD8KZ4CzsMW02Y30s\nQyEvDjzMKu0d0Z99PjHmWueUjRvJ+fMZ869kAk3KtpZr2yl4nTAcM2R7y/V0Ao1MhBcpuyQDGzeS\ntbVMV1Rw+4TPM4BOVqCTf4fVjHi7GAkPHPek1QlLWAH4oEFK7QOgOz4bC6ALwDEA4cHkjAbCiiTX\nt9xlIQrSFrIhZTHMUupz56DkQy8XY4vhEUQuwDbGsEKF3ElZduImk8AR8lKchRc4Cy8o42E29rAB\nz6iFxRS8zjq8QB0DykMIWYkNURbp8STzSumGkejBABvwjE2/cThoK6PVUJD/ywEOSHMaXnWUR5IS\n1vJmI8CS9KGXmlHXOpKsw17OwXNKfx1J+tGrErib9TTAbHU4aRKpIclJOMBKdHIRtjKIbtUu8n6v\nEWOuIekg55I2mRVat9KtEgfpQy9r8Wc6iUvNUlYNA8bv2Yk6v9an/veh29K/BliNA/Sin7PwgtEP\nc9e903jLrIe04dUmPNtm4QX60Ku8v+TEKdvP2V8y21G05Ti8Y3sOPAah2Ir1Rh9ytjUdcjJ1PAO/\ny/pcTMabtvc1jVk8COVuVkr1h1PwJ1biIIEUK3FQlVcmcZSy5MLLrqNZbi/6qKPfKGOKQXSxBvtY\niYPUMUAdSYZx2HZfEF02GdZxQzcMOC/66EOPoaNZh1KONCTMepLPZVLppKOfXvRRQ1K9DuMIq3GA\nGlJq7JLj2Xn4haP/pKghxQp02WSIcg2o36nGAVbjAMWC+bDot7qsx8yrwtNnyOhXcjWjnoI4Zjwj\nKds4a+8X9jHSjx6bLGsdhnHE0HOAYRxmDfYzig2GvmafEVxSWvUVWUanjj70MIhjDOMIwzhMHUlG\n0EkdSY7DQWpICZ7Cf1S1u7MNTNkDxuukqjchM6XS9I0bR1ZXC0+12lqx8NSRzJBhl99PGGS+tX/o\nWlLJmzTJ9OrUjH6XXcd+9Yxkn5dSnIQDaoww29Z5CfnyOcmc58z+EQ6bHp3O+sumo3yeZB06Ly/6\nLP3R2b6ZbexBHzWkGMQxi44pm/e01yvHhVRWGdnbeoA+9Ch5sm7FGNef8x4dA9S1pFr/yjFOjHMp\nWp8PH3oZxLFBy6ejnx7NJH+E17AYF8eoOpTyevLowwMMevpobUMxdubabEvRhx417kmZdh1FmYM4\nZsynst7knJGyXXIsyq1jktXVZE2NIEQ0jfTpYu6rxEFj/DlijOHHBh0DdPTTpw9w4kSx0VJTI56p\nujpS1+QcljSePyFPljebjh41v6ZY5X2XlZVm3U3CAZuNKS9xpHv2Nvap5z5z7AzjCBvwDGuw3xjP\nepWsMTicVUf7fGXaFh4MqEXiQv1RVmqHWIt9rMNeVuMtTsKBrPUYtNlY9isYFP3Ri35W4y3WYh+r\n8RbH4aCaEzP6shpTrHMhKT3kF2OL0baiP83CC6zGW+oZlLrJuULYQzKhs73ccqP209ii5ijZd8Qc\nc0TpKPTtNZ77blrHErM9jqr6cpZX3iv6iDn/i/4gN/ZEv5b8mMdDLgrtVGsJsYFurk9kXxJtKvTw\nagO2sa2uTlxTq3pYg1cVSRUwTmXzGGOB/H1hmycp7Q9ZFlHPB1gVOsrWiw+wBvupI8kGPMNKdFps\nQbsN60Ov0T5J1mAfF2IrK/Eux+Egw75e1tcLwrOhgZxZc4xTjIiNAHrYjB0qkqEOe1mHvWoN0oBn\n1JrFh15OwgHDRk9z4ULTq9SrDSgHAL8RKjYbe1iPdmOjL8mT8WeLjW/2PQ1JNkx5lT5d2Oo12K9y\nVMl1RLY51JwHBmzrOYCcOqaTXi3JBq1dEWUxrFAEImFubkbwLgFBfkXQqcqnY4CL8DNGz3qOPp/o\nJ/VTXmMicBFb8AhbsZ5XGoTSB7GXc/GMsj0rDZly7TILL7AV61X0SBT3cZH+KFvGtzOOfzT6ntNm\nSyvHArlukV5lMj9VPUT5pGdWPdpZh71GPe/jLLxAj/Gs1mEvz8Ezql2l3b4MD7Ie7QwYuiUCF7Hl\nQy+zoUGM0/Vj9jKO5WrTvw576UU/69FOAkxoF7ASh8RhZscxTmTC6gqDsLovx+fS+6p5MDmjhbDq\nmjjR4lklJtfsi6psr+2D1Uy8RA0ptVsmBh3nAC4ZeWbIFIt4U55VlyC6DW+olDHYOImbzIWCXBjb\nPXXSjkHWSSjZF7hOQsODAZXvKjsZkW1hmyknN4mX7fdNfUUoXxezldUqW8uQbxo9prGQVkaSXd5g\numUaegA5Ey/ZXmsWomSoy9oeVXjLJt+DfsMDKVv/y3bZCRjroi9sHHFbqzzCnHWXrS4H6/9i997s\ni4M9L4Xq7mzfwXTL3l56VmOi0DJb28l85qShl899g9WlbnuOsz0nxcmehlcd+pUu0+/N5uFYeJnl\nvZ6M564YvZI5jMbSymouIHKNs4VchvGaxVms+Ppzvl9KHZbaNzIvzdaXy9Ony61jeepuOH6/XPpk\nbrQVr1+5dcumVzFy7fpYF/+ltodHd44tpZRbtMUibLV4ahdfXl2RFfL9Ysts10F6U5sEbHF1p/TU\nUmrjpPix1NTR3DxzlreQ8tv7nG6QbufYNt8KL7cHA2zFeot9XGxfMWV6NWFvt2K9MZ8X0mcyx19B\ndGy1hLI5+1G2y163k/Cm+l/2kRn4A03yLVs922VYn6ugp5fO53gOnlMn5AXQY7FZ7b+bS9/pk7uU\nzE9HEhZP4jSX4UFG0Gmxj5x9x75pYH1PbizqSNJnkOqZ37Xqmb1fymchaGwe1mIfg4an2yJsZQwr\njDWFaYt4srSTtR7PwAvUkVR1JUmuoIXwNmWmlWwpQ+ZPlrl+G/BMRjL0zD7fb5PfgGdYi31KnvUE\nQK+RUiVbXfvQq0hP2S5y00zWsSzPYn2r+NyTVN8JGNE4XmPTyJoHOoFG4dmXT+6vEYoTmbBaaxBS\nX8/x+Xrj89bBO97PcQAAIABJREFU5IwWwirh/6TabZBkS+YCiLaHtMLmCSPePwlvsBKdyn0ygUbW\no90SKpdrosk9AZku82JQXYBtll32bJPS4PKsg6jYWRL3jUdHlu9lM9TMXRj7bxdq1OWqj9z3jleG\nSq52STOMQ1k/NyeV7CRbLnlDfzZ4GYIwJ83sZbffPxl/ySovgB5+eex/EDkXgdney5TjM3ZHgTTP\nC/0mz36TTf/MCSdbyGz+/b7QewbT2W5s6IpgzVX/g/2e/XnQkOJC24LD2R6D9e3s5RH533LplY+M\noZ6h/MeFocoPpOnxJEuQJ+/JRUyWop+V8C9NntxdNhce2Uj9fMsr+oiGpOFBUw4CLNdvFaqjtT1I\nr/JuKKXvmVcg0MHSSdhc42455A01lhcr+72+N19Z5WjXwdrk/ao/cZ/fMs4PvQgf6hL3X4X1xqEt\npdWdXFBVGqEuxZdXyPMYHvZ2OcWQJOJe4d0uZEiCJGh44BTXhkJPmSN0seHBVDixZtaR0y6fmuHh\nX4g8q2efdUO4mHaxlzWO5Y50FPnd73wdCiZ5lUGAyVC23DabfSzP9WzKPKxicd/r+NxpRw7eVpJY\nEO1gleHUgUb75UOAUm38i1yz5nonM11J7r4iX3/60wfox1HqlrVULfYZUSvOvj34uKZnWf8I+9Lu\njZq/3WtPLSIjQjSYJG9FzqgLe7/JjAYSrz9gsS/nG4dPmVEnTmLO7iktPQqz91NTl1ast9jE5qUh\nyTl4TnnySQ9DZ13IjcvZ2GN4OKaMcMgu9R3hHW3qWKO9lGXDWOhtJavUpesiNPE4RSGElY7RhUrj\n7+Ecn8v3xzk/0DQtqmnaHk3T9vz1r38dFuXeS+zaBXx24GFoAL6CBzAWx6AhBcIDQLNcBAAE0Asf\n+tGDMDSkLJ+n8RamogthnIo/wYsk7sa1+D0+jCT8AOj4vgYNaYRxDBU4Bg+Sjt8DAA0peAGklb47\n8EnU4DXMwR7Hd6F0BAbgRb/lfS3j0pDGXzDNuIfoRJXtuz70A/AoCUF0Gf95AKQt9UPj8kCz6Jn5\n2+L/mXg5y+eZ3xM6ivKMQ6eh4wTL5+KzOdhtk3YMkSzygDR80DGAIPoMPcVnYRy16TERbxuvOYhu\n1r9py/etuok+0YuQ4zNreznLm8Lb+ICSpyMFHSkAxAB8ePDoJbayZ+ppfT9Tdx0pDMCHNLyYjT34\nfd8M+HzO71vvyaavBg/6HZ+L4TGIfku/s+pEZNZhZtmdfdmHgUF0kfcyy3d023c8SOOTeMLQLVv9\nO9sn1+XBKfgzHsFifAj/Y9yjZ5GBvOR5MYDp+B+8hakQ/cgqI52XjGzXdKWbfezyoa8oeSZ0BNGL\nVEqOC9nqPh85Ujfr/c5+Upyee3GG5TeKl0d4oBv1phnjW3HtIe4Zg8PiiU6JeiytnOIyx1Jn/Rau\nHyDG/CS8SMEPqDGymPJSXX19VSXoZu+/meNIsfKcyKyLUvrg+3Ov88rWfuWrMx96suhcnGwPkhb7\np3j9QloP+uE3ZKaQhrfEOvTgEv1+aAB24EJ8BP9dpBzRf/sQxBq0oR6/xn/gcgTQixq8WqQ8IgUv\n+uEz6k7Wm275vzD9nsdcjMe7EJaCF89jDh7Dp4rQrwfmGJBGGjrOwbP4OH6Fj+AFIMO2HrptfYZd\nYbXLvRjAX1CLGrxWsDzxfHgAw+5oQDs0pFW7eDNsnHzqMI00PIbNBiThwzz8sgCdkPG6Yczv8UMs\nwRX4LvrhM9YD1rky8x6n/WP9nh998CGFXgRxDCE04SkMDg9COJYhx2yDFILoxZuYZrEv5Ngj9TRB\n+Iz6yS4PAD6M7fgLpsGDJPoQwGl4xXK/B5nzerY6EK91HXjsscnoRwg6CD964EM/XsPJeBbnYgB+\nVOGvWWTJv3a7Lm3YAbSsjdLwwIMUPBiAde7LbX9Yf8NeniR09COAGXgFv8LHMRMvowchS51mK6us\nG9nu8q8H49CJA5gKAJiP7XgSCxDBIfShAmEcySJLh7RPTsE+JOHDAALqd3VVRvNXAeBe/APuRxSa\nZd7RkAYhxpU++DEAP/zod4zLQm4KPngxgN9gDs7Fs1iHr2MTvoR++Ayt5FpK6qjhdc5ACj5H3eqY\njj8jCbWwMZFOA3/8Y+b7oxCjjbAaCrIn0fkByftJnk3y7Orq6vdYrfJj927gUx97GX+LB7ABrbgU\nm+BFEjCIAjkRAeKh8SAJP/qhI2kMEPbJIwUvZuIVbMHF2IH5GIAfgJhwNcdgRui4HA/iNqyEfZCT\nMGWfh2cA4/f+BzPxPM62fNe8R0MK4bAPsTMfhm4b5GiTKSY+IIheLMAT6m75uRhcegAAk/AW+hCC\npurE+jhQTdCEDg1pTMXrFnkmiTUVr+MVnGa8kgv0jC5mq58FeAJL8AOjTcSgFEQ3AB3T8Dr+iBkI\ne/osv2c36qwy0/DhQmxHBbrVZ8cw1vabBzHJqGtYZFrrz/wuAPgwYLSrfYgQdSfe05F06OOc1GR5\npTEiDG4vUqhAL6biDaShIw0vdF1zyBjsf+t308Zkq8GLfvw3PobuVBBp1TxD6yc/E5NEyvF9IAU9\no49nq7Nsv2EaIpLYBQbgc9yDLPc7ZUmYfW8APjyOTyrieGgZua4U9uFUfABv4OuI28qevwzzSsKH\n11ALUZce2HXR8pCR/TffQI1DNw0RdBpjUWE6Sl2m4g14MIBeVFjq19kXh5Zjjge5jNpC9HLe49Sp\nUHn2Kw0dA/DCNASLlQV0GUS6eN6c5kRxcl/Baci+SVC4fgAwFW9Y7s+n/w3VLlbSpJSywiGj+Dqz\n9xWnvuWQW0p9lfP3ne1XinznvcAAKmCfw4uXK2Y6r2OeLFxON8WCZg52I2WZT4qVp2kaJkw/Bfei\nFbOwF39AXYn1B1yPGHZggSJgXkdNUfI8Rl2lDUsBxpyZve3zb99OTIAHSaSh479wFu7ADcY8jAJk\nVcDrlaS8GOtewEfxDM7DC/hoUXWYzjKGJOHDHOzG66jNokMu3eT/OuS8OwOv4EWcDkKHD/0G2ekc\n84cqPwDo0JBCCl7cgDuxHyfjFzi/qPJKmYl3PoovYDN+g7OM3xhq3oXjMztS8OJ0vAhBKBA78En1\nSS653RhjeW2fX/sQhAcpzMbzGEAA1k15TfVJzXIvDTs0uzxAQ/25NUjCgwD6MRlv4QV8DONxMKMs\n1nvs75n9P50GUimDvEIfHsencCdusN33Dqotspz1qSFTVxMhY8O7F0G1phJIZ/m+s53k5zom4S0I\nwiqACA7jFdThJLyJV1CHmXgF2Z9pZ5mdc20ahzBeffcVnIYzsBdHMB4hHMUxjLHcn4IT+zE9Q386\n6jqIPmPcFqQTjWdAfFeUDepv2vjN7P09CR9m43k8iwbswgXoQwBJ+DEd/4M0dGiKmJdlt26cyiuN\nffgg9uPkjPJA14GZMzPfH43I1xXreLjghgTa8PDDD3MlVvAqI27fZ0n4qBnhRDLeWCZEly6I1lhu\n4TI6oOJ2m7GDgEjCbg2zEAn47LlwsrsOZ3MrzZbU2vzcqye5aJE4QW1w11ERHmY9khVZXIBlYmy7\njpmurhGVxC+ZEaMs69MZc65nlCXTnRQ2V3LzMxGHbSTgPP+gowyynPa8SjL3gUyyaa3Dxdiiknaa\nug3mdmx1v7W7D4ucWElHYtN8Lxou0CLPllcm2vce4KRJNOSneIalD+aOv3e6Z4u2CKLb5tLs89Go\nw1wycv2OtQ7tn508ucf2XmXWcM7MazL+ksNN2+lmPViZne87XaalnGLCJ8w8aEJevnrkd4lEssXf\nn9leudzS8+uL2d/Lx+09t7xMF/dSdMylX7nk5aqHYu7PFs5bLl3LJa/UPiN1Gc6ylrtN32/9hvP3\nS82jY9UvV1j++30NVn/F1KldXum5Cu1tMQkHLIfdFC/PfoBFmqXl7RLlluX0IvMk18LrThyaaS17\nqZf1pOHMHEaFlz+CTko7sg57uQhbi8jbZV7yYJDy9BdrOVPMftiQs+zO9so+/lpzRxaf/9Gu3wJs\nU7Zb7rxvg/UnU8fz8AsVYmZvj0LnJ7PsPvRzJVar8DTNtv5wyrTa9bnKIvq0POHah16VEH6w+sq8\nMtPPiDQRKZUXVx5IYNc1V1vbX1vD+nQkeR5+YemfVAdT5O438tkz+18Q3Vxk5NpypkwI46jjMC6n\nvtn0ThuHQXRTPkdAWpVf5g2bhDeztJvVnjfzE8tE7DGsEF8IhU6YHFajzcNKxhLkohtnGH9fyfH5\nqIKmadiBtajBa5iN/8IA/BiLI2jFd7ATC/Bl/D9ciX9DA9qRrhiLtDeIWryKOK7FZ7FVMcxeDOBs\n7IEffYjjWvw3PoY2rMHT+F9Iw4MIDiGEY/g2voqdWIAGtCOMYwj506jBawjjGBbiEYtbJQHQ8FrR\nDM+lzBCk8/AMfOhHje9teP0evPMO8OxesaNfi/2W79Nw09QxA6+AADbhUsDYKZ2D3fAgjSB6sRg/\nRTXeRi1ew0I8irPwXxiDoza9RKiewDGMxRzsAeFBP/w4xyhbHV5CBbrRinsB6KgdewgLZ7yMBu3X\nxq4ZVVlEeJ7434sBnINfQ0cKW/EZeJEyQmAEw/8XTEMDnkU//Nj6ywnweACnRxfhgQcDiOAQAOAQ\nJuAkvIm/GB4oE/FXBNGLBjyLn2ExbsCdqMHr0NQuEDAZb9n7CtIQuxG6IVe3/KYGIAVCgx/9+Che\nQC1eRdAzAJ+eQh3+gFq8qkIcvRjAOLwLAIbXGACk0I8gKnEIKfiQhB/z8DSOMYyDB4GGBmBnQkft\nh/xYiEfRiu+gEkdQh5cwCW9DM3yxZJ+BrS8Bp2A/+hCAF0nUht5BXR2wfTswMHYCaiOHMAkdqEYH\n6vGc0N1w75+FvajBG0p3GPKn40/wIAUdRBhdCKML8Wtexf63gqif8ibC6EI13gagQ0cKJ2M/guiB\nFwPQkYQGohKdqMWrqEQn3sEkXIgnUI0OBNGDcWOSWLgQiMeB6mrA6wXCYQ2V/n5UowNhdBmu6FDy\nhGu2bA/N5vFXXa2hrg5YvBjwenWMCwgXcS8G4EM/JuFt+AwPSh/61Gca0kYbafAq13fAgzRq8Spm\naS9B19II670Yh07oSMGHfoxDp1HWFLwYQBhHVdnMZ1v0nyr8FccwxmhHIogehPUem05y90q0c1KF\njMrQVs3m9aBjAbbbvN4mhbpQjQ6MwVGLjKQKP5W6wnKPaD/Rf3Qd0IxNtmAQGDcOqK7WMC7YY8hI\nKrlmnQk5AcNjswdjVJk9ll2zoGcAYV8/avEqwuiyyTJ1TCpdNKSN8NRs0FBbq2FcoAfj0IkgelQZ\nnTr60Icgehxh2cj4P+gdAJA22rYva/3JOqwx+rMdmWaEpgG6rkE35GbTUUfS6J99qMbbqu9Yn0MZ\n2uv1CnkamKP+hH6indOoVn3LHt4OCM/Zcf4eTAp1OXSz6+hDHyrRqcrrDL2VfUbTgHHjNDEeot/W\nBk4dK9Hp6NNiDPNB9A9Zdp9PyLO3b/Y2ts4v1n4yaZLoy8GgqDuvll1GtrbWkTLGoH7H7/WrZzbb\nPTpS0LU0NE1T9ePzAcGgBp+eUrK8EGUbqnw6kgj7+hEMapb+JAI8G9Bue67D6MI4dA7ah3WkUB3q\nQmWlBq8XqKwEKis1HNbGoUH7tXqmZHtYdbSW3a5jyjY+ZfZlDREcxjh0qjodvO7TCIczvR7s3gji\n98w5Z7C2Ff3M67XLCvqEd7KYyzrUHG6tP6eOQXSr/qaB8HiEt5GOFI6gEocwDmEcU2WtRoeaN7Lp\nGMZR1FjmY0BDN8YY4UyyzNK7QVP1XIHurDpWohPV6EBloAfhsBgvfOhDCn5Mx5+N0D2zHnWkEUaX\nbd6x6hjWulFdraGmBgiHhUbV1cC+fUA8bnp/hHAMERxWsp1jqfwrx7pqbyd8PtHGYXQhgD7MxvMA\nAD8GVP3VYj90QLWzLL+wDajGlKDWByCt7KQpeBM+DGAAHhzAFLyDiUjDgzE4ikp0Gn2CNpmyHwXR\njWqPGPMq0WnYjV74MICpeBMa0sq2ke0rx1pxf4/NFhLtcggNU16Hppn9Og0vvEgigi7U4SXIiAZp\nBwj7X86j4jOvJvqBzyfmBI8ZwWZ8S8j0og9yeVuLVzELe6Gr8DbZr0xdxuAIzDFU1EcaXtTiVUzH\nfoTQAz96QYeHozlv26M+goZN4PSS+hU+jnvxD1iIR1CjPH9h6eOwfd9q91vtcdkXpR63YRUA0Xcy\nowHSmIW9lmdI/o4uxmqHZ5PH+J1+VGAsDmMAfjRhF7bjk2q88yqbDbZ7YZPltAtSeAtTcB5+hX2Y\njpOxX61HMutQvpc7EiQJHz6JJ4yw1xSakYDVC64bIQi7Nml4ejn1Az6AN0F4jegUDR/HM7gWd+Np\nzDNSd+jG/E/0IoA3lNejDCO0etkJ/StwDACUXTjeWKfV4FWk4cEUvI5XMBOL8VO8gRpMwlvowEkw\nI5usSIt2AqGDaEA7HsYlWILNOBu7xQNw3XViAXUiIF9m63i4AJwK0eL7AOiOz8YC6ALQDSA8mJzR\n4mG1efNmAuA8bGAEnVyJ1axCBxNoNBja68nJk8mNG82bbriB9Pm40GCY5+Hn1JDiOiznQmxVXlYJ\nNLISnQzhqDiSE41Ctt4sZBiIXb2fidOuYlz/umKddQwYR9jKkwul11fS4p1kMMmnXcVYjEwkyNNO\nE0fYtraSAb2PYRzlYmxRux5e9KtjVr3oZxhH2Yr1DOMo41jOCDrF0ap+vzh3feNG5YHjNzytxCkN\nKc4wTpyYgtdZhQ7Oxh51NGoCjSSMExrG38HE+r1Kx0h4wMaUey0nRNRhL6PYwBhWGEnr+/kh4wSS\nBdimjg2O1T3AmhrzOPdgUBxhWxU2Pbz86OVKrGbYknRRM46nlu1ThQ624ttsGfNzxq7ez/p6UX/x\nOBn7/K+5MLhDHb9aj3Ym0Ki87ObgObVbpVtO1lB1uHGjKjPb28n588lQSDH/p+FFLsYWhnBUJXat\nsCQa9KCfFehiUO9jMGjIkZDyxo8nQyHG9BsYxQa1eytPbRlnHPEt+9IMvMyo57tcdN5BtrQ4Hob2\ndpGY8LTTyMmTGfPdLPqqx8OE3swqdHCWLnY9FmCbSo5YiU5G9Y3kqlWZ8ubPZ6xiFRMVnyLHjhXn\n7wK2I3zlpZ63UChTlhNStu9mdRRvYsynGR2zSe0oedDHKyb+iA1nHCEg2lQikSBjMUPO3LlKL+eV\nQKPa+Znv28VIsJeacdT5grG/EvXV3m7K27hRjBfySDhdp/V4uITezCrvuzyrpoMAeWbFi/RrwpNu\n2ck/Z2zqPUw0rWHs6v32dh47ljH9BiZCC8kFC8T4MX686kvSW3KyVyS6bvVtFJ/PuY6VYwa4aJGl\nvLNm5SxrFTq40DiyOYwu2wmjixaJeguHmb0/zp1rK2sUG1iJTiZ8FzI+ZpWSA6Tp142d2cm/JZBm\nOOx4TmRfsciTY0Lcs4IcP54t2mMqOSmQpt8zoL6u9LM8d9nKLMsdQadxwkzmLmUwKI7djl+zj7EP\n3S+eubFjc8oURyl3Kg9J6+XxCHk+H802oaXfeDzi8vvJQECMwcuWqc8S3gVKT79ffKRpYrxXsqzP\ncm2t0DMQEDJOOUX0I+0CMhBg65gHjXlFlHdOxe8JpBgOJs32dYw1DARsuiUmXcIqdHBB4OcERF0B\n4ucAcvFiMTZHow7d5swRfzduNF/PnavGHinvpAl9jPi6GJ+2jrGPbWJi/V5Go5byWvUbO9bePoEA\n6fMx6vkuw+hixNfFti+/zkhE9GOlU7Zx0KIPQyEhd8IE8b+jXej3C5cS63cjEfGZ1yvuq6tT48WQ\nY5u17Xw+8fekk0z5Pp+Qv2BBVnmxq/cz0bTGVseJ2V9nrGKV0G3uXHHvnDmi7uT/OfSzzWPGHJEY\n/znG/CuFvFmzcteTYTvFYmT0M2/Z9Ipfs4/BINl8diervO8y4Zkv6mzsWFPG5MlCX4d+9fVU48b0\n6cx4dtv025gILWSV5yAT4z+X2S5+v5Db3s6WFjE/xOPmsyrHkopAkonTrhJ1rmniA49H/G99uL1e\n9RuxGfczsX4vW1vFR+PHC93qxrzKKu+7jM/4jihvxacyxjnb5feTJ5+syr14sfVjuzdLGEe5DA8q\nW055F1gHH0ufSSTIqioxdmhamh+p3K9kfWhqN/1+cVsAPVyErcouU/ImTLDbxaSqR4loVIx3H6g8\nSpHwuYcB9CgbOWuZLXJjMSGvaly/6r+t3vsZRhd3jv8cGQiYtkQoJNpz7lwmKj7FFu0xc740+kz0\nM28xeuoOJmZGWRU4zKXNHdSQ5lnj/8SQfozxGd8h584Vto9aA6wgNY0JNDGmmesB+Uwk1u9lxNfF\nkN7NgN7HoD/FxNcfYVoOgINdljZJrN/Lqiohc+pUow8ixYX6o9xp6CITUc/G84zqGw1PuxRbPRvI\nBQsYv2afmg9aWkT9x+MWc0QTp7VdadRZHfaq9YmcC+uwV3mqaIbnymLPI6yPvMhwMEmvV6g856TX\nlK01Cy8ou0H2yXHoZIPWzkrjpDrr/Np66jbGrt7PeJyqn517LhnSuwljvTMdfySQNjx2qObTkPEb\ns/ACo9p9rNd+zVnai6wL7Wf1uD76fOajWlFBBvVeeiDWHDL5t92TynrIijjJk8Eg60LiefB6yYUL\nyZOrrN7hSdvfxdiiPPVkf2zFempIsQHPsF5/jj5N1OmsWWKOnD6h0/YsN+AZRrFBrS8WYBuD6FZX\npvdWSo1TtbVyOBKfSXtfjgsJNHIlVqv3xHrDXGtmP6SC6u8E42Cu2djDKnQwig1swVZG0Mm/N8op\nPaLkwWAhTUSZOD0OpVeaB/1MoFHZrsvwIK/EBpUUfgb+wDCO0o+ejBOl7cOl6fEWRDfbLGt4AmI9\nc5wDJ+opgaLs2G6QVl91vH+38f6GoWSMFsLqBz/4AS83FiyV6GQCjdwpX/uO2RdlFsTjYoCI13+P\n9Hi4DsupIcVz8Iw6HjSGFYxjOSvRqY4qTcy5zr6wMJBImAuZZRd1GKF0aU7GS4Y7ppg4xGku4pQY\nL/pZr/06p4EZjZKJOdeRxuIxjKMGkSFOdrgSG/gpbGUVOoS+2vVMBC5irHm7rZxy0WEt93nnkV5P\nkkvxoDoZRU54YrBoympMx2Ji8A+FxFURSDKMo6p+WvCI7ZQHOZhNwetCvt7MquAR1S5SXiRiLqAX\nLhT1OHu2EDPfIFfGGuRhHMvVgBbHcrZMfHbQPhKLkYllDyiyKWSQfFFsMCZicRLkWcZgHsdyxibH\nB5VJkly1ijHtG4xjuYW0SqlB3no6UcaCNAsSCTLk7WVcu1a1dwSdPNdY1MsjaFvnPCv6bh4qWiH7\nwvz5woCMn/mgML7PfNAkWIqBcwFbpOuuNMCjUbOPVVQYZEOc9kVuAaivF2sRuX6QNr/Px5zjw2CQ\n9Sh5o1CIbGsTemZdQA8BWe7zzxfyFizI/DyfcqtFKc3xCGBGX0kk8qtLZdAnBG8QDotnUq7zZJ+O\nx8VvFVN22TZy4Sr11vX85CUSVOSF5AGca4pgcBByIwuiUVNWNh7U4ylMnoQc6wIBIUeWu6HBLH8h\nkP1G9sOxY82xPt8+I/WKx0WZ58wRMs47T7wvF+z5jF9WyHnmS18SOsbjVIu5YhCN2ucI2e7F9DkX\n5YHsf9Y2KaSN5fgi+9jMmeZiRo77ckzIp+/JccrrtXNRwaCDXC6gfKEQedZZQo4k1ebMKe15lc+Y\ndfEWDpv9O996lM+nHN8TCXMh6PMJmZJMKGauk89YZaX4LTluBQKFPc/Oeamqily7lrzzzsL7jBVt\nbUKfj39c/F25snAZ1t+X8ioqxOt0ujBZspxy7Js3T8hrOOMwU5csZbTqh4z4urjsog7Vf+rrRd+0\nIh6n2oxMJET9y3nI4yHDwSSfbFwjFvK1tUzUXM7YxzYpElO22bJlps0jbROpHyDmosoxA5wVESFg\nPm2AkfCAsr3kPfG4ucnV1mbf8JK/N2aM+L1IaIARdBpklRkeJ09TnoPnhI2tf922TrHWYTRq2v6f\n+xxZ6TmiTgX0GORMJd5V66gwjrIBz7AS73LRtP+yyVu4UOwzVFaKdp0R2G8hSQSBsgDbGEEnwwbx\nlzaMppap/51hY8u2kXXoMQgvSeCmITbmpO3fjB0G+fVterUBZZ/MmCHGKa9XtH80ao5ZU/CaceJg\nD73oVyRaBJ3U0Ec/jvLOyXcy7BHEktXmkbbQokVWUkisSXzoZRDdXIvlnIgOzsYG1qGRmwA2h58h\nQE6eINZCZ5wh7hVEvbl55STaW7GeVehQRPvtWE4fOum1pZYhJ060j3c+n7AxPB5JcpJT8Zo6sbEN\nq80vf/GLhT2IIxAnOmF1KqBiPX4C4A4ACeP1ywAmDiVjtBBWT991F2/FCpvHTRtWC68Rz3dzLp5b\nWowdd2MnhoAgP/CIir9ehgcVgVGFDiYCF+WUZzWoEwnS708S6KWGbn4MewjLUafL8KAiwazkTVa0\ntytPgDaDYZd63YzVnIAOJiZdknP317ljRgojRxow35jzfa7FP9oY7Z1oZEy/IauXjHVCVBNWoJuV\nOKQIJEmAJdCodj3COMrEmE/bvVkMWA0aCTlJXlz1GGF4AkmPtwg6GcdyRrFB6D0zz1VLe7vY4a+5\nXHgB4HpFSDZjh0lWeW7Mm3RJrN/LKv0d225MCEdVuX16Mu/FrXMXPDEzyrDeTZ/WzwB6qCHNj5za\npRaQhSIWIy+7TIyIbW2G/gUsbIcbTsNWOsA0N5dm2EajpuEOkGvWmKRNoTKlHjNmmAuBsWPNBX+G\n51Ke8uQCQHrcFEpGZpNbUWE3wItFNGo+7/K1s08X248UMW/RL19CTd4vCe9oVJA/VmIpqzfUEJDl\nXbRIlFMaktJ48/sND84CyyuNXJ+PnDbN1DMcLk6e8l6oosqRN3164Ytp67PV0iLGFutzYV1A5Ssv\nFDL7sLX9esVkAAAgAElEQVSPFzvWZJsjRtLYdSKiHG0in4nWVtP7U74udHyORqm8M+Sz5fWaC7dC\nx1QrIVRVZV+4LVtWmCwpTz6vkvyRazJJOMm6y7cerfadbA9JYEtHSkleFUOwWzcspNOolawo5vmT\n48HKlcXP6VLGpZeK9rnssuJkWctYVUU2NZl1JQmrQsqpNsKNNolGRVssWmSf5/Ml/Kx20BlnCNmh\nELljR+7ySJKpqsrcSJPznyzvBRcImfPmic8loTBvnqmXLPdgmwXy86VLxf3Ll5Otc54lkOYYHCKQ\n5ngIb/SZ+APD6GJ85r3C4y5H2RctEuU85xxhu7Seuk2tlyLoVN46PvSx0lgLVKGDiZbsjST1ragg\n/d6kIzqkjxXoUmQVAabC4UHtfylPkojNZ3cyoh9WuogoCfv6MYSjbAj9lpGIaBPZB2QdKgLMQ0WA\nyXVOxFjzzMMG3oRGLpdrrGv2KVJSjkly3pXy/H7yox8lvbpwmGitfIjfwAr+PzRyKVawBisILGdF\nRYonnSTuOesswYV+5StkTY2wqVpaxEaYHEtPHf8OWz0bKKOEkgBvx3KDHFvO889P2MY3OR5J2072\nH+l9ucyziV5jQ16uxRJo5M7ARaVtpo8QnNCElSg/agD8XwAHAPQDeBXAPQAm5HP/aCGsuHQp05bt\nNEnqtGG1eFKWLh303gSabGSN9MCZbXhCzcPPxaDjuz7rjoCE1XiT/69Z8wueYUne7kNvhidT/MwH\nh/Z0aN7OuO96RcZVoYPzDQZflTOfMCyHrrfeeivPAZjy++0J7uSVJdFdzgXmZw4wNmYN0wbxB6QM\nF2CDvNIuYFXgcF4GhXUBFZvyzzaPKklaWQe1Yhn4xLIHhAxNzN4J7QLxetkDecuQdRm7er8IE9D+\nygWenWpnoVSyRRoWbW1iAgfIj3ykOENx507TiCnF22G4ISfwSEQYxxUVxRncpGnwaZrYtZOegYXu\n3mfTTRos9fWWsLMCF+XWRYyVIChmB1/CSipLg9VqcBaKkU4WZPMEk8bgoKFjQ8gjBRkmF76A8H4r\nhZyTxKZVpnOHvVCZclF9/vk5wgvzkFHO9h3p/cXFyEE2wsXpYVKop6AkrKxeVoU+E/K3QyGTABJJ\nyIUnWDEepdIOkGGBVm8o64ZAsZD159ygOeus0rwRrZsfbW2l2TMSN95oyitGHyvpE4uJv+vWFaeX\ntTzbtpnz5c6dhZfVuUHc1yf6nq4LQsHpkThUn7RunkhSorKSvOKK/MrjfC09tsaMMUkq2f+kR5iT\njB1qPJcE01lnmXObz5OkVxvgVO+bBMgJkX7b3JSr7NJ2kV5czc2kZgmLMw+aEmufBJpY5esUzgc5\n6tI5LvgsIW4eI8yxAl1iLZGHR481yiQQEPpd5dnARdhqJIRP2TyPxOtv29Y/zjaR/dn0ikozfuaD\nfA5gEzbwI9jKW7GCScODax2uZb32a4Z8vayoELpYveHk/9LLvqKCjC94jDHfzUwaFWglmf72b7sZ\niZi//5WvCFLUutEk7Sm5foh+5i3Gz3yQbeNu5yZAkV/ABvr93Rke79bNXOeGcWLZA0Y4qlgv7jCi\npCL+3FFSxxNOeMKq1GvUEFbSd9RCAtliYAcrp3Gv8z6ZR2gWfisWKZN/y0h4oOAJ/9Zbf8lxhlwZ\nymYlhBJoZGzqPUPKEbs2ad5Wdx/3Avx7wwNsAbbZY30LPEnhoosu4iZj4GK2ayjCz4pVq8hAQLjT\nAsbJEILwk7rJPFhDwTZBLl1KapotZ5LV0yymfaPoELRYTHhIWcPZ8tUxG9Jp0608ELATQ8USI3In\nUhoCp5xSnAfOYEbMSIN1l3LJErM7FuN1JA0+WZeXXCJkF0sSOA0Na5jESCGEnB5R0kgd7eFTpXpr\nOSHbesECKqK4VO836465XByU8hw6d/Sdr124OJEgF7xWDya/v7jnyxoSKxdyMixQblAUItcqTy7e\nrK9LHZ+tC19JMJUyd0rIhepNNxVvz2TTs1gPKyvhsW2bIIV27jRDDIvxVJU69PaaHsQXXFB6efv6\nxN+VK4sj6Kx2oLQnYzHyjjvyK4+E1N9KCHk8JqGweHFxHt5OeR/4gJAXDpvErPRKdHruDqZ7ImHq\nFgiQ0bOeYyJwEQPoZgDdrECXiOpY9kDexJ85JqR5lb5B5ZTyoc/0sMpjDeW0AWVonsztJtd51nVK\ni/64WGtkaRNrmSXBJDeyKioqWIdGTrSu82Dm7Qyim7F/2Mcf/9jcpJQEk9XWCAWSIkLIscaLYQX/\nDuupaWledpn5fV23283OTVVrHTyyciWXYgX/PbSQN6GRXnTQ49moInlkG0pSzdnW6v/1exk/80FW\noIsXYzU96OQXvvDu4A17nMAlrEq8Rgth9c6FFzIJa+6lRvVAV6GDiQtuzX3z0qXKErEOLnIgAFKs\nrn4zgx3OBz/+cSeBDt4WbGFK0zL0U6NCHt5B5s58F89XjP16kVPLKrcQgonk6aefzt25yCp55dNP\nLGGLNDysNEsy+7hnRd7eX7lkK480w9tK7lzE679XnNxhwM6dYtIIhQrPR+GEdeG5dq3d8CxmURqL\nCf2sGKleD1YvJr+/NA8r66QoycQvfKE83iPWnedi82ENB1wPl/LA6r0kiaXW1tK832R+rIoKe362\nYtsmW8h3oSF8LlyMFsi5Q3oYyTxxxZJBsZgZZiw9tmROrGKI8JYW4Z1hHT/iceGlW47x2RoKJOtA\n5jAqZsyS9sujj5KpVOkbXfL+xx4jk8nS5fX0CFIolRJXKZAEmHVeX7asuNQBEn19ZhmL8WzPtdGY\nKyRwKDi9fJubTWLJuumR7xxnJVusoV+LFonfkJs9cv7Md66zbgbKMLdIeICVvi4mZkaZaFojXufR\nr2Wdydyo4TDp1/uV55PcDM83usJpX7WddL+yz5uxI3t6mrOeG1JH6dnX1mZGBZxxRi8r0MkdDrKq\nBY8wig2M41pW+Q/z2mvtoZ9OeRFfl8rx7Fzj3YEVvLRmlyJUL72UanNcRbrksimbt3PA7+cOo7xX\nYAMfRSO/OP5WZRdfdZXw2Bo7Nj97Byq5/Gr+4Q9/GLI9jge4hJVLWJEkn7rzTnYZTLHzYUwMFf/q\nIEOkJ1Qr1jOCTvqM0w58Wr84OaSAiebGG98l0MhzAPYYsUMZYXcFekR99KNbFKmW4akl5RbQrjff\nfDO3A8orKuvlzACdDYYXlJWskrsM6nUpO/6rVpGhEOP4R2pI8TIZG17/vRHjJWSdFJ1EVbG7fnJX\n49RTzUlbyil2UVpoItH3C9bdoXKEIcj7V6wQrvCl9hm5s1iusDsXIw+yD5YrF5O1z8hxwfrahQsX\npUE+s5pGfv7z4tmyhoAXIy+bx9ZIfWZjMTPowHoYSDFJ56W8RII8dMh8r5TND0mwd3cLwoosjWC/\n7TZy+3Y7YVWsfrLvtLba27wU77ft28Wc8eST5m8UczCB9f8nnjA9rIopq/SY+8Y3TJvVOacVKtfq\nEWUNT7MSdYWQVTayxUgNYSV60+n8vaczCCZj4/KsmUdLjq5IJAQZFEKXyoUVxlH7AWD6kSHHi2x5\nwiThHJThig7HDPn/l8b/LMNbO0PejKh5+rljjZdAI6u876q6rqw0048MmqvP4ajgXEcv/PhB1Qce\nfZR8+GEzL2iuukis38ux6ODfYTXHooPfaxuBg2wRcAkrl7AiSf7kJz/hLQC7rcfPF5DTSeYx2mnk\nMdph5LCKYj0rjCNoK9A1ZA4rJ958800aSfB5C8AuWELvCsw5Rcodh8O82Hnkp/Uq8ESF1DPP8M2h\nCKv584cWZAnLdJ4SSIDxaetK3/E3EqYvmyAG57Yvv05y5HiODIdXizXEsJhcD9lQ6i7kewVnvHwp\nbvlW4uHdd8ktW0pPAn2iht2dSBiO3E7lDFl04cKFHdGoWNxaSeZSCRurR4rMW1hK3rnhhCTYyuHl\nTZafsJK6PP54eTysHn/cJITK4QEmk6Q3NtrDKovdcP3Wt4QuVrurFDumqkoQVgMDxZU1l8dWKeRr\nNoIpHM60j/L9nXxOhC1247UUb7dssiIRcdLizsBFKkzPh16GcdRMTbN+75Bt7rQ1ZJ1ecAFZgU5W\notOe6kZFs1xLDSl+/OP2qIsM22XpUia0CzLyFFsjkeRvyrFjyPBQi6OCvGSk0s1YraJ9EgmxSfy1\nrw1e53It/qRRPum1VUhO4ZEKl7ByCSuS5OWX/155Mj05aRI5Zw4TTWvyPllAxs6mLrmEzwHcBvBO\nLGcQ3WqQkCfTDXZKoBOdjz/OTQB3A9wE8CsAf+jzKTa/EM8qOcheeOEdPAfgo9nCCwv12DK8lgYl\nq/L12LKEVpZKog2Gck42xwOGo7zHA2FVbqMqFhMLjMpK8ic/IQ8eNBNSlhIqUm6C0oULFy5cFI9y\nj8tWL8iLL+aI9rAqt5e3VebWrfbXpS70q6rIm28uXdZtt5lJ12VOrFI2or71LTOMzestLR0Baeaw\nKpfdJevOmk+sEAyH3ZKNYJJhgcX8znDZVuW2K63hvb3fWGVEgVzLerSz2Thsq23erpL0TKfJLefd\nrJwn2rA6g2y6pLkjw8MqAw5vKHnFsILb9Gamf/UrRc5XVpqeVYOGh1ocFZweVlXoUKfCk8Kbb9CN\n9/Z2xnw3Z0ZJoZEx381F5ykeKXAJK5ewIikSmwMdBBoJoOhBKJ1OEwB/4PPxCmywxfvKk+mi2JBf\njqhVq5gOhWynMXQB7L/xxqLKKAfwtrY2AuD6iRP5KBp5h2TLC/XYyjF4FU02DSavwLDHXBiOnaGR\njOEq7/FAWA2HwSIXHmPHkldf7YbwuXDhwoWLwSG9Iq3hTaV4bA0nhnOhP3FieTfOyuU5vm2b0OlL\nX+LQi/Y85UUi5gmuy5aVZntJwkqGP5YDN91UnrorF46XzbvhILNlvzh0SDg+VAUOMz5tHasCh9n2\n5ddLJhXTv2pnInBR5snoBtkk06LkFXYpnRQM5wK5Lr0FYNLooLGY8Fp8+217ObPKtDgq5MwhHbiI\niWUPDO1hlcVby7YOLSA380iES1i5hBVJ8oknnmA4vMggrVaXNFnB8IjKmg9L5okaqt4GIW9SFRUl\nkTcPPfQQTz75ZDY3N/Mcw3OrGI+tQQeHEj22ignLzAfHy6RYLgxXeY8Hwmq4kEiYeQEqKlyyyoUL\nFy5cDI4TbbMsG8qZmqCcnuPd3cIm0jSRHL+UE1KlXgsXZoZEFWt7lZuwkjrecMPx1QePl9yphSKR\nEMucSy8V7bFunZ04KnWs2Nm0JjsRhEYm0MSqwOHCxqX2dnLpUhX5cw5E2pq0pYGOHbMTVoPKMta6\nudbMMpn9D9fsFaReLh0d3lpFRfqMYLiElUtYKXR3d1OeLFDKhArjIU7memjy8TgahAxKl8gUd3d3\n81//9V8pc2MBKE7QUIODJKsKJZuMwbAoEs3FsMFKfpWamPR4RiJhHhscCh0/xp4LFy5cuHh/cKJt\nljlR7rw/5ST/ZA6rcnhYxWJmeKE8ha+QE/OyoZyElayr7dsFUXc8EaejlbAiRZ+Tfe/OO01vTGsf\nL3asuHPKP+d0nohhBRMz7bGq+f7Wiy++mHMd2dWVJ2FFDppaJoYVjGIDE9oF7GxZqnLWZc3Z+R6l\nlXm/4BJWLmGlUE4Pq3MMN8miPY6GkSl++umnlY4yP1ZRxNBggwNA1ta6ZFMRGI5JuRwyrYZNORKT\nHo9IJDITg47EPCQuXLhw4cLFSMBw5JMslfyzypA5rCoryebm8uSwSiREUvNi9bOinISVPGHRmgC/\nlBMW3yuMVLu4HJDPg/TGu+yy8trW6aFC5Yogcg5v386HPR6blxVp9q+jR03CKq/+1d5Ojh+f4WVl\nTaVz7PQ5g48d70FamfcTLmHlElYkye985yXKHFYzZ84sakKVE2BdXR3lqX6PopEx7XpzYMjX42gQ\nMihdIlO8cuXKspw4ONoHh/cL5Z5EyylPPhcyMemJRtTkc/KMCxcuXLhw4UJgJHqXWW38xx+356Ms\nlVDr7RV/rYRVKRgOD6uf/tT+eqTbcqOVsHLWv9XTqlxIf+UruR0LilmrrVrFdEVFRn5lrlrFeFxw\nY7ffTv7pT1Sv8wqxXbqUT6IpI3wxgG6GcZRfq/3R0AdAONLKJGGk0SlTWpn3Ey5h5RJWJMkvf/kl\nyoTrL7/8MsnCJ1Q58EybtsxwkWykFx382Tk3FB7eNggZlA4ESiKDblu0qDTvLyuGOeeUi9JR7km5\nnHkojjeMRMPbhQsXLly4cFEYpM3e2Jh5eEop83q5Cav+/vLKG44E+MONkUAuDQesNqXV06qUEFIb\n2tuZHuxwrK98pWB5QzkqSJJq+vTC8sH9Yu1adiPzpMA4ljOEY2rdMSTJaqSV6Tj5ZG4C+LZkZ49z\nuISVS1iRJB977DGeA3D7xIlMz55ddO6kxPq9rNT+yr/Dao5FB+vQyBdffLE4pVatIr1eW1xvGmDa\n5yueEGpv51/D4ayxwopwKjQ/lptz6oRBOfNQuHDhwoULFy5cvF+QG3A33VQ+mT094m85CKZYjHzy\nSeFdJeWVY5NspJ0SOBRGK2ElMWyHMixdynSucEBNK3y9N9RhW/PnkyTnzRMv583LX/Qvm5vZZ6xz\n22Q+aaxmwjOfkUA3/X5x0FG+aTguv/xyAuAbb7xRWBlHKAohrHS4GLX40EMPYSeA5oMHof3mN8Dm\nzUBzM3DLLfkLueUWNF0/F/+H38G/YRWuwb3Yg6dQ/e1vF6dUSwvg9UKzvKUB0AYGgHXrgGefLUze\nLbcAzc2YeOyYTaYN6TTwxz8WJrehAfje94A9e8TfhobC7ncx7CBLl7FrF7BkiXg01qwRf5csEe+7\ncOHChQsXLlwcL/j7vwfuuQe4/nrg/vuFLbNrF3DXXaXJ1XIa2IVj7lxg6VIgkRCvpR02d27xMnft\nEuVtawPuvffEteHKYReXC7t3C5u6qUm8bmoSr3fvLlHwK69Ay1VQsvD13iuvDF5xiQTuvvBx/PKX\nwLx5wC9/Cdx9dx5yn30W9U8/DT+Ap9CIe9GKNqzBPbgGF6d+gJ/E96G1FejpAfr781P1jTfeAABE\nIpH8bhhFcAmr0Ypnn8X0H/0IYQAe+V46DXR3508MPfsssG4ddnXX4z7jQbsPrXgOjZjwb/9WOLkE\niJm0ry/7Z7294vN8YeiH7u7cZBUA6Dowc2YhWro4DlAOA2rYJlQXLly4cOHChYv3CLt2Ad//vrCN\nPvEJYNMm4LOfBS6+uDQyqNyQdtallwLf/Ka5aSjtsELhbjyOTFx/vdmmkg9qahLvl4SZM0E9B31R\nzHpv5kxxXw7cnb4G1+34JNZ9dT+eflosO6+7Lg/S6p574EkmsQuNWILN2IwlWINbsBQPgwD+67t7\nsGmTIFn9fvHsZsNdd4m+TAL19fXw+/3Ys2dsyST08QaXsBqtuOceeHJRtvkSQ/fcg13d59getM1Y\ngiXYjKf6ziuMXJIYjMku1BPqnnsENT0UgkHgmmvyl+vihIF1QpUoy4TqwoULFy5cuHDxHmH3buAn\nPwG2bAEuvxz4+c8FeXXJJcWTQcOFpiYgGgW+9S2gtbU0/Y7Xjcdyeq2dKLjrLmDX+W1iXWdgFxpx\nF1aIF8Ws9772NZs8J57EfKzDClzbcSMA4NprBWn15JNDyH3lFegkdmMuNmMJmvAUAOA+XIVbsBqr\nfvcFRbJu2QL8+MfZSda5cwUBm0gAPT096O8/D0uWcESR0O8FXMJqtGIwl8l8iaFXXsFunG170Jrw\nFDZjCfZwTuFul8DgTHahzPhQbpwAEAoJKtwN6XtfUW435ZHk9uzChQsXLly4cPF+Qm7ANTUBV1wB\n3H67WLvfd1/psqXNVartJb1FZAjfzTcD//IvIpSxWLgbjyZGOwk2dy6w5JunY9fn1wOhEHZpF2AJ\nNmOu9nzx672GBnFfjsp7DItwLe62rXmvvRZ47LEh5M6cibSm4XqsVWtoiaTmx88a43mRrPKzpUuB\n+++fBmAz7rvv0IgjoYcbLmE1WlEOYmjmTFyvxzMetCY8hRVYC0yYULhegzHZhTLjQ7hxorYW2LkT\nWL26MB2HGSci2TIcZT4R69GFCxcuXLhw4SIXdu0CvvtdsQYvVz6nchEhc+eaYYqbNgGNjcKWe/hh\nN4TPxdDYvRu48Ubgkse/jLZLXsYS/xbcOO3fsfujf1faem/1amD+/NyfFxNq+LWvQa+oyPrR9RXr\n0fQt++8NRrI2NcHId3UdgHtx7rm9hekyCuASVqMVX/saUn5/9s/yJYYs5NJdWIFdaLR9vOspDXfN\nf6IwvSSTHQrhLu167EIjUgBoMOO7ehryj8sdjPwKhcQM6HpWjVqM9p0kFy5cuHDhwoWLfCHzOf37\nv4uF/UjL59TUJDxFSOCpp4AvftEMYxzpIXzDATf6oDDMnQvccQdw0UXAbf93GlqWRHBH79cx958u\nLX29t2aNWDtmQzGhhsZ6d8DnQ1ouWHS9KE+wXbsE+fyJTzwNoBXPPpudCBvNcAmr0YqGBuz/m7/B\nMQAp+V6BD8pdTzcIt8tAAHOxG0uwGXdjOe7CCjyFRiwZeAhzf/lPhSdfX70a2LkTcxvH4G+0H2AV\nGpHctg27GlcXdlKIhfySnlYpAN2aNqLDAE9EoqXcZT4R69CFCxcuXLhw4SIX1q4VRNUnPiHIi6Ym\n8Xrt2vdbMxP33Sf2m++4Q4QCyjDGEzGEz0VhkP150ybg/POBhx4Sr8sSHmesKUtZNzvx2DnnYN7A\nAJ4cPx6YM0ewxwV6glkPFfjc534LYAmuvDIyYkjo9wouYTWKse9//280A/j55MlFPShz5wJLHv8y\ndn34q2jCU7gRt+M6xPF7fFglYm8aeKK45OsNDWhKtKHylG/gdmzGmifOL+6kEIP8wpIlSM+ejcfG\njMEL//RPIy4MEDBj960ox3HDIxknYplduHDhwoULFy7ea6xYIYigREKcPLZrl3i9YkXxMu+6S3hD\nWVGKHSe9RW64QZBXJ9rC2wp3M7cwyP78pS8Bv/wlcNll4nXZ+tDq1bjrwgvxwqxZRRNMVuzbtw+/\nBnDDyScDe/YA3/tewcSX9VCB559/HsBT2LCh84TzSPS+3wq4GD6QxK8B3PGRj+CCHTsKvl8melty\n4U1oxVjci1ZchofwH7gcbVgjclulUVzydQPnndeHzs7v47bbvoq2tiJZ8oYGoKEBOoBPF63J8EOe\n9CAHHitrPlohy/zww8AFF5SvzOTon5hduHDhwoULFy7yhbTb/+ZvgKuvFsRQwRvBDlht1/PPL82O\ns97b0AA0N6O4zWoXJyRkDqs77gDa2kT/vvFG8X65+s/q7dvLIwiAVoaFitXz8MYbb0R1dTU+//kJ\nJ9wayPWwGsWQD8q5555btIymJqD1tARuxSq04HE8jha0YQ3uRavIaVVMIjoLXnihCocOLcXKlSxb\ncsiRCkUALgFWrToxJmlZ5ksuKW+ZR3ucvgsXLly4cOHCRaGQpwTeeqtI1FyqvdXUJEKvliwBvvnN\n0uw4q7cIIJKu5zodzUV+OJEiGWQOq82bRcqpzZvF67xTybzH0I10NSzToqWurg7r1q0rCxF2vMEl\nrEYxxo0bh7PPPhuf+cxnipaxaxdw718WY5m+CQ/hMtyI27EGt2AzlmAJNmOX78LCE9FZZP/udzcD\nWKIGnpGUHHI4IE96KJchcTxgOMp8Ao7VLly4cOHChQsXg2LXLuCBB0wPlFJsakmGNDaKfFO33w60\ntBRPMF1/vWkDSjvOzV9VGqQHnGxn6cU2kkicctnsTsJTboqPVMJTEkvBXAeEucgbLmE1ijFnzhw8\n8cQTOOOMM4q6X7nu/tiHDzdV4w5chztwE3ahEU3609gcuBy7z//HopObiwFmCYCnoGnaiB94ygEZ\nu18OQ+J4wYlYZhcuXLhw4cKFi/cS1pC7cmwESzLknntEvqlly4S3lddNKDNiYI3eaGsb3dEbVsJT\nYiQTnpWVlZg+fTq2bNnyfqty3EMrl5vaaMLZZ5/NPXv2vN9qlIze3l5UVFTg9ttvx4033ljw/Xfd\nJSYrOTic7/XiE6l58E24CN+88LfimI8ST+JbtGgRHn300bK5S45kWA0JZw6r0TixAMNX5nRaHQzp\nwoULFy5cuHBxwsNptwPC7tq9u/hF/d13i0PSvvhF4IknzBxCpdpxvb2C+HLJr/Jg1SoRydDWJsjK\nkQQ376yLbNA07XmSZ+fzXXfJN4ohThMAiiXfnEz2rzUNt+MpnH7v9KJOOsiGM888Ex6Pp2Q5xwOO\nN1fWcmC4yuxOfC5cuHDhwoULFyaGwwMlmQSWLgX+8z9FWodrrx39tuvxhpEayXAi5dfKhZtuuglr\n1659v9U47uHy2qMYR48eBQB0dXWVRd6sWbMwYcIEfPazny2LPAD47W9/i1QqVTZ5IxnZDIamptHr\nXQWcmGV24cKFCxcuXLgYDZg7F1i7FrjpJkGGSBuuHHbcCRBcMexwRi40NY2c6I3hOil8pEN6Og4M\nPIE77rgDZ5999v9n777Do6ryP46/TwihSYKEJoQAKnFBikiQXoZqYAFpEYisCqKwStmfioIibUVF\nVFhYQbGA0qUqitQgwUhXEHQFC6EGkRaVEpKc3x+TGdMJKWRIPq/nmedmTrvfOxDI/eaccwkOfjpb\nMx0LOs2wKgBy6mkC3t7e+Pr64uPjkyPjAZw9ezbHxpL8T7+tEREREcl9rgTDBx84nxBYEB6OdD3l\nRMLOU1dvuH4uT/qk8G7doHv3vE+k5TZXom7jRucf8G+/1fa4jfBvNEpY5WOufaFyKmF1++2388kn\nn7B3795sj+VKPNx5551UqFABUOJBru6v/wSc7z3xaSgiIiIiNzpXMqRlS+f7nEyGWFsw9yLN6V+8\neupG5K6f1wEGDnTurxUb61xemt+5vk/efLMlMI4jRyZ7xIy3G1kB/Kei4HDNhGrSpEmOjPf8888D\ncHjR7yoAACAASURBVPDgwWyP5fqHbNu24kRHRyvxIJni+k+gd2/nb2s8ZdqziIiISH6Sm8mQ+Hgo\nIFvYJuO6/3ElrfLr/Y/r5/X77oMpU6BYMcjBBToez+GANm0OAC9QuvSibN2naHWJElb5Wvny5XE4\nHISEhOTouDkxY8v1D9nevc8B45R4kExzOJwbf06Y4Dzq74yIiIjIjaOg7l/luv8JDS0Yv3iNi4OL\nF51Pmly+vOAsKQ0Phw0bgoDxnD3bO1vXXFCSnBlRwiofq1GjBrNnz+aOO+7IkfE6d+6cI+O4OIpt\npRszgBcYXH4pjmJbc3R8yZ889WkoIiIiIvlNTj6Z2TVbJGnCqqDNFnH94vXf/87fv3hduBC8vf/6\neR08Y3+t3BYeDqHdr/ButWfZX+xlVjaYTGj3K1m+XyloSc60KGGVj507d44qVarw/vvv58h4v/76\nK5BDe2KNGUN4q3FEMJjRjGfG/haEtxoHY8Zkf2zJt5I+YWT8eG0AKiIiIpLbcmpGlGu2SESE831B\nnC1SEH7xGh4Oy5bBihXJf16HvN9fK7fteHEtiy92ode3/6HmxYt03PYyiy92YceLa7M8ZkFfXaKE\nVT729ddfAxDh+l8hm1yJqmwnrLZuJfyV7YRe/oDFhDKeMSwmlNDLHxD+ynbYqplWkjZPfRqKiIiI\niGTM9XPbgw8WzNkiBeUXrwX25/WtWxnxVTcclz//K8ubkIDj8ueM+Kpblu9xC0KSMyMembAyxlQ1\nxtgMXgsz6PugMWa7MeYPY8x5Y8wmY8zfr2f8nuLSpUsAXLx4MUfGq1evHg6Hg65du2ZvoKlT2XG5\nDosJxcEmABxsYjGh7IitA1OnZj9YyZc89WkoIiIiInJ1Dgf061cwZ4sUlEROgf15fepU56Zdabl0\nKUv3uAUlyZkR77wO4Cr2ACvSKN+XVmNjzGTgSeAoMAvwAXoDnxhjhlhrp+dWoJ7I5vCOhl5eXhhj\nsj/D6sABRpA65+hgEw67CQ7Wz974IiIiIiKSbV5eObtJeng4fPDBX7NFHI6Ck7RKK2FTkK4/3ztw\nIP1vloQEOHjwmofMKMlZUP7eeHrC6htr7djMNDTGNMGZrPoJaGCtPZtY/iqwC5hsjFllrT2US7F6\nHFfCKkf2nAKqV6/O+++/z969e6lTp07WBwoKgm++cX7jpuTl5awXEREREZE8VbgwXLgARYpkfyzX\nbJHp06FPH+cNd0FbFij5WC7c4yrJ6aFLArNoUOLxRVeyCiAxQfVfoAjwcB7ElWd8fX0BaNKkSY6M\n989//hOAqKio7A00bBgULZp2XdGiMHRo9sYXEREREZFs8/KC+PjsjzNpkvPJcYsXQ6NGf5V3757/\nlsRJAaV73Fzh6QmrisaYx4wxoxKPGU3raZ14/DyNutUp2hQIlSpVokuXLrRt2zZHxsuxGVuNGsFT\nT0Hx4s7/BcF5LF7cWZ70fzEREREREbmhNWjgfHIcOCeguGZb9e5dAPY2koIhyT1uQuL9cjzoHjeb\nTE7vc5QTjDFVgV/Sqd4EPGitPZykfQngD+APa23JNMYrA5wCfrXWlr/a+YODg+3OnTuvPXAPc+XK\nFQ4cOEDFihW5+eabsz3eLbfcQnR0NKtWraJTp07ZD3DrVufmcwcPQvXqzqy0vpFFRERERDzG+fPg\n55f9cVxJqn794MMPtRRQ8qmtWzk9ZgynvvyS8s2bc/OYMbrHTcEYs8taG5yZtp66h9UFYALODdd/\nTiyrA4wFHMAGY8xd1to/E+tc/4SeT2c8V3mp9E5ojHkUeBQgMDAwy4F7khMnTlCrVi3eeecdBgwY\nkO3x/vjjDyDn9sSiUSN984qIiIiIeKBJk5wzo+oneR5SeLhzCV9WZkU5HM4nA06Y4Nx0XckqyZca\nNcJ/zRr88zqOfCLXlgQaYw4ZY+w1vOa6+lprf7XWvmCt3W2tPZf42gy0B7YBtwOPZCGsdKeTWWvf\nttYGW2uDy5Ytm4WhPc/evXsBWLt2bY6M55W4fK9QoUI5Mp6IiIiIiHimBg2cM6I2b3a+d82QatAg\na+OFhzufDOh6QmB4eM7FKuJpwsLCmDBhQl6HccPLzRlWPwGXrqH98as1sNbGGWPeARoCLYCpiVWu\nGVTpTVa92gysfOnKlSsAxMbG5sh499xzD3/++ScdOnTIkfFERERERMQzORzOZXu9esE//+lMMmV1\nGZ8r2eXqrycESn62b98+5s+fT8WKFRk9enReh3NDy7WElbW2TS4NfSrxWCLJuf40xhwDKhljbrHW\nnkjRp3ri8UAuxeSRcnp/Mi8vrxwfU0REREREPItrOaDDAffd51zG16+fczlgVhJMO3YkT065kmFZ\nHU/Ek7kmjsTExORxJDc+T39KYFpcmx79nKJ8Y+Lx3jT6hKRoUyDk2FP9Et12221s3brVvdRQRERE\nRETyH9dywNdfhyVLnMmquXPBO4vTHUaMSJ2Ycjj0hEDJn7wTv1Hi4+PzOJIbn0cmrIwxDY0xPmmU\ntwb+lfh2borqmYnH54wxNyfpUxV4HLgMvJ/jwXqwcuXKAdC4ceNsjTNpknMab1hYGADR0dGEhzvL\nRUREREQkf3E4YORIeOopaN4cVq+GyZPhpZe095TI1ShhlXM8MmEFvAIcM8Z8ZIx5I/G1AdgAFAFG\nW2sjk3ZIfP86cBuwN7HPf4GdQGngKWvtoet6FXmsSpUqhIWF0apVq2yN4/oNy+7dzq3A9uwpna0N\nF0VERERExLPFxcEDD8CqVc6n+/3f//21jE9E0udKWAUEBORxJDe+3Nx0PTs+BLoBDXAu5ysMnAQW\nA9OttRFpdbLWPmmM2Qs8ATwKJAC7gVettauuR+CeYtIkqOtzlim//orfI49AzZqENxvNjj9rXvPU\nW4cDFo/9jvueKM8AxvHyc7ez5I3vcDhq5k7wIiIiIiKSpxo0gFdf/eupfq7N0rXnlEjGSpYsyb33\n3suTTz6Z16Hc8DwyYWWtfRd4N4t95wBzcjaiG0+Dfe8T+uHfWcAV2rKX8G/LELqwLIv7vQ88fG2D\njRmDY/JkhvAML/ICz1+ZgGPEy/DrUzBuXK7ELyIiIiIieUNP9RPJugoVKrB69eq8DiNf8NQlgZId\nW7fiWPoEiwmlD4t5gXGE2oUsJhTH0idg69ZrGovJkwm/cA9vMZjRjGcmgwi/cI9zIfu1jCUiIiIi\nIh4vo6f6icjVdezYkbFjx+Z1GDc843qSnPwlODjY7ty5M6/DyLo+fWDRIrCWFxjHBF5gNOMZzxjw\n8nL+emTBgkyPFb7wJKEscia82EQ4rQhlMYtNbxz3l8v8WCIiIiIiIiL52JkzZ/D398cYQ0JCQl6H\n43GMMbustcGZaasZVvnRgQNgLeG0YkbirKgZDCacVpCQAAcPXtNYOwh2J6sAHGxiMaHssPWvbSwR\nERERERGRfMwYA4AmB2WfR+5hJdkUFET416X+WgbIJhyE/zUrKqj8NY014pvXnImuJBxswuG1GYLu\nz+HgRURERERERG5MrqcESvZphlV+NGwYO7wbpz0ryrsxDB16TWNRtGjadUWLXttYIiIiIiIiIvmY\nElY5Rwmr/KhRI0aMLISj+HbnnlUAXl44im9nxMhC0KjRNY3FU09B8eIkJE5tTDAGihd3ll/LWCIi\nIiIiIiL51KRJ8OWXPgD4+fkBzqduTpqUl1HduLTpehpu+E3XXbZuhalTnftMVa/unC2V1QTT1q2s\n79IFv1OnCHQ4KD9xopJVIiIiIiIiIonCwyE01FKz5jiGDKmFv39PQkOTP3WzoLuWTdc1Vy0/a9Qo\nR5NK3t7eGCA+Pj7HxhQRERERERHJDxwOWDz2e0Kf/D/2HljEjLMxLH7tKA5HzbwO7YakJYFydWPG\nQJs2tDhxgmCgQkQEtGnjLBcRERERERERGDMGx4gGPHZ5ChOiBzL48lQcIxro3jmLlLCSjG3dyqSX\n4gm/cI/7L4uXtYRfuIdJL8U7lx2KiIiIiIiIFGRbt8LkyYRfuIe3GMxoxjODQYRfuAcmT9a9cxYo\nYSUZmzqVBlciCWUx4bQCIJxWhLKYBnFfOffIEhERERERESnIpk4l/EJDQlnMYkIZzxgWE+q8l77Y\nSPfOWaCElWTswAEchLu/0V5gnPsb0GE3Ojd0FxERERERESnIDhxgB8HOe2U2AeBgE4sJZYetr3vn\nLNCm65KxoCD45hscCZsYzAwm8AKjGe/8BvTyctaLiIiIiIiIFGRBQYz45jVISEhW7GATDq/NEHR/\nHgV249IMK8nYsGFQtCjhtGKGex3uYOfywKJFYejQvI5QREREREREJG8l3junSffOWaKElWSsUSPC\ne0x3LgM0vZ3rcE1v5zrcHtOhUaO8jlBEREREREQkbzVqBE89BcWLO1cjgfNYvLizXPfO10xLAuWq\ndtR6mMXTv8OxpRwcrI+jejkWNzvFjj8fxpHXwYmIiIiIiIh4gnHjICTEucH6wYNQvbpz5pWSVVli\nrLV5HYPHCQ4Otjt37szrMERERERERERE8g1jzC5rbXBm2mpJoIiIiIiIiIiIeBQlrERERERERERE\nxKMoYSUiIiIiIiIiIh5FCSsREREREREREfEoSliJiIiIiIiIiIhHUcJKREREREREREQ8ihJWck2s\nzesIRERERERERCS/U8JKREREREREREQ8ihJWIiIiIiIiIiLiUZSwEhERERERERERj6KElWTKpEkQ\nHp68LDzcWS4iIiIiIiIikpO88zoAuTE0aAChobBoEbRu7UxWhYbC4sV5HZmIiIiIiAhcunSJ6Oho\nzp8/T1xcXF6HI5LveXt74+fnR4UKFShatGjOj5/jI0q+5HA4k1OhoTB4MMyY4XzvcOR1ZCIiIiIi\nUtBdunSJH374AT8/PypXroy3tzfGmLwOSyTfstYSFxdHTEwM+/fvx9/fn8qVK1OoUKEcO4eWBEqm\nORzOZNWECc6jklUiIiIiIuIJoqOj8fPzw9/fn8KFCytZJZLLjDEULlwYf39/Spcuzffff8+aNWuI\nj4/PsXMoYSWZFh7unFk1erTzmHJPKxERERERkbxw/vx5fH198zoMkQLJz8+PMmXKsH//fr7//vsc\nG1cJK8mUpHtWjR//1/JAJa1ERERERCSvxcXF4e2tHW9E8oK3tzdeXl6ULFmSffv25di4uZ6wMsYU\nNsYMM8a8b4z5xhgTa4yxxphHMtH3QWPMdmPMH8aY88aYTcaYv2fQvpAxZrgxZq8x5qIx5owx5jNj\nTJOcvaqCZ8eO5HtWufa02rEjb+MSEREREREBtAxQJI+4vveKFi3K6dOnc2zc65GCLgFMSfz6JBAN\nVL5aJ2PMZOBJ4CgwC/ABegOfGGOGWGunp2hvgIVAT+AHYDpQGrgf2GyM6WGtXZkjV1QAjRiRuszh\n0D5WIiIiIiIiIuJMXCUkJOTYeNdjSeAFoCNQ0VpbAXjvah0SZ0Q9CfwE1LHW/sta+zhQHzgDTDbG\nVE3RrTfOZFUkcJe19mlr7QDAAcQDs4wxJXPmkkREREREREREJLfkesLKWhtrrV1trT1xDd0GJR5f\ntNaeTTLWIeC/QBHg4RR9Bicen7fWXkrSZwewCCiLM6ElIiIiIiIiIjcoX19fOnbsmNdhZMqgQYPw\n9fUlKioqr0O54XjqpuutE4+fp1G3OkUbjDFFgCY4Z3NFZKaPiIiIiIiISH4RFRWFr68vgwYNunpj\nkRuAxz1GwRhTAqgE/JHOrKyDicegJGW3A4WAn621cZnsIyIiIiIiIiI3mJ07d1KsWLG8DkNymccl\nrAC/xOP5dOpd5aWy2ScZY8yjwKMAgYGBV49SRERERERERK67oCDNRSkIMrUk0BhzyBhjr+E1N7cD\nB+w1tHU93zTdPtbat621wdba4LJly2YvMhEREREREZHrZOLEidSuXRuA+fPn4+vr637NmzcPgIiI\nCHx9fZk4cSI7d+6kZ8+eBAYGJttfKaO9oTLai2nHjh3069eP22+/HX9/f2rUqMGwYcM4cSLzW1nH\nxsYyY8YMmjdvTmBgIOXLl6dWrVr07t2b8PDwZG3TizM6OprBgwdz6623Uq5cOZo2bcq8efOSXXtS\nHTt2xNfXl7i4OCZPnsxdd91FmTJlqFGjBi+88AKxsbGpzrFq1SoeeeQR6tWrR4UKFbjlllto0aIF\nM2bMyNEn5EnmZ1j9BFy6aqu/HM9CLC6u2VB+6dSnNZvqan180+gjIiIiIiIicsNr3rw558+fZ8aM\nGdSuXZtOnTq561yJLJft27fz+uuv07hxY/r168fp06fx8fHJ8rnnzp3LkCFDKFKkCCEhIQQEBPDT\nTz8xZ84cVq9ezYYNG6hcufJVxxk0aBBLliyhZs2a9O7dm2LFinHixAm2bt3K+vXrcTgcGfY/deoU\n7dq1IyoqiqZNm9KwYUNOnjzJk08+SevWGW9nPWDAACIjI2nXrh0lS5Zk7dq1TJkyhVOnTjFjxoxk\nbceMGYOXlxfBwcFUrFiRmJgYvvjiC5555hl2797NrFmzrv6hSaZkKmFlrW2T24EkOdefxphjQCVj\nzC1p7GNVPfF4IEnZj0A8cKsxxjuNfazS6iMiIiIiIiJyw3PNSnIlrEaNGpVu240bNzJlyhT69++f\n7fMePHiQYcOGERgYyOrVq6lYsaK77osvvqBr164888wzzJ8/P8Nxzp8/z9KlS6lXrx4bN26kUKFC\nyepPnz591VjGjh1LVFQUw4cPZ/z48e7yf/7zn1dNdv3yyy9s27aN0qVLA/DCCy/QpEkTFixYwNix\nYylfvry77UcffcStt96arH9CQgKDBw9mwYIFPProozRo0OCq8crVeeIeVgAbgX7AvcD7KepCkrQB\nwFp72RgTCTRPfIVfrY+IiIiIiIgUDGktH+vWrRsDBw7kwoUL9OzZM1V9WFgYYWFhnD59mn79+qWq\nHzBgAD169ODo0aM8+uijqeqHDBlCSEiIO6mT0tNPP43D4WDv3r3UqVMni1d27erUqZMjySqAd999\nlytXrvDKK68kS1YBtGzZko4dO7J69Wp+//13SpYsme44xhistfj4+ODllXrnIn9//wzjiI2NZcmS\nJfj5+fH0008nq6tduzZ9+vRhzpw56fYfN26cO1kFUKJECUJDQ3nllVfYvXs3ISEh7rqUySoALy8v\nd8Jqw4YNSljlEE9NWM3EmbB6zhizwlp7FsAYUxV4HLhM6kTWDJzJqn8bY9pYay8l9mkA3A+cApZe\nl+hFREREREREPFD9+vVzbKzt27cD8OWXX7J79+5U9adOnSI+Pp4ff/yRevXqpTuOr68vISEhrF69\nmqZNm9KlSxeaNGlCcHAwxYsXv2ocBw8e5OLFi9SrVy/NxFijRo0yTFilFVtAQAAA586dS1Z++vRp\n/vOf/7B27VoOHTrEn3/+maz+Wvbtkoxdl4SVMeZZ4G+Jb+9KPD5sjGmW+PUWa+07rvbW2khjzOvA\n/wF7jTFLAB+ciafSwBBr7aEUp1kIdAd6Al8bYz4B/BP7FAIGWmtjcvziRERERERExKN99tln6dYV\nL148w3p/f/8M6wMCAjKsr169eob113N2FUC5cuVybKwzZ84AMHXq1AzbpUzqpGX27Nm88cYbfPTR\nR+7N0YsWLUrXrl158cUXM4w7JsZ5q59em6tdc6lSpVKVeXs70yVJN1I/d+4cDoeDQ4cOUb9+fXr3\n7s3NN9+Mt7e3ew+xy5cvZ3yhkmnXa4bVvUDLFGVNEl8u7ySttNY+aYzZCzwBPAokALuBV621q1Ke\nwFprjTF9gEigPzAE50bxm4F/W2sjc+haRERERERERG5IxpgM6+LiUm4J7XT+fOpnmPn5OZ97dvTo\nUXx9fVPVX4tixYoxatQoRo0axdGjR/nyyy+ZP38+ixYt4vDhw6xZsybdvq5ZVb/++mua9emVX6sP\nPviAQ4cO8eyzz6baJ2zbtm2pNmiX7Em9ODQXWGtbWWtNBq+H0uk3x1rbwFpbwlpb0lrbMq1kVZL2\ncdbaN6y1ta21xay1N1trOypZJSIiIiIiIvmZa6Py+Pj4LI9RqlQpjh07lqo8Pj6eb7/9NlV5cHAw\nAJGROXvLHRAQwP3338/y5cu57bbb+OqrrzLceD0oKIhixYqxf/9+fv/991T1W7duzZG4fv75ZwC6\ndu2aqu7LL7/MkXPIX65LwkpEREREREREck+pUqUwxnD06NEsj1G/fn2OHDnChg0bkpVPmjSJw4cP\np2r/2GOPUbhwYUaOHMnBgwdT1cfGxmYqmfXbb7+xY8eOVOV//vknf/zxB97e3vj4+KTb38fHh+7d\nu3P+/HleffXVZHXffvstCxYsuGoMmREYGAhAREREsvI9e/bw+uuv58g55C+euum6iIiIiIiIiGTS\nTTfdRHBwMJGRkQwYMIDbb7+dQoUK0bFjR2rVqpWpMYYOHcqGDRvo06cP3bt35+abb2bbtm1ERUXR\nvHnzVImaoKAg/vvf//L444/TsGFD2rZty+23386VK1c4evQokZGRlClThl27dmV43uPHj9OmTRvu\nuOMO6tatS0BAADExMaxZs4aTJ08yaNCgDJ8yCM4n/W3evJkpU6awc+dOGjZsSHR0NMuXL6d9+/as\nWrUqzScQXos+ffowdepUnn32WSIiIrjtttv46aef+Pzzz+ncuTPLli3L1viSnBJWIiIiIiIiIvnA\n22+/zciRI1m/fj1LlizBWkulSpUynbBq1aoVCxYs4JVXXmHp0qUUL14ch8PB7Nmz3Ruhp9S7d29q\n167NtGnTiIiIYOPGjRQvXpxbbrmF++67j+7du1/1vIGBgYwaNYotW7YQERHB6dOnufnmm6levTpj\nx46lZ8+eVx2jXLlyrFu3jnHjxrF27Vp27txJ9erVee211yhRogSrVq26atLram655RbWrFnDmDFj\n+Oqrr9iwYQNBQUG8/vrrtGrVSgmrHGastXkdg8cJDg62O3fuzOswREREREREJBN27dpFUFBQXoch\nHmr8+PFMnjyZZcuW0bZt27wOJ186cOAA+/btIyYmhiFDhqTbzhizy1obnJkxtYeViIiIiIiIiNzw\nTpw4kaps//79zJw5k5tvvplmzZrlQVSSVVoSKCIiIiIiIiI3vJYtW3LrrbdSo0YNSpQowU8//cSa\nNWtISEjgrbfeomjRonkdolwDJaxERERERERE5Ib38MMP8+mnn7J06VJ+//13/Pz8aNOmDUOHDqV5\n8+Z5HZ5cIyWsREREREREROSGN3LkSEaOHJnXYUgO0R5WIiIiIiIiIiLiUZSwEhERERERERERj6KE\nlYiIiIiIiIiIeBQlrERERERERERExKMoYSUiIiIiIiIiIh5FCSsREREREREREfEoSliJiIiIiIiI\niIhHUcJKREREREREREQ8ihJWIiIiIiIiIiLiUZSwEhERERERESlgatWqRa1atfI6jBuGPq/rTwkr\nERERERERESnQOnbsiK+vb16HIUl453UAIiIiIiIiIiKe7OOPP87rEAocJaxERERERERERDJw6623\n5nUIBY6WBIqIiIiIiIhkgtf27RTt35/iLVpQtH9/vLZvz+uQUlm2bBn33nsvAQEBlCtXjkaNGvHa\na69x+fLlNNufP3+eJ598kjvuuIOyZcvSoEEDZsyYgbU2VdvPPvuMzp07U716dcqUKUNQUBAhISHM\nmjUrVdszZ84wduxYgoODKVeuHAEBAXTu3JkNGzakajtv3jx8fX2ZN28e69ato2PHjgQEBODr68vx\n48cpVaoUzZs3T/eau3Xrhq+vL999912yMR944AHq1KlDuXLlqFSpEu3atWPhwoXJ+kZFReHr68uW\nLVsA8PX1db86duzobpfeHlaXL1/m9ddfp3HjxpQvX55KlSrRoUMHli1blqqt61yDBg0iKiqKhx56\niKpVq1K2bFlatmzJ6tWrU/WJjY1lxowZNG/enMDAQMqXL0+tWrXo3bs34eHh6X4m+YFmWImIiIiI\niIhchc+LL+IzbRpcvIixFq+9e/H+7DNihwwh9rnn8jo8AMaNG8drr72Gv78/vXr1okSJEqxbt45x\n48axYcMGVq5cSeHChd3tY2Nj6dKlC+fPn6dHjx7Exsby8ccf88wzz3Dw4EFef/11d9v333+fYcOG\nUb58eUJCQvD39+fUqVPs27ePuXPnMnDgQHfbw4cP06lTJ6KiomjSpAlt27blwoULfP7553Tv3p2p\nU6fy0EMPpYp/xYoVrF+/nnbt2tG/f38OHz5MxYoVadWqFRs3bmT//v3ceeedyfpER0ezadMm6tWr\nR82aNd3l//rXv/jb3/5GkyZNqFChAmfOnGHt2rU8+uijHDx4kNGjRwPg5+fHs88+y/z58zl8+DDP\nPvuse4wqVapk+HnHxsbSrVs3tmzZQlBQEAMHDuTChQusXLmShx56iG+//ZYxY8ak6nfkyBEcDgdV\nq1ald+/enD17lmXLltGnTx8+/vhjWrRo4W47aNAglixZQs2aNenduzfFihXjxIkTbN26lfXr1+Nw\nODKM8UamhJWIiIiIiIhIBry2b8dn2jTMhQvuMpOQABcu4POf/xDXrh0J99yThxHCtm3beO211wgI\nCCA8PJzy5csDMHbsWPr27cvnn3/O1KlTeeqpp9x9oqOjqVq1Ktu2baNIkSIAjBo1ilatWvHOO+/Q\no0cPmjZtCjgTVj4+PkRGRlK2bNlk5z59+nSy94MGDeLw4cO899579OzZ011+7tw5OnXqxIgRI+jY\nsSPlypVL1m/t2rUsWbKEdu3aJSsPCwtj48aNzJ8/nxdffDFZ3aJFi4iPj6dPnz7Jyrdu3ZpqGV9s\nbCw9evTgjTfeYMCAAVSsWJFSpUoxatQotmzZwuHDhxk1alTGH3QS06ZNY8uWLbRr145Fixbh7e1M\nsYwcORKHw8Frr73GvffeS8OGDZP1i4iIYOTIkYwcOdJd1qtXL3cyz5WwOn/+PEuXLqVevXpsAS/O\n0QAAIABJREFU3LiRQoUKJRsn5eee32hJoIiIiIiIiEgGfGbOhIsX0668fNlZn8fmzp0LwNNPP+1O\nVgF4e3vz4osv4uXlxQcffJCq39ixY93JKoDSpUvzzDPPJBsz6ViupExS/v7+7q+//fZbtmzZQteu\nXZMlqwB3cujSpUusXLky1TidOnVKlawC+Pvf/46fnx+LFy8mPj4+Wd38+fMpXLgwvXr1Slae1p5T\nPj4+DBw4kLi4ODZt2pSq/lp9+OGHGGN46aWXkn0uZcuWZcSIEQDMmTMnVb/AwEB3vUvbtm2pXLky\nu3btcpcZY7DW4uPjg5dX6vRN0s89P9IMKxEREREREZEMeP34IyaNPZ3AOdPK66efrnNEqe3Zswcg\n2XIyl+rVq1OpUiUOHTrEuXPnKFWqFOBMQKWc/QPQrFkzAPbu3esuCw0NZdSoUTRs2JDu3bvTrFkz\nGjVqRJkyZZL13Z64r9f58+eZOHFiqrF/++03AH744YdUdfXr10/z2ooVK0a3bt2YPXs269evp0OH\nDgB8/fXXfP/993Tu3DlV8ubIkSO88cYbfPHFFxw9epSLKRKOJ06cSPNcmfX777/z888/U7FiRYKC\nglLVu/4ckn6GLrVr1041WwqgUqVK7s8PnPtphYSEsHr1apo2bUqXLl1o0qQJwcHBFC9ePFvx3wiU\nsMrnrAVj8joKERERERGRG1fC7bfjtXevcxlgCtbLi4TbbsuDqJI7f/48ABUqVEizvnz58hw5coSY\nmBh3wsrf3z/NxIlrhlZMTIy77IknnqB06dK88847zJw5kzfffBNjDM2aNWPChAncfffdgHOzdYDw\n8PAMNwX/888/0z1vWsLCwpg9ezYLFixwJ6zmz58PQN++fZO1/eWXX3A4HJw7d44mTZrQunVrfH19\nKVSoEIcPH2b+/PnpbkKfWa7PJr2YXX8Orj+XpPz8/NLs4+3tTUKKv2OzZ8/mjTfe4KOPPnInAIsW\nLUrXrl158cUXUy2rzE+UsMrnlKwSERERERHJnthBg/D+7DNIsoeVW5EixA4adP2DSsGVBDl58mSa\ny+FOnjwJOGftuJw+fZr4+PhUSau02oIzMdS3b1/OnTvHtm3bWLVqFR9++CHdunVj586dlC1b1t3n\nlVdeYfDgwdd0DSaDG9iGDRty22238emnn3Lu3DlKlCjBkiVL8Pf3p3379snaTp8+nTNnzjBjxgzC\nwsKS1X300UfuRFd2uK7z119/TbM+Ojo6WbusKlasGKNGjWLUqFEcPXqUL7/8kvnz57No0SIOHz7M\nmjVrsjW+J9MeViIiIiIiIiIZSLjnHmKHDMEWK4ZN3EvIenlhixUjdujQPN9wHaBOnToAbNmyJVXd\nTz/9xLFjx6hatap7dhVAXFwc27ZtS9XeNYZrzJRKlSpFhw4dmDZtGmFhYZw9e5bIyEgAGjRoAMBX\nX32VvQtKQ9++fbl8+TLLli1jzZo1nD59ml69eiV78iHAzz//DECXLl1SjfHll1+mObYraZdyj6z0\nlCxZkmrVqnH8+HF+/PHHVPUREREA1K1bN1PjZUZAQAD3338/y5cv57bbbuOrr77K1xuvK2ElIiIi\nIiIichWxzz3HhU8+Ia57d+Lr1SOue3cufPIJsc89l9ehAdCvXz8AXn31Vfc+UeBMwDz//PMkJCS4\n2yQ1duzYZMvjzpw5w6RJkwB44IEH3OXr1q0jLi4uVf9Tp04BzplAAHfffTdNmjTh448/5sMPP0wz\n1v3797v7XYs+ffrg5eXFggULWLBgAUCqGVQAVapUAVIn79avX5/mJujg3GwenHtfZVa/fv2w1jJ6\n9Ohkia7Tp0+7P8O0PvPM+u2339ixY0eq8j///JM//vgDb29vfHx8sjy+p9OSQBEREREREZFMSLjn\nHi55wGyqtDRs2JDhw4czZcoUGjZsSNeuXSlRogTr1q3ju+++o3HjxgwbNixZnwoVKnD58mUaNmxI\nx44duXLlCitXriQ6OppHHnmEpk2butv279+fIkWK0LhxYwIDA7HWEhkZye7du6lXrx4Oh8Pd9t13\n3+Xvf/87jz/+ODNnziQ4OBg/Pz+OHTvG/v37+e6771i/fj1ly5a9pmsMCAigRYsWbNq0CW9vb+68\n8840ZzA98sgjzJ07l3/84x906dKFihUrus/ZrVs3li1blqpPy5YtWb58OQ888ADt27enaNGiVK5c\nmT59+qQbz9ChQ1m3bh2ffvopTZo0oX379ly4cIEVK1Zw6tQphg8fTuPGja/pGpM6fvw4bdq04Y47\n7qBu3boEBAQQExPDmjVrOHnyJIMGDaJkyZJZHt/TKWGVz2nTdRERERERkYJh/Pjx1KlTh7fffpuF\nCxdy5coVqlWrxujRoxkyZEiq2Tg+Pj58/PHHjBs3jqVLl3L69GmqVq3Kv/71Lwal2Jdr7NixbNiw\ngT179rB27VqKFClCYGAg48ePZ8CAAcmW5VWqVInNmzfz1ltv8fHHH7N48WLi4+MpX748d9xxB489\n9hh33nlnlq6xb9++bNq0ibi4uFSbrbvUqlWLTz/9lAkTJrhnhtWqVYt58+bh5+eXZsLqwQcf5MiR\nIyxdupQpU6YQFxdHs2bNMkxY+fj4sHLlSqZPn85HH33EW2+9hbe3N7Vq1eLll1+mV69eWbpGl8DA\nQEaNGsWWLVuIiIjg9OnT3HzzzVSvXp2xY8fSs2fPbI3v6YxN59GcBVlwcLDduXNnXochIiIiIiIi\nmbBr1y6CgoLyOgyRAuvAgQPs27ePmJgYhgwZkm47Y8wua21wZsbM9T2sjDGFjTHDjDHvG2O+McbE\nGmOsMeaRDPo8lNgmvVeaj2AwxhQzxowzxvxgjLlkjPnVGLPYGFMj965QRERERERERERy0vVYElgC\nmJL49UkgGqicyb4rgW/SKE81/ckYUwRYBzRNrJ+aeJ5eQCdjTGtrberHH4iIiIiIiIiIiEe5Hgmr\nC0BH4Btr7QljzFhgTCb7rrDWzs5k2//DmaxaAtxvrU0AMMYsAlYA7xljarvKRURERERERETEM+X6\nkkBrbay1drW19kRuncMYYwDXMsERSZNS1tqVQARQE2iZWzF4kkmTIDzc+bVri7LwcGe5iIiIiIiI\niIiny/WEVTbdZYwZbox51hjTzxgTkE6724BA4IC19pc06lcnHlvnSpQepkEDCA11JqmMcR5DQ53l\nIiIiIiIiIiKe7nosCcyOYSnexxtj3gGGW2svJSm/I/F4IJ1xDiYeC8RjIxwOWLzYmaQaPBhmzHC+\ndzjyOjIRERERERERkavz1BlWvwBDcCaiSgAVgVDgEPAY8F6K9n6Jx/PpjOcqL5XeCY0xjxpjdhpj\ndp46dSqLYXsOh8OZrJowwXlUskpEREREREREbhSZSlgZYw4ZY+w1vOZmJyhr7RfW2unW2gPW2gvW\n2hPW2o8AB3AW6GOMqXsNQxrX0Bmc821rbbC1Nrhs2bLZiN4zhIc7Z1aNHu08uva0EhERERERERHx\ndJldEvgTcOmqrf5yPAuxXJW19ogx5jMgDGgB7Emscs2g8kuzI/imaJevufasci0DdDiSvxcRERER\nERER8WSZSlhZa9vkdiDXwLVer0SSsh8Sj+ntUVU98ZjeHlf5yo4dyZNTrj2tduxQwkpERERERERE\nPJ+nb7qeloaJx5+TlP0EHAaCjDHV0nhSYEjicWNuB+cJRoxIXeaaaSUiIiIiIiIi4uk8ctN1Y0zz\nNMqMMWYk0Bj4DfjcVWettcDMxLeTjDFeSfp1BZoD3wFf5GbcIiIiIiIiIiKSfddlhpUx5lngb4lv\n70o8PmyMaZb49RZr7TtJumw2xhwAdgDHcO5N1RSoBVwAwqy1MSlO8zrwd6AnsM0YswEIBHol9ulv\nrU3I2SsTEREREREREZGcdr1mWN0LPJj4cj3dr0mSsmYp2k8GooHWwDDgH0Bh4L9AbWvt2pQnsNZe\nBtoC44FSwL+AdsAKoIG1dlvOXpKIiIiIiIiIeIKoqCh8fX0ZNGhQXociOeS6zLCy1ra6xvZPZ/E8\nF4ExiS8RERERERERyQMdO3Zky5YtxMSkXBwlkjk34qbrIiIiIiIiIiJuFStWZOfOnfj6+uZ1KJJD\nlLASERERERERkRta4cKFCQoKyuswJAd55FMCRURERERERCTzku7hdODAAfr06UNgYCAVKlSgffv2\nbNiwIc1+ly9f5vXXX6dx48aUL1+eSpUq0aFDB5YtW5Zm+88++4zOnTtTvXp1ypQpQ1BQECEhIcya\nNStZHFu2bAHA19fX/erYsWOysY4dO8aTTz5JnTp1KFOmDFWqVOH+++9n165dqc47ceJEfH19iYiI\nYPHixTgcDm655RZq1aqV6vpTio6O5v/+7/+oVasW/v7+VKtWjbCwML7++utUbefNm4evry/z5s1j\n3bp1dOzYkYCAgEzN3Bo0aBC+vr4cOnSIt956iwYNGlC2bFlq1arF5MmTsdYCsHz5clq1akWFChW4\n9dZbefLJJ7l06VKaYx44cIBBgwZRo0YNypQpw2233Ub//v05ePBgqrYHDx5kzJgxtGzZkmrVqlGm\nTBnuvPNOhg4dyrFjx1K1j4iIwNfXl4kTJ7J371569uxJ5cqVKV++PCEhIWzblrdbgWuGlYiIiIiI\niMhVTJniw913x9OiRby7bPPmQuzeXYjhw2PzMLLkoqKiaNu2LTVq1KB///5ER0ezbNkyevTowbvv\nvkuPHj3cbWNjY+nWrRtbtmwhKCiIgQMHcuHCBVauXMlDDz3Et99+y5gxf20R/f777zNs2DB3QsPf\n359Tp06xb98+5s6dy8CBA/Hz8+PZZ59l/vz5HD58mGeffdbdv0qVKu6vv/nmG+677z7Onj1LmzZt\n6Ny5M6dPn+bTTz+lQ4cOzJs3jw4dOqS6vmnTphEeHk5ISAgtWrS46h5Zhw4dokOHDpw4cYKWLVvS\ns2dPjh49yooVK1izZg0ffvghISEhqfqtWLGC9evX065dO/r378/hw4cz/Wfw/PPPExERQUhICK1b\nt2b16tWMHz+e2NhYbr75ZsaOHUunTp1o0qQJ4eHhzJo1i4SEBN54441k46xbt44HHniAK1euEBIS\nwq233sqxY8f45JNPWLt2LatWreKuu+5yt//kk0947733aN68Offccw8+Pj58//33zJkzh9WrV/PF\nF19QsWLFVPF+/fXXTJ06lXvuuYd//OMfHD16lJUrV9K5c2e+/PJLqlevnulrz0nGleGTvwQHB9ud\nO3fmdRgiIiIiIiKSCbt27cr15WCbNxfiwQeLMmfOJVq0iE/1Pq9FRUVRu3ZtAIYOHcq///1vd93u\n3btp27YtN910E/v27XPPFnrttdcYN24c7dq1Y9GiRXh7O+e0nDp1CofDweHDh1m3bh0NGzYEoEWL\nFnz33Xd8//33lC1bNtn5T58+jb+/v/t9Rpuux8XFUb9+fY4fP87y5ctp1qyZu+7EiRO0atWKhIQE\n9u3bR5EiRQDnDKuXX36Z4sWLs2bNGurWrZvm9fft25eZM2e6y++77z42btzI6NGjefrpv57vtm3b\nNu699158fX3Zv38/N910E+CcYTV48GCMMSxZsoR27dpl9o+AQYMGMX/+fAIDA1m7dq07OXTu3Dnu\nuusuLl26RLFixfj888+54447AOcMt2bNmvHLL78k+1zPnj1L3bp18fLy4vPPP+dvf/ub+zzff/89\nrVu35vbbbyciIsJdfvz4cfz9/d2fmcuGDRvo0aMHDz/8cLKkWEREBJ06dQJgxowZhIWFuevee+89\nhg8fzoABA1Il0tJy4MAB9u3bR0xMDEOGDEm3nTFml7U2+KoDoiWBIiIiIiIiIlfVokU8c+Zc4sEH\ni/Lvf/t4VLIqKT8/P5555plkZXfffTehoaGcO3eOTz75xF3+4YcfYozhpZdecierAMqWLcuIESMA\nmDNnTrKxvL29k7V1SZqsupo1a9bwyy+/8NhjjyVLVgHccsstDBs2jJMnT7Jp06ZUfR966KFUyar0\nHDt2jI0bN1K5cmWGDx+erK5hw4b07NmTs2fP8vHHH6fq26lTp2tKViU1YsSIZDOZSpUqRceOHblw\n4QIDBgxwJ6sAihQpQvfu3YmNjeWHH35wly9YsIBz584xatSoZMkqgBo1avDggw+yZ88e/ve//7nL\nK1asmCpZBdCmTRtq1KiR7rLQRo0aJUtWAfTr1w9vb2927959bRefg7QkUERERERERCQTWrSIZ8CA\nK0yaVIQRIy57XLIKoG7dupQsWTJVefPmzZk/fz579+4lLCyM33//nZ9//pmKFSumOTutRYsWAOzd\nu9ddFhoayqhRo2jYsCHdu3enWbNmNGrUiDJlylxTjNu3bwfgyJEjTJw4MVX9Tz/9BDhn7aRcFli/\nfv1Mn8cVe+PGjSlcuHCq+pYtW7Jo0SL27t1L3759s3yelOrVq5eqrEKFCunWuZJbSfeZcn1G+/bt\nS/Mz+vHHHwH44Ycf3Aktay2LFi1i/vz5fPvtt5w7d474+L/+jvr4+GQ63sKFC1OuXDnOnj2b9kVe\nB0pYiYiIiIiIiGTC5s2FePfdwowYcZl33y1MixbxHpe0SrlUz6VcuXIA7iV6rmP58uXTbO9KsJw/\nf95d9sQTT1C6dGneeecdZs6cyZtvvokxhmbNmjFhwgTuvvvuTMV45swZwLn5eEb++OOPVGXpxZsW\nV+yua0lvrKTXmJXzpJTWBu2uWWkZ1cXFxbnLXImi2bNnZ3iupJ/RyJEjefPNN6lQoQJt2rShYsWK\nFC1aFMC9p1ha/Pz80iz39vYmISEhw/PnJiWsRERERERERK4i5Z5VLVrEe+SywFOnTqVZ/uuvvwJ/\nJUxcR1d5StHR0cnaufTt25e+ffty7tw5tm3bxqpVq/jwww/p1q0bO3fuTDdhlpRrzIULF6Z6cuDV\nGGMy3daViDl58mSa9a7ytJJI13Ke3OCKKTIy0v0kxIycOnWKmTNnUrNmTdatW5dqlt2SJUtyJc7c\npD2sRERERERERK5i9+5CyZJTrj2tdu8ulMeRJbdnzx5+//33VOWuzbnr1KkDQMmSJalWrRrHjx93\nLy9Lq316+0WVKlWKDh06MG3aNMLCwjh79iyRkZHu+kKFnJ9L0iVpLg0aNABI1j43uK5169atyWYv\nuWzevBlI/xrz0rV+Rr/88gsJCQm0bt06VbLq2LFjHDp0KKdDzHVKWImIiIiIiIhcxfDhsalmUrVo\nEc/w4bF5FFHazp8/zyuvvJKsbPfu3SxevBg/Pz86d+7sLu/Xrx/WWkaPHp0ssXT69GkmTZrkbuOy\nbt26NBM/rlldxYoVc5eVLl0acO5TlVKnTp2oVq0as2bNYs2aNWlex7Zt27hw4cJVrzcjlSpVwuFw\nEBUVxZtvvpmsbseOHXz00UeUKlUq2WfiKcLCwihVqhQvv/wyO3fuTFWfkJCQ7AmBVapUAeCrr75K\n9mf5xx9/MGTIkDT/3DydlgSKiIiIiIiI5BNNmzblgw8+YOfOnTRq1Ijo6GiWLVtGQkICU6ZMSbb8\nbejQoaxbt45PP/2UJk2a0L59ey5cuMCKFSs4deoUw4cPp3Hjxu72/fv3p0iRIjRu3JjAwECstURG\nRrJ7927q1auHw+Fwt23ZsiXLly/ngQceoH379hQtWpTKlSvTp08fChcuzLx58+jWrRu9evWiYcOG\n1K5dm+LFi3P06FF2797NoUOHOHjwIMWLF8/W5zFlyhTat2/P888/z4YNG7j77rs5evQoK1aswMvL\nixkzZqS5SX1e8/f354MPPiAsLIw2bdrQqlUr/va3v+Hl5cXRo0fZvn07Z86ccScLy5cvT48ePVi6\ndClNmzaldevWxMTEEB4eTpEiRahTp06yDfRvBEpYiYiIiIiIiOQTVapUYcqUKYwZM4b33nuPy5cv\nU7duXZ555hnatm2brK2Pjw8rV65k+vTpfPTRR7z11lt4e3tTq1YtXn75ZXr16pWs/dixY9mwYQN7\n9uxh7dq1FClShMDAQMaPH8+AAQOSPYnvwQcf5MiRIyxdupQpU6YQFxdHs2bN6NOnDwC1atUiMjKS\n6dOn8/nnnzNv3jy8vLwoX748devWZdSoUfj7+2f786hWrRpffPEFr776KmvXrmXLli2ULFmStm3b\n8tRTT2XraYC5rVWrVkRGRvKf//yHDRs2EBkZiY+PDxUqVKBFixZ07do1Wfv//ve/VKtWjaVLlzJr\n1izKlClDSEgIzz33XLKZcjcKY63N6xg8TnBwsE1ryp2IiIiIiIh4nl27dhEUFJTXYeSpqKgoateu\nTd++fZk5c2ZehyMFzIEDB9i3bx8xMTEMGTIk3XbGmF3W2uDMjKk9rERERERERERExKMoYSUiIiIi\nIiIiIh5FCSsREREREREREfEo2nRdRERERERE5AZXpUoVYmJi8joMkRyjGVYiIiIiIiIiIuJRlLAS\nERERERERERGPooSViIiIiIiIiIh4FCWsRERERERERETEoyhhJSIiIiIiIiIiHkUJKxERERERERER\n8ShKWImIiIiIiIiIiEdRwkpERERERERERDyKElYiIiIiIiIiIuJRlLASERERERERERGP4p3XAYiI\niIiIiIjkJl/fknkdQoZiYn7PkXGstcydO5f333+f//3vf8THx1O9enXCwsJ49NFHKVSoULL2UVFR\n1K5dO93xunfvzuzZs5OVnTx5kpEjR7Jp0yaMMTgcDl566SXKli2bqv/48eOZNWsW27Zto2LFilm6\npgMHDvD2228TERHBsWPHuHjxIv7+/tSpU4cuXboQGhpK0aJF3e19fX0BiImJydL5xHMoYSUiIiIi\nIiKSDzz22GMsXLiQsmXL0r17d4oXL86mTZt45plniIyM5IMPPsAYk6pf7dq16dSpU6rymjVrJnuf\nkJBAaGgo//vf/+jbty8XL15k0aJF/Pzzz6xfvx4vr78Wce3Zs4cpU6YwZcqULCerXn75ZV5++WUS\nEhJo0KABffr04aabbuLXX38lIiKCJ554gnfffZcvvvgiS+OLZ1PCSkREREREROQGt2rVKhYuXEjV\nqlUJDw/H398fgCtXrvDggw+ycuVK5s+fT1hYWKq+tWvXZtSoUVc9x65du/j666+ZOXMmffv2BaBK\nlSq89NJL7N69m+DgYADi4uJ4/PHHad68Of/4xz+ydD2TJ09m4sSJBAQEMGfOHBo0aJCqzerVq5k+\nfXqWxhfPpz2sRERERERERG5wH3/8MQBPPPGEO1kFULhwYZ5//nkA3nrrrWyd48iRIwDuxBRA/fr1\nk9UBvPbaa/z8889MmzYtS+eJioripZdeonDhwixZsiTNZBVASEgIy5Yty9I5xPPlesLKGFPdGPOM\nMWajMeaIMSbWGHPSGLPSGOO4St8HjTHbjTF/GGPOG2M2GWP+nkH7QsaY4caYvcaYi8aYM8aYz4wx\nTXL+ykREREREREQ8w8mTJwGoWrVqqjpX2TfffMO5c+dS1Z84cYL33nuPyZMn895777Fv3740zxEQ\nEADA119/7S5zfV25cmUAvv/+e1599VXGjh1LYGBglq5l7ty5XLlyhS5duqRalphSkSJFsnQO8XzX\nY0ngBOB+4DvgM+AMcAfQBehijBlmrf1Pyk7GmMnAk8BRYBbgA/QGPjHGDLHWTk/R3gALgZ7AD8B0\noHTiuTcbY3pYa1fmziWKiIiIiIiI5B3XrKqoqKhUdYcOHXJ/feDAAe65555k9eHh4YSHhycra968\nOTNnznQnosA5m+quu+5i+PDhbNu2zb2H1d13383dd99NfHw8//znP2nQoAEDBw7M8rVs3boVgFat\nWmV5DLnxXY8lgZ8Dd1tr77TWPmatHWmt7Q60Aa4ArxpjbknaIXFG1JPAT0Ada+2/rLWPA/VxJrwm\nG2OqpjhPb5zJqkjgLmvt09baAYADiAdmGWM8+9EQIiIiIiIiIllw7733AjB9+nTOnDnjLo+Li2Pi\nxInu90lnWBUvXpwRI0awefNmDh8+zOHDh1m9ejUtWrQgIiKCzp078+eff7rbFypUiEWLFtGhQweW\nL1/OmjVr6Nq1K4sWLcLLy4vp06fz3XffMW3aNM6dO8cjjzxCxYoVKVu2LPfffz/Hjx/P1LVER0cD\nZHmzdskfcn2GlbV2djrlXxhjNgHtgCbA0iTVgxKPL1przybpc8gY819gNPAwMCZJn/9v796j7Kjq\nRI9/f3kSzUMijwSZSSCIOGi4jMFgGDDBOww6MDwML0UzPkeFqBmZBTpgEB/L6/DQKyioV8MYnISB\nQUSDMQPpEMhSExgVEMQEgvLQhGdIIC/yu39UdTg5nE6fk3T6nO7+ftbaq3J27b1rV6V2V59fV+36\naLk8PzPXV9RZGhFzgfdQBLS+t1M7JEmSJElSi5k6dSpz585lwYIFvPnNb+Yd73gHQ4YMoa2tjYce\neohx48axYsUK+vfvv7XOnnvuuXV+q3ZHHHEEP/zhDznmmGNYtmwZV199NR/72Me2rh89ejSzZs16\n2faXL1/Ol770Jc4//3wOOOAAzjjjDG6//XYuvvhihg8fzjnnnMO73/1ubr311ppvKqyUmQCdllPv\n1uxJ1zeVy81V+UeXy5/WqHNzVRkiYjBF0Ot5YHE9dSRJkiRJ6i369evH3Llz+eIXv8jee+/NnDlz\nmD17Nvvssw/z589n5MiRQBGk6syAAQOYNm0aAEuWLOm0fGZy9tlnc/DBB3PWWWexfPlyfvKTnzB9\n+nTe9a53cdxxxzFz5kzuvPNObrvttk7bGz26eAir3juy1Ds1LWAVEWMoHgt8HritIv+VwGuAtZn5\neI2qvy+XB1bkHQD0Bx7MzOrgV0d1JEmSJEnqNQYMGMD06dO54447WLVqFY8++ig33HADBx10EHff\nfTdDhgzh9a9/fV1t7bHHHgDbPBLYkauuuoply5bxjW98g379+vHAAw8AcMghh2wtc+h65smnAAAW\npklEQVShhwLFpOydOfzwwwFoa2urq6/qnZoSsCrviLoGGAxcWPnYHzCiXD7bQfX2/FftZJ3qPn04\nIpZFxLLVq1d32HdJkiRJknqSOXPmsH79ek466SQGDhxYV52lS5cCtd86WOnhhx/moosu4txzz+Wg\ngw4CXnqkb+PGjVvLrV+/vmb9Ws4880wGDhzIj370I+6///7tlt2wYUPd7apnqStgFRErIyIbSLO3\n01Z/4PvAEcBc4OId7Hs2ULb9wdcO62TmtzJzQmZOqOcWSUmSJEmSWsmaNWtelnfnnXcyc+ZMhg4d\nyrnnnrvNuqVLl24TVGq3aNEirrjiCgBOP/307W7z4x//OOPGjWPGjBlb89oDVzfffPPWvPZ/13OH\n15gxY/j0pz/Nxo0bOeWUU7jrrrtqlluwYAHvfOc7O21PPVO9k66vAOoPh0LNB03LYNVs4BTgWuDM\nbA+9vqT9bqgR1FbrbqrO6gyvUUeSJEmSpF7jhBNO2PrY37Bhw7jvvvv42c9+xuDBg5k9ezb77bff\nNuVnzpzJfffdx5FHHrn1jXz33nsvixYtAuD8889n4sSJHW5v1qxZLF68mLa2NgYMeCm8MG7cOI4/\n/nhmz57NunXrGDZsGNdccw1vetObOOqoo+ral3POOYfNmzfz5S9/mcmTJzNx4kQOPfRQhg4dyqpV\nq7jjjjtYsWLF1kcN1fvUFbDKzLft7IYiYgDwA4pg1Q+A92bmizW2tS4iHgVeExGja8xj9dpy+UBF\n3nLgRWD/iBhQYx6rWnUkSZIkSeo1TjzxRK6//nquvfZaXnjhBUaPHs20adOYMWMGY8aMeVn5008/\nnZtuuom77rqLBQsWsGnTJvbaay9OPvlkPvzhDzNp0qQOt/XYY49xwQUXMGPGDMaPH/+y9VdccQVD\nhw5l3rx5bNq0iWOPPZZLLrmkoTf/nXfeeZx00kl8+9vfZvHixVxzzTWsX7+ekSNH8sY3vpEZM2Zw\n2mmn1d2eepZ4+Q1Ou2AjEYMo7qg6Afh34H2ZuWU75f8deA/w/sz8XtW6i4ALgIsyc2ZF/m3AkcDR\nmbmw3vZqmTBhQi5btqze3ZMkSZIkNdGdd97JgQf6ji2pWR544AHuuece1qxZw/Tp0zssFxF3ZuaE\netrc5ZOulxOs30ARrPp/dBKsKl1ZLv81InavaGsscBawAagOPH2zXH4hInarqHMYcBqwGrh+x/ZC\nkiRJkiRJ3aXeOax2xpXAO4AngEeBz9a4BbAtM9vaP2Tmkoi4FPhn4DcRcR0wiCLwNBKYnpkrq9qY\nA5wMTAX+JyJuAl5d1ukPfCgzXz4DnSRJkiRJklpKdwSs2md12wP47HbKtVV+yMxPRcRvgLOBDwNb\ngLuAf8vMH1dXzsyMiDOAJcD7gekUE8XfBnwhM5fs5H5IkiRJkiSpG+zygFVmTt6JulcDVzdQfjNw\nWZkkSZIkSZLUA+3yOawkSZIkSZKkRhiwkiRJkiRJUksxYCVJkiRJkqSWYsBKkiRJktTjZWazuyD1\nSbtq7BmwkiRJkiT1aAMGDGDz5s3N7obUJ23evJktW7Z0ebsGrCRJkiRJPdqIESNYs2ZNs7sh9Ulr\n1qxh7dq1vPjiiwwaNKjL2jVgJUmSJEnq0UaNGsXTTz/NE088waZNm3w8UNrFMpNNmzbx5JNPsnr1\nalavXs3atWvZb7/9umwbA7qsJUmSJEmSmmC33XZj3LhxLF26lGHDhtG/f/9md0nq9bZs2cLatWtZ\nvXo1zzzzDJs3b2b8+PFd1r4BK0mSJElSjzd8+HAmTJjA/PnzeeSRR+jXr593Wkm7WESwZcsWhg8f\nzsknn8yoUaO6rG0DVpIkSZKkXmHEiBGceuqpPPfcczz33HO7ZCJoSdsaMmQII0eOJCK6tF0DVpIk\nSZKkXmXYsGEMGzas2d2QtBOcdF2SJEmSJEktxYCVJEmSJEmSWooBK0mSJEmSJLUUA1aSJEmSJEkt\n5itfgYULt81buLDI7wsMWEmSJEmSJLWYww6DU099KWi1cGHx+bDDmtuv7uJbAiVJkiRJklrMlClw\n7bVFkOqjH4VvfrP4PGVKs3vWPSIzm92HlhMRq4GHm92PLrIH8ESzOyH1AI4VqT6OFak+jhWpPo4V\nqVN/sQ/sNRpWPQ5/fKzZvdlJYzJzz3oKGrDq5SJiWWZOaHY/pFbnWJHq41iR6uNYkerjWJHq0xfH\ninNYSZIkSZIkqaUYsJIkSZIkSVJLMWDV+32r2R2QegjHilQfx4pUH8eKVB/HilSfPjdWnMNKkiRJ\nkiRJLcU7rCRJkiRJktRSDFhJkiRJkiSppRiw6oUiYt+I+G5EPBYRGyJiZUR8NSJ2b3bfpF2hPMez\ng/SnDupMioh5EfFURDwfEb+JiE9GRP/tbOe4iGiLiGcjYm1E/CIipu26PZN2TERMjYivR8TiiFhT\njoXZndTpljEREdMi4pdl+WfL+sft6L5KO6ORsRIRY7dzrcmImLOd7TR03kdE/3L8/SYiXijH5byI\nmNQV+y01IiJeHREfjIgbImJ5eU4+GxG3R8QHIqLmd0qvK+prGh0rXlc65xxWvUxEjAOWAHsBNwL3\nA28GpgC/A47IzCeb10Op60XESuBVwFdrrF6bmRdXlT8BuB5YD8wFngKOB14HXJeZp9TYxtnA14En\nyzobganAvsAlmXlOV+2PtLMi4lfAIcBa4BHgIOCazDyzg/LdMiYi4mLgU2WfrgMGAacDI4HpmXn5\nju+11LhGxkpEjAUeAn4N/LBGc/dk5nU16jV03kdEANdSjKffATeVZU8DdgPemZk3Nr630o6JiI8A\n3wQeBxYCfwD2Bk4GRlBcP07Jii+WXlfUFzU6Vryu1CEzTb0oAfOBpDhRK/MvLfOvbHYfTaauTsBK\nYGWdZYcDq4ANwISK/N0ogr0JnF5VZyzFL1xPAmMr8ncHlpd13tLs42AytSeKP1K8FghgcnmOzu6g\nbLeMCWBSmb8c2L2qrSfL9sbuzH6bTI2mBsfK2HL9rAbab/i8B84o69wB7FaRf1g5TlcBw5p97Ex9\nJwFHUwSb+lXlj6L4Qp4UX3jb872umPpk2oGx4nWlk+Qjgb1IROwPHEPx5f2KqtUzgXXAeyLild3c\nNamVTAX2BOZk5rL2zMxcD5xffvxoVZ33A4OByzNzZUWdp4EvlR8/sqs6LDUqMxdm5u+z/G2kE901\nJto/f7Es115nJcU1azDwvjr6K3WZBsfKjtiR8759vJ1fjsP2Oksp7jrZk2LcSt0iM2/NzJsyc0tV\n/p+AK8uPkytWeV1Rn7QDY2VH9KnrigGr3uXocvmzGoPkOYqI6iuAw7u7Y1I3GBwRZ0bEZyLiExEx\npYM5EtrHyU9rrLsNeB6YFBGD66xzc1UZqafprjHhOFJvsU9E/FN5vfmniBi/nbINnfflOJtEMe4W\n11NHarJN5XJzRZ7XFenlao2Vdl5XOjCg2R1Ql3pduXygg/W/p7gD60Dglm7pkdR9RgHfr8p7KCLe\nl5mLKvI6HCeZuTkiHgIOBvYH7qujzuMRsQ7YNyJekZnP78xOSE2wy8dEeWfvayjmlHu8Rh9+Xy4P\n3In9kLrL35Zpq4hoA6Zl5h8q8nbkvD8A6A88mJm1vtQ4VtQyImIA8N7yY+WXZ68rUoXtjJV2Xlc6\n4B1WvcuIcvlsB+vb81/VDX2RutP3gLdRBK1eCbwRuIriWe6bI+KQirI7Mk7qrTOig/VSK+uOMeH1\nSb3B88DngTdRzKuzO/BWiol1JwO3VE27sCvHlmNFreDLwBuAeZk5vyLf64q0rY7GiteVThiw6lui\nXPpqSPUqmfm58pnxP2fm85l5T2Z+hOJlA0OACxtobkfGiWNLvVl3jgnHkFpWZq7KzM9m5l2Z+UyZ\nbqO4e/0XFH/F/uCONN1AWa83agkR8XGKt5TdD7yn0erl0uuKer3tjRWvK50zYNW7dHaXx/CqclJv\n1z654VEVeTsyTuqts6ah3kmtoTvGRGflO/vrn9SyykcsvlN+bOR6U+u893c5tbyIOAv4GvBbYEpm\nPlVVxOuKRF1jpSavKy8xYNW7/K5cdvT86WvLZUdzXEm9zapyWXkrbYfjpHy+fD+KyRAfrLPO6LL9\nR5y/Sj3ULh8TmbkOeBQYWq6v5vVJPd3qcrn1erOD5/1y4EVg/3L81VNH6jYR8UngcuAeii/gf6pR\nzOuK+rw6x8r2eF3BgFVvs7BcHhMR2/zfRsQw4AjgBeDn3d0xqUneUi4rfyG6tVweW6P8URRv0lyS\nmRvqrPP2qjJST9NdY8JxpN6s/Q3MD1blN3Tel+NsCcW4O7KeOlJ3iYhzgcuAX1F8AV/VQVGvK+rT\nGhgr2+N1BSAzTb0oAfMpnj+dXpV/aZl/ZbP7aDJ1ZaJ4y8zIGvljKN56kcBnKvKHU/zFYgMwoSJ/\nN4of5gmcXtXWfsB64ElgbEX+7hR/tUjgLc0+FiZTrUQxaWcCsztY3y1jguKVylmu370if2zZzvrK\ntkym7k51jJWJwKAa+UeX528Ck6rWNXzeA2eUde4AdqvIP6wcp6uA4c0+Xqa+lYALyvNyWa3fu6rK\nel0x9dnU4FjxutJJirKj6iUiYhzFhWAv4EaKV8VOBKZQ3OY3KTOfbF4Ppa4VERcC51HcYfgQ8Bww\nDvh7il+M5gEnZebGijonAtdR/ECfAzwF/APFK5WvA07Nqh+OETEd+L8UF4K5wEZgKrAvcElmnrPL\ndlJqUHmOn1h+HAX8HcVf6BaXeU9UnrPdNSYi4hLgn4FHynYHAacBr6b4Q8vlO7vvUiMaGSvlK8YP\nBtoozmGA8RRfLAAuyMwv1NhGQ+d9RARwLcV4uh+4qSx7GsV17Z2ZeeNO7LbUkIiYBsyieKzo69Se\n62ZlZs6qqON1RX1Oo2PF60odmh0xM3V9Av4C+B7wOMUP+ocpJnvbboTXZOqJieLVr/9B8cP3GWAT\nxV/1FgDvhSIwX6PeERTBrKcpHpW9G5gB9N/Oto4HFlEExdYBS4FpzT4GJlN1ongzZm4nraxRp1vG\nBDCtLLeurLcIOK7Zx8zUN1MjYwX4APBjYCWwluKv0n+g+GJ9ZCfbaei8BwaU4+/ucjw+XY7PSV2x\n3yZTI6mOcZJAW416XldMfSo1Ola8rnSevMNKkiRJkiRJLcVJ1yVJkiRJktRSDFhJkiRJkiSppRiw\nkiRJkiRJUksxYCVJkiRJkqSWYsBKkiRJkiRJLcWAlSRJkiRJklqKAStJkiRJkiS1FANWkiSp14iI\nyRGREXFhs/tSj4i4sOxve7qy2X3qLhX7Pnkn27m86hhe2DU9lCRJzTSg2R2QJEmqV0SMBR4Crs7M\nf2xqZ7rW1cBKYFmT+9ETzQOeAMYC05rbFUmS1FUMWEmSpN7kl8DrKQIYPcmszGxrdid6osycB8wr\n79QyYCVJUi9hwEqSJPUamfk8cH+z+yFJkqSd4xxWkiSpRyjnJnqo/Ditat6ifyzL1JzDKiLayvyB\nEfHZiFgREesj4v6I+FBFuY9ExN0R8UJEPBIRn4uImr8vRcTEiLguIv4UERsj4o8RcVVE7NOF+7x3\nRFwcEb+LiHUR8Uz571kRsX9FuUERcXZEzIuIhyNiQ0Q8FRH/HRFv76DtlWUaGhGXlf1/ISJ+FREn\nlmUGRMRnIuL35fFaERFn12hr63GPiLeU2302Ip6LiPkRMaHB/T6o3Mc/lvvy54j4QUS8rtFjKEmS\neibvsJIkST1FG/Aq4BPAr4EfVqz7VZ1tzAEmUsx7tAmYCnwrIjYB4ykeKfsxcAvwD8BngeeB/1PZ\nSES8D/g2sAH4EfBH4LXAB4HjI+LwzPxDw3u47TZeAdwBjAMWADcBAYwBTgCuAx4si48EvgYsKcuu\nBkYDx1M8LvehzPxOjc0MLMuPBG4EBgFnANdHxDHAxyiO183lvp4CfD0iVmfm3BrtTQQ+Dfw3cAVw\nAHAycFREHJOZi+vY72OB/yr7dhOwHNi3bOfvI2JKZt7VWTuSJKlnM2AlSZJ6hMxsi4iVFAGrX2Xm\nhTvQzF8Cb8jMZwAi4hKKRwgvA54Bxmfmo+W6CymCJedExCWZubnMPxC4imKS9Le2ly/XHU0RAPoa\ncNIO9K/S2yiCVV/NzBmVKyJiEDC4IutpYExmPlJVbgRF0OsrEXFNZr5QtY19gLuAyZm5oazzfeA2\n4D+BFWx7vC6lOF7nAbUCVscC0zPz8oo+nEARXPxuRLwuM7d0tMMRsTvwHxRBwqMy87cV6w4GfgF8\nB/jrjtqQJEm9g48ESpKkvuS89uALQGY+CNxOcefW5yuDT2W5m4A9gNdUtPFRirt/PlFZvqxzK8Ud\nV8dHxLAu6nN1kInM3JiZz1V83lAdrCrznwW+C+wOHNZB+59sD1aVdRZTPHq5O3BujeN1B/DGiOhf\no63lwDeq+nAjsIjibqsjO9rJ0nsp/i9mVgarynbupbir7dCI+KtO2pEkST2cd1hJkqS+ZFmNvMfK\n5Z011rUHpPYFHi7//ZZy+daIqBUE2gvoDxzYQZv1WlRu/7yI+GuKxxjvoLi77MXqwuUdSP8CHEXx\nOOBuVUVeU10HeCYzV9TIfwzYj46PSX9gFC8dn3aLO7iDqg14K3BouV8daT+2h1TPQ1Y6sFy+Hvht\njfWSJKmXMGAlSZL6jPKOo2qby+X21g2syHt1ufyXTjY3tIGuvUxmromIw4HPUcyn9Xflqici4hvA\nFzJzE0BZ7laK3+1uobjLaw2wBfhfFHNeDeblau0zlPvdyfEaWGPdnzto70/lckQH69u1H9sPbbfU\nTh5bSZLU+gxYSZIkNaY9iDMiM9fsyg2Vj/l9ICIC+CvgaOAsisng+wEXlEXPB4YAUzKzrbKNiPg0\nRcCqO+zdQf6octlRgIyq9Ydk5m+6pkuSJKkncg4rSZLUk7Q/Cldr/qTu8vNy2dl8TF0mC/dm5teB\nvy2zT6wocgDwVHWwqvTWXd2/Cn8TEbV+v5xcLv+nk/rdfmwlSVJrMmAlSZJ6kqeBpHjbX7NcDmwC\nLivfGLiNiBgUETsdcImIN0TE2Bqr2u9ier4ibyUwMiLGV7XxAV56lLA7vBb4WFUfTqAImi0HFndS\n/3sUb2ucGRFvrl4ZEf0iYnLXdFWSJLUyHwmUJEk9RmaujYhfAEdGxDXAAxR3Xf2oux4hy8z7I+L9\nFG/fuzciflr2YyBFIO1IYDVw0E5u6n8Dl0bEEuB+YBXF5O8nUMxN9W8VZb9KEZi6PSKupXi0bgLw\nN8B1wNSd7Eu9fgpcEhFvB35NcefXycB64AMdTMi+VWY+GRFTgRuAn0fELcC9FPv7lxSTsr+al08o\nL0mSehkDVpIkqad5D3AZcCxwBhDAI0C3zXmUmbMj4tfAp4ApwDHAOoq3610HzO2CzcynCEQdRRGk\nGg48DiwALs3MJRX9+WlEHE8xl9VpFEG8X5Z925/uC1j9ArgI+DxwNsX/za3Av2bm0noayMxbyjvF\nzqEIwh0JbKQ4trcC1++CfkuSpBYTmdnsPkiSJPVJEXEhMJMak6X3JOVjeguBz2XmhX21D5Ikqes4\nh5UkSVLzLYyIjIgrm92RniYiLo+IpAhWSZKkXsJHAiVJkpqnrerzsmZ0ooebBzxR8bmtSf2QJEld\nyICVJElSk5SPAbY1uRs9WmbOowhaSZKkXsQ5rCRJkiRJktRSnMNKkiRJkiRJLcWAlSRJkiRJklqK\nAStJkiRJkiS1FANWkiRJkiRJaikGrCRJkiRJktRSDFhJkiRJkiSppfx/EgFzor1plDsAAAAASUVO\nRK5CYII=\n",
      "text/plain": [
       "<matplotlib.figure.Figure at 0x7f3b1dcb83c8>"
>>>>>>> 4b93a6aa1c938018a65db675609718c14664bb75
      ]
     },
     "metadata": {},
     "output_type": "display_data"
    }
   ],
   "source": [
    "my_label_size = 20\n",
    "label_size = 20\n",
    "plt.rcParams['xtick.labelsize'] = label_size \n",
    "plt.rcParams['ytick.labelsize'] = label_size \n",
    "\n",
    "#plotear estimacion, observaciones y datos totales\n",
    "fig=plt.figure(3, figsize=(20,6))\n",
    "ax = plt.gca()\n",
<<<<<<< HEAD
    "plt.fill_between(t, y_model-2*std_dev, y_model+2*std_dev, facecolor='blue', alpha=0.5, label='95% CI')\n",
    "plt.plot(t,y_model, c='b', linestyle='-', marker='x',lw=1,label='posterior mean')\n",
    "plt.plot(t,img_fft.real.reshape(-1), c='black', marker='.', linestyle='none',label='true signal')\n",
    "plt.plot(mask_vect_index,Vrobs,'red',ms=8, linestyle='none', marker='.', label='observations')\n",
=======
    "plt.fill_between(t, y_model-2*std_dev, y_model+2*std_dev, facecolor='blue', alpha=1, label='95% CI')\n",
    "plt.plot(t,img_fft.real.reshape(-1), color='black',ls='--',label='true signal')\n",
    "plt.plot(mask_vect_index,Vrobs,'red',ms=15, linestyle='none', marker='.', label='observations')\n",
    "plt.plot(t,y_model, c='b', linestyle='none', marker='x',lw=4,label='posterior mean')\n",
    "plt.ylim([np.min(y_model-2*std_dev), np.max(y_model+2*std_dev)])\n",
>>>>>>> 4b93a6aa1c938018a65db675609718c14664bb75
    "\n",
    "leg=plt.legend(ncol=1,frameon=True, shadow=True, loc=4, fontsize=my_label_size)\n",
    "frame  = leg.get_frame()\n",
    "frame.set_facecolor('0.95')\n",
    "plt.xlabel('time [sample]', fontsize=my_label_size)\n",
    "plt.title('Signal recovery using {}% of observations'.format(percent), fontsize=my_label_size)\n",
    "# plt.xlim([2400,2500])\n",
    "plt.xlim([100,200])"
   ]
  },
  {
   "cell_type": "code",
   "execution_count": 32,
   "metadata": {},
   "outputs": [
    {
     "data": {
      "text/plain": [
       "<matplotlib.image.AxesImage at 0x7f73f613a780>"
      ]
     },
     "execution_count": 32,
     "metadata": {},
     "output_type": "execute_result"
    },
    {
     "data": {
      "image/png": "iVBORw0KGgoAAAANSUhEUgAAAQsAAAEHCAYAAAC5l2MpAAAABHNCSVQICAgIfAhkiAAAAAlwSFlz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\nJE38f+xmwf6G5a3aAAAAAElFTkSuQmCC\n",
      "text/plain": [
       "<matplotlib.figure.Figure at 0x7f73cdf6f4e0>"
      ]
     },
     "metadata": {},
     "output_type": "display_data"
    }
   ],
   "source": [
    "I_fft_mod_real = y_model.reshape((IMAGE_SIZE_Y,IMAGE_SIZE_X))\n",
    "# I_fft_mod_real = img_fft.real\n",
    "# I_fft_mod_real = measurements.real\n",
    "\n",
    "I_fft_mod_imag = np.zeros_like(I_fft_mod_real)\n",
    "I_fft_mod = I_fft_mod_real + 1j*I_fft_mod_imag\n",
    "I_mod = np.fft.ifft2(I_fft_mod)\n",
    "plt.imshow(np.abs(I_mod))"
   ]
  },
  {
   "cell_type": "code",
   "execution_count": null,
   "metadata": {
    "collapsed": true
   },
   "outputs": [],
   "source": []
  },
  {
   "cell_type": "code",
   "execution_count": null,
   "metadata": {
    "collapsed": true
   },
   "outputs": [],
   "source": []
  }
 ],
 "metadata": {
  "kernelspec": {
   "display_name": "Python 3",
   "language": "python",
   "name": "python3"
  },
  "language_info": {
   "codemirror_mode": {
    "name": "ipython",
    "version": 3
   },
   "file_extension": ".py",
   "mimetype": "text/x-python",
   "name": "python",
   "nbconvert_exporter": "python",
   "pygments_lexer": "ipython3",
   "version": "3.6.3"
  }
 },
 "nbformat": 4,
 "nbformat_minor": 2
}
